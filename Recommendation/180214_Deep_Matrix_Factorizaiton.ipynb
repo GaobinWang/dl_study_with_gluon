{
 "cells": [
  {
   "cell_type": "markdown",
   "metadata": {},
   "source": [
    "---\n",
    "## **Matrix Factorization using Deep Network (Recommendation)**\n",
    "---"
   ]
  },
  {
   "cell_type": "markdown",
   "metadata": {
    "collapsed": true
   },
   "source": [
    "[Ref.]\n",
    "  - https://hackernoon.com/autoencoders-deep-learning-bits-1-11731e200694\n",
    "  - http://katbailey.github.io/post/matrix-factorization-with-tensorflow/\n",
    "  - https://www.oreilly.com/ideas/deep-matrix-factorization-using-apache-mxnet\n",
    "  - http://nicolas-hug.com/blog/matrix_facto_3\n",
    "\n",
    "<br/>\n",
    "\n",
    "### **1) Recommendation 방식**\n",
    "\n",
    "\n",
    "\n",
    "<br/>\n",
    "- 기본적인 Recommendation의 구조는 아래와 같이 1) 사용자(User) x 2) 아이템(Item) 간의 스코어 matrix 형태로 표현할 수 있음\n",
    "<br/>\n",
    "![recomm._mat](recomm._mat.png)\n",
    "<br/>\n",
    "- Recommendation을 하기 위해 사용자그룹의 기존(과거) 구매/평점기록 데이터를 활용함\n",
    "- 그러나 모든 사용자가 모든 아이템에 대한 구매/평점 기록이 없기에 전체 사용자 x 아이템으로 표현되는 Recommendation Matrix는 Sparse & Incomplete한 형태가 됨\n",
    "- 이 Incomplete Matrix의 Missing Values를 찾는 것이 Recommendation Algorithm의 목적\n",
    "- 크게 2가지 형태의 Recommendation Algorithm이 있음\n",
    "\n",
    "  **1) Collaborative Filtering (User-based or Item-based)**\n",
    "    - 협업필터링 방식으로 추천하고자 하는 대상과 가장 유사한 사용자그룹 혹은 아이템그룹의 유사도와 과거 구매/평점기록을 이용하여 추천하는 방식\n",
    "    - 그룹 간 유사도를 계산하는 방식으로 Cosine Similarity을 일반적으로 많이 이용함 \n",
    "    - Missing value에 대한 예측 시 (User or Item) Similairty와 기 존재하는 구매/평점기록값(구매 or 별점)과의 가중평균으로 계산 함\n",
    "    \n",
    "    (참조 : https://buildingrecommenders.wordpress.com/2015/11/18/overview-of-recommender-algorithms-part-2/)\n",
    "    - 1) User-Based CF\n",
    "        - 추천대상과 유사한 사용자 그룹을 파악하고, 해당 그룹이 많이 사용/구매한 아이템을 추천하는 방식\n",
    "        - 알고리즘 구현이 간단한 편이지만, 유저가 많아질 수록 연산이 복잡함 (nC2 경우의 수가 많아짐)\n",
    "    - 2) Item-Based CF\n",
    "        - 아이템간의 유사도 matrix를 기반으로, 특정 아이템을 추천하는 방식 (가중평균)\n",
    "        - User-Based CF에 비해 연산이 가벼운 편이지만, 개인 성향을 반영하기 어려움\n",
    "<br/>\n",
    "![CF_ex](CF_ex.png)\n",
    "<br/>\n",
    "\n",
    "  **2) Matrix Factorization**\n",
    "    - Sparse & Incomplete Recommendation을 2개 이상의 Low Rank Matrices로 Decomposition하는 방식\n",
    "    - Decomposition하는 2개의 Matrices는 추천대상(User) / 아이템(Item) Matrix로 나눠 짐\n",
    "    - 협업 필터링과 달리 사용자(User) / 아이템(Item)의 특성을 표현하는 Latent Factor (:= Embedding values)로 표현함\n",
    "    [Ex) 2 Dimension Latent Factor으로 표현한 예시]\n",
    "<br/>\n",
    "![mat_fact](mat_fact.png)\n",
    "<br/>\n",
    "    - Latent Factor로 표현된 2개의 Matrix의 Dot Product가 Recommendation Matrix의 추천 값이 되며, 이 값 중 과거 기록과의 차이를 최소화 하는 Latent Matrix를 찾는 것이 목적\n",
    "    - Performance Metric으로 RMSE를 주로 사용함\n",
    "    - 일반적으로 Latent Facotr의 Dimension은 User / Item의 Dimension보다 작은 값을 이용\n",
    "    - Matrix Factorization 방법으로 PCA / SVD 방법등이 있지만, Sparse & Incomplete Matrix이기에 Latent Matrices에 초기값을 주고 Iteration 마다 최적값을 찾아가는 Optimization 방법을 주로 이용\n",
    "    - 본 스터디에서는 Optimization 방법 중 Deep Learning Framework를 이용한 Vanila Matrix Factorization 방법과 Deep Matrix Facotrization 방법을 소개 함\n",
    "\n",
    " <br/>\n",
    "- **Deep Matrix Factorization의 장점**\n",
    "    - Flatten Layer를 사용하기 때문에 Embedding Layer의 Latent Dimension의 크기를 다르게 가져갈 수 있음 (Ex. User는 10차원, Item은 5차원)\n",
    "    - Vanilla Matrix Factorization은 User간 or Item간의 Inter-connection의 영향을 반영하기 어렵지만, Flatten으로 펼쳐서 학습하기 떄문에 User간, Item간, User-Item간의 Inter-connection을 학습할 수 있음\n",
    "    - Vanilla Matrix Factorization에서 불가능한 non-linear connections을 표현 가능\n",
    "    - Latent Factor를 표현하는 Embedding Layer를 2개 이상 할 수 있음 (Flatten 함수 써서)\n",
    "    - Dot Product가 없기에 학습속도가 훨씬 빠름\n",
    "\n",
    " <br/>"
   ]
  },
  {
   "cell_type": "code",
   "execution_count": 1,
   "metadata": {
    "ExecuteTime": {
     "end_time": "2018-02-14T01:18:29.420686Z",
     "start_time": "2018-02-14T01:18:27.774856Z"
    }
   },
   "outputs": [
    {
     "name": "stdout",
     "output_type": "stream",
     "text": [
      "Populating the interactive namespace from numpy and matplotlib\n"
     ]
    }
   ],
   "source": [
    "%pylab inline\n",
    "import mxnet as mx\n",
    "import pandas\n",
    "import seaborn; seaborn.set_style('whitegrid')\n",
    "import logging\n",
    "logger = logging.getLogger()\n",
    "logger.setLevel(logging.DEBUG)"
   ]
  },
  {
   "cell_type": "code",
   "execution_count": 2,
   "metadata": {
    "ExecuteTime": {
     "end_time": "2018-02-14T01:18:29.425880Z",
     "start_time": "2018-02-14T01:18:29.422160Z"
    },
    "collapsed": true
   },
   "outputs": [],
   "source": [
    "# Gluon module load\n",
    "import mxnet as mx\n",
    "import numpy as np\n",
    "from mxnet import nd, autograd, gluon\n",
    "from mxnet.gluon import nn\n",
    "\n",
    "ctx = mx.cpu()"
   ]
  },
  {
   "cell_type": "markdown",
   "metadata": {},
   "source": [
    "---\n",
    "### **1) Vanila Matrix Facotrization using synthetic data**\n",
    "---"
   ]
  },
  {
   "cell_type": "markdown",
   "metadata": {},
   "source": [
    "- 2개의 low rank latent matrix의 dot product로 예측하는 일반적인 Matrix Facotrization 방법\n",
    "- 2개의 latent matrix rank는 같음\n",
    "- rank <= input dimension"
   ]
  },
  {
   "cell_type": "code",
   "execution_count": 3,
   "metadata": {
    "ExecuteTime": {
     "end_time": "2018-02-14T01:18:29.888192Z",
     "start_time": "2018-02-14T01:18:29.427446Z"
    }
   },
   "outputs": [
    {
     "name": "stdout",
     "output_type": "stream",
     "text": [
      "Synthetic data set is generated. [row num : 35000]\n"
     ]
    },
    {
     "data": {
      "image/png": "[encoded data removed]",
      "text/plain": [
       "<matplotlib.figure.Figure at 0x117f47c50>"
      ]
     },
     "metadata": {},
     "output_type": "display_data"
    },
    {
     "name": "stdout",
     "output_type": "stream",
     "text": [
      "It appears to be a normal distribution that is centered around 0 with a variance of 1\n"
     ]
    }
   ],
   "source": [
    "## Generate random synthetic data set (250 users x 250 movies)\n",
    "X = numpy.random.randn(250, 250) # 250x250 = 62,500 complete data set (no missing values)\n",
    "\n",
    "# extract subset of data (Assume this is only given data)\n",
    "n = 35000\n",
    "i = numpy.random.randint(250, size=n) # Generate random row indexes\n",
    "j = numpy.random.randint(250, size=n) # Generate random column indexes\n",
    "X_values = X[i, j]\n",
    "print(\"Synthetic data set is generated. [row num : {}]\".format(X_values.shape[0]))\n",
    "\n",
    "# distribution of extracted values\n",
    "plt.title(\"Distribution of Data in Matrix\", fontsize=16)\n",
    "plt.ylabel(\"Count\", fontsize=14)\n",
    "plt.xlabel(\"Value\", fontsize=14)\n",
    "plt.hist(X_values, bins=100)\n",
    "plt.show()\n",
    "\n",
    "print('It appears to be a normal distribution that is centered around 0 with a variance of 1')"
   ]
  },
  {
   "cell_type": "code",
   "execution_count": 4,
   "metadata": {
    "ExecuteTime": {
     "end_time": "2018-02-14T01:18:29.901030Z",
     "start_time": "2018-02-14T01:18:29.890221Z"
    },
    "collapsed": true
   },
   "outputs": [],
   "source": [
    "## Make Vanila Matrix Factorization(MF) using Gluon hybrid-block \n",
    "class Vanilla_MF(gluon.HybridBlock):\n",
    "    def __init__(self, **kwargs):\n",
    "        super(Vanilla_MF, self).__init__(**kwargs)\n",
    "        with self.name_scope():\n",
    "            self.user = nn.Embedding(input_dim=250, output_dim=25) # Embedding Layer for Users (25 latent factors)\n",
    "            self.movie = nn.Embedding(input_dim=250, output_dim=25) # Embedding Layer for Movies (25 latent factors)\n",
    "#             self.dense = nn.Dense(1)\n",
    "            \n",
    "    def hybrid_forward(self, F, user_i, movie_i):\n",
    "        # Here `F` can be either mx.nd or mx.sym, x is the input data,\n",
    "        user_i = self.user(user_i)\n",
    "        movie_i = self.movie(movie_i)\n",
    "        z = F.sum(F.multiply(user_i, movie_i), axis = 1) # element-wise multiplication of users x movies and rowwise sum of result\n",
    "#         z = self.dense(z) # To add bias of user and movies, we made the 1 node dense-layer to make a resule of the linear regression form\n",
    "        return z"
   ]
  },
  {
   "cell_type": "code",
   "execution_count": 5,
   "metadata": {
    "ExecuteTime": {
     "end_time": "2018-02-14T01:18:29.913402Z",
     "start_time": "2018-02-14T01:18:29.904069Z"
    },
    "collapsed": true
   },
   "outputs": [],
   "source": [
    "# model initialization\n",
    "model = Vanilla_MF()\n",
    "model.collect_params().initialize(mx.init.Xavier(), ctx=ctx)\n",
    "\n",
    "learning_rate = 1e-4\n",
    "criterion = gluon.loss.L2Loss()\n",
    "optimizer = gluon.Trainer(model.collect_params(), 'adam',\n",
    "                          {'learning_rate': learning_rate,\n",
    "                           'wd': 1e-5})"
   ]
  },
  {
   "cell_type": "code",
   "execution_count": 6,
   "metadata": {
    "ExecuteTime": {
     "end_time": "2018-02-14T01:18:30.098603Z",
     "start_time": "2018-02-14T01:18:30.092219Z"
    }
   },
   "outputs": [
    {
     "name": "stdout",
     "output_type": "stream",
     "text": [
      "User embedding layer shape : (250, 25)\n",
      "\n",
      "Item embedding layer shape : (250, 25)\n",
      "\n",
      "25 Embedding latents factors of the first user : \n",
      "[ 0.08690061  0.11293826 -0.10049446  0.12735233 -0.03226358  0.10438174\n",
      "  0.12894627 -0.00171298  0.04623531 -0.14136802  0.01747404  0.06442726\n",
      "  0.05782974 -0.0706878  -0.11482002 -0.03529139 -0.03970727 -0.08992843\n",
      "  0.09868617  0.060701   -0.09062057 -0.02898844  0.10589617  0.02242789\n",
      " -0.11005463]\n"
     ]
    }
   ],
   "source": [
    "# Embedding layer latent factors\n",
    "user_latent_v = model.user.weight.data().asnumpy()\n",
    "print(\"User embedding layer shape : {}\\n\".format(user_latent_v.shape))\n",
    "item_latent_v = model.movie.weight.data().asnumpy()\n",
    "print(\"Item embedding layer shape : {}\\n\".format(item_latent_v.shape))\n",
    "\n",
    "print(\"25 Embedding latents factors of the first user : \\n{}\".format(user_latent_v[0]))"
   ]
  },
  {
   "cell_type": "code",
   "execution_count": 7,
   "metadata": {
    "ExecuteTime": {
     "end_time": "2018-02-14T01:18:30.894212Z",
     "start_time": "2018-02-14T01:18:30.885670Z"
    },
    "scrolled": true
   },
   "outputs": [
    {
     "name": "stdout",
     "output_type": "stream",
     "text": [
      "Dot product of 1th user and 2th movie : -0.0330\n",
      "Model result of 1th user and 2th movie : -0.0330\n"
     ]
    }
   ],
   "source": [
    "# User rating sample by dot product of user x item embedding matrix\n",
    "user_i = 1\n",
    "movie_i = 2\n",
    "\n",
    "# naive dot product example\n",
    "user_v = user_latent_v[user_i]\n",
    "movie_v = item_latent_v[movie_i]\n",
    "print(\"Dot product of {}th user and {}th movie : {:.4f}\".format(user_i, movie_i, np.dot(user_v,movie_v)))\n",
    "\n",
    "# dot product using gluon network \n",
    "user_n = mx.nd.array([user_i])\n",
    "item_n = mx.nd.array([movie_i])\n",
    "print(\"Model result of {}th user and {}th movie : {:.4f}\".format(user_i, movie_i, model(user_n, item_n).asnumpy()[0]))"
   ]
  },
  {
   "cell_type": "code",
   "execution_count": 8,
   "metadata": {
    "ExecuteTime": {
     "end_time": "2018-02-14T01:18:31.715761Z",
     "start_time": "2018-02-14T01:18:31.709796Z"
    },
    "code_folding": [
     5
    ],
    "collapsed": true
   },
   "outputs": [],
   "source": [
    "# Make batch input using gluon DataLoader\n",
    "batch_size = 10000\n",
    "X_train = gluon.data.DataLoader(gluon.data.ArrayDataset(i[:25000].astype('float32'), j[:25000].astype('float32'), X_values[:25000].astype('float32')),\n",
    "                                      batch_size=batch_size, shuffle=True)\n",
    "\n",
    "X_eval = gluon.data.DataLoader(gluon.data.ArrayDataset(i[25000:].astype('float32'), j[25000:].astype('float32'), X_values[25000:].astype('float32')),\n",
    "                                      batch_size=batch_size, shuffle=True)"
   ]
  },
  {
   "cell_type": "code",
   "execution_count": 30,
   "metadata": {
    "ExecuteTime": {
     "end_time": "2018-02-14T01:28:11.722117Z",
     "start_time": "2018-02-14T01:28:11.699048Z"
    },
    "collapsed": true
   },
   "outputs": [],
   "source": [
    "# Epoch Running Function\n",
    "def run_epoch(model, X_train, X_eval, num_epochs = 20):\n",
    "    for epoch in range(num_epochs):\n",
    "        running_loss = 0.0\n",
    "        val_loss = 0.0\n",
    "        n_total = 0.0\n",
    "\n",
    "        # for training\n",
    "        for user, movie, rating in X_train:\n",
    "            user = user.as_in_context(ctx)\n",
    "            movie = movie.as_in_context(ctx)\n",
    "            rating = rating.as_in_context(ctx)\n",
    "\n",
    "            with mx.autograd.record():\n",
    "                output = model(user, movie)\n",
    "                loss = criterion(output, rating)\n",
    "            loss.backward()\n",
    "            optimizer.step(user.shape[0])\n",
    "            running_loss += mx.nd.sum(loss).asscalar()\n",
    "            n_total += user.shape[0]\n",
    "\n",
    "        for val_user, val_movie, val_rating in X_eval:\n",
    "            val_user = val_user.as_in_context(ctx)\n",
    "            val_movie = val_movie.as_in_context(ctx)\n",
    "\n",
    "            with mx.autograd.record():\n",
    "                val_output = model(val_user, val_movie)\n",
    "                val_loss_tmp = criterion(val_output, val_rating)\n",
    "            val_loss += mx.nd.sum(val_loss_tmp).asscalar()\n",
    "\n",
    "        # ===================log========================\n",
    "        if num_epochs >= 100:\n",
    "            if epoch%10 == 0 or epoch == (num_epochs-1):\n",
    "                print('epoch [{}/{}], (rmse) loss:{:.4f}, (rmse) val_loss:{:.4f}'.format(epoch + 1, num_epochs, np.sqrt(running_loss / n_total), np.sqrt(val_loss / n_total)))\n",
    "        else:\n",
    "            print('epoch [{}/{}], (rmse) loss:{:.4f}, (rmse) val_loss:{:.4f}'.format(epoch + 1, num_epochs, np.sqrt(running_loss / n_total), np.sqrt(val_loss / n_total)))\n",
    "    return model"
   ]
  },
  {
   "cell_type": "code",
   "execution_count": 10,
   "metadata": {
    "ExecuteTime": {
     "end_time": "2018-02-14T01:18:37.744510Z",
     "start_time": "2018-02-14T01:18:33.749748Z"
    },
    "scrolled": true
   },
   "outputs": [
    {
     "name": "stdout",
     "output_type": "stream",
     "text": [
      "epoch [1/20], (rmse) loss:0.7017, (rmse) val_loss:0.4493\n",
      "epoch [2/20], (rmse) loss:0.7016, (rmse) val_loss:0.4493\n",
      "epoch [3/20], (rmse) loss:0.7015, (rmse) val_loss:0.4493\n",
      "epoch [4/20], (rmse) loss:0.7015, (rmse) val_loss:0.4493\n",
      "epoch [5/20], (rmse) loss:0.7014, (rmse) val_loss:0.4493\n",
      "epoch [6/20], (rmse) loss:0.7014, (rmse) val_loss:0.4493\n",
      "epoch [7/20], (rmse) loss:0.7013, (rmse) val_loss:0.4493\n",
      "epoch [8/20], (rmse) loss:0.7013, (rmse) val_loss:0.4492\n",
      "epoch [9/20], (rmse) loss:0.7012, (rmse) val_loss:0.4492\n",
      "epoch [10/20], (rmse) loss:0.7012, (rmse) val_loss:0.4492\n",
      "epoch [11/20], (rmse) loss:0.7011, (rmse) val_loss:0.4492\n",
      "epoch [12/20], (rmse) loss:0.7010, (rmse) val_loss:0.4492\n",
      "epoch [13/20], (rmse) loss:0.7010, (rmse) val_loss:0.4492\n",
      "epoch [14/20], (rmse) loss:0.7009, (rmse) val_loss:0.4492\n",
      "epoch [15/20], (rmse) loss:0.7009, (rmse) val_loss:0.4492\n",
      "epoch [16/20], (rmse) loss:0.7008, (rmse) val_loss:0.4492\n",
      "epoch [17/20], (rmse) loss:0.7008, (rmse) val_loss:0.4492\n",
      "epoch [18/20], (rmse) loss:0.7007, (rmse) val_loss:0.4491\n",
      "epoch [19/20], (rmse) loss:0.7007, (rmse) val_loss:0.4491\n",
      "epoch [20/20], (rmse) loss:0.7006, (rmse) val_loss:0.4491\n"
     ]
    }
   ],
   "source": [
    "## Model Running (Training)\n",
    "model = run_epoch(model, X_train, X_eval, num_epochs= 20)"
   ]
  },
  {
   "cell_type": "markdown",
   "metadata": {
    "collapsed": true
   },
   "source": [
    "#### Problem of the totally and randomly generated data set : no strong connections(dependencies) between two latent matrices\n",
    "- If there does not exist connections(dependencies) between two latent matrices, the performance of Vanilla MF does not seem to get increased well. \n",
    "- And this is because we generated the data using total random normal. \n",
    "- It is like  he \"movie watchers\" don't have any preferences, they just randomly like or don't like movies! It would be impossible to predict"
   ]
  },
  {
   "cell_type": "code",
   "execution_count": 11,
   "metadata": {
    "ExecuteTime": {
     "end_time": "2018-02-14T01:18:38.252343Z",
     "start_time": "2018-02-14T01:18:37.747622Z"
    }
   },
   "outputs": [
    {
     "name": "stdout",
     "output_type": "stream",
     "text": [
      "Synthetic data set is generated. [row num : 35000]\n"
     ]
    },
    {
     "data": {
      "image/png": "[encoded data removed]",
      "text/plain": [
       "<matplotlib.figure.Figure at 0x1182bea58>"
      ]
     },
     "metadata": {},
     "output_type": "display_data"
    },
    {
     "name": "stdout",
     "output_type": "stream",
     "text": [
      "It appears to be a normal distribution that is centered around 0 but lager variance than original synthetic data set\n"
     ]
    }
   ],
   "source": [
    "## Generate synthetic data set using two row rank latent matrix (randomly generated) \n",
    "### -> It essentially makes the connections between latents matrix\n",
    "a = numpy.random.normal(0, 1, size=(250, 25)) # Generate random numbers for the first skinny matrix\n",
    "b = numpy.random.normal(0, 1, size=(25, 250)) # Generate random numbers for the second skinny matrix\n",
    "\n",
    "X = a.dot(b) # Build our real data matrix from the dot product of the two skinny matrices\n",
    "\n",
    "n = 35000\n",
    "i = numpy.random.randint(250, size=n)\n",
    "j = numpy.random.randint(250, size=n)\n",
    "X_values = X[i, j]\n",
    "print(\"Synthetic data set is generated. [row num : {}]\".format(X_values.shape[0]))\n",
    "\n",
    "# distribution of extracted values\n",
    "plt.title(\"Distribution of Data in Matrix\", fontsize=16)\n",
    "plt.ylabel(\"Count\", fontsize=14)\n",
    "plt.xlabel(\"Value\", fontsize=14)\n",
    "plt.hist(X_values, bins=100)\n",
    "plt.show()\n",
    "\n",
    "print('It appears to be a normal distribution that is centered around 0 but lager variance than original synthetic data set')"
   ]
  },
  {
   "cell_type": "code",
   "execution_count": 12,
   "metadata": {
    "ExecuteTime": {
     "end_time": "2018-02-14T01:18:38.259722Z",
     "start_time": "2018-02-14T01:18:38.254729Z"
    },
    "collapsed": true
   },
   "outputs": [],
   "source": [
    "batch_size = 10000\n",
    "X_train = gluon.data.DataLoader(gluon.data.ArrayDataset(i[:25000].astype('float32'), j[:25000].astype('float32'), X_values[:25000].astype('float32')),\n",
    "                                      batch_size=batch_size, shuffle=True)\n",
    "\n",
    "X_eval = gluon.data.DataLoader(gluon.data.ArrayDataset(i[25000:].astype('float32'), j[25000:].astype('float32'), X_values[25000:].astype('float32')),\n",
    "                                      batch_size=batch_size, shuffle=True)"
   ]
  },
  {
   "cell_type": "code",
   "execution_count": 13,
   "metadata": {
    "ExecuteTime": {
     "end_time": "2018-02-14T01:18:38.268056Z",
     "start_time": "2018-02-14T01:18:38.261515Z"
    },
    "collapsed": true
   },
   "outputs": [],
   "source": [
    "# model initialization\n",
    "model = Vanilla_MF()\n",
    "model.collect_params().initialize(mx.init.Xavier(), ctx=ctx)\n",
    "\n",
    "learning_rate = 1e-4\n",
    "criterion = gluon.loss.L2Loss()\n",
    "optimizer = gluon.Trainer(model.collect_params(), 'adam',\n",
    "                          {'learning_rate': learning_rate,\n",
    "                           'wd': 1e-5})"
   ]
  },
  {
   "cell_type": "code",
   "execution_count": 14,
   "metadata": {
    "ExecuteTime": {
     "end_time": "2018-02-14T01:18:42.723681Z",
     "start_time": "2018-02-14T01:18:38.396874Z"
    }
   },
   "outputs": [
    {
     "name": "stdout",
     "output_type": "stream",
     "text": [
      "epoch [1/20], (rmse) loss:3.6142, (rmse) val_loss:2.2995\n",
      "epoch [2/20], (rmse) loss:3.6141, (rmse) val_loss:2.2995\n",
      "epoch [3/20], (rmse) loss:3.6140, (rmse) val_loss:2.2995\n",
      "epoch [4/20], (rmse) loss:3.6140, (rmse) val_loss:2.2994\n",
      "epoch [5/20], (rmse) loss:3.6139, (rmse) val_loss:2.2994\n",
      "epoch [6/20], (rmse) loss:3.6139, (rmse) val_loss:2.2994\n",
      "epoch [7/20], (rmse) loss:3.6138, (rmse) val_loss:2.2994\n",
      "epoch [8/20], (rmse) loss:3.6138, (rmse) val_loss:2.2994\n",
      "epoch [9/20], (rmse) loss:3.6137, (rmse) val_loss:2.2994\n",
      "epoch [10/20], (rmse) loss:3.6136, (rmse) val_loss:2.2994\n",
      "epoch [11/20], (rmse) loss:3.6136, (rmse) val_loss:2.2994\n",
      "epoch [12/20], (rmse) loss:3.6135, (rmse) val_loss:2.2994\n",
      "epoch [13/20], (rmse) loss:3.6135, (rmse) val_loss:2.2993\n",
      "epoch [14/20], (rmse) loss:3.6134, (rmse) val_loss:2.2993\n",
      "epoch [15/20], (rmse) loss:3.6134, (rmse) val_loss:2.2993\n",
      "epoch [16/20], (rmse) loss:3.6133, (rmse) val_loss:2.2993\n",
      "epoch [17/20], (rmse) loss:3.6133, (rmse) val_loss:2.2993\n",
      "epoch [18/20], (rmse) loss:3.6132, (rmse) val_loss:2.2993\n",
      "epoch [19/20], (rmse) loss:3.6132, (rmse) val_loss:2.2993\n",
      "epoch [20/20], (rmse) loss:3.6131, (rmse) val_loss:2.2993\n"
     ]
    }
   ],
   "source": [
    "## Model Running (Training)\n",
    "model = run_epoch(model, X_train, X_eval, num_epochs= 20)"
   ]
  },
  {
   "cell_type": "code",
   "execution_count": 15,
   "metadata": {
    "ExecuteTime": {
     "end_time": "2018-02-14T01:18:52.322689Z",
     "start_time": "2018-02-14T01:18:52.310141Z"
    },
    "collapsed": true
   },
   "outputs": [],
   "source": [
    "## Make Vanila Matrix Factorization(MF) using Gluon hybrid-block \n",
    "class Vanilla_MF_w_bias(gluon.HybridBlock):\n",
    "    def __init__(self, **kwargs):\n",
    "        super(Vanilla_MF_w_bias, self).__init__(**kwargs)\n",
    "        with self.name_scope():\n",
    "            self.user = nn.Embedding(input_dim=250, output_dim=25) # Embedding Layer for Users (25 latent factors)\n",
    "            self.movie = nn.Embedding(input_dim=250, output_dim=25) # Embedding Layer for Movies (25 latent factors)\n",
    "            self.dense = nn.Dense(1)\n",
    "            \n",
    "    def hybrid_forward(self, F, user_i, movie_i):\n",
    "        # Here `F` can be either mx.nd or mx.sym, x is the input data,\n",
    "        user_i = self.user(user_i)\n",
    "        movie_i = self.movie(movie_i)\n",
    "        z = F.sum(F.multiply(user_i, movie_i), axis = 1) # element-wise multiplication of users x movies and rowwise sum of result\n",
    "        z = self.dense(z) # To add bias of user and movies, we made the 1 node dense-layer to make a resule of the linear regression form\n",
    "        return z"
   ]
  },
  {
   "cell_type": "code",
   "execution_count": 16,
   "metadata": {
    "ExecuteTime": {
     "end_time": "2018-02-14T01:18:53.996716Z",
     "start_time": "2018-02-14T01:18:53.989247Z"
    },
    "collapsed": true
   },
   "outputs": [],
   "source": [
    "# model initialization\n",
    "model = Vanilla_MF_w_bias()\n",
    "model.collect_params().initialize(mx.init.Xavier(), ctx=ctx)\n",
    "\n",
    "learning_rate = 1e-4\n",
    "criterion = gluon.loss.L2Loss()\n",
    "optimizer = gluon.Trainer(model.collect_params(), 'adam',\n",
    "                          {'learning_rate': learning_rate,\n",
    "                           'wd': 1e-5})"
   ]
  },
  {
   "cell_type": "code",
   "execution_count": 28,
   "metadata": {
    "ExecuteTime": {
     "end_time": "2018-02-14T01:24:16.439857Z",
     "start_time": "2018-02-14T01:24:12.042482Z"
    }
   },
   "outputs": [
    {
     "name": "stdout",
     "output_type": "stream",
     "text": [
      "epoch [1/20], (rmse) loss:0.7291, (rmse) val_loss:1.8373\n",
      "epoch [2/20], (rmse) loss:0.7279, (rmse) val_loss:1.8396\n",
      "epoch [3/20], (rmse) loss:0.7245, (rmse) val_loss:1.8385\n",
      "epoch [4/20], (rmse) loss:0.7231, (rmse) val_loss:1.8416\n",
      "epoch [5/20], (rmse) loss:0.7252, (rmse) val_loss:1.8394\n",
      "epoch [6/20], (rmse) loss:0.7199, (rmse) val_loss:1.8370\n",
      "epoch [7/20], (rmse) loss:0.7197, (rmse) val_loss:1.8424\n",
      "epoch [8/20], (rmse) loss:0.7214, (rmse) val_loss:1.8384\n",
      "epoch [9/20], (rmse) loss:0.7174, (rmse) val_loss:1.8412\n",
      "epoch [10/20], (rmse) loss:0.7201, (rmse) val_loss:1.8428\n",
      "epoch [11/20], (rmse) loss:0.7193, (rmse) val_loss:1.8384\n",
      "epoch [12/20], (rmse) loss:0.7154, (rmse) val_loss:1.8400\n",
      "epoch [13/20], (rmse) loss:0.7157, (rmse) val_loss:1.8430\n",
      "epoch [14/20], (rmse) loss:0.7152, (rmse) val_loss:1.8422\n",
      "epoch [15/20], (rmse) loss:0.7176, (rmse) val_loss:1.8420\n",
      "epoch [16/20], (rmse) loss:0.7114, (rmse) val_loss:1.8422\n",
      "epoch [17/20], (rmse) loss:0.7131, (rmse) val_loss:1.8400\n",
      "epoch [18/20], (rmse) loss:0.7105, (rmse) val_loss:1.8431\n",
      "epoch [19/20], (rmse) loss:0.7097, (rmse) val_loss:1.8396\n",
      "epoch [20/20], (rmse) loss:0.7088, (rmse) val_loss:1.8424\n"
     ]
    }
   ],
   "source": [
    "## Model Running (Training)\n",
    "model = run_epoch(model, X_train, X_eval, num_epochs= 20)"
   ]
  },
  {
   "cell_type": "markdown",
   "metadata": {},
   "source": [
    "---\n",
    "### **2) Deep matrix Facotrization using synthetic data**\n",
    "---"
   ]
  },
  {
   "cell_type": "markdown",
   "metadata": {
    "ExecuteTime": {
     "end_time": "2018-02-08T07:24:16.068903Z",
     "start_time": "2018-02-08T07:24:16.064535Z"
    }
   },
   "source": [
    "- 기존 two latent matrix의 dot product 곱의 형태가 아닌 방식\n",
    "- Two latent layer(matrix)를 concat 후 Flatten하는 방식 사용\n",
    "- 이후 Regression 형태[0,1]의 결과값을 얻기 위해 Fully Connected Layer를 사용하여 Output 산출\n",
    "\n",
    "<br/>\n",
    "<img src=\"deep_mf.png\" width=\"700\">\n",
    "<br/>\n"
   ]
  },
  {
   "cell_type": "code",
   "execution_count": 24,
   "metadata": {
    "ExecuteTime": {
     "end_time": "2018-02-14T01:20:15.937844Z",
     "start_time": "2018-02-14T01:20:15.921785Z"
    },
    "collapsed": true
   },
   "outputs": [],
   "source": [
    "class Deep_MF(gluon.HybridBlock):\n",
    "    def __init__(self, **kwargs):\n",
    "        super(Deep_MF, self).__init__(**kwargs)\n",
    "        with self.name_scope():\n",
    "            # layers created in name_scope will inherit name space\n",
    "            # from parent layer.\n",
    "            self.user = nn.Embedding(input_dim=250, output_dim=25)\n",
    "            self.movie = nn.Embedding(input_dim=250, output_dim=25)\n",
    "            \n",
    "            \n",
    "            self.out = gluon.nn.HybridSequential('output_')\n",
    "            with self.out.name_scope(): # Output layers to make regression result\n",
    "                self.out.add(nn.Flatten())\n",
    "                self.out.add(nn.Dense(64, activation='relu'))\n",
    "                self.out.add(nn.Dense(1)) # the last output layer\n",
    "            \n",
    "    def hybrid_forward(self, F, user_i, movie_i):\n",
    "        # Here `F` can be either mx.nd or mx.sym, x is the input data,\n",
    "        user_i = self.user(user_i)\n",
    "        movie_i = self.movie(movie_i)\n",
    "        \n",
    "        z = F.concat(user_i, movie_i) # Two latent layer(matrix) concat\n",
    "        z = self.out(z) # concat output -> flatten -> dense layer(64 dim) -> output layer(1 dim)\n",
    "        return z"
   ]
  },
  {
   "cell_type": "code",
   "execution_count": 25,
   "metadata": {
    "ExecuteTime": {
     "end_time": "2018-02-14T01:20:16.386280Z",
     "start_time": "2018-02-14T01:20:16.377023Z"
    },
    "collapsed": true
   },
   "outputs": [],
   "source": [
    "# model initialization\n",
    "model = Deep_MF()\n",
    "model.collect_params().initialize(mx.init.Xavier(), ctx=ctx)\n",
    "\n",
    "learning_rate = 1e-2 # 기존 Vanilla 모형에 비해 running 속도가 빠름, 그러나 학습속도가 느리기에 learning_rate를 높임\n",
    "criterion = gluon.loss.L2Loss()\n",
    "optimizer = gluon.Trainer(model.collect_params(), 'adam',\n",
    "                          {'learning_rate': learning_rate,\n",
    "                           'wd': 1e-5})"
   ]
  },
  {
   "cell_type": "code",
   "execution_count": 31,
   "metadata": {
    "ExecuteTime": {
     "end_time": "2018-02-14T01:30:05.465499Z",
     "start_time": "2018-02-14T01:28:19.848999Z"
    },
    "scrolled": true
   },
   "outputs": [
    {
     "name": "stdout",
     "output_type": "stream",
     "text": [
      "epoch [1/500], (rmse) loss:0.6104, (rmse) val_loss:1.9029\n",
      "epoch [11/500], (rmse) loss:0.6119, (rmse) val_loss:1.9039\n",
      "epoch [21/500], (rmse) loss:0.6064, (rmse) val_loss:1.9059\n",
      "epoch [31/500], (rmse) loss:0.6101, (rmse) val_loss:1.9073\n",
      "epoch [41/500], (rmse) loss:0.6179, (rmse) val_loss:1.9057\n",
      "epoch [51/500], (rmse) loss:0.6118, (rmse) val_loss:1.9080\n",
      "epoch [61/500], (rmse) loss:0.6119, (rmse) val_loss:1.9068\n",
      "epoch [71/500], (rmse) loss:0.6083, (rmse) val_loss:1.9103\n",
      "epoch [81/500], (rmse) loss:0.6012, (rmse) val_loss:1.9085\n",
      "epoch [91/500], (rmse) loss:0.6021, (rmse) val_loss:1.9115\n",
      "epoch [101/500], (rmse) loss:0.5995, (rmse) val_loss:1.9113\n",
      "epoch [111/500], (rmse) loss:0.6022, (rmse) val_loss:1.9133\n",
      "epoch [121/500], (rmse) loss:0.6109, (rmse) val_loss:1.9173\n",
      "epoch [131/500], (rmse) loss:0.5984, (rmse) val_loss:1.9156\n",
      "epoch [141/500], (rmse) loss:0.6017, (rmse) val_loss:1.9154\n",
      "epoch [151/500], (rmse) loss:0.6015, (rmse) val_loss:1.9186\n",
      "epoch [161/500], (rmse) loss:0.6031, (rmse) val_loss:1.9207\n",
      "epoch [171/500], (rmse) loss:0.5982, (rmse) val_loss:1.9162\n",
      "epoch [181/500], (rmse) loss:0.5957, (rmse) val_loss:1.9178\n",
      "epoch [191/500], (rmse) loss:0.5940, (rmse) val_loss:1.9143\n",
      "epoch [201/500], (rmse) loss:0.5948, (rmse) val_loss:1.9188\n",
      "epoch [211/500], (rmse) loss:0.5924, (rmse) val_loss:1.9196\n",
      "epoch [221/500], (rmse) loss:0.5917, (rmse) val_loss:1.9180\n",
      "epoch [231/500], (rmse) loss:0.5923, (rmse) val_loss:1.9150\n",
      "epoch [241/500], (rmse) loss:0.5872, (rmse) val_loss:1.9161\n",
      "epoch [251/500], (rmse) loss:0.5899, (rmse) val_loss:1.9168\n",
      "epoch [261/500], (rmse) loss:0.5870, (rmse) val_loss:1.9181\n",
      "epoch [271/500], (rmse) loss:0.5966, (rmse) val_loss:1.9192\n",
      "epoch [281/500], (rmse) loss:0.5913, (rmse) val_loss:1.9199\n",
      "epoch [291/500], (rmse) loss:0.5862, (rmse) val_loss:1.9199\n",
      "epoch [301/500], (rmse) loss:0.5866, (rmse) val_loss:1.9225\n",
      "epoch [311/500], (rmse) loss:0.5817, (rmse) val_loss:1.9229\n",
      "epoch [321/500], (rmse) loss:0.5889, (rmse) val_loss:1.9247\n",
      "epoch [331/500], (rmse) loss:0.5845, (rmse) val_loss:1.9250\n",
      "epoch [341/500], (rmse) loss:0.5814, (rmse) val_loss:1.9260\n",
      "epoch [351/500], (rmse) loss:0.5865, (rmse) val_loss:1.9261\n",
      "epoch [361/500], (rmse) loss:0.5852, (rmse) val_loss:1.9283\n",
      "epoch [371/500], (rmse) loss:0.5811, (rmse) val_loss:1.9285\n",
      "epoch [381/500], (rmse) loss:0.5789, (rmse) val_loss:1.9291\n",
      "epoch [391/500], (rmse) loss:0.5786, (rmse) val_loss:1.9303\n",
      "epoch [401/500], (rmse) loss:0.5794, (rmse) val_loss:1.9352\n",
      "epoch [411/500], (rmse) loss:0.5776, (rmse) val_loss:1.9351\n",
      "epoch [421/500], (rmse) loss:0.5836, (rmse) val_loss:1.9376\n",
      "epoch [431/500], (rmse) loss:0.5767, (rmse) val_loss:1.9334\n",
      "epoch [441/500], (rmse) loss:0.5736, (rmse) val_loss:1.9376\n",
      "epoch [451/500], (rmse) loss:0.5734, (rmse) val_loss:1.9398\n",
      "epoch [461/500], (rmse) loss:0.5796, (rmse) val_loss:1.9427\n",
      "epoch [471/500], (rmse) loss:0.5881, (rmse) val_loss:1.9432\n",
      "epoch [481/500], (rmse) loss:0.5750, (rmse) val_loss:1.9379\n",
      "epoch [491/500], (rmse) loss:0.5722, (rmse) val_loss:1.9382\n",
      "epoch [500/500], (rmse) loss:0.5752, (rmse) val_loss:1.9402\n"
     ]
    }
   ],
   "source": [
    "## Model Running (Training)\n",
    "model = run_epoch(model, X_train, X_eval, num_epochs= 500)"
   ]
  },
  {
   "cell_type": "markdown",
   "metadata": {
    "collapsed": true
   },
   "source": [
    "- We can see that while the neural network is clearly training due to the validation mse decreasing after each epoch, it is not decreasing as quickly as normal matrix factorization."
   ]
  },
  {
   "cell_type": "markdown",
   "metadata": {},
   "source": [
    "---\n",
    "## Movielens 0.1M\n",
    "---"
   ]
  },
  {
   "cell_type": "markdown",
   "metadata": {},
   "source": [
    "- Randomly Generated Data가 아닌 실제 데이터를 활용함\n",
    "- Recommendation계의 MNIST 데이터로 Movielnes Data Set을 활용\n",
    "\n",
    "(참고 : https://grouplens.org/datasets/movielens/)"
   ]
  },
  {
   "cell_type": "code",
   "execution_count": 40,
   "metadata": {
    "ExecuteTime": {
     "end_time": "2018-02-14T01:44:41.933910Z",
     "start_time": "2018-02-14T01:44:41.929053Z"
    }
   },
   "outputs": [
    {
     "data": {
      "text/plain": [
       "'/Users/Juyeong/Documents/gluon_study/Recommendation'"
      ]
     },
     "execution_count": 40,
     "metadata": {},
     "output_type": "execute_result"
    }
   ],
   "source": [
    "import os\n",
    "import zipfile\n",
    "import pandas as pd\n",
    "\n",
    "os.getcwd()"
   ]
  },
  {
   "cell_type": "code",
   "execution_count": 41,
   "metadata": {
    "ExecuteTime": {
     "end_time": "2018-02-14T01:44:42.468892Z",
     "start_time": "2018-02-14T01:44:42.360554Z"
    }
   },
   "outputs": [
    {
     "data": {
      "text/plain": [
       "100004"
      ]
     },
     "execution_count": 41,
     "metadata": {},
     "output_type": "execute_result"
    }
   ],
   "source": [
    "# Now extract the data since we know we have it at this point\n",
    "with zipfile.ZipFile(\"ml-latest-small.zip\", \"r\") as f:\n",
    "    f.extractall(\"./\")\n",
    "\n",
    "# Now load it up using a pandas dataframe\n",
    "data = pandas.read_csv('./ml-latest-small/ratings.csv', sep=',', usecols=(0, 1, 2))\n",
    "data.head()\n",
    "# ratings from 0.5 to 5. by 0.5 inc\n",
    "len(data)\n",
    "\n",
    "#Since only ~20M of these are present, ~99.5% of the matrix is missing"
   ]
  },
  {
   "cell_type": "code",
   "execution_count": 42,
   "metadata": {
    "ExecuteTime": {
     "end_time": "2018-02-14T01:44:42.780376Z",
     "start_time": "2018-02-14T01:44:42.775139Z"
    }
   },
   "outputs": [
    {
     "name": "stdout",
     "output_type": "stream",
     "text": [
      "Min value of rating : 0.5\n",
      "Max value of rating : 5.0\n"
     ]
    }
   ],
   "source": [
    "print(\"Min value of rating : {}\".format(data.rating.min(axis=0)))\n",
    "print(\"Max value of rating : {}\".format(data.rating.max(axis=0)))"
   ]
  },
  {
   "cell_type": "code",
   "execution_count": 43,
   "metadata": {
    "ExecuteTime": {
     "end_time": "2018-02-14T01:44:45.218846Z",
     "start_time": "2018-02-14T01:44:45.000889Z"
    }
   },
   "outputs": [
    {
     "data": {
      "image/png": "[encoded data removed]",
      "text/plain": [
       "<matplotlib.figure.Figure at 0x118c912b0>"
      ]
     },
     "metadata": {},
     "output_type": "display_data"
    }
   ],
   "source": [
    "plt.hist(data['rating'])\n",
    "plt.xlabel(\"Rating\", fontsize=14)\n",
    "plt.ylabel(\"Count\", fontsize=14)\n",
    "plt.title(\"Distribution of Ratings in MovieLens 0.1M\", fontsize=14)\n",
    "plt.show()"
   ]
  },
  {
   "cell_type": "code",
   "execution_count": 47,
   "metadata": {
    "ExecuteTime": {
     "end_time": "2018-02-14T01:46:34.125273Z",
     "start_time": "2018-02-14T01:46:34.117226Z"
    }
   },
   "outputs": [
    {
     "data": {
      "text/html": [
       "<div>\n",
       "<table border=\"1\" class=\"dataframe\">\n",
       "  <thead>\n",
       "    <tr style=\"text-align: right;\">\n",
       "      <th></th>\n",
       "      <th>userId</th>\n",
       "      <th>movieId</th>\n",
       "      <th>rating</th>\n",
       "    </tr>\n",
       "  </thead>\n",
       "  <tbody>\n",
       "    <tr>\n",
       "      <th>0</th>\n",
       "      <td>1</td>\n",
       "      <td>31</td>\n",
       "      <td>2.5</td>\n",
       "    </tr>\n",
       "    <tr>\n",
       "      <th>1</th>\n",
       "      <td>1</td>\n",
       "      <td>1029</td>\n",
       "      <td>3.0</td>\n",
       "    </tr>\n",
       "    <tr>\n",
       "      <th>2</th>\n",
       "      <td>1</td>\n",
       "      <td>1061</td>\n",
       "      <td>3.0</td>\n",
       "    </tr>\n",
       "    <tr>\n",
       "      <th>3</th>\n",
       "      <td>1</td>\n",
       "      <td>1129</td>\n",
       "      <td>2.0</td>\n",
       "    </tr>\n",
       "    <tr>\n",
       "      <th>4</th>\n",
       "      <td>1</td>\n",
       "      <td>1172</td>\n",
       "      <td>4.0</td>\n",
       "    </tr>\n",
       "  </tbody>\n",
       "</table>\n",
       "</div>"
      ],
      "text/plain": [
       "   userId  movieId  rating\n",
       "0       1       31     2.5\n",
       "1       1     1029     3.0\n",
       "2       1     1061     3.0\n",
       "3       1     1129     2.0\n",
       "4       1     1172     4.0"
      ]
     },
     "execution_count": 47,
     "metadata": {},
     "output_type": "execute_result"
    }
   ],
   "source": [
    "data.head()"
   ]
  },
  {
   "cell_type": "code",
   "execution_count": 48,
   "metadata": {
    "ExecuteTime": {
     "end_time": "2018-02-14T01:46:34.592315Z",
     "start_time": "2018-02-14T01:46:34.364089Z"
    }
   },
   "outputs": [
    {
     "data": {
      "image/png": "[encoded data removed]",
      "text/plain": [
       "<matplotlib.figure.Figure at 0x118546cc0>"
      ]
     },
     "metadata": {},
     "output_type": "display_data"
    }
   ],
   "source": [
    "plt.hist(data['rating'])\n",
    "plt.xlabel(\"Rating\", fontsize=14)\n",
    "plt.ylabel(\"Count\", fontsize=14)\n",
    "plt.title(\"Distribution of Ratings in MovieLens 0.1M\", fontsize=14)\n",
    "plt.show()"
   ]
  },
  {
   "cell_type": "code",
   "execution_count": 49,
   "metadata": {
    "ExecuteTime": {
     "end_time": "2018-02-14T01:46:34.693020Z",
     "start_time": "2018-02-14T01:46:34.676447Z"
    }
   },
   "outputs": [
    {
     "name": "stdout",
     "output_type": "stream",
     "text": [
      "user id min/max:  1 671\n",
      "# unique users:  671\n",
      "\n",
      "movie id min/max:  1 163949\n",
      "# unique movies:  9066\n"
     ]
    }
   ],
   "source": [
    "print(\"user id min/max: \", data['userId'].min(), data['userId'].max())\n",
    "print(\"# unique users: \", numpy.unique(data['userId']).shape[0])\n",
    "print(\"\")\n",
    "print(\"movie id min/max: \", data['movieId'].min(), data['movieId'].max())\n",
    "print(\"# unique movies: \", numpy.unique(data['movieId']).shape[0])"
   ]
  },
  {
   "cell_type": "code",
   "execution_count": 50,
   "metadata": {
    "ExecuteTime": {
     "end_time": "2018-02-14T01:46:35.004995Z",
     "start_time": "2018-02-14T01:46:34.995775Z"
    }
   },
   "outputs": [
    {
     "data": {
      "text/html": [
       "<div>\n",
       "<table border=\"1\" class=\"dataframe\">\n",
       "  <thead>\n",
       "    <tr style=\"text-align: right;\">\n",
       "      <th></th>\n",
       "      <th>userId</th>\n",
       "      <th>movieId</th>\n",
       "      <th>rating</th>\n",
       "    </tr>\n",
       "  </thead>\n",
       "  <tbody>\n",
       "    <tr>\n",
       "      <th>0</th>\n",
       "      <td>1</td>\n",
       "      <td>31</td>\n",
       "      <td>2.5</td>\n",
       "    </tr>\n",
       "    <tr>\n",
       "      <th>1</th>\n",
       "      <td>1</td>\n",
       "      <td>1029</td>\n",
       "      <td>3.0</td>\n",
       "    </tr>\n",
       "    <tr>\n",
       "      <th>2</th>\n",
       "      <td>1</td>\n",
       "      <td>1061</td>\n",
       "      <td>3.0</td>\n",
       "    </tr>\n",
       "    <tr>\n",
       "      <th>3</th>\n",
       "      <td>1</td>\n",
       "      <td>1129</td>\n",
       "      <td>2.0</td>\n",
       "    </tr>\n",
       "    <tr>\n",
       "      <th>4</th>\n",
       "      <td>1</td>\n",
       "      <td>1172</td>\n",
       "      <td>4.0</td>\n",
       "    </tr>\n",
       "  </tbody>\n",
       "</table>\n",
       "</div>"
      ],
      "text/plain": [
       "   userId  movieId  rating\n",
       "0       1       31     2.5\n",
       "1       1     1029     3.0\n",
       "2       1     1061     3.0\n",
       "3       1     1129     2.0\n",
       "4       1     1172     4.0"
      ]
     },
     "execution_count": 50,
     "metadata": {},
     "output_type": "execute_result"
    }
   ],
   "source": [
    "data.head()"
   ]
  },
  {
   "cell_type": "code",
   "execution_count": 51,
   "metadata": {
    "ExecuteTime": {
     "end_time": "2018-02-14T01:46:35.463776Z",
     "start_time": "2018-02-14T01:46:35.438820Z"
    }
   },
   "outputs": [
    {
     "name": "stdout",
     "output_type": "stream",
     "text": [
      "      movieId_ind  movieId\n",
      "9061         9061   161944\n",
      "9062         9062   162376\n",
      "9063         9063   162542\n",
      "9064         9064   162672\n",
      "9065         9065   163949\n",
      "     userId_ind  userId\n",
      "666         666     667\n",
      "667         667     668\n",
      "668         668     669\n",
      "669         669     670\n",
      "670         670     671\n"
     ]
    }
   ],
   "source": [
    "## 불필요한 movie ID를 제거하고, mapping table 생성(0번부터)\n",
    "# Movie ID mapping 자료 생성\n",
    "unique_movie_id = pd.DataFrame(data['movieId'].unique(), columns=['movieId']).sort_values(by = ['movieId']).reset_index(drop=True)\n",
    "movie_ind = pd.DataFrame(np.arange(0,numpy.unique(data['movieId']).shape[0]), columns=['movieId_ind'])\n",
    "movie_ind_map = pd.concat([movie_ind, unique_movie_id], axis = 1)\n",
    "print(movie_ind_map.tail())\n",
    "\n",
    "# User ID mapping 자료 생성\n",
    "unique_user_id = pd.DataFrame(data['userId'].unique(), columns=['userId']).sort_values(by = ['userId']).reset_index(drop=True)\n",
    "user_ind = pd.DataFrame(np.arange(0,numpy.unique(data['userId']).shape[0]), columns=['userId_ind'])\n",
    "user_ind_map = pd.concat([user_ind, unique_user_id], axis = 1)\n",
    "print(user_ind_map.tail())"
   ]
  },
  {
   "cell_type": "code",
   "execution_count": 52,
   "metadata": {
    "ExecuteTime": {
     "end_time": "2018-02-14T01:46:36.193874Z",
     "start_time": "2018-02-14T01:46:36.159802Z"
    }
   },
   "outputs": [
    {
     "name": "stdout",
     "output_type": "stream",
     "text": [
      "   userId  movieId  rating  userId_ind  movieId_ind\n",
      "0       1       31     2.5           0           30\n",
      "1       7       31     3.0           6           30\n",
      "2      31       31     4.0          30           30\n",
      "3      32       31     4.0          31           30\n",
      "4      36       31     3.0          35           30\n"
     ]
    }
   ],
   "source": [
    "## 원 데이터에 mapping index 추가\n",
    "data_map = pd.merge(data, user_ind_map, on = 'userId')\n",
    "data_map = pd.merge(data_map, movie_ind_map, on = 'movieId')\n",
    "print(data_map.head())"
   ]
  },
  {
   "cell_type": "code",
   "execution_count": 53,
   "metadata": {
    "ExecuteTime": {
     "end_time": "2018-02-14T01:46:36.839141Z",
     "start_time": "2018-02-14T01:46:36.829167Z"
    },
    "collapsed": true
   },
   "outputs": [],
   "source": [
    "# find the size of embeddling layers input\n",
    "n_users, n_movies = numpy.unique(data_map['userId']).shape[0], numpy.unique(data_map['movieId']).shape[0]\n",
    "batch_size = 15000"
   ]
  },
  {
   "cell_type": "code",
   "execution_count": 54,
   "metadata": {
    "ExecuteTime": {
     "end_time": "2018-02-14T01:46:37.262113Z",
     "start_time": "2018-02-14T01:46:37.236385Z"
    },
    "collapsed": true
   },
   "outputs": [],
   "source": [
    "# Train & Validation Set 생성\n",
    "n = 90000\n",
    "\n",
    "data_map = data_map.sample(frac=1).reset_index(drop=True) # Shuffle the data in place row-wise\n",
    "\n",
    "#  train the model\n",
    "train_users = data_map['userId_ind'].values[:n]\n",
    "train_movies = data_map['movieId_ind'].values[:n]\n",
    "train_ratings = data_map['rating'].values[:n]\n",
    "\n",
    "# validation of the model\n",
    "valid_users = data_map['userId_ind'].values[n:]\n",
    "valid_movies = data_map['movieId_ind'].values[n:]\n",
    "valid_ratings = data_map['rating'].values[n:]"
   ]
  },
  {
   "cell_type": "code",
   "execution_count": 55,
   "metadata": {
    "ExecuteTime": {
     "end_time": "2018-02-14T01:46:37.836920Z",
     "start_time": "2018-02-14T01:46:37.830844Z"
    },
    "collapsed": true
   },
   "outputs": [],
   "source": [
    "X_train = gluon.data.DataLoader(gluon.data.ArrayDataset(train_users.astype('float32'), train_movies.astype('float32'), train_ratings.astype('float32')),\n",
    "                                      batch_size=batch_size, shuffle=True)\n",
    "\n",
    "X_eval = gluon.data.DataLoader(gluon.data.ArrayDataset(valid_users.astype('float32'), valid_movies.astype('float32'), valid_ratings.astype('float32')),\n",
    "                                      batch_size=batch_size, shuffle=True)"
   ]
  },
  {
   "cell_type": "code",
   "execution_count": 79,
   "metadata": {
    "ExecuteTime": {
     "end_time": "2018-02-14T02:10:39.435578Z",
     "start_time": "2018-02-14T02:10:39.423174Z"
    },
    "collapsed": true
   },
   "outputs": [],
   "source": [
    "class Vanilla_MF_ml(gluon.HybridBlock):\n",
    "    def __init__(self, **kwargs):\n",
    "        super(Vanilla_MF_ml, self).__init__(**kwargs)\n",
    "        with self.name_scope():\n",
    "            # layers created in name_scope will inherit name space\n",
    "            # from parent layer.\n",
    "            self.user = nn.Embedding(input_dim=n_users, output_dim=25)\n",
    "            self.movie = nn.Embedding(input_dim=n_movies, output_dim=25)\n",
    "            self.flat = nn.Flatten()\n",
    "            self.dense = nn.Dense(1)\n",
    "            \n",
    "    def hybrid_forward(self, F, user_i, movie_i):\n",
    "        # Here `F` can be either mx.nd or mx.sym, x is the input data,\n",
    "        user_i = self.user(user_i)\n",
    "        movie_i = self.movie(movie_i)\n",
    "        z = F.sum(F.multiply(user_i, movie_i), axis = 1)\n",
    "        z = self.flat(z)\n",
    "        z = self.dense(z)\n",
    "        return z"
   ]
  },
  {
   "cell_type": "code",
   "execution_count": 80,
   "metadata": {
    "ExecuteTime": {
     "end_time": "2018-02-14T02:10:39.444497Z",
     "start_time": "2018-02-14T02:10:39.437168Z"
    },
    "collapsed": true
   },
   "outputs": [],
   "source": [
    "# model initialization\n",
    "model = Vanilla_MF_ml()\n",
    "model.collect_params().initialize(mx.init.Xavier(), ctx=ctx)\n",
    "\n",
    "\n",
    "learning_rate = 1e-4\n",
    "criterion = gluon.loss.L2Loss()\n",
    "optimizer = gluon.Trainer(model.collect_params(), 'adam',\n",
    "                          {'learning_rate': learning_rate,\n",
    "                           'wd': 1e-5})"
   ]
  },
  {
   "cell_type": "code",
   "execution_count": 81,
   "metadata": {
    "ExecuteTime": {
     "end_time": "2018-02-14T02:10:52.989583Z",
     "start_time": "2018-02-14T02:10:39.446275Z"
    }
   },
   "outputs": [
    {
     "name": "stdout",
     "output_type": "stream",
     "text": [
      "epoch [1/20], (rmse) loss:2.6158, (rmse) val_loss:0.8690\n",
      "epoch [2/20], (rmse) loss:2.6153, (rmse) val_loss:0.8689\n",
      "epoch [3/20], (rmse) loss:2.6148, (rmse) val_loss:0.8687\n",
      "epoch [4/20], (rmse) loss:2.6143, (rmse) val_loss:0.8686\n",
      "epoch [5/20], (rmse) loss:2.6138, (rmse) val_loss:0.8685\n",
      "epoch [6/20], (rmse) loss:2.6133, (rmse) val_loss:0.8683\n",
      "epoch [7/20], (rmse) loss:2.6128, (rmse) val_loss:0.8682\n",
      "epoch [8/20], (rmse) loss:2.6123, (rmse) val_loss:0.8681\n",
      "epoch [9/20], (rmse) loss:2.6118, (rmse) val_loss:0.8679\n",
      "epoch [10/20], (rmse) loss:2.6113, (rmse) val_loss:0.8678\n",
      "epoch [11/20], (rmse) loss:2.6108, (rmse) val_loss:0.8676\n",
      "epoch [12/20], (rmse) loss:2.6103, (rmse) val_loss:0.8675\n",
      "epoch [13/20], (rmse) loss:2.6098, (rmse) val_loss:0.8674\n",
      "epoch [14/20], (rmse) loss:2.6093, (rmse) val_loss:0.8672\n",
      "epoch [15/20], (rmse) loss:2.6088, (rmse) val_loss:0.8671\n",
      "epoch [16/20], (rmse) loss:2.6082, (rmse) val_loss:0.8669\n",
      "epoch [17/20], (rmse) loss:2.6077, (rmse) val_loss:0.8668\n",
      "epoch [18/20], (rmse) loss:2.6072, (rmse) val_loss:0.8666\n",
      "epoch [19/20], (rmse) loss:2.6067, (rmse) val_loss:0.8665\n",
      "epoch [20/20], (rmse) loss:2.6061, (rmse) val_loss:0.8663\n"
     ]
    }
   ],
   "source": [
    "## Model Running (Training)\n",
    "model = run_epoch(model, X_train, X_eval, num_epochs= 20)"
   ]
  },
  {
   "cell_type": "code",
   "execution_count": 82,
   "metadata": {
    "ExecuteTime": {
     "end_time": "2018-02-14T02:10:53.012260Z",
     "start_time": "2018-02-14T02:10:52.991708Z"
    },
    "collapsed": true
   },
   "outputs": [],
   "source": [
    "class Deep_MF_ml(gluon.HybridBlock):\n",
    "    def __init__(self, **kwargs):\n",
    "        super(Deep_MF_ml, self).__init__(**kwargs)\n",
    "        with self.name_scope():\n",
    "            # layers created in name_scope will inherit name space\n",
    "            # from parent layer.\n",
    "            self.user = nn.Embedding(input_dim=n_users, output_dim=25)\n",
    "            self.movie = nn.Embedding(input_dim=n_movies, output_dim=25)\n",
    "            \n",
    "            \n",
    "            self.out = gluon.nn.HybridSequential('output_')\n",
    "            with self.out.name_scope():\n",
    "                self.out.add(nn.Flatten())\n",
    "                self.out.add(nn.Dense(64, activation='relu')) # encoding & latent layer\n",
    "                self.out.add(gluon.nn.BatchNorm(axis=1, center=True, scale=True))\n",
    "                self.out.add(nn.Dense(64, activation='relu')) # encoding & latent layer\n",
    "                self.out.add(gluon.nn.BatchNorm(axis=1, center=True, scale=True))\n",
    "                self.out.add(nn.Dense(1)) # encoding & latent layer\n",
    "            \n",
    "    def hybrid_forward(self, F, user_i, movie_i):\n",
    "        # Here `F` can be either mx.nd or mx.sym, x is the input data,\n",
    "        user_i = self.user(user_i)\n",
    "        movie_i = self.movie(movie_i)\n",
    "        \n",
    "        z = F.concat(user_i, movie_i)\n",
    "        z = self.out(z)\n",
    "        return z"
   ]
  },
  {
   "cell_type": "code",
   "execution_count": 83,
   "metadata": {
    "ExecuteTime": {
     "end_time": "2018-02-14T02:10:53.022471Z",
     "start_time": "2018-02-14T02:10:53.013938Z"
    },
    "collapsed": true
   },
   "outputs": [],
   "source": [
    "# model initialization\n",
    "model = Deep_MF_ml()\n",
    "model.collect_params().initialize(mx.init.Xavier(), ctx=ctx)\n",
    "\n",
    "\n",
    "learning_rate = 1e-2\n",
    "criterion = gluon.loss.L2Loss()\n",
    "optimizer = gluon.Trainer(model.collect_params(), 'adam',\n",
    "                          {'learning_rate': learning_rate,\n",
    "                           'wd': 1e-5})"
   ]
  },
  {
   "cell_type": "code",
   "execution_count": 84,
   "metadata": {
    "ExecuteTime": {
     "end_time": "2018-02-14T02:13:49.710232Z",
     "start_time": "2018-02-14T02:10:53.024506Z"
    }
   },
   "outputs": [
    {
     "name": "stdout",
     "output_type": "stream",
     "text": [
      "epoch [1/100], (rmse) loss:2.5074, (rmse) val_loss:0.7241\n",
      "epoch [11/100], (rmse) loss:0.3969, (rmse) val_loss:0.2382\n",
      "epoch [21/100], (rmse) loss:0.3107, (rmse) val_loss:0.2491\n",
      "epoch [31/100], (rmse) loss:0.2828, (rmse) val_loss:0.2576\n",
      "epoch [41/100], (rmse) loss:0.2657, (rmse) val_loss:0.2611\n",
      "epoch [51/100], (rmse) loss:0.2565, (rmse) val_loss:0.2639\n",
      "epoch [61/100], (rmse) loss:0.2399, (rmse) val_loss:0.2665\n",
      "epoch [71/100], (rmse) loss:0.2285, (rmse) val_loss:0.2675\n",
      "epoch [81/100], (rmse) loss:0.2309, (rmse) val_loss:0.2684\n",
      "epoch [91/100], (rmse) loss:0.2125, (rmse) val_loss:0.2719\n",
      "epoch [100/100], (rmse) loss:0.2212, (rmse) val_loss:0.2718\n"
     ]
    }
   ],
   "source": [
    "## Model Running (Training)\n",
    "model = run_epoch(model, X_train, X_eval, num_epochs= 100)"
   ]
  },
  {
   "cell_type": "code",
   "execution_count": 85,
   "metadata": {
    "ExecuteTime": {
     "end_time": "2018-02-14T02:13:49.735256Z",
     "start_time": "2018-02-14T02:13:49.712153Z"
    },
    "collapsed": true
   },
   "outputs": [],
   "source": [
    "# Regression 형태가 아닌 Classification 문제로 변환\n",
    "# movielens의 경우 0.5 ~ 5까지 0.5구간으로 평점이 존재하며 이에 따라 총 10개의 class인 문제로 표현 가능\n",
    "class Deep_MF_ml_class(gluon.HybridBlock):\n",
    "    def __init__(self, **kwargs):\n",
    "        super(Deep_MF_ml_class, self).__init__(**kwargs)\n",
    "        with self.name_scope():\n",
    "            # layers created in name_scope will inherit name space\n",
    "            # from parent layer.\n",
    "            self.user = nn.Embedding(input_dim=n_users, output_dim=25)\n",
    "            self.movie = nn.Embedding(input_dim=n_movies, output_dim=25)\n",
    "            \n",
    "            \n",
    "            self.out = gluon.nn.HybridSequential('output_')\n",
    "            with self.out.name_scope():\n",
    "                self.out.add(nn.Flatten())\n",
    "                self.out.add(nn.Dense(64, activation='relu')) # encoding & latent layer\n",
    "                self.out.add(gluon.nn.BatchNorm(axis=1, center=True, scale=True))\n",
    "                self.out.add(nn.Dense(64, activation='relu')) # encoding & latent layer\n",
    "                self.out.add(gluon.nn.BatchNorm(axis=1, center=True, scale=True))\n",
    "                self.out.add(nn.Dense(10)) # encoding & latent layer\n",
    "            \n",
    "    def hybrid_forward(self, F, user_i, movie_i):\n",
    "        # Here `F` can be either mx.nd or mx.sym, x is the input data,\n",
    "        user_i = self.user(user_i)\n",
    "        movie_i = self.movie(movie_i)\n",
    "        \n",
    "        z = F.concat(user_i, movie_i)\n",
    "        z = self.out(z)\n",
    "        return z"
   ]
  },
  {
   "cell_type": "code",
   "execution_count": 86,
   "metadata": {
    "ExecuteTime": {
     "end_time": "2018-02-14T02:13:49.747756Z",
     "start_time": "2018-02-14T02:13:49.737850Z"
    },
    "collapsed": true
   },
   "outputs": [],
   "source": [
    "# model initialization\n",
    "model2 = Deep_MF_ml_class()\n",
    "model2.collect_params().initialize(mx.init.Xavier(), ctx=ctx)\n",
    "\n",
    "\n",
    "learning_rate = 1e-3\n",
    "criterion = gluon.loss.SoftmaxCrossEntropyLoss()\n",
    "optimizer = gluon.Trainer(model2.collect_params(), 'adam',\n",
    "                          {'learning_rate': learning_rate,\n",
    "                           'wd': 1e-5})"
   ]
  },
  {
   "cell_type": "code",
   "execution_count": 87,
   "metadata": {
    "ExecuteTime": {
     "end_time": "2018-02-14T02:13:49.760077Z",
     "start_time": "2018-02-14T02:13:49.750581Z"
    },
    "collapsed": true
   },
   "outputs": [],
   "source": [
    "def evaluate_accuracy(data_iterator, net):\n",
    "    acc = mx.metric.Accuracy()\n",
    "    \n",
    "    for user, movie, rating in data_iterator:\n",
    "        user = user.as_in_context(ctx)\n",
    "        movie = movie.as_in_context(ctx)\n",
    "        rating = rating.as_in_context(ctx)\n",
    "    \n",
    "        output = net(user, movie)\n",
    "        predictions = nd.argmax(output, axis=1)\n",
    "        acc.update(preds=predictions, labels=rating)\n",
    "    return acc.get()[1]"
   ]
  },
  {
   "cell_type": "code",
   "execution_count": 88,
   "metadata": {
    "ExecuteTime": {
     "end_time": "2018-02-14T02:31:09.369525Z",
     "start_time": "2018-02-14T02:13:49.761523Z"
    }
   },
   "outputs": [
    {
     "name": "stdout",
     "output_type": "stream",
     "text": [
      "epoch [1/100], loss:1.6389, val_loss:0.5239, train_acc:0.0499, val_acc:0.0518\n",
      "epoch [11/100], loss:1.1402, val_loss:0.4610, train_acc:0.5256, val_acc:0.3772\n",
      "epoch [21/100], loss:0.8980, val_loss:0.4781, train_acc:0.7448, val_acc:0.4085\n",
      "epoch [31/100], loss:0.7833, val_loss:0.5053, train_acc:0.8015, val_acc:0.3970\n",
      "epoch [41/100], loss:0.7196, val_loss:0.5283, train_acc:0.8336, val_acc:0.3934\n",
      "epoch [51/100], loss:0.6761, val_loss:0.5467, train_acc:0.8521, val_acc:0.3907\n",
      "epoch [61/100], loss:0.6429, val_loss:0.5629, train_acc:0.8685, val_acc:0.3907\n",
      "epoch [71/100], loss:0.6169, val_loss:0.5779, train_acc:0.8802, val_acc:0.3881\n",
      "epoch [81/100], loss:0.5934, val_loss:0.5914, train_acc:0.8907, val_acc:0.3843\n",
      "epoch [91/100], loss:0.5743, val_loss:0.6046, train_acc:0.8979, val_acc:0.3859\n",
      "epoch [100/100], loss:0.5593, val_loss:0.6153, train_acc:0.9034, val_acc:0.3826\n"
     ]
    }
   ],
   "source": [
    "num_epochs = 100             \n",
    "              \n",
    "for epoch in range(num_epochs):\n",
    "    running_loss = 0.0\n",
    "    val_loss = 0.0\n",
    "    n_total = 0.0\n",
    "\n",
    "    # for training\n",
    "    for user, movie, rating in X_train:\n",
    "        user = user.as_in_context(ctx)\n",
    "        movie = movie.as_in_context(ctx)\n",
    "        rating = rating.as_in_context(ctx)\n",
    "\n",
    "        with mx.autograd.record():\n",
    "            output = model2(user, movie)\n",
    "            loss = criterion(output, rating)\n",
    "        loss.backward()\n",
    "        optimizer.step(user.shape[0])\n",
    "        running_loss += mx.nd.sum(loss).asscalar()\n",
    "        n_total += user.shape[0]\n",
    "\n",
    "    for val_user, val_movie, val_rating in X_eval:\n",
    "        val_user = val_user.as_in_context(ctx)\n",
    "        val_movie = val_movie.as_in_context(ctx)\n",
    "\n",
    "        with mx.autograd.record():\n",
    "            val_output = model2(val_user, val_movie)\n",
    "            val_loss_tmp = criterion(val_output, val_rating)\n",
    "        val_loss += mx.nd.sum(val_loss_tmp).asscalar()\n",
    "    \n",
    "    train_accuracy = evaluate_accuracy(X_train, model2)\n",
    "    test_accuracy = evaluate_accuracy(X_eval, model2)\n",
    "    # ===================log========================\n",
    "    if epoch%10 == 0 or epoch == num_epochs -1 :\n",
    "        print('epoch [{}/{}], loss:{:.4f}, val_loss:{:.4f}, train_acc:{:.4f}, val_acc:{:.4f}'\n",
    "          .format(epoch + 1, num_epochs, np.sqrt(running_loss / n_total), np.sqrt(val_loss / n_total), train_accuracy, test_accuracy))"
   ]
  },
  {
   "cell_type": "code",
   "execution_count": 89,
   "metadata": {
    "ExecuteTime": {
     "end_time": "2018-02-14T02:31:09.631400Z",
     "start_time": "2018-02-14T02:31:09.370973Z"
    }
   },
   "outputs": [
    {
     "data": {
      "image/png": "[encoded data removed]",
      "text/plain": [
       "<matplotlib.figure.Figure at 0x118551cf8>"
      ]
     },
     "metadata": {},
     "output_type": "display_data"
    }
   ],
   "source": [
    "user_set = mx.nd.array((valid_users.astype('float32')))\n",
    "movie_set = mx.nd.array((valid_movies.astype('float32')))\n",
    "\n",
    "y_pred = model2(user_set, movie_set).asnumpy().argmax(axis=1)\n",
    "y_pred = (y_pred + 1.) / 2\n",
    "\n",
    "plt.title(\"Distribution of Predictions\", fontsize=14)\n",
    "plt.ylabel(\"Count\", fontsize=14)\n",
    "plt.xlabel(\"Rating\", fontsize=14)\n",
    "plt.hist(y_pred)\n",
    "plt.show()"
   ]
  },
  {
   "cell_type": "code",
   "execution_count": 91,
   "metadata": {
    "ExecuteTime": {
     "end_time": "2018-02-14T02:33:24.824104Z",
     "start_time": "2018-02-14T02:33:24.819909Z"
    }
   },
   "outputs": [
    {
     "data": {
      "text/plain": [
       "1.6449065970184551"
      ]
     },
     "execution_count": 91,
     "metadata": {},
     "output_type": "execute_result"
    }
   ],
   "source": [
    "numpy.sqrt(((y_pred - valid_ratings) ** 2).mean())"
   ]
  },
  {
   "cell_type": "code",
   "execution_count": null,
   "metadata": {
    "collapsed": true
   },
   "outputs": [],
   "source": []
  },
  {
   "cell_type": "markdown",
   "metadata": {},
   "source": [
    "---\n",
    "### T-SNE 그래프 그리기\n",
    "---"
   ]
  },
  {
   "cell_type": "markdown",
   "metadata": {},
   "source": [
    "- tensorboard를 이용하여 embedding된 영화값을 T-SNE로 그려봄"
   ]
  },
  {
   "cell_type": "code",
   "execution_count": 92,
   "metadata": {
    "ExecuteTime": {
     "end_time": "2018-02-14T02:33:44.156632Z",
     "start_time": "2018-02-14T02:33:28.174877Z"
    }
   },
   "outputs": [
    {
     "name": "stderr",
     "output_type": "stream",
     "text": [
      "//anaconda/envs/py35/lib/python3.5/site-packages/tensorflow/python/util/tf_inspect.py:45: DeprecationWarning: inspect.getargspec() is deprecated, use inspect.signature() instead\n",
      "  if d.decorator_argspec is not None), _inspect.getargspec(target))\n",
      "//anaconda/envs/py35/lib/python3.5/site-packages/tensorflow/python/util/tf_inspect.py:45: DeprecationWarning: inspect.getargspec() is deprecated, use inspect.signature() instead\n",
      "  if d.decorator_argspec is not None), _inspect.getargspec(target))\n"
     ]
    }
   ],
   "source": [
    "# tensorboard 및 sne 관련 셋팅\n",
    "from tensorflow.contrib.tensorboard.plugins import projector\n",
    "import tensorflow as tf\n",
    "import pandas as pd\n",
    "\n",
    "tf.reset_default_graph()\n",
    "LOG_DIR = './t_sne'\n",
    "\n",
    "if not os.path.exists(LOG_DIR):\n",
    "    os.makedirs(LOG_DIR)"
   ]
  },
  {
   "cell_type": "code",
   "execution_count": 93,
   "metadata": {
    "ExecuteTime": {
     "end_time": "2018-02-14T02:33:44.349508Z",
     "start_time": "2018-02-14T02:33:44.158220Z"
    }
   },
   "outputs": [
    {
     "name": "stdout",
     "output_type": "stream",
     "text": [
      "   movieId                               title  \\\n",
      "0        1                    Toy Story (1995)   \n",
      "1        2                      Jumanji (1995)   \n",
      "2        3             Grumpier Old Men (1995)   \n",
      "3        4            Waiting to Exhale (1995)   \n",
      "4        5  Father of the Bride Part II (1995)   \n",
      "\n",
      "                                        genres  \n",
      "0  Adventure|Animation|Children|Comedy|Fantasy  \n",
      "1                   Adventure|Children|Fantasy  \n",
      "2                               Comedy|Romance  \n",
      "3                         Comedy|Drama|Romance  \n",
      "4                                       Comedy  \n",
      "9125\n",
      "9125\n",
      "164979\n",
      "9066\n",
      "9066\n"
     ]
    },
    {
     "data": {
      "text/html": [
       "<div>\n",
       "<table border=\"1\" class=\"dataframe\">\n",
       "  <thead>\n",
       "    <tr style=\"text-align: right;\">\n",
       "      <th></th>\n",
       "      <th>movieId_ind</th>\n",
       "      <th>movieId</th>\n",
       "      <th>title</th>\n",
       "      <th>genres</th>\n",
       "      <th>first_genre</th>\n",
       "    </tr>\n",
       "  </thead>\n",
       "  <tbody>\n",
       "    <tr>\n",
       "      <th>0</th>\n",
       "      <td>0</td>\n",
       "      <td>1</td>\n",
       "      <td>Toy Story (1995)</td>\n",
       "      <td>Adventure|Animation|Children|Comedy|Fantasy</td>\n",
       "      <td>Adventure</td>\n",
       "    </tr>\n",
       "    <tr>\n",
       "      <th>1</th>\n",
       "      <td>1</td>\n",
       "      <td>2</td>\n",
       "      <td>Jumanji (1995)</td>\n",
       "      <td>Adventure|Children|Fantasy</td>\n",
       "      <td>Adventure</td>\n",
       "    </tr>\n",
       "    <tr>\n",
       "      <th>2</th>\n",
       "      <td>2</td>\n",
       "      <td>3</td>\n",
       "      <td>Grumpier Old Men (1995)</td>\n",
       "      <td>Comedy|Romance</td>\n",
       "      <td>Comedy</td>\n",
       "    </tr>\n",
       "    <tr>\n",
       "      <th>3</th>\n",
       "      <td>3</td>\n",
       "      <td>4</td>\n",
       "      <td>Waiting to Exhale (1995)</td>\n",
       "      <td>Comedy|Drama|Romance</td>\n",
       "      <td>Comedy</td>\n",
       "    </tr>\n",
       "    <tr>\n",
       "      <th>4</th>\n",
       "      <td>4</td>\n",
       "      <td>5</td>\n",
       "      <td>Father of the Bride Part II (1995)</td>\n",
       "      <td>Comedy</td>\n",
       "      <td>Comedy</td>\n",
       "    </tr>\n",
       "  </tbody>\n",
       "</table>\n",
       "</div>"
      ],
      "text/plain": [
       "   movieId_ind  movieId                               title  \\\n",
       "0            0        1                    Toy Story (1995)   \n",
       "1            1        2                      Jumanji (1995)   \n",
       "2            2        3             Grumpier Old Men (1995)   \n",
       "3            3        4            Waiting to Exhale (1995)   \n",
       "4            4        5  Father of the Bride Part II (1995)   \n",
       "\n",
       "                                        genres first_genre  \n",
       "0  Adventure|Animation|Children|Comedy|Fantasy   Adventure  \n",
       "1                   Adventure|Children|Fantasy   Adventure  \n",
       "2                               Comedy|Romance      Comedy  \n",
       "3                         Comedy|Drama|Romance      Comedy  \n",
       "4                                       Comedy      Comedy  "
      ]
     },
     "execution_count": 93,
     "metadata": {},
     "output_type": "execute_result"
    }
   ],
   "source": [
    "## 영화 메타정보 셋팅\n",
    "# 1) 영화 메타 데이터 로드\n",
    "movie_info = pandas.read_csv('./ml-latest-small/movies.csv', sep=',', usecols=(0, 1, 2))\n",
    "print(movie_info.head())\n",
    "# genres 중 가장 처음꺼만 추출\n",
    "first_genre = pd.DataFrame(movie_info.genres.str.split('|',1).tolist(), columns=['first_genre','etc'])['first_genre']\n",
    "first_genre.head()\n",
    "\n",
    "movie_info_adj = pd.concat([movie_info, first_genre], axis = 1)\n",
    "movie_info_adj.head()\n",
    "movie_info_adj.movieId.max()\n",
    "print(len(movie_info_adj)) # 영화 메타 총 길이\n",
    "\n",
    "## 기존 Movie index에 mappingEmbedding layer의 latent factor 개수에 맞도록 영화 메타테이블 생성\n",
    "print(len(movie_info_adj.movieId.unique())) # 영화 메타의 개수\n",
    "print(movie_info_adj.movieId.max()) # 영화 index max\n",
    "print(len(movie_ind_map)) # embedding layer 영화 index 개수\n",
    "\n",
    "movie_info_adj = pd.merge(movie_ind_map, movie_info_adj, how='left', on='movieId')\n",
    "print(len(movie_info_adj))\n",
    "movie_info_adj.head()\n",
    "# movie_ind = pd.DataFrame(np.arange(1,movie_num+1), columns=['movieId'])\n",
    "# movie_info_adj = pd.merge(movie_ind,movie_info_adj, how = 'left', on = 'movieId')\n",
    "# movie_info_adj = movie_info_adj.fillna('')\n",
    "# movie_info_adj.head()"
   ]
  },
  {
   "cell_type": "code",
   "execution_count": 94,
   "metadata": {
    "ExecuteTime": {
     "end_time": "2018-02-14T02:33:45.996891Z",
     "start_time": "2018-02-14T02:33:44.350924Z"
    },
    "collapsed": true
   },
   "outputs": [],
   "source": [
    "## tensorborad의 meta파일 형식인 tsv로 변환\n",
    "with open(LOG_DIR + '/movie_meta.tsv', 'w') as f:\n",
    "    f.write('{}\\t{}\\t{}\\n'.format('movieId_ind', 'title', 'first_genre'))\n",
    "    for i in range(len(movie_info_adj)):\n",
    "        c = movie_info_adj.iloc[i,:].tolist()\n",
    "        f.write('{}\\t{}\\t{}\\n'.format(c[0], c[2], c[4]))"
   ]
  },
  {
   "cell_type": "code",
   "execution_count": 95,
   "metadata": {
    "ExecuteTime": {
     "end_time": "2018-02-14T02:33:46.013463Z",
     "start_time": "2018-02-14T02:33:45.998791Z"
    }
   },
   "outputs": [
    {
     "name": "stdout",
     "output_type": "stream",
     "text": [
      "(671, 25)\n",
      "(9066, 25)\n",
      "Tensor(\"Const:0\", shape=(9066, 25), dtype=float32)\n"
     ]
    }
   ],
   "source": [
    "# 학습된 embedding 값 추출 및 tf.variable로 변환\n",
    "user_emb = model.user.weight.data().asnumpy()\n",
    "print(user_emb.shape)\n",
    "\n",
    "movie_emb = model.movie.weight.data().asnumpy()\n",
    "print(movie_emb.shape)\n",
    "\n",
    "movie_emb_tf = tf.convert_to_tensor(movie_emb)\n",
    "print(movie_emb_tf)\n",
    "\n",
    "with tf.device(\"/cpu:0\"):\n",
    "    movie_emb_tf = tf.Variable(movie_emb, trainable=False, name='movie_embedding')\n",
    "\n",
    "writer = tf.summary.FileWriter(LOG_DIR)"
   ]
  },
  {
   "cell_type": "code",
   "execution_count": 96,
   "metadata": {
    "ExecuteTime": {
     "end_time": "2018-02-14T02:33:46.019589Z",
     "start_time": "2018-02-14T02:33:46.014964Z"
    },
    "collapsed": true
   },
   "outputs": [],
   "source": [
    "config = projector.ProjectorConfig()\n",
    "\n",
    "embedding = config.embeddings.add()\n",
    "embedding.tensor_name = movie_emb_tf.name\n",
    "# embedding.metadata_path = LOG_DIR + '/movie_meta.tsv'\n",
    "\n",
    "projector.visualize_embeddings(writer, config)"
   ]
  },
  {
   "cell_type": "code",
   "execution_count": 97,
   "metadata": {
    "ExecuteTime": {
     "end_time": "2018-02-14T02:33:46.107166Z",
     "start_time": "2018-02-14T02:33:46.021128Z"
    }
   },
   "outputs": [
    {
     "data": {
      "text/plain": [
       "'./t_sne/deep_mf_model.ckpt-1000'"
      ]
     },
     "execution_count": 97,
     "metadata": {},
     "output_type": "execute_result"
    }
   ],
   "source": [
    "# start tensorflow session\n",
    "sess = tf.Session()\n",
    "sess.run(tf.global_variables_initializer())\n",
    "saver = tf.train.Saver()\n",
    "saver.save(sess, os.path.join(LOG_DIR + '/deep_mf_model.ckpt'), 1000)"
   ]
  },
  {
   "cell_type": "code",
   "execution_count": 98,
   "metadata": {
    "ExecuteTime": {
     "end_time": "2018-02-14T02:33:46.120646Z",
     "start_time": "2018-02-14T02:33:46.108569Z"
    },
    "collapsed": true
   },
   "outputs": [],
   "source": [
    "mov_meta = pandas.read_csv('./t_sne/movie_meta.tsv', sep='\\t')"
   ]
  },
  {
   "cell_type": "code",
   "execution_count": 99,
   "metadata": {
    "ExecuteTime": {
     "end_time": "2018-02-14T02:33:46.134121Z",
     "start_time": "2018-02-14T02:33:46.122570Z"
    }
   },
   "outputs": [
    {
     "data": {
      "text/html": [
       "<div>\n",
       "<table border=\"1\" class=\"dataframe\">\n",
       "  <thead>\n",
       "    <tr style=\"text-align: right;\">\n",
       "      <th></th>\n",
       "      <th>movieId_ind</th>\n",
       "      <th>title</th>\n",
       "      <th>first_genre</th>\n",
       "    </tr>\n",
       "  </thead>\n",
       "  <tbody>\n",
       "    <tr>\n",
       "      <th>0</th>\n",
       "      <td>0</td>\n",
       "      <td>Toy Story (1995)</td>\n",
       "      <td>Adventure</td>\n",
       "    </tr>\n",
       "    <tr>\n",
       "      <th>1</th>\n",
       "      <td>1</td>\n",
       "      <td>Jumanji (1995)</td>\n",
       "      <td>Adventure</td>\n",
       "    </tr>\n",
       "    <tr>\n",
       "      <th>2</th>\n",
       "      <td>2</td>\n",
       "      <td>Grumpier Old Men (1995)</td>\n",
       "      <td>Comedy</td>\n",
       "    </tr>\n",
       "    <tr>\n",
       "      <th>3</th>\n",
       "      <td>3</td>\n",
       "      <td>Waiting to Exhale (1995)</td>\n",
       "      <td>Comedy</td>\n",
       "    </tr>\n",
       "    <tr>\n",
       "      <th>4</th>\n",
       "      <td>4</td>\n",
       "      <td>Father of the Bride Part II (1995)</td>\n",
       "      <td>Comedy</td>\n",
       "    </tr>\n",
       "  </tbody>\n",
       "</table>\n",
       "</div>"
      ],
      "text/plain": [
       "   movieId_ind                               title first_genre\n",
       "0            0                    Toy Story (1995)   Adventure\n",
       "1            1                      Jumanji (1995)   Adventure\n",
       "2            2             Grumpier Old Men (1995)      Comedy\n",
       "3            3            Waiting to Exhale (1995)      Comedy\n",
       "4            4  Father of the Bride Part II (1995)      Comedy"
      ]
     },
     "execution_count": 99,
     "metadata": {},
     "output_type": "execute_result"
    }
   ],
   "source": [
    "mov_meta.head()"
   ]
  },
  {
   "cell_type": "markdown",
   "metadata": {
    "ExecuteTime": {
     "end_time": "2018-02-14T04:43:48.527385Z",
     "start_time": "2018-02-14T04:43:48.398782Z"
    },
    "collapsed": true
   },
   "source": [
    "#### Movie Embedding값의 T-SNE값 결과\n",
    "![Embedding_T_SNE](Embedding_T_SNE.png)"
   ]
  },
  {
   "cell_type": "code",
   "execution_count": null,
   "metadata": {
    "collapsed": true
   },
   "outputs": [],
   "source": []
  }
 ],
 "metadata": {
  "kernelspec": {
   "display_name": "Python 3",
   "language": "python",
   "name": "python3"
  },
  "language_info": {
   "codemirror_mode": {
    "name": "ipython",
    "version": 3
   },
   "file_extension": ".py",
   "mimetype": "text/x-python",
   "name": "python",
   "nbconvert_exporter": "python",
   "pygments_lexer": "ipython3",
   "version": "3.5.2"
  }
 },
 "nbformat": 4,
 "nbformat_minor": 2
}
