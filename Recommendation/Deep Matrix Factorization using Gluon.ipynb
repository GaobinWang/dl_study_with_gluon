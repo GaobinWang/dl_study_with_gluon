{
 "cells": [
  {
   "cell_type": "markdown",
   "metadata": {
    "collapsed": true
   },
   "source": [
    "### REFERENCE\n",
    "\n",
    "* [Introduction to Recommender systems](http://gluon.mxnet.io/chapter11_recommender-systems/intro-recommender-systems.html)\n",
    "* [Matrix Factorization](http://mxnet.incubator.apache.org/tutorials/python/matrix_factorization.html)\n",
    "* [Deep Matrix Factorization using Apache MXNet](https://github.com/jmschrei/notebooks/blob/master/MXNet%20Deep%20Matrix%20Factorization/MxNet_Deep_Matrix_Factorization.ipynb)\n",
    "* [Movie Lens Dataset](https://grouplens.org/datasets/movielens/)"
   ]
  },
  {
   "cell_type": "code",
   "execution_count": 1,
   "metadata": {
    "collapsed": true
   },
   "outputs": [],
   "source": [
    "## SET LIBRARY\n",
    "import pandas as pd\n",
    "import numpy as np\n",
    "\n",
    "import mxnet as mx\n",
    "from mxnet import nd, autograd, gluon\n",
    "#from mxnet.gluon.data import Dataset, DataLoader\n",
    "\n",
    "import matplotlib.pyplot as plt\n",
    "import seaborn as sns\n",
    "sns.set_style('whitegrid')\n",
    "%matplotlib inline\n",
    "mx.random.seed(1071)\n",
    "\n",
    "import logging\n",
    "logger = logging.getLogger()\n",
    "logger.setLevel(logging.DEBUG)"
   ]
  },
  {
   "cell_type": "code",
   "execution_count": 2,
   "metadata": {
    "collapsed": true
   },
   "outputs": [],
   "source": [
    "## SET GLOBAL\n",
    "ctx = mx.cpu(0)\n",
    "gtx = mx.gpu(0)"
   ]
  },
  {
   "cell_type": "code",
   "execution_count": 3,
   "metadata": {
    "collapsed": true
   },
   "outputs": [],
   "source": [
    "## SET WORK DIRETORY\n",
    "work_path = '/Users/boO/data8/boo/data.student/60.feat_study'"
   ]
  },
  {
   "cell_type": "code",
   "execution_count": 4,
   "metadata": {
    "collapsed": true
   },
   "outputs": [],
   "source": [
    "## SET PARAMS\n",
    "idx_tot = 35000\n",
    "idx_trn = 25000 \n",
    "\n",
    "epochs = 30\n",
    "btch_size = 16\n",
    "learning_rate = 0.005"
   ]
  },
  {
   "cell_type": "code",
   "execution_count": 5,
   "metadata": {},
   "outputs": [
    {
     "name": "stdout",
     "output_type": "stream",
     "text": [
      "(35000,)\n"
     ]
    }
   ],
   "source": [
    "## LOAD DATA\n",
    "tab = np.random.randn(250, 250)\n",
    "wv_i = np.random.randint(250, size=idx_tot)\n",
    "wv_j = np.random.randint(250, size=idx_tot)\n",
    "wv_v = tab[wv_i, wv_j]\n",
    "print(wv_v.shape)"
   ]
  },
  {
   "cell_type": "code",
   "execution_count": 27,
   "metadata": {},
   "outputs": [
    {
     "data": {
      "image/png": "[encoded data removed]",
      "text/plain": [
       "<matplotlib.figure.Figure at 0x11b9106d8>"
      ]
     },
     "metadata": {},
     "output_type": "display_data"
    }
   ],
   "source": [
    "plt.hist(wv_v, bins=50)\n",
    "plt.show()"
   ]
  },
  {
   "cell_type": "code",
   "execution_count": 6,
   "metadata": {
    "collapsed": true
   },
   "outputs": [],
   "source": [
    "xy_train = gluon.data.ArrayDataset(wv_i[:idx_trn], wv_j[:idx_trn], wv_v[:idx_trn].astype(np.float32))\n",
    "xy_train = gluon.data.DataLoader(xy_train, batch_size=btch_size, shuffle=True)\n",
    "xy_valid = gluon.data.ArrayDataset(wv_i[idx_trn:], wv_j[idx_trn:], wv_v[idx_trn:].astype(np.float32))\n",
    "xy_valid = gluon.data.DataLoader(xy_valid, batch_size=btch_size, shuffle=True)"
   ]
  },
  {
   "cell_type": "code",
   "execution_count": 7,
   "metadata": {},
   "outputs": [
    {
     "name": "stdout",
     "output_type": "stream",
     "text": [
      "\n",
      "[131 160 173  81   5  39 205  34 165  99   2 215 208 235 233  81]\n",
      "<NDArray 16 @cpu(0)>\n",
      "\n",
      "[ 11  50  60 149  85   5  54 243 192  59  53 112 124 101 217  83]\n",
      "<NDArray 16 @cpu(0)>\n",
      "\n",
      "[-1.05629039 -0.29805148  0.94929832  1.2885704  -0.39073372  1.18297327\n",
      "  0.94467235  0.7737698   1.76111472  0.49847716  0.88584882  0.29817027\n",
      "  0.89570659 -0.13142024  0.28553584  2.23126626]\n",
      "<NDArray 16 @cpu(0)>\n"
     ]
    }
   ],
   "source": [
    "for user, item, scor in xy_valid:\n",
    "    user = user.as_in_context(ctx)\n",
    "    item = item.as_in_context(ctx)\n",
    "    scor = scor.as_in_context(ctx)\n",
    "    break\n",
    "print(user)\n",
    "print(item)\n",
    "print(scor)"
   ]
  },
  {
   "cell_type": "code",
   "execution_count": 27,
   "metadata": {},
   "outputs": [
    {
     "name": "stdout",
     "output_type": "stream",
     "text": [
      "GPH(\n",
      "  (user): Embedding(250 -> 32, float32)\n",
      "  (item): Embedding(250 -> 32, float32)\n",
      "  (dense): Dense(None -> 1, linear)\n",
      ")\n"
     ]
    }
   ],
   "source": [
    "class GPH(gluon.HybridBlock):\n",
    "    def __init__(self, vocab_size, embd_dim, num_output, **kwargs):\n",
    "        super(GPH, self).__init__(**kwargs)\n",
    "        with self.name_scope():\n",
    "            self.user = gluon.nn.Embedding(vocab_size, embd_dim)\n",
    "            self.item = gluon.nn.Embedding(vocab_size, embd_dim)\n",
    "            self.dense = gluon.nn.Dense(num_output)\n",
    "\n",
    "    def hybrid_forward(self, F, usr, itm):\n",
    "        # user latent features\n",
    "        usr = self.user(usr)\n",
    "        # item latent features\n",
    "        itm = self.item(itm)\n",
    "        # https://www.oreilly.com/ideas/deep-matrix-factorization-using-apache-mxnet\n",
    "        # Define the dot product between the two variables, which is the elementwise multiplication and a sum\n",
    "        #F.dot(usr, itm, transpose_b=True) #F.sum(F.dot(usr, itm, transpose_b=True), axis=1)\n",
    "        pred = F.sum(F.multiply(usr, itm), axis=1) \n",
    "        pred = self.dense(pred)\n",
    "        pred = F.reshape(pred,-1)\n",
    "        return pred\n",
    "    \n",
    "gph = GPH(vocab_size=250, embd_dim=32, num_output=1)\n",
    "gph.collect_params().initialize(mx.init.Xavier(), ctx=ctx)\n",
    "print(gph)"
   ]
  },
  {
   "cell_type": "code",
   "execution_count": 122,
   "metadata": {},
   "outputs": [
    {
     "name": "stdout",
     "output_type": "stream",
     "text": [
      "GPH(\n",
      "  (user): Embedding(250 -> 32, float32)\n",
      "  (item): Embedding(250 -> 32, float32)\n",
      "  (dense): Dense(None -> 16, Activation(relu))\n",
      "  (dropout): Dropout(p = 0.5)\n",
      "  (flatten): Flatten\n",
      "  (output): Dense(None -> 1, linear)\n",
      ")\n"
     ]
    }
   ],
   "source": [
    "class GPH(gluon.HybridBlock):\n",
    "    def __init__(self, vocab_size, embd_dim, num_hidden, num_output, **kwargs):\n",
    "        super(GPH, self).__init__(**kwargs)\n",
    "        with self.name_scope():\n",
    "            self.user = gluon.nn.Embedding(vocab_size, embd_dim)\n",
    "            self.item = gluon.nn.Embedding(vocab_size, embd_dim)\n",
    "            self.dense = gluon.nn.Dense(num_hidden, activation='relu')\n",
    "            self.dropout = gluon.nn.Dropout(0.5)\n",
    "            self.flatten = gluon.nn.Flatten()\n",
    "            self.output = gluon.nn.Dense(num_output)\n",
    "            \n",
    "    def hybrid_forward(self, F, usr, itm):\n",
    "        # user latent features\n",
    "        usr = self.user(usr)\n",
    "        # item latent features\n",
    "        itm = self.item(itm)\n",
    "        # https://www.oreilly.com/ideas/deep-matrix-factorization-using-apache-mxnet\n",
    "        # nn = mx.symbol.concat(user, movie)\n",
    "        # dim (int, optional, default='1') – the dimension to be concated.\n",
    "        pred = F.concat(usr,itm,dim=1)\n",
    "        pred = self.flatten(pred)\n",
    "        pred = self.dense(pred)\n",
    "        pred = self.output(pred)\n",
    "        return pred\n",
    "    \n",
    "gph = GPH(vocab_size=250, embd_dim=32, num_hidden=16, num_output=1)\n",
    "gph.collect_params().initialize(mx.init.Xavier(), ctx=ctx)\n",
    "print(gph)"
   ]
  },
  {
   "cell_type": "code",
   "execution_count": 28,
   "metadata": {},
   "outputs": [
    {
     "name": "stdout",
     "output_type": "stream",
     "text": [
      "(16,)\n",
      "(16,)\n",
      "(16,)\n",
      "(16,)\n"
     ]
    }
   ],
   "source": [
    "## SANDBOX\n",
    "for i, (user, item, scor) in enumerate(xy_valid):\n",
    "    user = user.as_in_context(ctx)\n",
    "    item = item.as_in_context(ctx)\n",
    "    scor = scor.as_in_context(ctx)\n",
    "    break\n",
    "print(user.shape)\n",
    "print(item.shape)\n",
    "print(scor.shape)\n",
    "pred = gph(user, item)\n",
    "print(pred.shape)\n",
    "#print(l2loss(pred, scor))\n",
    "#rmse = mx.metric.RMSE()\n",
    "#rmse.update(preds=pred, labels=scor)\n",
    "#print(rmse.get()[1])"
   ]
  },
  {
   "cell_type": "code",
   "execution_count": 124,
   "metadata": {
    "collapsed": true
   },
   "outputs": [],
   "source": [
    "l2loss = gluon.loss.L2Loss()\n",
    "optimizer = gluon.Trainer(gph.collect_params(), 'sgd', {'learning_rate': learning_rate, 'wd': 0.001})"
   ]
  },
  {
   "cell_type": "code",
   "execution_count": 89,
   "metadata": {
    "collapsed": true
   },
   "outputs": [],
   "source": [
    "def evaluator(data_iterator, gph, loss_func):\n",
    "    rmse = mx.metric.RMSE()\n",
    "    loss_avg = 0.\n",
    "    for i, (user, item, scor) in enumerate(data_iterator):\n",
    "        user = user.as_in_context(ctx)\n",
    "        item = item.as_in_context(ctx)\n",
    "        scor = scor.as_in_context(ctx)\n",
    "        \n",
    "        pred = gph(user, item)\n",
    "        loss = loss_func(pred, scor)\n",
    "        rmse.update(preds=pred, labels=scor)\n",
    "        loss_avg = loss_avg*i/(i+1) + nd.mean(loss).asscalar()/(i+1)\n",
    "    return rmse.get()[1], loss_avg\n",
    "\n",
    "def plot_mets(loss_tr, loss_ts, rmse_tr, rmse_ts):\n",
    "    xs = list(range(len(loss_tr)))\n",
    "\n",
    "    f = plt.figure(figsize=(12,6))\n",
    "    fg1 = f.add_subplot(121)\n",
    "    fg2 = f.add_subplot(122)\n",
    "\n",
    "    fg1.set_xlabel('epoch',fontsize=14)\n",
    "    fg1.set_title('Comparing loss functions')\n",
    "    fg1.semilogy(xs, loss_tr)\n",
    "    fg1.semilogy(xs, loss_ts)\n",
    "    fg1.grid(True,which=\"both\")\n",
    "\n",
    "    fg1.legend(['training loss', 'testing loss'],fontsize=14)\n",
    "\n",
    "    fg2.set_title('Comparing accuracy')\n",
    "    fg1.set_xlabel('epoch',fontsize=14)\n",
    "    fg2.plot(xs, rmse_tr)\n",
    "    fg2.plot(xs, rmse_ts)\n",
    "    fg2.grid(True,which=\"both\")\n",
    "    fg2.legend(['training RMSE', 'testing RMSE'],fontsize=14)"
   ]
  },
  {
   "cell_type": "code",
   "execution_count": null,
   "metadata": {},
   "outputs": [
    {
     "name": "stdout",
     "output_type": "stream",
     "text": [
      "[0th epoch] Loss :  0.4971\n",
      "[0th epoch] Train RMSE :  0.8009, Valid  RMSE :  0.7924\n",
      "[1th epoch] Loss :  0.5048\n",
      "[1th epoch] Train RMSE :  0.8004, Valid  RMSE :  0.7922\n",
      "[2th epoch] Loss :  0.4891\n",
      "[2th epoch] Train RMSE :  0.8000, Valid  RMSE :  0.7917\n",
      "[3th epoch] Loss :  0.4961\n",
      "[3th epoch] Train RMSE :  0.7997, Valid  RMSE :  0.7918\n",
      "[4th epoch] Loss :  0.5183\n",
      "[4th epoch] Train RMSE :  0.7995, Valid  RMSE :  0.7916\n",
      "[5th epoch] Loss :  0.4984\n",
      "[5th epoch] Train RMSE :  0.7993, Valid  RMSE :  0.7914\n",
      "[6th epoch] Loss :  0.4980\n",
      "[6th epoch] Train RMSE :  0.7991, Valid  RMSE :  0.7912\n",
      "[7th epoch] Loss :  0.4887\n",
      "[7th epoch] Train RMSE :  0.7989, Valid  RMSE :  0.7912\n",
      "[8th epoch] Loss :  0.5033\n",
      "[8th epoch] Train RMSE :  0.7988, Valid  RMSE :  0.7912\n",
      "[9th epoch] Loss :  0.5214\n",
      "[9th epoch] Train RMSE :  0.7986, Valid  RMSE :  0.7912\n",
      "[10th epoch] Loss :  0.5017\n",
      "[10th epoch] Train RMSE :  0.7985, Valid  RMSE :  0.7910\n",
      "[11th epoch] Loss :  0.4974\n",
      "[11th epoch] Train RMSE :  0.7983, Valid  RMSE :  0.7910\n",
      "[12th epoch] Loss :  0.4911\n",
      "[12th epoch] Train RMSE :  0.7981, Valid  RMSE :  0.7909\n",
      "[13th epoch] Loss :  0.5124\n",
      "[13th epoch] Train RMSE :  0.7981, Valid  RMSE :  0.7909\n",
      "[14th epoch] Loss :  0.4862\n",
      "[14th epoch] Train RMSE :  0.7979, Valid  RMSE :  0.7910\n"
     ]
    }
   ],
   "source": [
    "idx_mets = pd.DataFrame({'loss_tr':[],'loss_ts':[],'rmse_tr':[],'rmse_ts':[]})\n",
    "n_iter = 0\n",
    "for epoch in range(epochs):\n",
    "    mov_loss = 0\n",
    "    for i, (user, item, scor) in enumerate(xy_train):\n",
    "        user = user.as_in_context(ctx)\n",
    "        item = item.as_in_context(ctx)\n",
    "        scor = scor.as_in_context(ctx)\n",
    "        \n",
    "        with autograd.record(train_mode=True):\n",
    "            pred = gph(user, item)\n",
    "            loss = l2loss(pred, scor)\n",
    "        loss.backward()\n",
    "        optimizer.step(btch_size)\n",
    "        n_iter +=1\n",
    "        mov_loss = .99 * mov_loss + .01 * nd.mean(loss).asscalar()\n",
    "        est_loss = mov_loss/(1-0.99**n_iter)\n",
    "        \n",
    "    print(\"[%sth epoch] Loss :  %0.4f\" % (epoch, est_loss))\n",
    "    rmse_train, loss_train = evaluator(xy_train, gph, l2loss)\n",
    "    rmse_valid, loss_valid = evaluator(xy_valid, gph, l2loss)\n",
    "    print(\"[%sth epoch] Train RMSE :  %0.4f, Valid  RMSE :  %0.4f\" % (epoch, rmse_train, rmse_valid))\n",
    "    idx_mets = pd.concat([idx_mets,pd.DataFrame({'loss_tr':[loss_train],'loss_ts':[loss_valid],'rmse_tr':[rmse_train],'rmse_ts':[rmse_valid]})],axis=0,ignore_index=True)\n",
    "    \n",
    "plot_mets(idx_mets['loss_tr'],idx_mets['loss_ts'],idx_mets['rmse_tr'],idx_mets['rmse_ts'])"
   ]
  }
 ],
 "metadata": {
  "kernelspec": {
   "display_name": "Python 3",
   "language": "python",
   "name": "python3"
  },
  "language_info": {
   "codemirror_mode": {
    "name": "ipython",
    "version": 3
   },
   "file_extension": ".py",
   "mimetype": "text/x-python",
   "name": "python",
   "nbconvert_exporter": "python",
   "pygments_lexer": "ipython3",
   "version": "3.6.3"
  }
 },
 "nbformat": 4,
 "nbformat_minor": 2
}
