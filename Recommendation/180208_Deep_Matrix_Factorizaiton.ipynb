{
 "cells": [
  {
   "cell_type": "markdown",
   "metadata": {},
   "source": [
    "---\n",
    "## **Matrix Factorization using Deep Network (Recommendation)**\n",
    "---"
   ]
  },
  {
   "cell_type": "markdown",
   "metadata": {
    "collapsed": true
   },
   "source": [
    "[Ref.]\n",
    "  - https://hackernoon.com/autoencoders-deep-learning-bits-1-11731e200694\n",
    "  - http://katbailey.github.io/post/matrix-factorization-with-tensorflow/\n",
    "  - https://www.oreilly.com/ideas/deep-matrix-factorization-using-apache-mxnet\n",
    "  - http://nicolas-hug.com/blog/matrix_facto_3\n",
    "\n",
    "<br/>\n",
    "\n",
    "### **1) Recommendation 방식**\n",
    "\n",
    "\n",
    "\n",
    "<br/>\n",
    "- 기본적인 Recommendation의 구조는 아래와 같이 1) 사용자(User) x 2) 아이템(Item) 간의 스코어 matrix 형태로 표현할 수 있음\n",
    "<br/>\n",
    "<img src=\"./images/recomm._mat.png \" width=\"300\">\n",
    "<br/>\n",
    "- Recommendation을 하기 위해 사용자그룹의 기존(과거) 구매/평점기록 데이터를 활용함\n",
    "- 그러나 모든 사용자가 모든 아이템에 대한 구매/평점 기록이 없기에 전체 사용자 x 아이템으로 표현되는 Recommendation Matrix는 Sparse & Incomplete한 형태가 됨\n",
    "- 이 Incomplete Matrix의 Missing Values를 찾는 것이 Recommendation Algorithm의 목적\n",
    "- 크게 2가지 형태의 Recommendation Algorithm이 있음\n",
    "\n",
    "  **1) Collaborative Filtering (User-based or Item-based)**\n",
    "    - 협업필터링 방식으로 추천하고자 하는 대상과 가장 유사한 사용자그룹 혹은 아이템그룹의 유사도와 과거 구매/평점기록을 이용하여 추천하는 방식\n",
    "    - 그룹 간 유사도를 계산하는 방식으로 Cosine Similarity을 일반적으로 많이 이용함 \n",
    "    - Missing value에 대한 예측 시 (User or Item) Similairty와 기 존재하는 구매/평점기록값(구매 or 별점)과의 가중평균으로 계산 함\n",
    "    \n",
    "    (참조 : https://buildingrecommenders.wordpress.com/2015/11/18/overview-of-recommender-algorithms-part-2/)\n",
    "    - 1) User-Based CF\n",
    "        - 추천대상과 유사한 사용자 그룹을 파악하고, 해당 그룹이 많이 사용/구매한 아이템을 추천하는 방식\n",
    "        - 알고리즘 구현이 간단한 편이지만, 유저가 많아질 수록 연산이 복잡함 (nC2 경우의 수가 많아짐)\n",
    "    - 2) Item-Based CF\n",
    "        - 아이템간의 유사도 matrix를 기반으로, 특정 아이템을 추천하는 방식 (가중평균)\n",
    "        - User-Based CF에 비해 연산이 가벼운 편이지만, 개인 성향을 반영하기 어려움\n",
    "<br/>\n",
    "<img src=\"./images/CF_ex.png \" width=\"500\">\n",
    "<br/>\n",
    "\n",
    "  **2) Matrix Factorization**\n",
    "    - Sparse & Incomplete Recommendation을 2개 이상의 Low Rank Matrices로 Decomposition하는 방식\n",
    "    - Decomposition하는 2개의 Matrices는 추천대상(User) / 아이템(Item) Matrix로 나눠 짐\n",
    "    - 협업 필터링과 달리 사용자(User) / 아이템(Item)의 특성을 표현하는 Latent Factor (:= Embedding values)로 표현함\n",
    "    [Ex) 2 Dimension Latent Factor으로 표현한 예시]\n",
    "<br/>\n",
    "<img src=\"./images/mat_fact.png \" width=\"500\">\n",
    "<br/>\n",
    "    - Latent Factor로 표현된 2개의 Matrix의 Dot Product가 Recommendation Matrix의 추천 값이 되며, 이 값 중 과거 기록과의 차이를 최소화 하는 Latent Matrix를 찾는 것이 목적\n",
    "    - Performance Metric으로 RMSE를 주로 사용함\n",
    "    - 일반적으로 Latent Facotr의 Dimension은 User / Item의 Dimension보다 작은 값을 이용\n",
    "    - Matrix Factorization 방법으로 PCA / SVD 방법등이 있지만, Sparse & Incomplete Matrix이기에 Latent Matrices에 초기값을 주고 Iteration 마다 최적값을 찾아가는 Optimization 방법을 주로 이용\n",
    "    - 본 스터디에서는 Optimization 방법 중 Deep Learning Framework를 이용한 Vanila Matrix Factorization 방법과 Deep Matrix Facotrization 방법을 소개 함\n",
    "\n",
    " <br/>"
   ]
  },
  {
   "cell_type": "code",
   "execution_count": 94,
   "metadata": {
    "ExecuteTime": {
     "end_time": "2018-02-08T06:48:59.470250Z",
     "start_time": "2018-02-08T06:48:59.458099Z"
    }
   },
   "outputs": [
    {
     "name": "stdout",
     "output_type": "stream",
     "text": [
      "Populating the interactive namespace from numpy and matplotlib\n"
     ]
    },
    {
     "name": "stderr",
     "output_type": "stream",
     "text": [
      "//anaconda/envs/py35/lib/python3.5/site-packages/IPython/core/magics/pylab.py:161: UserWarning: pylab import has clobbered these variables: ['f']\n",
      "`%matplotlib` prevents importing * from pylab and numpy\n",
      "  \"\\n`%matplotlib` prevents importing * from pylab and numpy\"\n"
     ]
    }
   ],
   "source": [
    "%pylab inline\n",
    "import mxnet as mx\n",
    "import pandas\n",
    "import seaborn; seaborn.set_style('whitegrid')\n",
    "import logging\n",
    "logger = logging.getLogger()\n",
    "logger.setLevel(logging.DEBUG)"
   ]
  },
  {
   "cell_type": "code",
   "execution_count": 2,
   "metadata": {
    "ExecuteTime": {
     "end_time": "2018-02-08T01:02:57.731599Z",
     "start_time": "2018-02-08T01:02:57.727805Z"
    },
    "collapsed": true
   },
   "outputs": [],
   "source": [
    "# Gluon module load\n",
    "import mxnet as mx\n",
    "import numpy as np\n",
    "from mxnet import nd, autograd, gluon\n",
    "from mxnet.gluon import nn\n",
    "\n",
    "ctx = mx.cpu()"
   ]
  },
  {
   "cell_type": "markdown",
   "metadata": {},
   "source": [
    "---\n",
    "### **1) Vanila Matrix Facotrization using synthetic data**\n",
    "---"
   ]
  },
  {
   "cell_type": "markdown",
   "metadata": {},
   "source": [
    "- 2개의 low rank latent matrix의 dot product로 예측하는 일반적인 Matrix Facotrization 방법\n",
    "- 2개의 latent matrix rank는 같음\n",
    "- rank <= input dimension"
   ]
  },
  {
   "cell_type": "code",
   "execution_count": 3,
   "metadata": {
    "ExecuteTime": {
     "end_time": "2018-02-08T01:02:58.181067Z",
     "start_time": "2018-02-08T01:02:57.737811Z"
    }
   },
   "outputs": [
    {
     "name": "stdout",
     "output_type": "stream",
     "text": [
      "Synthetic data set is generated. [row num : 35000]\n"
     ]
    },
    {
     "data": {
      "image/png": "[encoded data removed]",
      "text/plain": [
       "<matplotlib.figure.Figure at 0x118757ba8>"
      ]
     },
     "metadata": {},
     "output_type": "display_data"
    },
    {
     "name": "stdout",
     "output_type": "stream",
     "text": [
      "It appears to be a normal distribution that is centered around 0 with a variance of 1\n"
     ]
    }
   ],
   "source": [
    "## Generate random synthetic data set (250 users x 250 movies)\n",
    "X = numpy.random.randn(250, 250) # 250x250 = 62,500 complete data set (no missing values)\n",
    "\n",
    "# extract subset of data (Assume this is only given data)\n",
    "n = 35000\n",
    "i = numpy.random.randint(250, size=n) # Generate random row indexes\n",
    "j = numpy.random.randint(250, size=n) # Generate random column indexes\n",
    "X_values = X[i, j]\n",
    "print(\"Synthetic data set is generated. [row num : {}]\".format(X_values.shape[0]))\n",
    "\n",
    "# distribution of extracted values\n",
    "plt.title(\"Distribution of Data in Matrix\", fontsize=16)\n",
    "plt.ylabel(\"Count\", fontsize=14)\n",
    "plt.xlabel(\"Value\", fontsize=14)\n",
    "plt.hist(X_values, bins=100)\n",
    "plt.show()\n",
    "\n",
    "print('It appears to be a normal distribution that is centered around 0 with a variance of 1')"
   ]
  },
  {
   "cell_type": "code",
   "execution_count": 4,
   "metadata": {
    "ExecuteTime": {
     "end_time": "2018-02-08T01:03:02.031240Z",
     "start_time": "2018-02-08T01:03:02.021334Z"
    },
    "collapsed": true
   },
   "outputs": [],
   "source": [
    "## Make Vanila Matrix Factorization(MF) using Gluon hybrid-block \n",
    "class Vanilla_MF(gluon.HybridBlock):\n",
    "    def __init__(self, **kwargs):\n",
    "        super(Vanilla_MF, self).__init__(**kwargs)\n",
    "        with self.name_scope():\n",
    "            self.user = nn.Embedding(input_dim=250, output_dim=25) # Embedding Layer for Users (25 latent factors)\n",
    "            self.movie = nn.Embedding(input_dim=250, output_dim=25) # Embedding Layer for Movies (25 latent factors)\n",
    "            self.flat = nn.Flatten()\n",
    "            \n",
    "    def hybrid_forward(self, F, user_i, movie_i):\n",
    "        # Here `F` can be either mx.nd or mx.sym, x is the input data,\n",
    "        user_i = self.user(user_i)\n",
    "        movie_i = self.movie(movie_i)\n",
    "        z = F.sum(F.dot(user_i, movie_i, transpose_b=True), axis = 1) # Dot product of users x movies and rowwise sum of result\n",
    "#         z = self.flat(z)\n",
    "        return z"
   ]
  },
  {
   "cell_type": "code",
   "execution_count": 5,
   "metadata": {
    "ExecuteTime": {
     "end_time": "2018-02-08T01:03:02.231847Z",
     "start_time": "2018-02-08T01:03:02.223759Z"
    },
    "collapsed": true
   },
   "outputs": [],
   "source": [
    "# model initialization\n",
    "model = Vanilla_MF()\n",
    "model.collect_params().initialize(mx.init.Xavier(), ctx=ctx)\n",
    "\n",
    "learning_rate = 1e-4\n",
    "criterion = gluon.loss.L2Loss()\n",
    "optimizer = gluon.Trainer(model.collect_params(), 'adam',\n",
    "                          {'learning_rate': learning_rate,\n",
    "                           'wd': 1e-5})"
   ]
  },
  {
   "cell_type": "code",
   "execution_count": 6,
   "metadata": {
    "ExecuteTime": {
     "end_time": "2018-02-08T01:03:03.748163Z",
     "start_time": "2018-02-08T01:03:03.740975Z"
    }
   },
   "outputs": [
    {
     "name": "stdout",
     "output_type": "stream",
     "text": [
      "User embedding layer shape : (250, 25)\n",
      "\n",
      "Item embedding layer shape : (250, 25)\n",
      "\n",
      "25 Embedding latents factors of the first user : \n",
      "[ 0.08690061  0.11293826 -0.10049446  0.12735233 -0.03226358  0.10438174\n",
      "  0.12894627 -0.00171298  0.04623531 -0.14136802  0.01747404  0.06442726\n",
      "  0.05782974 -0.0706878  -0.11482002 -0.03529139 -0.03970727 -0.08992843\n",
      "  0.09868617  0.060701   -0.09062057 -0.02898844  0.10589617  0.02242789\n",
      " -0.11005463]\n"
     ]
    }
   ],
   "source": [
    "# Embedding layer latent factors\n",
    "user_latent_v = model.user.weight.data().asnumpy()\n",
    "print(\"User embedding layer shape : {}\\n\".format(user_latent_v.shape))\n",
    "item_latent_v = model.movie.weight.data().asnumpy()\n",
    "print(\"Item embedding layer shape : {}\\n\".format(item_latent_v.shape))\n",
    "\n",
    "print(\"25 Embedding latents factors of the first user : \\n{}\".format(user_latent_v[0]))"
   ]
  },
  {
   "cell_type": "code",
   "execution_count": 7,
   "metadata": {
    "ExecuteTime": {
     "end_time": "2018-02-08T01:03:05.300419Z",
     "start_time": "2018-02-08T01:03:05.291926Z"
    },
    "scrolled": true
   },
   "outputs": [
    {
     "name": "stdout",
     "output_type": "stream",
     "text": [
      "Dot product of 1th user and 2th movie : -0.0330\n",
      "Model result of 1th user and 2th movie : -0.0330\n"
     ]
    }
   ],
   "source": [
    "# User rating sample by dot product of user x item embedding matrix\n",
    "user_i = 1\n",
    "movie_i = 2\n",
    "\n",
    "# naive dot product example\n",
    "user_v = user_latent_v[user_i]\n",
    "movie_v = item_latent_v[movie_i]\n",
    "print(\"Dot product of {}th user and {}th movie : {:.4f}\".format(user_i, movie_i, np.dot(user_v,movie_v)))\n",
    "\n",
    "# dot product using gluon network \n",
    "user_n = mx.nd.array([user_i])\n",
    "item_n = mx.nd.array([movie_i])\n",
    "print(\"Model result of {}th user and {}th movie : {:.4f}\".format(user_i, movie_i, model(user_n, item_n).asnumpy()[0]))"
   ]
  },
  {
   "cell_type": "code",
   "execution_count": 8,
   "metadata": {
    "ExecuteTime": {
     "end_time": "2018-02-08T01:03:05.523418Z",
     "start_time": "2018-02-08T01:03:05.517636Z"
    },
    "collapsed": true
   },
   "outputs": [],
   "source": [
    "# Make batch input using gluon DataLoader\n",
    "batch_size = 10000\n",
    "X_train = gluon.data.DataLoader(gluon.data.ArrayDataset(i[:25000].astype('float32'), j[:25000].astype('float32'), X_values[:25000].astype('float32')),\n",
    "                                      batch_size=batch_size, shuffle=True)\n",
    "\n",
    "X_eval = gluon.data.DataLoader(gluon.data.ArrayDataset(i[25000:].astype('float32'), j[25000:].astype('float32'), X_values[25000:].astype('float32')),\n",
    "                                      batch_size=batch_size, shuffle=True)"
   ]
  },
  {
   "cell_type": "code",
   "execution_count": 9,
   "metadata": {
    "ExecuteTime": {
     "end_time": "2018-02-08T01:03:06.335952Z",
     "start_time": "2018-02-08T01:03:06.315920Z"
    },
    "collapsed": true
   },
   "outputs": [],
   "source": [
    "# Epoch Running Function\n",
    "def run_epoch(model, X_train, X_eval, num_epochs = 20):\n",
    "    for epoch in range(num_epochs):\n",
    "        running_loss = 0.0\n",
    "        val_loss = 0.0\n",
    "        n_total = 0.0\n",
    "\n",
    "        # for training\n",
    "        for user, movie, rating in X_train:\n",
    "            user = user.as_in_context(ctx)\n",
    "            movie = movie.as_in_context(ctx)\n",
    "            rating = rating.as_in_context(ctx)\n",
    "\n",
    "            with mx.autograd.record():\n",
    "                output = model(user, movie)\n",
    "                loss = criterion(output, rating)\n",
    "            loss.backward()\n",
    "            optimizer.step(user.shape[0])\n",
    "            running_loss += mx.nd.sum(loss).asscalar()\n",
    "            n_total += user.shape[0]\n",
    "\n",
    "        for val_user, val_movie, val_rating in X_eval:\n",
    "            val_user = val_user.as_in_context(ctx)\n",
    "            val_movie = val_movie.as_in_context(ctx)\n",
    "\n",
    "            with mx.autograd.record():\n",
    "                val_output = model(val_user, val_movie)\n",
    "                val_loss_tmp = criterion(val_output, val_rating)\n",
    "            val_loss += mx.nd.sum(val_loss_tmp).asscalar()\n",
    "\n",
    "        # ===================log========================\n",
    "        print('epoch [{}/{}], (rmse) loss:{:.4f}, (rmse) val_loss:{:.4f}'\n",
    "              .format(epoch + 1, num_epochs, np.sqrt(running_loss / n_total), np.sqrt(val_loss / n_total)))\n",
    "    return model"
   ]
  },
  {
   "cell_type": "code",
   "execution_count": 10,
   "metadata": {
    "ExecuteTime": {
     "end_time": "2018-02-08T01:05:30.598205Z",
     "start_time": "2018-02-08T01:03:09.195869Z"
    }
   },
   "outputs": [
    {
     "name": "stdout",
     "output_type": "stream",
     "text": [
      "epoch [1/20], (rmse) loss:15.1786, (rmse) val_loss:9.6498\n",
      "epoch [2/20], (rmse) loss:14.5531, (rmse) val_loss:9.1241\n",
      "epoch [3/20], (rmse) loss:13.7855, (rmse) val_loss:8.6327\n",
      "epoch [4/20], (rmse) loss:13.0947, (rmse) val_loss:8.1688\n",
      "epoch [5/20], (rmse) loss:12.2848, (rmse) val_loss:7.7338\n",
      "epoch [6/20], (rmse) loss:11.7867, (rmse) val_loss:7.3285\n",
      "epoch [7/20], (rmse) loss:11.1770, (rmse) val_loss:6.9522\n",
      "epoch [8/20], (rmse) loss:10.2074, (rmse) val_loss:6.6044\n",
      "epoch [9/20], (rmse) loss:9.9400, (rmse) val_loss:6.2821\n",
      "epoch [10/20], (rmse) loss:9.5112, (rmse) val_loss:5.9847\n",
      "epoch [11/20], (rmse) loss:8.8817, (rmse) val_loss:5.7117\n",
      "epoch [12/20], (rmse) loss:8.5748, (rmse) val_loss:5.4551\n",
      "epoch [13/20], (rmse) loss:7.9662, (rmse) val_loss:5.2195\n",
      "epoch [14/20], (rmse) loss:7.6887, (rmse) val_loss:5.0020\n",
      "epoch [15/20], (rmse) loss:7.5419, (rmse) val_loss:4.7973\n",
      "epoch [16/20], (rmse) loss:6.9641, (rmse) val_loss:4.6076\n",
      "epoch [17/20], (rmse) loss:6.8033, (rmse) val_loss:4.4294\n",
      "epoch [18/20], (rmse) loss:6.4427, (rmse) val_loss:4.2650\n",
      "epoch [19/20], (rmse) loss:6.1965, (rmse) val_loss:4.1110\n",
      "epoch [20/20], (rmse) loss:5.8916, (rmse) val_loss:3.9712\n"
     ]
    }
   ],
   "source": [
    "## Model Running (Training)\n",
    "model = run_epoch(model, X_train, X_eval, num_epochs= 20)"
   ]
  },
  {
   "cell_type": "markdown",
   "metadata": {
    "collapsed": true
   },
   "source": [
    "#### Problem of the totally and randomly generated data set : no strong connections(dependencies) between two latent matrices\n",
    "- If there does not exist connections(dependencies) between two latent matrices, the performance of Vanilla MF does not seem to get increased well. \n",
    "- And this is because we generated the data using total random normal. \n",
    "- It is like  he \"movie watchers\" don't have any preferences, they just randomly like or don't like movies! It would be impossible to predict"
   ]
  },
  {
   "cell_type": "code",
   "execution_count": 11,
   "metadata": {
    "ExecuteTime": {
     "end_time": "2018-02-08T01:05:31.060463Z",
     "start_time": "2018-02-08T01:05:30.599777Z"
    }
   },
   "outputs": [
    {
     "name": "stdout",
     "output_type": "stream",
     "text": [
      "Synthetic data set is generated. [row num : 35000]\n"
     ]
    },
    {
     "data": {
      "image/png": "[encoded data removed]",
      "text/plain": [
       "<matplotlib.figure.Figure at 0x11899b898>"
      ]
     },
     "metadata": {},
     "output_type": "display_data"
    },
    {
     "name": "stdout",
     "output_type": "stream",
     "text": [
      "It appears to be a normal distribution that is centered around 0 but lager variance than original synthetic data set\n"
     ]
    }
   ],
   "source": [
    "## Generate synthetic data set using two row rank latent matrix (randomly generated) \n",
    "### -> It essentially makes the connections between latents matrix\n",
    "a = numpy.random.normal(0, 1, size=(250, 25)) # Generate random numbers for the first skinny matrix\n",
    "b = numpy.random.normal(0, 1, size=(25, 250)) # Generate random numbers for the second skinny matrix\n",
    "\n",
    "X = a.dot(b) # Build our real data matrix from the dot product of the two skinny matrices\n",
    "\n",
    "n = 35000\n",
    "i = numpy.random.randint(250, size=n)\n",
    "j = numpy.random.randint(250, size=n)\n",
    "X_values = X[i, j]\n",
    "print(\"Synthetic data set is generated. [row num : {}]\".format(X_values.shape[0]))\n",
    "\n",
    "# distribution of extracted values\n",
    "plt.title(\"Distribution of Data in Matrix\", fontsize=16)\n",
    "plt.ylabel(\"Count\", fontsize=14)\n",
    "plt.xlabel(\"Value\", fontsize=14)\n",
    "plt.hist(X_values, bins=100)\n",
    "plt.show()\n",
    "\n",
    "print('It appears to be a normal distribution that is centered around 0 but lager variance than original synthetic data set')"
   ]
  },
  {
   "cell_type": "code",
   "execution_count": 12,
   "metadata": {
    "ExecuteTime": {
     "end_time": "2018-02-08T01:05:31.066867Z",
     "start_time": "2018-02-08T01:05:31.061948Z"
    },
    "collapsed": true
   },
   "outputs": [],
   "source": [
    "batch_size = 10000\n",
    "X_train = gluon.data.DataLoader(gluon.data.ArrayDataset(i[:25000].astype('float32'), j[:25000].astype('float32'), X_values[:25000].astype('float32')),\n",
    "                                      batch_size=batch_size, shuffle=True)\n",
    "\n",
    "X_eval = gluon.data.DataLoader(gluon.data.ArrayDataset(i[25000:].astype('float32'), j[25000:].astype('float32'), X_values[25000:].astype('float32')),\n",
    "                                      batch_size=batch_size, shuffle=True)"
   ]
  },
  {
   "cell_type": "code",
   "execution_count": 13,
   "metadata": {
    "ExecuteTime": {
     "end_time": "2018-02-08T01:05:31.075200Z",
     "start_time": "2018-02-08T01:05:31.068541Z"
    },
    "collapsed": true
   },
   "outputs": [],
   "source": [
    "# model initialization\n",
    "model = Vanilla_MF()\n",
    "model.collect_params().initialize(mx.init.Xavier(), ctx=ctx)\n",
    "\n",
    "learning_rate = 1e-4\n",
    "criterion = gluon.loss.L2Loss()\n",
    "optimizer = gluon.Trainer(model.collect_params(), 'adam',\n",
    "                          {'learning_rate': learning_rate,\n",
    "                           'wd': 1e-5})"
   ]
  },
  {
   "cell_type": "code",
   "execution_count": 14,
   "metadata": {
    "ExecuteTime": {
     "end_time": "2018-02-08T01:07:50.173931Z",
     "start_time": "2018-02-08T01:05:31.076708Z"
    }
   },
   "outputs": [
    {
     "name": "stdout",
     "output_type": "stream",
     "text": [
      "epoch [1/20], (rmse) loss:13.0143, (rmse) val_loss:8.5653\n",
      "epoch [2/20], (rmse) loss:12.1355, (rmse) val_loss:8.1030\n",
      "epoch [3/20], (rmse) loss:11.4225, (rmse) val_loss:7.6768\n",
      "epoch [4/20], (rmse) loss:10.8096, (rmse) val_loss:7.2726\n",
      "epoch [5/20], (rmse) loss:10.1731, (rmse) val_loss:6.8977\n",
      "epoch [6/20], (rmse) loss:9.7191, (rmse) val_loss:6.5480\n",
      "epoch [7/20], (rmse) loss:9.4110, (rmse) val_loss:6.2270\n",
      "epoch [8/20], (rmse) loss:8.9542, (rmse) val_loss:5.9279\n",
      "epoch [9/20], (rmse) loss:8.4806, (rmse) val_loss:5.6597\n",
      "epoch [10/20], (rmse) loss:8.2105, (rmse) val_loss:5.4153\n",
      "epoch [11/20], (rmse) loss:7.8882, (rmse) val_loss:5.1952\n",
      "epoch [12/20], (rmse) loss:7.4368, (rmse) val_loss:4.9964\n",
      "epoch [13/20], (rmse) loss:7.2718, (rmse) val_loss:4.8134\n",
      "epoch [14/20], (rmse) loss:6.9272, (rmse) val_loss:4.6496\n",
      "epoch [15/20], (rmse) loss:6.8328, (rmse) val_loss:4.5039\n",
      "epoch [16/20], (rmse) loss:6.3506, (rmse) val_loss:4.3687\n",
      "epoch [17/20], (rmse) loss:6.2487, (rmse) val_loss:4.2481\n",
      "epoch [18/20], (rmse) loss:6.2101, (rmse) val_loss:4.1356\n",
      "epoch [19/20], (rmse) loss:5.9164, (rmse) val_loss:4.0330\n",
      "epoch [20/20], (rmse) loss:5.6928, (rmse) val_loss:3.9448\n"
     ]
    }
   ],
   "source": [
    "## Model Running (Training)\n",
    "model = run_epoch(model, X_train, X_eval, num_epochs= 20)"
   ]
  },
  {
   "cell_type": "code",
   "execution_count": null,
   "metadata": {
    "collapsed": true
   },
   "outputs": [],
   "source": []
  },
  {
   "cell_type": "markdown",
   "metadata": {},
   "source": [
    "---\n",
    "### **2) Deep matrix Facotrization using synthetic data**\n",
    "---"
   ]
  },
  {
   "cell_type": "markdown",
   "metadata": {
    "ExecuteTime": {
     "end_time": "2018-02-08T07:24:16.068903Z",
     "start_time": "2018-02-08T07:24:16.064535Z"
    }
   },
   "source": [
    "- 기존 two latent matrix의 dot product 곱의 형태가 아닌 방식\n",
    "- Two latent layer(matrix)를 concat 후 Flatten하는 방식 사용\n",
    "- 이후 Regression 형태[0,1]의 결과값을 얻기 위해 Fully Connected Layer를 사용하여 Output 산출\n",
    "\n",
    "<br/>\n",
    "<img src=\"./images/deep_mf.png \" width=\"500\">\n",
    "<br/>\n"
   ]
  },
  {
   "cell_type": "code",
   "execution_count": 16,
   "metadata": {
    "ExecuteTime": {
     "end_time": "2018-02-08T01:07:50.206924Z",
     "start_time": "2018-02-08T01:07:50.192455Z"
    },
    "collapsed": true
   },
   "outputs": [],
   "source": [
    "class Deep_MF(gluon.HybridBlock):\n",
    "    def __init__(self, **kwargs):\n",
    "        super(Deep_MF, self).__init__(**kwargs)\n",
    "        with self.name_scope():\n",
    "            # layers created in name_scope will inherit name space\n",
    "            # from parent layer.\n",
    "            self.user = nn.Embedding(input_dim=250, output_dim=25)\n",
    "            self.movie = nn.Embedding(input_dim=250, output_dim=25)\n",
    "            \n",
    "            \n",
    "            self.out = gluon.nn.HybridSequential('output_')\n",
    "            with self.out.name_scope(): # Output layers to make regression result\n",
    "                self.out.add(nn.Flatten())\n",
    "                self.out.add(nn.Dense(64, activation='relu'))\n",
    "                self.out.add(nn.Dense(1)) # the last output layer\n",
    "            \n",
    "    def hybrid_forward(self, F, user_i, movie_i):\n",
    "        # Here `F` can be either mx.nd or mx.sym, x is the input data,\n",
    "        user_i = self.user(user_i)\n",
    "        movie_i = self.movie(movie_i)\n",
    "        \n",
    "        z = F.concat(user_i, movie_i) # Two latent layer(matrix) concat\n",
    "        z = self.out(z) # concat output -> flatten -> dense layer(64 dim) -> output layer(1 dim)\n",
    "        return z"
   ]
  },
  {
   "cell_type": "code",
   "execution_count": 17,
   "metadata": {
    "ExecuteTime": {
     "end_time": "2018-02-08T01:07:50.216954Z",
     "start_time": "2018-02-08T01:07:50.209249Z"
    },
    "collapsed": true
   },
   "outputs": [],
   "source": [
    "# model initialization\n",
    "model = Deep_MF()\n",
    "model.collect_params().initialize(mx.init.Xavier(), ctx=ctx)\n",
    "\n",
    "learning_rate = 1e-2 # 기존 Vanilla 모형에 비해 running 속도가 빠름, 그러나 학습속도가 느리기에 learning_rate를 높임\n",
    "criterion = gluon.loss.L2Loss()\n",
    "optimizer = gluon.Trainer(model.collect_params(), 'adam',\n",
    "                          {'learning_rate': learning_rate,\n",
    "                           'wd': 1e-5})"
   ]
  },
  {
   "cell_type": "code",
   "execution_count": 18,
   "metadata": {
    "ExecuteTime": {
     "end_time": "2018-02-08T01:09:36.446979Z",
     "start_time": "2018-02-08T01:07:50.218702Z"
    },
    "scrolled": true
   },
   "outputs": [
    {
     "name": "stdout",
     "output_type": "stream",
     "text": [
      "epoch [1/500], (rmse) loss:3.6049, (rmse) val_loss:2.2543\n",
      "epoch [2/500], (rmse) loss:3.5951, (rmse) val_loss:2.2545\n",
      "epoch [3/500], (rmse) loss:3.5844, (rmse) val_loss:2.2558\n",
      "epoch [4/500], (rmse) loss:3.5689, (rmse) val_loss:2.2610\n",
      "epoch [5/500], (rmse) loss:3.5543, (rmse) val_loss:2.2709\n",
      "epoch [6/500], (rmse) loss:3.5427, (rmse) val_loss:2.2720\n",
      "epoch [7/500], (rmse) loss:3.5259, (rmse) val_loss:2.2619\n",
      "epoch [8/500], (rmse) loss:3.5043, (rmse) val_loss:2.2499\n",
      "epoch [9/500], (rmse) loss:3.4769, (rmse) val_loss:2.2384\n",
      "epoch [10/500], (rmse) loss:3.4391, (rmse) val_loss:2.2286\n",
      "epoch [11/500], (rmse) loss:3.3903, (rmse) val_loss:2.2167\n",
      "epoch [12/500], (rmse) loss:3.3325, (rmse) val_loss:2.2044\n",
      "epoch [13/500], (rmse) loss:3.2741, (rmse) val_loss:2.1938\n",
      "epoch [14/500], (rmse) loss:3.2206, (rmse) val_loss:2.1853\n",
      "epoch [15/500], (rmse) loss:3.1733, (rmse) val_loss:2.1749\n",
      "epoch [16/500], (rmse) loss:3.1291, (rmse) val_loss:2.1595\n",
      "epoch [17/500], (rmse) loss:3.0888, (rmse) val_loss:2.1425\n",
      "epoch [18/500], (rmse) loss:3.0474, (rmse) val_loss:2.1221\n",
      "epoch [19/500], (rmse) loss:3.0070, (rmse) val_loss:2.1081\n",
      "epoch [20/500], (rmse) loss:2.9686, (rmse) val_loss:2.0985\n",
      "epoch [21/500], (rmse) loss:2.9322, (rmse) val_loss:2.0858\n",
      "epoch [22/500], (rmse) loss:2.8974, (rmse) val_loss:2.0782\n",
      "epoch [23/500], (rmse) loss:2.8597, (rmse) val_loss:2.0695\n",
      "epoch [24/500], (rmse) loss:2.8243, (rmse) val_loss:2.0615\n",
      "epoch [25/500], (rmse) loss:2.7890, (rmse) val_loss:2.0526\n",
      "epoch [26/500], (rmse) loss:2.7554, (rmse) val_loss:2.0411\n",
      "epoch [27/500], (rmse) loss:2.7222, (rmse) val_loss:2.0312\n",
      "epoch [28/500], (rmse) loss:2.6887, (rmse) val_loss:2.0256\n",
      "epoch [29/500], (rmse) loss:2.6570, (rmse) val_loss:2.0105\n",
      "epoch [30/500], (rmse) loss:2.6237, (rmse) val_loss:1.9998\n",
      "epoch [31/500], (rmse) loss:2.5897, (rmse) val_loss:1.9906\n",
      "epoch [32/500], (rmse) loss:2.5600, (rmse) val_loss:1.9798\n",
      "epoch [33/500], (rmse) loss:2.5271, (rmse) val_loss:1.9737\n",
      "epoch [34/500], (rmse) loss:2.4964, (rmse) val_loss:1.9681\n",
      "epoch [35/500], (rmse) loss:2.4699, (rmse) val_loss:1.9542\n",
      "epoch [36/500], (rmse) loss:2.4409, (rmse) val_loss:1.9470\n",
      "epoch [37/500], (rmse) loss:2.4137, (rmse) val_loss:1.9391\n",
      "epoch [38/500], (rmse) loss:2.3865, (rmse) val_loss:1.9320\n",
      "epoch [39/500], (rmse) loss:2.3582, (rmse) val_loss:1.9248\n",
      "epoch [40/500], (rmse) loss:2.3351, (rmse) val_loss:1.9133\n",
      "epoch [41/500], (rmse) loss:2.3078, (rmse) val_loss:1.9089\n",
      "epoch [42/500], (rmse) loss:2.2875, (rmse) val_loss:1.9006\n",
      "epoch [43/500], (rmse) loss:2.2603, (rmse) val_loss:1.8927\n",
      "epoch [44/500], (rmse) loss:2.2367, (rmse) val_loss:1.8836\n",
      "epoch [45/500], (rmse) loss:2.2140, (rmse) val_loss:1.8778\n",
      "epoch [46/500], (rmse) loss:2.1923, (rmse) val_loss:1.8710\n",
      "epoch [47/500], (rmse) loss:2.1725, (rmse) val_loss:1.8627\n",
      "epoch [48/500], (rmse) loss:2.1527, (rmse) val_loss:1.8570\n",
      "epoch [49/500], (rmse) loss:2.1330, (rmse) val_loss:1.8519\n",
      "epoch [50/500], (rmse) loss:2.1128, (rmse) val_loss:1.8454\n",
      "epoch [51/500], (rmse) loss:2.0946, (rmse) val_loss:1.8380\n",
      "epoch [52/500], (rmse) loss:2.0760, (rmse) val_loss:1.8336\n",
      "epoch [53/500], (rmse) loss:2.0595, (rmse) val_loss:1.8313\n",
      "epoch [54/500], (rmse) loss:2.0417, (rmse) val_loss:1.8261\n",
      "epoch [55/500], (rmse) loss:2.0248, (rmse) val_loss:1.8239\n",
      "epoch [56/500], (rmse) loss:2.0077, (rmse) val_loss:1.8178\n",
      "epoch [57/500], (rmse) loss:1.9906, (rmse) val_loss:1.8135\n",
      "epoch [58/500], (rmse) loss:1.9747, (rmse) val_loss:1.8097\n",
      "epoch [59/500], (rmse) loss:1.9574, (rmse) val_loss:1.8077\n",
      "epoch [60/500], (rmse) loss:1.9436, (rmse) val_loss:1.8009\n",
      "epoch [61/500], (rmse) loss:1.9303, (rmse) val_loss:1.8004\n",
      "epoch [62/500], (rmse) loss:1.9162, (rmse) val_loss:1.7963\n",
      "epoch [63/500], (rmse) loss:1.8992, (rmse) val_loss:1.7919\n",
      "epoch [64/500], (rmse) loss:1.8876, (rmse) val_loss:1.7865\n",
      "epoch [65/500], (rmse) loss:1.8738, (rmse) val_loss:1.7840\n",
      "epoch [66/500], (rmse) loss:1.8587, (rmse) val_loss:1.7803\n",
      "epoch [67/500], (rmse) loss:1.8470, (rmse) val_loss:1.7777\n",
      "epoch [68/500], (rmse) loss:1.8357, (rmse) val_loss:1.7773\n",
      "epoch [69/500], (rmse) loss:1.8205, (rmse) val_loss:1.7738\n",
      "epoch [70/500], (rmse) loss:1.8084, (rmse) val_loss:1.7710\n",
      "epoch [71/500], (rmse) loss:1.7942, (rmse) val_loss:1.7690\n",
      "epoch [72/500], (rmse) loss:1.7834, (rmse) val_loss:1.7656\n",
      "epoch [73/500], (rmse) loss:1.7709, (rmse) val_loss:1.7658\n",
      "epoch [74/500], (rmse) loss:1.7577, (rmse) val_loss:1.7659\n",
      "epoch [75/500], (rmse) loss:1.7471, (rmse) val_loss:1.7611\n",
      "epoch [76/500], (rmse) loss:1.7388, (rmse) val_loss:1.7589\n",
      "epoch [77/500], (rmse) loss:1.7253, (rmse) val_loss:1.7581\n",
      "epoch [78/500], (rmse) loss:1.7136, (rmse) val_loss:1.7570\n",
      "epoch [79/500], (rmse) loss:1.7040, (rmse) val_loss:1.7514\n",
      "epoch [80/500], (rmse) loss:1.6915, (rmse) val_loss:1.7503\n",
      "epoch [81/500], (rmse) loss:1.6815, (rmse) val_loss:1.7491\n",
      "epoch [82/500], (rmse) loss:1.6702, (rmse) val_loss:1.7457\n",
      "epoch [83/500], (rmse) loss:1.6575, (rmse) val_loss:1.7461\n",
      "epoch [84/500], (rmse) loss:1.6485, (rmse) val_loss:1.7446\n",
      "epoch [85/500], (rmse) loss:1.6386, (rmse) val_loss:1.7430\n",
      "epoch [86/500], (rmse) loss:1.6290, (rmse) val_loss:1.7400\n",
      "epoch [87/500], (rmse) loss:1.6171, (rmse) val_loss:1.7399\n",
      "epoch [88/500], (rmse) loss:1.6088, (rmse) val_loss:1.7377\n",
      "epoch [89/500], (rmse) loss:1.5987, (rmse) val_loss:1.7381\n",
      "epoch [90/500], (rmse) loss:1.5906, (rmse) val_loss:1.7374\n",
      "epoch [91/500], (rmse) loss:1.5812, (rmse) val_loss:1.7361\n",
      "epoch [92/500], (rmse) loss:1.5750, (rmse) val_loss:1.7378\n",
      "epoch [93/500], (rmse) loss:1.5648, (rmse) val_loss:1.7361\n",
      "epoch [94/500], (rmse) loss:1.5538, (rmse) val_loss:1.7338\n",
      "epoch [95/500], (rmse) loss:1.5442, (rmse) val_loss:1.7332\n",
      "epoch [96/500], (rmse) loss:1.5372, (rmse) val_loss:1.7317\n",
      "epoch [97/500], (rmse) loss:1.5282, (rmse) val_loss:1.7298\n",
      "epoch [98/500], (rmse) loss:1.5202, (rmse) val_loss:1.7309\n",
      "epoch [99/500], (rmse) loss:1.5112, (rmse) val_loss:1.7275\n",
      "epoch [100/500], (rmse) loss:1.5005, (rmse) val_loss:1.7293\n",
      "epoch [101/500], (rmse) loss:1.4945, (rmse) val_loss:1.7270\n",
      "epoch [102/500], (rmse) loss:1.4845, (rmse) val_loss:1.7262\n",
      "epoch [103/500], (rmse) loss:1.4769, (rmse) val_loss:1.7248\n",
      "epoch [104/500], (rmse) loss:1.4677, (rmse) val_loss:1.7265\n",
      "epoch [105/500], (rmse) loss:1.4621, (rmse) val_loss:1.7254\n",
      "epoch [106/500], (rmse) loss:1.4544, (rmse) val_loss:1.7252\n",
      "epoch [107/500], (rmse) loss:1.4476, (rmse) val_loss:1.7265\n",
      "epoch [108/500], (rmse) loss:1.4399, (rmse) val_loss:1.7237\n",
      "epoch [109/500], (rmse) loss:1.4320, (rmse) val_loss:1.7264\n",
      "epoch [110/500], (rmse) loss:1.4237, (rmse) val_loss:1.7243\n",
      "epoch [111/500], (rmse) loss:1.4172, (rmse) val_loss:1.7233\n",
      "epoch [112/500], (rmse) loss:1.4078, (rmse) val_loss:1.7268\n",
      "epoch [113/500], (rmse) loss:1.4018, (rmse) val_loss:1.7222\n",
      "epoch [114/500], (rmse) loss:1.3946, (rmse) val_loss:1.7220\n",
      "epoch [115/500], (rmse) loss:1.3882, (rmse) val_loss:1.7208\n",
      "epoch [116/500], (rmse) loss:1.3812, (rmse) val_loss:1.7231\n",
      "epoch [117/500], (rmse) loss:1.3755, (rmse) val_loss:1.7224\n",
      "epoch [118/500], (rmse) loss:1.3696, (rmse) val_loss:1.7234\n",
      "epoch [119/500], (rmse) loss:1.3625, (rmse) val_loss:1.7240\n",
      "epoch [120/500], (rmse) loss:1.3557, (rmse) val_loss:1.7233\n",
      "epoch [121/500], (rmse) loss:1.3495, (rmse) val_loss:1.7209\n",
      "epoch [122/500], (rmse) loss:1.3418, (rmse) val_loss:1.7228\n",
      "epoch [123/500], (rmse) loss:1.3357, (rmse) val_loss:1.7207\n",
      "epoch [124/500], (rmse) loss:1.3291, (rmse) val_loss:1.7240\n",
      "epoch [125/500], (rmse) loss:1.3243, (rmse) val_loss:1.7243\n",
      "epoch [126/500], (rmse) loss:1.3197, (rmse) val_loss:1.7216\n",
      "epoch [127/500], (rmse) loss:1.3128, (rmse) val_loss:1.7239\n",
      "epoch [128/500], (rmse) loss:1.3077, (rmse) val_loss:1.7235\n",
      "epoch [129/500], (rmse) loss:1.3004, (rmse) val_loss:1.7223\n",
      "epoch [130/500], (rmse) loss:1.2930, (rmse) val_loss:1.7241\n",
      "epoch [131/500], (rmse) loss:1.2869, (rmse) val_loss:1.7230\n",
      "epoch [132/500], (rmse) loss:1.2799, (rmse) val_loss:1.7236\n",
      "epoch [133/500], (rmse) loss:1.2773, (rmse) val_loss:1.7229\n",
      "epoch [134/500], (rmse) loss:1.2707, (rmse) val_loss:1.7259\n",
      "epoch [135/500], (rmse) loss:1.2651, (rmse) val_loss:1.7245\n",
      "epoch [136/500], (rmse) loss:1.2594, (rmse) val_loss:1.7267\n",
      "epoch [137/500], (rmse) loss:1.2549, (rmse) val_loss:1.7260\n",
      "epoch [138/500], (rmse) loss:1.2517, (rmse) val_loss:1.7290\n",
      "epoch [139/500], (rmse) loss:1.2471, (rmse) val_loss:1.7305\n",
      "epoch [140/500], (rmse) loss:1.2412, (rmse) val_loss:1.7278\n"
     ]
    },
    {
     "name": "stdout",
     "output_type": "stream",
     "text": [
      "epoch [141/500], (rmse) loss:1.2359, (rmse) val_loss:1.7317\n",
      "epoch [142/500], (rmse) loss:1.2296, (rmse) val_loss:1.7277\n",
      "epoch [143/500], (rmse) loss:1.2254, (rmse) val_loss:1.7307\n",
      "epoch [144/500], (rmse) loss:1.2207, (rmse) val_loss:1.7314\n",
      "epoch [145/500], (rmse) loss:1.2174, (rmse) val_loss:1.7278\n",
      "epoch [146/500], (rmse) loss:1.2100, (rmse) val_loss:1.7326\n",
      "epoch [147/500], (rmse) loss:1.2063, (rmse) val_loss:1.7330\n",
      "epoch [148/500], (rmse) loss:1.2021, (rmse) val_loss:1.7332\n",
      "epoch [149/500], (rmse) loss:1.1979, (rmse) val_loss:1.7316\n",
      "epoch [150/500], (rmse) loss:1.1954, (rmse) val_loss:1.7335\n",
      "epoch [151/500], (rmse) loss:1.1883, (rmse) val_loss:1.7319\n",
      "epoch [152/500], (rmse) loss:1.1829, (rmse) val_loss:1.7331\n",
      "epoch [153/500], (rmse) loss:1.1798, (rmse) val_loss:1.7349\n",
      "epoch [154/500], (rmse) loss:1.1761, (rmse) val_loss:1.7351\n",
      "epoch [155/500], (rmse) loss:1.1738, (rmse) val_loss:1.7346\n",
      "epoch [156/500], (rmse) loss:1.1668, (rmse) val_loss:1.7387\n",
      "epoch [157/500], (rmse) loss:1.1635, (rmse) val_loss:1.7353\n",
      "epoch [158/500], (rmse) loss:1.1579, (rmse) val_loss:1.7374\n",
      "epoch [159/500], (rmse) loss:1.1545, (rmse) val_loss:1.7374\n",
      "epoch [160/500], (rmse) loss:1.1495, (rmse) val_loss:1.7357\n",
      "epoch [161/500], (rmse) loss:1.1485, (rmse) val_loss:1.7399\n",
      "epoch [162/500], (rmse) loss:1.1412, (rmse) val_loss:1.7391\n",
      "epoch [163/500], (rmse) loss:1.1380, (rmse) val_loss:1.7390\n",
      "epoch [164/500], (rmse) loss:1.1361, (rmse) val_loss:1.7452\n",
      "epoch [165/500], (rmse) loss:1.1315, (rmse) val_loss:1.7408\n",
      "epoch [166/500], (rmse) loss:1.1269, (rmse) val_loss:1.7426\n",
      "epoch [167/500], (rmse) loss:1.1249, (rmse) val_loss:1.7400\n",
      "epoch [168/500], (rmse) loss:1.1238, (rmse) val_loss:1.7417\n",
      "epoch [169/500], (rmse) loss:1.1188, (rmse) val_loss:1.7429\n",
      "epoch [170/500], (rmse) loss:1.1138, (rmse) val_loss:1.7445\n",
      "epoch [171/500], (rmse) loss:1.1116, (rmse) val_loss:1.7449\n",
      "epoch [172/500], (rmse) loss:1.1067, (rmse) val_loss:1.7427\n",
      "epoch [173/500], (rmse) loss:1.1019, (rmse) val_loss:1.7432\n",
      "epoch [174/500], (rmse) loss:1.1005, (rmse) val_loss:1.7434\n",
      "epoch [175/500], (rmse) loss:1.0957, (rmse) val_loss:1.7453\n",
      "epoch [176/500], (rmse) loss:1.0914, (rmse) val_loss:1.7436\n",
      "epoch [177/500], (rmse) loss:1.0870, (rmse) val_loss:1.7455\n",
      "epoch [178/500], (rmse) loss:1.0844, (rmse) val_loss:1.7441\n",
      "epoch [179/500], (rmse) loss:1.0819, (rmse) val_loss:1.7438\n",
      "epoch [180/500], (rmse) loss:1.0782, (rmse) val_loss:1.7445\n",
      "epoch [181/500], (rmse) loss:1.0771, (rmse) val_loss:1.7468\n",
      "epoch [182/500], (rmse) loss:1.0735, (rmse) val_loss:1.7459\n",
      "epoch [183/500], (rmse) loss:1.0714, (rmse) val_loss:1.7491\n",
      "epoch [184/500], (rmse) loss:1.0671, (rmse) val_loss:1.7477\n",
      "epoch [185/500], (rmse) loss:1.0643, (rmse) val_loss:1.7464\n",
      "epoch [186/500], (rmse) loss:1.0615, (rmse) val_loss:1.7459\n",
      "epoch [187/500], (rmse) loss:1.0596, (rmse) val_loss:1.7469\n",
      "epoch [188/500], (rmse) loss:1.0560, (rmse) val_loss:1.7455\n",
      "epoch [189/500], (rmse) loss:1.0519, (rmse) val_loss:1.7479\n",
      "epoch [190/500], (rmse) loss:1.0491, (rmse) val_loss:1.7474\n",
      "epoch [191/500], (rmse) loss:1.0518, (rmse) val_loss:1.7492\n",
      "epoch [192/500], (rmse) loss:1.0488, (rmse) val_loss:1.7490\n",
      "epoch [193/500], (rmse) loss:1.0449, (rmse) val_loss:1.7481\n",
      "epoch [194/500], (rmse) loss:1.0400, (rmse) val_loss:1.7482\n",
      "epoch [195/500], (rmse) loss:1.0364, (rmse) val_loss:1.7473\n",
      "epoch [196/500], (rmse) loss:1.0330, (rmse) val_loss:1.7471\n",
      "epoch [197/500], (rmse) loss:1.0322, (rmse) val_loss:1.7506\n",
      "epoch [198/500], (rmse) loss:1.0302, (rmse) val_loss:1.7500\n",
      "epoch [199/500], (rmse) loss:1.0255, (rmse) val_loss:1.7484\n",
      "epoch [200/500], (rmse) loss:1.0241, (rmse) val_loss:1.7487\n",
      "epoch [201/500], (rmse) loss:1.0197, (rmse) val_loss:1.7494\n",
      "epoch [202/500], (rmse) loss:1.0159, (rmse) val_loss:1.7507\n",
      "epoch [203/500], (rmse) loss:1.0181, (rmse) val_loss:1.7493\n",
      "epoch [204/500], (rmse) loss:1.0149, (rmse) val_loss:1.7512\n",
      "epoch [205/500], (rmse) loss:1.0120, (rmse) val_loss:1.7516\n",
      "epoch [206/500], (rmse) loss:1.0095, (rmse) val_loss:1.7520\n",
      "epoch [207/500], (rmse) loss:1.0053, (rmse) val_loss:1.7516\n",
      "epoch [208/500], (rmse) loss:1.0040, (rmse) val_loss:1.7517\n",
      "epoch [209/500], (rmse) loss:1.0036, (rmse) val_loss:1.7521\n",
      "epoch [210/500], (rmse) loss:1.0046, (rmse) val_loss:1.7504\n",
      "epoch [211/500], (rmse) loss:1.0008, (rmse) val_loss:1.7524\n",
      "epoch [212/500], (rmse) loss:1.0020, (rmse) val_loss:1.7518\n",
      "epoch [213/500], (rmse) loss:0.9986, (rmse) val_loss:1.7577\n",
      "epoch [214/500], (rmse) loss:1.0044, (rmse) val_loss:1.7524\n",
      "epoch [215/500], (rmse) loss:1.0023, (rmse) val_loss:1.7555\n",
      "epoch [216/500], (rmse) loss:0.9990, (rmse) val_loss:1.7507\n",
      "epoch [217/500], (rmse) loss:0.9906, (rmse) val_loss:1.7539\n",
      "epoch [218/500], (rmse) loss:0.9863, (rmse) val_loss:1.7512\n",
      "epoch [219/500], (rmse) loss:0.9822, (rmse) val_loss:1.7541\n",
      "epoch [220/500], (rmse) loss:0.9812, (rmse) val_loss:1.7504\n",
      "epoch [221/500], (rmse) loss:0.9769, (rmse) val_loss:1.7521\n",
      "epoch [222/500], (rmse) loss:0.9724, (rmse) val_loss:1.7507\n",
      "epoch [223/500], (rmse) loss:0.9720, (rmse) val_loss:1.7519\n",
      "epoch [224/500], (rmse) loss:0.9708, (rmse) val_loss:1.7546\n",
      "epoch [225/500], (rmse) loss:0.9689, (rmse) val_loss:1.7559\n",
      "epoch [226/500], (rmse) loss:0.9665, (rmse) val_loss:1.7544\n",
      "epoch [227/500], (rmse) loss:0.9646, (rmse) val_loss:1.7556\n",
      "epoch [228/500], (rmse) loss:0.9595, (rmse) val_loss:1.7560\n",
      "epoch [229/500], (rmse) loss:0.9594, (rmse) val_loss:1.7546\n",
      "epoch [230/500], (rmse) loss:0.9590, (rmse) val_loss:1.7564\n",
      "epoch [231/500], (rmse) loss:0.9546, (rmse) val_loss:1.7563\n",
      "epoch [232/500], (rmse) loss:0.9538, (rmse) val_loss:1.7560\n",
      "epoch [233/500], (rmse) loss:0.9523, (rmse) val_loss:1.7581\n",
      "epoch [234/500], (rmse) loss:0.9511, (rmse) val_loss:1.7564\n",
      "epoch [235/500], (rmse) loss:0.9481, (rmse) val_loss:1.7565\n",
      "epoch [236/500], (rmse) loss:0.9498, (rmse) val_loss:1.7563\n",
      "epoch [237/500], (rmse) loss:0.9480, (rmse) val_loss:1.7576\n",
      "epoch [238/500], (rmse) loss:0.9447, (rmse) val_loss:1.7581\n",
      "epoch [239/500], (rmse) loss:0.9427, (rmse) val_loss:1.7613\n",
      "epoch [240/500], (rmse) loss:0.9444, (rmse) val_loss:1.7564\n",
      "epoch [241/500], (rmse) loss:0.9391, (rmse) val_loss:1.7587\n",
      "epoch [242/500], (rmse) loss:0.9395, (rmse) val_loss:1.7606\n",
      "epoch [243/500], (rmse) loss:0.9352, (rmse) val_loss:1.7615\n",
      "epoch [244/500], (rmse) loss:0.9366, (rmse) val_loss:1.7599\n",
      "epoch [245/500], (rmse) loss:0.9332, (rmse) val_loss:1.7588\n",
      "epoch [246/500], (rmse) loss:0.9311, (rmse) val_loss:1.7606\n",
      "epoch [247/500], (rmse) loss:0.9285, (rmse) val_loss:1.7594\n",
      "epoch [248/500], (rmse) loss:0.9264, (rmse) val_loss:1.7609\n",
      "epoch [249/500], (rmse) loss:0.9242, (rmse) val_loss:1.7591\n",
      "epoch [250/500], (rmse) loss:0.9213, (rmse) val_loss:1.7581\n",
      "epoch [251/500], (rmse) loss:0.9213, (rmse) val_loss:1.7617\n",
      "epoch [252/500], (rmse) loss:0.9202, (rmse) val_loss:1.7597\n",
      "epoch [253/500], (rmse) loss:0.9198, (rmse) val_loss:1.7612\n",
      "epoch [254/500], (rmse) loss:0.9184, (rmse) val_loss:1.7634\n",
      "epoch [255/500], (rmse) loss:0.9197, (rmse) val_loss:1.7598\n",
      "epoch [256/500], (rmse) loss:0.9178, (rmse) val_loss:1.7637\n",
      "epoch [257/500], (rmse) loss:0.9153, (rmse) val_loss:1.7592\n",
      "epoch [258/500], (rmse) loss:0.9127, (rmse) val_loss:1.7638\n",
      "epoch [259/500], (rmse) loss:0.9099, (rmse) val_loss:1.7624\n",
      "epoch [260/500], (rmse) loss:0.9077, (rmse) val_loss:1.7637\n",
      "epoch [261/500], (rmse) loss:0.9094, (rmse) val_loss:1.7643\n",
      "epoch [262/500], (rmse) loss:0.9060, (rmse) val_loss:1.7633\n",
      "epoch [263/500], (rmse) loss:0.9042, (rmse) val_loss:1.7623\n",
      "epoch [264/500], (rmse) loss:0.9025, (rmse) val_loss:1.7669\n",
      "epoch [265/500], (rmse) loss:0.9008, (rmse) val_loss:1.7645\n",
      "epoch [266/500], (rmse) loss:0.9005, (rmse) val_loss:1.7644\n",
      "epoch [267/500], (rmse) loss:0.9006, (rmse) val_loss:1.7642\n",
      "epoch [268/500], (rmse) loss:0.8992, (rmse) val_loss:1.7671\n",
      "epoch [269/500], (rmse) loss:0.8966, (rmse) val_loss:1.7674\n",
      "epoch [270/500], (rmse) loss:0.8986, (rmse) val_loss:1.7684\n",
      "epoch [271/500], (rmse) loss:0.8939, (rmse) val_loss:1.7635\n",
      "epoch [272/500], (rmse) loss:0.8911, (rmse) val_loss:1.7678\n",
      "epoch [273/500], (rmse) loss:0.8923, (rmse) val_loss:1.7648\n",
      "epoch [274/500], (rmse) loss:0.8899, (rmse) val_loss:1.7681\n",
      "epoch [275/500], (rmse) loss:0.8885, (rmse) val_loss:1.7716\n",
      "epoch [276/500], (rmse) loss:0.8898, (rmse) val_loss:1.7671\n",
      "epoch [277/500], (rmse) loss:0.8877, (rmse) val_loss:1.7722\n",
      "epoch [278/500], (rmse) loss:0.8871, (rmse) val_loss:1.7689\n"
     ]
    },
    {
     "name": "stdout",
     "output_type": "stream",
     "text": [
      "epoch [279/500], (rmse) loss:0.8819, (rmse) val_loss:1.7713\n",
      "epoch [280/500], (rmse) loss:0.8810, (rmse) val_loss:1.7716\n",
      "epoch [281/500], (rmse) loss:0.8800, (rmse) val_loss:1.7709\n",
      "epoch [282/500], (rmse) loss:0.8809, (rmse) val_loss:1.7727\n",
      "epoch [283/500], (rmse) loss:0.8742, (rmse) val_loss:1.7686\n",
      "epoch [284/500], (rmse) loss:0.8730, (rmse) val_loss:1.7709\n",
      "epoch [285/500], (rmse) loss:0.8714, (rmse) val_loss:1.7719\n",
      "epoch [286/500], (rmse) loss:0.8711, (rmse) val_loss:1.7724\n",
      "epoch [287/500], (rmse) loss:0.8728, (rmse) val_loss:1.7739\n",
      "epoch [288/500], (rmse) loss:0.8751, (rmse) val_loss:1.7697\n",
      "epoch [289/500], (rmse) loss:0.8732, (rmse) val_loss:1.7685\n",
      "epoch [290/500], (rmse) loss:0.8704, (rmse) val_loss:1.7734\n",
      "epoch [291/500], (rmse) loss:0.8690, (rmse) val_loss:1.7733\n",
      "epoch [292/500], (rmse) loss:0.8686, (rmse) val_loss:1.7736\n",
      "epoch [293/500], (rmse) loss:0.8679, (rmse) val_loss:1.7728\n",
      "epoch [294/500], (rmse) loss:0.8646, (rmse) val_loss:1.7697\n",
      "epoch [295/500], (rmse) loss:0.8631, (rmse) val_loss:1.7719\n",
      "epoch [296/500], (rmse) loss:0.8608, (rmse) val_loss:1.7703\n",
      "epoch [297/500], (rmse) loss:0.8599, (rmse) val_loss:1.7729\n",
      "epoch [298/500], (rmse) loss:0.8593, (rmse) val_loss:1.7734\n",
      "epoch [299/500], (rmse) loss:0.8603, (rmse) val_loss:1.7747\n",
      "epoch [300/500], (rmse) loss:0.8588, (rmse) val_loss:1.7748\n",
      "epoch [301/500], (rmse) loss:0.8567, (rmse) val_loss:1.7756\n",
      "epoch [302/500], (rmse) loss:0.8594, (rmse) val_loss:1.7769\n",
      "epoch [303/500], (rmse) loss:0.8565, (rmse) val_loss:1.7763\n",
      "epoch [304/500], (rmse) loss:0.8526, (rmse) val_loss:1.7764\n",
      "epoch [305/500], (rmse) loss:0.8522, (rmse) val_loss:1.7767\n",
      "epoch [306/500], (rmse) loss:0.8524, (rmse) val_loss:1.7774\n",
      "epoch [307/500], (rmse) loss:0.8504, (rmse) val_loss:1.7778\n",
      "epoch [308/500], (rmse) loss:0.8533, (rmse) val_loss:1.7806\n",
      "epoch [309/500], (rmse) loss:0.8564, (rmse) val_loss:1.7779\n",
      "epoch [310/500], (rmse) loss:0.8491, (rmse) val_loss:1.7779\n",
      "epoch [311/500], (rmse) loss:0.8450, (rmse) val_loss:1.7794\n",
      "epoch [312/500], (rmse) loss:0.8474, (rmse) val_loss:1.7796\n",
      "epoch [313/500], (rmse) loss:0.8472, (rmse) val_loss:1.7803\n",
      "epoch [314/500], (rmse) loss:0.8464, (rmse) val_loss:1.7798\n",
      "epoch [315/500], (rmse) loss:0.8445, (rmse) val_loss:1.7813\n",
      "epoch [316/500], (rmse) loss:0.8434, (rmse) val_loss:1.7796\n",
      "epoch [317/500], (rmse) loss:0.8430, (rmse) val_loss:1.7816\n",
      "epoch [318/500], (rmse) loss:0.8425, (rmse) val_loss:1.7796\n",
      "epoch [319/500], (rmse) loss:0.8420, (rmse) val_loss:1.7798\n",
      "epoch [320/500], (rmse) loss:0.8372, (rmse) val_loss:1.7809\n",
      "epoch [321/500], (rmse) loss:0.8349, (rmse) val_loss:1.7799\n",
      "epoch [322/500], (rmse) loss:0.8381, (rmse) val_loss:1.7800\n",
      "epoch [323/500], (rmse) loss:0.8337, (rmse) val_loss:1.7802\n",
      "epoch [324/500], (rmse) loss:0.8333, (rmse) val_loss:1.7848\n",
      "epoch [325/500], (rmse) loss:0.8358, (rmse) val_loss:1.7826\n",
      "epoch [326/500], (rmse) loss:0.8332, (rmse) val_loss:1.7804\n",
      "epoch [327/500], (rmse) loss:0.8333, (rmse) val_loss:1.7824\n",
      "epoch [328/500], (rmse) loss:0.8338, (rmse) val_loss:1.7795\n",
      "epoch [329/500], (rmse) loss:0.8299, (rmse) val_loss:1.7821\n",
      "epoch [330/500], (rmse) loss:0.8273, (rmse) val_loss:1.7834\n",
      "epoch [331/500], (rmse) loss:0.8280, (rmse) val_loss:1.7839\n",
      "epoch [332/500], (rmse) loss:0.8303, (rmse) val_loss:1.7841\n",
      "epoch [333/500], (rmse) loss:0.8300, (rmse) val_loss:1.7853\n",
      "epoch [334/500], (rmse) loss:0.8277, (rmse) val_loss:1.7860\n",
      "epoch [335/500], (rmse) loss:0.8260, (rmse) val_loss:1.7859\n",
      "epoch [336/500], (rmse) loss:0.8239, (rmse) val_loss:1.7861\n",
      "epoch [337/500], (rmse) loss:0.8227, (rmse) val_loss:1.7855\n",
      "epoch [338/500], (rmse) loss:0.8233, (rmse) val_loss:1.7843\n",
      "epoch [339/500], (rmse) loss:0.8171, (rmse) val_loss:1.7838\n",
      "epoch [340/500], (rmse) loss:0.8177, (rmse) val_loss:1.7873\n",
      "epoch [341/500], (rmse) loss:0.8164, (rmse) val_loss:1.7841\n",
      "epoch [342/500], (rmse) loss:0.8172, (rmse) val_loss:1.7880\n",
      "epoch [343/500], (rmse) loss:0.8162, (rmse) val_loss:1.7857\n",
      "epoch [344/500], (rmse) loss:0.8152, (rmse) val_loss:1.7869\n",
      "epoch [345/500], (rmse) loss:0.8171, (rmse) val_loss:1.7852\n",
      "epoch [346/500], (rmse) loss:0.8139, (rmse) val_loss:1.7848\n",
      "epoch [347/500], (rmse) loss:0.8124, (rmse) val_loss:1.7850\n",
      "epoch [348/500], (rmse) loss:0.8124, (rmse) val_loss:1.7873\n",
      "epoch [349/500], (rmse) loss:0.8112, (rmse) val_loss:1.7863\n",
      "epoch [350/500], (rmse) loss:0.8123, (rmse) val_loss:1.7892\n",
      "epoch [351/500], (rmse) loss:0.8100, (rmse) val_loss:1.7901\n",
      "epoch [352/500], (rmse) loss:0.8090, (rmse) val_loss:1.7891\n",
      "epoch [353/500], (rmse) loss:0.8047, (rmse) val_loss:1.7894\n",
      "epoch [354/500], (rmse) loss:0.8060, (rmse) val_loss:1.7889\n",
      "epoch [355/500], (rmse) loss:0.8057, (rmse) val_loss:1.7876\n",
      "epoch [356/500], (rmse) loss:0.8037, (rmse) val_loss:1.7916\n",
      "epoch [357/500], (rmse) loss:0.8050, (rmse) val_loss:1.7926\n",
      "epoch [358/500], (rmse) loss:0.8056, (rmse) val_loss:1.7902\n",
      "epoch [359/500], (rmse) loss:0.8034, (rmse) val_loss:1.7928\n",
      "epoch [360/500], (rmse) loss:0.8024, (rmse) val_loss:1.7941\n",
      "epoch [361/500], (rmse) loss:0.8033, (rmse) val_loss:1.7922\n",
      "epoch [362/500], (rmse) loss:0.8027, (rmse) val_loss:1.7919\n",
      "epoch [363/500], (rmse) loss:0.7980, (rmse) val_loss:1.7911\n",
      "epoch [364/500], (rmse) loss:0.7979, (rmse) val_loss:1.7890\n",
      "epoch [365/500], (rmse) loss:0.7999, (rmse) val_loss:1.7932\n",
      "epoch [366/500], (rmse) loss:0.7976, (rmse) val_loss:1.7910\n",
      "epoch [367/500], (rmse) loss:0.7986, (rmse) val_loss:1.7908\n",
      "epoch [368/500], (rmse) loss:0.7962, (rmse) val_loss:1.7922\n",
      "epoch [369/500], (rmse) loss:0.7943, (rmse) val_loss:1.7924\n",
      "epoch [370/500], (rmse) loss:0.7984, (rmse) val_loss:1.7928\n",
      "epoch [371/500], (rmse) loss:0.7946, (rmse) val_loss:1.7954\n",
      "epoch [372/500], (rmse) loss:0.7964, (rmse) val_loss:1.7927\n",
      "epoch [373/500], (rmse) loss:0.7966, (rmse) val_loss:1.7935\n",
      "epoch [374/500], (rmse) loss:0.7915, (rmse) val_loss:1.7946\n",
      "epoch [375/500], (rmse) loss:0.7891, (rmse) val_loss:1.7924\n",
      "epoch [376/500], (rmse) loss:0.7880, (rmse) val_loss:1.7949\n",
      "epoch [377/500], (rmse) loss:0.7895, (rmse) val_loss:1.7929\n",
      "epoch [378/500], (rmse) loss:0.7895, (rmse) val_loss:1.7938\n",
      "epoch [379/500], (rmse) loss:0.7931, (rmse) val_loss:1.7937\n",
      "epoch [380/500], (rmse) loss:0.7886, (rmse) val_loss:1.7957\n",
      "epoch [381/500], (rmse) loss:0.7897, (rmse) val_loss:1.7959\n",
      "epoch [382/500], (rmse) loss:0.7880, (rmse) val_loss:1.7968\n",
      "epoch [383/500], (rmse) loss:0.7870, (rmse) val_loss:1.7971\n",
      "epoch [384/500], (rmse) loss:0.7831, (rmse) val_loss:1.7970\n",
      "epoch [385/500], (rmse) loss:0.7850, (rmse) val_loss:1.7976\n",
      "epoch [386/500], (rmse) loss:0.7868, (rmse) val_loss:1.8003\n",
      "epoch [387/500], (rmse) loss:0.7894, (rmse) val_loss:1.7975\n",
      "epoch [388/500], (rmse) loss:0.7878, (rmse) val_loss:1.7966\n",
      "epoch [389/500], (rmse) loss:0.7865, (rmse) val_loss:1.7975\n",
      "epoch [390/500], (rmse) loss:0.7851, (rmse) val_loss:1.7996\n",
      "epoch [391/500], (rmse) loss:0.7879, (rmse) val_loss:1.8020\n",
      "epoch [392/500], (rmse) loss:0.7897, (rmse) val_loss:1.7988\n",
      "epoch [393/500], (rmse) loss:0.7852, (rmse) val_loss:1.7977\n",
      "epoch [394/500], (rmse) loss:0.7821, (rmse) val_loss:1.7977\n",
      "epoch [395/500], (rmse) loss:0.7808, (rmse) val_loss:1.7978\n",
      "epoch [396/500], (rmse) loss:0.7802, (rmse) val_loss:1.8000\n",
      "epoch [397/500], (rmse) loss:0.7824, (rmse) val_loss:1.7993\n",
      "epoch [398/500], (rmse) loss:0.7814, (rmse) val_loss:1.7999\n",
      "epoch [399/500], (rmse) loss:0.7812, (rmse) val_loss:1.8004\n",
      "epoch [400/500], (rmse) loss:0.7796, (rmse) val_loss:1.8012\n",
      "epoch [401/500], (rmse) loss:0.7766, (rmse) val_loss:1.8008\n",
      "epoch [402/500], (rmse) loss:0.7770, (rmse) val_loss:1.7999\n",
      "epoch [403/500], (rmse) loss:0.7779, (rmse) val_loss:1.7998\n",
      "epoch [404/500], (rmse) loss:0.7750, (rmse) val_loss:1.7995\n",
      "epoch [405/500], (rmse) loss:0.7732, (rmse) val_loss:1.7997\n",
      "epoch [406/500], (rmse) loss:0.7722, (rmse) val_loss:1.8010\n",
      "epoch [407/500], (rmse) loss:0.7700, (rmse) val_loss:1.7996\n",
      "epoch [408/500], (rmse) loss:0.7711, (rmse) val_loss:1.8008\n",
      "epoch [409/500], (rmse) loss:0.7702, (rmse) val_loss:1.7986\n",
      "epoch [410/500], (rmse) loss:0.7697, (rmse) val_loss:1.7999\n",
      "epoch [411/500], (rmse) loss:0.7680, (rmse) val_loss:1.8004\n",
      "epoch [412/500], (rmse) loss:0.7698, (rmse) val_loss:1.8032\n",
      "epoch [413/500], (rmse) loss:0.7711, (rmse) val_loss:1.8056\n",
      "epoch [414/500], (rmse) loss:0.7721, (rmse) val_loss:1.8048\n",
      "epoch [415/500], (rmse) loss:0.7702, (rmse) val_loss:1.8075\n",
      "epoch [416/500], (rmse) loss:0.7715, (rmse) val_loss:1.8042\n"
     ]
    },
    {
     "name": "stdout",
     "output_type": "stream",
     "text": [
      "epoch [417/500], (rmse) loss:0.7720, (rmse) val_loss:1.8053\n",
      "epoch [418/500], (rmse) loss:0.7695, (rmse) val_loss:1.8039\n",
      "epoch [419/500], (rmse) loss:0.7678, (rmse) val_loss:1.8047\n",
      "epoch [420/500], (rmse) loss:0.7719, (rmse) val_loss:1.8052\n",
      "epoch [421/500], (rmse) loss:0.7732, (rmse) val_loss:1.8046\n",
      "epoch [422/500], (rmse) loss:0.7698, (rmse) val_loss:1.8071\n",
      "epoch [423/500], (rmse) loss:0.7674, (rmse) val_loss:1.8073\n",
      "epoch [424/500], (rmse) loss:0.7671, (rmse) val_loss:1.8062\n",
      "epoch [425/500], (rmse) loss:0.7627, (rmse) val_loss:1.8081\n",
      "epoch [426/500], (rmse) loss:0.7623, (rmse) val_loss:1.8097\n",
      "epoch [427/500], (rmse) loss:0.7613, (rmse) val_loss:1.8071\n",
      "epoch [428/500], (rmse) loss:0.7588, (rmse) val_loss:1.8079\n",
      "epoch [429/500], (rmse) loss:0.7635, (rmse) val_loss:1.8104\n",
      "epoch [430/500], (rmse) loss:0.7645, (rmse) val_loss:1.8063\n",
      "epoch [431/500], (rmse) loss:0.7615, (rmse) val_loss:1.8090\n",
      "epoch [432/500], (rmse) loss:0.7612, (rmse) val_loss:1.8089\n",
      "epoch [433/500], (rmse) loss:0.7630, (rmse) val_loss:1.8113\n",
      "epoch [434/500], (rmse) loss:0.7594, (rmse) val_loss:1.8077\n",
      "epoch [435/500], (rmse) loss:0.7647, (rmse) val_loss:1.8110\n",
      "epoch [436/500], (rmse) loss:0.7591, (rmse) val_loss:1.8088\n",
      "epoch [437/500], (rmse) loss:0.7592, (rmse) val_loss:1.8108\n",
      "epoch [438/500], (rmse) loss:0.7578, (rmse) val_loss:1.8095\n",
      "epoch [439/500], (rmse) loss:0.7605, (rmse) val_loss:1.8099\n",
      "epoch [440/500], (rmse) loss:0.7591, (rmse) val_loss:1.8075\n",
      "epoch [441/500], (rmse) loss:0.7605, (rmse) val_loss:1.8115\n",
      "epoch [442/500], (rmse) loss:0.7605, (rmse) val_loss:1.8093\n",
      "epoch [443/500], (rmse) loss:0.7577, (rmse) val_loss:1.8130\n",
      "epoch [444/500], (rmse) loss:0.7604, (rmse) val_loss:1.8113\n",
      "epoch [445/500], (rmse) loss:0.7537, (rmse) val_loss:1.8104\n",
      "epoch [446/500], (rmse) loss:0.7529, (rmse) val_loss:1.8131\n",
      "epoch [447/500], (rmse) loss:0.7552, (rmse) val_loss:1.8102\n",
      "epoch [448/500], (rmse) loss:0.7510, (rmse) val_loss:1.8123\n",
      "epoch [449/500], (rmse) loss:0.7510, (rmse) val_loss:1.8087\n",
      "epoch [450/500], (rmse) loss:0.7494, (rmse) val_loss:1.8117\n",
      "epoch [451/500], (rmse) loss:0.7511, (rmse) val_loss:1.8118\n",
      "epoch [452/500], (rmse) loss:0.7505, (rmse) val_loss:1.8125\n",
      "epoch [453/500], (rmse) loss:0.7486, (rmse) val_loss:1.8122\n",
      "epoch [454/500], (rmse) loss:0.7499, (rmse) val_loss:1.8110\n",
      "epoch [455/500], (rmse) loss:0.7502, (rmse) val_loss:1.8108\n",
      "epoch [456/500], (rmse) loss:0.7456, (rmse) val_loss:1.8128\n",
      "epoch [457/500], (rmse) loss:0.7459, (rmse) val_loss:1.8122\n",
      "epoch [458/500], (rmse) loss:0.7432, (rmse) val_loss:1.8125\n",
      "epoch [459/500], (rmse) loss:0.7429, (rmse) val_loss:1.8123\n",
      "epoch [460/500], (rmse) loss:0.7477, (rmse) val_loss:1.8131\n",
      "epoch [461/500], (rmse) loss:0.7440, (rmse) val_loss:1.8124\n",
      "epoch [462/500], (rmse) loss:0.7421, (rmse) val_loss:1.8155\n",
      "epoch [463/500], (rmse) loss:0.7414, (rmse) val_loss:1.8128\n",
      "epoch [464/500], (rmse) loss:0.7457, (rmse) val_loss:1.8142\n",
      "epoch [465/500], (rmse) loss:0.7456, (rmse) val_loss:1.8144\n",
      "epoch [466/500], (rmse) loss:0.7448, (rmse) val_loss:1.8139\n",
      "epoch [467/500], (rmse) loss:0.7434, (rmse) val_loss:1.8136\n",
      "epoch [468/500], (rmse) loss:0.7424, (rmse) val_loss:1.8164\n",
      "epoch [469/500], (rmse) loss:0.7417, (rmse) val_loss:1.8154\n",
      "epoch [470/500], (rmse) loss:0.7398, (rmse) val_loss:1.8196\n",
      "epoch [471/500], (rmse) loss:0.7450, (rmse) val_loss:1.8159\n",
      "epoch [472/500], (rmse) loss:0.7443, (rmse) val_loss:1.8176\n",
      "epoch [473/500], (rmse) loss:0.7390, (rmse) val_loss:1.8151\n",
      "epoch [474/500], (rmse) loss:0.7374, (rmse) val_loss:1.8171\n",
      "epoch [475/500], (rmse) loss:0.7384, (rmse) val_loss:1.8171\n",
      "epoch [476/500], (rmse) loss:0.7401, (rmse) val_loss:1.8173\n",
      "epoch [477/500], (rmse) loss:0.7403, (rmse) val_loss:1.8156\n",
      "epoch [478/500], (rmse) loss:0.7396, (rmse) val_loss:1.8184\n",
      "epoch [479/500], (rmse) loss:0.7379, (rmse) val_loss:1.8187\n",
      "epoch [480/500], (rmse) loss:0.7400, (rmse) val_loss:1.8181\n",
      "epoch [481/500], (rmse) loss:0.7376, (rmse) val_loss:1.8183\n",
      "epoch [482/500], (rmse) loss:0.7375, (rmse) val_loss:1.8174\n",
      "epoch [483/500], (rmse) loss:0.7375, (rmse) val_loss:1.8165\n",
      "epoch [484/500], (rmse) loss:0.7377, (rmse) val_loss:1.8222\n",
      "epoch [485/500], (rmse) loss:0.7423, (rmse) val_loss:1.8203\n",
      "epoch [486/500], (rmse) loss:0.7452, (rmse) val_loss:1.8234\n",
      "epoch [487/500], (rmse) loss:0.7431, (rmse) val_loss:1.8182\n",
      "epoch [488/500], (rmse) loss:0.7414, (rmse) val_loss:1.8196\n",
      "epoch [489/500], (rmse) loss:0.7407, (rmse) val_loss:1.8207\n",
      "epoch [490/500], (rmse) loss:0.7415, (rmse) val_loss:1.8214\n",
      "epoch [491/500], (rmse) loss:0.7389, (rmse) val_loss:1.8208\n",
      "epoch [492/500], (rmse) loss:0.7350, (rmse) val_loss:1.8204\n",
      "epoch [493/500], (rmse) loss:0.7343, (rmse) val_loss:1.8222\n",
      "epoch [494/500], (rmse) loss:0.7377, (rmse) val_loss:1.8244\n",
      "epoch [495/500], (rmse) loss:0.7381, (rmse) val_loss:1.8198\n",
      "epoch [496/500], (rmse) loss:0.7323, (rmse) val_loss:1.8198\n",
      "epoch [497/500], (rmse) loss:0.7318, (rmse) val_loss:1.8195\n",
      "epoch [498/500], (rmse) loss:0.7310, (rmse) val_loss:1.8199\n",
      "epoch [499/500], (rmse) loss:0.7301, (rmse) val_loss:1.8181\n",
      "epoch [500/500], (rmse) loss:0.7295, (rmse) val_loss:1.8194\n"
     ]
    }
   ],
   "source": [
    "## Model Running (Training)\n",
    "model = run_epoch(model, X_train, X_eval, num_epochs= 500)"
   ]
  },
  {
   "cell_type": "markdown",
   "metadata": {
    "collapsed": true
   },
   "source": [
    "- We can see that while the neural network is clearly training due to the validation mse decreasing after each epoch, it is not decreasing as quickly as normal matrix factorization."
   ]
  },
  {
   "cell_type": "markdown",
   "metadata": {},
   "source": [
    "---\n",
    "## Movielens 0.1M\n",
    "---"
   ]
  },
  {
   "cell_type": "markdown",
   "metadata": {},
   "source": [
    "- Randomly Generated Data가 아닌 실제 데이터를 활용함\n",
    "- Recommendation계의 MNIST 데이터로 Movielnes Data Set을 활용\n",
    "\n",
    "(참고 : https://grouplens.org/datasets/movielens/)"
   ]
  },
  {
   "cell_type": "code",
   "execution_count": 70,
   "metadata": {
    "ExecuteTime": {
     "end_time": "2018-02-08T02:00:24.830463Z",
     "start_time": "2018-02-08T02:00:24.825731Z"
    }
   },
   "outputs": [
    {
     "data": {
      "text/plain": [
       "'/Users/Juyeong/Documents/gluon_study/Recommendation'"
      ]
     },
     "execution_count": 70,
     "metadata": {},
     "output_type": "execute_result"
    }
   ],
   "source": [
    "import os\n",
    "import zipfile\n",
    "\n",
    "os.getcwd()"
   ]
  },
  {
   "cell_type": "code",
   "execution_count": 71,
   "metadata": {
    "ExecuteTime": {
     "end_time": "2018-02-08T02:00:25.191109Z",
     "start_time": "2018-02-08T02:00:25.077785Z"
    }
   },
   "outputs": [
    {
     "data": {
      "text/plain": [
       "100004"
      ]
     },
     "execution_count": 71,
     "metadata": {},
     "output_type": "execute_result"
    }
   ],
   "source": [
    "# Now extract the data since we know we have it at this point\n",
    "with zipfile.ZipFile(\"ml-latest-small.zip\", \"r\") as f:\n",
    "    f.extractall(\"./\")\n",
    "\n",
    "# Now load it up using a pandas dataframe\n",
    "data = pandas.read_csv('./ml-latest-small/ratings.csv', sep=',', usecols=(0, 1, 2))\n",
    "data.head()\n",
    "# ratings from 0.5 to 5. by 0.5 inc\n",
    "len(data)\n",
    "\n",
    "#Since only ~20M of these are present, ~99.5% of the matrix is missing"
   ]
  },
  {
   "cell_type": "code",
   "execution_count": 72,
   "metadata": {
    "ExecuteTime": {
     "end_time": "2018-02-08T02:00:25.200867Z",
     "start_time": "2018-02-08T02:00:25.192995Z"
    }
   },
   "outputs": [
    {
     "name": "stdout",
     "output_type": "stream",
     "text": [
      "Min value of rating : 0.5\n",
      "Max value of rating : 5.0\n"
     ]
    }
   ],
   "source": [
    "print(\"Min value of rating : {}\".format(data.rating.min(axis=0)))\n",
    "print(\"Max value of rating : {}\".format(data.rating.max(axis=0)))"
   ]
  },
  {
   "cell_type": "code",
   "execution_count": 73,
   "metadata": {
    "ExecuteTime": {
     "end_time": "2018-02-08T02:00:25.456820Z",
     "start_time": "2018-02-08T02:00:25.202560Z"
    }
   },
   "outputs": [
    {
     "data": {
      "image/png": "[encoded data removed]",
      "text/plain": [
       "<matplotlib.figure.Figure at 0x106322cf8>"
      ]
     },
     "metadata": {},
     "output_type": "display_data"
    }
   ],
   "source": [
    "plt.hist(data['rating'])\n",
    "plt.xlabel(\"Rating\", fontsize=14)\n",
    "plt.ylabel(\"Count\", fontsize=14)\n",
    "plt.title(\"Distribution of Ratings in MovieLens 20M\", fontsize=14)\n",
    "plt.show()"
   ]
  },
  {
   "cell_type": "code",
   "execution_count": 74,
   "metadata": {
    "ExecuteTime": {
     "end_time": "2018-02-08T02:00:25.953800Z",
     "start_time": "2018-02-08T02:00:25.937812Z"
    }
   },
   "outputs": [
    {
     "name": "stdout",
     "output_type": "stream",
     "text": [
      "user id min/max:  1 671\n",
      "# unique users:  671\n",
      "\n",
      "movie id min/max:  1 163949\n",
      "# unique movies:  9066\n"
     ]
    }
   ],
   "source": [
    "print(\"user id min/max: \", data['userId'].min(), data['userId'].max())\n",
    "print(\"# unique users: \", numpy.unique(data['userId']).shape[0])\n",
    "print(\"\")\n",
    "print(\"movie id min/max: \", data['movieId'].min(), data['movieId'].max())\n",
    "print(\"# unique movies: \", numpy.unique(data['movieId']).shape[0])"
   ]
  },
  {
   "cell_type": "code",
   "execution_count": 75,
   "metadata": {
    "ExecuteTime": {
     "end_time": "2018-02-08T02:00:26.228084Z",
     "start_time": "2018-02-08T02:00:26.219490Z"
    },
    "collapsed": true
   },
   "outputs": [],
   "source": [
    "n_users, n_movies = numpy.unique(data['userId']).shape[0], numpy.unique(data['movieId']).shape[0]\n",
    "batch_size = 15000"
   ]
  },
  {
   "cell_type": "code",
   "execution_count": 76,
   "metadata": {
    "ExecuteTime": {
     "end_time": "2018-02-08T02:00:26.635175Z",
     "start_time": "2018-02-08T02:00:26.619199Z"
    },
    "collapsed": true
   },
   "outputs": [],
   "source": [
    "n = 90000\n",
    "\n",
    "data = data.sample(frac=1).reset_index(drop=True) # Shuffle the data in place row-wise\n",
    "\n",
    "# Use the first 19M samples to train the model\n",
    "train_users = data['userId'].values[:n] - 1 # Offset by 1 so that the IDs start at 0\n",
    "train_movies = data['movieId'].values[:n] - 1 # Offset by 1 so that the IDs start at 0\n",
    "train_ratings = data['rating'].values[:n]\n",
    "\n",
    "# Use the remaining ~1M samples for validation of the model\n",
    "valid_users = data['userId'].values[n:] - 1 # Offset by 1 so that the IDs start at 0\n",
    "valid_movies = data['movieId'].values[n:] - 1 # Offset by 1 so that the IDs start at 0\n",
    "valid_ratings = data['rating'].values[n:]"
   ]
  },
  {
   "cell_type": "code",
   "execution_count": 77,
   "metadata": {
    "ExecuteTime": {
     "end_time": "2018-02-08T02:00:27.072807Z",
     "start_time": "2018-02-08T02:00:27.066921Z"
    },
    "collapsed": true
   },
   "outputs": [],
   "source": [
    "X_train = gluon.data.DataLoader(gluon.data.ArrayDataset(train_users.astype('float32'), train_movies.astype('float32'), train_ratings.astype('float32')),\n",
    "                                      batch_size=batch_size, shuffle=True)\n",
    "\n",
    "X_eval = gluon.data.DataLoader(gluon.data.ArrayDataset(valid_users.astype('float32'), valid_movies.astype('float32'), valid_ratings.astype('float32')),\n",
    "                                      batch_size=batch_size, shuffle=True)"
   ]
  },
  {
   "cell_type": "code",
   "execution_count": 78,
   "metadata": {
    "ExecuteTime": {
     "end_time": "2018-02-08T02:00:27.721786Z",
     "start_time": "2018-02-08T02:00:27.713003Z"
    },
    "collapsed": true
   },
   "outputs": [],
   "source": [
    "class Vanilla_MF_ml(gluon.HybridBlock):\n",
    "    def __init__(self, **kwargs):\n",
    "        super(Vanilla_MF_ml, self).__init__(**kwargs)\n",
    "        with self.name_scope():\n",
    "            # layers created in name_scope will inherit name space\n",
    "            # from parent layer.\n",
    "            self.user = nn.Embedding(input_dim=n_users, output_dim=25)\n",
    "            self.movie = nn.Embedding(input_dim=n_movies, output_dim=25)\n",
    "            \n",
    "    def hybrid_forward(self, F, user_i, movie_i):\n",
    "        # Here `F` can be either mx.nd or mx.sym, x is the input data,\n",
    "        user_i = self.user(user_i)\n",
    "        movie_i = self.movie(movie_i)\n",
    "        z = F.sum(F.dot(user_i, movie_i, transpose_b=True), axis = 1)\n",
    "        return z"
   ]
  },
  {
   "cell_type": "code",
   "execution_count": 79,
   "metadata": {
    "ExecuteTime": {
     "end_time": "2018-02-08T02:00:28.361420Z",
     "start_time": "2018-02-08T02:00:28.353205Z"
    },
    "collapsed": true
   },
   "outputs": [],
   "source": [
    "# model initialization\n",
    "model = Vanilla_MF_ml()\n",
    "model.collect_params().initialize(mx.init.Xavier(), ctx=ctx)\n",
    "\n",
    "\n",
    "learning_rate = 1e-4\n",
    "criterion = gluon.loss.L2Loss()\n",
    "optimizer = gluon.Trainer(model.collect_params(), 'adam',\n",
    "                          {'learning_rate': learning_rate,\n",
    "                           'wd': 1e-5})"
   ]
  },
  {
   "cell_type": "code",
   "execution_count": 80,
   "metadata": {
    "ExecuteTime": {
     "end_time": "2018-02-08T02:12:21.471762Z",
     "start_time": "2018-02-08T02:00:28.752239Z"
    }
   },
   "outputs": [
    {
     "name": "stdout",
     "output_type": "stream",
     "text": [
      "epoch [1/20], (rmse) loss:7.6300, (rmse) val_loss:1.6164\n",
      "epoch [2/20], (rmse) loss:6.1213, (rmse) val_loss:1.3527\n",
      "epoch [3/20], (rmse) loss:4.9149, (rmse) val_loss:1.1550\n",
      "epoch [4/20], (rmse) loss:3.9896, (rmse) val_loss:1.0140\n",
      "epoch [5/20], (rmse) loss:3.3258, (rmse) val_loss:0.9242\n",
      "epoch [6/20], (rmse) loss:2.8980, (rmse) val_loss:0.8739\n",
      "epoch [7/20], (rmse) loss:2.6638, (rmse) val_loss:0.8484\n",
      "epoch [8/20], (rmse) loss:2.5382, (rmse) val_loss:0.8369\n",
      "epoch [9/20], (rmse) loss:2.4860, (rmse) val_loss:0.8313\n",
      "epoch [10/20], (rmse) loss:2.4569, (rmse) val_loss:0.8260\n",
      "epoch [11/20], (rmse) loss:2.4403, (rmse) val_loss:0.8204\n",
      "epoch [12/20], (rmse) loss:2.4198, (rmse) val_loss:0.8138\n",
      "epoch [13/20], (rmse) loss:2.3995, (rmse) val_loss:0.8067\n",
      "epoch [14/20], (rmse) loss:2.3748, (rmse) val_loss:0.7993\n",
      "epoch [15/20], (rmse) loss:2.3450, (rmse) val_loss:0.7917\n",
      "epoch [16/20], (rmse) loss:2.3237, (rmse) val_loss:0.7842\n",
      "epoch [17/20], (rmse) loss:2.2948, (rmse) val_loss:0.7770\n",
      "epoch [18/20], (rmse) loss:2.2641, (rmse) val_loss:0.7682\n",
      "epoch [19/20], (rmse) loss:2.2359, (rmse) val_loss:0.7590\n",
      "epoch [20/20], (rmse) loss:2.2025, (rmse) val_loss:0.7499\n"
     ]
    }
   ],
   "source": [
    "## Model Running (Training)\n",
    "model = run_epoch(model, X_train, X_eval, num_epochs= 20)"
   ]
  },
  {
   "cell_type": "code",
   "execution_count": 81,
   "metadata": {
    "ExecuteTime": {
     "end_time": "2018-02-08T02:12:21.491537Z",
     "start_time": "2018-02-08T02:12:21.473390Z"
    },
    "collapsed": true
   },
   "outputs": [],
   "source": [
    "class Deep_MF_ml(gluon.HybridBlock):\n",
    "    def __init__(self, **kwargs):\n",
    "        super(Deep_MF_ml, self).__init__(**kwargs)\n",
    "        with self.name_scope():\n",
    "            # layers created in name_scope will inherit name space\n",
    "            # from parent layer.\n",
    "            self.user = nn.Embedding(input_dim=n_users, output_dim=25)\n",
    "            self.movie = nn.Embedding(input_dim=n_movies, output_dim=25)\n",
    "            \n",
    "            \n",
    "            self.out = gluon.nn.HybridSequential('output_')\n",
    "            with self.out.name_scope():\n",
    "                self.out.add(nn.Flatten())\n",
    "                self.out.add(nn.Dense(64, activation='relu')) # encoding & latent layer\n",
    "                self.out.add(gluon.nn.BatchNorm(axis=1, center=True, scale=True))\n",
    "                self.out.add(nn.Dense(64, activation='relu')) # encoding & latent layer\n",
    "                self.out.add(gluon.nn.BatchNorm(axis=1, center=True, scale=True))\n",
    "                self.out.add(nn.Dense(1)) # encoding & latent layer\n",
    "            \n",
    "    def hybrid_forward(self, F, user_i, movie_i):\n",
    "        # Here `F` can be either mx.nd or mx.sym, x is the input data,\n",
    "        user_i = self.user(user_i)\n",
    "        movie_i = self.movie(movie_i)\n",
    "        \n",
    "        z = F.concat(user_i, movie_i)\n",
    "        z = self.out(z)\n",
    "        return z"
   ]
  },
  {
   "cell_type": "code",
   "execution_count": 82,
   "metadata": {
    "ExecuteTime": {
     "end_time": "2018-02-08T02:12:21.504023Z",
     "start_time": "2018-02-08T02:12:21.493167Z"
    },
    "collapsed": true
   },
   "outputs": [],
   "source": [
    "# model initialization\n",
    "model = Deep_MF_ml()\n",
    "model.collect_params().initialize(mx.init.Xavier(), ctx=ctx)\n",
    "\n",
    "\n",
    "learning_rate = 1e-2\n",
    "criterion = gluon.loss.L2Loss()\n",
    "optimizer = gluon.Trainer(model.collect_params(), 'adam',\n",
    "                          {'learning_rate': learning_rate,\n",
    "                           'wd': 1e-5})"
   ]
  },
  {
   "cell_type": "code",
   "execution_count": 83,
   "metadata": {
    "ExecuteTime": {
     "end_time": "2018-02-08T02:14:52.815270Z",
     "start_time": "2018-02-08T02:12:21.505846Z"
    }
   },
   "outputs": [
    {
     "name": "stdout",
     "output_type": "stream",
     "text": [
      "epoch [1/100], (rmse) loss:2.4970, (rmse) val_loss:0.7345\n",
      "epoch [2/100], (rmse) loss:1.9622, (rmse) val_loss:0.5358\n",
      "epoch [3/100], (rmse) loss:1.2644, (rmse) val_loss:0.2855\n",
      "epoch [4/100], (rmse) loss:0.6378, (rmse) val_loss:0.2677\n",
      "epoch [5/100], (rmse) loss:0.7770, (rmse) val_loss:0.2963\n",
      "epoch [6/100], (rmse) loss:0.6614, (rmse) val_loss:0.2288\n",
      "epoch [7/100], (rmse) loss:0.5040, (rmse) val_loss:0.2361\n",
      "epoch [8/100], (rmse) loss:0.5329, (rmse) val_loss:0.2397\n",
      "epoch [9/100], (rmse) loss:0.4914, (rmse) val_loss:0.2305\n",
      "epoch [10/100], (rmse) loss:0.4547, (rmse) val_loss:0.2336\n",
      "epoch [11/100], (rmse) loss:0.4528, (rmse) val_loss:0.2346\n",
      "epoch [12/100], (rmse) loss:0.4353, (rmse) val_loss:0.2335\n",
      "epoch [13/100], (rmse) loss:0.4269, (rmse) val_loss:0.2357\n",
      "epoch [14/100], (rmse) loss:0.4214, (rmse) val_loss:0.2374\n",
      "epoch [15/100], (rmse) loss:0.4130, (rmse) val_loss:0.2387\n",
      "epoch [16/100], (rmse) loss:0.4083, (rmse) val_loss:0.2399\n",
      "epoch [17/100], (rmse) loss:0.4050, (rmse) val_loss:0.2402\n",
      "epoch [18/100], (rmse) loss:0.4000, (rmse) val_loss:0.2412\n",
      "epoch [19/100], (rmse) loss:0.3991, (rmse) val_loss:0.2421\n",
      "epoch [20/100], (rmse) loss:0.3968, (rmse) val_loss:0.2455\n",
      "epoch [21/100], (rmse) loss:0.3939, (rmse) val_loss:0.2429\n",
      "epoch [22/100], (rmse) loss:0.3894, (rmse) val_loss:0.2434\n",
      "epoch [23/100], (rmse) loss:0.3859, (rmse) val_loss:0.2459\n",
      "epoch [24/100], (rmse) loss:0.3826, (rmse) val_loss:0.2446\n",
      "epoch [25/100], (rmse) loss:0.3790, (rmse) val_loss:0.2460\n",
      "epoch [26/100], (rmse) loss:0.3769, (rmse) val_loss:0.2474\n",
      "epoch [27/100], (rmse) loss:0.3754, (rmse) val_loss:0.2475\n",
      "epoch [28/100], (rmse) loss:0.3720, (rmse) val_loss:0.2472\n",
      "epoch [29/100], (rmse) loss:0.3689, (rmse) val_loss:0.2488\n",
      "epoch [30/100], (rmse) loss:0.3678, (rmse) val_loss:0.2496\n",
      "epoch [31/100], (rmse) loss:0.3688, (rmse) val_loss:0.2495\n",
      "epoch [32/100], (rmse) loss:0.3678, (rmse) val_loss:0.2516\n",
      "epoch [33/100], (rmse) loss:0.3680, (rmse) val_loss:0.2502\n",
      "epoch [34/100], (rmse) loss:0.3670, (rmse) val_loss:0.2510\n",
      "epoch [35/100], (rmse) loss:0.3655, (rmse) val_loss:0.2513\n",
      "epoch [36/100], (rmse) loss:0.3619, (rmse) val_loss:0.2518\n",
      "epoch [37/100], (rmse) loss:0.3597, (rmse) val_loss:0.2511\n",
      "epoch [38/100], (rmse) loss:0.3572, (rmse) val_loss:0.2515\n",
      "epoch [39/100], (rmse) loss:0.3537, (rmse) val_loss:0.2529\n",
      "epoch [40/100], (rmse) loss:0.3538, (rmse) val_loss:0.2529\n",
      "epoch [41/100], (rmse) loss:0.3524, (rmse) val_loss:0.2530\n",
      "epoch [42/100], (rmse) loss:0.3529, (rmse) val_loss:0.2538\n",
      "epoch [43/100], (rmse) loss:0.3536, (rmse) val_loss:0.2542\n",
      "epoch [44/100], (rmse) loss:0.3546, (rmse) val_loss:0.2543\n",
      "epoch [45/100], (rmse) loss:0.3543, (rmse) val_loss:0.2559\n",
      "epoch [46/100], (rmse) loss:0.3520, (rmse) val_loss:0.2535\n",
      "epoch [47/100], (rmse) loss:0.3493, (rmse) val_loss:0.2536\n",
      "epoch [48/100], (rmse) loss:0.3465, (rmse) val_loss:0.2541\n",
      "epoch [49/100], (rmse) loss:0.3457, (rmse) val_loss:0.2556\n",
      "epoch [50/100], (rmse) loss:0.3455, (rmse) val_loss:0.2549\n",
      "epoch [51/100], (rmse) loss:0.3435, (rmse) val_loss:0.2544\n",
      "epoch [52/100], (rmse) loss:0.3462, (rmse) val_loss:0.2543\n",
      "epoch [53/100], (rmse) loss:0.3435, (rmse) val_loss:0.2553\n",
      "epoch [54/100], (rmse) loss:0.3424, (rmse) val_loss:0.2571\n",
      "epoch [55/100], (rmse) loss:0.3421, (rmse) val_loss:0.2566\n",
      "epoch [56/100], (rmse) loss:0.3431, (rmse) val_loss:0.2565\n",
      "epoch [57/100], (rmse) loss:0.3428, (rmse) val_loss:0.2570\n",
      "epoch [58/100], (rmse) loss:0.3465, (rmse) val_loss:0.2571\n",
      "epoch [59/100], (rmse) loss:0.3412, (rmse) val_loss:0.2569\n",
      "epoch [60/100], (rmse) loss:0.3393, (rmse) val_loss:0.2570\n",
      "epoch [61/100], (rmse) loss:0.3394, (rmse) val_loss:0.2570\n",
      "epoch [62/100], (rmse) loss:0.3385, (rmse) val_loss:0.2572\n",
      "epoch [63/100], (rmse) loss:0.3377, (rmse) val_loss:0.2575\n",
      "epoch [64/100], (rmse) loss:0.3382, (rmse) val_loss:0.2590\n",
      "epoch [65/100], (rmse) loss:0.3378, (rmse) val_loss:0.2581\n",
      "epoch [66/100], (rmse) loss:0.3363, (rmse) val_loss:0.2585\n",
      "epoch [67/100], (rmse) loss:0.3357, (rmse) val_loss:0.2573\n",
      "epoch [68/100], (rmse) loss:0.3323, (rmse) val_loss:0.2582\n",
      "epoch [69/100], (rmse) loss:0.3313, (rmse) val_loss:0.2587\n",
      "epoch [70/100], (rmse) loss:0.3312, (rmse) val_loss:0.2583\n",
      "epoch [71/100], (rmse) loss:0.3298, (rmse) val_loss:0.2592\n",
      "epoch [72/100], (rmse) loss:0.3298, (rmse) val_loss:0.2593\n",
      "epoch [73/100], (rmse) loss:0.3285, (rmse) val_loss:0.2592\n",
      "epoch [74/100], (rmse) loss:0.3288, (rmse) val_loss:0.2600\n",
      "epoch [75/100], (rmse) loss:0.3300, (rmse) val_loss:0.2596\n",
      "epoch [76/100], (rmse) loss:0.3309, (rmse) val_loss:0.2594\n",
      "epoch [77/100], (rmse) loss:0.3312, (rmse) val_loss:0.2587\n",
      "epoch [78/100], (rmse) loss:0.3300, (rmse) val_loss:0.2615\n",
      "epoch [79/100], (rmse) loss:0.3308, (rmse) val_loss:0.2602\n",
      "epoch [80/100], (rmse) loss:0.3312, (rmse) val_loss:0.2609\n",
      "epoch [81/100], (rmse) loss:0.3294, (rmse) val_loss:0.2607\n",
      "epoch [82/100], (rmse) loss:0.3286, (rmse) val_loss:0.2613\n",
      "epoch [83/100], (rmse) loss:0.3259, (rmse) val_loss:0.2603\n",
      "epoch [84/100], (rmse) loss:0.3247, (rmse) val_loss:0.2609\n",
      "epoch [85/100], (rmse) loss:0.3232, (rmse) val_loss:0.2609\n",
      "epoch [86/100], (rmse) loss:0.3252, (rmse) val_loss:0.2622\n",
      "epoch [87/100], (rmse) loss:0.3245, (rmse) val_loss:0.2618\n",
      "epoch [88/100], (rmse) loss:0.3236, (rmse) val_loss:0.2625\n",
      "epoch [89/100], (rmse) loss:0.3254, (rmse) val_loss:0.2623\n",
      "epoch [90/100], (rmse) loss:0.3245, (rmse) val_loss:0.2619\n",
      "epoch [91/100], (rmse) loss:0.3229, (rmse) val_loss:0.2619\n",
      "epoch [92/100], (rmse) loss:0.3227, (rmse) val_loss:0.2621\n",
      "epoch [93/100], (rmse) loss:0.3202, (rmse) val_loss:0.2629\n",
      "epoch [94/100], (rmse) loss:0.3192, (rmse) val_loss:0.2630\n",
      "epoch [95/100], (rmse) loss:0.3184, (rmse) val_loss:0.2638\n",
      "epoch [96/100], (rmse) loss:0.3244, (rmse) val_loss:0.2636\n",
      "epoch [97/100], (rmse) loss:0.3231, (rmse) val_loss:0.2629\n",
      "epoch [98/100], (rmse) loss:0.3186, (rmse) val_loss:0.2622\n",
      "epoch [99/100], (rmse) loss:0.3168, (rmse) val_loss:0.2626\n",
      "epoch [100/100], (rmse) loss:0.3179, (rmse) val_loss:0.2629\n"
     ]
    }
   ],
   "source": [
    "## Model Running (Training)\n",
    "model = run_epoch(model, X_train, X_eval, num_epochs= 100)"
   ]
  },
  {
   "cell_type": "code",
   "execution_count": 84,
   "metadata": {
    "ExecuteTime": {
     "end_time": "2018-02-08T02:14:52.835767Z",
     "start_time": "2018-02-08T02:14:52.816685Z"
    },
    "collapsed": true
   },
   "outputs": [],
   "source": [
    "# Regression 형태가 아닌 Classification 문제로 변환\n",
    "# movielens의 경우 0.5 ~ 5까지 0.5구간으로 평점이 존재하며 이에 따라 총 10개의 class인 문제로 표현 가능\n",
    "class Deep_MF_ml_class(gluon.HybridBlock):\n",
    "    def __init__(self, **kwargs):\n",
    "        super(Deep_MF_ml_class, self).__init__(**kwargs)\n",
    "        with self.name_scope():\n",
    "            # layers created in name_scope will inherit name space\n",
    "            # from parent layer.\n",
    "            self.user = nn.Embedding(input_dim=n_users, output_dim=25)\n",
    "            self.movie = nn.Embedding(input_dim=n_movies, output_dim=25)\n",
    "            \n",
    "            \n",
    "            self.out = gluon.nn.HybridSequential('output_')\n",
    "            with self.out.name_scope():\n",
    "                self.out.add(nn.Flatten())\n",
    "                self.out.add(nn.Dense(64, activation='relu')) # encoding & latent layer\n",
    "                self.out.add(gluon.nn.BatchNorm(axis=1, center=True, scale=True))\n",
    "                self.out.add(nn.Dense(64, activation='relu')) # encoding & latent layer\n",
    "                self.out.add(gluon.nn.BatchNorm(axis=1, center=True, scale=True))\n",
    "                self.out.add(nn.Dense(10)) # encoding & latent layer\n",
    "            \n",
    "    def hybrid_forward(self, F, user_i, movie_i):\n",
    "        # Here `F` can be either mx.nd or mx.sym, x is the input data,\n",
    "        user_i = self.user(user_i)\n",
    "        movie_i = self.movie(movie_i)\n",
    "        \n",
    "        z = F.concat(user_i, movie_i)\n",
    "        z = self.out(z)\n",
    "        return z"
   ]
  },
  {
   "cell_type": "code",
   "execution_count": 85,
   "metadata": {
    "ExecuteTime": {
     "end_time": "2018-02-08T02:14:52.849708Z",
     "start_time": "2018-02-08T02:14:52.837153Z"
    },
    "collapsed": true
   },
   "outputs": [],
   "source": [
    "# model initialization\n",
    "model = Deep_MF_ml_class()\n",
    "model.collect_params().initialize(mx.init.Xavier(), ctx=ctx)\n",
    "\n",
    "\n",
    "learning_rate = 1e-3\n",
    "criterion = gluon.loss.SoftmaxCrossEntropyLoss()\n",
    "optimizer = gluon.Trainer(model.collect_params(), 'adam',\n",
    "                          {'learning_rate': learning_rate,\n",
    "                           'wd': 1e-5})"
   ]
  },
  {
   "cell_type": "code",
   "execution_count": 90,
   "metadata": {
    "ExecuteTime": {
     "end_time": "2018-02-08T02:31:59.093362Z",
     "start_time": "2018-02-08T02:31:59.086133Z"
    },
    "collapsed": true
   },
   "outputs": [],
   "source": [
    "def evaluate_accuracy(data_iterator, net):\n",
    "    acc = mx.metric.Accuracy()\n",
    "    \n",
    "    for user, movie, rating in data_iterator:\n",
    "        user = user.as_in_context(ctx)\n",
    "        movie = movie.as_in_context(ctx)\n",
    "        rating = rating.as_in_context(ctx)\n",
    "    \n",
    "        output = net(user, movie)\n",
    "        predictions = nd.argmax(output, axis=1)\n",
    "        acc.update(preds=predictions, labels=rating)\n",
    "    return acc.get()[1]"
   ]
  },
  {
   "cell_type": "code",
   "execution_count": 91,
   "metadata": {
    "ExecuteTime": {
     "end_time": "2018-02-08T02:47:33.924434Z",
     "start_time": "2018-02-08T02:31:59.372630Z"
    }
   },
   "outputs": [
    {
     "name": "stdout",
     "output_type": "stream",
     "text": [
      "epoch [1/100], loss:0.9802, val_loss:0.4485, train_acc:0.6778, val_acc:0.4074\n",
      "epoch [2/100], loss:0.9660, val_loss:0.4490, train_acc:0.6864, val_acc:0.4071\n",
      "epoch [3/100], loss:0.9531, val_loss:0.4509, train_acc:0.6915, val_acc:0.4057\n",
      "epoch [4/100], loss:0.9413, val_loss:0.4521, train_acc:0.6986, val_acc:0.4024\n",
      "epoch [5/100], loss:0.9306, val_loss:0.4538, train_acc:0.7020, val_acc:0.4042\n",
      "epoch [6/100], loss:0.9204, val_loss:0.4554, train_acc:0.7094, val_acc:0.4002\n",
      "epoch [7/100], loss:0.9113, val_loss:0.4571, train_acc:0.7134, val_acc:0.4025\n",
      "epoch [8/100], loss:0.9026, val_loss:0.4590, train_acc:0.7166, val_acc:0.3995\n",
      "epoch [9/100], loss:0.8945, val_loss:0.4607, train_acc:0.7199, val_acc:0.4029\n",
      "epoch [10/100], loss:0.8873, val_loss:0.4620, train_acc:0.7254, val_acc:0.4022\n",
      "epoch [11/100], loss:0.8805, val_loss:0.4636, train_acc:0.7295, val_acc:0.3997\n",
      "epoch [12/100], loss:0.8738, val_loss:0.4652, train_acc:0.7302, val_acc:0.4001\n",
      "epoch [13/100], loss:0.8676, val_loss:0.4672, train_acc:0.7355, val_acc:0.4022\n",
      "epoch [14/100], loss:0.8618, val_loss:0.4690, train_acc:0.7393, val_acc:0.4001\n",
      "epoch [15/100], loss:0.8564, val_loss:0.4703, train_acc:0.7409, val_acc:0.3993\n",
      "epoch [16/100], loss:0.8515, val_loss:0.4718, train_acc:0.7438, val_acc:0.3990\n",
      "epoch [17/100], loss:0.8464, val_loss:0.4736, train_acc:0.7480, val_acc:0.3980\n",
      "epoch [18/100], loss:0.8419, val_loss:0.4752, train_acc:0.7493, val_acc:0.3980\n",
      "epoch [19/100], loss:0.8377, val_loss:0.4761, train_acc:0.7518, val_acc:0.3985\n",
      "epoch [20/100], loss:0.8331, val_loss:0.4778, train_acc:0.7523, val_acc:0.3978\n",
      "epoch [21/100], loss:0.8294, val_loss:0.4796, train_acc:0.7575, val_acc:0.3950\n",
      "epoch [22/100], loss:0.8252, val_loss:0.4807, train_acc:0.7600, val_acc:0.3965\n",
      "epoch [23/100], loss:0.8213, val_loss:0.4824, train_acc:0.7596, val_acc:0.3915\n",
      "epoch [24/100], loss:0.8181, val_loss:0.4835, train_acc:0.7631, val_acc:0.3969\n",
      "epoch [25/100], loss:0.8141, val_loss:0.4850, train_acc:0.7645, val_acc:0.3919\n",
      "epoch [26/100], loss:0.8112, val_loss:0.4864, train_acc:0.7671, val_acc:0.3952\n",
      "epoch [27/100], loss:0.8078, val_loss:0.4880, train_acc:0.7696, val_acc:0.3925\n",
      "epoch [28/100], loss:0.8046, val_loss:0.4895, train_acc:0.7700, val_acc:0.3911\n",
      "epoch [29/100], loss:0.8015, val_loss:0.4903, train_acc:0.7725, val_acc:0.3954\n",
      "epoch [30/100], loss:0.7984, val_loss:0.4920, train_acc:0.7750, val_acc:0.3909\n",
      "epoch [31/100], loss:0.7955, val_loss:0.4931, train_acc:0.7762, val_acc:0.3896\n",
      "epoch [32/100], loss:0.7927, val_loss:0.4951, train_acc:0.7772, val_acc:0.3900\n",
      "epoch [33/100], loss:0.7895, val_loss:0.4959, train_acc:0.7792, val_acc:0.3930\n",
      "epoch [34/100], loss:0.7868, val_loss:0.4974, train_acc:0.7784, val_acc:0.3893\n",
      "epoch [35/100], loss:0.7845, val_loss:0.4983, train_acc:0.7824, val_acc:0.3924\n",
      "epoch [36/100], loss:0.7819, val_loss:0.5002, train_acc:0.7826, val_acc:0.3904\n",
      "epoch [37/100], loss:0.7797, val_loss:0.5016, train_acc:0.7844, val_acc:0.3910\n",
      "epoch [38/100], loss:0.7770, val_loss:0.5027, train_acc:0.7854, val_acc:0.3949\n",
      "epoch [39/100], loss:0.7743, val_loss:0.5045, train_acc:0.7868, val_acc:0.3912\n",
      "epoch [40/100], loss:0.7727, val_loss:0.5054, train_acc:0.7885, val_acc:0.3937\n",
      "epoch [41/100], loss:0.7705, val_loss:0.5066, train_acc:0.7891, val_acc:0.3919\n",
      "epoch [42/100], loss:0.7682, val_loss:0.5080, train_acc:0.7914, val_acc:0.3898\n",
      "epoch [43/100], loss:0.7661, val_loss:0.5092, train_acc:0.7909, val_acc:0.3893\n",
      "epoch [44/100], loss:0.7645, val_loss:0.5106, train_acc:0.7939, val_acc:0.3902\n",
      "epoch [45/100], loss:0.7615, val_loss:0.5122, train_acc:0.7943, val_acc:0.3886\n",
      "epoch [46/100], loss:0.7596, val_loss:0.5128, train_acc:0.7940, val_acc:0.3910\n",
      "epoch [47/100], loss:0.7580, val_loss:0.5144, train_acc:0.7961, val_acc:0.3899\n",
      "epoch [48/100], loss:0.7559, val_loss:0.5156, train_acc:0.7974, val_acc:0.3851\n",
      "epoch [49/100], loss:0.7546, val_loss:0.5170, train_acc:0.7989, val_acc:0.3864\n",
      "epoch [50/100], loss:0.7518, val_loss:0.5181, train_acc:0.7986, val_acc:0.3885\n",
      "epoch [51/100], loss:0.7504, val_loss:0.5190, train_acc:0.7985, val_acc:0.3879\n",
      "epoch [52/100], loss:0.7489, val_loss:0.5205, train_acc:0.8001, val_acc:0.3873\n",
      "epoch [53/100], loss:0.7467, val_loss:0.5217, train_acc:0.8014, val_acc:0.3872\n",
      "epoch [54/100], loss:0.7454, val_loss:0.5226, train_acc:0.8015, val_acc:0.3874\n",
      "epoch [55/100], loss:0.7432, val_loss:0.5239, train_acc:0.8040, val_acc:0.3861\n",
      "epoch [56/100], loss:0.7413, val_loss:0.5254, train_acc:0.8052, val_acc:0.3868\n",
      "epoch [57/100], loss:0.7397, val_loss:0.5261, train_acc:0.8053, val_acc:0.3895\n",
      "epoch [58/100], loss:0.7383, val_loss:0.5277, train_acc:0.8040, val_acc:0.3875\n",
      "epoch [59/100], loss:0.7366, val_loss:0.5284, train_acc:0.8071, val_acc:0.3860\n",
      "epoch [60/100], loss:0.7348, val_loss:0.5294, train_acc:0.8080, val_acc:0.3891\n",
      "epoch [61/100], loss:0.7333, val_loss:0.5313, train_acc:0.8096, val_acc:0.3861\n",
      "epoch [62/100], loss:0.7319, val_loss:0.5325, train_acc:0.8100, val_acc:0.3861\n",
      "epoch [63/100], loss:0.7307, val_loss:0.5330, train_acc:0.8117, val_acc:0.3893\n",
      "epoch [64/100], loss:0.7292, val_loss:0.5343, train_acc:0.8105, val_acc:0.3865\n",
      "epoch [65/100], loss:0.7280, val_loss:0.5352, train_acc:0.8121, val_acc:0.3877\n",
      "epoch [66/100], loss:0.7265, val_loss:0.5362, train_acc:0.8130, val_acc:0.3851\n",
      "epoch [67/100], loss:0.7252, val_loss:0.5377, train_acc:0.8128, val_acc:0.3888\n",
      "epoch [68/100], loss:0.7234, val_loss:0.5386, train_acc:0.8138, val_acc:0.3885\n",
      "epoch [69/100], loss:0.7215, val_loss:0.5391, train_acc:0.8155, val_acc:0.3884\n",
      "epoch [70/100], loss:0.7205, val_loss:0.5406, train_acc:0.8139, val_acc:0.3864\n",
      "epoch [71/100], loss:0.7190, val_loss:0.5419, train_acc:0.8170, val_acc:0.3882\n",
      "epoch [72/100], loss:0.7181, val_loss:0.5431, train_acc:0.8164, val_acc:0.3887\n",
      "epoch [73/100], loss:0.7174, val_loss:0.5438, train_acc:0.8154, val_acc:0.3892\n",
      "epoch [74/100], loss:0.7164, val_loss:0.5449, train_acc:0.8160, val_acc:0.3908\n",
      "epoch [75/100], loss:0.7155, val_loss:0.5457, train_acc:0.8181, val_acc:0.3869\n",
      "epoch [76/100], loss:0.7133, val_loss:0.5459, train_acc:0.8181, val_acc:0.3909\n",
      "epoch [77/100], loss:0.7118, val_loss:0.5477, train_acc:0.8191, val_acc:0.3867\n",
      "epoch [78/100], loss:0.7107, val_loss:0.5485, train_acc:0.8205, val_acc:0.3886\n",
      "epoch [79/100], loss:0.7097, val_loss:0.5496, train_acc:0.8198, val_acc:0.3874\n",
      "epoch [80/100], loss:0.7082, val_loss:0.5503, train_acc:0.8222, val_acc:0.3862\n",
      "epoch [81/100], loss:0.7065, val_loss:0.5515, train_acc:0.8205, val_acc:0.3884\n",
      "epoch [82/100], loss:0.7054, val_loss:0.5519, train_acc:0.8219, val_acc:0.3840\n",
      "epoch [83/100], loss:0.7042, val_loss:0.5532, train_acc:0.8242, val_acc:0.3873\n",
      "epoch [84/100], loss:0.7036, val_loss:0.5543, train_acc:0.8241, val_acc:0.3870\n",
      "epoch [85/100], loss:0.7028, val_loss:0.5552, train_acc:0.8250, val_acc:0.3909\n",
      "epoch [86/100], loss:0.7012, val_loss:0.5559, train_acc:0.8259, val_acc:0.3882\n",
      "epoch [87/100], loss:0.6996, val_loss:0.5570, train_acc:0.8270, val_acc:0.3880\n",
      "epoch [88/100], loss:0.6981, val_loss:0.5587, train_acc:0.8267, val_acc:0.3863\n",
      "epoch [89/100], loss:0.6975, val_loss:0.5593, train_acc:0.8280, val_acc:0.3895\n",
      "epoch [90/100], loss:0.6965, val_loss:0.5602, train_acc:0.8284, val_acc:0.3886\n",
      "epoch [91/100], loss:0.6949, val_loss:0.5615, train_acc:0.8284, val_acc:0.3894\n",
      "epoch [92/100], loss:0.6950, val_loss:0.5627, train_acc:0.8291, val_acc:0.3903\n",
      "epoch [93/100], loss:0.6935, val_loss:0.5634, train_acc:0.8302, val_acc:0.3853\n",
      "epoch [94/100], loss:0.6924, val_loss:0.5647, train_acc:0.8288, val_acc:0.3888\n",
      "epoch [95/100], loss:0.6919, val_loss:0.5650, train_acc:0.8303, val_acc:0.3889\n",
      "epoch [96/100], loss:0.6903, val_loss:0.5665, train_acc:0.8306, val_acc:0.3875\n",
      "epoch [97/100], loss:0.6890, val_loss:0.5675, train_acc:0.8325, val_acc:0.3843\n",
      "epoch [98/100], loss:0.6882, val_loss:0.5686, train_acc:0.8306, val_acc:0.3854\n",
      "epoch [99/100], loss:0.6877, val_loss:0.5691, train_acc:0.8309, val_acc:0.3834\n",
      "epoch [100/100], loss:0.6868, val_loss:0.5704, train_acc:0.8308, val_acc:0.3881\n"
     ]
    }
   ],
   "source": [
    "num_epochs = 100             \n",
    "              \n",
    "for epoch in range(num_epochs):\n",
    "    running_loss = 0.0\n",
    "    val_loss = 0.0\n",
    "    n_total = 0.0\n",
    "\n",
    "    # for training\n",
    "    for user, movie, rating in X_train:\n",
    "        user = user.as_in_context(ctx)\n",
    "        movie = movie.as_in_context(ctx)\n",
    "        rating = rating.as_in_context(ctx)\n",
    "\n",
    "        with mx.autograd.record():\n",
    "            output = model(user, movie)\n",
    "            loss = criterion(output, rating)\n",
    "        loss.backward()\n",
    "        optimizer.step(user.shape[0])\n",
    "        running_loss += mx.nd.sum(loss).asscalar()\n",
    "        n_total += user.shape[0]\n",
    "\n",
    "    for val_user, val_movie, val_rating in X_eval:\n",
    "        val_user = val_user.as_in_context(ctx)\n",
    "        val_movie = val_movie.as_in_context(ctx)\n",
    "\n",
    "        with mx.autograd.record():\n",
    "            val_output = model(val_user, val_movie)\n",
    "            val_loss_tmp = criterion(val_output, val_rating)\n",
    "        val_loss += mx.nd.sum(val_loss_tmp).asscalar()\n",
    "    \n",
    "    train_accuracy = evaluate_accuracy(X_train, model)\n",
    "    test_accuracy = evaluate_accuracy(X_eval, model)\n",
    "    # ===================log========================\n",
    "    print('epoch [{}/{}], loss:{:.4f}, val_loss:{:.4f}, train_acc:{:.4f}, val_acc:{:.4f}'\n",
    "          .format(epoch + 1, num_epochs, np.sqrt(running_loss / n_total), np.sqrt(val_loss / n_total), train_accuracy, test_accuracy))"
   ]
  },
  {
   "cell_type": "code",
   "execution_count": 92,
   "metadata": {
    "ExecuteTime": {
     "end_time": "2018-02-08T02:47:34.174078Z",
     "start_time": "2018-02-08T02:47:33.925932Z"
    }
   },
   "outputs": [
    {
     "data": {
      "image/png": "[encoded data removed]",
      "text/plain": [
       "<matplotlib.figure.Figure at 0x106322898>"
      ]
     },
     "metadata": {},
     "output_type": "display_data"
    }
   ],
   "source": [
    "user_set = mx.nd.array((valid_users.astype('float32')))\n",
    "movie_set = mx.nd.array((valid_movies.astype('float32')))\n",
    "\n",
    "y_pred = model(user_set, movie_set).asnumpy().argmax(axis=1)\n",
    "y_pred = (y_pred + 1.) / 2\n",
    "\n",
    "plt.title(\"Distribution of Predictions\", fontsize=14)\n",
    "plt.ylabel(\"Count\", fontsize=14)\n",
    "plt.xlabel(\"Rating\", fontsize=14)\n",
    "plt.hist(y_pred)\n",
    "plt.show()"
   ]
  },
  {
   "cell_type": "code",
   "execution_count": 93,
   "metadata": {
    "ExecuteTime": {
     "end_time": "2018-02-08T02:47:34.179858Z",
     "start_time": "2018-02-08T02:47:34.175660Z"
    }
   },
   "outputs": [
    {
     "data": {
      "text/plain": [
       "1.6298351005601741"
      ]
     },
     "execution_count": 93,
     "metadata": {},
     "output_type": "execute_result"
    }
   ],
   "source": [
    "numpy.sqrt(((y_pred - valid_ratings) ** 2).mean())"
   ]
  }
 ],
 "metadata": {
  "kernelspec": {
   "display_name": "Python 3",
   "language": "python",
   "name": "python3"
  },
  "language_info": {
   "codemirror_mode": {
    "name": "ipython",
    "version": 3
   },
   "file_extension": ".py",
   "mimetype": "text/x-python",
   "name": "python",
   "nbconvert_exporter": "python",
   "pygments_lexer": "ipython3",
   "version": "3.5.2"
  }
 },
 "nbformat": 4,
 "nbformat_minor": 2
}
