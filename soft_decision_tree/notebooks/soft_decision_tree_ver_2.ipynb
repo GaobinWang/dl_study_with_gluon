{
 "cells": [
  {
   "cell_type": "markdown",
   "metadata": {},
   "source": [
    "# Soft decision tree"
   ]
  },
  {
   "cell_type": "markdown",
   "metadata": {
    "ExecuteTime": {
     "end_time": "2018-01-26T14:32:04.673148Z",
     "start_time": "2018-01-26T14:32:04.663245Z"
    }
   },
   "source": [
    "## Traditional Decision Tree\n",
    "* Decision Tree는 각각의 node에서 하나의 변수를 기준으로 순차적으로 2개 혹은 그 이상의 그룹으로 나누는 모형\n",
    "    * 최초 시작점을 Root, 가지의 말단을 leaf node, Root와 leaf node 사이의 node들을 inner node라고 부른다.\n",
    "    * 두개의 layer만 고려할 때에는 어떤 기준에 의해 갈라지기 전의 node를 parent node, 갈라진 후의 node들을 child node라고 얘기한다.\n",
    "    * 각 node에서는 Node에서는 측정된 impurity가 가장 작은 split point들을 grid search를 통해 순차적으로 찾아가는데, impurity는 다음과 같이 정의된다.\n",
    "         * Gini impurity는 CART에서 사용한 개념으로 다음과 같이 정의된다. (J개의 class를 가지고 있고, 각 $p_i, i = 1, \\ldots, J$는 주어진 leaf node들이 각 class에 속하는 비율로 계산한다.)\n",
    "    $$I_{G}(p)=\\sum _{i=1}^{J}p_{i}\\sum _{k\\neq i}p_{k}=\\sum _{i=1}^{J}p_{i}(1-p_{i})=\\sum _{i=1}^{J}(p_{i}-{p_{i}}^{2})=\\sum _{i=1}^{J}p_{i}-\\sum _{i=1}^{J}{p_{i}}^{2}=1-\\sum _{i=1}^{J}{p_{i}}^{2}$$\n",
    "         *  ID3, C4.5 and C5.0에서는 부모 node의 정보량(Information)에 비해 자식 node들의 정보량 (각 node의 Information의 해당 child node에 분배된 sample의 갯수를 기준으로한 가중 평균)이 얼마나 크게 늘었는지를 측정하는 Information gain을 사용한다.\n",
    "             * NOTE: Information은 정보이론에서 차용한 entropy라는 개념으로, 불확실성이 가장 큰 경우 가장 큰 값을 가지며, 다음과 같이 정의 된다. 여기서도 각 $p_i$는 주어진 node에 속한 data의 emprical probability를 의미한다.\n",
    "         $$H(T)=I_{E}(p_{1},p_{2},...,p_{J})=-\\sum _{i=1}^{J}p_{i}\\log _{2}^{}p_{i}$$\n",
    "             * 부모 node, 자식 node에서 각각 정보량을 구한 후에 Information gain은 다음과 같이 구한다\n",
    "         $$ \\overbrace {IG(T,a)} ^{\\text{Information Gain}}=\\overbrace {H(T)} ^{\\text{Entropy(parent)}}-\\overbrace {H(T|a)} ^{\\text{Weighted Sum of Entropy(Children)}}$$\n",
    "        \n",
    "        * CART에서는 Continuous variable을 분류할 수도 있는데, 이 경우에는 부모 node와 자식 node의 variance 변동을 최대화하는 split point를 선택한다.\n",
    "        $$I_{V}(N)={\\frac {1}{|S|^{2}}}\\sum _{i\\in S}\\sum _{j\\in S}{\\frac {1}{2}}(x_{i}-x_{j})^{2}-\\left({\\frac {1}{|S_{t}|^{2}}}\\sum _{i\\in S_{t}}\\sum _{j\\in S_{t}}{\\frac {1}{2}}(x_{i}-x_{j})^{2}+{\\frac {1}{|S_{f}|^{2}}}\\sum _{i\\in S_{f}}\\sum _{j\\in S_{f}}{\\frac {1}{2}}(x_{i}-x_{j})^{2}\\right)$$\n",
    "        "
   ]
  },
  {
   "cell_type": "markdown",
   "metadata": {},
   "source": [
    "## Soft Decision Tree\n",
    "\n",
    "### 특징\n",
    "\n",
    "  * Tree의 구조가 미리 정의되어 있다.\n",
    "    * prone의 개념이 없고, 따라서 Leaf node와 inner node의 역할은 명확히 다르고, 이는 code에 반영된다.\n",
    "    * Inner node에서는 lower level에서 data를 받아서 분류하고, Leaf node에서는 loss를 계산하고, 분류 결과(분류된 label)을 가진다.\n",
    "    * NOTE: 매번 가지치기 여부를 판단하는 Decision tree에서는 leaf node의 역할을 inner node도 해야 한다.\n",
    "    \n",
    "    \n",
    "  * 각 node에서 sample을 분류할 때, 하나의 변수가 아닌, dense network를 통해 얻어진 확률값을 이용한다.  \n",
    "    * Soft Decision Tree의 핵심 개념은, 전통적인 tree 모형에서는 하나의 node에서는 하나의 변수에 의해 하나의 split point를 기준으로 관측치를 분류하였다면,\n",
    "    * soft decision tree는 split point를 정의함에 있어서 ** 여러변수를 동시에 사용**하면서 각 node에서 어느 정도로 어느 child node로 분류되는지의 강도를 표현할 수 있도록, **sigmoid**함수를 사용한다는 점이다.\n",
    "      * 6:4의 확률로 분류되는 example과 9:1의 확률로 분류되는 example은 다른 의미를 지님.\n",
    "    ![](../images/decTree2.png 'decision tree on data space')\n",
    "\n",
    "\n",
    "### Algorithm 개요\n",
    "\n",
    "  * 각 node에서는 dense network를 통해 나온 scalar에 sigmoid를 적용한다. $j$ 번째 inner node에서 sample $x$를 분류하기 위해서는 다음과 같이 확률을 구한다.\n",
    "  $$p_j(x) = \\sigma(x \\textbf w_j + b_j)$$\n",
    "  \n",
    "  \n",
    "  * soft한 정도를 결정하기 위해 $\\beta$라는 parameter를 도입하여 각 node에서 확률값을 구할 때 다음과 같이 처리한다.\n",
    "  $$p_j(x) = \\sigma(\\beta ( x \\textbf w_j + b_j))$$\n",
    "  \n",
    "  \n",
    "  * 위의 확률을 바탕으로 확률이 0.5보다 크면 오른쪽 node로 작으면 왼쪽 node로 할당한다.\n",
    "  $$Output = \\left\\{\\begin{eqnarray} Q_{left}, & \\quad p(x) <0.5\\\\ Q_{right}, & \\quad p(x) >0.5\\\\\\end{eqnarray}\\right.$$\n",
    "  \n",
    "  \n",
    "  * root node에서부터 매 layer를 거치면서 최종 leaf node에 도달할 때까지 할당된 확률을 곱하여 path probability를 구하고, 이를 path probability가 각 node에서 정제된 information을 전달하는 역할을 한다 (개념적으로 기존의 DNN과는 좀 다른 형태임).\n",
    "  \n",
    "  \n",
    "  * depth가 $d$인 network을 고려하면, root node에서 $k_1, \\ldots, k_d$의 inner node를 거쳐서 $l$ 번째 leaf node에 도달하는 sample의 경우, 다음과 같이 path probability,$P^l(x)$는 다음과 같이 얻을 수 있다.\n",
    "  $$P^l_{k_1, k_2, \\ldots, k_d}(x) = p_{k_1}(x)\\cdot p_{k_2}(x)\\ldots \\cdot p_{k_d}(x)$$\n",
    "  \n",
    "  \n",
    "  * 각 leaf node에서는 $k$개의 class에 해당하는 확률을 softmax을 통해 얻는다. $l$ 번째 Leaf node의 $k$개 class에 대한 확률 분포를 $Q = [Q_1,\\ldots, Q_K]$라고 하면, $Q$은 다음과 같이 얻는다.\n",
    "  $$Q_k = \\frac{\\phi_k}{\\sum \\exp(\\phi_k)}, \\quad k =1, \\ldots, K$$\n",
    "    * 각 leaf node는 각 class의 확률을 나타내게 될 확률변수,$\\phi$를 모수로 가진다.\n",
    "    * 매 node에 나타나는 Network와는 직접적인 상관이 없이 독립적으로 존재하는 parameter들이며, 이 parameter들은 path probability와 label에 의해서 update된다.\n",
    "    * 각 확률변수는 0과 1 사이의 값을 가질 필요가 없는 것이 softmax가 확률을 구해주기 때문이다.\n",
    "    \n",
    "    \n",
    "  * 각 sample들의 path probability를 그 leaf node에서 취하는 각 sample의 중요도로 평가하여 다음과 같은 Loss function을 정의한다. sample $x$에 해당하는 target의 one-hot encoding을 $T = [T_1, \\ldots, T_K]$라고 하면,\n",
    "  $$L(x) = \\sum_{l \\in \\textrm{ Leaf node}} P^l(x)\\sum_{k=1}^K T_k \\log(Q_k^l)$$\n",
    "    * 최종 leaf에 도달하는 sample이 같은 label을 많이 가지면 가질수록 loss는 작아진다.\n",
    "    * 주어진 leaf node에 속할 path probability가 큰 sample의 target이 유리하도록 학습이 될 것이고,\n",
    "    * path probability가 큰 sample과 같은 label을 가지는, 혹은 비슷한 성질을 가지는 label 중심으로 leaf node는 변화되어 갈 것이다.\n",
    "    \n",
    "    \n",
    "  * 각 node에서 너무 한쪽으로만 쏠리지 않도록 하기 위해 다음과 같은 penalty를 도입한다. \n",
    "    * $i$번째 node에서 $n$개의 sample이 있다고 할 때, 다음과 같이 정의된다.\n",
    "  $$C_i = -\\lambda \\cdot 0.5 \\cdot \\{\\log(\\alpha_i) + \\log(1-\\alpha_i)\\}, \\textrm{ where, }\\alpha_i = \\sum_{j=1}^n \\frac{P^i(x_j)p_i(x_j)}{\\sum P^i(x_j)}$$\n",
    "    * 각 inner node에서 분류되는 확률이 0.5에 가까우면 penalty값은 작아지고, 그렇지 않으면 penalty값은 커진다.\n",
    "    * depth가 깊어지면 깊어질 수록 각 node의 순도는 높아질 것이므로, 같은 비율로 sample을 split한다는 조건은 크게 중요하지 않을 수 있으므로, $\\lambda$는 depth에 따라 $\\lambda$는 작아져야 함.\n",
    "    * 논문에서는 $\\lambda\\propto 2^{-d}$로 정한다.\n",
    "    \n",
    "    \n",
    "  * 이렇게 하여 최종적으로 최적화하여야 할 loss function은 다음과 같이 쓸 수 있다.\n",
    "  $$L = \\sum_{i=1}^n \\left\\{\\sum_{l \\in \\textrm{ Leaf nodes}} P^l(x_i)\\sum_{k=1}^K T_{ik} \\log(Q_k^l)\\right\\} + \\sum_{v \\in \\textrm{ Inner nodes}} \\lambda\\cdot 0.5 \\cdot \\{\\log(\\alpha_v) + \\log(1-\\alpha_v)\\},$$\n",
    "  $$P^l_{k_1, k_2, \\ldots, k_d}(x) = p_{k_1}(x)\\cdot p_{k_2}(x)\\ldots \\cdot p_{k_d}(x), \\quad \\quad \\alpha_v = \\sum_{j=1}^n \\frac{P^v(x_j)p(x_j)}{\\sum P^v(x_j)}$$\n",
    "  \n",
    "  \n",
    "  * 다음의 내용은 구현하지 못한 부분\n",
    "  \n",
    "  > As one descends the tree, the expected fraction of the data that each node sees in any given training batch **decreases exponentially**. This means that the computation of the actual probabilities of using the two sub-trees becomes less accurate.\n",
    "  \n",
    "  > *To encounter this we can maintain an exponentially decaying running average of the actual probabilities with a time window that is exponentially proportional to the depth of the node.* => **Hard to understand**\n",
    "  \n",
    "### NOTE\n",
    "\n",
    "\n",
    "  * 해석자체에서 활용을 하기에는 문제가 있음\n",
    "    * 결국에는 feature map을 보는 방법이므로, clear하지 않고, 우리처럼 해석할 수 없는 feature를 가지고 있는 경우 사용 불가하다고 생각됨\n",
    "      ![](../images/paper-fig2.png 'Figure 2 in papaer')\n",
    "      ![](../images/paper-fig3.png 'Figure 3 in papaer')\n",
    "    \n",
    "  * 가지가 늘어갈 때마다 node의 개수가 exponential하게 증가하여 training하는데 시간이 너무 오래 걸림\n",
    "  \n",
    "  \n",
    "  * 반면에 Prediction 자체는 논문에서도 그렇게 높지 않다고 인정하고 있음\n",
    "  \n",
    "  \n",
    "  * 하지만 아이디어 자체는 재미있어 개념은 알아둘 만 함.\n"
   ]
  },
  {
   "cell_type": "markdown",
   "metadata": {},
   "source": [
    "## Remarks on code\n",
    "\n",
    "  * Program이 재귀적으로 작성한다.\n",
    "    * depth에 구애받지 않는 code 작성을 위해서는 자기참조를 해야 한다.\n",
    "    * 각 node에서는 node의 정보를 저장하고, node에서 취할 행동을 method로 가지고 있되, 구조(leaf node의 갯수)가 어떻게 될지 모르므로, leaf node의 정보를 array 형태로 저장해 두어야 한다.\n",
    "    \n",
    "  * Leaf node 정보는 self.leaf_accumulator에 append하면 된다.\n",
    "    * 재귀용법에서 이게 가능한 건 inner node에는 Q, path_probability값을 무시하므로 가능\n",
    "    \n",
    "  * Penalty의 경우에는 Inner node 정보를 계속 append하면 중복으로 쌓이는 문제가 있어, 각 node가 가지고 있는 penalty를 나중에 모아와야 한다.\n",
    "    \n",
    "  * 예측은 별도의 함수로 빼놓았음\n",
    "    * prediction은 data를 forward시키고 난 후에,\n",
    "    * 각 node에 도착할 path probability를 비교해서 가장 확률이 높은 node의 분포를 예측값으로 사용\n",
    "    * 이를 위해서는 loss를 계산할 때와 같은 정보가 필요함. (필요한 정보는 Q와 path-probability)"
   ]
  },
  {
   "cell_type": "markdown",
   "metadata": {},
   "source": [
    "# Load Libreary"
   ]
  },
  {
   "cell_type": "code",
   "execution_count": 1,
   "metadata": {
    "ExecuteTime": {
     "end_time": "2018-02-08T04:26:43.399185Z",
     "start_time": "2018-02-08T04:26:42.633338Z"
    }
   },
   "outputs": [
    {
     "name": "stderr",
     "output_type": "stream",
     "text": [
      "/home/kionkim/anaconda3/envs/kion_venv_mxnet/lib/python3.6/site-packages/urllib3/contrib/pyopenssl.py:46: DeprecationWarning: OpenSSL.rand is deprecated - you should use os.urandom instead\n",
      "  import OpenSSL.SSL\n"
     ]
    }
   ],
   "source": [
    "import os\n",
    "import time\n",
    "import pickle\n",
    "import numpy as np\n",
    "import mxnet as mx\n",
    "from mxnet import nd, autograd, gluon\n",
    "from tqdm import tqdm, tqdm_notebook\n",
    "\n",
    "gpu_ctx = mx.gpu(0)\n",
    "cpu_ctx = mx.cpu(0)"
   ]
  },
  {
   "cell_type": "markdown",
   "metadata": {},
   "source": [
    "# Load Data"
   ]
  },
  {
   "cell_type": "code",
   "execution_count": 2,
   "metadata": {
    "ExecuteTime": {
     "end_time": "2018-02-08T04:26:44.960486Z",
     "start_time": "2018-02-08T04:26:43.788961Z"
    },
    "collapsed": true
   },
   "outputs": [],
   "source": [
    "mnist = mx.test_utils.get_mnist()\n",
    "#print(mnist['train_data'][0].shape)\n",
    "\n",
    "train_data = np.reshape(mnist['train_data'],(-1,28*28))\n",
    "test_data = np.reshape(mnist['test_data'],(-1,28*28))\n",
    "\n",
    "batch_size = 64\n",
    "OUT_DIM = 10\n",
    "n_batches = train_data.shape[0]/batch_size\n",
    "train_iter = mx.io.NDArrayIter(data={'data': train_data}, label={'label': mnist['train_label']}, batch_size = batch_size)\n",
    "test_iter = mx.io.NDArrayIter(data={'data': test_data}, label={'label': mnist['test_label']}, batch_size = batch_size)"
   ]
  },
  {
   "cell_type": "markdown",
   "metadata": {},
   "source": [
    "## Sample data to examine (ignore this when run)"
   ]
  },
  {
   "cell_type": "code",
   "execution_count": 3,
   "metadata": {
    "ExecuteTime": {
     "end_time": "2018-02-08T04:26:45.451235Z",
     "start_time": "2018-02-08T04:26:45.444990Z"
    },
    "collapsed": true
   },
   "outputs": [],
   "source": [
    "train_iter.reset()\n",
    "test_iter.reset()\n",
    "    \n",
    "n_batch_train = 0\n",
    "for batch in train_iter:\n",
    "    n_batch_train +=1\n",
    "    data = batch.data[0]\n",
    "    label = batch.label[0]\n",
    "    if n_batch_train == 1:\n",
    "        break"
   ]
  },
  {
   "cell_type": "markdown",
   "metadata": {},
   "source": [
    "# Define Function"
   ]
  },
  {
   "cell_type": "code",
   "execution_count": 4,
   "metadata": {
    "ExecuteTime": {
     "end_time": "2018-02-08T04:26:47.338755Z",
     "start_time": "2018-02-08T04:26:47.029616Z"
    },
    "collapsed": true
   },
   "outputs": [],
   "source": [
    "class InnerNode(gluon.Block):\n",
    "    def __init__(self, depth, super_node_name, node_name, **kwargs):\n",
    "        super(InnerNode, self).__init__()\n",
    "        self.kwargs = kwargs\n",
    "        with self.name_scope():\n",
    "            # Parameter\n",
    "            self.fc = gluon.nn.Dense(units = 1, activation = None)\n",
    "            self.beta = mx.nd.random.normal()\n",
    "            self.beta.attach_grad()\n",
    "        \n",
    "        # 각 node가 지니고 있어야 하는 모형관련 정보\n",
    "        self.data = None # Node에 속하는 data\n",
    "        self.leaf = False # Leaf node 여부 (Leaf node에서는 loss를 계산해야 함)\n",
    "        self.prob = None # FC를 통해 얻어진 확률\n",
    "        self.penalties = []\n",
    "        self.leaf_accumulator = []\n",
    "        self.path_prob = None\n",
    "        self.lmbd = self.kwargs['lmbd'] * 2 ** (-depth)\n",
    "        \n",
    "        # Layer specific 정보\n",
    "        self.depth = depth\n",
    "        self.super_node_name = super_node_name\n",
    "        # 각 node의 이름 설정 (나중에 debugging에 용이함)\n",
    "        if depth == 1:\n",
    "            self.node_name = node_name\n",
    "        else:\n",
    "            self.node_name = super_node_name + ':' + node_name\n",
    "        \n",
    "        # constructor가 실행되는 순간 child node 생성\n",
    "        self.build_child(depth) \n",
    "        \n",
    "    def reset(self):\n",
    "        self.data = None # Node에 속하는 data\n",
    "        self.leaf = None # Leaf node 여부 (Leaf node에서는 loss를 계산해야 함)\n",
    "        self.prob = None # FC를 통해 얻어진 확률\n",
    "        self.penalties = []\n",
    "        self.leaf_accumulator = []\n",
    "        self.left.reset()\n",
    "        self.right.reset()\n",
    "       \n",
    "    def build_child(self, depth):\n",
    "        # 만약 max_depth보다 depth가 작지 않으면 child node 대신 Leaf node 생성\n",
    "        # Binary 문제이므로, 2개의 child node가 생성됨\n",
    "        if depth < self.kwargs['max_depth']:\n",
    "            self.left = InnerNode(depth + 1, self.node_name, 'left', **self.kwargs)\n",
    "            self.right = InnerNode(depth + 1, self.node_name, 'right', **self.kwargs)\n",
    "        else:\n",
    "            self.left = LeafNode(self.node_name, 'l_leaf', **self.kwargs)\n",
    "            self.right = LeafNode(self.node_name, 'r_leaf', **self.kwargs)\n",
    "            \n",
    "    def forward(self, x, label, path_prob):\n",
    "        # Label을 같이 가져와서 loss를 구하기\n",
    "        # Network를 학습\n",
    "        # Recursive하게 확률을 update 해나가는 것이므로, Leaf_node의 method와 이름이 같아야 함\n",
    "        # 최종 Leaf node에서 나오는 path_probability와 predicted distribution Q를 저장함\n",
    "        self.path_prob = path_prob\n",
    "        # 현재 node에서 확률값 계산\n",
    "        self.prob = nd.sigmoid(self.beta.as_in_context(self.kwargs['ctx'])*self.fc(x)) #self.beta.as_in_context(self.ctx)* #일단은 beta제외\n",
    "        #self.prob = nd.sigmoid(self.fc(self.data)) #self.beta.as_in_context(self.ctx)* #일단은 beta제외\n",
    "\n",
    "        left_leaf_accumulator = self.left(x, label, path_prob * (1-self.prob))\n",
    "        right_leaf_accumulator = self.right(x, label, path_prob * self.prob)\n",
    "        self.leaf_accumulator.extend(left_leaf_accumulator)\n",
    "        self.leaf_accumulator.extend(right_leaf_accumulator)\n",
    "        return(self.leaf_accumulator)\n",
    "    \n",
    "    # Node별 penalty term 계산하기\n",
    "    # 좌나 우로 너무 쏠리지 않게 하는 역할\n",
    "    # Leaf node가 아닌 경우에만 계산\n",
    "    def get_penalty(self):\n",
    "        alpha = nd.sum(self.prob * self.path_prob) / nd.sum(self.path_prob)\n",
    "        penalty = - self.lmbd * 0.5 * (nd.log(alpha) + nd.log(1 - alpha))\n",
    "        if not self.leaf:      \n",
    "            left_penalty = self.left.get_penalty()\n",
    "            right_penalty = self.right.get_penalty()  \n",
    "            self.penalties.extend(penalty)\n",
    "            self.penalties.extend(left_penalty)\n",
    "            self.penalties.extend(right_penalty)\n",
    "        return(self.penalties)\n",
    "\n",
    "    # 실제 target과의 비교를 통해서 loss를 계산\n",
    "    # Leaf node에 대해서만 계산\n",
    "    def get_loss(self, loss = 0):\n",
    "        # 재귀호출을 위해서...\n",
    "        loss = self.left.get_loss(loss)\n",
    "        loss = self.right.get_loss(loss)\n",
    "        return loss\n",
    "    \n",
    "    def print_node_info(self):\n",
    "        print('node name = {}, data size = {}'.format(self.super_node_name + self.node_name, self.data.shape))"
   ]
  },
  {
   "cell_type": "code",
   "execution_count": 5,
   "metadata": {
    "ExecuteTime": {
     "end_time": "2018-02-08T04:26:49.791428Z",
     "start_time": "2018-02-08T04:26:49.666210Z"
    },
    "collapsed": true
   },
   "outputs": [],
   "source": [
    "class LeafNode(gluon.Block):\n",
    "    def __init__(self, super_node_name, node_name, **kwargs):\n",
    "        super(LeafNode, self).__init__()\n",
    "        self.kwargs = kwargs\n",
    "        with self.name_scope():\n",
    "            self.par = mx.nd.random_normal(shape = (self.kwargs['output_dim'])\n",
    "                                         , loc = 0, scale = 1., ctx = self.kwargs['ctx'])\n",
    "            self.par.attach_grad()\n",
    "        \n",
    "        self.path = super_node_name\n",
    "        self.node_name = node_name\n",
    "        self.leaf = True\n",
    "        self.path_prob = None\n",
    "        self.x = None\n",
    "        self.loss = 0\n",
    "        \n",
    "    def forward(self, x, label, path_prob):\n",
    "        # 최종 결과 node는 우리가 classify하고자 하는 class의 갯수\n",
    "        # 각 관측치가 가지고 있는, root로부터 leaf에 이르기까지 각 단계의 확률의  \n",
    "        # one-hot labeling\n",
    "        self.Q = nd.softmax(self.par)\n",
    "        self.path_prob = path_prob\n",
    "        target = np.zeros((label.shape[0], self.kwargs['output_dim']))\n",
    "        target[np.arange(label.shape[0]), [int(x) for x in label.asnumpy()]] = 1\n",
    "        self.target = nd.array(target).as_in_context(self.kwargs['ctx'])\n",
    "        self.loss = - nd.sum(self.path_prob * nd.sum( self.target * nd.log(self.Q + 1e-10), axis = 1).expand_dims(1))\n",
    "        return([[path_prob, self.Q, self.loss]])\n",
    "    \n",
    "    \n",
    "    def get_penalty(self):\n",
    "        return [0]\n",
    "    \n",
    "    def print_node_info(self):\n",
    "        print('node name = {}, loss = {}'.format(self.super_node_name + node_name, self.loss))\n",
    "        \n",
    "    def get_loss(self, loss):\n",
    "        if self.loss is not None:\n",
    "            return loss + self.loss\n",
    "        else:\n",
    "            return loss\n",
    "    \n",
    "    def reset(self):\n",
    "        self.loss = 0\n",
    "        pass"
   ]
  },
  {
   "cell_type": "code",
   "execution_count": 6,
   "metadata": {
    "ExecuteTime": {
     "end_time": "2018-02-08T04:26:57.212245Z",
     "start_time": "2018-02-08T04:26:57.185457Z"
    },
    "collapsed": true
   },
   "outputs": [],
   "source": [
    "def pred(tree, x, **kwargs):\n",
    "    leaf_info = tree.leaf_accumulator\n",
    "    n_data = x.shape[0]\n",
    "    max_prob = [-1. for _ in range(n_data)]\n",
    "    max_Q = [nd.zeros(kwargs['output_dim']) for _ in range(n_data)]\n",
    "    for (path_prob, Q, _) in leaf_info:\n",
    "        for i in range(n_data):\n",
    "            if max_prob[i] < path_prob[i]:\n",
    "                max_prob[i] = path_prob[i]\n",
    "                max_Q[i] = Q\n",
    "        Q_mat = nd.array([x.asnumpy() for x in max_Q])\n",
    "        res = nd.argmax(Q_mat, axis = 1)\n",
    "    return res"
   ]
  },
  {
   "cell_type": "markdown",
   "metadata": {},
   "source": [
    "# Training"
   ]
  },
  {
   "cell_type": "markdown",
   "metadata": {},
   "source": [
    "## Set parameters and Trainer"
   ]
  },
  {
   "cell_type": "code",
   "execution_count": 7,
   "metadata": {
    "ExecuteTime": {
     "end_time": "2018-02-08T04:27:01.663865Z",
     "start_time": "2018-02-08T04:26:59.466842Z"
    },
    "collapsed": true
   },
   "outputs": [],
   "source": [
    "args = {}\n",
    "args['lmbd'] = .5\n",
    "args['output_dim'] = 10\n",
    "args['ctx'] = gpu_ctx\n",
    "args['cut_off'] = .5\n",
    "args['max_depth'] = 6\n",
    "\n",
    "tree = InnerNode(0, '', 'root', **args)\n",
    "tree.collect_params().initialize(mx.init.Xavier(), ctx = args['ctx'])\n",
    "\n",
    "trainer = gluon.Trainer(tree.collect_params(), 'adam', {'learning_rate': .001})"
   ]
  },
  {
   "cell_type": "code",
   "execution_count": 8,
   "metadata": {
    "ExecuteTime": {
     "end_time": "2018-02-08T06:24:02.833750Z",
     "start_time": "2018-02-08T04:27:03.320988Z"
    },
    "scrolled": true
   },
   "outputs": [
    {
     "data": {
      "application/vnd.jupyter.widget-view+json": {
       "model_id": "d4070b4fe47e4e44ba77eb3d4f900ead",
       "version_major": 2,
       "version_minor": 0
      },
      "text/plain": [
       "A Jupyter Widget"
      ]
     },
     "metadata": {},
     "output_type": "display_data"
    },
    {
     "name": "stdout",
     "output_type": "stream",
     "text": [
      "train done for batch = 938\n",
      "test done for batch = 157\n",
      "Epoch 0, Training loss 102.343565544, Validation loss 87.6343639398, Accuracy 73.148880\n",
      "train done for batch = 938\n",
      "test done for batch = 157\n",
      "Epoch 1, Training loss 78.3094975201, Validation loss 77.3916058146, Accuracy 82.503983\n",
      "train done for batch = 938\n",
      "test done for batch = 157\n",
      "Epoch 2, Training loss 70.4364297131, Validation loss 71.8328305141, Accuracy 86.982483\n",
      "train done for batch = 938\n",
      "test done for batch = 157\n",
      "Epoch 3, Training loss 66.4686046104, Validation loss 69.2625821108, Accuracy 88.266319\n",
      "train done for batch = 938\n",
      "test done for batch = 157\n",
      "Epoch 4, Training loss 64.2869125805, Validation loss 67.6828465796, Accuracy 88.833603\n",
      "train done for batch = 938\n",
      "test done for batch = 157\n",
      "Epoch 5, Training loss 62.8098647437, Validation loss 66.529410344, Accuracy 89.261543\n",
      "train done for batch = 938\n",
      "test done for batch = 157\n",
      "Epoch 6, Training loss 61.6459157411, Validation loss 65.5587732109, Accuracy 90.127388\n",
      "train done for batch = 938\n",
      "test done for batch = 157\n",
      "Epoch 7, Training loss 60.6801013784, Validation loss 64.8186477856, Accuracy 90.615044\n",
      "train done for batch = 938\n",
      "test done for batch = 157\n",
      "Epoch 8, Training loss 59.8928572201, Validation loss 64.234254752, Accuracy 91.033043\n",
      "train done for batch = 938\n",
      "test done for batch = 157\n",
      "Epoch 9, Training loss 59.2247270694, Validation loss inf, Accuracy 91.351517\n",
      "\n",
      "Time elapsed: 7019.29s\n"
     ]
    }
   ],
   "source": [
    "n_epoch = 10\n",
    "print_period = n_epoch // 50\n",
    "start = time.time()\n",
    "\n",
    "training_loss = []\n",
    "validation_loss = []\n",
    "acc_trend = []\n",
    "for epoch in tqdm_notebook(range(n_epoch), desc='epochs'):\n",
    "    epoch_loss = 0\n",
    "    epoch_val_loss = 0\n",
    "    # Dataset을 처음부터 읽어오기 위해 reset\n",
    "    train_iter.reset() \n",
    "    test_iter.reset()\n",
    "    n_batch_train = 0\n",
    "    correct = 0\n",
    "    for batch in train_iter:\n",
    "        # 아랫부분에서 평균 loss를 구하기 위한 counter\n",
    "        n_batch_train +=1\n",
    "        # Batch data 불러오기\n",
    "        data = batch.data[0].as_in_context(gpu_ctx)\n",
    "        label = batch.label[0].as_in_context(gpu_ctx)\n",
    "        with autograd.record():\n",
    "            # 학습하는 과정에서 나타나는 정보를 모두 제거. weight 정보는 남김\n",
    "            tree.reset()\n",
    "            # 최초 Path probability값을 1로 준다.\n",
    "            prob = nd.ones(shape = (data.shape[0]), ctx = gpu_ctx).expand_dims(1)\n",
    "            # 주어진 data를 흘려보내며, 최종 leaf node에서 Path probability, 추정된 분포 (Q), loss값을 구한다.\n",
    "            # leaf_accumulator에 leaf node에서 얻어진 정보를 저장하게 된다.\n",
    "            tree(data, label, prob)\n",
    "            # leaf_accumulator의 정보를 새로운 변수에 저장한후\n",
    "            leaf_info = tree.leaf_accumulator\n",
    "            # Loss를 뽑아낸다.\n",
    "            loss = 0.\n",
    "            for l in leaf_info:\n",
    "                loss = loss + l[2]\n",
    "            # 각 inner node에서 penalty값을 찾아낸다.\n",
    "            tree.get_penalty()\n",
    "            penalty = 0\n",
    "            for t in tree.penalties:\n",
    "                penalty = penalty + t\n",
    "            # Loss와 penalty를 더하여 최종 penalized loss를 구한다.\n",
    "            pen_loss = loss + penalty\n",
    "        pen_loss.backward()\n",
    "        trainer.step(data.shape[0])\n",
    "        # Loss의 합을 구한다.\n",
    "        epoch_loss += nd.mean(loss).asscalar()\n",
    "    tqdm.write('train done for batch = {}'.format(n_batch_train))\n",
    "    n_batch_val = 0\n",
    "    n_test_data = 0\n",
    "    for batch in test_iter:\n",
    "        tree.reset()\n",
    "        n_batch_val +=1\n",
    "        data = batch.data[0].as_in_context(gpu_ctx)\n",
    "        label = batch.label[0].as_in_context(gpu_ctx)\n",
    "        n_test_data += data.shape[0]\n",
    "        prob = nd.ones(shape = (data.shape[0]), ctx = gpu_ctx).expand_dims(1)\n",
    "        tree(data, label, prob)\n",
    "        leaf_info = tree.leaf_accumulator\n",
    "        loss = 0.\n",
    "        for l in leaf_info:\n",
    "            loss = loss + l[2] \n",
    "        tree.get_penalty()\n",
    "        penalty = 0\n",
    "        for t in tree.penalties:\n",
    "            penalty = penalty + t\n",
    "        pen_loss = loss + penalty\n",
    "        epoch_val_loss += nd.mean(pen_loss).asscalar()\n",
    "        pr = pred(tree, data, **args)\n",
    "        correct += nd.sum(label == pr.as_in_context(gpu_ctx))\n",
    "    accuracy = correct/n_test_data * 100\n",
    "    epoch_loss /= n_batch_train\n",
    "    epoch_val_loss /= n_batch_val\n",
    "    tqdm.write('test done for batch = {}'.format(n_batch_val))\n",
    "    training_loss.append(epoch_loss)\n",
    "    validation_loss.append(epoch_val_loss)\n",
    "    acc_trend.append(accuracy)\n",
    "    \n",
    "    if epoch % max(print_period,1) == 0:\n",
    "        tqdm.write('Epoch %d, Training loss %s, Validation loss %s, Accuracy %f'%(epoch, epoch_loss, epoch_val_loss, accuracy.asscalar()))\n",
    "        \n",
    "end = time.time()\n",
    "tqdm.write('Time elapsed: {:.2f}s'.format(end - start))"
   ]
  },
  {
   "cell_type": "code",
   "execution_count": 17,
   "metadata": {
    "ExecuteTime": {
     "end_time": "2018-02-08T07:20:28.349172Z",
     "start_time": "2018-02-08T07:20:28.343899Z"
    }
   },
   "outputs": [
    {
     "data": {
      "text/plain": [
       "[87.63436393980767,\n",
       " 77.391605814551099,\n",
       " 71.832830514118172,\n",
       " 69.262582110751211,\n",
       " 67.682846579582062,\n",
       " 66.529410344020576,\n",
       " 65.558773210853531,\n",
       " 64.818647785551235,\n",
       " 64.23425475199511,\n",
       " inf]"
      ]
     },
     "execution_count": 17,
     "metadata": {},
     "output_type": "execute_result"
    }
   ],
   "source": [
    "validation_loss"
   ]
  },
  {
   "cell_type": "code",
   "execution_count": 19,
   "metadata": {
    "ExecuteTime": {
     "end_time": "2018-02-08T07:21:13.346236Z",
     "start_time": "2018-02-08T07:21:13.237136Z"
    }
   },
   "outputs": [
    {
     "data": {
      "text/html": [
       "\n",
       "    <div class=\"bk-root\">\n",
       "        <a href=\"https://bokeh.pydata.org\" target=\"_blank\" class=\"bk-logo bk-logo-small bk-logo-notebook\"></a>\n",
       "        <span id=\"317c95a1-2428-4c07-ad5d-23cbd5b5b3a0\">Loading BokehJS ...</span>\n",
       "    </div>"
      ]
     },
     "metadata": {},
     "output_type": "display_data"
    },
    {
     "data": {
      "application/javascript": [
       "\n",
       "(function(root) {\n",
       "  function now() {\n",
       "    return new Date();\n",
       "  }\n",
       "\n",
       "  var force = true;\n",
       "\n",
       "  if (typeof (root._bokeh_onload_callbacks) === \"undefined\" || force === true) {\n",
       "    root._bokeh_onload_callbacks = [];\n",
       "    root._bokeh_is_loading = undefined;\n",
       "  }\n",
       "\n",
       "  var JS_MIME_TYPE = 'application/javascript';\n",
       "  var HTML_MIME_TYPE = 'text/html';\n",
       "  var EXEC_MIME_TYPE = 'application/vnd.bokehjs_exec.v0+json';\n",
       "  var CLASS_NAME = 'output_bokeh rendered_html';\n",
       "\n",
       "  /**\n",
       "   * Render data to the DOM node\n",
       "   */\n",
       "  function render(props, node) {\n",
       "    var script = document.createElement(\"script\");\n",
       "    node.appendChild(script);\n",
       "  }\n",
       "\n",
       "  /**\n",
       "   * Handle when an output is cleared or removed\n",
       "   */\n",
       "  function handleClearOutput(event, handle) {\n",
       "    var cell = handle.cell;\n",
       "\n",
       "    var id = cell.output_area._bokeh_element_id;\n",
       "    var server_id = cell.output_area._bokeh_server_id;\n",
       "    // Clean up Bokeh references\n",
       "    if (id !== undefined) {\n",
       "      Bokeh.index[id].model.document.clear();\n",
       "      delete Bokeh.index[id];\n",
       "    }\n",
       "\n",
       "    if (server_id !== undefined) {\n",
       "      // Clean up Bokeh references\n",
       "      var cmd = \"from bokeh.io.state import curstate; print(curstate().uuid_to_server['\" + server_id + \"'].get_sessions()[0].document.roots[0]._id)\";\n",
       "      cell.notebook.kernel.execute(cmd, {\n",
       "        iopub: {\n",
       "          output: function(msg) {\n",
       "            var element_id = msg.content.text.trim();\n",
       "            Bokeh.index[element_id].model.document.clear();\n",
       "            delete Bokeh.index[element_id];\n",
       "          }\n",
       "        }\n",
       "      });\n",
       "      // Destroy server and session\n",
       "      var cmd = \"import bokeh.io.notebook as ion; ion.destroy_server('\" + server_id + \"')\";\n",
       "      cell.notebook.kernel.execute(cmd);\n",
       "    }\n",
       "  }\n",
       "\n",
       "  /**\n",
       "   * Handle when a new output is added\n",
       "   */\n",
       "  function handleAddOutput(event, handle) {\n",
       "    var output_area = handle.output_area;\n",
       "    var output = handle.output;\n",
       "\n",
       "    // limit handleAddOutput to display_data with EXEC_MIME_TYPE content only\n",
       "    if ((output.output_type != \"display_data\") || (!output.data.hasOwnProperty(EXEC_MIME_TYPE))) {\n",
       "      return\n",
       "    }\n",
       "\n",
       "    var toinsert = output_area.element.find(`.${CLASS_NAME.split(' ')[0]}`);\n",
       "\n",
       "    if (output.metadata[EXEC_MIME_TYPE][\"id\"] !== undefined) {\n",
       "      toinsert[0].firstChild.textContent = output.data[JS_MIME_TYPE];\n",
       "      // store reference to embed id on output_area\n",
       "      output_area._bokeh_element_id = output.metadata[EXEC_MIME_TYPE][\"id\"];\n",
       "    }\n",
       "    if (output.metadata[EXEC_MIME_TYPE][\"server_id\"] !== undefined) {\n",
       "      var bk_div = document.createElement(\"div\");\n",
       "      bk_div.innerHTML = output.data[HTML_MIME_TYPE];\n",
       "      var script_attrs = bk_div.children[0].attributes;\n",
       "      for (var i = 0; i < script_attrs.length; i++) {\n",
       "        toinsert[0].firstChild.setAttribute(script_attrs[i].name, script_attrs[i].value);\n",
       "      }\n",
       "      // store reference to server id on output_area\n",
       "      output_area._bokeh_server_id = output.metadata[EXEC_MIME_TYPE][\"server_id\"];\n",
       "    }\n",
       "  }\n",
       "\n",
       "  function register_renderer(events, OutputArea) {\n",
       "\n",
       "    function append_mime(data, metadata, element) {\n",
       "      // create a DOM node to render to\n",
       "      var toinsert = this.create_output_subarea(\n",
       "        metadata,\n",
       "        CLASS_NAME,\n",
       "        EXEC_MIME_TYPE\n",
       "      );\n",
       "      this.keyboard_manager.register_events(toinsert);\n",
       "      // Render to node\n",
       "      var props = {data: data, metadata: metadata[EXEC_MIME_TYPE]};\n",
       "      render(props, toinsert[0]);\n",
       "      element.append(toinsert);\n",
       "      return toinsert\n",
       "    }\n",
       "\n",
       "    /* Handle when an output is cleared or removed */\n",
       "    events.on('clear_output.CodeCell', handleClearOutput);\n",
       "    events.on('delete.Cell', handleClearOutput);\n",
       "\n",
       "    /* Handle when a new output is added */\n",
       "    events.on('output_added.OutputArea', handleAddOutput);\n",
       "\n",
       "    /**\n",
       "     * Register the mime type and append_mime function with output_area\n",
       "     */\n",
       "    OutputArea.prototype.register_mime_type(EXEC_MIME_TYPE, append_mime, {\n",
       "      /* Is output safe? */\n",
       "      safe: true,\n",
       "      /* Index of renderer in `output_area.display_order` */\n",
       "      index: 0\n",
       "    });\n",
       "  }\n",
       "\n",
       "  // register the mime type if in Jupyter Notebook environment and previously unregistered\n",
       "  if (root.Jupyter !== undefined) {\n",
       "    var events = require('base/js/events');\n",
       "    var OutputArea = require('notebook/js/outputarea').OutputArea;\n",
       "\n",
       "    if (OutputArea.prototype.mime_types().indexOf(EXEC_MIME_TYPE) == -1) {\n",
       "      register_renderer(events, OutputArea);\n",
       "    }\n",
       "  }\n",
       "\n",
       "  \n",
       "  if (typeof (root._bokeh_timeout) === \"undefined\" || force === true) {\n",
       "    root._bokeh_timeout = Date.now() + 5000;\n",
       "    root._bokeh_failed_load = false;\n",
       "  }\n",
       "\n",
       "  var NB_LOAD_WARNING = {'data': {'text/html':\n",
       "     \"<div style='background-color: #fdd'>\\n\"+\n",
       "     \"<p>\\n\"+\n",
       "     \"BokehJS does not appear to have successfully loaded. If loading BokehJS from CDN, this \\n\"+\n",
       "     \"may be due to a slow or bad network connection. Possible fixes:\\n\"+\n",
       "     \"</p>\\n\"+\n",
       "     \"<ul>\\n\"+\n",
       "     \"<li>re-rerun `output_notebook()` to attempt to load from CDN again, or</li>\\n\"+\n",
       "     \"<li>use INLINE resources instead, as so:</li>\\n\"+\n",
       "     \"</ul>\\n\"+\n",
       "     \"<code>\\n\"+\n",
       "     \"from bokeh.resources import INLINE\\n\"+\n",
       "     \"output_notebook(resources=INLINE)\\n\"+\n",
       "     \"</code>\\n\"+\n",
       "     \"</div>\"}};\n",
       "\n",
       "  function display_loaded() {\n",
       "    var el = document.getElementById(\"317c95a1-2428-4c07-ad5d-23cbd5b5b3a0\");\n",
       "    if (el != null) {\n",
       "      el.textContent = \"BokehJS is loading...\";\n",
       "    }\n",
       "    if (root.Bokeh !== undefined) {\n",
       "      if (el != null) {\n",
       "        el.textContent = \"BokehJS \" + root.Bokeh.version + \" successfully loaded.\";\n",
       "      }\n",
       "    } else if (Date.now() < root._bokeh_timeout) {\n",
       "      setTimeout(display_loaded, 100)\n",
       "    }\n",
       "  }\n",
       "\n",
       "\n",
       "  function run_callbacks() {\n",
       "    try {\n",
       "      root._bokeh_onload_callbacks.forEach(function(callback) { callback() });\n",
       "    }\n",
       "    finally {\n",
       "      delete root._bokeh_onload_callbacks\n",
       "    }\n",
       "    console.info(\"Bokeh: all callbacks have finished\");\n",
       "  }\n",
       "\n",
       "  function load_libs(js_urls, callback) {\n",
       "    root._bokeh_onload_callbacks.push(callback);\n",
       "    if (root._bokeh_is_loading > 0) {\n",
       "      console.log(\"Bokeh: BokehJS is being loaded, scheduling callback at\", now());\n",
       "      return null;\n",
       "    }\n",
       "    if (js_urls == null || js_urls.length === 0) {\n",
       "      run_callbacks();\n",
       "      return null;\n",
       "    }\n",
       "    console.log(\"Bokeh: BokehJS not loaded, scheduling load and callback at\", now());\n",
       "    root._bokeh_is_loading = js_urls.length;\n",
       "    for (var i = 0; i < js_urls.length; i++) {\n",
       "      var url = js_urls[i];\n",
       "      var s = document.createElement('script');\n",
       "      s.src = url;\n",
       "      s.async = false;\n",
       "      s.onreadystatechange = s.onload = function() {\n",
       "        root._bokeh_is_loading--;\n",
       "        if (root._bokeh_is_loading === 0) {\n",
       "          console.log(\"Bokeh: all BokehJS libraries loaded\");\n",
       "          run_callbacks()\n",
       "        }\n",
       "      };\n",
       "      s.onerror = function() {\n",
       "        console.warn(\"failed to load library \" + url);\n",
       "      };\n",
       "      console.log(\"Bokeh: injecting script tag for BokehJS library: \", url);\n",
       "      document.getElementsByTagName(\"head\")[0].appendChild(s);\n",
       "    }\n",
       "  };var element = document.getElementById(\"317c95a1-2428-4c07-ad5d-23cbd5b5b3a0\");\n",
       "  if (element == null) {\n",
       "    console.log(\"Bokeh: ERROR: autoload.js configured with elementid '317c95a1-2428-4c07-ad5d-23cbd5b5b3a0' but no matching script tag was found. \")\n",
       "    return false;\n",
       "  }\n",
       "\n",
       "  var js_urls = [\"https://cdn.pydata.org/bokeh/release/bokeh-0.12.10.min.js\", \"https://cdn.pydata.org/bokeh/release/bokeh-widgets-0.12.10.min.js\", \"https://cdn.pydata.org/bokeh/release/bokeh-tables-0.12.10.min.js\", \"https://cdn.pydata.org/bokeh/release/bokeh-gl-0.12.10.min.js\"];\n",
       "\n",
       "  var inline_js = [\n",
       "    function(Bokeh) {\n",
       "      Bokeh.set_log_level(\"info\");\n",
       "    },\n",
       "    \n",
       "    function(Bokeh) {\n",
       "      \n",
       "    },\n",
       "    function(Bokeh) {\n",
       "      console.log(\"Bokeh: injecting CSS: https://cdn.pydata.org/bokeh/release/bokeh-0.12.10.min.css\");\n",
       "      Bokeh.embed.inject_css(\"https://cdn.pydata.org/bokeh/release/bokeh-0.12.10.min.css\");\n",
       "      console.log(\"Bokeh: injecting CSS: https://cdn.pydata.org/bokeh/release/bokeh-widgets-0.12.10.min.css\");\n",
       "      Bokeh.embed.inject_css(\"https://cdn.pydata.org/bokeh/release/bokeh-widgets-0.12.10.min.css\");\n",
       "      console.log(\"Bokeh: injecting CSS: https://cdn.pydata.org/bokeh/release/bokeh-tables-0.12.10.min.css\");\n",
       "      Bokeh.embed.inject_css(\"https://cdn.pydata.org/bokeh/release/bokeh-tables-0.12.10.min.css\");\n",
       "    }\n",
       "  ];\n",
       "\n",
       "  function run_inline_js() {\n",
       "    \n",
       "    if ((root.Bokeh !== undefined) || (force === true)) {\n",
       "      for (var i = 0; i < inline_js.length; i++) {\n",
       "        inline_js[i].call(root, root.Bokeh);\n",
       "      }if (force === true) {\n",
       "        display_loaded();\n",
       "      }} else if (Date.now() < root._bokeh_timeout) {\n",
       "      setTimeout(run_inline_js, 100);\n",
       "    } else if (!root._bokeh_failed_load) {\n",
       "      console.log(\"Bokeh: BokehJS failed to load within specified timeout.\");\n",
       "      root._bokeh_failed_load = true;\n",
       "    } else if (force !== true) {\n",
       "      var cell = $(document.getElementById(\"317c95a1-2428-4c07-ad5d-23cbd5b5b3a0\")).parents('.cell').data().cell;\n",
       "      cell.output_area.append_execute_result(NB_LOAD_WARNING)\n",
       "    }\n",
       "\n",
       "  }\n",
       "\n",
       "  if (root._bokeh_is_loading === 0) {\n",
       "    console.log(\"Bokeh: BokehJS loaded, going straight to plotting\");\n",
       "    run_inline_js();\n",
       "  } else {\n",
       "    load_libs(js_urls, function() {\n",
       "      console.log(\"Bokeh: BokehJS plotting callback run at\", now());\n",
       "      run_inline_js();\n",
       "    });\n",
       "  }\n",
       "}(window));"
      ],
      "application/vnd.bokehjs_load.v0+json": "\n(function(root) {\n  function now() {\n    return new Date();\n  }\n\n  var force = true;\n\n  if (typeof (root._bokeh_onload_callbacks) === \"undefined\" || force === true) {\n    root._bokeh_onload_callbacks = [];\n    root._bokeh_is_loading = undefined;\n  }\n\n  \n\n  \n  if (typeof (root._bokeh_timeout) === \"undefined\" || force === true) {\n    root._bokeh_timeout = Date.now() + 5000;\n    root._bokeh_failed_load = false;\n  }\n\n  var NB_LOAD_WARNING = {'data': {'text/html':\n     \"<div style='background-color: #fdd'>\\n\"+\n     \"<p>\\n\"+\n     \"BokehJS does not appear to have successfully loaded. If loading BokehJS from CDN, this \\n\"+\n     \"may be due to a slow or bad network connection. Possible fixes:\\n\"+\n     \"</p>\\n\"+\n     \"<ul>\\n\"+\n     \"<li>re-rerun `output_notebook()` to attempt to load from CDN again, or</li>\\n\"+\n     \"<li>use INLINE resources instead, as so:</li>\\n\"+\n     \"</ul>\\n\"+\n     \"<code>\\n\"+\n     \"from bokeh.resources import INLINE\\n\"+\n     \"output_notebook(resources=INLINE)\\n\"+\n     \"</code>\\n\"+\n     \"</div>\"}};\n\n  function display_loaded() {\n    var el = document.getElementById(\"317c95a1-2428-4c07-ad5d-23cbd5b5b3a0\");\n    if (el != null) {\n      el.textContent = \"BokehJS is loading...\";\n    }\n    if (root.Bokeh !== undefined) {\n      if (el != null) {\n        el.textContent = \"BokehJS \" + root.Bokeh.version + \" successfully loaded.\";\n      }\n    } else if (Date.now() < root._bokeh_timeout) {\n      setTimeout(display_loaded, 100)\n    }\n  }\n\n\n  function run_callbacks() {\n    try {\n      root._bokeh_onload_callbacks.forEach(function(callback) { callback() });\n    }\n    finally {\n      delete root._bokeh_onload_callbacks\n    }\n    console.info(\"Bokeh: all callbacks have finished\");\n  }\n\n  function load_libs(js_urls, callback) {\n    root._bokeh_onload_callbacks.push(callback);\n    if (root._bokeh_is_loading > 0) {\n      console.log(\"Bokeh: BokehJS is being loaded, scheduling callback at\", now());\n      return null;\n    }\n    if (js_urls == null || js_urls.length === 0) {\n      run_callbacks();\n      return null;\n    }\n    console.log(\"Bokeh: BokehJS not loaded, scheduling load and callback at\", now());\n    root._bokeh_is_loading = js_urls.length;\n    for (var i = 0; i < js_urls.length; i++) {\n      var url = js_urls[i];\n      var s = document.createElement('script');\n      s.src = url;\n      s.async = false;\n      s.onreadystatechange = s.onload = function() {\n        root._bokeh_is_loading--;\n        if (root._bokeh_is_loading === 0) {\n          console.log(\"Bokeh: all BokehJS libraries loaded\");\n          run_callbacks()\n        }\n      };\n      s.onerror = function() {\n        console.warn(\"failed to load library \" + url);\n      };\n      console.log(\"Bokeh: injecting script tag for BokehJS library: \", url);\n      document.getElementsByTagName(\"head\")[0].appendChild(s);\n    }\n  };var element = document.getElementById(\"317c95a1-2428-4c07-ad5d-23cbd5b5b3a0\");\n  if (element == null) {\n    console.log(\"Bokeh: ERROR: autoload.js configured with elementid '317c95a1-2428-4c07-ad5d-23cbd5b5b3a0' but no matching script tag was found. \")\n    return false;\n  }\n\n  var js_urls = [\"https://cdn.pydata.org/bokeh/release/bokeh-0.12.10.min.js\", \"https://cdn.pydata.org/bokeh/release/bokeh-widgets-0.12.10.min.js\", \"https://cdn.pydata.org/bokeh/release/bokeh-tables-0.12.10.min.js\", \"https://cdn.pydata.org/bokeh/release/bokeh-gl-0.12.10.min.js\"];\n\n  var inline_js = [\n    function(Bokeh) {\n      Bokeh.set_log_level(\"info\");\n    },\n    \n    function(Bokeh) {\n      \n    },\n    function(Bokeh) {\n      console.log(\"Bokeh: injecting CSS: https://cdn.pydata.org/bokeh/release/bokeh-0.12.10.min.css\");\n      Bokeh.embed.inject_css(\"https://cdn.pydata.org/bokeh/release/bokeh-0.12.10.min.css\");\n      console.log(\"Bokeh: injecting CSS: https://cdn.pydata.org/bokeh/release/bokeh-widgets-0.12.10.min.css\");\n      Bokeh.embed.inject_css(\"https://cdn.pydata.org/bokeh/release/bokeh-widgets-0.12.10.min.css\");\n      console.log(\"Bokeh: injecting CSS: https://cdn.pydata.org/bokeh/release/bokeh-tables-0.12.10.min.css\");\n      Bokeh.embed.inject_css(\"https://cdn.pydata.org/bokeh/release/bokeh-tables-0.12.10.min.css\");\n    }\n  ];\n\n  function run_inline_js() {\n    \n    if ((root.Bokeh !== undefined) || (force === true)) {\n      for (var i = 0; i < inline_js.length; i++) {\n        inline_js[i].call(root, root.Bokeh);\n      }if (force === true) {\n        display_loaded();\n      }} else if (Date.now() < root._bokeh_timeout) {\n      setTimeout(run_inline_js, 100);\n    } else if (!root._bokeh_failed_load) {\n      console.log(\"Bokeh: BokehJS failed to load within specified timeout.\");\n      root._bokeh_failed_load = true;\n    } else if (force !== true) {\n      var cell = $(document.getElementById(\"317c95a1-2428-4c07-ad5d-23cbd5b5b3a0\")).parents('.cell').data().cell;\n      cell.output_area.append_execute_result(NB_LOAD_WARNING)\n    }\n\n  }\n\n  if (root._bokeh_is_loading === 0) {\n    console.log(\"Bokeh: BokehJS loaded, going straight to plotting\");\n    run_inline_js();\n  } else {\n    load_libs(js_urls, function() {\n      console.log(\"Bokeh: BokehJS plotting callback run at\", now());\n      run_inline_js();\n    });\n  }\n}(window));"
     },
     "metadata": {},
     "output_type": "display_data"
    },
    {
     "data": {
      "text/html": [
       "\n",
       "<div class=\"bk-root\">\n",
       "    <div class=\"bk-plotdiv\" id=\"4bfcb403-5306-42f2-aebf-e60144fd0547\"></div>\n",
       "</div>"
      ]
     },
     "metadata": {},
     "output_type": "display_data"
    },
    {
     "data": {
      "application/javascript": [
       "(function(root) {\n",
       "  function embed_document(root) {\n",
       "    var docs_json = {\"558bca99-e79b-45c6-b969-5efac6805401\":{\"roots\":{\"references\":[{\"attributes\":{\"plot\":{\"id\":\"3bf318b6-8174-401d-a78d-47b3e6896590\",\"subtype\":\"Figure\",\"type\":\"Plot\"},\"ticker\":{\"id\":\"3f409785-a774-4654-ac39-cb6408b51d94\",\"type\":\"BasicTicker\"}},\"id\":\"9b7fd383-b185-425c-a590-512f569f0712\",\"type\":\"Grid\"},{\"attributes\":{\"data_source\":{\"id\":\"e2f3e9d8-b6d9-4137-8559-51ec36c6bd33\",\"type\":\"ColumnDataSource\"},\"glyph\":{\"id\":\"7847fcb3-d95b-4be9-b343-f164f379bca8\",\"type\":\"Line\"},\"hover_glyph\":null,\"muted_glyph\":null,\"nonselection_glyph\":{\"id\":\"3df0b649-4e8c-4be6-99c8-518490779454\",\"type\":\"Line\"},\"selection_glyph\":null,\"view\":{\"id\":\"a46b7fca-7ea0-48e8-98fa-f102767366c2\",\"type\":\"CDSView\"}},\"id\":\"c65ccfc0-e750-45e0-b571-618e668b7913\",\"type\":\"GlyphRenderer\"},{\"attributes\":{\"line_color\":{\"value\":\"#5e4fa2\"},\"line_width\":{\"value\":2},\"x\":{\"field\":\"x\"},\"y\":{\"field\":\"y\"}},\"id\":\"7847fcb3-d95b-4be9-b343-f164f379bca8\",\"type\":\"Line\"},{\"attributes\":{},\"id\":\"3f409785-a774-4654-ac39-cb6408b51d94\",\"type\":\"BasicTicker\"},{\"attributes\":{\"line_alpha\":{\"value\":0.1},\"line_color\":{\"value\":\"#1f77b4\"},\"line_width\":{\"value\":2},\"x\":{\"field\":\"x\"},\"y\":{\"field\":\"y\"}},\"id\":\"4700be4e-1ede-46f8-8db9-eb33c8d3ab60\",\"type\":\"Line\"},{\"attributes\":{\"dimension\":1,\"plot\":{\"id\":\"3bf318b6-8174-401d-a78d-47b3e6896590\",\"subtype\":\"Figure\",\"type\":\"Plot\"},\"ticker\":{\"id\":\"2134436c-e49e-4c68-a03d-d97fb653408e\",\"type\":\"BasicTicker\"}},\"id\":\"dbd9ff83-c07d-449b-a93b-d0772c3971af\",\"type\":\"Grid\"},{\"attributes\":{\"source\":{\"id\":\"1f41da68-422d-4f3a-927d-9d4be3185821\",\"type\":\"ColumnDataSource\"}},\"id\":\"3186cbd2-a77e-4528-9e8b-669556b6350e\",\"type\":\"CDSView\"},{\"attributes\":{\"formatter\":{\"id\":\"b7d7fa82-deb8-4c02-9859-6c26284d7e5f\",\"type\":\"BasicTickFormatter\"},\"plot\":{\"id\":\"3bf318b6-8174-401d-a78d-47b3e6896590\",\"subtype\":\"Figure\",\"type\":\"Plot\"},\"ticker\":{\"id\":\"3f409785-a774-4654-ac39-cb6408b51d94\",\"type\":\"BasicTicker\"}},\"id\":\"694e2498-c1ac-4e6e-a1e4-fa4d510325c4\",\"type\":\"LinearAxis\"},{\"attributes\":{\"callback\":null},\"id\":\"6cb2cf3b-0bc3-480c-b9aa-5ed4099d7223\",\"type\":\"DataRange1d\"},{\"attributes\":{\"line_color\":{\"value\":\"#3288bd\"},\"line_width\":{\"value\":2},\"x\":{\"field\":\"x\"},\"y\":{\"field\":\"y\"}},\"id\":\"63b27618-978f-4bfc-a6f2-cff7bb0708c3\",\"type\":\"Line\"},{\"attributes\":{\"active_drag\":\"auto\",\"active_inspect\":\"auto\",\"active_scroll\":\"auto\",\"active_tap\":\"auto\",\"tools\":[{\"id\":\"7616527c-2111-4a44-a943-18f3c8ffdb7d\",\"type\":\"PanTool\"},{\"id\":\"80b947b8-7413-41d7-8a2d-a0bebb24e6a5\",\"type\":\"WheelZoomTool\"},{\"id\":\"a5aca5cf-4726-484c-8472-bed1e9cdfc1d\",\"type\":\"BoxZoomTool\"},{\"id\":\"09d3a55b-6709-44dc-a95a-3667e04cf048\",\"type\":\"SaveTool\"},{\"id\":\"7c0e765c-d50a-4bd9-9e95-a52c97b5b466\",\"type\":\"ResetTool\"},{\"id\":\"82ffb65c-dc03-47c0-9631-4c0b7221d1ae\",\"type\":\"HelpTool\"}]},\"id\":\"ebdf428f-53c8-4352-9fbb-b0981f9df739\",\"type\":\"Toolbar\"},{\"attributes\":{\"data_source\":{\"id\":\"1f41da68-422d-4f3a-927d-9d4be3185821\",\"type\":\"ColumnDataSource\"},\"glyph\":{\"id\":\"63b27618-978f-4bfc-a6f2-cff7bb0708c3\",\"type\":\"Line\"},\"hover_glyph\":null,\"muted_glyph\":null,\"nonselection_glyph\":{\"id\":\"4700be4e-1ede-46f8-8db9-eb33c8d3ab60\",\"type\":\"Line\"},\"selection_glyph\":null,\"view\":{\"id\":\"3186cbd2-a77e-4528-9e8b-669556b6350e\",\"type\":\"CDSView\"}},\"id\":\"1e47cdf4-7e9a-4fb4-a71f-c730a50b6900\",\"type\":\"GlyphRenderer\"},{\"attributes\":{},\"id\":\"2134436c-e49e-4c68-a03d-d97fb653408e\",\"type\":\"BasicTicker\"},{\"attributes\":{\"callback\":null},\"id\":\"16b40d4f-6c2c-4530-9bdb-f7aef1bd9d34\",\"type\":\"DataRange1d\"},{\"attributes\":{},\"id\":\"82ffb65c-dc03-47c0-9631-4c0b7221d1ae\",\"type\":\"HelpTool\"},{\"attributes\":{},\"id\":\"5f9d7794-cdbe-47bc-a760-72e200c57451\",\"type\":\"LinearScale\"},{\"attributes\":{},\"id\":\"7c0e765c-d50a-4bd9-9e95-a52c97b5b466\",\"type\":\"ResetTool\"},{\"attributes\":{},\"id\":\"07602b90-e628-4ad1-995e-60fb33c3f4ed\",\"type\":\"LinearScale\"},{\"attributes\":{},\"id\":\"09d3a55b-6709-44dc-a95a-3667e04cf048\",\"type\":\"SaveTool\"},{\"attributes\":{\"plot\":null,\"text\":\"\"},\"id\":\"529c2702-d990-414f-9e71-19e20f3469eb\",\"type\":\"Title\"},{\"attributes\":{\"overlay\":{\"id\":\"fd47d319-de80-4409-8b38-4872787abe2d\",\"type\":\"BoxAnnotation\"}},\"id\":\"a5aca5cf-4726-484c-8472-bed1e9cdfc1d\",\"type\":\"BoxZoomTool\"},{\"attributes\":{},\"id\":\"80b947b8-7413-41d7-8a2d-a0bebb24e6a5\",\"type\":\"WheelZoomTool\"},{\"attributes\":{},\"id\":\"2f6e4b5b-67ec-4f36-a68b-5909379bce90\",\"type\":\"BasicTickFormatter\"},{\"attributes\":{},\"id\":\"7616527c-2111-4a44-a943-18f3c8ffdb7d\",\"type\":\"PanTool\"},{\"attributes\":{\"bottom_units\":\"screen\",\"fill_alpha\":{\"value\":0.5},\"fill_color\":{\"value\":\"lightgrey\"},\"left_units\":\"screen\",\"level\":\"overlay\",\"line_alpha\":{\"value\":1.0},\"line_color\":{\"value\":\"black\"},\"line_dash\":[4,4],\"line_width\":{\"value\":2},\"plot\":null,\"render_mode\":\"css\",\"right_units\":\"screen\",\"top_units\":\"screen\"},\"id\":\"fd47d319-de80-4409-8b38-4872787abe2d\",\"type\":\"BoxAnnotation\"},{\"attributes\":{\"callback\":null,\"column_names\":[\"x\",\"y\"],\"data\":{\"x\":{\"__ndarray__\":\"AAAAAAAA8D8AAAAAAAABQAAAAAAAAApAAAAAAACAEUAAAAAAAAAWQAAAAAAAgBpAAAAAAAAAH0AAAAAAAMAhQAAAAAAAACRA\",\"dtype\":\"float64\",\"shape\":[9]},\"y\":[102.3435655443399,78.30949752010517,70.4364297130723,66.46860461041871,64.28691258054297,62.80986474368618,61.645915741096935,60.680101378385956,59.892857220127134]}},\"id\":\"e2f3e9d8-b6d9-4137-8559-51ec36c6bd33\",\"type\":\"ColumnDataSource\"},{\"attributes\":{},\"id\":\"b7d7fa82-deb8-4c02-9859-6c26284d7e5f\",\"type\":\"BasicTickFormatter\"},{\"attributes\":{\"line_alpha\":{\"value\":0.1},\"line_color\":{\"value\":\"#1f77b4\"},\"line_width\":{\"value\":2},\"x\":{\"field\":\"x\"},\"y\":{\"field\":\"y\"}},\"id\":\"3df0b649-4e8c-4be6-99c8-518490779454\",\"type\":\"Line\"},{\"attributes\":{\"source\":{\"id\":\"e2f3e9d8-b6d9-4137-8559-51ec36c6bd33\",\"type\":\"ColumnDataSource\"}},\"id\":\"a46b7fca-7ea0-48e8-98fa-f102767366c2\",\"type\":\"CDSView\"},{\"attributes\":{\"callback\":null,\"column_names\":[\"x\",\"y\"],\"data\":{\"x\":{\"__ndarray__\":\"AAAAAAAA8D8AAAAAAAABQAAAAAAAAApAAAAAAACAEUAAAAAAAAAWQAAAAAAAgBpAAAAAAAAAH0AAAAAAAMAhQAAAAAAAACRA\",\"dtype\":\"float64\",\"shape\":[9]},\"y\":[87.63436393980767,77.3916058145511,71.83283051411817,69.26258211075121,67.68284657958206,66.52941034402058,65.55877321085353,64.81864778555124,64.23425475199511]}},\"id\":\"1f41da68-422d-4f3a-927d-9d4be3185821\",\"type\":\"ColumnDataSource\"},{\"attributes\":{\"formatter\":{\"id\":\"2f6e4b5b-67ec-4f36-a68b-5909379bce90\",\"type\":\"BasicTickFormatter\"},\"plot\":{\"id\":\"3bf318b6-8174-401d-a78d-47b3e6896590\",\"subtype\":\"Figure\",\"type\":\"Plot\"},\"ticker\":{\"id\":\"2134436c-e49e-4c68-a03d-d97fb653408e\",\"type\":\"BasicTicker\"}},\"id\":\"9f947d85-c63e-4c06-8b21-7b5ea5f9f58b\",\"type\":\"LinearAxis\"},{\"attributes\":{\"below\":[{\"id\":\"694e2498-c1ac-4e6e-a1e4-fa4d510325c4\",\"type\":\"LinearAxis\"}],\"left\":[{\"id\":\"9f947d85-c63e-4c06-8b21-7b5ea5f9f58b\",\"type\":\"LinearAxis\"}],\"plot_height\":400,\"plot_width\":400,\"renderers\":[{\"id\":\"694e2498-c1ac-4e6e-a1e4-fa4d510325c4\",\"type\":\"LinearAxis\"},{\"id\":\"9b7fd383-b185-425c-a590-512f569f0712\",\"type\":\"Grid\"},{\"id\":\"9f947d85-c63e-4c06-8b21-7b5ea5f9f58b\",\"type\":\"LinearAxis\"},{\"id\":\"dbd9ff83-c07d-449b-a93b-d0772c3971af\",\"type\":\"Grid\"},{\"id\":\"fd47d319-de80-4409-8b38-4872787abe2d\",\"type\":\"BoxAnnotation\"},{\"id\":\"c65ccfc0-e750-45e0-b571-618e668b7913\",\"type\":\"GlyphRenderer\"},{\"id\":\"1e47cdf4-7e9a-4fb4-a71f-c730a50b6900\",\"type\":\"GlyphRenderer\"}],\"title\":{\"id\":\"529c2702-d990-414f-9e71-19e20f3469eb\",\"type\":\"Title\"},\"toolbar\":{\"id\":\"ebdf428f-53c8-4352-9fbb-b0981f9df739\",\"type\":\"Toolbar\"},\"x_range\":{\"id\":\"16b40d4f-6c2c-4530-9bdb-f7aef1bd9d34\",\"type\":\"DataRange1d\"},\"x_scale\":{\"id\":\"5f9d7794-cdbe-47bc-a760-72e200c57451\",\"type\":\"LinearScale\"},\"y_range\":{\"id\":\"6cb2cf3b-0bc3-480c-b9aa-5ed4099d7223\",\"type\":\"DataRange1d\"},\"y_scale\":{\"id\":\"07602b90-e628-4ad1-995e-60fb33c3f4ed\",\"type\":\"LinearScale\"}},\"id\":\"3bf318b6-8174-401d-a78d-47b3e6896590\",\"subtype\":\"Figure\",\"type\":\"Plot\"}],\"root_ids\":[\"3bf318b6-8174-401d-a78d-47b3e6896590\"]},\"title\":\"Bokeh Application\",\"version\":\"0.12.10\"}};\n",
       "    var render_items = [{\"docid\":\"558bca99-e79b-45c6-b969-5efac6805401\",\"elementid\":\"4bfcb403-5306-42f2-aebf-e60144fd0547\",\"modelid\":\"3bf318b6-8174-401d-a78d-47b3e6896590\"}];\n",
       "\n",
       "    root.Bokeh.embed.embed_items(docs_json, render_items);\n",
       "  }\n",
       "\n",
       "  if (root.Bokeh !== undefined) {\n",
       "    embed_document(root);\n",
       "  } else {\n",
       "    var attempts = 0;\n",
       "    var timer = setInterval(function(root) {\n",
       "      if (root.Bokeh !== undefined) {\n",
       "        embed_document(root);\n",
       "        clearInterval(timer);\n",
       "      }\n",
       "      attempts++;\n",
       "      if (attempts > 100) {\n",
       "        console.log(\"Bokeh: ERROR: Unable to embed document because BokehJS library is missing\")\n",
       "        clearInterval(timer);\n",
       "      }\n",
       "    }, 10, root)\n",
       "  }\n",
       "})(window);"
      ],
      "application/vnd.bokehjs_exec.v0+json": ""
     },
     "metadata": {
      "application/vnd.bokehjs_exec.v0+json": {
       "id": "3bf318b6-8174-401d-a78d-47b3e6896590"
      }
     },
     "output_type": "display_data"
    }
   ],
   "source": [
    "# Plotting library\n",
    "from bokeh.plotting import figure, show, output_file\n",
    "from bokeh.io import output_notebook\n",
    "from bokeh.models import Range1d\n",
    "from bokeh.palettes import brewer\n",
    "\n",
    "output_notebook()\n",
    "\n",
    "color_map = brewer[\"Spectral\"][10]\n",
    "batch_x = np.linspace(1, n_epoch, len(training_loss) - 1)\n",
    "p = figure(plot_width=400, plot_height=400)\n",
    "p.line(batch_x, training_loss[:-1], color = color_map[0], line_width=2)\n",
    "p.line(batch_x, validation_loss[:-1], color = color_map[1], line_width=2)\n",
    "show(p)"
   ]
  },
  {
   "cell_type": "markdown",
   "metadata": {},
   "source": [
    "# Inspect results"
   ]
  },
  {
   "cell_type": "code",
   "execution_count": 20,
   "metadata": {
    "ExecuteTime": {
     "end_time": "2018-02-08T07:21:18.531061Z",
     "start_time": "2018-02-08T07:21:18.293569Z"
    },
    "collapsed": true
   },
   "outputs": [],
   "source": [
    "import matplotlib.pyplot as plt\n",
    "%matplotlib inline"
   ]
  },
  {
   "cell_type": "markdown",
   "metadata": {},
   "source": [
    "## Top layer"
   ]
  },
  {
   "cell_type": "code",
   "execution_count": 50,
   "metadata": {
    "ExecuteTime": {
     "end_time": "2018-02-08T07:38:18.844880Z",
     "start_time": "2018-02-08T07:38:18.841133Z"
    }
   },
   "outputs": [],
   "source": [
    "label = tree.left.left.left.left.left.left.left.target"
   ]
  },
  {
   "cell_type": "code",
   "execution_count": 66,
   "metadata": {
    "ExecuteTime": {
     "end_time": "2018-02-08T07:46:30.732505Z",
     "start_time": "2018-02-08T07:46:30.599875Z"
    }
   },
   "outputs": [
    {
     "data": {
      "text/plain": [
       "<module 'matplotlib.pyplot' from '/home/kionkim/anaconda3/envs/kion_venv_mxnet/lib/python3.6/site-packages/matplotlib/pyplot.py'>"
      ]
     },
     "execution_count": 66,
     "metadata": {},
     "output_type": "execute_result"
    },
    {
     "data": {
      "image/png": "[encoded data removed]",
      "text/plain": [
       "<matplotlib.figure.Figure at 0x7fc560166ef0>"
      ]
     },
     "metadata": {},
     "output_type": "display_data"
    }
   ],
   "source": [
    "plt.imshow(tree.fc.weight.data().reshape((28, 28)).asnumpy(), cmap='Greys')\n",
    "plt"
   ]
  },
  {
   "cell_type": "markdown",
   "metadata": {},
   "source": [
    "### Left Branch Classification"
   ]
  },
  {
   "cell_type": "code",
   "execution_count": 86,
   "metadata": {
    "ExecuteTime": {
     "end_time": "2018-02-08T07:57:59.599467Z",
     "start_time": "2018-02-08T07:57:59.582266Z"
    },
    "scrolled": true
   },
   "outputs": [
    {
     "name": "stdout",
     "output_type": "stream",
     "text": [
      "left branch: [ 4.  7.  9.  9.  4.]\n"
     ]
    }
   ],
   "source": [
    "idx = np.argsort(np.squeeze(tree.left.path_prob.asnumpy()))\n",
    "top_examples = nd.argmax(label[idx[-5:], :], axis = 1)\n",
    "print('left branch: {}'.format(top_examples.asnumpy()))"
   ]
  },
  {
   "cell_type": "markdown",
   "metadata": {},
   "source": [
    "### Right Branch Classification"
   ]
  },
  {
   "cell_type": "code",
   "execution_count": 90,
   "metadata": {
    "ExecuteTime": {
     "end_time": "2018-02-08T08:00:01.110197Z",
     "start_time": "2018-02-08T08:00:01.101530Z"
    }
   },
   "outputs": [
    {
     "name": "stdout",
     "output_type": "stream",
     "text": [
      "right branch: [ 6.  4.  6.  2.  0.]\n"
     ]
    }
   ],
   "source": [
    "idx = np.argsort(np.squeeze(tree.right.path_prob.asnumpy()))\n",
    "top_examples = nd.argmax(label[idx[-5:], :], axis = 1)\n",
    "print('right branch: {}'.format(top_examples.asnumpy()))"
   ]
  },
  {
   "cell_type": "markdown",
   "metadata": {},
   "source": [
    "## 1st Layer"
   ]
  },
  {
   "cell_type": "code",
   "execution_count": 69,
   "metadata": {
    "ExecuteTime": {
     "end_time": "2018-02-08T07:49:10.520975Z",
     "start_time": "2018-02-08T07:49:10.277880Z"
    }
   },
   "outputs": [
    {
     "data": {
      "text/plain": [
       "<module 'matplotlib.pyplot' from '/home/kionkim/anaconda3/envs/kion_venv_mxnet/lib/python3.6/site-packages/matplotlib/pyplot.py'>"
      ]
     },
     "execution_count": 69,
     "metadata": {},
     "output_type": "execute_result"
    },
    {
     "data": {
      "image/png": "[encoded data removed]",
      "text/plain": [
       "<matplotlib.figure.Figure at 0x7fc55f11ebe0>"
      ]
     },
     "metadata": {},
     "output_type": "display_data"
    }
   ],
   "source": [
    "_, axarr = plt.subplots(1, 2, figsize=(8,4))\n",
    "axarr[0].imshow(tree.left.fc.weight.data().reshape((28, 28)).asnumpy(), cmap='Greys')\n",
    "axarr[0].set_title('left')\n",
    "axarr[1].imshow(tree.right.fc.weight.data().reshape((28, 28)).asnumpy(), cmap='Greys')\n",
    "axarr[1].set_title('right')\n",
    "plt"
   ]
  },
  {
   "cell_type": "markdown",
   "metadata": {},
   "source": [
    "### Left - Left Branch"
   ]
  },
  {
   "cell_type": "code",
   "execution_count": 91,
   "metadata": {
    "ExecuteTime": {
     "end_time": "2018-02-08T08:00:08.751157Z",
     "start_time": "2018-02-08T08:00:08.741195Z"
    }
   },
   "outputs": [
    {
     "name": "stdout",
     "output_type": "stream",
     "text": [
      "left - left branch: [ 1.  1.  1.  1.  1.]\n"
     ]
    }
   ],
   "source": [
    "idx = np.argsort(np.squeeze(tree.left.left.path_prob.asnumpy()))\n",
    "top_examples = nd.argmax(label[idx[-5:], :], axis = 1)\n",
    "print('left - left branch: {}'.format(top_examples.asnumpy()))"
   ]
  },
  {
   "cell_type": "markdown",
   "metadata": {},
   "source": [
    "### Left - right Branch"
   ]
  },
  {
   "cell_type": "code",
   "execution_count": 92,
   "metadata": {
    "ExecuteTime": {
     "end_time": "2018-02-08T08:00:18.334794Z",
     "start_time": "2018-02-08T08:00:18.324908Z"
    }
   },
   "outputs": [
    {
     "name": "stdout",
     "output_type": "stream",
     "text": [
      "left - right branch: [ 4.  7.  9.  9.  4.]\n"
     ]
    }
   ],
   "source": [
    "idx = np.argsort(np.squeeze(tree.left.right.path_prob.asnumpy()))\n",
    "top_examples = nd.argmax(label[idx[-5:], :], axis = 1)\n",
    "print('left - right branch: {}'.format(top_examples.asnumpy()))"
   ]
  },
  {
   "cell_type": "markdown",
   "metadata": {},
   "source": [
    "### Right - Left Branch"
   ]
  },
  {
   "cell_type": "code",
   "execution_count": 93,
   "metadata": {
    "ExecuteTime": {
     "end_time": "2018-02-08T08:00:30.440589Z",
     "start_time": "2018-02-08T08:00:30.430781Z"
    }
   },
   "outputs": [
    {
     "name": "stdout",
     "output_type": "stream",
     "text": [
      "right - left branch: [ 6.  0.  0.  6.  0.]\n"
     ]
    }
   ],
   "source": [
    "idx = np.argsort(np.squeeze(tree.right.left.path_prob.asnumpy()))\n",
    "top_examples = nd.argmax(label[idx[-5:], :], axis = 1)\n",
    "print('right - left branch: {}'.format(top_examples.asnumpy()))"
   ]
  },
  {
   "cell_type": "markdown",
   "metadata": {},
   "source": [
    "### Right - Right Branch"
   ]
  },
  {
   "cell_type": "code",
   "execution_count": 94,
   "metadata": {
    "ExecuteTime": {
     "end_time": "2018-02-08T08:00:57.838680Z",
     "start_time": "2018-02-08T08:00:57.828179Z"
    }
   },
   "outputs": [
    {
     "name": "stdout",
     "output_type": "stream",
     "text": [
      "right - right branch: [ 2.  8.  2.  2.  2.]\n"
     ]
    }
   ],
   "source": [
    "idx = np.argsort(np.squeeze(tree.right.right.path_prob.asnumpy()))\n",
    "top_examples = nd.argmax(label[idx[-5:], :], axis = 1)\n",
    "print('right - right branch: {}'.format(top_examples.asnumpy()))"
   ]
  },
  {
   "cell_type": "markdown",
   "metadata": {},
   "source": [
    "## 2nd Layer"
   ]
  },
  {
   "cell_type": "code",
   "execution_count": 72,
   "metadata": {
    "ExecuteTime": {
     "end_time": "2018-02-08T07:50:51.261376Z",
     "start_time": "2018-02-08T07:50:50.831378Z"
    }
   },
   "outputs": [
    {
     "data": {
      "text/plain": [
       "<module 'matplotlib.pyplot' from '/home/kionkim/anaconda3/envs/kion_venv_mxnet/lib/python3.6/site-packages/matplotlib/pyplot.py'>"
      ]
     },
     "execution_count": 72,
     "metadata": {},
     "output_type": "execute_result"
    },
    {
     "data": {
      "image/png": "[encoded data removed]",
      "text/plain": [
       "<matplotlib.figure.Figure at 0x7fc561b8e518>"
      ]
     },
     "metadata": {},
     "output_type": "display_data"
    }
   ],
   "source": [
    "_, axarr = plt.subplots(1, 4, figsize=(16,4))\n",
    "axarr[0].imshow(tree.left.left.fc.weight.data().reshape((28, 28)).asnumpy(), cmap='Greys')\n",
    "axarr[0].set_title('left')\n",
    "axarr[1].imshow(tree.left.right.fc.weight.data().reshape((28, 28)).asnumpy(), cmap='Greys')\n",
    "axarr[1].set_title('right')\n",
    "axarr[2].imshow(tree.right.left.fc.weight.data().reshape((28, 28)).asnumpy(), cmap='Greys')\n",
    "axarr[2].set_title('left')\n",
    "axarr[3].imshow(tree.right.right.fc.weight.data().reshape((28, 28)).asnumpy(), cmap='Greys')\n",
    "axarr[3].set_title('right')\n",
    "plt"
   ]
  }
 ],
 "metadata": {
  "anaconda-cloud": {},
  "kernelspec": {
   "display_name": "Python [conda env:kion_venv_mxnet]",
   "language": "python",
   "name": "conda-env-kion_venv_mxnet-py"
  },
  "language_info": {
   "codemirror_mode": {
    "name": "ipython",
    "version": 3
   },
   "file_extension": ".py",
   "mimetype": "text/x-python",
   "name": "python",
   "nbconvert_exporter": "python",
   "pygments_lexer": "ipython3",
   "version": "3.6.3"
  },
  "toc": {
   "nav_menu": {},
   "number_sections": true,
   "sideBar": true,
   "skip_h1_title": false,
   "toc_cell": false,
   "toc_position": {},
   "toc_section_display": "block",
   "toc_window_display": false
  }
 },
 "nbformat": 4,
 "nbformat_minor": 2
}
