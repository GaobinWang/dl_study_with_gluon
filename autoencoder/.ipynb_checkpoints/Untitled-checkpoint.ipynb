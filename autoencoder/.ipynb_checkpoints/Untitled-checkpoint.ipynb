{
 "cells": [
  {
   "cell_type": "code",
   "execution_count": 14,
   "metadata": {
    "collapsed": true
   },
   "outputs": [],
   "source": [
    "from __future__ import absolute_import\n",
    "from __future__ import division\n",
    "from __future__ import print_function\n",
    "\n",
    "import argparse\n",
    "import sys\n",
    "\n",
    "import os\n",
    "import numpy as np\n",
    "from tensorflow.contrib.tensorboard.plugins import projector\n",
    "\n",
    "import tensorflow as tf\n",
    "\n",
    "from tensorflow.examples.tutorials.mnist import input_data\n",
    "FLAGS = '/Users/Juyeong/Documents/gluon_study/mnist_dataset'"
   ]
  },
  {
   "cell_type": "code",
   "execution_count": 15,
   "metadata": {},
   "outputs": [
    {
     "name": "stdout",
     "output_type": "stream",
     "text": [
      "Extracting /Users/Juyeong/Documents/gluon_study/mnist_dataset/mnist_data/train-images-idx3-ubyte.gz\n",
      "Extracting /Users/Juyeong/Documents/gluon_study/mnist_dataset/mnist_data/train-labels-idx1-ubyte.gz\n",
      "Extracting /Users/Juyeong/Documents/gluon_study/mnist_dataset/mnist_data/t10k-images-idx3-ubyte.gz\n",
      "Extracting /Users/Juyeong/Documents/gluon_study/mnist_dataset/mnist_data/t10k-labels-idx1-ubyte.gz\n"
     ]
    }
   ],
   "source": [
    "mnist = input_data.read_data_sets(FLAGS + '/mnist_data',\n",
    "                                  one_hot=True,)\n",
    "sess = tf.InteractiveSession()"
   ]
  },
  {
   "cell_type": "code",
   "execution_count": 19,
   "metadata": {},
   "outputs": [
    {
     "ename": "TypeError",
     "evalue": "'DataSet' object is not iterable",
     "output_type": "error",
     "traceback": [
      "\u001b[0;31m---------------------------------------------------------------------------\u001b[0m",
      "\u001b[0;31mTypeError\u001b[0m                                 Traceback (most recent call last)",
      "\u001b[0;32m<ipython-input-19-85499ec90760>\u001b[0m in \u001b[0;36m<module>\u001b[0;34m()\u001b[0m\n\u001b[0;32m----> 1\u001b[0;31m \u001b[0mlist\u001b[0m\u001b[0;34m(\u001b[0m\u001b[0mmnist\u001b[0m\u001b[0;34m.\u001b[0m\u001b[0mtrain\u001b[0m\u001b[0;34m)\u001b[0m\u001b[0;34m[\u001b[0m\u001b[0;36m0\u001b[0m\u001b[0;34m]\u001b[0m\u001b[0;34m\u001b[0m\u001b[0m\n\u001b[0m",
      "\u001b[0;31mTypeError\u001b[0m: 'DataSet' object is not iterable"
     ]
    }
   ],
   "source": [
    "(mnist.train)"
   ]
  },
  {
   "cell_type": "code",
   "execution_count": 12,
   "metadata": {
    "collapsed": true
   },
   "outputs": [],
   "source": [
    "\n",
    "def generate_embeddings():\n",
    "    # Import data\n",
    "    mnist = input_data.read_data_sets(FLAGS + '/mnist_data',\n",
    "                                      one_hot=True,)\n",
    "    sess = tf.InteractiveSession()\n",
    "\n",
    "    # Input set for Embedded TensorBoard visualization\n",
    "    # Performed with cpu to conserve memory and processing power\n",
    "    with tf.device(\"/cpu:0\"):\n",
    "        embedding = tf.Variable(tf.stack(mnist.test.images[:10000], axis=0), trainable=False, name='embedding')\n",
    "\n",
    "    tf.global_variables_initializer().run()\n",
    "\n",
    "    saver = tf.train.Saver()\n",
    "    writer = tf.summary.FileWriter(FLAGS + '/logs/' + '/projector', sess.graph)\n",
    "\n",
    "    # Add embedding tensorboard visualization. Need tensorflow version\n",
    "    # >= 0.12.0RC0\n",
    "    config = projector.ProjectorConfig()\n",
    "    embed= config.embeddings.add()\n",
    "    embed.tensor_name = 'embedding:0'\n",
    "    embed.metadata_path = os.path.join(FLAGS + '/logs/' + '/projector/metadata.tsv')\n",
    "    embed.sprite.image_path = os.path.join(FLAGS + '/mnist_data' + '/mnist_10k_sprite.png')\n",
    "\n",
    "    # Specify the width and height of a single thumbnail.\n",
    "    embed.sprite.single_image_dim.extend([28, 28])\n",
    "    projector.visualize_embeddings(writer, config)\n",
    "\n",
    "    saver.save(sess, os.path.join(\n",
    "        FLAGS + '/logs/', 'projector/a_model.ckpt'), global_step=10000)\n",
    "\n",
    "def generate_metadata_file():\n",
    "    # Import data\n",
    "    mnist = input_data.read_data_sets(FLAGS + '/mnist_data',\n",
    "                                      one_hot=True,\n",
    "                                      fake_data=FLAGS.fake_data)\n",
    "    def save_metadata(file):\n",
    "        with open(file, 'w') as f:\n",
    "            for i in range(10000):\n",
    "                c = np.nonzero(mnist.test.labels[::1])[1:][0][i]\n",
    "                f.write('{}\\n'.format(c))\n",
    "\n",
    "    save_metadata(FLAGS + '/logs' + '/projector/metadata.tsv')"
   ]
  },
  {
   "cell_type": "code",
   "execution_count": 13,
   "metadata": {},
   "outputs": [
    {
     "name": "stdout",
     "output_type": "stream",
     "text": [
      "Successfully downloaded train-images-idx3-ubyte.gz 9912422 bytes.\n",
      "Extracting /Users/Juyeong/Documents/gluon_study/mnist_dataset/mnist_data/train-images-idx3-ubyte.gz\n",
      "Successfully downloaded train-labels-idx1-ubyte.gz 28881 bytes.\n",
      "Extracting /Users/Juyeong/Documents/gluon_study/mnist_dataset/mnist_data/train-labels-idx1-ubyte.gz\n",
      "Successfully downloaded t10k-images-idx3-ubyte.gz 1648877 bytes.\n",
      "Extracting /Users/Juyeong/Documents/gluon_study/mnist_dataset/mnist_data/t10k-images-idx3-ubyte.gz\n",
      "Successfully downloaded t10k-labels-idx1-ubyte.gz 4542 bytes.\n",
      "Extracting /Users/Juyeong/Documents/gluon_study/mnist_dataset/mnist_data/t10k-labels-idx1-ubyte.gz\n",
      "Extracting /Users/Juyeong/Documents/gluon_study/mnist_dataset/mnist_data/train-images-idx3-ubyte.gz\n",
      "Extracting /Users/Juyeong/Documents/gluon_study/mnist_dataset/mnist_data/train-labels-idx1-ubyte.gz\n",
      "Extracting /Users/Juyeong/Documents/gluon_study/mnist_dataset/mnist_data/t10k-images-idx3-ubyte.gz\n",
      "Extracting /Users/Juyeong/Documents/gluon_study/mnist_dataset/mnist_data/t10k-labels-idx1-ubyte.gz\n"
     ]
    },
    {
     "ename": "SystemExit",
     "evalue": "",
     "output_type": "error",
     "traceback": [
      "An exception has occurred, use %tb to see the full traceback.\n",
      "\u001b[0;31mSystemExit\u001b[0m\n"
     ]
    },
    {
     "name": "stderr",
     "output_type": "stream",
     "text": [
      "//anaconda/envs/py35/lib/python3.5/site-packages/IPython/core/interactiveshell.py:2890: UserWarning: To exit: use 'exit', 'quit', or Ctrl-D.\n",
      "  warn(\"To exit: use 'exit', 'quit', or Ctrl-D.\", stacklevel=1)\n"
     ]
    }
   ],
   "source": [
    "def main(_):\n",
    "    if tf.gfile.Exists(FLAGS.log_dir + '/projector'):\n",
    "        tf.gfile.DeleteRecursively(FLAGS.log_dir + '/projector')\n",
    "        tf.gfile.MkDir(FLAGS.log_dir + '/projector')\n",
    "    tf.gfile.MakeDirs(FLAGS.log_dir  + '/projector') # fix the directory to be created\n",
    "    generate_metadata_file()\n",
    "    generate_embeddings()"
   ]
  },
  {
   "cell_type": "code",
   "execution_count": null,
   "metadata": {
    "collapsed": true
   },
   "outputs": [],
   "source": []
  }
 ],
 "metadata": {
  "kernelspec": {
   "display_name": "Python 3",
   "language": "python",
   "name": "python3"
  },
  "language_info": {
   "codemirror_mode": {
    "name": "ipython",
    "version": 3
   },
   "file_extension": ".py",
   "mimetype": "text/x-python",
   "name": "python",
   "nbconvert_exporter": "python",
   "pygments_lexer": "ipython3",
   "version": "3.5.2"
  }
 },
 "nbformat": 4,
 "nbformat_minor": 2
}
