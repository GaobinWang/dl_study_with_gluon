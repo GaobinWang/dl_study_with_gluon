{
 "cells": [
  {
   "cell_type": "code",
   "execution_count": 1,
   "metadata": {
    "ExecuteTime": {
     "end_time": "2018-02-01T05:56:28.751977Z",
     "start_time": "2018-02-01T05:56:28.027024Z"
    }
   },
   "outputs": [
    {
     "name": "stdout",
     "output_type": "stream",
     "text": [
      "1.0.0\n"
     ]
    },
    {
     "name": "stderr",
     "output_type": "stream",
     "text": [
      "/anaconda3/lib/python3.6/site-packages/urllib3/contrib/pyopenssl.py:46: DeprecationWarning: OpenSSL.rand is deprecated - you should use os.urandom instead\n",
      "  import OpenSSL.SSL\n"
     ]
    }
   ],
   "source": [
    "import mxnet as mx\n",
    "print(mx.__version__)"
   ]
  },
  {
   "cell_type": "code",
   "execution_count": 2,
   "metadata": {
    "ExecuteTime": {
     "end_time": "2018-02-01T05:56:29.181714Z",
     "start_time": "2018-02-01T05:56:28.753854Z"
    },
    "collapsed": true
   },
   "outputs": [],
   "source": [
    "from __future__ import print_function\n",
    "import mxnet as mx\n",
    "from mxnet import nd, autograd\n",
    "mx.random.seed(1)\n",
    "#ctx = mx.gpu(0)\n",
    "ctx = mx.cpu(0)\n",
    "\n",
    "import aifc # ReadAIFF\n",
    "\n",
    "import math\n",
    "import os\n",
    "import time\n",
    "import numpy as np\n",
    "import pandas as pd\n",
    "\n",
    "import matplotlib.pyplot as plt\n",
    "# from matplotlib import mlab\n",
    "# import matplotlib\n",
    "\n",
    "%matplotlib inline\n",
    "\n",
    "\n"
   ]
  },
  {
   "cell_type": "markdown",
   "metadata": {},
   "source": [
    "## 1. DATASET"
   ]
  },
  {
   "cell_type": "markdown",
   "metadata": {},
   "source": [
    "#### Load Data"
   ]
  },
  {
   "cell_type": "code",
   "execution_count": 3,
   "metadata": {
    "ExecuteTime": {
     "end_time": "2018-02-01T05:56:29.186438Z",
     "start_time": "2018-02-01T05:56:29.183706Z"
    },
    "collapsed": true
   },
   "outputs": [],
   "source": [
    "# Set path to directory with folders train and test\n",
    "path_data = './data/'"
   ]
  },
  {
   "cell_type": "code",
   "execution_count": 4,
   "metadata": {
    "ExecuteTime": {
     "end_time": "2018-02-01T05:56:29.193888Z",
     "start_time": "2018-02-01T05:56:29.188496Z"
    },
    "collapsed": true
   },
   "outputs": [],
   "source": [
    "# ReadAIFF function\n",
    "def ReadAIFF(file):\n",
    "# Reads the frames from the audio clip and returns the uncompressed data\n",
    "    s = aifc.open(file,'r')\n",
    "    nFrames = s.getnframes()\n",
    "    strSig = s.readframes(nFrames)\n",
    "    return np.fromstring(strSig, np.short).byteswap()\n",
    "\n"
   ]
  },
  {
   "cell_type": "code",
   "execution_count": 5,
   "metadata": {
    "ExecuteTime": {
     "end_time": "2018-02-01T05:56:29.216127Z",
     "start_time": "2018-02-01T05:56:29.196721Z"
    }
   },
   "outputs": [
    {
     "data": {
      "text/html": [
       "<div>\n",
       "<style>\n",
       "    .dataframe thead tr:only-child th {\n",
       "        text-align: right;\n",
       "    }\n",
       "\n",
       "    .dataframe thead th {\n",
       "        text-align: left;\n",
       "    }\n",
       "\n",
       "    .dataframe tbody tr th {\n",
       "        vertical-align: top;\n",
       "    }\n",
       "</style>\n",
       "<table border=\"1\" class=\"dataframe\">\n",
       "  <thead>\n",
       "    <tr style=\"text-align: right;\">\n",
       "      <th></th>\n",
       "      <th>0</th>\n",
       "      <th>1</th>\n",
       "      <th>2</th>\n",
       "      <th>3</th>\n",
       "      <th>4</th>\n",
       "      <th>5</th>\n",
       "      <th>6</th>\n",
       "      <th>7</th>\n",
       "      <th>8</th>\n",
       "      <th>9</th>\n",
       "      <th>...</th>\n",
       "      <th>3990</th>\n",
       "      <th>3991</th>\n",
       "      <th>3992</th>\n",
       "      <th>3993</th>\n",
       "      <th>3994</th>\n",
       "      <th>3995</th>\n",
       "      <th>3996</th>\n",
       "      <th>3997</th>\n",
       "      <th>3998</th>\n",
       "      <th>3999</th>\n",
       "    </tr>\n",
       "  </thead>\n",
       "  <tbody>\n",
       "    <tr>\n",
       "      <th>0</th>\n",
       "      <td>42</td>\n",
       "      <td>-486</td>\n",
       "      <td>-22</td>\n",
       "      <td>190</td>\n",
       "      <td>-102</td>\n",
       "      <td>-36</td>\n",
       "      <td>0</td>\n",
       "      <td>-45</td>\n",
       "      <td>-194</td>\n",
       "      <td>194</td>\n",
       "      <td>...</td>\n",
       "      <td>-221</td>\n",
       "      <td>-99</td>\n",
       "      <td>523</td>\n",
       "      <td>185</td>\n",
       "      <td>-414</td>\n",
       "      <td>-324</td>\n",
       "      <td>203</td>\n",
       "      <td>219</td>\n",
       "      <td>-155</td>\n",
       "      <td>-32</td>\n",
       "    </tr>\n",
       "  </tbody>\n",
       "</table>\n",
       "<p>1 rows × 4000 columns</p>\n",
       "</div>"
      ],
      "text/plain": [
       "   0     1     2     3     4     5     6     7     8     9     ...   3990  \\\n",
       "0    42  -486   -22   190  -102   -36     0   -45  -194   194  ...   -221   \n",
       "\n",
       "   3991  3992  3993  3994  3995  3996  3997  3998  3999  \n",
       "0   -99   523   185  -414  -324   203   219  -155   -32  \n",
       "\n",
       "[1 rows x 4000 columns]"
      ]
     },
     "execution_count": 5,
     "metadata": {},
     "output_type": "execute_result"
    }
   ],
   "source": [
    "# AIFF Data\n",
    "s = ReadAIFF(path_data + 'train/train6.aiff')\n",
    "pd.DataFrame(s).T\n",
    "\n",
    "# 결과: 2000Hz의 2초 사운드 클립마다 프레임의 채널에서 압축되지 않은 샘플의 4000개 진폭값"
   ]
  },
  {
   "cell_type": "code",
   "execution_count": 6,
   "metadata": {
    "ExecuteTime": {
     "end_time": "2018-02-01T05:56:29.468746Z",
     "start_time": "2018-02-01T05:56:29.346748Z"
    }
   },
   "outputs": [
    {
     "name": "stdout",
     "output_type": "stream",
     "text": [
      "clip_name,label\r\n",
      "train1.aiff,0\r\n",
      "train2.aiff,0\r\n",
      "train3.aiff,0\r\n",
      "train4.aiff,0\r\n",
      "train5.aiff,0\r\n",
      "train6.aiff,1\r\n",
      "train7.aiff,1\r\n",
      "train8.aiff,0\r\n",
      "train9.aiff,1\r\n"
     ]
    }
   ],
   "source": [
    "# Label Data\n",
    "!head ./data/train.csv"
   ]
  },
  {
   "cell_type": "code",
   "execution_count": 7,
   "metadata": {
    "ExecuteTime": {
     "end_time": "2018-02-01T05:56:39.470295Z",
     "start_time": "2018-02-01T05:56:29.471466Z"
    },
    "collapsed": true
   },
   "outputs": [],
   "source": [
    "import csv\n",
    "import random\n",
    "\n",
    "train_label = []\n",
    "train_audio = []\n",
    "\n",
    "valid_label = []\n",
    "valid_audio = []\n",
    "\n",
    "valid_frac = 0.3\n",
    "\n",
    "f = open(path_data + 'train.csv', 'r')\n",
    "rdr = csv.reader(f)\n",
    "skip_header = next(rdr)\n",
    "for line in rdr:\n",
    "    s = ReadAIFF(path_data + 'train/' + line[0])\n",
    "    if random.random() > valid_frac:\n",
    "        train_label.append(line[1])\n",
    "        train_audio.append(list(s))\n",
    "    else:\n",
    "        valid_label.append(line[1])\n",
    "        valid_audio.append(list(s))\n",
    "\n",
    "f.close()"
   ]
  },
  {
   "cell_type": "code",
   "execution_count": 8,
   "metadata": {
    "ExecuteTime": {
     "end_time": "2018-02-01T05:56:52.565229Z",
     "start_time": "2018-02-01T05:56:39.472430Z"
    },
    "collapsed": true
   },
   "outputs": [],
   "source": [
    "train_label = mx.nd.array(train_label)\n",
    "train_audio = mx.nd.array(train_audio)\n",
    "valid_label = mx.nd.array(valid_label)\n",
    "valid_audio = mx.nd.array(valid_audio)"
   ]
  },
  {
   "cell_type": "code",
   "execution_count": 9,
   "metadata": {
    "ExecuteTime": {
     "end_time": "2018-02-01T05:56:52.574143Z",
     "start_time": "2018-02-01T05:56:52.567092Z"
    }
   },
   "outputs": [
    {
     "name": "stdout",
     "output_type": "stream",
     "text": [
      "train_label.shape (20893,)\n",
      "train_audio.shape (20893, 4000)\n",
      "valid_label.shape (9107,)\n",
      "valid_audio.shape (9107, 4000)\n"
     ]
    }
   ],
   "source": [
    "print(\"train_label.shape\", train_label.shape)\n",
    "print(\"train_audio.shape\", train_audio.shape)\n",
    "print(\"valid_label.shape\", valid_label.shape)\n",
    "print(\"valid_audio.shape\", valid_audio.shape)"
   ]
  },
  {
   "cell_type": "markdown",
   "metadata": {},
   "source": [
    "#### Normalize Function"
   ]
  },
  {
   "cell_type": "code",
   "execution_count": 10,
   "metadata": {
    "ExecuteTime": {
     "end_time": "2018-02-01T05:56:52.622234Z",
     "start_time": "2018-02-01T05:56:52.576689Z"
    },
    "collapsed": true
   },
   "outputs": [],
   "source": [
    "def norm_zscore(data, norm_axis=None):\n",
    "    if norm_axis==None:\n",
    "        mean = nd.mean(data)\n",
    "        sd = nd.sqrt(nd.mean(nd.power(data,2)) - nd.power(nd.mean(data),2))\n",
    "        return (data - mean) / sd\n",
    "    elif norm_axis==0:\n",
    "        mean = nd.mean(data, axis=norm_axis)\n",
    "        sd = nd.sqrt(nd.mean(nd.power(data,2), axis=norm_axis) - nd.power(nd.mean(data, axis=norm_axis),2))\n",
    "        return (data - mean) / sd\n",
    "    elif norm_axis==1:\n",
    "        mean = nd.mean(data, axis=norm_axis)\n",
    "        sd = nd.sqrt(nd.mean(nd.power(data,2), axis=norm_axis) - nd.power(nd.mean(data, axis=norm_axis),2))\n",
    "        return (data - mean.reshape((-1,1))) / sd.reshape((-1,1))\n",
    "    else:\n",
    "        raise ValueError(\"Invalid norm_axis %s. norm_axis are (None, 0, 1)\" % norm_axis)\n",
    "\n",
    "\n",
    "def norm_minmax(data, norm_axis=None):\n",
    "    if norm_axis==None:\n",
    "        return (data - nd.min(data)) / (nd.max(data) - nd.min(data))\n",
    "    elif norm_axis==0:\n",
    "        return (data - nd.min(data, axis=norm_axis)) / (nd.max(data, axis=norm_axis) - nd.min(data, axis=norm_axis))\n",
    "    elif norm_axis==1:\n",
    "        return (data - nd.min(data, axis=norm_axis).reshape((-1,1))) / (nd.max(data, axis=norm_axis) - nd.min(data, axis=norm_axis)).reshape((-1,1))\n",
    "    else:\n",
    "        raise ValueError(\"Invalid norm_axis %s. norm_axis are (None, 0, 1)\" % norm_axis)\n",
    "\n"
   ]
  },
  {
   "cell_type": "code",
   "execution_count": 11,
   "metadata": {
    "ExecuteTime": {
     "end_time": "2018-02-01T05:56:52.658077Z",
     "start_time": "2018-02-01T05:56:52.624304Z"
    },
    "collapsed": true
   },
   "outputs": [],
   "source": [
    "def plot_audiodata(data, index):\n",
    "    print('RAW')\n",
    "    plt.plot(data[index].asnumpy());\n",
    "    plt.show()\n",
    "\n",
    "    print('norm_zscore - 전체 / axis=0(시간대별) / axis=1(레코드별)')\n",
    "    fig = plt.figure()\n",
    "    ax1 = fig.add_subplot(131)\n",
    "    ax1 = plt.plot(norm_zscore(data)[index].asnumpy());\n",
    "    ax2 = fig.add_subplot(132)\n",
    "    ax2 = plt.plot(norm_zscore(data, norm_axis=0)[index].asnumpy());\n",
    "    ax3 = fig.add_subplot(133)\n",
    "    ax3 = plt.plot(norm_zscore(data, norm_axis=1)[index].asnumpy());\n",
    "    plt.tight_layout()\n",
    "    plt.show()\n",
    "\n",
    "    print('norm_minmax - 전체 / axis=0(시간대별) / axis=1(레코드별)')\n",
    "    fig = plt.figure()\n",
    "    ax1 = fig.add_subplot(131)\n",
    "    ax1 = plt.plot(norm_minmax(data)[index].asnumpy());\n",
    "    ax2 = fig.add_subplot(132)\n",
    "    ax2 = plt.plot(norm_minmax(data, norm_axis=0)[index].asnumpy());\n",
    "    ax3 = fig.add_subplot(133)\n",
    "    ax3 = plt.plot(norm_minmax(data, norm_axis=1)[index].asnumpy());\n",
    "    plt.tight_layout()\n",
    "    plt.show()"
   ]
  },
  {
   "cell_type": "code",
   "execution_count": 12,
   "metadata": {
    "ExecuteTime": {
     "end_time": "2018-02-01T05:57:17.401770Z",
     "start_time": "2018-02-01T05:56:52.659826Z"
    }
   },
   "outputs": [
    {
     "name": "stdout",
     "output_type": "stream",
     "text": [
      "RAW\n"
     ]
    },
    {
     "data": {
      "image/png": "[encoded data removed]",
      "text/plain": [
       "<matplotlib.figure.Figure at 0x1a184140b8>"
      ]
     },
     "metadata": {},
     "output_type": "display_data"
    },
    {
     "name": "stdout",
     "output_type": "stream",
     "text": [
      "norm_zscore - 전체 / axis=0(시간대별) / axis=1(레코드별)\n"
     ]
    },
    {
     "data": {
      "image/png": "[encoded data removed]",
      "text/plain": [
       "<matplotlib.figure.Figure at 0x1a19455a90>"
      ]
     },
     "metadata": {},
     "output_type": "display_data"
    },
    {
     "name": "stdout",
     "output_type": "stream",
     "text": [
      "norm_minmax - 전체 / axis=0(시간대별) / axis=1(레코드별)\n"
     ]
    },
    {
     "data": {
      "image/png": "[encoded data removed]",
      "text/plain": [
       "<matplotlib.figure.Figure at 0x1a1947d0b8>"
      ]
     },
     "metadata": {},
     "output_type": "display_data"
    }
   ],
   "source": [
    "plot_audiodata(train_audio, 3)"
   ]
  },
  {
   "cell_type": "code",
   "execution_count": 13,
   "metadata": {
    "ExecuteTime": {
     "end_time": "2018-02-01T05:57:17.411018Z",
     "start_time": "2018-02-01T05:57:17.404091Z"
    },
    "collapsed": true
   },
   "outputs": [],
   "source": [
    "def one_hot_encode(label):\n",
    "    n_label = len(label)\n",
    "    n_unique_label = len(np.unique(label.asnumpy()))\n",
    "    res = nd.zeros((n_label, n_unique_label), ctx=ctx)\n",
    "    res[nd.arange(n_label), label] = 1.0\n",
    "    return res"
   ]
  },
  {
   "cell_type": "code",
   "execution_count": 14,
   "metadata": {
    "ExecuteTime": {
     "end_time": "2018-02-01T05:57:17.421729Z",
     "start_time": "2018-02-01T05:57:17.413065Z"
    }
   },
   "outputs": [
    {
     "name": "stdout",
     "output_type": "stream",
     "text": [
      "Shape of train_label_onehot:  (20893, 2)\n",
      "Shape of valid_label_onehot:  (9107, 2)\n"
     ]
    }
   ],
   "source": [
    "train_label_onehot = one_hot_encode(train_label)\n",
    "print('Shape of train_label_onehot: ', train_label_onehot.shape) #(num_samples, output_dims)\n",
    "\n",
    "valid_label_onehot = one_hot_encode(valid_label)\n",
    "print('Shape of valid_label_onehot: ', valid_label_onehot.shape) #(num_samples, output_dims)\n",
    "\n"
   ]
  },
  {
   "cell_type": "markdown",
   "metadata": {},
   "source": [
    "## 2. PreProcessing"
   ]
  },
  {
   "cell_type": "code",
   "execution_count": 15,
   "metadata": {
    "ExecuteTime": {
     "end_time": "2018-02-01T05:57:17.427321Z",
     "start_time": "2018-02-01T05:57:17.423899Z"
    },
    "collapsed": true
   },
   "outputs": [],
   "source": [
    "batch_size = 32"
   ]
  },
  {
   "cell_type": "markdown",
   "metadata": {},
   "source": [
    "#### Feature Data"
   ]
  },
  {
   "cell_type": "code",
   "execution_count": 16,
   "metadata": {
    "ExecuteTime": {
     "end_time": "2018-02-01T05:57:17.456352Z",
     "start_time": "2018-02-01T05:57:17.429369Z"
    }
   },
   "outputs": [
    {
     "name": "stdout",
     "output_type": "stream",
     "text": [
      "Shape of train_audio:  (20893, 4000)\n",
      "# of sequences in train_audio:  20893\n",
      "Shape of train_audio_batch:  (20893, 4000, 1)\n",
      "Size of batch:  32\n",
      "# of batches:  652\n",
      "Shape of train_audio_batch:  (20864, 4000, 1)\n",
      "Shape of train_audio_batch:  (32, 652, 4000, 1)\n",
      "Shape of train_audio_batch:  (652, 32, 4000, 1)\n",
      "Shape of train_audio_batch:  (652, 4000, 32, 1)\n"
     ]
    }
   ],
   "source": [
    "seq_length = train_audio.shape[1]\n",
    "dims = 1 # input_dims, channels\n",
    "\n",
    "print('Shape of train_audio: ', train_audio.shape) #(num_samples, seq_length)\n",
    "print('# of sequences in train_audio: ', len(train_audio))\n",
    "\n",
    "train_audio_batch = train_audio.reshape((-1, seq_length, dims))\n",
    "print('Shape of train_audio_batch: ', train_audio_batch.shape) #(num_samples, seq_length, input_dims)\n",
    "\n",
    "num_batches = len(train_audio_batch) // batch_size\n",
    "print('Size of batch: ', batch_size)\n",
    "print('# of batches: ', num_batches)\n",
    "\n",
    "train_audio_batch = train_audio_batch[:num_batches*batch_size]\n",
    "print('Shape of train_audio_batch: ', train_audio_batch.shape) #(num_batches*batch_size, seq_length, input_dims)\n",
    "train_audio_batch = train_audio_batch.reshape((batch_size, num_batches, seq_length, dims))\n",
    "print('Shape of train_audio_batch: ', train_audio_batch.shape) #(batch_size, num_batches, seq_length, input_dims)\n",
    "\n",
    "# swap batch_size and seq_length axis to make later access easier\n",
    "train_audio_batch = nd.swapaxes(train_audio_batch, 0, 1)\n",
    "print('Shape of train_audio_batch: ', train_audio_batch.shape) #(num_batches, batch_size, seq_length, input_dims)\n",
    "train_audio_batch = nd.swapaxes(train_audio_batch, 1, 2)\n",
    "print('Shape of train_audio_batch: ', train_audio_batch.shape) #(num_batches, seq_length, batch_size, input_dims)"
   ]
  },
  {
   "cell_type": "markdown",
   "metadata": {},
   "source": [
    "##### Sanity Check"
   ]
  },
  {
   "cell_type": "code",
   "execution_count": 17,
   "metadata": {
    "ExecuteTime": {
     "end_time": "2018-02-01T05:57:18.863042Z",
     "start_time": "2018-02-01T05:57:17.458196Z"
    },
    "scrolled": true
   },
   "outputs": [
    {
     "name": "stdout",
     "output_type": "stream",
     "text": [
      "***First Record in Batch 0:***\n",
      "\n",
      "\n",
      "[-197.  231.   79. ..., -303.   41.  120.]\n",
      "<NDArray 4000 @cpu(0)>\n",
      "\n",
      "\n",
      "[[-197.]\n",
      " [ 231.]\n",
      " [  79.]\n",
      " ..., \n",
      " [-303.]\n",
      " [  41.]\n",
      " [ 120.]]\n",
      "<NDArray 4000x1 @cpu(0)>\n",
      "\n",
      "\n",
      "***First Record in Batch 1:***\n",
      "\n",
      "\n",
      "[ 292. -258.   44. ...,  155. -512. -300.]\n",
      "<NDArray 4000 @cpu(0)>\n",
      "\n",
      "\n",
      "[[ 292.]\n",
      " [-258.]\n",
      " [  44.]\n",
      " ..., \n",
      " [ 155.]\n",
      " [-512.]\n",
      " [-300.]]\n",
      "<NDArray 4000x1 @cpu(0)>\n",
      "\n",
      "\n",
      "***First Record in Batch 2:***\n",
      "\n",
      "\n",
      "[ -56.  -12.   -9. ...,  160.   19. -231.]\n",
      "<NDArray 4000 @cpu(0)>\n",
      "\n",
      "\n",
      "[[ -56.]\n",
      " [ -12.]\n",
      " [  -9.]\n",
      " ..., \n",
      " [ 160.]\n",
      " [  19.]\n",
      " [-231.]]\n",
      "<NDArray 4000x1 @cpu(0)>\n",
      "\n",
      "\n"
     ]
    }
   ],
   "source": [
    "for i in range(3):\n",
    "    print(\"***First Record in Batch %s:***\\n\\n%s\\n\\n%s\\n\\n\" % (i, train_audio[i], train_audio_batch[i,:,0]))"
   ]
  },
  {
   "cell_type": "markdown",
   "metadata": {},
   "source": [
    "#### Label Data"
   ]
  },
  {
   "cell_type": "code",
   "execution_count": 18,
   "metadata": {
    "ExecuteTime": {
     "end_time": "2018-02-01T05:57:18.886829Z",
     "start_time": "2018-02-01T05:57:18.864848Z"
    }
   },
   "outputs": [
    {
     "name": "stdout",
     "output_type": "stream",
     "text": [
      "Shape of train_label_onehot:  (20893, 2)\n",
      "Shape of train_label_batch_1:  (20893, 1, 2)\n",
      "Shape of train_label_batch_1:  (20864, 1, 2)\n",
      "Shape of train_label_batch_1:  (32, 652, 1, 2)\n",
      "Shape of train_label_batch_1:  (652, 32, 1, 2)\n",
      "Shape of train_label_batch_1:  (652, 1, 32, 2)\n"
     ]
    }
   ],
   "source": [
    "# Preparing the data for training 과 동일한 방법\n",
    "# (num_samples, output_dims)\n",
    "# --> num_samples를 num_batches*batch_size 길이로 고정\n",
    "# --> (batch_size, num_batches, seq_length, output_dims)\n",
    "# --> (num_batches, seq_length, batch_size, output_dims)\n",
    "\n",
    "print('Shape of train_label_onehot: ', train_label_onehot.shape) #(num_samples, output_dims)\n",
    "\n",
    "seq_length = 1\n",
    "dims = train_label_onehot.shape[1] # output_dims\n",
    "\n",
    "train_label_batch_1 = train_label_onehot.reshape((-1, seq_length, dims))\n",
    "print('Shape of train_label_batch_1: ', train_label_batch_1.shape) #(num_samples, seq_length, output_dims)\n",
    "\n",
    "train_label_batch_1 = train_label_batch_1[:num_batches*batch_size]\n",
    "print('Shape of train_label_batch_1: ', train_label_batch_1.shape) #(num_batches*batch_size, output_dims)\n",
    "\n",
    "train_label_batch_1 = train_label_batch_1.reshape((batch_size, num_batches, seq_length, dims))\n",
    "print('Shape of train_label_batch_1: ', train_label_batch_1.shape) #(batch_size, num_batches, seq_length, output_dims)\n",
    "train_label_batch_1 = nd.swapaxes(train_label_batch_1, 0, 1)\n",
    "print('Shape of train_label_batch_1: ', train_label_batch_1.shape) #(num_batches, batch_size, seq_length, output_dims)\n",
    "train_label_batch_1 = nd.swapaxes(train_label_batch_1, 1, 2)\n",
    "print('Shape of train_label_batch_1: ', train_label_batch_1.shape) #(num_batches, seq_length, batch_size, output_dims)\n",
    "\n",
    "\n"
   ]
  },
  {
   "cell_type": "code",
   "execution_count": 19,
   "metadata": {
    "ExecuteTime": {
     "end_time": "2018-02-01T05:57:18.903839Z",
     "start_time": "2018-02-01T05:57:18.888720Z"
    }
   },
   "outputs": [
    {
     "name": "stdout",
     "output_type": "stream",
     "text": [
      "Shape of train_label_onehot:  (20893, 2)\n",
      "Shape of train_label_batch_2:  (20893, 1, 2)\n",
      "Shape of train_label_batch_2:  (32, 652, 1, 2)\n",
      "Shape of train_label_batch_2:  (652, 32, 1, 2)\n",
      "Shape of train_label_batch_2:  (652, 1, 32, 2)\n"
     ]
    }
   ],
   "source": [
    "print('Shape of train_label_onehot: ', train_label_onehot.shape) #(num_samples, output_dims)\n",
    "\n",
    "seq_length = 1\n",
    "dims = train_label_onehot.shape[1] # output_dims\n",
    "\n",
    "train_label_batch_2 = train_label_onehot.reshape((-1, seq_length, dims))\n",
    "print('Shape of train_label_batch_2: ', train_label_batch_2.shape) #(num_samples, seq_length, output_dims)\n",
    "\n",
    "train_label_batch_2 = train_label_batch_2.reshape((batch_size, num_batches, seq_length, dims))\n",
    "print('Shape of train_label_batch_2: ', train_label_batch_2.shape) #(batch_size, num_batches, seq_length, output_dims)\n",
    "train_label_batch_2 = nd.swapaxes(train_label_batch_2, 0, 1)\n",
    "print('Shape of train_label_batch_2: ', train_label_batch_2.shape) #(num_batches, batch_size, seq_length, output_dims)\n",
    "train_label_batch_2 = nd.swapaxes(train_label_batch_2, 1, 2)\n",
    "print('Shape of train_label_batch_2: ', train_label_batch_2.shape) #(num_batches, seq_length, batch_size, output_dims)\n"
   ]
  },
  {
   "cell_type": "code",
   "execution_count": 20,
   "metadata": {
    "ExecuteTime": {
     "end_time": "2018-02-01T05:57:18.911913Z",
     "start_time": "2018-02-01T05:57:18.905644Z"
    }
   },
   "outputs": [
    {
     "data": {
      "text/plain": [
       "True"
      ]
     },
     "execution_count": 20,
     "metadata": {},
     "output_type": "execute_result"
    }
   ],
   "source": [
    "np.array_equal(train_label_batch_1.asnumpy(), train_label_batch_2.asnumpy())"
   ]
  },
  {
   "cell_type": "markdown",
   "metadata": {},
   "source": [
    "##### Sanity Check"
   ]
  },
  {
   "cell_type": "code",
   "execution_count": 21,
   "metadata": {
    "ExecuteTime": {
     "end_time": "2018-02-01T05:57:18.921587Z",
     "start_time": "2018-02-01T05:57:18.913751Z"
    }
   },
   "outputs": [
    {
     "name": "stdout",
     "output_type": "stream",
     "text": [
      "***First Record in Batch 0:***\n",
      "\n",
      "[ 0.] : [[ 1.  0.]]\n",
      "\n",
      "\n",
      "***First Record in Batch 1:***\n",
      "\n",
      "[ 0.] : [[ 1.  0.]]\n",
      "\n",
      "\n",
      "***First Record in Batch 2:***\n",
      "\n",
      "[ 0.] : [[ 1.  0.]]\n",
      "\n",
      "\n",
      "***First Record in Batch 3:***\n",
      "\n",
      "[ 1.] : [[ 0.  1.]]\n",
      "\n",
      "\n",
      "***First Record in Batch 4:***\n",
      "\n",
      "[ 0.] : [[ 1.  0.]]\n",
      "\n",
      "\n"
     ]
    }
   ],
   "source": [
    "for i in range(5):\n",
    "    print(\"***First Record in Batch %s:***\\n\\n%s : %s\\n\\n\" % (i, train_label[i].asnumpy(), train_label_batch_1[i,:,0].asnumpy()))"
   ]
  },
  {
   "cell_type": "code",
   "execution_count": 22,
   "metadata": {
    "ExecuteTime": {
     "end_time": "2018-02-01T05:57:18.938124Z",
     "start_time": "2018-02-01T05:57:18.923557Z"
    }
   },
   "outputs": [
    {
     "name": "stdout",
     "output_type": "stream",
     "text": [
      "\n",
      "np.array: Size 150 into (2,3,4,5)\n",
      "\n",
      "np.array: Cannot reshape array into different shape\n",
      "\n",
      "mx.nd.array: Size 150 into (2,3,4,5)\n",
      "\n",
      "\n",
      "[[[[   0.    1.    2.    3.    4.]\n",
      "   [   5.    6.    7.    8.    9.]\n",
      "   [  10.   11.   12.   13.   14.]\n",
      "   [  15.   16.   17.   18.   19.]]\n",
      "\n",
      "  [[  20.   21.   22.   23.   24.]\n",
      "   [  25.   26.   27.   28.   29.]\n",
      "   [  30.   31.   32.   33.   34.]\n",
      "   [  35.   36.   37.   38.   39.]]\n",
      "\n",
      "  [[  40.   41.   42.   43.   44.]\n",
      "   [  45.   46.   47.   48.   49.]\n",
      "   [  50.   51.   52.   53.   54.]\n",
      "   [  55.   56.   57.   58.   59.]]]\n",
      "\n",
      "\n",
      " [[[  60.   61.   62.   63.   64.]\n",
      "   [  65.   66.   67.   68.   69.]\n",
      "   [  70.   71.   72.   73.   74.]\n",
      "   [  75.   76.   77.   78.   79.]]\n",
      "\n",
      "  [[  80.   81.   82.   83.   84.]\n",
      "   [  85.   86.   87.   88.   89.]\n",
      "   [  90.   91.   92.   93.   94.]\n",
      "   [  95.   96.   97.   98.   99.]]\n",
      "\n",
      "  [[ 100.  101.  102.  103.  104.]\n",
      "   [ 105.  106.  107.  108.  109.]\n",
      "   [ 110.  111.  112.  113.  114.]\n",
      "   [ 115.  116.  117.  118.  119.]]]]\n",
      "<NDArray 2x3x4x5 @cpu(0)>\n",
      "None\n"
     ]
    }
   ],
   "source": [
    "# (참고) mx.nd.array는 전체 길이가 다른 Shape으로 변경 가능\n",
    "\n",
    "print('\\nnp.array: Size 150 into (2,3,4,5)\\n')\n",
    "try:\n",
    "    print(np.array(range(150)).reshape((2,3,4,5)))\n",
    "except ValueError:\n",
    "    print('np.array: Cannot reshape array into different shape')\n",
    "\n",
    "print('\\nmx.nd.array: Size 150 into (2,3,4,5)\\n')\n",
    "try:\n",
    "    print(print(mx.nd.array(range(150)).reshape((2,3,4,5))))\n",
    "except ValueError:\n",
    "    print('mx.nd.array: Cannot reshape array into different shape')\n",
    "    \n",
    "\n"
   ]
  },
  {
   "cell_type": "code",
   "execution_count": 23,
   "metadata": {
    "ExecuteTime": {
     "end_time": "2018-02-01T05:57:18.955586Z",
     "start_time": "2018-02-01T05:57:18.940022Z"
    },
    "collapsed": true
   },
   "outputs": [],
   "source": [
    "def generate_batch_data(data, seq_length, dims, batch_size, normalize=None, **kwargs):\n",
    "    \n",
    "    data = mx.nd.array(data)\n",
    "    \n",
    "    if normalize!=None:\n",
    "        data = normalize(data, **kwargs)\n",
    "        \n",
    "    data = data.reshape((-1, seq_length, dims))\n",
    "    \n",
    "    num_batches = len(data) // batch_size    \n",
    "    \n",
    "    data_batch = data.reshape((batch_size, num_batches, seq_length, dims))\n",
    "    data_batch = nd.swapaxes(data_batch, 0, 1)\n",
    "    data_batch = nd.swapaxes(data_batch, 1, 2)\n",
    "    return data_batch\n",
    "\n",
    "\n",
    "\n"
   ]
  },
  {
   "cell_type": "code",
   "execution_count": 24,
   "metadata": {
    "ExecuteTime": {
     "end_time": "2018-02-01T05:57:18.970756Z",
     "start_time": "2018-02-01T05:57:18.957701Z"
    },
    "collapsed": true
   },
   "outputs": [],
   "source": [
    "train_x = generate_batch_data(data = train_audio,\n",
    "                              seq_length = train_audio.shape[1],\n",
    "                              dims = 1, # 1 Channel (Monophonic)\n",
    "                              batch_size = batch_size,\n",
    "                              normalize = norm_zscore,\n",
    "                              norm_axis = 1\n",
    "                             )\n",
    "\n",
    "valid_x = generate_batch_data(data = valid_audio,\n",
    "                              seq_length = valid_audio.shape[1],\n",
    "                              dims = 1, # 1 Channel (Monophonic)\n",
    "                              batch_size = batch_size,\n",
    "                              normalize = norm_zscore,\n",
    "                              norm_axis = 1\n",
    "                             )\n",
    "\n",
    "train_y = generate_batch_data(data = train_label_onehot,\n",
    "                              seq_length = 1, # last output\n",
    "                              dims = train_label_onehot.shape[1],\n",
    "                              batch_size = batch_size\n",
    "                             )\n",
    "\n",
    "valid_y = generate_batch_data(data = valid_label_onehot,\n",
    "                              seq_length = 1, # last output\n",
    "                              dims = valid_label_onehot.shape[1],\n",
    "                              batch_size = batch_size\n",
    "                             )"
   ]
  },
  {
   "cell_type": "code",
   "execution_count": 25,
   "metadata": {
    "ExecuteTime": {
     "end_time": "2018-02-01T05:57:18.976280Z",
     "start_time": "2018-02-01T05:57:18.972882Z"
    },
    "collapsed": true
   },
   "outputs": [],
   "source": [
    "# print(np.array_equal(train_audio_batch.asnumpy(), train_x.asnumpy()))\n",
    "# print(np.array_equal(train_label_batch_1.asnumpy(), train_y.asnumpy()))"
   ]
  },
  {
   "cell_type": "markdown",
   "metadata": {},
   "source": [
    "## 3. Define Activation, Loss, Optimizer"
   ]
  },
  {
   "cell_type": "markdown",
   "metadata": {},
   "source": [
    "#### Activation"
   ]
  },
  {
   "cell_type": "code",
   "execution_count": 26,
   "metadata": {
    "ExecuteTime": {
     "end_time": "2018-02-01T05:57:18.992080Z",
     "start_time": "2018-02-01T05:57:18.979698Z"
    },
    "collapsed": true
   },
   "outputs": [],
   "source": [
    "def sigmoid(x):\n",
    "    return 1. / (1. + nd.exp(-x))\n",
    "# Same as nd.Activation(x, act_type='sigmoid')\n",
    "\n",
    "def tanh(x):\n",
    "    return (nd.exp(x) - nd.exp(-x)) / (nd.exp(x) + nd.exp(-x))\n",
    "# Same as nd.Activation(x, act_type='tanh')\n",
    "\n",
    "def softmax(y_linear, temperature=1.0):\n",
    "    lin = (y_linear-nd.max(y_linear, axis=1).reshape((-1,1))) / temperature # shift each row of y_linear by its max\n",
    "    exp = nd.exp(lin)\n",
    "    partition =nd.sum(exp, axis=1).reshape((-1,1))\n",
    "    return exp / partition"
   ]
  },
  {
   "cell_type": "markdown",
   "metadata": {},
   "source": [
    "#### Loss"
   ]
  },
  {
   "cell_type": "code",
   "execution_count": 27,
   "metadata": {
    "ExecuteTime": {
     "end_time": "2018-02-01T05:57:19.003881Z",
     "start_time": "2018-02-01T05:57:18.993995Z"
    },
    "collapsed": true
   },
   "outputs": [],
   "source": [
    "# def cross_entropy(yhat, y):\n",
    "#     return - nd.sum(y * nd.log(yhat))\n",
    "\n",
    "def cross_entropy(yhat, y):\n",
    "    return - nd.mean(nd.sum(y * nd.log(yhat), axis=0, exclude=True))\n",
    "\n",
    "# Define accuracy metric\n",
    "def accuracy(yhat, y):\n",
    "    pred = nd.argmax(yhat, axis = 1)\n",
    "    real = nd.argmax(y, axis = 1)\n",
    "    correct = nd.sum(pred == real)\n",
    "    total = yhat.shape[0]\n",
    "    return correct / total"
   ]
  },
  {
   "cell_type": "code",
   "execution_count": 28,
   "metadata": {
    "ExecuteTime": {
     "end_time": "2018-02-01T05:57:27.757760Z",
     "start_time": "2018-02-01T05:57:19.005893Z"
    }
   },
   "outputs": [
    {
     "data": {
      "text/plain": [
       "\n",
       "[ 0.91629076]\n",
       "<NDArray 1 @cpu(0)>"
      ]
     },
     "execution_count": 28,
     "metadata": {},
     "output_type": "execute_result"
    }
   ],
   "source": [
    "cross_entropy(nd.array([[.2,.8], [.2,.8]]), nd.array([[1.,0], [0, 1.]]))"
   ]
  },
  {
   "cell_type": "code",
   "execution_count": 29,
   "metadata": {
    "ExecuteTime": {
     "end_time": "2018-02-01T05:57:27.765953Z",
     "start_time": "2018-02-01T05:57:27.759853Z"
    }
   },
   "outputs": [
    {
     "data": {
      "text/plain": [
       "\n",
       "[ 0.5]\n",
       "<NDArray 1 @cpu(0)>"
      ]
     },
     "execution_count": 29,
     "metadata": {},
     "output_type": "execute_result"
    }
   ],
   "source": [
    "accuracy(nd.array([[.2,.8], [.2,.8]]), nd.array([[1.,0], [0, 1.]]))"
   ]
  },
  {
   "cell_type": "markdown",
   "metadata": {},
   "source": [
    "#### Averaging the loss over the sequence\n",
    "##### (Many-to-Many의 Output일 경우)"
   ]
  },
  {
   "cell_type": "code",
   "execution_count": 30,
   "metadata": {
    "ExecuteTime": {
     "end_time": "2018-02-01T05:57:27.780574Z",
     "start_time": "2018-02-01T05:57:27.767907Z"
    },
    "collapsed": true
   },
   "outputs": [],
   "source": [
    "def average_ce_loss(outputs, labels):\n",
    "    assert(len(outputs) == len(labels))\n",
    "    total_loss = 0.\n",
    "    for (output, label) in zip(outputs,labels):\n",
    "        total_loss = total_loss + cross_entropy(output, label)\n",
    "    return total_loss / len(outputs)\n",
    "\n",
    "def average_acc(outputs, labels):\n",
    "    assert(len(outputs) == len(labels))\n",
    "    total_acc = 0.\n",
    "    for (output, label) in zip(outputs,labels):\n",
    "        total_acc = total_acc + accuracy(output, label)\n",
    "    return total_acc / len(outputs)"
   ]
  },
  {
   "cell_type": "markdown",
   "metadata": {},
   "source": [
    "#### Optimizer"
   ]
  },
  {
   "cell_type": "code",
   "execution_count": 31,
   "metadata": {
    "ExecuteTime": {
     "end_time": "2018-02-01T05:57:27.788042Z",
     "start_time": "2018-02-01T05:57:27.784288Z"
    },
    "collapsed": true
   },
   "outputs": [],
   "source": [
    "def SGD(params, lr):\n",
    "    for param in params:\n",
    "        param[:] = param - lr * param.grad"
   ]
  },
  {
   "cell_type": "markdown",
   "metadata": {
    "ExecuteTime": {
     "end_time": "2018-01-27T09:11:31.061746Z",
     "start_time": "2018-01-27T09:11:31.057468Z"
    }
   },
   "source": [
    "## 4. Model"
   ]
  },
  {
   "cell_type": "code",
   "execution_count": 32,
   "metadata": {
    "ExecuteTime": {
     "end_time": "2018-02-01T05:57:30.678635Z",
     "start_time": "2018-02-01T05:57:27.789918Z"
    },
    "collapsed": true
   },
   "outputs": [],
   "source": [
    "class RNNModel_layer1():\n",
    "\n",
    "    def __init__(self, model, train, valid, hidden_dims, ctx):\n",
    "        assert(train[0].shape[1:] == valid[0].shape[1:])\n",
    "        assert(train[1].shape[1:] == valid[1].shape[1:])\n",
    "        \n",
    "        self.model = model\n",
    "        self.train_x = train[0]\n",
    "        self.train_y = train[1]\n",
    "        self.valid_x = valid[0]\n",
    "        self.valid_y = valid[1]\n",
    "        self.num_batches = self.train_x.shape[0]\n",
    "        self.input_dims = self.train_x.shape[3]\n",
    "        self.output_dims = self.train_y.shape[3]\n",
    "        self.hidden_dims = hidden_dims\n",
    "        self.seq_outputs = self.train_y.shape[1]\n",
    "        self.ctx = ctx\n",
    "                \n",
    "        \n",
    "    def allocate_params(self):        \n",
    "        if self.model == 'simple_rnn':\n",
    "            ########################\n",
    "            #  Weights connecting the inputs to the hidden layer\n",
    "            ########################\n",
    "            self.Wxh = nd.random_normal(shape=(self.input_dims, self.hidden_dims), ctx=self.ctx) * .01\n",
    "\n",
    "            ########################\n",
    "            #  Recurrent weights connecting the hidden layer across time steps\n",
    "            ########################\n",
    "            self.Whh = nd.random_normal(shape=(self.hidden_dims, self.hidden_dims), ctx=self.ctx) * .01\n",
    "\n",
    "            ########################\n",
    "            #  Bias vector for hidden layer\n",
    "            ########################\n",
    "            self.bh = nd.random_normal(shape=self.hidden_dims, ctx=self.ctx) * .01\n",
    "\n",
    "            ########################\n",
    "            # Weights to the output nodes\n",
    "            ########################\n",
    "            self.Why = nd.random_normal(shape=(self.hidden_dims, self.output_dims), ctx=self.ctx) * .01\n",
    "            self.by = nd.random_normal(shape=self.output_dims, ctx=self.ctx) * .01\n",
    "\n",
    "            # NOTE: to keep notation consistent,\n",
    "            # we should really use capital letters\n",
    "            # for hidden layers and outputs,\n",
    "            # since we are doing batchwise computations]\n",
    "\n",
    "            ########################\n",
    "            # Attach the gradients\n",
    "            ########################\n",
    "            self.params = [self.Wxh, self.Whh, self.bh, self.Why, self.by]\n",
    "            for self.param in self.params:\n",
    "                self.param.attach_grad()\n",
    "        \n",
    "        \n",
    "        elif self.model == 'lstm':\n",
    "            ########################\n",
    "            #  Weights connecting the inputs to the hidden layer\n",
    "            ########################\n",
    "            self.Wxg = nd.random_normal(shape=(self.input_dims, self.hidden_dims), ctx=self.ctx) * .01\n",
    "            self.Wxi = nd.random_normal(shape=(self.input_dims, self.hidden_dims), ctx=self.ctx) * .01\n",
    "            self.Wxf = nd.random_normal(shape=(self.input_dims, self.hidden_dims), ctx=self.ctx) * .01\n",
    "            self.Wxo = nd.random_normal(shape=(self.input_dims, self.hidden_dims), ctx=self.ctx) * .01\n",
    "\n",
    "            ########################\n",
    "            #  Recurrent weights connecting the hidden layer across time steps\n",
    "            ########################\n",
    "            self.Whg = nd.random_normal(shape=(self.hidden_dims, self.hidden_dims), ctx=self.ctx)* .01\n",
    "            self.Whi = nd.random_normal(shape=(self.hidden_dims, self.hidden_dims), ctx=self.ctx)* .01\n",
    "            self.Whf = nd.random_normal(shape=(self.hidden_dims, self.hidden_dims), ctx=self.ctx)* .01\n",
    "            self.Who = nd.random_normal(shape=(self.hidden_dims, self.hidden_dims), ctx=self.ctx)* .01\n",
    "\n",
    "            ########################\n",
    "            #  Bias vector for hidden layer\n",
    "            ########################\n",
    "            self.bg = nd.random_normal(shape=self.hidden_dims, ctx=self.ctx) * .01\n",
    "            self.bi = nd.random_normal(shape=self.hidden_dims, ctx=self.ctx) * .01\n",
    "            self.bf = nd.random_normal(shape=self.hidden_dims, ctx=self.ctx) * .01\n",
    "            self.bo = nd.random_normal(shape=self.hidden_dims, ctx=self.ctx) * .01\n",
    "\n",
    "            ########################\n",
    "            # Weights to the output nodes\n",
    "            ########################\n",
    "            self.Why = nd.random_normal(shape=(self.hidden_dims, self.output_dims), ctx=self.ctx) * .01\n",
    "            self.by = nd.random_normal(shape=self.output_dims, ctx=self.ctx) * .01\n",
    "\n",
    "            ########################\n",
    "            # Attach the gradients\n",
    "            ########################\n",
    "            self.params = [self.Wxg, self.Wxi, self.Wxf, self.Wxo]\n",
    "            self.params = self.params + [self.Whg, self.Whi, self.Whf, self.Who]\n",
    "            self.params = self.params + [self.bg, self.bi, self.bf, self.bo]\n",
    "            self.params = self.params + [self.Why, self.by]\n",
    "            for self.param in self.params:\n",
    "                self.param.attach_grad()\n",
    "\n",
    "        elif self.model == 'gru':\n",
    "            ########################\n",
    "            #  Weights connecting the inputs to the hidden layer\n",
    "            ########################\n",
    "            self.Wxz = nd.random_normal(shape=(self.input_dims, self.hidden_dims), ctx=self.ctx) * .01\n",
    "            self.Wxr = nd.random_normal(shape=(self.input_dims, self.hidden_dims), ctx=self.ctx) * .01\n",
    "            self.Wxh = nd.random_normal(shape=(self.input_dims, self.hidden_dims), ctx=self.ctx) * .01\n",
    "\n",
    "            ########################\n",
    "            #  Recurrent weights connecting the hidden layer across time steps\n",
    "            ########################\n",
    "            self.Whz = nd.random_normal(shape=(self.hidden_dims, self.hidden_dims), ctx=self.ctx)* .01\n",
    "            self.Whr = nd.random_normal(shape=(self.hidden_dims, self.hidden_dims), ctx=self.ctx)* .01\n",
    "            self.Whh = nd.random_normal(shape=(self.hidden_dims, self.hidden_dims), ctx=self.ctx)* .01\n",
    "\n",
    "            ########################\n",
    "            #  Bias vector for hidden layer\n",
    "            ########################\n",
    "            self.bz = nd.random_normal(shape=self.hidden_dims, ctx=self.ctx) * .01\n",
    "            self.br = nd.random_normal(shape=self.hidden_dims, ctx=self.ctx) * .01\n",
    "            self.bh = nd.random_normal(shape=self.hidden_dims, ctx=self.ctx) * .01\n",
    "\n",
    "            ########################\n",
    "            # Weights to the output nodes\n",
    "            ########################\n",
    "            self.Why = nd.random_normal(shape=(self.hidden_dims, self.output_dims), ctx=self.ctx) * .01\n",
    "            self.by = nd.random_normal(shape=self.output_dims, ctx=self.ctx) * .01\n",
    "            \n",
    "            ########################\n",
    "            # Attach the gradients\n",
    "            ########################\n",
    "            self.params = [self.Wxz, self.Wxr, self.Wxh]\n",
    "            self.params = self.params + [self.Whz, self.Whr, self.Whh]\n",
    "            self.params = self.params + [self.bz, self.br, self.bh]\n",
    "            self.params = self.params + [self.Why, self.by]\n",
    "            for self.param in self.params:\n",
    "                self.param.attach_grad()\n",
    "        \n",
    "        else:\n",
    "            raise ValueError(\"Invalid mode %s. Options are simple_rnn, lstm, and gru\" % self.mode)\n",
    "    \n",
    "    def SGD(self, lr):\n",
    "        for self.param in self.params:\n",
    "            self.param[:] = self.param - lr * self.param.grad\n",
    "    \n",
    "    def rnn_model(self, inputs, h, c=None, mode='train', **kwargs):\n",
    "        outputs = []\n",
    "        for X in inputs:\n",
    "            if self.model == 'simple_rnn':\n",
    "                h_linear = nd.dot(X, self.Wxh) + nd.dot(h, self.Whh) + self.bh\n",
    "                h = nd.tanh(h_linear)\n",
    "                \n",
    "            elif self.model == 'lstm':\n",
    "                g = nd.tanh(nd.dot(X, self.Wxg) + nd.dot(h, self.Whg) + self.bg)\n",
    "                i = nd.sigmoid(nd.dot(X, self.Wxi) + nd.dot(h, self.Whi) + self.bi)\n",
    "                f = nd.sigmoid(nd.dot(X, self.Wxf) + nd.dot(h, self.Whf) + self.bf)\n",
    "                o = nd.sigmoid(nd.dot(X, self.Wxo) + nd.dot(h, self.Who) + self.bo)\n",
    "\n",
    "                c = f * c + i * g\n",
    "                h = o * nd.tanh(c)\n",
    "            elif self.model == 'gru':\n",
    "                z = nd.sigmoid(nd.dot(X, self.Wxz) + nd.dot(h, self.Whz) + self.bz)\n",
    "                r = nd.sigmoid(nd.dot(X, self.Wxr) + nd.dot(h, self.Whr) + self.br)\n",
    "                g = nd.tanh(nd.dot(X, Wxh) + nd.dot(r * h, self.Whh) + self.bh)\n",
    "                \n",
    "                h = z * h + (1 - z) * g\n",
    "                \n",
    "            yhat_linear = nd.dot(h, self.Why) + self.by\n",
    "                            \n",
    "            if(self.output_dims == 2):\n",
    "                yhat = sigmoid(yhat_linear)\n",
    "            elif(self.output_dims > 2):\n",
    "                yhat = softmax(yhat_linear, **kwargs)                \n",
    "            outputs.append(yhat)\n",
    "        \n",
    "        if self.seq_outputs == 1:\n",
    "            outputs = outputs[len(outputs)-1]\n",
    "            \n",
    "        if self.model in ['simple_rnn', 'gru']:\n",
    "            return (outputs, h)\n",
    "        elif self.model == 'lstm':\n",
    "            return (outputs, h, c)\n",
    "\n",
    "        \n",
    "    def set_sample_generation(self, prefix, num_chars, temperature=1.0):\n",
    "        self.prefix = prefix\n",
    "        self.num_chars = num_chars\n",
    "        self.temperature = temperature\n",
    "        \n",
    "    def run_sample_generation(self):\n",
    "        #####################################\n",
    "        # Initialize the string that we'll return to the supplied prefix\n",
    "        #####################################\n",
    "        string = self.prefix\n",
    "\n",
    "        #####################################\n",
    "        # Prepare the prefix as a sequence of one-hots for ingestion by RNN\n",
    "        #####################################\n",
    "        prefix_numerical = [character_dict[char] for char in self.prefix]\n",
    "        input = one_hots(prefix_numerical)\n",
    "\n",
    "        #####################################\n",
    "        # Set the initial state of the hidden representation ($h_0$) to the zero vector\n",
    "        #####################################\n",
    "        h = nd.zeros(shape=(1, self.hidden_dims), ctx=self.ctx)\n",
    "        if self.model == 'lstm':\n",
    "            c = nd.zeros(shape=(1, self.hidden_dims), ctx=self.ctx)\n",
    "\n",
    "\n",
    "\n",
    "        #####################################\n",
    "        # For num_chars iterations,\n",
    "        #     1) feed in the current input\n",
    "        #     2) sample next character from from output distribution\n",
    "        #     3) add sampled character to the decoded string\n",
    "        #     4) prepare the sampled character as a one_hot (to be the next input)\n",
    "        #####################################\n",
    "        for i in range(self.num_chars):\n",
    "            if self.model in ['simple_rnn', 'gru']:\n",
    "                outputs, h = self.rnn_model(input, h, temperature=.1)\n",
    "            elif self.model == 'lstm':\n",
    "                outputs, h, c = self.rnn_model(input, h, c, temperature=.1)\n",
    "\n",
    "            #outputs, h = self.simple_rnn(input, h, temperature=.1)\n",
    "            \n",
    "            choice = np.random.choice(vocab_size, p=outputs[-1][0].asnumpy())\n",
    "            string += character_list[choice]\n",
    "            input = one_hots([choice])\n",
    "        return string\n",
    "\n",
    "    def run(self, epochs, learning_rate):\n",
    "        for e in range(epochs):\n",
    "            ############################\n",
    "            # Attenuate the learning rate by a factor of 2 every 100 epochs.\n",
    "            ############################\n",
    "            if ((e+1) % 10 == 0):\n",
    "                learning_rate = learning_rate / 2.0\n",
    "            \n",
    "            h = nd.zeros(shape=(batch_size, self.hidden_dims), ctx=ctx)\n",
    "            if self.model == 'lstm':\n",
    "                c = nd.zeros(shape=(batch_size, self.hidden_dims), ctx=ctx)\n",
    "            \n",
    "            if self.seq_outputs == 1:\n",
    "                loss_func = cross_entropy\n",
    "                acc_func = accuracy\n",
    "                if e==0:\n",
    "                    self.train_y = self.train_y[:,0]\n",
    "                    self.valid_y = self.valid_y[:,0]\n",
    "                \n",
    "            elif self.seq_outputs > 1:\n",
    "                loss_func = average_ce_loss\n",
    "                acc_func = average_acc\n",
    "\n",
    "            for i in range(self.num_batches):\n",
    "                with autograd.record():\n",
    "                    if self.model in ['simple_rnn', 'gru']:\n",
    "                        outputs, h = self.rnn_model(self.train_x[i], h, mode='train')\n",
    "                    elif self.model == 'lstm':\n",
    "                        outputs, h, c = self.rnn_model(self.train_x[i], h, c, mode='train')\n",
    "\n",
    "                    loss = loss_func(outputs, self.train_y[i])\n",
    "                    loss.backward()\n",
    "                self.SGD(learning_rate)\n",
    "                \n",
    "                k = random.sample(range(len(valid_x)), 1)[0]\n",
    "                if self.model in ['simple_rnn', 'gru']:\n",
    "                    val_outputs, _ = self.rnn_model(self.valid_x[k], h, mode='valid')\n",
    "                elif self.model == 'lstm':\n",
    "                    val_outputs, _, _ = self.rnn_model(self.valid_x[k], h, c, mode='valid')\n",
    "                \n",
    "                val_loss = loss_func(val_outputs, self.valid_y[k])\n",
    "                val_acc = acc_func(val_outputs, self.valid_y[k])\n",
    "                \n",
    "                ##########################\n",
    "                #  Keep a moving average of the losses\n",
    "                ##########################\n",
    "                tr_loss = round(loss.asnumpy()[0], 3)\n",
    "                val_loss = round(val_loss.asnumpy()[0], 3)\n",
    "                val_acc = round(val_acc.asnumpy()[0], 3)\n",
    "\n",
    "                if (i == 0) and (e == 0):\n",
    "                    tr_moving_loss = round(np.mean(tr_loss) ,3)\n",
    "                    val_moving_loss = round(np.mean(val_loss), 3)\n",
    "                    val_moving_acc = round(np.mean(val_acc) ,3)\n",
    "                else:\n",
    "                    tr_moving_loss = round(.9 * tr_moving_loss + .1 * np.mean(tr_loss) ,3)\n",
    "                    val_moving_loss = round(.9 * val_moving_loss + .1 * np.mean(tr_loss) ,3)\n",
    "                    val_moving_acc = round(.9 * val_moving_acc + .1 * np.mean(val_acc) ,3)\n",
    "                \n",
    "                if i % 100 == 0:\n",
    "                    print(\"Epoch %s. Batch %s. Loss: %s. Moving Loss: %s. Val Loss: %s. Val Moving Loss: %s. Val Acc: %s. Val Moving Acc: %s.\" %\n",
    "                          (e, i, tr_loss, tr_moving_loss, val_loss, val_moving_loss, val_acc, val_moving_acc))\n",
    "            \n",
    "            print(\"Epoch %s. Loss: %s. Val Loss: %s. Val ACC: %s\" % (e, tr_moving_loss, val_moving_loss, val_moving_acc))\n",
    "            if 'prefix' in dir(self):\n",
    "                print(self.run_sample_generation())\n",
    "                \n",
    "            print('**************** End of Epoch %s ****************' % (e))\n",
    "\n",
    "\n"
   ]
  },
  {
   "cell_type": "code",
   "execution_count": 33,
   "metadata": {
    "ExecuteTime": {
     "end_time": "2018-02-01T05:57:30.683735Z",
     "start_time": "2018-02-01T05:57:30.680538Z"
    },
    "collapsed": true
   },
   "outputs": [],
   "source": [
    "trainset = [train_x, train_y]\n",
    "validset = [valid_x, valid_y]"
   ]
  },
  {
   "cell_type": "code",
   "execution_count": 34,
   "metadata": {
    "ExecuteTime": {
     "end_time": "2018-02-01T06:46:07.163295Z",
     "start_time": "2018-02-01T05:57:30.685602Z"
    }
   },
   "outputs": [
    {
     "name": "stdout",
     "output_type": "stream",
     "text": [
      "Epoch 0. Batch 0. Loss: 0.695. Moving Loss: 0.695. Val Loss: 0.686. Val Moving Loss: 0.686. Val Acc: 0.781. Val Moving Acc: 0.781.\n",
      "Epoch 0. Batch 100. Loss: 0.287. Moving Loss: 0.316. Val Loss: 0.292. Val Moving Loss: 0.316. Val Acc: 0.781. Val Moving Acc: 0.769.\n",
      "Epoch 0. Batch 200. Loss: 0.171. Moving Loss: 0.181. Val Loss: 0.17. Val Moving Loss: 0.181. Val Acc: 0.812. Val Moving Acc: 0.767.\n",
      "Epoch 0. Batch 300. Loss: 0.122. Moving Loss: 0.122. Val Loss: 0.121. Val Moving Loss: 0.122. Val Acc: 0.781. Val Moving Acc: 0.741.\n",
      "Epoch 0. Batch 400. Loss: 0.082. Moving Loss: 0.087. Val Loss: 0.077. Val Moving Loss: 0.087. Val Acc: 0.844. Val Moving Acc: 0.758.\n",
      "Epoch 0. Batch 500. Loss: 0.068. Moving Loss: 0.068. Val Loss: 0.056. Val Moving Loss: 0.068. Val Acc: 0.812. Val Moving Acc: 0.796.\n",
      "Epoch 0. Batch 600. Loss: 0.043. Moving Loss: 0.045. Val Loss: 0.039. Val Moving Loss: 0.045. Val Acc: 0.781. Val Moving Acc: 0.756.\n",
      "Epoch 0. Loss: 0.035. Val Loss: 0.035. Val ACC: 0.771\n",
      "**************** End of Epoch 0 ****************\n"
     ]
    }
   ],
   "source": [
    "\n",
    "RNN = RNNModel_layer1(model = 'simple_rnn', train = trainset, valid = validset, hidden_dims = 10, ctx=ctx)\n",
    "RNN.allocate_params()\n",
    "RNN.run(epochs = 1, learning_rate = .05)\n"
   ]
  },
  {
   "cell_type": "code",
   "execution_count": null,
   "metadata": {
    "ExecuteTime": {
     "end_time": "2018-02-01T05:50:44.841754Z",
     "start_time": "2018-02-01T05:46:15.973Z"
    },
    "collapsed": true
   },
   "outputs": [],
   "source": [
    "\n",
    "RNN = RNNModel_layer1(model = 'lstm', train = trainset, valid = validset, hidden_dims = 10, ctx=ctx)\n",
    "RNN.allocate_params()\n",
    "RNN.run(epochs = 1, learning_rate = .05)\n",
    "\n"
   ]
  },
  {
   "cell_type": "code",
   "execution_count": null,
   "metadata": {
    "ExecuteTime": {
     "end_time": "2018-02-01T05:50:44.842799Z",
     "start_time": "2018-02-01T05:46:16.349Z"
    },
    "collapsed": true
   },
   "outputs": [],
   "source": [
    "\n",
    "RNN = RNNModel_layer1(model = 'gru', train = trainset, valid = validset, hidden_dims = 10, ctx=ctx)\n",
    "RNN.allocate_params()\n",
    "RNN.run(epochs = 1, learning_rate = .05)\n",
    "\n"
   ]
  },
  {
   "cell_type": "code",
   "execution_count": null,
   "metadata": {
    "collapsed": true
   },
   "outputs": [],
   "source": []
  },
  {
   "cell_type": "code",
   "execution_count": null,
   "metadata": {
    "collapsed": true
   },
   "outputs": [],
   "source": []
  }
 ],
 "metadata": {
  "anaconda-cloud": {},
  "kernelspec": {
   "display_name": "Python 3",
   "language": "python",
   "name": "python3"
  },
  "language_info": {
   "codemirror_mode": {
    "name": "ipython",
    "version": 3
   },
   "file_extension": ".py",
   "mimetype": "text/x-python",
   "name": "python",
   "nbconvert_exporter": "python",
   "pygments_lexer": "ipython3",
   "version": "3.6.2"
  }
 },
 "nbformat": 4,
 "nbformat_minor": 2
}
