{
 "cells": [
  {
   "cell_type": "code",
   "execution_count": 1,
   "metadata": {
    "collapsed": true
   },
   "outputs": [],
   "source": [
    "import os"
   ]
  },
  {
   "cell_type": "code",
   "execution_count": 4,
   "metadata": {},
   "outputs": [
    {
     "data": {
      "text/plain": [
       "'/Users/Juyeong/Documents/gluon_study/mnist_dataset'"
      ]
     },
     "execution_count": 4,
     "metadata": {},
     "output_type": "execute_result"
    }
   ],
   "source": [
    "os.getcwd()"
   ]
  },
  {
   "cell_type": "code",
   "execution_count": 73,
   "metadata": {},
   "outputs": [],
   "source": [
    "import os, struct\n",
    "import numpy as np\n",
    "import gzip\n",
    "\n",
    "def load_mnist(train = True, fashion = False, path = './'):\n",
    "    if train == True:\n",
    "        if fashion == True:\n",
    "            img_fname = str(path + 'fashion/train-images-idx3-ubyte.gz')\n",
    "            lbl_fname = str(path + 'fashion/train-labels-idx1-ubyte.gz')\n",
    "        else:\n",
    "            img_fname = str(path + 'minist/train-images-idx3-ubyte.gz')\n",
    "            lbl_fname = str(path + 'minist/train-labels-idx1-ubyte.gz')\n",
    "    else:        \n",
    "        if fashion == True:\n",
    "            img_fname = str(path + 'fashion/t10k-images-idx3-ubyte.gz')\n",
    "            lbl_fname = str(path + 'fashion/t10k-labels-idx1-ubyte.gz')        \n",
    "        else:\n",
    "            img_fname = str(path + 'minist/t10k-images-idx3-ubyte.gz')\n",
    "            lbl_fname = str(path + 'minist/t10k-labels-idx1-ubyte.gz')   \n",
    "    \n",
    "    \n",
    "    with gzip.open(lbl_fname, 'rb') as flbl:\n",
    "        magic, num = struct.unpack(\">II\", flbl.read(8))\n",
    "        lbl = np.fromfile(flbl, dtype=np.int8)\n",
    "\n",
    "    with gzip.open(img_fname, 'rb') as fimg:\n",
    "        magic, num, rows, cols = struct.unpack(\">IIII\", fimg.read(16))\n",
    "        img = np.fromfile(fimg, dtype=np.uint8).reshape(len(lbl), rows, cols)\n",
    "\n",
    "    img_f = []\n",
    "    lbl_f = []\n",
    "    \n",
    "    for i in range(len(lbl)):\n",
    "        img_f.append(img[i])\n",
    "        lbl_f.append(lbl[i])\n",
    "    \n",
    "    return img, lbl"
   ]
  },
  {
   "cell_type": "code",
   "execution_count": 74,
   "metadata": {},
   "outputs": [],
   "source": [
    "# img_fname = './train-images-idx3-ubyte'\n",
    "# lbl_fname = './t10k-labels-idx1-ubyte'\n",
    "\n",
    "# with open(lbl_fname, 'rb') as flbl:\n",
    "#     magic, num = struct.unpack(\">II\", flbl.read(8))\n",
    "#     lbl = np.fromfile(flbl, dtype=np.int8)"
   ]
  },
  {
   "cell_type": "code",
   "execution_count": 75,
   "metadata": {},
   "outputs": [],
   "source": [
    "a,b = load_mnist('train', './')"
   ]
  },
  {
   "cell_type": "code",
   "execution_count": 79,
   "metadata": {},
   "outputs": [
    {
     "data": {
      "text/plain": [
       "(60000,)"
      ]
     },
     "execution_count": 79,
     "metadata": {},
     "output_type": "execute_result"
    }
   ],
   "source": [
    "b.shape"
   ]
  }
 ],
 "metadata": {
  "kernelspec": {
   "display_name": "Python 3",
   "language": "python",
   "name": "python3"
  },
  "language_info": {
   "codemirror_mode": {
    "name": "ipython",
    "version": 3
   },
   "file_extension": ".py",
   "mimetype": "text/x-python",
   "name": "python",
   "nbconvert_exporter": "python",
   "pygments_lexer": "ipython3",
   "version": "3.5.2"
  }
 },
 "nbformat": 4,
 "nbformat_minor": 2
}
