{
 "cells": [
  {
   "cell_type": "markdown",
   "metadata": {},
   "source": [
    "# QA - gluon\n",
    "* http://gluon.mxnet.io/chapter08_computer-vision/visual-question-answer.html"
   ]
  },
  {
   "cell_type": "code",
   "execution_count": 3,
   "metadata": {
    "ExecuteTime": {
     "end_time": "2018-01-22T18:08:59.361820Z",
     "start_time": "2018-01-22T18:08:59.339458Z"
    },
    "collapsed": true
   },
   "outputs": [],
   "source": [
    "from __future__ import print_function\n",
    "import numpy as np\n",
    "import mxnet as mx\n",
    "import mxnet.ndarray as F\n",
    "import mxnet.contrib.ndarray as C\n",
    "import mxnet.gluon as gluon\n",
    "from mxnet.gluon import nn\n",
    "from mxnet import autograd\n",
    "import bisect\n",
    "from IPython.core.display import display, HTML\n",
    "import logging\n",
    "logging.basicConfig(level=logging.INFO)\n",
    "import os\n",
    "from mxnet.test_utils import download\n",
    "import json\n",
    "from IPython.display import HTML, display"
   ]
  },
  {
   "cell_type": "markdown",
   "metadata": {},
   "source": [
    "# Define the model"
   ]
  },
  {
   "cell_type": "code",
   "execution_count": 4,
   "metadata": {
    "ExecuteTime": {
     "end_time": "2018-01-22T18:13:32.748567Z",
     "start_time": "2018-01-22T18:13:32.741934Z"
    },
    "collapsed": true
   },
   "outputs": [],
   "source": [
    "batch_size = 64\n",
    "ctx = mx.cpu()\n",
    "compute_size = batch_size\n",
    "out_dim = 10000\n",
    "gpus = 2"
   ]
  },
  {
   "cell_type": "markdown",
   "metadata": {},
   "source": [
    "## In the first model, we will concatenate the image and question features and use multilayer perception(MLP) to predict the answe"
   ]
  },
  {
   "cell_type": "code",
   "execution_count": 14,
   "metadata": {
    "ExecuteTime": {
     "end_time": "2018-01-22T18:18:54.600697Z",
     "start_time": "2018-01-22T18:18:54.564231Z"
    },
    "collapsed": true
   },
   "outputs": [],
   "source": [
    "class Net1(gluon.Block):\n",
    "    def __init__(self, **kwargs):\n",
    "        super(Net1, self).__init__(**kwargs)\n",
    "        with self.name_scope():\n",
    "            self.bn = nn.BatchNorm()\n",
    "            self.dropout = nn.Dropout(0.3)\n",
    "            self.fc1 = nn.Dense(8192, activation = 'relu')\n",
    "            self.fc2 = nn.Dense(1000)\n",
    "        \n",
    "    def forward(self, x):\n",
    "        x1 = F.L2Normalization(x[0])\n",
    "        x2 = F.L2Normalization(x[1])\n",
    "        z = F.concat(x1, x2, dim = 1)\n",
    "        z = self.fc1(z)\n",
    "        z = self.bn(z)\n",
    "        z = self.dropout(z)\n",
    "        z = self.fc2(z)\n",
    "        return z\n"
   ]
  },
  {
   "cell_type": "code",
   "execution_count": 15,
   "metadata": {
    "ExecuteTime": {
     "end_time": "2018-01-22T18:18:55.761886Z",
     "start_time": "2018-01-22T18:18:55.754996Z"
    }
   },
   "outputs": [
    {
     "data": {
      "text/plain": [
       "Net1(\n",
       "  (bn): BatchNorm(axis=1, eps=1e-05, momentum=0.9, fix_gamma=False, in_channels=None)\n",
       "  (dropout): Dropout(p = 0.3)\n",
       "  (fc1): Dense(None -> 8192, Activation(relu))\n",
       "  (fc2): Dense(None -> 1000, linear)\n",
       ")"
      ]
     },
     "execution_count": 15,
     "metadata": {},
     "output_type": "execute_result"
    }
   ],
   "source": [
    "net1 = Net1()\n",
    "net1"
   ]
  },
  {
   "cell_type": "markdown",
   "metadata": {},
   "source": [
    "## In the second model, instead of linearly combine the image and text features, we use count sketch to estimate the outer product of the image and question features. It is also named as multimodel compact bilinear pooling(MCB)"
   ]
  },
  {
   "cell_type": "code",
   "execution_count": null,
   "metadata": {
    "collapsed": true
   },
   "outputs": [],
   "source": [
    "class Net2(gluon.Block):\n",
    "    def __init__(self, **kwargs):\n",
    "        super(Net2, self).__init__(**kwargs)\n",
    "        with self.name_scope():\n",
    "            slef.bn = nn.BatchNorm()\n",
    "            self.dropout = nn.Dropout(0.3)\n",
    "            self.fc1 = nn.Dense(8192, activation = 'relu')\n",
    "            self.fc2 = nn.Dense(1000)\n",
    "    \n",
    "    def forward(self, x):\n",
    "        x1 = F.L2Normalization(x[0])\n",
    "        x2 = F.L2Normalization(x[1])\n",
    "        text_ones = F.ones((batch_size/gpus, 2048), ctx = ctx)\n",
    "        img_ones = F.ones((batch_size/gpus, 2048), ctx = ctx)\n",
    "        text_data = F.Concat(x1, text_ones, dim = 1)\n",
    "        image_data = F.Concat(x2, img_ones, dim = 1)\n",
    "        # Initialize hash tables\n",
    "        S1 = F.array(np.random.randint(0, 2, (1, 3072))*2 -1 , ctx = ctx)\n",
    "        H1 = F.array(np.random.randint(0, out_dim(1, 3072))*2 - 1, ctx = ctx)\n",
    "        S2 = F.array(np.random.randint(0, 2, (1, 3072))*2 -1 , ctx = ctx)\n",
    "        H2 = F.array(np.random.randint(0, out_dim(1, 3072))*2 - 1, ctx = ctx)\n",
    "        # Count Sketch\n",
    "        cs1 = C.count_sketch(data = image_data, s = S1, h = H1, name = 'cs1', out_dim = out_dim)\n",
    "        cs2 = C.count_sketch(data = text_data, s = S1, h = H1, name = 'cs1', out_dim = out_dim)\n",
    "        fft1 = C.fft(data = cs1, name = 'fft1', compute_size = compute_size)\n",
    "        ff2 = C.fft(data = cs2, name = 'fft2', compute_size = compute_size)\n",
    "        c = fft1 * fft2 # Elementwise product\n",
    "        ifft1 = C.ifft(data = c, name = 'ifft1', compute_size = compute_size)\n",
    "        # MLP\n",
    "        z = self.fc1(ifft1)\n",
    "        z = self.bn(z)\n",
    "        z = self.dropout(z)\n",
    "        z = self.fc2(z)\n",
    "        return z"
   ]
  },
  {
   "cell_type": "markdown",
   "metadata": {},
   "source": [
    "# Data Iterator"
   ]
  },
  {
   "cell_type": "code",
   "execution_count": null,
   "metadata": {
    "collapsed": true
   },
   "outputs": [],
   "source": [
    "class VQAtrainIter(mx.io.DataIter):\n",
    "    def __init__(self, img, sentences, answer, batch_size, buckets=None, )"
   ]
  }
 ],
 "metadata": {
  "anaconda-cloud": {},
  "kernelspec": {
   "display_name": "Python [conda env:kion_venv_mxnet]",
   "language": "python",
   "name": "conda-env-kion_venv_mxnet-py"
  },
  "language_info": {
   "codemirror_mode": {
    "name": "ipython",
    "version": 3
   },
   "file_extension": ".py",
   "mimetype": "text/x-python",
   "name": "python",
   "nbconvert_exporter": "python",
   "pygments_lexer": "ipython3",
   "version": "3.6.3"
  },
  "toc": {
   "nav_menu": {},
   "number_sections": true,
   "sideBar": true,
   "skip_h1_title": false,
   "toc_cell": false,
   "toc_position": {},
   "toc_section_display": "block",
   "toc_window_display": false
  }
 },
 "nbformat": 4,
 "nbformat_minor": 2
}
