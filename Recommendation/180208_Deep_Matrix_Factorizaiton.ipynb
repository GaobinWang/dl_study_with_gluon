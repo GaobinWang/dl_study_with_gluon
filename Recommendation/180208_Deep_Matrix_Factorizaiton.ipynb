{
 "cells": [
  {
   "cell_type": "markdown",
   "metadata": {},
   "source": [
    "---\n",
    "## **Matrix Factorization using Deep Network (Recommendation)**\n",
    "---"
   ]
  },
  {
   "cell_type": "markdown",
   "metadata": {
    "collapsed": true
   },
   "source": [
    "[Ref.]\n",
    "  - https://hackernoon.com/autoencoders-deep-learning-bits-1-11731e200694\n",
    "  - http://katbailey.github.io/post/matrix-factorization-with-tensorflow/\n",
    "  - https://www.oreilly.com/ideas/deep-matrix-factorization-using-apache-mxnet\n",
    "  - http://nicolas-hug.com/blog/matrix_facto_3\n",
    "\n",
    "<br/>\n",
    "\n",
    "### **1) Recommendation 방식**\n",
    "\n",
    "\n",
    "\n",
    "<br/>\n",
    "- 기본적인 Recommendation의 구조는 아래와 같이 1) 사용자(User) x 2) 아이템(Item) 간의 스코어 matrix 형태로 표현할 수 있음\n",
    "<br/>\n",
    "![recomm._mat](recomm._mat.png)\n",
    "<br/>\n",
    "- Recommendation을 하기 위해 사용자그룹의 기존(과거) 구매/평점기록 데이터를 활용함\n",
    "- 그러나 모든 사용자가 모든 아이템에 대한 구매/평점 기록이 없기에 전체 사용자 x 아이템으로 표현되는 Recommendation Matrix는 Sparse & Incomplete한 형태가 됨\n",
    "- 이 Incomplete Matrix의 Missing Values를 찾는 것이 Recommendation Algorithm의 목적\n",
    "- 크게 2가지 형태의 Recommendation Algorithm이 있음\n",
    "\n",
    "  **1) Collaborative Filtering (User-based or Item-based)**\n",
    "    - 협업필터링 방식으로 추천하고자 하는 대상과 가장 유사한 사용자그룹 혹은 아이템그룹의 유사도와 과거 구매/평점기록을 이용하여 추천하는 방식\n",
    "    - 그룹 간 유사도를 계산하는 방식으로 Cosine Similarity을 일반적으로 많이 이용함 \n",
    "    - Missing value에 대한 예측 시 (User or Item) Similairty와 기 존재하는 구매/평점기록값(구매 or 별점)과의 가중평균으로 계산 함\n",
    "    \n",
    "    (참조 : https://buildingrecommenders.wordpress.com/2015/11/18/overview-of-recommender-algorithms-part-2/)\n",
    "    - 1) User-Based CF\n",
    "        - 추천대상과 유사한 사용자 그룹을 파악하고, 해당 그룹이 많이 사용/구매한 아이템을 추천하는 방식\n",
    "        - 알고리즘 구현이 간단한 편이지만, 유저가 많아질 수록 연산이 복잡함 (nC2 경우의 수가 많아짐)\n",
    "    - 2) Item-Based CF\n",
    "        - 아이템간의 유사도 matrix를 기반으로, 특정 아이템을 추천하는 방식 (가중평균)\n",
    "        - User-Based CF에 비해 연산이 가벼운 편이지만, 개인 성향을 반영하기 어려움\n",
    "<br/>\n",
    "![CF_ex](CF_ex.png)\n",
    "<br/>\n",
    "\n",
    "  **2) Matrix Factorization**\n",
    "    - Sparse & Incomplete Recommendation을 2개 이상의 Low Rank Matrices로 Decomposition하는 방식\n",
    "    - Decomposition하는 2개의 Matrices는 추천대상(User) / 아이템(Item) Matrix로 나눠 짐\n",
    "    - 협업 필터링과 달리 사용자(User) / 아이템(Item)의 특성을 표현하는 Latent Factor (:= Embedding values)로 표현함\n",
    "    [Ex) 2 Dimension Latent Factor으로 표현한 예시]\n",
    "<br/>\n",
    "![mat_fact](mat_fact.png)\n",
    "<br/>\n",
    "    - Latent Factor로 표현된 2개의 Matrix의 Dot Product가 Recommendation Matrix의 추천 값이 되며, 이 값 중 과거 기록과의 차이를 최소화 하는 Latent Matrix를 찾는 것이 목적\n",
    "    - Performance Metric으로 RMSE를 주로 사용함\n",
    "    - 일반적으로 Latent Facotr의 Dimension은 User / Item의 Dimension보다 작은 값을 이용\n",
    "    - Matrix Factorization 방법으로 PCA / SVD 방법등이 있지만, Sparse & Incomplete Matrix이기에 Latent Matrices에 초기값을 주고 Iteration 마다 최적값을 찾아가는 Optimization 방법을 주로 이용\n",
    "    - 본 스터디에서는 Optimization 방법 중 Deep Learning Framework를 이용한 Vanila Matrix Factorization 방법과 Deep Matrix Facotrization 방법을 소개 함\n",
    "\n",
    " <br/>\n",
    "- **Deep Matrix Factorization의 장점**\n",
    "    - Flatten Layer를 사용하기 때문에 Embedding Layer의 Latent Dimension의 크기를 다르게 가져갈 수 있음 (Ex. User는 10차원, Item은 5차원)\n",
    "    - Vanilla Matrix Factorization은 User간 or Item간의 Inter-connection의 영향을 반영하기 어렵지만, Flatten으로 펼쳐서 학습하기 떄문에 User간, Item간, User-Item간의 Inter-connection을 학습할 수 있음\n",
    "    - Vanilla Matrix Factorization에서 불가능한 non-linear connections을 표현 가능\n",
    "    - Latent Factor를 표현하는 Embedding Layer를 2개 이상 할 수 있음 (Flatten 함수 써서)\n",
    "    - Dot Product가 없기에 학습속도가 훨씬 빠름\n",
    "\n",
    " <br/>"
   ]
  },
  {
   "cell_type": "code",
   "execution_count": 1,
   "metadata": {
    "ExecuteTime": {
     "end_time": "2018-02-08T08:42:28.497286Z",
     "start_time": "2018-02-08T08:42:26.945985Z"
    }
   },
   "outputs": [
    {
     "name": "stdout",
     "output_type": "stream",
     "text": [
      "Populating the interactive namespace from numpy and matplotlib\n"
     ]
    }
   ],
   "source": [
    "%pylab inline\n",
    "import mxnet as mx\n",
    "import pandas\n",
    "import seaborn; seaborn.set_style('whitegrid')\n",
    "import logging\n",
    "logger = logging.getLogger()\n",
    "logger.setLevel(logging.DEBUG)"
   ]
  },
  {
   "cell_type": "code",
   "execution_count": 2,
   "metadata": {
    "ExecuteTime": {
     "end_time": "2018-02-08T08:42:28.503741Z",
     "start_time": "2018-02-08T08:42:28.499066Z"
    },
    "collapsed": true
   },
   "outputs": [],
   "source": [
    "# Gluon module load\n",
    "import mxnet as mx\n",
    "import numpy as np\n",
    "from mxnet import nd, autograd, gluon\n",
    "from mxnet.gluon import nn\n",
    "\n",
    "ctx = mx.cpu()"
   ]
  },
  {
   "cell_type": "markdown",
   "metadata": {},
   "source": [
    "---\n",
    "### **1) Vanila Matrix Facotrization using synthetic data**\n",
    "---"
   ]
  },
  {
   "cell_type": "markdown",
   "metadata": {},
   "source": [
    "- 2개의 low rank latent matrix의 dot product로 예측하는 일반적인 Matrix Facotrization 방법\n",
    "- 2개의 latent matrix rank는 같음\n",
    "- rank <= input dimension"
   ]
  },
  {
   "cell_type": "code",
   "execution_count": 3,
   "metadata": {
    "ExecuteTime": {
     "end_time": "2018-02-08T08:42:28.972715Z",
     "start_time": "2018-02-08T08:42:28.505316Z"
    }
   },
   "outputs": [
    {
     "name": "stdout",
     "output_type": "stream",
     "text": [
      "Synthetic data set is generated. [row num : 35000]\n"
     ]
    },
    {
     "data": {
      "image/png": "[encoded data removed]",
      "text/plain": [
       "<matplotlib.figure.Figure at 0x117f64cc0>"
      ]
     },
     "metadata": {},
     "output_type": "display_data"
    },
    {
     "name": "stdout",
     "output_type": "stream",
     "text": [
      "It appears to be a normal distribution that is centered around 0 with a variance of 1\n"
     ]
    }
   ],
   "source": [
    "## Generate random synthetic data set (250 users x 250 movies)\n",
    "X = numpy.random.randn(250, 250) # 250x250 = 62,500 complete data set (no missing values)\n",
    "\n",
    "# extract subset of data (Assume this is only given data)\n",
    "n = 35000\n",
    "i = numpy.random.randint(250, size=n) # Generate random row indexes\n",
    "j = numpy.random.randint(250, size=n) # Generate random column indexes\n",
    "X_values = X[i, j]\n",
    "print(\"Synthetic data set is generated. [row num : {}]\".format(X_values.shape[0]))\n",
    "\n",
    "# distribution of extracted values\n",
    "plt.title(\"Distribution of Data in Matrix\", fontsize=16)\n",
    "plt.ylabel(\"Count\", fontsize=14)\n",
    "plt.xlabel(\"Value\", fontsize=14)\n",
    "plt.hist(X_values, bins=100)\n",
    "plt.show()\n",
    "\n",
    "print('It appears to be a normal distribution that is centered around 0 with a variance of 1')"
   ]
  },
  {
   "cell_type": "code",
   "execution_count": 4,
   "metadata": {
    "ExecuteTime": {
     "end_time": "2018-02-08T08:42:28.985766Z",
     "start_time": "2018-02-08T08:42:28.974678Z"
    },
    "collapsed": true
   },
   "outputs": [],
   "source": [
    "## Make Vanila Matrix Factorization(MF) using Gluon hybrid-block \n",
    "class Vanilla_MF(gluon.HybridBlock):\n",
    "    def __init__(self, **kwargs):\n",
    "        super(Vanilla_MF, self).__init__(**kwargs)\n",
    "        with self.name_scope():\n",
    "            self.user = nn.Embedding(input_dim=250, output_dim=25) # Embedding Layer for Users (25 latent factors)\n",
    "            self.movie = nn.Embedding(input_dim=250, output_dim=25) # Embedding Layer for Movies (25 latent factors)\n",
    "            self.flat = nn.Flatten()\n",
    "            \n",
    "    def hybrid_forward(self, F, user_i, movie_i):\n",
    "        # Here `F` can be either mx.nd or mx.sym, x is the input data,\n",
    "        user_i = self.user(user_i)\n",
    "        movie_i = self.movie(movie_i)\n",
    "        z = F.sum(F.dot(user_i, movie_i, transpose_b=True), axis = 1) # Dot product of users x movies and rowwise sum of result\n",
    "#         z = self.flat(z)\n",
    "        return z"
   ]
  },
  {
   "cell_type": "code",
   "execution_count": 5,
   "metadata": {
    "ExecuteTime": {
     "end_time": "2018-02-08T08:42:28.999412Z",
     "start_time": "2018-02-08T08:42:28.989080Z"
    },
    "collapsed": true
   },
   "outputs": [],
   "source": [
    "# model initialization\n",
    "model = Vanilla_MF()\n",
    "model.collect_params().initialize(mx.init.Xavier(), ctx=ctx)\n",
    "\n",
    "learning_rate = 1e-4\n",
    "criterion = gluon.loss.L2Loss()\n",
    "optimizer = gluon.Trainer(model.collect_params(), 'adam',\n",
    "                          {'learning_rate': learning_rate,\n",
    "                           'wd': 1e-5})"
   ]
  },
  {
   "cell_type": "code",
   "execution_count": 6,
   "metadata": {
    "ExecuteTime": {
     "end_time": "2018-02-08T08:42:29.011054Z",
     "start_time": "2018-02-08T08:42:29.002495Z"
    }
   },
   "outputs": [
    {
     "name": "stdout",
     "output_type": "stream",
     "text": [
      "User embedding layer shape : (250, 25)\n",
      "\n",
      "Item embedding layer shape : (250, 25)\n",
      "\n",
      "25 Embedding latents factors of the first user : \n",
      "[ 0.08690061  0.11293826 -0.10049446  0.12735233 -0.03226358  0.10438174\n",
      "  0.12894627 -0.00171298  0.04623531 -0.14136802  0.01747404  0.06442726\n",
      "  0.05782974 -0.0706878  -0.11482002 -0.03529139 -0.03970727 -0.08992843\n",
      "  0.09868617  0.060701   -0.09062057 -0.02898844  0.10589617  0.02242789\n",
      " -0.11005463]\n"
     ]
    }
   ],
   "source": [
    "# Embedding layer latent factors\n",
    "user_latent_v = model.user.weight.data().asnumpy()\n",
    "print(\"User embedding layer shape : {}\\n\".format(user_latent_v.shape))\n",
    "item_latent_v = model.movie.weight.data().asnumpy()\n",
    "print(\"Item embedding layer shape : {}\\n\".format(item_latent_v.shape))\n",
    "\n",
    "print(\"25 Embedding latents factors of the first user : \\n{}\".format(user_latent_v[0]))"
   ]
  },
  {
   "cell_type": "code",
   "execution_count": 7,
   "metadata": {
    "ExecuteTime": {
     "end_time": "2018-02-08T08:42:29.023925Z",
     "start_time": "2018-02-08T08:42:29.013103Z"
    },
    "scrolled": true
   },
   "outputs": [
    {
     "name": "stdout",
     "output_type": "stream",
     "text": [
      "Dot product of 1th user and 2th movie : -0.0330\n",
      "Model result of 1th user and 2th movie : -0.0330\n"
     ]
    }
   ],
   "source": [
    "# User rating sample by dot product of user x item embedding matrix\n",
    "user_i = 1\n",
    "movie_i = 2\n",
    "\n",
    "# naive dot product example\n",
    "user_v = user_latent_v[user_i]\n",
    "movie_v = item_latent_v[movie_i]\n",
    "print(\"Dot product of {}th user and {}th movie : {:.4f}\".format(user_i, movie_i, np.dot(user_v,movie_v)))\n",
    "\n",
    "# dot product using gluon network \n",
    "user_n = mx.nd.array([user_i])\n",
    "item_n = mx.nd.array([movie_i])\n",
    "print(\"Model result of {}th user and {}th movie : {:.4f}\".format(user_i, movie_i, model(user_n, item_n).asnumpy()[0]))"
   ]
  },
  {
   "cell_type": "code",
   "execution_count": 8,
   "metadata": {
    "ExecuteTime": {
     "end_time": "2018-02-08T08:42:29.030193Z",
     "start_time": "2018-02-08T08:42:29.025319Z"
    },
    "collapsed": true
   },
   "outputs": [],
   "source": [
    "# Make batch input using gluon DataLoader\n",
    "batch_size = 10000\n",
    "X_train = gluon.data.DataLoader(gluon.data.ArrayDataset(i[:25000].astype('float32'), j[:25000].astype('float32'), X_values[:25000].astype('float32')),\n",
    "                                      batch_size=batch_size, shuffle=True)\n",
    "\n",
    "X_eval = gluon.data.DataLoader(gluon.data.ArrayDataset(i[25000:].astype('float32'), j[25000:].astype('float32'), X_values[25000:].astype('float32')),\n",
    "                                      batch_size=batch_size, shuffle=True)"
   ]
  },
  {
   "cell_type": "code",
   "execution_count": 9,
   "metadata": {
    "ExecuteTime": {
     "end_time": "2018-02-08T08:42:29.054318Z",
     "start_time": "2018-02-08T08:42:29.031650Z"
    },
    "collapsed": true
   },
   "outputs": [],
   "source": [
    "# Epoch Running Function\n",
    "def run_epoch(model, X_train, X_eval, num_epochs = 20):\n",
    "    for epoch in range(num_epochs):\n",
    "        running_loss = 0.0\n",
    "        val_loss = 0.0\n",
    "        n_total = 0.0\n",
    "\n",
    "        # for training\n",
    "        for user, movie, rating in X_train:\n",
    "            user = user.as_in_context(ctx)\n",
    "            movie = movie.as_in_context(ctx)\n",
    "            rating = rating.as_in_context(ctx)\n",
    "\n",
    "            with mx.autograd.record():\n",
    "                output = model(user, movie)\n",
    "                loss = criterion(output, rating)\n",
    "            loss.backward()\n",
    "            optimizer.step(user.shape[0])\n",
    "            running_loss += mx.nd.sum(loss).asscalar()\n",
    "            n_total += user.shape[0]\n",
    "\n",
    "        for val_user, val_movie, val_rating in X_eval:\n",
    "            val_user = val_user.as_in_context(ctx)\n",
    "            val_movie = val_movie.as_in_context(ctx)\n",
    "\n",
    "            with mx.autograd.record():\n",
    "                val_output = model(val_user, val_movie)\n",
    "                val_loss_tmp = criterion(val_output, val_rating)\n",
    "            val_loss += mx.nd.sum(val_loss_tmp).asscalar()\n",
    "\n",
    "        # ===================log========================\n",
    "        print('epoch [{}/{}], (rmse) loss:{:.4f}, (rmse) val_loss:{:.4f}'\n",
    "              .format(epoch + 1, num_epochs, np.sqrt(running_loss / n_total), np.sqrt(val_loss / n_total)))\n",
    "    return model"
   ]
  },
  {
   "cell_type": "code",
   "execution_count": 10,
   "metadata": {
    "ExecuteTime": {
     "end_time": "2018-02-08T08:44:47.273326Z",
     "start_time": "2018-02-08T08:42:29.056161Z"
    }
   },
   "outputs": [
    {
     "name": "stdout",
     "output_type": "stream",
     "text": [
      "epoch [1/20], (rmse) loss:15.2509, (rmse) val_loss:10.1072\n",
      "epoch [2/20], (rmse) loss:14.2606, (rmse) val_loss:9.5894\n",
      "epoch [3/20], (rmse) loss:13.2654, (rmse) val_loss:9.1010\n",
      "epoch [4/20], (rmse) loss:12.7117, (rmse) val_loss:8.6405\n",
      "epoch [5/20], (rmse) loss:11.9225, (rmse) val_loss:8.2088\n",
      "epoch [6/20], (rmse) loss:11.5516, (rmse) val_loss:7.8047\n",
      "epoch [7/20], (rmse) loss:10.5129, (rmse) val_loss:7.4306\n",
      "epoch [8/20], (rmse) loss:10.1461, (rmse) val_loss:7.0836\n",
      "epoch [9/20], (rmse) loss:9.6921, (rmse) val_loss:6.7610\n",
      "epoch [10/20], (rmse) loss:8.9398, (rmse) val_loss:6.4634\n",
      "epoch [11/20], (rmse) loss:8.6287, (rmse) val_loss:6.1872\n",
      "epoch [12/20], (rmse) loss:8.2749, (rmse) val_loss:5.9286\n",
      "epoch [13/20], (rmse) loss:7.7057, (rmse) val_loss:5.6873\n",
      "epoch [14/20], (rmse) loss:7.3769, (rmse) val_loss:5.4616\n",
      "epoch [15/20], (rmse) loss:7.2322, (rmse) val_loss:5.2511\n",
      "epoch [16/20], (rmse) loss:6.5863, (rmse) val_loss:5.0548\n",
      "epoch [17/20], (rmse) loss:6.4270, (rmse) val_loss:4.8688\n",
      "epoch [18/20], (rmse) loss:6.2095, (rmse) val_loss:4.6924\n",
      "epoch [19/20], (rmse) loss:6.0212, (rmse) val_loss:4.5270\n",
      "epoch [20/20], (rmse) loss:5.5854, (rmse) val_loss:4.3698\n"
     ]
    }
   ],
   "source": [
    "## Model Running (Training)\n",
    "model = run_epoch(model, X_train, X_eval, num_epochs= 20)"
   ]
  },
  {
   "cell_type": "markdown",
   "metadata": {
    "collapsed": true
   },
   "source": [
    "#### Problem of the totally and randomly generated data set : no strong connections(dependencies) between two latent matrices\n",
    "- If there does not exist connections(dependencies) between two latent matrices, the performance of Vanilla MF does not seem to get increased well. \n",
    "- And this is because we generated the data using total random normal. \n",
    "- It is like  he \"movie watchers\" don't have any preferences, they just randomly like or don't like movies! It would be impossible to predict"
   ]
  },
  {
   "cell_type": "code",
   "execution_count": 11,
   "metadata": {
    "ExecuteTime": {
     "end_time": "2018-02-08T08:44:47.672416Z",
     "start_time": "2018-02-08T08:44:47.274820Z"
    }
   },
   "outputs": [
    {
     "name": "stdout",
     "output_type": "stream",
     "text": [
      "Synthetic data set is generated. [row num : 35000]\n"
     ]
    },
    {
     "data": {
      "image/png": "[encoded data removed]",
      "text/plain": [
       "<matplotlib.figure.Figure at 0x11852f198>"
      ]
     },
     "metadata": {},
     "output_type": "display_data"
    },
    {
     "name": "stdout",
     "output_type": "stream",
     "text": [
      "It appears to be a normal distribution that is centered around 0 but lager variance than original synthetic data set\n"
     ]
    }
   ],
   "source": [
    "## Generate synthetic data set using two row rank latent matrix (randomly generated) \n",
    "### -> It essentially makes the connections between latents matrix\n",
    "a = numpy.random.normal(0, 1, size=(250, 25)) # Generate random numbers for the first skinny matrix\n",
    "b = numpy.random.normal(0, 1, size=(25, 250)) # Generate random numbers for the second skinny matrix\n",
    "\n",
    "X = a.dot(b) # Build our real data matrix from the dot product of the two skinny matrices\n",
    "\n",
    "n = 35000\n",
    "i = numpy.random.randint(250, size=n)\n",
    "j = numpy.random.randint(250, size=n)\n",
    "X_values = X[i, j]\n",
    "print(\"Synthetic data set is generated. [row num : {}]\".format(X_values.shape[0]))\n",
    "\n",
    "# distribution of extracted values\n",
    "plt.title(\"Distribution of Data in Matrix\", fontsize=16)\n",
    "plt.ylabel(\"Count\", fontsize=14)\n",
    "plt.xlabel(\"Value\", fontsize=14)\n",
    "plt.hist(X_values, bins=100)\n",
    "plt.show()\n",
    "\n",
    "print('It appears to be a normal distribution that is centered around 0 but lager variance than original synthetic data set')"
   ]
  },
  {
   "cell_type": "code",
   "execution_count": 12,
   "metadata": {
    "ExecuteTime": {
     "end_time": "2018-02-08T08:44:47.679426Z",
     "start_time": "2018-02-08T08:44:47.674481Z"
    },
    "collapsed": true
   },
   "outputs": [],
   "source": [
    "batch_size = 10000\n",
    "X_train = gluon.data.DataLoader(gluon.data.ArrayDataset(i[:25000].astype('float32'), j[:25000].astype('float32'), X_values[:25000].astype('float32')),\n",
    "                                      batch_size=batch_size, shuffle=True)\n",
    "\n",
    "X_eval = gluon.data.DataLoader(gluon.data.ArrayDataset(i[25000:].astype('float32'), j[25000:].astype('float32'), X_values[25000:].astype('float32')),\n",
    "                                      batch_size=batch_size, shuffle=True)"
   ]
  },
  {
   "cell_type": "code",
   "execution_count": 13,
   "metadata": {
    "ExecuteTime": {
     "end_time": "2018-02-08T08:44:47.688048Z",
     "start_time": "2018-02-08T08:44:47.681114Z"
    },
    "collapsed": true
   },
   "outputs": [],
   "source": [
    "# model initialization\n",
    "model = Vanilla_MF()\n",
    "model.collect_params().initialize(mx.init.Xavier(), ctx=ctx)\n",
    "\n",
    "learning_rate = 1e-4\n",
    "criterion = gluon.loss.L2Loss()\n",
    "optimizer = gluon.Trainer(model.collect_params(), 'adam',\n",
    "                          {'learning_rate': learning_rate,\n",
    "                           'wd': 1e-5})"
   ]
  },
  {
   "cell_type": "code",
   "execution_count": 14,
   "metadata": {
    "ExecuteTime": {
     "end_time": "2018-02-08T08:47:01.655536Z",
     "start_time": "2018-02-08T08:44:47.693828Z"
    }
   },
   "outputs": [
    {
     "name": "stdout",
     "output_type": "stream",
     "text": [
      "epoch [1/20], (rmse) loss:12.8799, (rmse) val_loss:8.8683\n",
      "epoch [2/20], (rmse) loss:12.0156, (rmse) val_loss:8.4129\n",
      "epoch [3/20], (rmse) loss:11.4499, (rmse) val_loss:7.9831\n",
      "epoch [4/20], (rmse) loss:11.0393, (rmse) val_loss:7.5826\n",
      "epoch [5/20], (rmse) loss:10.1923, (rmse) val_loss:7.2090\n",
      "epoch [6/20], (rmse) loss:9.9205, (rmse) val_loss:6.8638\n",
      "epoch [7/20], (rmse) loss:9.1769, (rmse) val_loss:6.5462\n",
      "epoch [8/20], (rmse) loss:8.7725, (rmse) val_loss:6.2545\n",
      "epoch [9/20], (rmse) loss:8.3774, (rmse) val_loss:5.9883\n",
      "epoch [10/20], (rmse) loss:8.0528, (rmse) val_loss:5.7448\n",
      "epoch [11/20], (rmse) loss:7.6219, (rmse) val_loss:5.5244\n",
      "epoch [12/20], (rmse) loss:7.4772, (rmse) val_loss:5.3223\n",
      "epoch [13/20], (rmse) loss:7.0268, (rmse) val_loss:5.1380\n",
      "epoch [14/20], (rmse) loss:6.8421, (rmse) val_loss:4.9706\n",
      "epoch [15/20], (rmse) loss:6.9309, (rmse) val_loss:4.8176\n",
      "epoch [16/20], (rmse) loss:6.5381, (rmse) val_loss:4.6779\n",
      "epoch [17/20], (rmse) loss:6.1961, (rmse) val_loss:4.5530\n",
      "epoch [18/20], (rmse) loss:5.9431, (rmse) val_loss:4.4351\n",
      "epoch [19/20], (rmse) loss:5.9795, (rmse) val_loss:4.3288\n",
      "epoch [20/20], (rmse) loss:5.8344, (rmse) val_loss:4.2294\n"
     ]
    }
   ],
   "source": [
    "## Model Running (Training)\n",
    "model = run_epoch(model, X_train, X_eval, num_epochs= 20)"
   ]
  },
  {
   "cell_type": "code",
   "execution_count": null,
   "metadata": {
    "collapsed": true
   },
   "outputs": [],
   "source": []
  },
  {
   "cell_type": "markdown",
   "metadata": {},
   "source": [
    "---\n",
    "### **2) Deep matrix Facotrization using synthetic data**\n",
    "---"
   ]
  },
  {
   "cell_type": "markdown",
   "metadata": {
    "ExecuteTime": {
     "end_time": "2018-02-08T07:24:16.068903Z",
     "start_time": "2018-02-08T07:24:16.064535Z"
    }
   },
   "source": [
    "- 기존 two latent matrix의 dot product 곱의 형태가 아닌 방식\n",
    "- Two latent layer(matrix)를 concat 후 Flatten하는 방식 사용\n",
    "- 이후 Regression 형태[0,1]의 결과값을 얻기 위해 Fully Connected Layer를 사용하여 Output 산출\n",
    "\n",
    "<br/>\n",
    "<img src=\"deep_mf.png\" width=\"700\">\n",
    "<br/>\n"
   ]
  },
  {
   "cell_type": "code",
   "execution_count": 15,
   "metadata": {
    "ExecuteTime": {
     "end_time": "2018-02-08T08:47:01.670538Z",
     "start_time": "2018-02-08T08:47:01.657064Z"
    },
    "collapsed": true
   },
   "outputs": [],
   "source": [
    "class Deep_MF(gluon.HybridBlock):\n",
    "    def __init__(self, **kwargs):\n",
    "        super(Deep_MF, self).__init__(**kwargs)\n",
    "        with self.name_scope():\n",
    "            # layers created in name_scope will inherit name space\n",
    "            # from parent layer.\n",
    "            self.user = nn.Embedding(input_dim=250, output_dim=25)\n",
    "            self.movie = nn.Embedding(input_dim=250, output_dim=25)\n",
    "            \n",
    "            \n",
    "            self.out = gluon.nn.HybridSequential('output_')\n",
    "            with self.out.name_scope(): # Output layers to make regression result\n",
    "                self.out.add(nn.Flatten())\n",
    "                self.out.add(nn.Dense(64, activation='relu'))\n",
    "                self.out.add(nn.Dense(1)) # the last output layer\n",
    "            \n",
    "    def hybrid_forward(self, F, user_i, movie_i):\n",
    "        # Here `F` can be either mx.nd or mx.sym, x is the input data,\n",
    "        user_i = self.user(user_i)\n",
    "        movie_i = self.movie(movie_i)\n",
    "        \n",
    "        z = F.concat(user_i, movie_i) # Two latent layer(matrix) concat\n",
    "        z = self.out(z) # concat output -> flatten -> dense layer(64 dim) -> output layer(1 dim)\n",
    "        return z"
   ]
  },
  {
   "cell_type": "code",
   "execution_count": 16,
   "metadata": {
    "ExecuteTime": {
     "end_time": "2018-02-08T08:47:01.680265Z",
     "start_time": "2018-02-08T08:47:01.672185Z"
    },
    "collapsed": true
   },
   "outputs": [],
   "source": [
    "# model initialization\n",
    "model = Deep_MF()\n",
    "model.collect_params().initialize(mx.init.Xavier(), ctx=ctx)\n",
    "\n",
    "learning_rate = 1e-2 # 기존 Vanilla 모형에 비해 running 속도가 빠름, 그러나 학습속도가 느리기에 learning_rate를 높임\n",
    "criterion = gluon.loss.L2Loss()\n",
    "optimizer = gluon.Trainer(model.collect_params(), 'adam',\n",
    "                          {'learning_rate': learning_rate,\n",
    "                           'wd': 1e-5})"
   ]
  },
  {
   "cell_type": "code",
   "execution_count": 17,
   "metadata": {
    "ExecuteTime": {
     "end_time": "2018-02-08T08:48:48.258564Z",
     "start_time": "2018-02-08T08:47:01.681742Z"
    },
    "scrolled": true
   },
   "outputs": [
    {
     "name": "stdout",
     "output_type": "stream",
     "text": [
      "epoch [1/500], (rmse) loss:3.5841, (rmse) val_loss:2.2236\n",
      "epoch [2/500], (rmse) loss:3.5731, (rmse) val_loss:2.2232\n",
      "epoch [3/500], (rmse) loss:3.5583, (rmse) val_loss:2.2265\n",
      "epoch [4/500], (rmse) loss:3.5422, (rmse) val_loss:2.2374\n",
      "epoch [5/500], (rmse) loss:3.5320, (rmse) val_loss:2.2434\n",
      "epoch [6/500], (rmse) loss:3.5210, (rmse) val_loss:2.2332\n",
      "epoch [7/500], (rmse) loss:3.5066, (rmse) val_loss:2.2224\n",
      "epoch [8/500], (rmse) loss:3.4913, (rmse) val_loss:2.2159\n",
      "epoch [9/500], (rmse) loss:3.4703, (rmse) val_loss:2.2097\n",
      "epoch [10/500], (rmse) loss:3.4425, (rmse) val_loss:2.2039\n",
      "epoch [11/500], (rmse) loss:3.4083, (rmse) val_loss:2.1948\n",
      "epoch [12/500], (rmse) loss:3.3685, (rmse) val_loss:2.1811\n",
      "epoch [13/500], (rmse) loss:3.3248, (rmse) val_loss:2.1694\n",
      "epoch [14/500], (rmse) loss:3.2774, (rmse) val_loss:2.1591\n",
      "epoch [15/500], (rmse) loss:3.2261, (rmse) val_loss:2.1441\n",
      "epoch [16/500], (rmse) loss:3.1673, (rmse) val_loss:2.1255\n",
      "epoch [17/500], (rmse) loss:3.1077, (rmse) val_loss:2.1110\n",
      "epoch [18/500], (rmse) loss:3.0502, (rmse) val_loss:2.0970\n",
      "epoch [19/500], (rmse) loss:2.9968, (rmse) val_loss:2.0842\n",
      "epoch [20/500], (rmse) loss:2.9393, (rmse) val_loss:2.0742\n",
      "epoch [21/500], (rmse) loss:2.8844, (rmse) val_loss:2.0571\n",
      "epoch [22/500], (rmse) loss:2.8324, (rmse) val_loss:2.0406\n",
      "epoch [23/500], (rmse) loss:2.7828, (rmse) val_loss:2.0293\n",
      "epoch [24/500], (rmse) loss:2.7395, (rmse) val_loss:2.0151\n",
      "epoch [25/500], (rmse) loss:2.6970, (rmse) val_loss:2.0027\n",
      "epoch [26/500], (rmse) loss:2.6599, (rmse) val_loss:1.9943\n",
      "epoch [27/500], (rmse) loss:2.6246, (rmse) val_loss:1.9829\n",
      "epoch [28/500], (rmse) loss:2.5945, (rmse) val_loss:1.9762\n",
      "epoch [29/500], (rmse) loss:2.5662, (rmse) val_loss:1.9683\n",
      "epoch [30/500], (rmse) loss:2.5370, (rmse) val_loss:1.9596\n",
      "epoch [31/500], (rmse) loss:2.5101, (rmse) val_loss:1.9544\n",
      "epoch [32/500], (rmse) loss:2.4863, (rmse) val_loss:1.9484\n",
      "epoch [33/500], (rmse) loss:2.4604, (rmse) val_loss:1.9430\n",
      "epoch [34/500], (rmse) loss:2.4388, (rmse) val_loss:1.9386\n",
      "epoch [35/500], (rmse) loss:2.4168, (rmse) val_loss:1.9312\n",
      "epoch [36/500], (rmse) loss:2.3966, (rmse) val_loss:1.9307\n",
      "epoch [37/500], (rmse) loss:2.3785, (rmse) val_loss:1.9296\n",
      "epoch [38/500], (rmse) loss:2.3598, (rmse) val_loss:1.9224\n",
      "epoch [39/500], (rmse) loss:2.3384, (rmse) val_loss:1.9219\n",
      "epoch [40/500], (rmse) loss:2.3201, (rmse) val_loss:1.9143\n",
      "epoch [41/500], (rmse) loss:2.3024, (rmse) val_loss:1.9099\n",
      "epoch [42/500], (rmse) loss:2.2874, (rmse) val_loss:1.9069\n",
      "epoch [43/500], (rmse) loss:2.2682, (rmse) val_loss:1.8985\n",
      "epoch [44/500], (rmse) loss:2.2489, (rmse) val_loss:1.8921\n",
      "epoch [45/500], (rmse) loss:2.2332, (rmse) val_loss:1.8915\n",
      "epoch [46/500], (rmse) loss:2.2158, (rmse) val_loss:1.8894\n",
      "epoch [47/500], (rmse) loss:2.2011, (rmse) val_loss:1.8853\n",
      "epoch [48/500], (rmse) loss:2.1842, (rmse) val_loss:1.8840\n",
      "epoch [49/500], (rmse) loss:2.1696, (rmse) val_loss:1.8803\n",
      "epoch [50/500], (rmse) loss:2.1517, (rmse) val_loss:1.8762\n",
      "epoch [51/500], (rmse) loss:2.1376, (rmse) val_loss:1.8751\n",
      "epoch [52/500], (rmse) loss:2.1229, (rmse) val_loss:1.8703\n",
      "epoch [53/500], (rmse) loss:2.1061, (rmse) val_loss:1.8640\n",
      "epoch [54/500], (rmse) loss:2.0908, (rmse) val_loss:1.8650\n",
      "epoch [55/500], (rmse) loss:2.0764, (rmse) val_loss:1.8647\n",
      "epoch [56/500], (rmse) loss:2.0622, (rmse) val_loss:1.8578\n",
      "epoch [57/500], (rmse) loss:2.0477, (rmse) val_loss:1.8551\n",
      "epoch [58/500], (rmse) loss:2.0309, (rmse) val_loss:1.8586\n",
      "epoch [59/500], (rmse) loss:2.0180, (rmse) val_loss:1.8539\n",
      "epoch [60/500], (rmse) loss:2.0051, (rmse) val_loss:1.8501\n",
      "epoch [61/500], (rmse) loss:1.9901, (rmse) val_loss:1.8465\n",
      "epoch [62/500], (rmse) loss:1.9731, (rmse) val_loss:1.8474\n",
      "epoch [63/500], (rmse) loss:1.9622, (rmse) val_loss:1.8384\n",
      "epoch [64/500], (rmse) loss:1.9450, (rmse) val_loss:1.8346\n",
      "epoch [65/500], (rmse) loss:1.9307, (rmse) val_loss:1.8320\n",
      "epoch [66/500], (rmse) loss:1.9157, (rmse) val_loss:1.8284\n",
      "epoch [67/500], (rmse) loss:1.8999, (rmse) val_loss:1.8261\n",
      "epoch [68/500], (rmse) loss:1.8862, (rmse) val_loss:1.8219\n",
      "epoch [69/500], (rmse) loss:1.8731, (rmse) val_loss:1.8162\n",
      "epoch [70/500], (rmse) loss:1.8597, (rmse) val_loss:1.8141\n",
      "epoch [71/500], (rmse) loss:1.8458, (rmse) val_loss:1.8114\n",
      "epoch [72/500], (rmse) loss:1.8334, (rmse) val_loss:1.8092\n",
      "epoch [73/500], (rmse) loss:1.8219, (rmse) val_loss:1.8089\n",
      "epoch [74/500], (rmse) loss:1.8091, (rmse) val_loss:1.8055\n",
      "epoch [75/500], (rmse) loss:1.7965, (rmse) val_loss:1.8010\n",
      "epoch [76/500], (rmse) loss:1.7851, (rmse) val_loss:1.7975\n",
      "epoch [77/500], (rmse) loss:1.7706, (rmse) val_loss:1.7975\n",
      "epoch [78/500], (rmse) loss:1.7590, (rmse) val_loss:1.7950\n",
      "epoch [79/500], (rmse) loss:1.7458, (rmse) val_loss:1.7928\n",
      "epoch [80/500], (rmse) loss:1.7353, (rmse) val_loss:1.7888\n",
      "epoch [81/500], (rmse) loss:1.7241, (rmse) val_loss:1.7865\n",
      "epoch [82/500], (rmse) loss:1.7121, (rmse) val_loss:1.7851\n",
      "epoch [83/500], (rmse) loss:1.7023, (rmse) val_loss:1.7814\n",
      "epoch [84/500], (rmse) loss:1.6910, (rmse) val_loss:1.7820\n",
      "epoch [85/500], (rmse) loss:1.6795, (rmse) val_loss:1.7835\n",
      "epoch [86/500], (rmse) loss:1.6710, (rmse) val_loss:1.7762\n",
      "epoch [87/500], (rmse) loss:1.6592, (rmse) val_loss:1.7767\n",
      "epoch [88/500], (rmse) loss:1.6467, (rmse) val_loss:1.7714\n",
      "epoch [89/500], (rmse) loss:1.6381, (rmse) val_loss:1.7709\n",
      "epoch [90/500], (rmse) loss:1.6295, (rmse) val_loss:1.7700\n",
      "epoch [91/500], (rmse) loss:1.6202, (rmse) val_loss:1.7652\n",
      "epoch [92/500], (rmse) loss:1.6083, (rmse) val_loss:1.7648\n",
      "epoch [93/500], (rmse) loss:1.6016, (rmse) val_loss:1.7627\n",
      "epoch [94/500], (rmse) loss:1.5897, (rmse) val_loss:1.7594\n",
      "epoch [95/500], (rmse) loss:1.5802, (rmse) val_loss:1.7592\n",
      "epoch [96/500], (rmse) loss:1.5704, (rmse) val_loss:1.7562\n",
      "epoch [97/500], (rmse) loss:1.5608, (rmse) val_loss:1.7532\n",
      "epoch [98/500], (rmse) loss:1.5523, (rmse) val_loss:1.7535\n",
      "epoch [99/500], (rmse) loss:1.5411, (rmse) val_loss:1.7529\n",
      "epoch [100/500], (rmse) loss:1.5327, (rmse) val_loss:1.7509\n",
      "epoch [101/500], (rmse) loss:1.5270, (rmse) val_loss:1.7481\n",
      "epoch [102/500], (rmse) loss:1.5166, (rmse) val_loss:1.7509\n",
      "epoch [103/500], (rmse) loss:1.5072, (rmse) val_loss:1.7485\n",
      "epoch [104/500], (rmse) loss:1.4970, (rmse) val_loss:1.7458\n",
      "epoch [105/500], (rmse) loss:1.4910, (rmse) val_loss:1.7462\n",
      "epoch [106/500], (rmse) loss:1.4806, (rmse) val_loss:1.7445\n",
      "epoch [107/500], (rmse) loss:1.4730, (rmse) val_loss:1.7438\n",
      "epoch [108/500], (rmse) loss:1.4644, (rmse) val_loss:1.7444\n",
      "epoch [109/500], (rmse) loss:1.4546, (rmse) val_loss:1.7441\n",
      "epoch [110/500], (rmse) loss:1.4476, (rmse) val_loss:1.7425\n",
      "epoch [111/500], (rmse) loss:1.4383, (rmse) val_loss:1.7422\n",
      "epoch [112/500], (rmse) loss:1.4313, (rmse) val_loss:1.7418\n",
      "epoch [113/500], (rmse) loss:1.4234, (rmse) val_loss:1.7410\n",
      "epoch [114/500], (rmse) loss:1.4165, (rmse) val_loss:1.7395\n",
      "epoch [115/500], (rmse) loss:1.4102, (rmse) val_loss:1.7405\n",
      "epoch [116/500], (rmse) loss:1.4038, (rmse) val_loss:1.7442\n",
      "epoch [117/500], (rmse) loss:1.3990, (rmse) val_loss:1.7391\n",
      "epoch [118/500], (rmse) loss:1.3910, (rmse) val_loss:1.7394\n",
      "epoch [119/500], (rmse) loss:1.3832, (rmse) val_loss:1.7417\n",
      "epoch [120/500], (rmse) loss:1.3752, (rmse) val_loss:1.7397\n",
      "epoch [121/500], (rmse) loss:1.3679, (rmse) val_loss:1.7392\n",
      "epoch [122/500], (rmse) loss:1.3613, (rmse) val_loss:1.7419\n",
      "epoch [123/500], (rmse) loss:1.3564, (rmse) val_loss:1.7401\n",
      "epoch [124/500], (rmse) loss:1.3481, (rmse) val_loss:1.7396\n",
      "epoch [125/500], (rmse) loss:1.3407, (rmse) val_loss:1.7388\n",
      "epoch [126/500], (rmse) loss:1.3354, (rmse) val_loss:1.7403\n",
      "epoch [127/500], (rmse) loss:1.3306, (rmse) val_loss:1.7380\n",
      "epoch [128/500], (rmse) loss:1.3231, (rmse) val_loss:1.7434\n",
      "epoch [129/500], (rmse) loss:1.3169, (rmse) val_loss:1.7399\n",
      "epoch [130/500], (rmse) loss:1.3094, (rmse) val_loss:1.7407\n",
      "epoch [131/500], (rmse) loss:1.3058, (rmse) val_loss:1.7459\n",
      "epoch [132/500], (rmse) loss:1.3048, (rmse) val_loss:1.7399\n",
      "epoch [133/500], (rmse) loss:1.2995, (rmse) val_loss:1.7383\n",
      "epoch [134/500], (rmse) loss:1.2937, (rmse) val_loss:1.7444\n",
      "epoch [135/500], (rmse) loss:1.2865, (rmse) val_loss:1.7364\n",
      "epoch [136/500], (rmse) loss:1.2791, (rmse) val_loss:1.7389\n",
      "epoch [137/500], (rmse) loss:1.2733, (rmse) val_loss:1.7392\n",
      "epoch [138/500], (rmse) loss:1.2687, (rmse) val_loss:1.7398\n",
      "epoch [139/500], (rmse) loss:1.2628, (rmse) val_loss:1.7412\n"
     ]
    },
    {
     "name": "stdout",
     "output_type": "stream",
     "text": [
      "epoch [140/500], (rmse) loss:1.2566, (rmse) val_loss:1.7404\n",
      "epoch [141/500], (rmse) loss:1.2516, (rmse) val_loss:1.7408\n",
      "epoch [142/500], (rmse) loss:1.2461, (rmse) val_loss:1.7390\n",
      "epoch [143/500], (rmse) loss:1.2435, (rmse) val_loss:1.7427\n",
      "epoch [144/500], (rmse) loss:1.2412, (rmse) val_loss:1.7416\n",
      "epoch [145/500], (rmse) loss:1.2335, (rmse) val_loss:1.7420\n",
      "epoch [146/500], (rmse) loss:1.2284, (rmse) val_loss:1.7416\n",
      "epoch [147/500], (rmse) loss:1.2232, (rmse) val_loss:1.7437\n",
      "epoch [148/500], (rmse) loss:1.2167, (rmse) val_loss:1.7421\n",
      "epoch [149/500], (rmse) loss:1.2135, (rmse) val_loss:1.7437\n",
      "epoch [150/500], (rmse) loss:1.2087, (rmse) val_loss:1.7454\n",
      "epoch [151/500], (rmse) loss:1.2076, (rmse) val_loss:1.7422\n",
      "epoch [152/500], (rmse) loss:1.2019, (rmse) val_loss:1.7421\n",
      "epoch [153/500], (rmse) loss:1.1982, (rmse) val_loss:1.7448\n",
      "epoch [154/500], (rmse) loss:1.1934, (rmse) val_loss:1.7412\n",
      "epoch [155/500], (rmse) loss:1.1918, (rmse) val_loss:1.7449\n",
      "epoch [156/500], (rmse) loss:1.1855, (rmse) val_loss:1.7429\n",
      "epoch [157/500], (rmse) loss:1.1793, (rmse) val_loss:1.7415\n",
      "epoch [158/500], (rmse) loss:1.1743, (rmse) val_loss:1.7444\n",
      "epoch [159/500], (rmse) loss:1.1706, (rmse) val_loss:1.7408\n",
      "epoch [160/500], (rmse) loss:1.1654, (rmse) val_loss:1.7420\n",
      "epoch [161/500], (rmse) loss:1.1621, (rmse) val_loss:1.7403\n",
      "epoch [162/500], (rmse) loss:1.1580, (rmse) val_loss:1.7411\n",
      "epoch [163/500], (rmse) loss:1.1544, (rmse) val_loss:1.7401\n",
      "epoch [164/500], (rmse) loss:1.1520, (rmse) val_loss:1.7415\n",
      "epoch [165/500], (rmse) loss:1.1462, (rmse) val_loss:1.7395\n",
      "epoch [166/500], (rmse) loss:1.1435, (rmse) val_loss:1.7409\n",
      "epoch [167/500], (rmse) loss:1.1424, (rmse) val_loss:1.7410\n",
      "epoch [168/500], (rmse) loss:1.1400, (rmse) val_loss:1.7449\n",
      "epoch [169/500], (rmse) loss:1.1365, (rmse) val_loss:1.7416\n",
      "epoch [170/500], (rmse) loss:1.1341, (rmse) val_loss:1.7376\n",
      "epoch [171/500], (rmse) loss:1.1279, (rmse) val_loss:1.7423\n",
      "epoch [172/500], (rmse) loss:1.1262, (rmse) val_loss:1.7389\n",
      "epoch [173/500], (rmse) loss:1.1215, (rmse) val_loss:1.7426\n",
      "epoch [174/500], (rmse) loss:1.1180, (rmse) val_loss:1.7380\n",
      "epoch [175/500], (rmse) loss:1.1144, (rmse) val_loss:1.7440\n",
      "epoch [176/500], (rmse) loss:1.1136, (rmse) val_loss:1.7416\n",
      "epoch [177/500], (rmse) loss:1.1080, (rmse) val_loss:1.7379\n",
      "epoch [178/500], (rmse) loss:1.1032, (rmse) val_loss:1.7405\n",
      "epoch [179/500], (rmse) loss:1.1004, (rmse) val_loss:1.7388\n",
      "epoch [180/500], (rmse) loss:1.0986, (rmse) val_loss:1.7399\n",
      "epoch [181/500], (rmse) loss:1.0946, (rmse) val_loss:1.7392\n",
      "epoch [182/500], (rmse) loss:1.0955, (rmse) val_loss:1.7413\n",
      "epoch [183/500], (rmse) loss:1.0921, (rmse) val_loss:1.7387\n",
      "epoch [184/500], (rmse) loss:1.0913, (rmse) val_loss:1.7373\n",
      "epoch [185/500], (rmse) loss:1.0866, (rmse) val_loss:1.7397\n",
      "epoch [186/500], (rmse) loss:1.0800, (rmse) val_loss:1.7381\n",
      "epoch [187/500], (rmse) loss:1.0778, (rmse) val_loss:1.7394\n",
      "epoch [188/500], (rmse) loss:1.0745, (rmse) val_loss:1.7364\n",
      "epoch [189/500], (rmse) loss:1.0699, (rmse) val_loss:1.7375\n",
      "epoch [190/500], (rmse) loss:1.0697, (rmse) val_loss:1.7422\n",
      "epoch [191/500], (rmse) loss:1.0707, (rmse) val_loss:1.7401\n",
      "epoch [192/500], (rmse) loss:1.0662, (rmse) val_loss:1.7381\n",
      "epoch [193/500], (rmse) loss:1.0649, (rmse) val_loss:1.7396\n",
      "epoch [194/500], (rmse) loss:1.0583, (rmse) val_loss:1.7417\n",
      "epoch [195/500], (rmse) loss:1.0569, (rmse) val_loss:1.7398\n",
      "epoch [196/500], (rmse) loss:1.0545, (rmse) val_loss:1.7386\n",
      "epoch [197/500], (rmse) loss:1.0499, (rmse) val_loss:1.7373\n",
      "epoch [198/500], (rmse) loss:1.0475, (rmse) val_loss:1.7394\n",
      "epoch [199/500], (rmse) loss:1.0438, (rmse) val_loss:1.7388\n",
      "epoch [200/500], (rmse) loss:1.0439, (rmse) val_loss:1.7372\n",
      "epoch [201/500], (rmse) loss:1.0394, (rmse) val_loss:1.7400\n",
      "epoch [202/500], (rmse) loss:1.0374, (rmse) val_loss:1.7351\n",
      "epoch [203/500], (rmse) loss:1.0330, (rmse) val_loss:1.7375\n",
      "epoch [204/500], (rmse) loss:1.0314, (rmse) val_loss:1.7358\n",
      "epoch [205/500], (rmse) loss:1.0303, (rmse) val_loss:1.7388\n",
      "epoch [206/500], (rmse) loss:1.0295, (rmse) val_loss:1.7376\n",
      "epoch [207/500], (rmse) loss:1.0250, (rmse) val_loss:1.7379\n",
      "epoch [208/500], (rmse) loss:1.0237, (rmse) val_loss:1.7372\n",
      "epoch [209/500], (rmse) loss:1.0212, (rmse) val_loss:1.7376\n",
      "epoch [210/500], (rmse) loss:1.0190, (rmse) val_loss:1.7383\n",
      "epoch [211/500], (rmse) loss:1.0158, (rmse) val_loss:1.7358\n",
      "epoch [212/500], (rmse) loss:1.0131, (rmse) val_loss:1.7364\n",
      "epoch [213/500], (rmse) loss:1.0098, (rmse) val_loss:1.7357\n",
      "epoch [214/500], (rmse) loss:1.0077, (rmse) val_loss:1.7387\n",
      "epoch [215/500], (rmse) loss:1.0045, (rmse) val_loss:1.7387\n",
      "epoch [216/500], (rmse) loss:1.0026, (rmse) val_loss:1.7379\n",
      "epoch [217/500], (rmse) loss:0.9995, (rmse) val_loss:1.7387\n",
      "epoch [218/500], (rmse) loss:0.9985, (rmse) val_loss:1.7373\n",
      "epoch [219/500], (rmse) loss:0.9963, (rmse) val_loss:1.7388\n",
      "epoch [220/500], (rmse) loss:0.9949, (rmse) val_loss:1.7405\n",
      "epoch [221/500], (rmse) loss:0.9947, (rmse) val_loss:1.7396\n",
      "epoch [222/500], (rmse) loss:0.9960, (rmse) val_loss:1.7409\n",
      "epoch [223/500], (rmse) loss:0.9953, (rmse) val_loss:1.7407\n",
      "epoch [224/500], (rmse) loss:0.9910, (rmse) val_loss:1.7424\n",
      "epoch [225/500], (rmse) loss:0.9897, (rmse) val_loss:1.7432\n",
      "epoch [226/500], (rmse) loss:0.9860, (rmse) val_loss:1.7433\n",
      "epoch [227/500], (rmse) loss:0.9827, (rmse) val_loss:1.7429\n",
      "epoch [228/500], (rmse) loss:0.9825, (rmse) val_loss:1.7445\n",
      "epoch [229/500], (rmse) loss:0.9819, (rmse) val_loss:1.7436\n",
      "epoch [230/500], (rmse) loss:0.9775, (rmse) val_loss:1.7454\n",
      "epoch [231/500], (rmse) loss:0.9801, (rmse) val_loss:1.7419\n",
      "epoch [232/500], (rmse) loss:0.9774, (rmse) val_loss:1.7428\n",
      "epoch [233/500], (rmse) loss:0.9761, (rmse) val_loss:1.7459\n",
      "epoch [234/500], (rmse) loss:0.9756, (rmse) val_loss:1.7417\n",
      "epoch [235/500], (rmse) loss:0.9719, (rmse) val_loss:1.7432\n",
      "epoch [236/500], (rmse) loss:0.9672, (rmse) val_loss:1.7454\n",
      "epoch [237/500], (rmse) loss:0.9659, (rmse) val_loss:1.7418\n",
      "epoch [238/500], (rmse) loss:0.9651, (rmse) val_loss:1.7483\n",
      "epoch [239/500], (rmse) loss:0.9636, (rmse) val_loss:1.7404\n",
      "epoch [240/500], (rmse) loss:0.9655, (rmse) val_loss:1.7481\n",
      "epoch [241/500], (rmse) loss:0.9655, (rmse) val_loss:1.7436\n",
      "epoch [242/500], (rmse) loss:0.9652, (rmse) val_loss:1.7454\n",
      "epoch [243/500], (rmse) loss:0.9598, (rmse) val_loss:1.7436\n",
      "epoch [244/500], (rmse) loss:0.9566, (rmse) val_loss:1.7499\n",
      "epoch [245/500], (rmse) loss:0.9544, (rmse) val_loss:1.7438\n",
      "epoch [246/500], (rmse) loss:0.9524, (rmse) val_loss:1.7470\n",
      "epoch [247/500], (rmse) loss:0.9506, (rmse) val_loss:1.7462\n",
      "epoch [248/500], (rmse) loss:0.9507, (rmse) val_loss:1.7451\n",
      "epoch [249/500], (rmse) loss:0.9465, (rmse) val_loss:1.7469\n",
      "epoch [250/500], (rmse) loss:0.9454, (rmse) val_loss:1.7443\n",
      "epoch [251/500], (rmse) loss:0.9444, (rmse) val_loss:1.7452\n",
      "epoch [252/500], (rmse) loss:0.9431, (rmse) val_loss:1.7469\n",
      "epoch [253/500], (rmse) loss:0.9417, (rmse) val_loss:1.7467\n",
      "epoch [254/500], (rmse) loss:0.9387, (rmse) val_loss:1.7473\n",
      "epoch [255/500], (rmse) loss:0.9357, (rmse) val_loss:1.7464\n",
      "epoch [256/500], (rmse) loss:0.9367, (rmse) val_loss:1.7481\n",
      "epoch [257/500], (rmse) loss:0.9346, (rmse) val_loss:1.7457\n",
      "epoch [258/500], (rmse) loss:0.9333, (rmse) val_loss:1.7494\n",
      "epoch [259/500], (rmse) loss:0.9337, (rmse) val_loss:1.7511\n",
      "epoch [260/500], (rmse) loss:0.9315, (rmse) val_loss:1.7491\n",
      "epoch [261/500], (rmse) loss:0.9306, (rmse) val_loss:1.7526\n",
      "epoch [262/500], (rmse) loss:0.9278, (rmse) val_loss:1.7503\n",
      "epoch [263/500], (rmse) loss:0.9262, (rmse) val_loss:1.7479\n",
      "epoch [264/500], (rmse) loss:0.9248, (rmse) val_loss:1.7535\n",
      "epoch [265/500], (rmse) loss:0.9232, (rmse) val_loss:1.7480\n",
      "epoch [266/500], (rmse) loss:0.9192, (rmse) val_loss:1.7532\n",
      "epoch [267/500], (rmse) loss:0.9169, (rmse) val_loss:1.7486\n",
      "epoch [268/500], (rmse) loss:0.9143, (rmse) val_loss:1.7520\n",
      "epoch [269/500], (rmse) loss:0.9143, (rmse) val_loss:1.7504\n",
      "epoch [270/500], (rmse) loss:0.9141, (rmse) val_loss:1.7514\n",
      "epoch [271/500], (rmse) loss:0.9118, (rmse) val_loss:1.7512\n",
      "epoch [272/500], (rmse) loss:0.9126, (rmse) val_loss:1.7515\n",
      "epoch [273/500], (rmse) loss:0.9118, (rmse) val_loss:1.7528\n",
      "epoch [274/500], (rmse) loss:0.9075, (rmse) val_loss:1.7504\n",
      "epoch [275/500], (rmse) loss:0.9044, (rmse) val_loss:1.7504\n",
      "epoch [276/500], (rmse) loss:0.9029, (rmse) val_loss:1.7528\n",
      "epoch [277/500], (rmse) loss:0.9028, (rmse) val_loss:1.7518\n"
     ]
    },
    {
     "name": "stdout",
     "output_type": "stream",
     "text": [
      "epoch [278/500], (rmse) loss:0.9027, (rmse) val_loss:1.7546\n",
      "epoch [279/500], (rmse) loss:0.9037, (rmse) val_loss:1.7558\n",
      "epoch [280/500], (rmse) loss:0.9054, (rmse) val_loss:1.7541\n",
      "epoch [281/500], (rmse) loss:0.9039, (rmse) val_loss:1.7608\n",
      "epoch [282/500], (rmse) loss:0.9034, (rmse) val_loss:1.7554\n",
      "epoch [283/500], (rmse) loss:0.8998, (rmse) val_loss:1.7552\n",
      "epoch [284/500], (rmse) loss:0.8972, (rmse) val_loss:1.7576\n",
      "epoch [285/500], (rmse) loss:0.8992, (rmse) val_loss:1.7554\n",
      "epoch [286/500], (rmse) loss:0.8999, (rmse) val_loss:1.7553\n",
      "epoch [287/500], (rmse) loss:0.8934, (rmse) val_loss:1.7578\n",
      "epoch [288/500], (rmse) loss:0.8911, (rmse) val_loss:1.7547\n",
      "epoch [289/500], (rmse) loss:0.8907, (rmse) val_loss:1.7565\n",
      "epoch [290/500], (rmse) loss:0.8877, (rmse) val_loss:1.7600\n",
      "epoch [291/500], (rmse) loss:0.8870, (rmse) val_loss:1.7559\n",
      "epoch [292/500], (rmse) loss:0.8867, (rmse) val_loss:1.7617\n",
      "epoch [293/500], (rmse) loss:0.8859, (rmse) val_loss:1.7576\n",
      "epoch [294/500], (rmse) loss:0.8852, (rmse) val_loss:1.7601\n",
      "epoch [295/500], (rmse) loss:0.8850, (rmse) val_loss:1.7607\n",
      "epoch [296/500], (rmse) loss:0.8801, (rmse) val_loss:1.7601\n",
      "epoch [297/500], (rmse) loss:0.8807, (rmse) val_loss:1.7638\n",
      "epoch [298/500], (rmse) loss:0.8820, (rmse) val_loss:1.7609\n",
      "epoch [299/500], (rmse) loss:0.8783, (rmse) val_loss:1.7618\n",
      "epoch [300/500], (rmse) loss:0.8806, (rmse) val_loss:1.7633\n",
      "epoch [301/500], (rmse) loss:0.8781, (rmse) val_loss:1.7615\n",
      "epoch [302/500], (rmse) loss:0.8744, (rmse) val_loss:1.7608\n",
      "epoch [303/500], (rmse) loss:0.8734, (rmse) val_loss:1.7628\n",
      "epoch [304/500], (rmse) loss:0.8726, (rmse) val_loss:1.7629\n",
      "epoch [305/500], (rmse) loss:0.8740, (rmse) val_loss:1.7611\n",
      "epoch [306/500], (rmse) loss:0.8694, (rmse) val_loss:1.7627\n",
      "epoch [307/500], (rmse) loss:0.8709, (rmse) val_loss:1.7630\n",
      "epoch [308/500], (rmse) loss:0.8716, (rmse) val_loss:1.7675\n",
      "epoch [309/500], (rmse) loss:0.8718, (rmse) val_loss:1.7636\n",
      "epoch [310/500], (rmse) loss:0.8718, (rmse) val_loss:1.7694\n",
      "epoch [311/500], (rmse) loss:0.8686, (rmse) val_loss:1.7631\n",
      "epoch [312/500], (rmse) loss:0.8692, (rmse) val_loss:1.7677\n",
      "epoch [313/500], (rmse) loss:0.8694, (rmse) val_loss:1.7665\n",
      "epoch [314/500], (rmse) loss:0.8649, (rmse) val_loss:1.7660\n",
      "epoch [315/500], (rmse) loss:0.8641, (rmse) val_loss:1.7700\n",
      "epoch [316/500], (rmse) loss:0.8639, (rmse) val_loss:1.7681\n",
      "epoch [317/500], (rmse) loss:0.8606, (rmse) val_loss:1.7679\n",
      "epoch [318/500], (rmse) loss:0.8577, (rmse) val_loss:1.7716\n",
      "epoch [319/500], (rmse) loss:0.8572, (rmse) val_loss:1.7677\n",
      "epoch [320/500], (rmse) loss:0.8553, (rmse) val_loss:1.7688\n",
      "epoch [321/500], (rmse) loss:0.8545, (rmse) val_loss:1.7711\n",
      "epoch [322/500], (rmse) loss:0.8561, (rmse) val_loss:1.7712\n",
      "epoch [323/500], (rmse) loss:0.8573, (rmse) val_loss:1.7715\n",
      "epoch [324/500], (rmse) loss:0.8561, (rmse) val_loss:1.7718\n",
      "epoch [325/500], (rmse) loss:0.8508, (rmse) val_loss:1.7723\n",
      "epoch [326/500], (rmse) loss:0.8488, (rmse) val_loss:1.7701\n",
      "epoch [327/500], (rmse) loss:0.8485, (rmse) val_loss:1.7706\n",
      "epoch [328/500], (rmse) loss:0.8471, (rmse) val_loss:1.7709\n",
      "epoch [329/500], (rmse) loss:0.8481, (rmse) val_loss:1.7700\n",
      "epoch [330/500], (rmse) loss:0.8456, (rmse) val_loss:1.7736\n",
      "epoch [331/500], (rmse) loss:0.8452, (rmse) val_loss:1.7732\n",
      "epoch [332/500], (rmse) loss:0.8434, (rmse) val_loss:1.7726\n",
      "epoch [333/500], (rmse) loss:0.8423, (rmse) val_loss:1.7749\n",
      "epoch [334/500], (rmse) loss:0.8423, (rmse) val_loss:1.7764\n",
      "epoch [335/500], (rmse) loss:0.8452, (rmse) val_loss:1.7752\n",
      "epoch [336/500], (rmse) loss:0.8434, (rmse) val_loss:1.7772\n",
      "epoch [337/500], (rmse) loss:0.8424, (rmse) val_loss:1.7766\n",
      "epoch [338/500], (rmse) loss:0.8447, (rmse) val_loss:1.7761\n",
      "epoch [339/500], (rmse) loss:0.8379, (rmse) val_loss:1.7753\n",
      "epoch [340/500], (rmse) loss:0.8371, (rmse) val_loss:1.7765\n",
      "epoch [341/500], (rmse) loss:0.8366, (rmse) val_loss:1.7757\n",
      "epoch [342/500], (rmse) loss:0.8359, (rmse) val_loss:1.7765\n",
      "epoch [343/500], (rmse) loss:0.8366, (rmse) val_loss:1.7771\n",
      "epoch [344/500], (rmse) loss:0.8331, (rmse) val_loss:1.7781\n",
      "epoch [345/500], (rmse) loss:0.8335, (rmse) val_loss:1.7771\n",
      "epoch [346/500], (rmse) loss:0.8324, (rmse) val_loss:1.7759\n",
      "epoch [347/500], (rmse) loss:0.8310, (rmse) val_loss:1.7791\n",
      "epoch [348/500], (rmse) loss:0.8286, (rmse) val_loss:1.7770\n",
      "epoch [349/500], (rmse) loss:0.8284, (rmse) val_loss:1.7797\n",
      "epoch [350/500], (rmse) loss:0.8295, (rmse) val_loss:1.7811\n",
      "epoch [351/500], (rmse) loss:0.8284, (rmse) val_loss:1.7755\n",
      "epoch [352/500], (rmse) loss:0.8298, (rmse) val_loss:1.7798\n",
      "epoch [353/500], (rmse) loss:0.8251, (rmse) val_loss:1.7791\n",
      "epoch [354/500], (rmse) loss:0.8251, (rmse) val_loss:1.7833\n",
      "epoch [355/500], (rmse) loss:0.8260, (rmse) val_loss:1.7809\n",
      "epoch [356/500], (rmse) loss:0.8245, (rmse) val_loss:1.7836\n",
      "epoch [357/500], (rmse) loss:0.8248, (rmse) val_loss:1.7809\n",
      "epoch [358/500], (rmse) loss:0.8225, (rmse) val_loss:1.7841\n",
      "epoch [359/500], (rmse) loss:0.8228, (rmse) val_loss:1.7797\n",
      "epoch [360/500], (rmse) loss:0.8182, (rmse) val_loss:1.7808\n",
      "epoch [361/500], (rmse) loss:0.8162, (rmse) val_loss:1.7805\n",
      "epoch [362/500], (rmse) loss:0.8178, (rmse) val_loss:1.7844\n",
      "epoch [363/500], (rmse) loss:0.8201, (rmse) val_loss:1.7835\n",
      "epoch [364/500], (rmse) loss:0.8223, (rmse) val_loss:1.7828\n",
      "epoch [365/500], (rmse) loss:0.8185, (rmse) val_loss:1.7851\n",
      "epoch [366/500], (rmse) loss:0.8190, (rmse) val_loss:1.7831\n",
      "epoch [367/500], (rmse) loss:0.8169, (rmse) val_loss:1.7881\n",
      "epoch [368/500], (rmse) loss:0.8162, (rmse) val_loss:1.7834\n",
      "epoch [369/500], (rmse) loss:0.8101, (rmse) val_loss:1.7853\n",
      "epoch [370/500], (rmse) loss:0.8093, (rmse) val_loss:1.7859\n",
      "epoch [371/500], (rmse) loss:0.8106, (rmse) val_loss:1.7856\n",
      "epoch [372/500], (rmse) loss:0.8087, (rmse) val_loss:1.7881\n",
      "epoch [373/500], (rmse) loss:0.8112, (rmse) val_loss:1.7853\n",
      "epoch [374/500], (rmse) loss:0.8112, (rmse) val_loss:1.7898\n",
      "epoch [375/500], (rmse) loss:0.8102, (rmse) val_loss:1.7850\n",
      "epoch [376/500], (rmse) loss:0.8089, (rmse) val_loss:1.7873\n",
      "epoch [377/500], (rmse) loss:0.8060, (rmse) val_loss:1.7863\n",
      "epoch [378/500], (rmse) loss:0.8049, (rmse) val_loss:1.7866\n",
      "epoch [379/500], (rmse) loss:0.8021, (rmse) val_loss:1.7905\n",
      "epoch [380/500], (rmse) loss:0.8056, (rmse) val_loss:1.7873\n",
      "epoch [381/500], (rmse) loss:0.8060, (rmse) val_loss:1.7874\n",
      "epoch [382/500], (rmse) loss:0.8057, (rmse) val_loss:1.7872\n",
      "epoch [383/500], (rmse) loss:0.8017, (rmse) val_loss:1.7888\n",
      "epoch [384/500], (rmse) loss:0.7994, (rmse) val_loss:1.7897\n",
      "epoch [385/500], (rmse) loss:0.8009, (rmse) val_loss:1.7878\n",
      "epoch [386/500], (rmse) loss:0.8003, (rmse) val_loss:1.7907\n",
      "epoch [387/500], (rmse) loss:0.7987, (rmse) val_loss:1.7886\n",
      "epoch [388/500], (rmse) loss:0.7960, (rmse) val_loss:1.7894\n",
      "epoch [389/500], (rmse) loss:0.7946, (rmse) val_loss:1.7872\n",
      "epoch [390/500], (rmse) loss:0.7960, (rmse) val_loss:1.7896\n",
      "epoch [391/500], (rmse) loss:0.7953, (rmse) val_loss:1.7904\n",
      "epoch [392/500], (rmse) loss:0.7976, (rmse) val_loss:1.7913\n",
      "epoch [393/500], (rmse) loss:0.7957, (rmse) val_loss:1.7902\n",
      "epoch [394/500], (rmse) loss:0.7940, (rmse) val_loss:1.7927\n",
      "epoch [395/500], (rmse) loss:0.7936, (rmse) val_loss:1.7919\n",
      "epoch [396/500], (rmse) loss:0.7907, (rmse) val_loss:1.7926\n",
      "epoch [397/500], (rmse) loss:0.7918, (rmse) val_loss:1.7916\n",
      "epoch [398/500], (rmse) loss:0.7888, (rmse) val_loss:1.7920\n",
      "epoch [399/500], (rmse) loss:0.7906, (rmse) val_loss:1.7944\n",
      "epoch [400/500], (rmse) loss:0.7924, (rmse) val_loss:1.7958\n",
      "epoch [401/500], (rmse) loss:0.7902, (rmse) val_loss:1.7926\n",
      "epoch [402/500], (rmse) loss:0.7904, (rmse) val_loss:1.7938\n",
      "epoch [403/500], (rmse) loss:0.7917, (rmse) val_loss:1.7946\n",
      "epoch [404/500], (rmse) loss:0.7938, (rmse) val_loss:1.7913\n",
      "epoch [405/500], (rmse) loss:0.7912, (rmse) val_loss:1.7944\n",
      "epoch [406/500], (rmse) loss:0.7896, (rmse) val_loss:1.7918\n",
      "epoch [407/500], (rmse) loss:0.7901, (rmse) val_loss:1.7972\n",
      "epoch [408/500], (rmse) loss:0.7960, (rmse) val_loss:1.7941\n",
      "epoch [409/500], (rmse) loss:0.7915, (rmse) val_loss:1.7954\n",
      "epoch [410/500], (rmse) loss:0.7940, (rmse) val_loss:1.7965\n",
      "epoch [411/500], (rmse) loss:0.7882, (rmse) val_loss:1.7950\n",
      "epoch [412/500], (rmse) loss:0.7895, (rmse) val_loss:1.7971\n",
      "epoch [413/500], (rmse) loss:0.7869, (rmse) val_loss:1.7990\n",
      "epoch [414/500], (rmse) loss:0.7862, (rmse) val_loss:1.7984\n",
      "epoch [415/500], (rmse) loss:0.7867, (rmse) val_loss:1.7982\n"
     ]
    },
    {
     "name": "stdout",
     "output_type": "stream",
     "text": [
      "epoch [416/500], (rmse) loss:0.7853, (rmse) val_loss:1.7972\n",
      "epoch [417/500], (rmse) loss:0.7837, (rmse) val_loss:1.7986\n",
      "epoch [418/500], (rmse) loss:0.7880, (rmse) val_loss:1.7964\n",
      "epoch [419/500], (rmse) loss:0.7885, (rmse) val_loss:1.8015\n",
      "epoch [420/500], (rmse) loss:0.7854, (rmse) val_loss:1.7992\n",
      "epoch [421/500], (rmse) loss:0.7860, (rmse) val_loss:1.7990\n",
      "epoch [422/500], (rmse) loss:0.7837, (rmse) val_loss:1.8000\n",
      "epoch [423/500], (rmse) loss:0.7840, (rmse) val_loss:1.7979\n",
      "epoch [424/500], (rmse) loss:0.7770, (rmse) val_loss:1.7982\n",
      "epoch [425/500], (rmse) loss:0.7778, (rmse) val_loss:1.8029\n",
      "epoch [426/500], (rmse) loss:0.7805, (rmse) val_loss:1.8002\n",
      "epoch [427/500], (rmse) loss:0.7806, (rmse) val_loss:1.7972\n",
      "epoch [428/500], (rmse) loss:0.7763, (rmse) val_loss:1.8004\n",
      "epoch [429/500], (rmse) loss:0.7788, (rmse) val_loss:1.8008\n",
      "epoch [430/500], (rmse) loss:0.7773, (rmse) val_loss:1.7991\n",
      "epoch [431/500], (rmse) loss:0.7742, (rmse) val_loss:1.8015\n",
      "epoch [432/500], (rmse) loss:0.7732, (rmse) val_loss:1.7994\n",
      "epoch [433/500], (rmse) loss:0.7741, (rmse) val_loss:1.8019\n",
      "epoch [434/500], (rmse) loss:0.7717, (rmse) val_loss:1.7997\n",
      "epoch [435/500], (rmse) loss:0.7688, (rmse) val_loss:1.8004\n",
      "epoch [436/500], (rmse) loss:0.7695, (rmse) val_loss:1.8023\n",
      "epoch [437/500], (rmse) loss:0.7674, (rmse) val_loss:1.8018\n",
      "epoch [438/500], (rmse) loss:0.7660, (rmse) val_loss:1.8028\n",
      "epoch [439/500], (rmse) loss:0.7651, (rmse) val_loss:1.8016\n",
      "epoch [440/500], (rmse) loss:0.7638, (rmse) val_loss:1.7998\n",
      "epoch [441/500], (rmse) loss:0.7653, (rmse) val_loss:1.8008\n",
      "epoch [442/500], (rmse) loss:0.7664, (rmse) val_loss:1.8045\n",
      "epoch [443/500], (rmse) loss:0.7692, (rmse) val_loss:1.8018\n",
      "epoch [444/500], (rmse) loss:0.7660, (rmse) val_loss:1.8062\n",
      "epoch [445/500], (rmse) loss:0.7694, (rmse) val_loss:1.8028\n",
      "epoch [446/500], (rmse) loss:0.7670, (rmse) val_loss:1.8040\n",
      "epoch [447/500], (rmse) loss:0.7668, (rmse) val_loss:1.8039\n",
      "epoch [448/500], (rmse) loss:0.7712, (rmse) val_loss:1.8031\n",
      "epoch [449/500], (rmse) loss:0.7703, (rmse) val_loss:1.8046\n",
      "epoch [450/500], (rmse) loss:0.7719, (rmse) val_loss:1.8058\n",
      "epoch [451/500], (rmse) loss:0.7671, (rmse) val_loss:1.8048\n",
      "epoch [452/500], (rmse) loss:0.7638, (rmse) val_loss:1.8038\n",
      "epoch [453/500], (rmse) loss:0.7658, (rmse) val_loss:1.8045\n",
      "epoch [454/500], (rmse) loss:0.7606, (rmse) val_loss:1.8080\n",
      "epoch [455/500], (rmse) loss:0.7631, (rmse) val_loss:1.8048\n",
      "epoch [456/500], (rmse) loss:0.7617, (rmse) val_loss:1.8069\n",
      "epoch [457/500], (rmse) loss:0.7607, (rmse) val_loss:1.8052\n",
      "epoch [458/500], (rmse) loss:0.7607, (rmse) val_loss:1.8044\n",
      "epoch [459/500], (rmse) loss:0.7624, (rmse) val_loss:1.8053\n",
      "epoch [460/500], (rmse) loss:0.7623, (rmse) val_loss:1.8072\n",
      "epoch [461/500], (rmse) loss:0.7612, (rmse) val_loss:1.8067\n",
      "epoch [462/500], (rmse) loss:0.7628, (rmse) val_loss:1.8080\n",
      "epoch [463/500], (rmse) loss:0.7628, (rmse) val_loss:1.8047\n",
      "epoch [464/500], (rmse) loss:0.7637, (rmse) val_loss:1.8084\n",
      "epoch [465/500], (rmse) loss:0.7637, (rmse) val_loss:1.8102\n",
      "epoch [466/500], (rmse) loss:0.7634, (rmse) val_loss:1.8075\n",
      "epoch [467/500], (rmse) loss:0.7622, (rmse) val_loss:1.8064\n",
      "epoch [468/500], (rmse) loss:0.7596, (rmse) val_loss:1.8069\n",
      "epoch [469/500], (rmse) loss:0.7587, (rmse) val_loss:1.8081\n",
      "epoch [470/500], (rmse) loss:0.7570, (rmse) val_loss:1.8062\n",
      "epoch [471/500], (rmse) loss:0.7561, (rmse) val_loss:1.8095\n",
      "epoch [472/500], (rmse) loss:0.7563, (rmse) val_loss:1.8070\n",
      "epoch [473/500], (rmse) loss:0.7532, (rmse) val_loss:1.8048\n",
      "epoch [474/500], (rmse) loss:0.7573, (rmse) val_loss:1.8098\n",
      "epoch [475/500], (rmse) loss:0.7571, (rmse) val_loss:1.8064\n",
      "epoch [476/500], (rmse) loss:0.7561, (rmse) val_loss:1.8086\n",
      "epoch [477/500], (rmse) loss:0.7573, (rmse) val_loss:1.8073\n",
      "epoch [478/500], (rmse) loss:0.7562, (rmse) val_loss:1.8115\n",
      "epoch [479/500], (rmse) loss:0.7568, (rmse) val_loss:1.8062\n",
      "epoch [480/500], (rmse) loss:0.7543, (rmse) val_loss:1.8070\n",
      "epoch [481/500], (rmse) loss:0.7535, (rmse) val_loss:1.8093\n",
      "epoch [482/500], (rmse) loss:0.7523, (rmse) val_loss:1.8080\n",
      "epoch [483/500], (rmse) loss:0.7525, (rmse) val_loss:1.8093\n",
      "epoch [484/500], (rmse) loss:0.7556, (rmse) val_loss:1.8119\n",
      "epoch [485/500], (rmse) loss:0.7557, (rmse) val_loss:1.8113\n",
      "epoch [486/500], (rmse) loss:0.7545, (rmse) val_loss:1.8111\n",
      "epoch [487/500], (rmse) loss:0.7517, (rmse) val_loss:1.8103\n",
      "epoch [488/500], (rmse) loss:0.7460, (rmse) val_loss:1.8109\n",
      "epoch [489/500], (rmse) loss:0.7493, (rmse) val_loss:1.8098\n",
      "epoch [490/500], (rmse) loss:0.7492, (rmse) val_loss:1.8161\n",
      "epoch [491/500], (rmse) loss:0.7488, (rmse) val_loss:1.8087\n",
      "epoch [492/500], (rmse) loss:0.7459, (rmse) val_loss:1.8112\n",
      "epoch [493/500], (rmse) loss:0.7447, (rmse) val_loss:1.8109\n",
      "epoch [494/500], (rmse) loss:0.7437, (rmse) val_loss:1.8102\n",
      "epoch [495/500], (rmse) loss:0.7402, (rmse) val_loss:1.8108\n",
      "epoch [496/500], (rmse) loss:0.7411, (rmse) val_loss:1.8111\n",
      "epoch [497/500], (rmse) loss:0.7417, (rmse) val_loss:1.8111\n",
      "epoch [498/500], (rmse) loss:0.7425, (rmse) val_loss:1.8119\n",
      "epoch [499/500], (rmse) loss:0.7435, (rmse) val_loss:1.8131\n",
      "epoch [500/500], (rmse) loss:0.7430, (rmse) val_loss:1.8137\n"
     ]
    }
   ],
   "source": [
    "## Model Running (Training)\n",
    "model = run_epoch(model, X_train, X_eval, num_epochs= 500)"
   ]
  },
  {
   "cell_type": "markdown",
   "metadata": {
    "collapsed": true
   },
   "source": [
    "- We can see that while the neural network is clearly training due to the validation mse decreasing after each epoch, it is not decreasing as quickly as normal matrix factorization."
   ]
  },
  {
   "cell_type": "markdown",
   "metadata": {},
   "source": [
    "---\n",
    "## Movielens 0.1M\n",
    "---"
   ]
  },
  {
   "cell_type": "markdown",
   "metadata": {},
   "source": [
    "- Randomly Generated Data가 아닌 실제 데이터를 활용함\n",
    "- Recommendation계의 MNIST 데이터로 Movielnes Data Set을 활용\n",
    "\n",
    "(참고 : https://grouplens.org/datasets/movielens/)"
   ]
  },
  {
   "cell_type": "code",
   "execution_count": 18,
   "metadata": {
    "ExecuteTime": {
     "end_time": "2018-02-08T08:48:48.264209Z",
     "start_time": "2018-02-08T08:48:48.259968Z"
    }
   },
   "outputs": [
    {
     "data": {
      "text/plain": [
       "'/Users/Juyeong/Documents/gluon_study/Recommendation'"
      ]
     },
     "execution_count": 18,
     "metadata": {},
     "output_type": "execute_result"
    }
   ],
   "source": [
    "import os\n",
    "import zipfile\n",
    "\n",
    "os.getcwd()"
   ]
  },
  {
   "cell_type": "code",
   "execution_count": 19,
   "metadata": {
    "ExecuteTime": {
     "end_time": "2018-02-08T08:48:48.367834Z",
     "start_time": "2018-02-08T08:48:48.265893Z"
    }
   },
   "outputs": [
    {
     "data": {
      "text/plain": [
       "100004"
      ]
     },
     "execution_count": 19,
     "metadata": {},
     "output_type": "execute_result"
    }
   ],
   "source": [
    "# Now extract the data since we know we have it at this point\n",
    "with zipfile.ZipFile(\"ml-latest-small.zip\", \"r\") as f:\n",
    "    f.extractall(\"./\")\n",
    "\n",
    "# Now load it up using a pandas dataframe\n",
    "data = pandas.read_csv('./ml-latest-small/ratings.csv', sep=',', usecols=(0, 1, 2))\n",
    "data.head()\n",
    "# ratings from 0.5 to 5. by 0.5 inc\n",
    "len(data)\n",
    "\n",
    "#Since only ~20M of these are present, ~99.5% of the matrix is missing"
   ]
  },
  {
   "cell_type": "code",
   "execution_count": 20,
   "metadata": {
    "ExecuteTime": {
     "end_time": "2018-02-08T08:48:48.378961Z",
     "start_time": "2018-02-08T08:48:48.370084Z"
    }
   },
   "outputs": [
    {
     "name": "stdout",
     "output_type": "stream",
     "text": [
      "Min value of rating : 0.5\n",
      "Max value of rating : 5.0\n"
     ]
    }
   ],
   "source": [
    "print(\"Min value of rating : {}\".format(data.rating.min(axis=0)))\n",
    "print(\"Max value of rating : {}\".format(data.rating.max(axis=0)))"
   ]
  },
  {
   "cell_type": "code",
   "execution_count": 21,
   "metadata": {
    "ExecuteTime": {
     "end_time": "2018-02-08T08:48:48.774840Z",
     "start_time": "2018-02-08T08:48:48.381214Z"
    }
   },
   "outputs": [
    {
     "data": {
      "image/png": "[encoded data removed]",
      "text/plain": [
       "<matplotlib.figure.Figure at 0x118020160>"
      ]
     },
     "metadata": {},
     "output_type": "display_data"
    }
   ],
   "source": [
    "plt.hist(data['rating'])\n",
    "plt.xlabel(\"Rating\", fontsize=14)\n",
    "plt.ylabel(\"Count\", fontsize=14)\n",
    "plt.title(\"Distribution of Ratings in MovieLens 20M\", fontsize=14)\n",
    "plt.show()"
   ]
  },
  {
   "cell_type": "code",
   "execution_count": 22,
   "metadata": {
    "ExecuteTime": {
     "end_time": "2018-02-08T08:48:48.790781Z",
     "start_time": "2018-02-08T08:48:48.776515Z"
    }
   },
   "outputs": [
    {
     "name": "stdout",
     "output_type": "stream",
     "text": [
      "user id min/max:  1 671\n",
      "# unique users:  671\n",
      "\n",
      "movie id min/max:  1 163949\n",
      "# unique movies:  9066\n"
     ]
    }
   ],
   "source": [
    "print(\"user id min/max: \", data['userId'].min(), data['userId'].max())\n",
    "print(\"# unique users: \", numpy.unique(data['userId']).shape[0])\n",
    "print(\"\")\n",
    "print(\"movie id min/max: \", data['movieId'].min(), data['movieId'].max())\n",
    "print(\"# unique movies: \", numpy.unique(data['movieId']).shape[0])"
   ]
  },
  {
   "cell_type": "code",
   "execution_count": 23,
   "metadata": {
    "ExecuteTime": {
     "end_time": "2018-02-08T08:48:48.797247Z",
     "start_time": "2018-02-08T08:48:48.792506Z"
    },
    "collapsed": true
   },
   "outputs": [],
   "source": [
    "n_users, n_movies = data['userId'].max(), data['movieId'].max()\n",
    "batch_size = 15000"
   ]
  },
  {
   "cell_type": "code",
   "execution_count": 24,
   "metadata": {
    "ExecuteTime": {
     "end_time": "2018-02-08T08:48:48.815334Z",
     "start_time": "2018-02-08T08:48:48.798638Z"
    },
    "collapsed": true
   },
   "outputs": [],
   "source": [
    "n = 90000\n",
    "\n",
    "data = data.sample(frac=1).reset_index(drop=True) # Shuffle the data in place row-wise\n",
    "\n",
    "# Use the first 19M samples to train the model\n",
    "train_users = data['userId'].values[:n] - 1 # Offset by 1 so that the IDs start at 0\n",
    "train_movies = data['movieId'].values[:n] - 1 # Offset by 1 so that the IDs start at 0\n",
    "train_ratings = data['rating'].values[:n]\n",
    "\n",
    "# Use the remaining ~1M samples for validation of the model\n",
    "valid_users = data['userId'].values[n:] - 1 # Offset by 1 so that the IDs start at 0\n",
    "valid_movies = data['movieId'].values[n:] - 1 # Offset by 1 so that the IDs start at 0\n",
    "valid_ratings = data['rating'].values[n:]"
   ]
  },
  {
   "cell_type": "code",
   "execution_count": 25,
   "metadata": {
    "ExecuteTime": {
     "end_time": "2018-02-08T08:48:48.822869Z",
     "start_time": "2018-02-08T08:48:48.816856Z"
    },
    "collapsed": true
   },
   "outputs": [],
   "source": [
    "X_train = gluon.data.DataLoader(gluon.data.ArrayDataset(train_users.astype('float32'), train_movies.astype('float32'), train_ratings.astype('float32')),\n",
    "                                      batch_size=batch_size, shuffle=True)\n",
    "\n",
    "X_eval = gluon.data.DataLoader(gluon.data.ArrayDataset(valid_users.astype('float32'), valid_movies.astype('float32'), valid_ratings.astype('float32')),\n",
    "                                      batch_size=batch_size, shuffle=True)"
   ]
  },
  {
   "cell_type": "code",
   "execution_count": 26,
   "metadata": {
    "ExecuteTime": {
     "end_time": "2018-02-08T08:48:48.834442Z",
     "start_time": "2018-02-08T08:48:48.824899Z"
    },
    "collapsed": true
   },
   "outputs": [],
   "source": [
    "class Vanilla_MF_ml(gluon.HybridBlock):\n",
    "    def __init__(self, **kwargs):\n",
    "        super(Vanilla_MF_ml, self).__init__(**kwargs)\n",
    "        with self.name_scope():\n",
    "            # layers created in name_scope will inherit name space\n",
    "            # from parent layer.\n",
    "            self.user = nn.Embedding(input_dim=n_users, output_dim=25)\n",
    "            self.movie = nn.Embedding(input_dim=n_movies, output_dim=25)\n",
    "            \n",
    "    def hybrid_forward(self, F, user_i, movie_i):\n",
    "        # Here `F` can be either mx.nd or mx.sym, x is the input data,\n",
    "        user_i = self.user(user_i)\n",
    "        movie_i = self.movie(movie_i)\n",
    "        z = F.sum(F.dot(user_i, movie_i, transpose_b=True), axis = 1)\n",
    "        return z"
   ]
  },
  {
   "cell_type": "code",
   "execution_count": 27,
   "metadata": {
    "ExecuteTime": {
     "end_time": "2018-02-08T08:48:48.843745Z",
     "start_time": "2018-02-08T08:48:48.836266Z"
    },
    "collapsed": true
   },
   "outputs": [],
   "source": [
    "# model initialization\n",
    "model = Vanilla_MF_ml()\n",
    "model.collect_params().initialize(mx.init.Xavier(), ctx=ctx)\n",
    "\n",
    "\n",
    "learning_rate = 1e-4\n",
    "criterion = gluon.loss.L2Loss()\n",
    "optimizer = gluon.Trainer(model.collect_params(), 'adam',\n",
    "                          {'learning_rate': learning_rate,\n",
    "                           'wd': 1e-5})"
   ]
  },
  {
   "cell_type": "code",
   "execution_count": 28,
   "metadata": {
    "ExecuteTime": {
     "end_time": "2018-02-08T09:00:43.929113Z",
     "start_time": "2018-02-08T08:48:48.845707Z"
    }
   },
   "outputs": [
    {
     "name": "stdout",
     "output_type": "stream",
     "text": [
      "epoch [1/20], (rmse) loss:2.5596, (rmse) val_loss:0.8348\n",
      "epoch [2/20], (rmse) loss:2.4980, (rmse) val_loss:0.8262\n",
      "epoch [3/20], (rmse) loss:2.4638, (rmse) val_loss:0.8166\n",
      "epoch [4/20], (rmse) loss:2.4215, (rmse) val_loss:0.8068\n",
      "epoch [5/20], (rmse) loss:2.3794, (rmse) val_loss:0.7917\n",
      "epoch [6/20], (rmse) loss:2.3293, (rmse) val_loss:0.7754\n",
      "epoch [7/20], (rmse) loss:2.2767, (rmse) val_loss:0.7610\n",
      "epoch [8/20], (rmse) loss:2.2204, (rmse) val_loss:0.7427\n",
      "epoch [9/20], (rmse) loss:2.1609, (rmse) val_loss:0.7259\n",
      "epoch [10/20], (rmse) loss:2.0992, (rmse) val_loss:0.7075\n",
      "epoch [11/20], (rmse) loss:2.0349, (rmse) val_loss:0.6895\n",
      "epoch [12/20], (rmse) loss:1.9711, (rmse) val_loss:0.6703\n",
      "epoch [13/20], (rmse) loss:1.9043, (rmse) val_loss:0.6527\n",
      "epoch [14/20], (rmse) loss:1.8388, (rmse) val_loss:0.6340\n",
      "epoch [15/20], (rmse) loss:1.7745, (rmse) val_loss:0.6163\n",
      "epoch [16/20], (rmse) loss:1.7100, (rmse) val_loss:0.6001\n",
      "epoch [17/20], (rmse) loss:1.6451, (rmse) val_loss:0.5823\n",
      "epoch [18/20], (rmse) loss:1.5830, (rmse) val_loss:0.5644\n",
      "epoch [19/20], (rmse) loss:1.5223, (rmse) val_loss:0.5517\n",
      "epoch [20/20], (rmse) loss:1.4634, (rmse) val_loss:0.5332\n"
     ]
    }
   ],
   "source": [
    "## Model Running (Training)\n",
    "model = run_epoch(model, X_train, X_eval, num_epochs= 20)"
   ]
  },
  {
   "cell_type": "code",
   "execution_count": 29,
   "metadata": {
    "ExecuteTime": {
     "end_time": "2018-02-08T09:00:43.950314Z",
     "start_time": "2018-02-08T09:00:43.931660Z"
    },
    "collapsed": true
   },
   "outputs": [],
   "source": [
    "class Deep_MF_ml(gluon.HybridBlock):\n",
    "    def __init__(self, **kwargs):\n",
    "        super(Deep_MF_ml, self).__init__(**kwargs)\n",
    "        with self.name_scope():\n",
    "            # layers created in name_scope will inherit name space\n",
    "            # from parent layer.\n",
    "            self.user = nn.Embedding(input_dim=n_users, output_dim=25)\n",
    "            self.movie = nn.Embedding(input_dim=n_movies, output_dim=25)\n",
    "            \n",
    "            \n",
    "            self.out = gluon.nn.HybridSequential('output_')\n",
    "            with self.out.name_scope():\n",
    "                self.out.add(nn.Flatten())\n",
    "                self.out.add(nn.Dense(64, activation='relu')) # encoding & latent layer\n",
    "                self.out.add(gluon.nn.BatchNorm(axis=1, center=True, scale=True))\n",
    "                self.out.add(nn.Dense(64, activation='relu')) # encoding & latent layer\n",
    "                self.out.add(gluon.nn.BatchNorm(axis=1, center=True, scale=True))\n",
    "                self.out.add(nn.Dense(1)) # encoding & latent layer\n",
    "            \n",
    "    def hybrid_forward(self, F, user_i, movie_i):\n",
    "        # Here `F` can be either mx.nd or mx.sym, x is the input data,\n",
    "        user_i = self.user(user_i)\n",
    "        movie_i = self.movie(movie_i)\n",
    "        \n",
    "        z = F.concat(user_i, movie_i)\n",
    "        z = self.out(z)\n",
    "        return z"
   ]
  },
  {
   "cell_type": "code",
   "execution_count": 30,
   "metadata": {
    "ExecuteTime": {
     "end_time": "2018-02-08T09:00:43.966592Z",
     "start_time": "2018-02-08T09:00:43.951925Z"
    },
    "collapsed": true
   },
   "outputs": [],
   "source": [
    "# model initialization\n",
    "model = Deep_MF_ml()\n",
    "model.collect_params().initialize(mx.init.Xavier(), ctx=ctx)\n",
    "\n",
    "\n",
    "learning_rate = 1e-2\n",
    "criterion = gluon.loss.L2Loss()\n",
    "optimizer = gluon.Trainer(model.collect_params(), 'adam',\n",
    "                          {'learning_rate': learning_rate,\n",
    "                           'wd': 1e-5})"
   ]
  },
  {
   "cell_type": "code",
   "execution_count": 31,
   "metadata": {
    "ExecuteTime": {
     "end_time": "2018-02-08T09:04:14.852842Z",
     "start_time": "2018-02-08T09:00:43.968426Z"
    }
   },
   "outputs": [
    {
     "name": "stdout",
     "output_type": "stream",
     "text": [
      "epoch [1/100], (rmse) loss:2.5020, (rmse) val_loss:0.7430\n",
      "epoch [2/100], (rmse) loss:1.9978, (rmse) val_loss:0.5525\n",
      "epoch [3/100], (rmse) loss:1.3143, (rmse) val_loss:0.3040\n",
      "epoch [4/100], (rmse) loss:0.6309, (rmse) val_loss:0.2597\n",
      "epoch [5/100], (rmse) loss:0.7364, (rmse) val_loss:0.3032\n",
      "epoch [6/100], (rmse) loss:0.6480, (rmse) val_loss:0.2341\n",
      "epoch [7/100], (rmse) loss:0.4543, (rmse) val_loss:0.2354\n",
      "epoch [8/100], (rmse) loss:0.4829, (rmse) val_loss:0.2416\n",
      "epoch [9/100], (rmse) loss:0.4428, (rmse) val_loss:0.2334\n",
      "epoch [10/100], (rmse) loss:0.3936, (rmse) val_loss:0.2366\n",
      "epoch [11/100], (rmse) loss:0.3915, (rmse) val_loss:0.2378\n",
      "epoch [12/100], (rmse) loss:0.3707, (rmse) val_loss:0.2370\n",
      "epoch [13/100], (rmse) loss:0.3584, (rmse) val_loss:0.2385\n",
      "epoch [14/100], (rmse) loss:0.3496, (rmse) val_loss:0.2400\n",
      "epoch [15/100], (rmse) loss:0.3411, (rmse) val_loss:0.2418\n",
      "epoch [16/100], (rmse) loss:0.3342, (rmse) val_loss:0.2432\n",
      "epoch [17/100], (rmse) loss:0.3287, (rmse) val_loss:0.2438\n",
      "epoch [18/100], (rmse) loss:0.3240, (rmse) val_loss:0.2448\n",
      "epoch [19/100], (rmse) loss:0.3186, (rmse) val_loss:0.2451\n",
      "epoch [20/100], (rmse) loss:0.3139, (rmse) val_loss:0.2471\n",
      "epoch [21/100], (rmse) loss:0.3102, (rmse) val_loss:0.2483\n",
      "epoch [22/100], (rmse) loss:0.3097, (rmse) val_loss:0.2491\n",
      "epoch [23/100], (rmse) loss:0.3068, (rmse) val_loss:0.2494\n",
      "epoch [24/100], (rmse) loss:0.3012, (rmse) val_loss:0.2502\n",
      "epoch [25/100], (rmse) loss:0.2963, (rmse) val_loss:0.2504\n",
      "epoch [26/100], (rmse) loss:0.2927, (rmse) val_loss:0.2508\n",
      "epoch [27/100], (rmse) loss:0.2895, (rmse) val_loss:0.2522\n",
      "epoch [28/100], (rmse) loss:0.2892, (rmse) val_loss:0.2529\n",
      "epoch [29/100], (rmse) loss:0.2889, (rmse) val_loss:0.2530\n",
      "epoch [30/100], (rmse) loss:0.2858, (rmse) val_loss:0.2548\n",
      "epoch [31/100], (rmse) loss:0.2819, (rmse) val_loss:0.2533\n",
      "epoch [32/100], (rmse) loss:0.2777, (rmse) val_loss:0.2546\n",
      "epoch [33/100], (rmse) loss:0.2761, (rmse) val_loss:0.2570\n",
      "epoch [34/100], (rmse) loss:0.2768, (rmse) val_loss:0.2544\n",
      "epoch [35/100], (rmse) loss:0.2740, (rmse) val_loss:0.2553\n",
      "epoch [36/100], (rmse) loss:0.2699, (rmse) val_loss:0.2550\n",
      "epoch [37/100], (rmse) loss:0.2701, (rmse) val_loss:0.2555\n",
      "epoch [38/100], (rmse) loss:0.2707, (rmse) val_loss:0.2583\n",
      "epoch [39/100], (rmse) loss:0.2750, (rmse) val_loss:0.2553\n",
      "epoch [40/100], (rmse) loss:0.2705, (rmse) val_loss:0.2559\n",
      "epoch [41/100], (rmse) loss:0.2660, (rmse) val_loss:0.2556\n",
      "epoch [42/100], (rmse) loss:0.2661, (rmse) val_loss:0.2571\n",
      "epoch [43/100], (rmse) loss:0.2616, (rmse) val_loss:0.2568\n",
      "epoch [44/100], (rmse) loss:0.2582, (rmse) val_loss:0.2579\n",
      "epoch [45/100], (rmse) loss:0.2552, (rmse) val_loss:0.2576\n",
      "epoch [46/100], (rmse) loss:0.2536, (rmse) val_loss:0.2581\n",
      "epoch [47/100], (rmse) loss:0.2532, (rmse) val_loss:0.2578\n",
      "epoch [48/100], (rmse) loss:0.2500, (rmse) val_loss:0.2597\n",
      "epoch [49/100], (rmse) loss:0.2512, (rmse) val_loss:0.2590\n",
      "epoch [50/100], (rmse) loss:0.2483, (rmse) val_loss:0.2592\n",
      "epoch [51/100], (rmse) loss:0.2448, (rmse) val_loss:0.2597\n",
      "epoch [52/100], (rmse) loss:0.2438, (rmse) val_loss:0.2606\n",
      "epoch [53/100], (rmse) loss:0.2418, (rmse) val_loss:0.2616\n",
      "epoch [54/100], (rmse) loss:0.2453, (rmse) val_loss:0.2610\n",
      "epoch [55/100], (rmse) loss:0.2437, (rmse) val_loss:0.2617\n",
      "epoch [56/100], (rmse) loss:0.2454, (rmse) val_loss:0.2609\n",
      "epoch [57/100], (rmse) loss:0.2470, (rmse) val_loss:0.2612\n",
      "epoch [58/100], (rmse) loss:0.2446, (rmse) val_loss:0.2617\n",
      "epoch [59/100], (rmse) loss:0.2424, (rmse) val_loss:0.2618\n",
      "epoch [60/100], (rmse) loss:0.2420, (rmse) val_loss:0.2620\n",
      "epoch [61/100], (rmse) loss:0.2399, (rmse) val_loss:0.2617\n",
      "epoch [62/100], (rmse) loss:0.2418, (rmse) val_loss:0.2616\n",
      "epoch [63/100], (rmse) loss:0.2368, (rmse) val_loss:0.2617\n",
      "epoch [64/100], (rmse) loss:0.2363, (rmse) val_loss:0.2624\n",
      "epoch [65/100], (rmse) loss:0.2350, (rmse) val_loss:0.2629\n",
      "epoch [66/100], (rmse) loss:0.2308, (rmse) val_loss:0.2619\n",
      "epoch [67/100], (rmse) loss:0.2279, (rmse) val_loss:0.2628\n",
      "epoch [68/100], (rmse) loss:0.2274, (rmse) val_loss:0.2650\n",
      "epoch [69/100], (rmse) loss:0.2299, (rmse) val_loss:0.2639\n",
      "epoch [70/100], (rmse) loss:0.2293, (rmse) val_loss:0.2660\n",
      "epoch [71/100], (rmse) loss:0.2341, (rmse) val_loss:0.2635\n",
      "epoch [72/100], (rmse) loss:0.2324, (rmse) val_loss:0.2646\n",
      "epoch [73/100], (rmse) loss:0.2316, (rmse) val_loss:0.2630\n",
      "epoch [74/100], (rmse) loss:0.2298, (rmse) val_loss:0.2638\n",
      "epoch [75/100], (rmse) loss:0.2287, (rmse) val_loss:0.2640\n",
      "epoch [76/100], (rmse) loss:0.2329, (rmse) val_loss:0.2657\n",
      "epoch [77/100], (rmse) loss:0.2323, (rmse) val_loss:0.2661\n",
      "epoch [78/100], (rmse) loss:0.2361, (rmse) val_loss:0.2654\n",
      "epoch [79/100], (rmse) loss:0.2362, (rmse) val_loss:0.2653\n",
      "epoch [80/100], (rmse) loss:0.2313, (rmse) val_loss:0.2631\n",
      "epoch [81/100], (rmse) loss:0.2260, (rmse) val_loss:0.2631\n",
      "epoch [82/100], (rmse) loss:0.2263, (rmse) val_loss:0.2633\n",
      "epoch [83/100], (rmse) loss:0.2240, (rmse) val_loss:0.2629\n",
      "epoch [84/100], (rmse) loss:0.2311, (rmse) val_loss:0.2636\n",
      "epoch [85/100], (rmse) loss:0.2263, (rmse) val_loss:0.2642\n",
      "epoch [86/100], (rmse) loss:0.2194, (rmse) val_loss:0.2640\n",
      "epoch [87/100], (rmse) loss:0.2160, (rmse) val_loss:0.2633\n",
      "epoch [88/100], (rmse) loss:0.2116, (rmse) val_loss:0.2639\n",
      "epoch [89/100], (rmse) loss:0.2103, (rmse) val_loss:0.2649\n",
      "epoch [90/100], (rmse) loss:0.2107, (rmse) val_loss:0.2648\n",
      "epoch [91/100], (rmse) loss:0.2092, (rmse) val_loss:0.2644\n",
      "epoch [92/100], (rmse) loss:0.2121, (rmse) val_loss:0.2656\n",
      "epoch [93/100], (rmse) loss:0.2121, (rmse) val_loss:0.2675\n",
      "epoch [94/100], (rmse) loss:0.2167, (rmse) val_loss:0.2663\n",
      "epoch [95/100], (rmse) loss:0.2174, (rmse) val_loss:0.2649\n",
      "epoch [96/100], (rmse) loss:0.2139, (rmse) val_loss:0.2654\n",
      "epoch [97/100], (rmse) loss:0.2133, (rmse) val_loss:0.2650\n",
      "epoch [98/100], (rmse) loss:0.2126, (rmse) val_loss:0.2649\n",
      "epoch [99/100], (rmse) loss:0.2200, (rmse) val_loss:0.2659\n",
      "epoch [100/100], (rmse) loss:0.2222, (rmse) val_loss:0.2642\n"
     ]
    }
   ],
   "source": [
    "## Model Running (Training)\n",
    "model = run_epoch(model, X_train, X_eval, num_epochs= 100)"
   ]
  },
  {
   "cell_type": "code",
   "execution_count": 32,
   "metadata": {
    "ExecuteTime": {
     "end_time": "2018-02-08T09:04:14.875342Z",
     "start_time": "2018-02-08T09:04:14.854353Z"
    },
    "collapsed": true
   },
   "outputs": [],
   "source": [
    "# Regression 형태가 아닌 Classification 문제로 변환\n",
    "# movielens의 경우 0.5 ~ 5까지 0.5구간으로 평점이 존재하며 이에 따라 총 10개의 class인 문제로 표현 가능\n",
    "class Deep_MF_ml_class(gluon.HybridBlock):\n",
    "    def __init__(self, **kwargs):\n",
    "        super(Deep_MF_ml_class, self).__init__(**kwargs)\n",
    "        with self.name_scope():\n",
    "            # layers created in name_scope will inherit name space\n",
    "            # from parent layer.\n",
    "            self.user = nn.Embedding(input_dim=n_users, output_dim=25)\n",
    "            self.movie = nn.Embedding(input_dim=n_movies, output_dim=25)\n",
    "            \n",
    "            \n",
    "            self.out = gluon.nn.HybridSequential('output_')\n",
    "            with self.out.name_scope():\n",
    "                self.out.add(nn.Flatten())\n",
    "                self.out.add(nn.Dense(64, activation='relu')) # encoding & latent layer\n",
    "                self.out.add(gluon.nn.BatchNorm(axis=1, center=True, scale=True))\n",
    "                self.out.add(nn.Dense(64, activation='relu')) # encoding & latent layer\n",
    "                self.out.add(gluon.nn.BatchNorm(axis=1, center=True, scale=True))\n",
    "                self.out.add(nn.Dense(10)) # encoding & latent layer\n",
    "            \n",
    "    def hybrid_forward(self, F, user_i, movie_i):\n",
    "        # Here `F` can be either mx.nd or mx.sym, x is the input data,\n",
    "        user_i = self.user(user_i)\n",
    "        movie_i = self.movie(movie_i)\n",
    "        \n",
    "        z = F.concat(user_i, movie_i)\n",
    "        z = self.out(z)\n",
    "        return z"
   ]
  },
  {
   "cell_type": "code",
   "execution_count": 33,
   "metadata": {
    "ExecuteTime": {
     "end_time": "2018-02-08T09:04:14.892899Z",
     "start_time": "2018-02-08T09:04:14.876875Z"
    },
    "collapsed": true
   },
   "outputs": [],
   "source": [
    "# model initialization\n",
    "model = Deep_MF_ml_class()\n",
    "model.collect_params().initialize(mx.init.Xavier(), ctx=ctx)\n",
    "\n",
    "\n",
    "learning_rate = 1e-3\n",
    "criterion = gluon.loss.SoftmaxCrossEntropyLoss()\n",
    "optimizer = gluon.Trainer(model.collect_params(), 'adam',\n",
    "                          {'learning_rate': learning_rate,\n",
    "                           'wd': 1e-5})"
   ]
  },
  {
   "cell_type": "code",
   "execution_count": 34,
   "metadata": {
    "ExecuteTime": {
     "end_time": "2018-02-08T09:04:14.902190Z",
     "start_time": "2018-02-08T09:04:14.894784Z"
    },
    "collapsed": true
   },
   "outputs": [],
   "source": [
    "def evaluate_accuracy(data_iterator, net):\n",
    "    acc = mx.metric.Accuracy()\n",
    "    \n",
    "    for user, movie, rating in data_iterator:\n",
    "        user = user.as_in_context(ctx)\n",
    "        movie = movie.as_in_context(ctx)\n",
    "        rating = rating.as_in_context(ctx)\n",
    "    \n",
    "        output = net(user, movie)\n",
    "        predictions = nd.argmax(output, axis=1)\n",
    "        acc.update(preds=predictions, labels=rating)\n",
    "    return acc.get()[1]"
   ]
  },
  {
   "cell_type": "code",
   "execution_count": 35,
   "metadata": {
    "ExecuteTime": {
     "end_time": "2018-02-08T09:20:41.303153Z",
     "start_time": "2018-02-08T09:04:14.904198Z"
    }
   },
   "outputs": [
    {
     "name": "stdout",
     "output_type": "stream",
     "text": [
      "epoch [1/100], loss:1.6553, val_loss:0.5247, train_acc:0.0042, val_acc:0.0029\n",
      "epoch [2/100], loss:1.5102, val_loss:0.5002, train_acc:0.0103, val_acc:0.0091\n",
      "epoch [3/100], loss:1.4309, val_loss:0.4866, train_acc:0.0988, val_acc:0.0920\n",
      "epoch [4/100], loss:1.3723, val_loss:0.4774, train_acc:0.1688, val_acc:0.1607\n",
      "epoch [5/100], loss:1.3213, val_loss:0.4715, train_acc:0.1743, val_acc:0.1660\n",
      "epoch [6/100], loss:1.2755, val_loss:0.4682, train_acc:0.1771, val_acc:0.1691\n",
      "epoch [7/100], loss:1.2333, val_loss:0.4662, train_acc:0.1803, val_acc:0.1701\n",
      "epoch [8/100], loss:1.1942, val_loss:0.4649, train_acc:0.2024, val_acc:0.1752\n",
      "epoch [9/100], loss:1.1573, val_loss:0.4645, train_acc:0.3224, val_acc:0.2262\n",
      "epoch [10/100], loss:1.1229, val_loss:0.4646, train_acc:0.4837, val_acc:0.3095\n",
      "epoch [11/100], loss:1.0901, val_loss:0.4656, train_acc:0.5933, val_acc:0.3638\n",
      "epoch [12/100], loss:1.0594, val_loss:0.4675, train_acc:0.6474, val_acc:0.3917\n",
      "epoch [13/100], loss:1.0304, val_loss:0.4699, train_acc:0.6799, val_acc:0.4061\n",
      "epoch [14/100], loss:1.0033, val_loss:0.4727, train_acc:0.7002, val_acc:0.4123\n",
      "epoch [15/100], loss:0.9786, val_loss:0.4757, train_acc:0.7149, val_acc:0.4131\n",
      "epoch [16/100], loss:0.9553, val_loss:0.4788, train_acc:0.7263, val_acc:0.4107\n",
      "epoch [17/100], loss:0.9344, val_loss:0.4821, train_acc:0.7367, val_acc:0.4082\n",
      "epoch [18/100], loss:0.9150, val_loss:0.4853, train_acc:0.7450, val_acc:0.4101\n",
      "epoch [19/100], loss:0.8977, val_loss:0.4890, train_acc:0.7519, val_acc:0.4047\n",
      "epoch [20/100], loss:0.8815, val_loss:0.4925, train_acc:0.7585, val_acc:0.4074\n",
      "epoch [21/100], loss:0.8668, val_loss:0.4957, train_acc:0.7643, val_acc:0.4054\n",
      "epoch [22/100], loss:0.8533, val_loss:0.4991, train_acc:0.7701, val_acc:0.4046\n",
      "epoch [23/100], loss:0.8407, val_loss:0.5024, train_acc:0.7768, val_acc:0.4018\n",
      "epoch [24/100], loss:0.8296, val_loss:0.5057, train_acc:0.7808, val_acc:0.4005\n",
      "epoch [25/100], loss:0.8188, val_loss:0.5084, train_acc:0.7866, val_acc:0.4014\n",
      "epoch [26/100], loss:0.8085, val_loss:0.5116, train_acc:0.7916, val_acc:0.4001\n",
      "epoch [27/100], loss:0.7991, val_loss:0.5147, train_acc:0.7955, val_acc:0.3985\n",
      "epoch [28/100], loss:0.7906, val_loss:0.5169, train_acc:0.8002, val_acc:0.3966\n",
      "epoch [29/100], loss:0.7830, val_loss:0.5198, train_acc:0.8026, val_acc:0.3960\n",
      "epoch [30/100], loss:0.7755, val_loss:0.5223, train_acc:0.8082, val_acc:0.3988\n",
      "epoch [31/100], loss:0.7684, val_loss:0.5245, train_acc:0.8096, val_acc:0.3971\n",
      "epoch [32/100], loss:0.7614, val_loss:0.5269, train_acc:0.8131, val_acc:0.3996\n",
      "epoch [33/100], loss:0.7555, val_loss:0.5293, train_acc:0.8164, val_acc:0.3958\n",
      "epoch [34/100], loss:0.7491, val_loss:0.5315, train_acc:0.8190, val_acc:0.3991\n",
      "epoch [35/100], loss:0.7433, val_loss:0.5337, train_acc:0.8223, val_acc:0.3916\n",
      "epoch [36/100], loss:0.7373, val_loss:0.5357, train_acc:0.8250, val_acc:0.3917\n",
      "epoch [37/100], loss:0.7322, val_loss:0.5382, train_acc:0.8271, val_acc:0.3949\n",
      "epoch [38/100], loss:0.7270, val_loss:0.5397, train_acc:0.8297, val_acc:0.3892\n",
      "epoch [39/100], loss:0.7219, val_loss:0.5423, train_acc:0.8308, val_acc:0.3952\n",
      "epoch [40/100], loss:0.7167, val_loss:0.5441, train_acc:0.8333, val_acc:0.3876\n",
      "epoch [41/100], loss:0.7128, val_loss:0.5464, train_acc:0.8354, val_acc:0.3915\n",
      "epoch [42/100], loss:0.7084, val_loss:0.5477, train_acc:0.8380, val_acc:0.3880\n",
      "epoch [43/100], loss:0.7039, val_loss:0.5501, train_acc:0.8394, val_acc:0.3892\n",
      "epoch [44/100], loss:0.6997, val_loss:0.5512, train_acc:0.8424, val_acc:0.3881\n",
      "epoch [45/100], loss:0.6958, val_loss:0.5533, train_acc:0.8458, val_acc:0.3874\n",
      "epoch [46/100], loss:0.6914, val_loss:0.5549, train_acc:0.8461, val_acc:0.3844\n",
      "epoch [47/100], loss:0.6886, val_loss:0.5566, train_acc:0.8488, val_acc:0.3870\n",
      "epoch [48/100], loss:0.6845, val_loss:0.5591, train_acc:0.8506, val_acc:0.3848\n",
      "epoch [49/100], loss:0.6808, val_loss:0.5600, train_acc:0.8515, val_acc:0.3833\n",
      "epoch [50/100], loss:0.6776, val_loss:0.5616, train_acc:0.8513, val_acc:0.3856\n",
      "epoch [51/100], loss:0.6738, val_loss:0.5632, train_acc:0.8546, val_acc:0.3830\n",
      "epoch [52/100], loss:0.6708, val_loss:0.5646, train_acc:0.8563, val_acc:0.3809\n",
      "epoch [53/100], loss:0.6670, val_loss:0.5660, train_acc:0.8581, val_acc:0.3822\n",
      "epoch [54/100], loss:0.6640, val_loss:0.5677, train_acc:0.8589, val_acc:0.3790\n",
      "epoch [55/100], loss:0.6614, val_loss:0.5685, train_acc:0.8604, val_acc:0.3808\n",
      "epoch [56/100], loss:0.6588, val_loss:0.5700, train_acc:0.8609, val_acc:0.3814\n",
      "epoch [57/100], loss:0.6556, val_loss:0.5717, train_acc:0.8618, val_acc:0.3775\n",
      "epoch [58/100], loss:0.6525, val_loss:0.5730, train_acc:0.8633, val_acc:0.3761\n",
      "epoch [59/100], loss:0.6497, val_loss:0.5741, train_acc:0.8660, val_acc:0.3761\n",
      "epoch [60/100], loss:0.6471, val_loss:0.5755, train_acc:0.8666, val_acc:0.3800\n",
      "epoch [61/100], loss:0.6433, val_loss:0.5770, train_acc:0.8681, val_acc:0.3761\n",
      "epoch [62/100], loss:0.6416, val_loss:0.5794, train_acc:0.8686, val_acc:0.3753\n",
      "epoch [63/100], loss:0.6393, val_loss:0.5799, train_acc:0.8699, val_acc:0.3791\n",
      "epoch [64/100], loss:0.6356, val_loss:0.5817, train_acc:0.8716, val_acc:0.3765\n",
      "epoch [65/100], loss:0.6337, val_loss:0.5827, train_acc:0.8736, val_acc:0.3770\n",
      "epoch [66/100], loss:0.6304, val_loss:0.5841, train_acc:0.8736, val_acc:0.3771\n",
      "epoch [67/100], loss:0.6280, val_loss:0.5852, train_acc:0.8754, val_acc:0.3763\n",
      "epoch [68/100], loss:0.6251, val_loss:0.5870, train_acc:0.8763, val_acc:0.3777\n",
      "epoch [69/100], loss:0.6226, val_loss:0.5879, train_acc:0.8769, val_acc:0.3766\n",
      "epoch [70/100], loss:0.6205, val_loss:0.5896, train_acc:0.8788, val_acc:0.3775\n",
      "epoch [71/100], loss:0.6175, val_loss:0.5906, train_acc:0.8802, val_acc:0.3744\n",
      "epoch [72/100], loss:0.6157, val_loss:0.5921, train_acc:0.8814, val_acc:0.3759\n",
      "epoch [73/100], loss:0.6129, val_loss:0.5935, train_acc:0.8810, val_acc:0.3784\n",
      "epoch [74/100], loss:0.6111, val_loss:0.5948, train_acc:0.8819, val_acc:0.3750\n",
      "epoch [75/100], loss:0.6089, val_loss:0.5957, train_acc:0.8830, val_acc:0.3758\n",
      "epoch [76/100], loss:0.6074, val_loss:0.5968, train_acc:0.8832, val_acc:0.3787\n",
      "epoch [77/100], loss:0.6059, val_loss:0.5983, train_acc:0.8849, val_acc:0.3755\n",
      "epoch [78/100], loss:0.6033, val_loss:0.5987, train_acc:0.8846, val_acc:0.3765\n",
      "epoch [79/100], loss:0.6017, val_loss:0.6006, train_acc:0.8856, val_acc:0.3739\n",
      "epoch [80/100], loss:0.5991, val_loss:0.6019, train_acc:0.8868, val_acc:0.3780\n",
      "epoch [81/100], loss:0.5972, val_loss:0.6027, train_acc:0.8891, val_acc:0.3722\n",
      "epoch [82/100], loss:0.5950, val_loss:0.6039, train_acc:0.8882, val_acc:0.3760\n",
      "epoch [83/100], loss:0.5931, val_loss:0.6051, train_acc:0.8896, val_acc:0.3713\n",
      "epoch [84/100], loss:0.5911, val_loss:0.6059, train_acc:0.8903, val_acc:0.3775\n",
      "epoch [85/100], loss:0.5896, val_loss:0.6074, train_acc:0.8897, val_acc:0.3709\n",
      "epoch [86/100], loss:0.5870, val_loss:0.6088, train_acc:0.8917, val_acc:0.3750\n",
      "epoch [87/100], loss:0.5859, val_loss:0.6097, train_acc:0.8928, val_acc:0.3754\n",
      "epoch [88/100], loss:0.5837, val_loss:0.6108, train_acc:0.8950, val_acc:0.3706\n",
      "epoch [89/100], loss:0.5813, val_loss:0.6120, train_acc:0.8941, val_acc:0.3750\n",
      "epoch [90/100], loss:0.5794, val_loss:0.6123, train_acc:0.8929, val_acc:0.3713\n",
      "epoch [91/100], loss:0.5782, val_loss:0.6142, train_acc:0.8960, val_acc:0.3724\n",
      "epoch [92/100], loss:0.5762, val_loss:0.6152, train_acc:0.8965, val_acc:0.3758\n",
      "epoch [93/100], loss:0.5751, val_loss:0.6163, train_acc:0.8980, val_acc:0.3745\n",
      "epoch [94/100], loss:0.5734, val_loss:0.6176, train_acc:0.8992, val_acc:0.3713\n",
      "epoch [95/100], loss:0.5712, val_loss:0.6182, train_acc:0.8981, val_acc:0.3724\n",
      "epoch [96/100], loss:0.5709, val_loss:0.6200, train_acc:0.8977, val_acc:0.3727\n",
      "epoch [97/100], loss:0.5698, val_loss:0.6208, train_acc:0.8995, val_acc:0.3703\n",
      "epoch [98/100], loss:0.5678, val_loss:0.6216, train_acc:0.9005, val_acc:0.3719\n",
      "epoch [99/100], loss:0.5649, val_loss:0.6229, train_acc:0.9016, val_acc:0.3704\n",
      "epoch [100/100], loss:0.5640, val_loss:0.6235, train_acc:0.9017, val_acc:0.3707\n"
     ]
    }
   ],
   "source": [
    "num_epochs = 100             \n",
    "              \n",
    "for epoch in range(num_epochs):\n",
    "    running_loss = 0.0\n",
    "    val_loss = 0.0\n",
    "    n_total = 0.0\n",
    "\n",
    "    # for training\n",
    "    for user, movie, rating in X_train:\n",
    "        user = user.as_in_context(ctx)\n",
    "        movie = movie.as_in_context(ctx)\n",
    "        rating = rating.as_in_context(ctx)\n",
    "\n",
    "        with mx.autograd.record():\n",
    "            output = model(user, movie)\n",
    "            loss = criterion(output, rating)\n",
    "        loss.backward()\n",
    "        optimizer.step(user.shape[0])\n",
    "        running_loss += mx.nd.sum(loss).asscalar()\n",
    "        n_total += user.shape[0]\n",
    "\n",
    "    for val_user, val_movie, val_rating in X_eval:\n",
    "        val_user = val_user.as_in_context(ctx)\n",
    "        val_movie = val_movie.as_in_context(ctx)\n",
    "\n",
    "        with mx.autograd.record():\n",
    "            val_output = model(val_user, val_movie)\n",
    "            val_loss_tmp = criterion(val_output, val_rating)\n",
    "        val_loss += mx.nd.sum(val_loss_tmp).asscalar()\n",
    "    \n",
    "    train_accuracy = evaluate_accuracy(X_train, model)\n",
    "    test_accuracy = evaluate_accuracy(X_eval, model)\n",
    "    # ===================log========================\n",
    "    print('epoch [{}/{}], loss:{:.4f}, val_loss:{:.4f}, train_acc:{:.4f}, val_acc:{:.4f}'\n",
    "          .format(epoch + 1, num_epochs, np.sqrt(running_loss / n_total), np.sqrt(val_loss / n_total), train_accuracy, test_accuracy))"
   ]
  },
  {
   "cell_type": "code",
   "execution_count": 36,
   "metadata": {
    "ExecuteTime": {
     "end_time": "2018-02-08T09:20:41.557515Z",
     "start_time": "2018-02-08T09:20:41.305067Z"
    }
   },
   "outputs": [
    {
     "data": {
      "image/png": "[encoded data removed]",
      "text/plain": [
       "<matplotlib.figure.Figure at 0x1185a52b0>"
      ]
     },
     "metadata": {},
     "output_type": "display_data"
    }
   ],
   "source": [
    "user_set = mx.nd.array((valid_users.astype('float32')))\n",
    "movie_set = mx.nd.array((valid_movies.astype('float32')))\n",
    "\n",
    "y_pred = model(user_set, movie_set).asnumpy().argmax(axis=1)\n",
    "y_pred = (y_pred + 1.) / 2\n",
    "\n",
    "plt.title(\"Distribution of Predictions\", fontsize=14)\n",
    "plt.ylabel(\"Count\", fontsize=14)\n",
    "plt.xlabel(\"Rating\", fontsize=14)\n",
    "plt.hist(y_pred)\n",
    "plt.show()"
   ]
  },
  {
   "cell_type": "code",
   "execution_count": 37,
   "metadata": {
    "ExecuteTime": {
     "end_time": "2018-02-08T09:20:41.562933Z",
     "start_time": "2018-02-08T09:20:41.558964Z"
    }
   },
   "outputs": [
    {
     "data": {
      "text/plain": [
       "1.6769615737851655"
      ]
     },
     "execution_count": 37,
     "metadata": {},
     "output_type": "execute_result"
    }
   ],
   "source": [
    "numpy.sqrt(((y_pred - valid_ratings) ** 2).mean())"
   ]
  }
 ],
 "metadata": {
  "kernelspec": {
   "display_name": "Python 3",
   "language": "python",
   "name": "python3"
  },
  "language_info": {
   "codemirror_mode": {
    "name": "ipython",
    "version": 3
   },
   "file_extension": ".py",
   "mimetype": "text/x-python",
   "name": "python",
   "nbconvert_exporter": "python",
   "pygments_lexer": "ipython3",
   "version": "3.5.2"
  }
 },
 "nbformat": 4,
 "nbformat_minor": 2
}
