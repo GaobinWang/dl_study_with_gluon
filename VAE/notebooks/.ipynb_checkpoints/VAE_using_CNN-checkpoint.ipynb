{
 "cells": [
  {
   "cell_type": "markdown",
   "metadata": {},
   "source": [
    "# VAE - gluon (by kk)"
   ]
  },
  {
   "cell_type": "code",
   "execution_count": 2,
   "metadata": {
    "ExecuteTime": {
     "end_time": "2018-01-14T11:53:34.777804Z",
     "start_time": "2018-01-14T11:53:33.781794Z"
    }
   },
   "outputs": [
    {
     "name": "stderr",
     "output_type": "stream",
     "text": [
      "/home/kionkim/anaconda3/envs/kion_venv_mxnet/lib/python3.6/site-packages/urllib3/contrib/pyopenssl.py:46: DeprecationWarning: OpenSSL.rand is deprecated - you should use os.urandom instead\n",
      "  import OpenSSL.SSL\n"
     ]
    }
   ],
   "source": [
    "import mxnet as mx\n",
    "from mxnet import nd, autograd, gluon\n",
    "import numpy as np\n",
    "from tqdm import tqdm\n",
    "\n",
    "gpu_ctx = mx.gpu(0)\n",
    "cpu_ctx = mx.cpu(0)"
   ]
  },
  {
   "cell_type": "markdown",
   "metadata": {},
   "source": [
    "# Parameters"
   ]
  },
  {
   "cell_type": "code",
   "execution_count": 3,
   "metadata": {
    "ExecuteTime": {
     "end_time": "2018-01-14T11:53:36.235111Z",
     "start_time": "2018-01-14T11:53:36.230269Z"
    },
    "collapsed": true
   },
   "outputs": [],
   "source": [
    "FILTERS = 64\n",
    "LATENT_DIM = 2\n",
    "BATCH_SIZE = 128\n",
    "IMG_CHNS = 1"
   ]
  },
  {
   "cell_type": "markdown",
   "metadata": {},
   "source": [
    "# Define functions"
   ]
  },
  {
   "cell_type": "code",
   "execution_count": 4,
   "metadata": {
    "ExecuteTime": {
     "end_time": "2018-01-14T11:53:37.857182Z",
     "start_time": "2018-01-14T11:53:37.797527Z"
    },
    "collapsed": true
   },
   "outputs": [],
   "source": [
    "def vae_loss(x, x_gen, z_mean, log_z_var):\n",
    "    x = nd.flatten(x)\n",
    "    x_gen = nd.flatten(x_gen)\n",
    "    #print('x shape = {}'.format(x.shape))\n",
    "    #print('x_gen sahpe = {}'.format(x_gen.shape))\n",
    "    # D_KL(q(z|X) || p(z))\n",
    "    kl_loss = -0.5 * nd.sum(1 + log_z_var - nd.square(z_mean) - nd.exp(log_z_var), axis = 1)\n",
    "    # E(log p(X|z))\n",
    "    log_loss = - nd.sum(x* nd.log(x_gen + 1e-6)+ (1-x)*nd.log(1-x_gen + 1e-6), axis=1)\n",
    "    return nd.sum(kl_loss + log_loss)\n",
    "\n",
    "\n",
    "    return nd.sum(kl_loss + recon_loss)\n",
    "\n",
    "def sample_z(args):\n",
    "    mean, log_var, batch_size, latent_dim = args\n",
    "    eps = nd.random_normal(shape = (batch_size, latent_dim), loc = 0., scale = 1., ctx = gpu_ctx)\n",
    "    #print(eps[0:5].asnumpy())\n",
    "    #print(log_var.shape)\n",
    "    #print(mean.shape)\n",
    "    #print(eps.shape)\n",
    "    return mean + nd.exp(log_var / 2) * eps\n",
    "\n",
    "class sample_layer(gluon.Block):\n",
    "    def __init__(self, *args):\n",
    "        super(sample_layer, self).__init__(*args)\n",
    "        self.args = args\n",
    "\n",
    "    def forward(self, x):\n",
    "        return sample_z(self.args)"
   ]
  },
  {
   "cell_type": "markdown",
   "metadata": {},
   "source": [
    "# Load Dataset\n",
    "* transform 함수는 한개의 data에 대해 적용됨\n",
    "* BATCH SIZE는 무시하고 dimension 변환\n"
   ]
  },
  {
   "cell_type": "code",
   "execution_count": 5,
   "metadata": {
    "ExecuteTime": {
     "end_time": "2018-01-14T11:53:40.657470Z",
     "start_time": "2018-01-14T11:53:39.509770Z"
    },
    "collapsed": true
   },
   "outputs": [],
   "source": [
    "mnist = mx.test_utils.get_mnist()\n",
    "\n",
    "def transform(data, label):\n",
    "    #print(data.shape)\n",
    "    res = nd.transpose(data, (2, 0, 1))\n",
    "    res = res.astype(np.float32) / 255\n",
    "    return res, label\n",
    "\n",
    "# lambda data, label: (data.astype(np.float32)/255, label)\n",
    "train_data = mx.gluon.data.DataLoader( \\\n",
    "                 mx.gluon.data.vision.MNIST( \\\n",
    "                     train = True, \\\n",
    "                     transform = transform), \\\n",
    "                     BATCH_SIZE, shuffle = True)\n",
    "\n",
    "test_data = mx.gluon.data.DataLoader( \\\n",
    "                 mx.gluon.data.vision.MNIST( \\\n",
    "                     train = False, transform = transform), \\\n",
    "                     BATCH_SIZE, shuffle=False)"
   ]
  },
  {
   "cell_type": "markdown",
   "metadata": {},
   "source": [
    "# Define Encoder"
   ]
  },
  {
   "cell_type": "code",
   "execution_count": 6,
   "metadata": {
    "ExecuteTime": {
     "end_time": "2018-01-14T11:53:41.323263Z",
     "start_time": "2018-01-14T11:53:41.223297Z"
    },
    "collapsed": true
   },
   "outputs": [],
   "source": [
    "class Encoder(gluon.Block):\n",
    "    def __init__(self, filters, latent_dim, **kwarg):\n",
    "        super(Encoder, self).__init__(**kwarg)\n",
    "        with self.name_scope():\n",
    "            # in_channel: 나중에 판단\n",
    "            # layout: NCHW\n",
    "            # 1 * 28 * 28\n",
    "            self.conv2D_1 = gluon.nn.Conv2D(channels = 1, strides = (1, 1), kernel_size = (3, 3), padding = (1, 1), activation = 'relu')\n",
    "            # 64 * 28 * 28\n",
    "            self.conv2D_2 = gluon.nn.Conv2D(channels = filters, strides =(1, 1), kernel_size = (3, 3), padding = (1, 1), activation = 'relu')\n",
    "            # 128 * 14 * 14\n",
    "            self.conv2D_3 = gluon.nn.Conv2D(channels = 2 * filters, strides = (2, 2), kernel_size = (3, 3), padding= (1, 1), activation = 'relu')\n",
    "            # 256 * 7 * 7\n",
    "            self.conv2D_4 = gluon.nn.Conv2D(channels = 4 * filters, strides = (2, 2), kernel_size = (3, 3), padding = (1, 1), activation = 'relu')\n",
    "            self.flatten = gluon.nn.Flatten()\n",
    "            self.Dense_1 = gluon.nn.Dense(units = 2 * latent_dim, activation = 'relu')\n",
    "            \n",
    "    def forward(self, x):\n",
    "        #print(\"input shape : {}\".format(x.shape))\n",
    "        x = self.conv2D_1(x)\n",
    "        #print(\"conv2D_1 shape : {}\".format(x.shape))\n",
    "        x = self.conv2D_2(x)\n",
    "        #print(\"conv2D_2 shape : {}\".format(x.shape))\n",
    "        x = self.conv2D_3(x)\n",
    "        #print(\"conv2D_3 shape : {}\".format(x.shape))\n",
    "        x = self.conv2D_4(x)\n",
    "        #print(\"conv2D_4 shape : {}\".format(x.shape))\n",
    "        x = self.flatten(x)\n",
    "        #print(\"flatten shape : {}\".format(x.shape))\n",
    "        x = self.Dense_1(x)\n",
    "        #print(\"Dense_1 shape : {}\".format(x.shape))\n",
    "        return x"
   ]
  },
  {
   "cell_type": "markdown",
   "metadata": {},
   "source": [
    "## check encoder dimensions"
   ]
  },
  {
   "cell_type": "code",
   "execution_count": 7,
   "metadata": {
    "ExecuteTime": {
     "end_time": "2018-01-14T11:53:44.619278Z",
     "start_time": "2018-01-14T11:53:42.693712Z"
    }
   },
   "outputs": [
    {
     "name": "stdout",
     "output_type": "stream",
     "text": [
      "Encoder(\n",
      "  (conv2D_1): Conv2D(None -> 1, kernel_size=(3, 3), stride=(1, 1), padding=(1, 1))\n",
      "  (conv2D_2): Conv2D(None -> 64, kernel_size=(3, 3), stride=(1, 1), padding=(1, 1))\n",
      "  (conv2D_3): Conv2D(None -> 128, kernel_size=(3, 3), stride=(2, 2), padding=(1, 1))\n",
      "  (conv2D_4): Conv2D(None -> 256, kernel_size=(3, 3), stride=(2, 2), padding=(1, 1))\n",
      "  (flatten): Flatten\n",
      "  (Dense_1): Dense(None -> 4, Activation(relu))\n",
      ")\n"
     ]
    },
    {
     "data": {
      "text/plain": [
       "(1, 4)"
      ]
     },
     "execution_count": 7,
     "metadata": {},
     "output_type": "execute_result"
    }
   ],
   "source": [
    "enc = Encoder(FILTERS, LATENT_DIM)\n",
    "print(enc)\n",
    "enc.collect_params().initialize(mx.init.Xavier(magnitude=2.24), ctx = gpu_ctx)\n",
    "test_input = nd.random_normal(0,1,(1, 1, 28, 28), ctx = gpu_ctx)\n",
    "enc(test_input).shape"
   ]
  },
  {
   "cell_type": "markdown",
   "metadata": {},
   "source": [
    "# Define Decoder\n",
    "* in_units는 설정하지 않음\n",
    "* 여러 block을 사용할 것이므로, name_scope를 꼭 사용"
   ]
  },
  {
   "cell_type": "code",
   "execution_count": 8,
   "metadata": {
    "ExecuteTime": {
     "end_time": "2018-01-14T11:53:44.699399Z",
     "start_time": "2018-01-14T11:53:44.620857Z"
    },
    "collapsed": true
   },
   "outputs": [],
   "source": [
    "class Decoder(gluon.Block):\n",
    "    def __init__(self, filters, img_chns, **kwargs):\n",
    "        super(Decoder, self).__init__(**kwargs)\n",
    "        with self.name_scope():\n",
    "            self.dense_1 = gluon.nn.Dense(units = 7 * 7 * filters * 4, activation = 'relu')\n",
    "            # 256 * 7 * 7\n",
    "            self.conv_trans_1 = gluon.nn.Conv2DTranspose(channels = filters * 4, kernel_size = (3, 3)\\\n",
    "                                                         , strides = (1, 1), padding = (1, 1), output_padding = (0, 0)\\\n",
    "                                                         , activation = 'relu')\n",
    "            # 128 * 14 * 14 \n",
    "            self.conv_trans_2 = gluon.nn.Conv2DTranspose(channels = filters * 2, kernel_size = (3, 3)\\\n",
    "                                                         , strides = (2, 2), padding = (1, 1), output_padding = (1, 1)\\\n",
    "                                                         , activation = 'relu')\n",
    "            # 64 * 28 * 28\n",
    "            self.conv_trans_3 = gluon.nn.Conv2DTranspose(channels = filters, kernel_size = (3, 3)\\\n",
    "                                                         , strides = (2, 2), padding = (1, 1), output_padding = (1, 1)\\\n",
    "                                                         , activation = 'relu')\n",
    "            # 1 * 28 * 28\n",
    "            self.conv_trans_4 = gluon.nn.Conv2DTranspose(channels = img_chns, kernel_size = (3, 3)\\\n",
    "                                                         , strides = (1, 1), padding = (1, 1), output_padding = (0, 0)\\\n",
    "                                                         , activation = 'sigmoid')\n",
    "    \n",
    "    def forward(self, x):\n",
    "        x = self.dense_1(x)\n",
    "        #print('after dense....%s'%str(x.shape))\n",
    "        x = x.reshape((-1, FILTERS * 4, 7, 7))\n",
    "        #print('after reshape....%s'%str(x.shape))\n",
    "        x = self.conv_trans_1(x)\n",
    "        #print('after conv_trans_1.... %s'%str(x.shape))\n",
    "        x = self.conv_trans_2(x)\n",
    "        #print('after conv_trans_2.... %s'%str(x.shape))\n",
    "        x = self.conv_trans_3(x)\n",
    "        #print('after conv_trans_3.... %s'%str(x.shape))\n",
    "        x = self.conv_trans_4(x)\n",
    "        #print('after conv_trans_4.... %s'%str(x.shape))\n",
    "        return x"
   ]
  },
  {
   "cell_type": "markdown",
   "metadata": {},
   "source": [
    "## Check decoder dimensions\n",
    "* 4-dim으로 reshape NCHW\n",
    "* decoder의 input으로 (-1, HIDDEN_DIM)으로 변환해서 넣어주어야 함 (data.reshape(-1, HIDDEN_DIM) 이용)"
   ]
  },
  {
   "cell_type": "code",
   "execution_count": 9,
   "metadata": {
    "ExecuteTime": {
     "end_time": "2018-01-14T11:53:46.288585Z",
     "start_time": "2018-01-14T11:53:46.174711Z"
    },
    "scrolled": true
   },
   "outputs": [
    {
     "name": "stdout",
     "output_type": "stream",
     "text": [
      "Decoder(\n",
      "  (dense_1): Dense(None -> 12544, Activation(relu))\n",
      "  (conv_trans_1): Conv2DTranspose(256 -> 0, kernel_size=(3, 3), stride=(1, 1), padding=(1, 1))\n",
      "  (conv_trans_2): Conv2DTranspose(128 -> 0, kernel_size=(3, 3), stride=(2, 2), padding=(1, 1))\n",
      "  (conv_trans_3): Conv2DTranspose(64 -> 0, kernel_size=(3, 3), stride=(2, 2), padding=(1, 1))\n",
      "  (conv_trans_4): Conv2DTranspose(1 -> 0, kernel_size=(3, 3), stride=(1, 1), padding=(1, 1))\n",
      ")\n"
     ]
    },
    {
     "data": {
      "text/plain": [
       "(1, 1, 28, 28)"
      ]
     },
     "execution_count": 9,
     "metadata": {},
     "output_type": "execute_result"
    }
   ],
   "source": [
    "dec = Decoder(FILTERS, IMG_CHNS)\n",
    "print(dec)\n",
    "dec.collect_params().initialize(mx.init.Xavier(magnitude=2.24), ctx = gpu_ctx)\n",
    "# Simulate dimension\n",
    "test_input = nd.random_normal(0,1,shape= LATENT_DIM, ctx = gpu_ctx)\n",
    "test_input = test_input.reshape((-1, LATENT_DIM))\n",
    "dec(test_input).shape"
   ]
  },
  {
   "cell_type": "code",
   "execution_count": 10,
   "metadata": {
    "ExecuteTime": {
     "end_time": "2018-01-14T11:53:48.164128Z",
     "start_time": "2018-01-14T11:53:48.109452Z"
    },
    "collapsed": true
   },
   "outputs": [],
   "source": [
    "# Batch size가 필요함\n",
    "# name_scope를 사용해야 함\n",
    "class VAE(gluon.Block):\n",
    "    def __init__(self, batch_size, filters, latent_dim, img_chns, **kwargs):\n",
    "        super(VAE, self).__init__(**kwargs)\n",
    "        with self.name_scope():\n",
    "            self.enc = Encoder(filters, latent_dim)\n",
    "            self.dec = Decoder(filters, img_chns)\n",
    "            self.latent_dim = latent_dim\n",
    "            self.batch_size = batch_size\n",
    "            # 어떤 모양으로 들어올지 모르기 때문\n",
    "            self.z_mean = nd.zeros((batch_size, latent_dim), ctx = gpu_ctx)\n",
    "            self.log_z_var = nd.zeros((batch_size, latent_dim), ctx = gpu_ctx)\n",
    "        \n",
    "    def forward(self, x):\n",
    "        x = self.enc(x)\n",
    "        #print('x\\'s shape after enc = {}'.format(x.shape))\n",
    "        self.z_mean = x.slice(begin = (None, 0), end = (None, self.latent_dim))\n",
    "        self.log_z_var = x.slice(begin = (None, self.latent_dim), end = (None, 2 * self.latent_dim))\n",
    "        z = sample_z([self.z_mean, self.log_z_var, self.batch_size, self.latent_dim])\n",
    "        #print('z\\'s shape = {}'.format(z.shape))\n",
    "        #print('z_mean\\'s shape = {}'.format(self.log_z_var.shape))\n",
    "        #print('log_z_var\\'s shape = {}'.format(self.log_z_var.shape))\n",
    "        x_gen = self.dec(z)\n",
    "        return x_gen, self.z_mean, self.log_z_var"
   ]
  },
  {
   "cell_type": "code",
   "execution_count": 11,
   "metadata": {
    "ExecuteTime": {
     "end_time": "2018-01-14T11:53:50.279276Z",
     "start_time": "2018-01-14T11:53:50.268587Z"
    }
   },
   "outputs": [
    {
     "name": "stdout",
     "output_type": "stream",
     "text": [
      "VAE(\n",
      "  (enc): Encoder(\n",
      "    (conv2D_1): Conv2D(None -> 1, kernel_size=(3, 3), stride=(1, 1), padding=(1, 1))\n",
      "    (conv2D_2): Conv2D(None -> 64, kernel_size=(3, 3), stride=(1, 1), padding=(1, 1))\n",
      "    (conv2D_3): Conv2D(None -> 128, kernel_size=(3, 3), stride=(2, 2), padding=(1, 1))\n",
      "    (conv2D_4): Conv2D(None -> 256, kernel_size=(3, 3), stride=(2, 2), padding=(1, 1))\n",
      "    (flatten): Flatten\n",
      "    (Dense_1): Dense(None -> 4, Activation(relu))\n",
      "  )\n",
      "  (dec): Decoder(\n",
      "    (dense_1): Dense(None -> 12544, Activation(relu))\n",
      "    (conv_trans_1): Conv2DTranspose(256 -> 0, kernel_size=(3, 3), stride=(1, 1), padding=(1, 1))\n",
      "    (conv_trans_2): Conv2DTranspose(128 -> 0, kernel_size=(3, 3), stride=(2, 2), padding=(1, 1))\n",
      "    (conv_trans_3): Conv2DTranspose(64 -> 0, kernel_size=(3, 3), stride=(2, 2), padding=(1, 1))\n",
      "    (conv_trans_4): Conv2DTranspose(1 -> 0, kernel_size=(3, 3), stride=(1, 1), padding=(1, 1))\n",
      "  )\n",
      ")\n"
     ]
    }
   ],
   "source": [
    "vae = VAE(BATCH_SIZE, FILTERS, LATENT_DIM, IMG_CHNS)\n",
    "print(vae)"
   ]
  },
  {
   "cell_type": "markdown",
   "metadata": {},
   "source": [
    "## Check VAE dimensions"
   ]
  },
  {
   "cell_type": "code",
   "execution_count": 12,
   "metadata": {
    "ExecuteTime": {
     "end_time": "2018-01-14T11:53:53.075881Z",
     "start_time": "2018-01-14T11:53:52.870452Z"
    }
   },
   "outputs": [
    {
     "data": {
      "text/plain": [
       "(128, 1, 28, 28)"
      ]
     },
     "execution_count": 12,
     "metadata": {},
     "output_type": "execute_result"
    }
   ],
   "source": [
    "# Simulate dimension\n",
    "test_input = nd.random_normal(0,1,shape= (1, 1, 28, 28), ctx = gpu_ctx)\n",
    "vae.collect_params().initialize(mx.init.Xavier(magnitude= 2.24), ctx = gpu_ctx)\n",
    "vae(test_input)[0].shape"
   ]
  },
  {
   "cell_type": "markdown",
   "metadata": {},
   "source": [
    "# Define Trainer"
   ]
  },
  {
   "cell_type": "code",
   "execution_count": 13,
   "metadata": {
    "ExecuteTime": {
     "end_time": "2018-01-14T11:53:56.896979Z",
     "start_time": "2018-01-14T11:53:56.892785Z"
    },
    "collapsed": true
   },
   "outputs": [],
   "source": [
    "trainer = gluon.Trainer(vae.collect_params(), 'adam', {'learning_rate': .001})"
   ]
  },
  {
   "cell_type": "markdown",
   "metadata": {},
   "source": [
    "# Training"
   ]
  },
  {
   "cell_type": "code",
   "execution_count": 14,
   "metadata": {
    "ExecuteTime": {
     "end_time": "2018-01-14T11:54:22.439772Z",
     "start_time": "2018-01-14T11:54:05.887659Z"
    }
   },
   "outputs": [
    {
     "ename": "MXNetError",
     "evalue": "[20:54:22] src/operator/tensor/./elemwise_binary_broadcast_op.h:67: Check failed: l == 1 || r == 1 operands could not be broadcast together with shapes [96,2] [128,2]\n\nStack trace returned 10 entries:\n[bt] (0) /home/kionkim/anaconda3/envs/kion_venv_mxnet/lib/python3.6/site-packages/mxnet/libmxnet.so(+0x28965c) [0x7f0b11daa65c]\n[bt] (1) /home/kionkim/anaconda3/envs/kion_venv_mxnet/lib/python3.6/site-packages/mxnet/libmxnet.so(+0x90a7ff) [0x7f0b1242b7ff]\n[bt] (2) /home/kionkim/anaconda3/envs/kion_venv_mxnet/lib/python3.6/site-packages/mxnet/libmxnet.so(+0x24d573f) [0x7f0b13ff673f]\n[bt] (3) /home/kionkim/anaconda3/envs/kion_venv_mxnet/lib/python3.6/site-packages/mxnet/libmxnet.so(+0x24c1be9) [0x7f0b13fe2be9]\n[bt] (4) /home/kionkim/anaconda3/envs/kion_venv_mxnet/lib/python3.6/site-packages/mxnet/libmxnet.so(+0x24026bb) [0x7f0b13f236bb]\n[bt] (5) /home/kionkim/anaconda3/envs/kion_venv_mxnet/lib/python3.6/site-packages/mxnet/libmxnet.so(MXImperativeInvokeEx+0x63) [0x7f0b13f23bf3]\n[bt] (6) /home/kionkim/anaconda3/envs/kion_venv_mxnet/lib/python3.6/lib-dynload/../../libffi.so.6(ffi_call_unix64+0x4c) [0x7f0b50600ec0]\n[bt] (7) /home/kionkim/anaconda3/envs/kion_venv_mxnet/lib/python3.6/lib-dynload/../../libffi.so.6(ffi_call+0x22d) [0x7f0b5060087d]\n[bt] (8) /home/kionkim/anaconda3/envs/kion_venv_mxnet/lib/python3.6/lib-dynload/_ctypes.cpython-36m-x86_64-linux-gnu.so(_ctypes_callproc+0x2ce) [0x7f0b5081582e]\n[bt] (9) /home/kionkim/anaconda3/envs/kion_venv_mxnet/lib/python3.6/lib-dynload/_ctypes.cpython-36m-x86_64-linux-gnu.so(+0x12265) [0x7f0b50816265]\n",
     "output_type": "error",
     "traceback": [
      "\u001b[0;31m---------------------------------------------------------------------------\u001b[0m",
      "\u001b[0;31mMXNetError\u001b[0m                                Traceback (most recent call last)",
      "\u001b[0;32m<ipython-input-14-7049d8ed55e6>\u001b[0m in \u001b[0;36m<module>\u001b[0;34m()\u001b[0m\n\u001b[1;32m      9\u001b[0m         \u001b[0;32mif\u001b[0m \u001b[0mi\u001b[0m \u001b[0;34m==\u001b[0m \u001b[0;36m0\u001b[0m\u001b[0;34m:\u001b[0m\u001b[0;34m\u001b[0m\u001b[0m\n\u001b[1;32m     10\u001b[0m             \u001b[0mprint\u001b[0m\u001b[0;34m(\u001b[0m\u001b[0;34m'...start algorithm'\u001b[0m\u001b[0;34m)\u001b[0m\u001b[0;34m\u001b[0m\u001b[0m\n\u001b[0;32m---> 11\u001b[0;31m         \u001b[0mx_gen\u001b[0m\u001b[0;34m,\u001b[0m \u001b[0mz_mean\u001b[0m\u001b[0;34m,\u001b[0m \u001b[0mlog_z_var\u001b[0m \u001b[0;34m=\u001b[0m \u001b[0mvae\u001b[0m\u001b[0;34m(\u001b[0m\u001b[0mx\u001b[0m\u001b[0;34m)\u001b[0m\u001b[0;34m\u001b[0m\u001b[0m\n\u001b[0m\u001b[1;32m     12\u001b[0m         \u001b[0mloss\u001b[0m \u001b[0;34m=\u001b[0m \u001b[0mvae_loss\u001b[0m\u001b[0;34m(\u001b[0m\u001b[0mx\u001b[0m\u001b[0;34m,\u001b[0m \u001b[0mx_gen\u001b[0m\u001b[0;34m,\u001b[0m \u001b[0mz_mean\u001b[0m\u001b[0;34m,\u001b[0m \u001b[0mlog_z_var\u001b[0m\u001b[0;34m)\u001b[0m\u001b[0;34m\u001b[0m\u001b[0m\n\u001b[1;32m     13\u001b[0m     \u001b[0mloss\u001b[0m\u001b[0;34m.\u001b[0m\u001b[0mbackward\u001b[0m\u001b[0;34m(\u001b[0m\u001b[0;34m)\u001b[0m\u001b[0;34m\u001b[0m\u001b[0m\n",
      "\u001b[0;32m~/anaconda3/envs/kion_venv_mxnet/lib/python3.6/site-packages/mxnet/gluon/block.py\u001b[0m in \u001b[0;36m__call__\u001b[0;34m(self, *args)\u001b[0m\n\u001b[1;32m    302\u001b[0m     \u001b[0;32mdef\u001b[0m \u001b[0m__call__\u001b[0m\u001b[0;34m(\u001b[0m\u001b[0mself\u001b[0m\u001b[0;34m,\u001b[0m \u001b[0;34m*\u001b[0m\u001b[0margs\u001b[0m\u001b[0;34m)\u001b[0m\u001b[0;34m:\u001b[0m\u001b[0;34m\u001b[0m\u001b[0m\n\u001b[1;32m    303\u001b[0m         \u001b[0;34m\"\"\"Calls forward. Only accepts positional arguments.\"\"\"\u001b[0m\u001b[0;34m\u001b[0m\u001b[0m\n\u001b[0;32m--> 304\u001b[0;31m         \u001b[0;32mreturn\u001b[0m \u001b[0mself\u001b[0m\u001b[0;34m.\u001b[0m\u001b[0mforward\u001b[0m\u001b[0;34m(\u001b[0m\u001b[0;34m*\u001b[0m\u001b[0margs\u001b[0m\u001b[0;34m)\u001b[0m\u001b[0;34m\u001b[0m\u001b[0m\n\u001b[0m\u001b[1;32m    305\u001b[0m \u001b[0;34m\u001b[0m\u001b[0m\n\u001b[1;32m    306\u001b[0m     \u001b[0;32mdef\u001b[0m \u001b[0mforward\u001b[0m\u001b[0;34m(\u001b[0m\u001b[0mself\u001b[0m\u001b[0;34m,\u001b[0m \u001b[0;34m*\u001b[0m\u001b[0margs\u001b[0m\u001b[0;34m)\u001b[0m\u001b[0;34m:\u001b[0m\u001b[0;34m\u001b[0m\u001b[0m\n",
      "\u001b[0;32m<ipython-input-10-6cf7f7f81831>\u001b[0m in \u001b[0;36mforward\u001b[0;34m(self, x)\u001b[0m\n\u001b[1;32m     18\u001b[0m         \u001b[0mself\u001b[0m\u001b[0;34m.\u001b[0m\u001b[0mz_mean\u001b[0m \u001b[0;34m=\u001b[0m \u001b[0mx\u001b[0m\u001b[0;34m.\u001b[0m\u001b[0mslice\u001b[0m\u001b[0;34m(\u001b[0m\u001b[0mbegin\u001b[0m \u001b[0;34m=\u001b[0m \u001b[0;34m(\u001b[0m\u001b[0;32mNone\u001b[0m\u001b[0;34m,\u001b[0m \u001b[0;36m0\u001b[0m\u001b[0;34m)\u001b[0m\u001b[0;34m,\u001b[0m \u001b[0mend\u001b[0m \u001b[0;34m=\u001b[0m \u001b[0;34m(\u001b[0m\u001b[0;32mNone\u001b[0m\u001b[0;34m,\u001b[0m \u001b[0mself\u001b[0m\u001b[0;34m.\u001b[0m\u001b[0mlatent_dim\u001b[0m\u001b[0;34m)\u001b[0m\u001b[0;34m)\u001b[0m\u001b[0;34m\u001b[0m\u001b[0m\n\u001b[1;32m     19\u001b[0m         \u001b[0mself\u001b[0m\u001b[0;34m.\u001b[0m\u001b[0mlog_z_var\u001b[0m \u001b[0;34m=\u001b[0m \u001b[0mx\u001b[0m\u001b[0;34m.\u001b[0m\u001b[0mslice\u001b[0m\u001b[0;34m(\u001b[0m\u001b[0mbegin\u001b[0m \u001b[0;34m=\u001b[0m \u001b[0;34m(\u001b[0m\u001b[0;32mNone\u001b[0m\u001b[0;34m,\u001b[0m \u001b[0mself\u001b[0m\u001b[0;34m.\u001b[0m\u001b[0mlatent_dim\u001b[0m\u001b[0;34m)\u001b[0m\u001b[0;34m,\u001b[0m \u001b[0mend\u001b[0m \u001b[0;34m=\u001b[0m \u001b[0;34m(\u001b[0m\u001b[0;32mNone\u001b[0m\u001b[0;34m,\u001b[0m \u001b[0;36m2\u001b[0m \u001b[0;34m*\u001b[0m \u001b[0mself\u001b[0m\u001b[0;34m.\u001b[0m\u001b[0mlatent_dim\u001b[0m\u001b[0;34m)\u001b[0m\u001b[0;34m)\u001b[0m\u001b[0;34m\u001b[0m\u001b[0m\n\u001b[0;32m---> 20\u001b[0;31m         \u001b[0mz\u001b[0m \u001b[0;34m=\u001b[0m \u001b[0msample_z\u001b[0m\u001b[0;34m(\u001b[0m\u001b[0;34m[\u001b[0m\u001b[0mself\u001b[0m\u001b[0;34m.\u001b[0m\u001b[0mz_mean\u001b[0m\u001b[0;34m,\u001b[0m \u001b[0mself\u001b[0m\u001b[0;34m.\u001b[0m\u001b[0mlog_z_var\u001b[0m\u001b[0;34m,\u001b[0m \u001b[0mself\u001b[0m\u001b[0;34m.\u001b[0m\u001b[0mbatch_size\u001b[0m\u001b[0;34m,\u001b[0m \u001b[0mself\u001b[0m\u001b[0;34m.\u001b[0m\u001b[0mlatent_dim\u001b[0m\u001b[0;34m]\u001b[0m\u001b[0;34m)\u001b[0m\u001b[0;34m\u001b[0m\u001b[0m\n\u001b[0m\u001b[1;32m     21\u001b[0m         \u001b[0;31m#print('z\\'s shape = {}'.format(z.shape))\u001b[0m\u001b[0;34m\u001b[0m\u001b[0;34m\u001b[0m\u001b[0m\n\u001b[1;32m     22\u001b[0m         \u001b[0;31m#print('z_mean\\'s shape = {}'.format(self.log_z_var.shape))\u001b[0m\u001b[0;34m\u001b[0m\u001b[0;34m\u001b[0m\u001b[0m\n",
      "\u001b[0;32m<ipython-input-4-b59ef4b58977>\u001b[0m in \u001b[0;36msample_z\u001b[0;34m(args)\u001b[0m\n\u001b[1;32m     19\u001b[0m     \u001b[0;31m#print(mean.shape)\u001b[0m\u001b[0;34m\u001b[0m\u001b[0;34m\u001b[0m\u001b[0m\n\u001b[1;32m     20\u001b[0m     \u001b[0;31m#print(eps.shape)\u001b[0m\u001b[0;34m\u001b[0m\u001b[0;34m\u001b[0m\u001b[0m\n\u001b[0;32m---> 21\u001b[0;31m     \u001b[0;32mreturn\u001b[0m \u001b[0mmean\u001b[0m \u001b[0;34m+\u001b[0m \u001b[0mnd\u001b[0m\u001b[0;34m.\u001b[0m\u001b[0mexp\u001b[0m\u001b[0;34m(\u001b[0m\u001b[0mlog_var\u001b[0m \u001b[0;34m/\u001b[0m \u001b[0;36m2\u001b[0m\u001b[0;34m)\u001b[0m \u001b[0;34m*\u001b[0m \u001b[0meps\u001b[0m\u001b[0;34m\u001b[0m\u001b[0m\n\u001b[0m\u001b[1;32m     22\u001b[0m \u001b[0;34m\u001b[0m\u001b[0m\n\u001b[1;32m     23\u001b[0m \u001b[0;32mclass\u001b[0m \u001b[0msample_layer\u001b[0m\u001b[0;34m(\u001b[0m\u001b[0mgluon\u001b[0m\u001b[0;34m.\u001b[0m\u001b[0mBlock\u001b[0m\u001b[0;34m)\u001b[0m\u001b[0;34m:\u001b[0m\u001b[0;34m\u001b[0m\u001b[0m\n",
      "\u001b[0;32m~/anaconda3/envs/kion_venv_mxnet/lib/python3.6/site-packages/mxnet/ndarray/ndarray.py\u001b[0m in \u001b[0;36m__mul__\u001b[0;34m(self, other)\u001b[0m\n\u001b[1;32m    233\u001b[0m     \u001b[0;32mdef\u001b[0m \u001b[0m__mul__\u001b[0m\u001b[0;34m(\u001b[0m\u001b[0mself\u001b[0m\u001b[0;34m,\u001b[0m \u001b[0mother\u001b[0m\u001b[0;34m)\u001b[0m\u001b[0;34m:\u001b[0m\u001b[0;34m\u001b[0m\u001b[0m\n\u001b[1;32m    234\u001b[0m         \u001b[0;34m\"\"\"x.__mul__(y) <=> x*y <=> mx.nd.multiply(x, y) \"\"\"\u001b[0m\u001b[0;34m\u001b[0m\u001b[0m\n\u001b[0;32m--> 235\u001b[0;31m         \u001b[0;32mreturn\u001b[0m \u001b[0mmultiply\u001b[0m\u001b[0;34m(\u001b[0m\u001b[0mself\u001b[0m\u001b[0;34m,\u001b[0m \u001b[0mother\u001b[0m\u001b[0;34m)\u001b[0m\u001b[0;34m\u001b[0m\u001b[0m\n\u001b[0m\u001b[1;32m    236\u001b[0m \u001b[0;34m\u001b[0m\u001b[0m\n\u001b[1;32m    237\u001b[0m     \u001b[0;32mdef\u001b[0m \u001b[0m__neg__\u001b[0m\u001b[0;34m(\u001b[0m\u001b[0mself\u001b[0m\u001b[0;34m)\u001b[0m\u001b[0;34m:\u001b[0m\u001b[0;34m\u001b[0m\u001b[0m\n",
      "\u001b[0;32m~/anaconda3/envs/kion_venv_mxnet/lib/python3.6/site-packages/mxnet/ndarray/ndarray.py\u001b[0m in \u001b[0;36mmultiply\u001b[0;34m(lhs, rhs)\u001b[0m\n\u001b[1;32m   2564\u001b[0m         \u001b[0moperator\u001b[0m\u001b[0;34m.\u001b[0m\u001b[0mmul\u001b[0m\u001b[0;34m,\u001b[0m\u001b[0;34m\u001b[0m\u001b[0m\n\u001b[1;32m   2565\u001b[0m         \u001b[0m_internal\u001b[0m\u001b[0;34m.\u001b[0m\u001b[0m_mul_scalar\u001b[0m\u001b[0;34m,\u001b[0m\u001b[0;34m\u001b[0m\u001b[0m\n\u001b[0;32m-> 2566\u001b[0;31m         None)\n\u001b[0m\u001b[1;32m   2567\u001b[0m     \u001b[0;31m# pylint: enable= no-member, protected-access\u001b[0m\u001b[0;34m\u001b[0m\u001b[0;34m\u001b[0m\u001b[0m\n\u001b[1;32m   2568\u001b[0m \u001b[0;34m\u001b[0m\u001b[0m\n",
      "\u001b[0;32m~/anaconda3/envs/kion_venv_mxnet/lib/python3.6/site-packages/mxnet/ndarray/ndarray.py\u001b[0m in \u001b[0;36m_ufunc_helper\u001b[0;34m(lhs, rhs, fn_array, fn_scalar, lfn_scalar, rfn_scalar)\u001b[0m\n\u001b[1;32m   2377\u001b[0m         \u001b[0;32mreturn\u001b[0m \u001b[0mlfn_scalar\u001b[0m\u001b[0;34m(\u001b[0m\u001b[0mlhs\u001b[0m\u001b[0;34m,\u001b[0m \u001b[0mfloat\u001b[0m\u001b[0;34m(\u001b[0m\u001b[0mrhs\u001b[0m\u001b[0;34m)\u001b[0m\u001b[0;34m)\u001b[0m\u001b[0;34m\u001b[0m\u001b[0m\n\u001b[1;32m   2378\u001b[0m     \u001b[0;32melif\u001b[0m \u001b[0misinstance\u001b[0m\u001b[0;34m(\u001b[0m\u001b[0mrhs\u001b[0m\u001b[0;34m,\u001b[0m \u001b[0mNDArray\u001b[0m\u001b[0;34m)\u001b[0m\u001b[0;34m:\u001b[0m\u001b[0;34m\u001b[0m\u001b[0m\n\u001b[0;32m-> 2379\u001b[0;31m         \u001b[0;32mreturn\u001b[0m \u001b[0mfn_array\u001b[0m\u001b[0;34m(\u001b[0m\u001b[0mlhs\u001b[0m\u001b[0;34m,\u001b[0m \u001b[0mrhs\u001b[0m\u001b[0;34m)\u001b[0m\u001b[0;34m\u001b[0m\u001b[0m\n\u001b[0m\u001b[1;32m   2380\u001b[0m     \u001b[0;32melse\u001b[0m\u001b[0;34m:\u001b[0m\u001b[0;34m\u001b[0m\u001b[0m\n\u001b[1;32m   2381\u001b[0m         \u001b[0;32mraise\u001b[0m \u001b[0mTypeError\u001b[0m\u001b[0;34m(\u001b[0m\u001b[0;34m'type %s not supported'\u001b[0m \u001b[0;34m%\u001b[0m \u001b[0mstr\u001b[0m\u001b[0;34m(\u001b[0m\u001b[0mtype\u001b[0m\u001b[0;34m(\u001b[0m\u001b[0mrhs\u001b[0m\u001b[0;34m)\u001b[0m\u001b[0;34m)\u001b[0m\u001b[0;34m)\u001b[0m\u001b[0;34m\u001b[0m\u001b[0m\n",
      "\u001b[0;32m~/anaconda3/envs/kion_venv_mxnet/lib/python3.6/site-packages/mxnet/ndarray/register.py\u001b[0m in \u001b[0;36mbroadcast_mul\u001b[0;34m(lhs, rhs, out, name, **kwargs)\u001b[0m\n",
      "\u001b[0;32m~/anaconda3/envs/kion_venv_mxnet/lib/python3.6/site-packages/mxnet/_ctypes/ndarray.py\u001b[0m in \u001b[0;36m_imperative_invoke\u001b[0;34m(handle, ndargs, keys, vals, out)\u001b[0m\n\u001b[1;32m     90\u001b[0m         \u001b[0mc_str_array\u001b[0m\u001b[0;34m(\u001b[0m\u001b[0mkeys\u001b[0m\u001b[0;34m)\u001b[0m\u001b[0;34m,\u001b[0m\u001b[0;34m\u001b[0m\u001b[0m\n\u001b[1;32m     91\u001b[0m         \u001b[0mc_str_array\u001b[0m\u001b[0;34m(\u001b[0m\u001b[0;34m[\u001b[0m\u001b[0mstr\u001b[0m\u001b[0;34m(\u001b[0m\u001b[0ms\u001b[0m\u001b[0;34m)\u001b[0m \u001b[0;32mfor\u001b[0m \u001b[0ms\u001b[0m \u001b[0;32min\u001b[0m \u001b[0mvals\u001b[0m\u001b[0;34m]\u001b[0m\u001b[0;34m)\u001b[0m\u001b[0;34m,\u001b[0m\u001b[0;34m\u001b[0m\u001b[0m\n\u001b[0;32m---> 92\u001b[0;31m         ctypes.byref(out_stypes)))\n\u001b[0m\u001b[1;32m     93\u001b[0m \u001b[0;34m\u001b[0m\u001b[0m\n\u001b[1;32m     94\u001b[0m     \u001b[0;32mif\u001b[0m \u001b[0moriginal_output\u001b[0m \u001b[0;32mis\u001b[0m \u001b[0;32mnot\u001b[0m \u001b[0;32mNone\u001b[0m\u001b[0;34m:\u001b[0m\u001b[0;34m\u001b[0m\u001b[0m\n",
      "\u001b[0;32m~/anaconda3/envs/kion_venv_mxnet/lib/python3.6/site-packages/mxnet/base.py\u001b[0m in \u001b[0;36mcheck_call\u001b[0;34m(ret)\u001b[0m\n\u001b[1;32m    144\u001b[0m     \"\"\"\n\u001b[1;32m    145\u001b[0m     \u001b[0;32mif\u001b[0m \u001b[0mret\u001b[0m \u001b[0;34m!=\u001b[0m \u001b[0;36m0\u001b[0m\u001b[0;34m:\u001b[0m\u001b[0;34m\u001b[0m\u001b[0m\n\u001b[0;32m--> 146\u001b[0;31m         \u001b[0;32mraise\u001b[0m \u001b[0mMXNetError\u001b[0m\u001b[0;34m(\u001b[0m\u001b[0mpy_str\u001b[0m\u001b[0;34m(\u001b[0m\u001b[0m_LIB\u001b[0m\u001b[0;34m.\u001b[0m\u001b[0mMXGetLastError\u001b[0m\u001b[0;34m(\u001b[0m\u001b[0;34m)\u001b[0m\u001b[0;34m)\u001b[0m\u001b[0;34m)\u001b[0m\u001b[0;34m\u001b[0m\u001b[0m\n\u001b[0m\u001b[1;32m    147\u001b[0m \u001b[0;34m\u001b[0m\u001b[0m\n\u001b[1;32m    148\u001b[0m \u001b[0;34m\u001b[0m\u001b[0m\n",
      "\u001b[0;31mMXNetError\u001b[0m: [20:54:22] src/operator/tensor/./elemwise_binary_broadcast_op.h:67: Check failed: l == 1 || r == 1 operands could not be broadcast together with shapes [96,2] [128,2]\n\nStack trace returned 10 entries:\n[bt] (0) /home/kionkim/anaconda3/envs/kion_venv_mxnet/lib/python3.6/site-packages/mxnet/libmxnet.so(+0x28965c) [0x7f0b11daa65c]\n[bt] (1) /home/kionkim/anaconda3/envs/kion_venv_mxnet/lib/python3.6/site-packages/mxnet/libmxnet.so(+0x90a7ff) [0x7f0b1242b7ff]\n[bt] (2) /home/kionkim/anaconda3/envs/kion_venv_mxnet/lib/python3.6/site-packages/mxnet/libmxnet.so(+0x24d573f) [0x7f0b13ff673f]\n[bt] (3) /home/kionkim/anaconda3/envs/kion_venv_mxnet/lib/python3.6/site-packages/mxnet/libmxnet.so(+0x24c1be9) [0x7f0b13fe2be9]\n[bt] (4) /home/kionkim/anaconda3/envs/kion_venv_mxnet/lib/python3.6/site-packages/mxnet/libmxnet.so(+0x24026bb) [0x7f0b13f236bb]\n[bt] (5) /home/kionkim/anaconda3/envs/kion_venv_mxnet/lib/python3.6/site-packages/mxnet/libmxnet.so(MXImperativeInvokeEx+0x63) [0x7f0b13f23bf3]\n[bt] (6) /home/kionkim/anaconda3/envs/kion_venv_mxnet/lib/python3.6/lib-dynload/../../libffi.so.6(ffi_call_unix64+0x4c) [0x7f0b50600ec0]\n[bt] (7) /home/kionkim/anaconda3/envs/kion_venv_mxnet/lib/python3.6/lib-dynload/../../libffi.so.6(ffi_call+0x22d) [0x7f0b5060087d]\n[bt] (8) /home/kionkim/anaconda3/envs/kion_venv_mxnet/lib/python3.6/lib-dynload/_ctypes.cpython-36m-x86_64-linux-gnu.so(_ctypes_callproc+0x2ce) [0x7f0b5081582e]\n[bt] (9) /home/kionkim/anaconda3/envs/kion_venv_mxnet/lib/python3.6/lib-dynload/_ctypes.cpython-36m-x86_64-linux-gnu.so(+0x12265) [0x7f0b50816265]\n"
     ]
    }
   ],
   "source": [
    "EPOCHS = 100\n",
    "\n",
    "los = []\n",
    "for e in range(EPOCHS):\n",
    "    for i, (data, label) in enumerate(train_data):\n",
    "        x = data.as_in_context(gpu_ctx)\n",
    "        \n",
    "    with autograd.record():\n",
    "        if i == 0:\n",
    "            print('...start algorithm')\n",
    "        x_gen, z_mean, log_z_var = vae(x)\n",
    "        loss = vae_loss(x, x_gen, z_mean, log_z_var)\n",
    "    loss.backward()\n",
    "    trainer.step(data.shape[0])\n",
    "    print('epoch: {}, cur_loss = {}'.format(e, loss))\n",
    "    los.append(loss.asnumpy())\n",
    "        "
   ]
  },
  {
   "cell_type": "markdown",
   "metadata": {},
   "source": [
    "## Save model"
   ]
  },
  {
   "cell_type": "code",
   "execution_count": 1,
   "metadata": {
    "ExecuteTime": {
     "end_time": "2018-01-14T11:53:07.141901Z",
     "start_time": "2018-01-14T11:53:07.035359Z"
    }
   },
   "outputs": [
    {
     "ename": "NameError",
     "evalue": "name 'vae' is not defined",
     "output_type": "error",
     "traceback": [
      "\u001b[0;31m---------------------------------------------------------------------------\u001b[0m",
      "\u001b[0;31mNameError\u001b[0m                                 Traceback (most recent call last)",
      "\u001b[0;32m<ipython-input-1-152ea34a9388>\u001b[0m in \u001b[0;36m<module>\u001b[0;34m()\u001b[0m\n\u001b[1;32m      1\u001b[0m \u001b[0;31m# Path to save parameters\u001b[0m\u001b[0;34m\u001b[0m\u001b[0;34m\u001b[0m\u001b[0m\n\u001b[1;32m      2\u001b[0m \u001b[0mmodel_prefix\u001b[0m \u001b[0;34m=\u001b[0m \u001b[0;34m'vae_gluon_MLP.params'\u001b[0m\u001b[0;34m\u001b[0m\u001b[0m\n\u001b[0;32m----> 3\u001b[0;31m \u001b[0mvae\u001b[0m\u001b[0;34m.\u001b[0m\u001b[0msave_params\u001b[0m\u001b[0;34m(\u001b[0m\u001b[0mmodel_prefix\u001b[0m\u001b[0;34m)\u001b[0m\u001b[0;34m\u001b[0m\u001b[0m\n\u001b[0m",
      "\u001b[0;31mNameError\u001b[0m: name 'vae' is not defined"
     ]
    }
   ],
   "source": [
    "# Path to save parameters\n",
    "model_prefix = 'vae_gluon_MLP.params'\n",
    "vae.save_params(model_prefix)"
   ]
  },
  {
   "cell_type": "markdown",
   "metadata": {},
   "source": [
    "# Predict"
   ]
  },
  {
   "cell_type": "markdown",
   "metadata": {},
   "source": [
    "## Load model"
   ]
  },
  {
   "cell_type": "code",
   "execution_count": 22,
   "metadata": {
    "ExecuteTime": {
     "end_time": "2018-01-14T05:37:35.773038Z",
     "start_time": "2018-01-14T05:37:35.770255Z"
    },
    "collapsed": true
   },
   "outputs": [],
   "source": [
    "NUM_TEST = 10"
   ]
  },
  {
   "cell_type": "code",
   "execution_count": 23,
   "metadata": {
    "ExecuteTime": {
     "end_time": "2018-01-14T05:37:36.929038Z",
     "start_time": "2018-01-14T05:37:36.914535Z"
    },
    "collapsed": true
   },
   "outputs": [],
   "source": [
    "vae2 = VAE(NUM_TEST, FILTERS, LATENT_DIM, IMG_CHNS)\n",
    "vae2.load_params(model_prefix, ctx=gpu_ctx)"
   ]
  },
  {
   "cell_type": "markdown",
   "metadata": {},
   "source": [
    "## Get original image"
   ]
  },
  {
   "cell_type": "code",
   "execution_count": 24,
   "metadata": {
    "ExecuteTime": {
     "end_time": "2018-01-14T05:37:38.056941Z",
     "start_time": "2018-01-14T05:37:38.028748Z"
    },
    "collapsed": true
   },
   "outputs": [],
   "source": [
    "for i, (data) in enumerate(test_data):\n",
    "    original_image = data[0][0:NUM_TEST, :, :, :]\n",
    "    if i == 1:\n",
    "        break"
   ]
  },
  {
   "cell_type": "markdown",
   "metadata": {},
   "source": [
    "## Reconstruct image\n",
    "  * vae2의 결과물은 [x_gen, z_mean, z_log_var]의 list형태"
   ]
  },
  {
   "cell_type": "code",
   "execution_count": 25,
   "metadata": {
    "ExecuteTime": {
     "end_time": "2018-01-14T05:37:39.563425Z",
     "start_time": "2018-01-14T05:37:39.552179Z"
    }
   },
   "outputs": [
    {
     "name": "stdout",
     "output_type": "stream",
     "text": [
      "(10, 2)\n",
      "(10, 2)\n",
      "(10, 2)\n"
     ]
    }
   ],
   "source": [
    "result = vae2(original_image.as_in_context(gpu_ctx))\n",
    "result = result[0].asnumpy()\n",
    "original = original_image.asnumpy()"
   ]
  },
  {
   "cell_type": "code",
   "execution_count": 26,
   "metadata": {
    "ExecuteTime": {
     "end_time": "2018-01-14T05:37:42.297372Z",
     "start_time": "2018-01-14T05:37:41.361323Z"
    }
   },
   "outputs": [
    {
     "data": {
      "image/png": "[encoded data removed]",
      "text/plain": [
       "<matplotlib.figure.Figure at 0x7fa85820d358>"
      ]
     },
     "metadata": {},
     "output_type": "display_data"
    }
   ],
   "source": [
    "import matplotlib.pyplot as plt\n",
    "%matplotlib inline\n",
    "\n",
    "n_samples = original_image.shape[0]\n",
    "\n",
    "_, axarr = plt.subplots(2, n_samples, figsize=(16,4))\n",
    "\n",
    "for i, x in enumerate(original):\n",
    "    axarr[0,i].imshow(x.reshape((28,28)), cmap='Greys')\n",
    "    if i==0:\n",
    "        axarr[0,i].set_title('original')\n",
    "    #axarr[0,i].axis('off')\n",
    "    axarr[0,i].get_xaxis().set_ticks([])\n",
    "    axarr[0,i].get_yaxis().set_ticks([])\n",
    "\n",
    "    axarr[1,i].imshow(result[i].reshape((28,28)), cmap='Greys')\n",
    "    if i==0:\n",
    "        axarr[1,i].set_title('reconstruction')\n",
    "    #axarr[1,i].axis('off')\n",
    "    axarr[1,i].get_xaxis().set_ticks([])\n",
    "    axarr[1,i].get_yaxis().set_ticks([])\n",
    "plt.show()"
   ]
  },
  {
   "cell_type": "code",
   "execution_count": 30,
   "metadata": {
    "ExecuteTime": {
     "end_time": "2018-01-14T03:55:37.762471Z",
     "start_time": "2018-01-14T03:55:37.622719Z"
    }
   },
   "outputs": [
    {
     "name": "stdout",
     "output_type": "stream",
     "text": [
      "after dense....(1, 12544)\n",
      "after reshape....(1, 256, 7, 7)\n",
      "after conv_trans_1.... (1, 256, 7, 7)\n",
      "after conv_trans_2.... (1, 128, 14, 14)\n",
      "after conv_trans_3.... (1, 64, 28, 28)\n",
      "after conv_trans_4.... (1, 1, 28, 28)\n"
     ]
    },
    {
     "data": {
      "image/png": "[encoded data removed]",
      "text/plain": [
       "<matplotlib.figure.Figure at 0x7f0d93bd6630>"
      ]
     },
     "metadata": {},
     "output_type": "display_data"
    }
   ],
   "source": [
    "import matplotlib.pyplot as plt\n",
    "%matplotlib inline\n",
    "\n",
    "test_input = nd.random_normal(loc = 0,scale = 2,shape= LATENT_DIM, ctx = gpu_ctx)\n",
    "t_i = test_input.reshape((-1, LATENT_DIM))\n",
    "test_gen = dec(t_i)\n",
    "t_g = nd.transpose(test_gen, (0, 2, 3, 1))\n",
    "im = nd.transpose(t_g,(1,0,2,3))\n",
    "im = nd.reshape(im,(28, 28,1))\n",
    "imtiles = nd.tile(im, (1,1,3))\n",
    "plt.imshow(imtiles.asnumpy())\n",
    "plt.show()"
   ]
  },
  {
   "cell_type": "code",
   "execution_count": 28,
   "metadata": {
    "ExecuteTime": {
     "end_time": "2018-01-14T03:55:08.487869Z",
     "start_time": "2018-01-14T03:55:08.457055Z"
    }
   },
   "outputs": [
    {
     "data": {
      "text/plain": [
       "\n",
       "[[[[ 0.50028056  0.50006336  0.50001007  0.50009346  0.49996209  0.50000113\n",
       "     0.49992168  0.49999869  0.50012594  0.50015461  0.49982446  0.49991751\n",
       "     0.50012875  0.49998283  0.500054    0.50003207  0.49995345  0.50020087\n",
       "     0.50006247  0.50009751  0.50001132  0.50002122  0.50020128  0.50011408\n",
       "     0.50015682  0.50007886  0.50016648  0.49989346]\n",
       "   [ 0.50011837  0.50011653  0.50027168  0.50032485  0.50028926  0.50001252\n",
       "     0.50006485  0.49996322  0.50024915  0.50002694  0.50019926  0.50000727\n",
       "     0.50022888  0.50010306  0.50001353  0.50021893  0.5002014   0.4999401\n",
       "     0.50021875  0.49995762  0.50036168  0.50027966  0.49988237  0.50007564\n",
       "     0.50023842  0.50001597  0.50022185  0.50012606]\n",
       "   [ 0.50005227  0.49979421  0.50009608  0.49971488  0.50017655  0.50009847\n",
       "     0.5001843   0.49974751  0.50009674  0.49989203  0.50011927  0.49963233\n",
       "     0.50005466  0.50025785  0.49996638  0.49961466  0.49995768  0.49970406\n",
       "     0.50039279  0.49965215  0.50003338  0.50002873  0.50033277  0.49984068\n",
       "     0.50003922  0.50007296  0.50001836  0.50009447]\n",
       "   [ 0.50006235  0.50024301  0.50039572  0.50014114  0.5001747   0.50009507\n",
       "     0.50031072  0.50009489  0.50038058  0.50032836  0.50025034  0.49987289\n",
       "     0.5002054   0.50024503  0.50007218  0.49971768  0.50036728  0.50035596\n",
       "     0.5002737   0.5001545   0.50017071  0.49999452  0.50039792  0.4998872\n",
       "     0.50003654  0.50000119  0.50017905  0.50004572]\n",
       "   [ 0.50035399  0.49978521  0.50010669  0.49967     0.50016695  0.50026405\n",
       "     0.50000536  0.49977717  0.49997258  0.49985364  0.49966767  0.49981576\n",
       "     0.50025159  0.50033194  0.50000763  0.49978957  0.50039321  0.50019783\n",
       "     0.49979433  0.49988738  0.50003093  0.49996573  0.50000042  0.49989006\n",
       "     0.5002355   0.4999727   0.50026888  0.49990788]\n",
       "   [ 0.50019675  0.50040197  0.49979851  0.50036258  0.50006616  0.50013363\n",
       "     0.50007373  0.50038266  0.50041044  0.50033748  0.50030917  0.50017381\n",
       "     0.50031871  0.50029504  0.50005448  0.50014824  0.5003081   0.50015718\n",
       "     0.50002432  0.50027078  0.50036895  0.49999166  0.49993145  0.49994415\n",
       "     0.50019068  0.50008613  0.50003618  0.49988869]\n",
       "   [ 0.50018346  0.50012612  0.49985054  0.49969238  0.50020897  0.50021923\n",
       "     0.50011861  0.49980813  0.49997497  0.49985841  0.5002116   0.4996669\n",
       "     0.50000983  0.50023609  0.50026655  0.49977306  0.49985138  0.50005573\n",
       "     0.499773    0.50001538  0.50004745  0.50005293  0.50025797  0.4996556\n",
       "     0.50000668  0.49993932  0.50001436  0.49991876]\n",
       "   [ 0.50018996  0.50005788  0.50002223  0.49977943  0.50020593  0.50002736\n",
       "     0.50025594  0.49970752  0.50019783  0.5001139   0.50021523  0.49981236\n",
       "     0.50040513  0.50006032  0.50033057  0.49989513  0.50051111  0.50011045\n",
       "     0.50033569  0.50016826  0.50034618  0.50013578  0.50023454  0.50031805\n",
       "     0.50020921  0.49990466  0.50003994  0.49998307]\n",
       "   [ 0.50017321  0.49986604  0.49991906  0.49988917  0.50010717  0.50003129\n",
       "     0.49987599  0.49971864  0.50035053  0.50028372  0.49962619  0.49998248\n",
       "     0.50049549  0.50004745  0.49987808  0.49982023  0.50004154  0.4999401\n",
       "     0.49980101  0.49972484  0.50017738  0.50002152  0.50001615  0.50001502\n",
       "     0.50006276  0.5001356   0.50021476  0.49993134]\n",
       "   [ 0.50025171  0.50022322  0.49991691  0.49996209  0.50048506  0.4999373\n",
       "     0.49989608  0.50006378  0.50040507  0.50029755  0.50020355  0.50043476\n",
       "     0.50050306  0.50018543  0.50009644  0.50031614  0.50057334  0.50025719\n",
       "     0.49977848  0.50003028  0.50022233  0.50012809  0.50029474  0.50017613\n",
       "     0.50012463  0.50015801  0.50022602  0.5000295 ]\n",
       "   [ 0.50010556  0.49986389  0.50027978  0.49960211  0.50017583  0.500256\n",
       "     0.50022328  0.49952975  0.49991775  0.50019056  0.50048727  0.49969709\n",
       "     0.500251    0.50020295  0.50012809  0.49995887  0.49980095  0.49982005\n",
       "     0.49997473  0.49989483  0.50000286  0.49993825  0.5002284   0.49977896\n",
       "     0.49995488  0.50021595  0.50019491  0.49984336]\n",
       "   [ 0.50032407  0.5000363   0.50023729  0.49999714  0.50032514  0.50029403\n",
       "     0.50027817  0.50003952  0.50024414  0.50016147  0.50034094  0.49984103\n",
       "     0.50049222  0.50026494  0.50040555  0.5001086   0.50036132  0.50031096\n",
       "     0.50044382  0.50015795  0.50053596  0.49991301  0.50037134  0.49988833\n",
       "     0.5001424   0.50003606  0.49991947  0.49995321]\n",
       "   [ 0.50037849  0.50011581  0.49978456  0.49954414  0.50036067  0.50011635\n",
       "     0.49979672  0.49971536  0.50040281  0.50014436  0.49971306  0.49982554\n",
       "     0.49996972  0.50032401  0.50012833  0.49983436  0.5003401   0.50004923\n",
       "     0.50035846  0.49979338  0.50035131  0.50005656  0.50008529  0.50000024\n",
       "     0.5002988   0.50000399  0.50022584  0.49985364]\n",
       "   [ 0.5002296   0.50028121  0.50027746  0.5002569   0.50052798  0.5000819\n",
       "     0.50017762  0.50018156  0.50036877  0.5001601   0.50020903  0.50039911\n",
       "     0.50070375  0.4999702   0.49993777  0.50038427  0.50030226  0.50029171\n",
       "     0.5002948   0.50004089  0.50017893  0.50003332  0.49972215  0.49999523\n",
       "     0.5003373   0.50012177  0.50007975  0.50010288]\n",
       "   [ 0.50017077  0.49989358  0.50017917  0.49940848  0.49976504  0.5002529\n",
       "     0.50011498  0.49972454  0.5000385   0.49997938  0.50016797  0.49958372\n",
       "     0.49980387  0.50011593  0.50005275  0.49965501  0.49996305  0.50020838\n",
       "     0.49979576  0.49982673  0.49998939  0.49969244  0.50044239  0.49982446\n",
       "     0.5001418   0.5001083   0.49986246  0.49997413]\n",
       "   [ 0.5004921   0.50025403  0.50049543  0.49980626  0.50047731  0.50036162\n",
       "     0.50028199  0.49996138  0.50035888  0.49988857  0.50032908  0.5000726\n",
       "     0.50029331  0.50029844  0.50031483  0.49971288  0.50038111  0.50011361\n",
       "     0.50000077  0.50028247  0.50042313  0.50027555  0.50030667  0.50001413\n",
       "     0.50023955  0.50001258  0.49995172  0.50000334]\n",
       "   [ 0.50035584  0.49989805  0.49980333  0.50005507  0.50008088  0.49979743\n",
       "     0.50003427  0.49965924  0.50019073  0.49997246  0.49965113  0.49964517\n",
       "     0.50034821  0.50001013  0.49994993  0.49970824  0.49986979  0.50008625\n",
       "     0.49994063  0.49976331  0.49996233  0.50025403  0.49992454  0.49991307\n",
       "     0.50023347  0.50002986  0.50027704  0.49992681]\n",
       "   [ 0.50011176  0.50025064  0.50014442  0.50010031  0.50040567  0.49992037\n",
       "     0.50010133  0.50001287  0.50042301  0.50014609  0.50013649  0.50025767\n",
       "     0.50041741  0.50008893  0.50021845  0.50018102  0.50037289  0.49986508\n",
       "     0.50027651  0.50004303  0.50049603  0.50037444  0.50019026  0.50008291\n",
       "     0.50011927  0.50011581  0.50009286  0.49999487]\n",
       "   [ 0.50011963  0.49985614  0.50018674  0.49967846  0.50008255  0.50004506\n",
       "     0.49992478  0.49961156  0.50004214  0.49996066  0.49993217  0.49994445\n",
       "     0.50020617  0.50005376  0.50043476  0.4997074   0.50030178  0.50023341\n",
       "     0.50025368  0.49978933  0.5001148   0.50000584  0.49968812  0.49985996\n",
       "     0.50007248  0.49999821  0.50006729  0.49984998]\n",
       "   [ 0.50030112  0.50002408  0.50032961  0.50003803  0.50059366  0.50015354\n",
       "     0.50021493  0.49982023  0.50020659  0.50031561  0.50052238  0.49974847\n",
       "     0.50024247  0.50020832  0.50036621  0.49974549  0.50042665  0.49998784\n",
       "     0.50024658  0.49979487  0.50037271  0.49997103  0.50032759  0.49996984\n",
       "     0.50025231  0.5001871   0.5000686   0.49999356]\n",
       "   [ 0.50028354  0.50001067  0.49983245  0.49969244  0.50012887  0.4997212\n",
       "     0.49986419  0.49982899  0.50035673  0.49993157  0.49985883  0.49955288\n",
       "     0.50024426  0.50007153  0.49971655  0.49978319  0.49988714  0.50010395\n",
       "     0.50007492  0.49999475  0.50043988  0.49989691  0.50043017  0.4997701\n",
       "     0.50004888  0.50013047  0.50002331  0.49990162]\n",
       "   [ 0.4999665   0.50018448  0.5001182   0.50025463  0.50026608  0.50016195\n",
       "     0.49977329  0.49994624  0.50050724  0.50019854  0.49991906  0.50029844\n",
       "     0.50002545  0.49998677  0.5000518   0.50056815  0.50039989  0.50032091\n",
       "     0.49969262  0.50004357  0.5002889   0.5003103   0.49994302  0.50020474\n",
       "     0.50001484  0.50001937  0.50007647  0.5001148 ]\n",
       "   [ 0.50025064  0.50009352  0.50008118  0.49980718  0.49999261  0.50001997\n",
       "     0.50039357  0.499695    0.49988499  0.50016707  0.50004423  0.49976999\n",
       "     0.49991584  0.49993312  0.50027519  0.49957782  0.50008935  0.50015932\n",
       "     0.50030982  0.49995947  0.49999148  0.5001753   0.50018042  0.49991411\n",
       "     0.50010955  0.50004625  0.50029117  0.49996722]\n",
       "   [ 0.50035924  0.50012851  0.5001564   0.49982989  0.5003624   0.5000881\n",
       "     0.50045723  0.49996817  0.5002619   0.50026315  0.50028193  0.50011438\n",
       "     0.50006968  0.50025481  0.50030822  0.49988964  0.50024152  0.50009036\n",
       "     0.50030065  0.50000876  0.50052035  0.50014597  0.5003314   0.49991977\n",
       "     0.50016528  0.5000968   0.49995005  0.49995875]\n",
       "   [ 0.50019938  0.50014281  0.50010377  0.49987021  0.50021881  0.49992108\n",
       "     0.50006944  0.49988189  0.49993455  0.49988082  0.49989453  0.49991181\n",
       "     0.50003952  0.50017577  0.49968234  0.49967286  0.50009269  0.49980518\n",
       "     0.5001691   0.50001276  0.50042057  0.50010079  0.50002486  0.49990228\n",
       "     0.50001448  0.49998522  0.50003862  0.49982089]\n",
       "   [ 0.50009346  0.50028682  0.5002405   0.50019217  0.50018293  0.50007784\n",
       "     0.50012064  0.50011951  0.50011647  0.50015646  0.50012511  0.50012702\n",
       "     0.5001452   0.50009775  0.49995852  0.50019079  0.50017941  0.50023407\n",
       "     0.49982029  0.50013846  0.50007874  0.50010276  0.49995488  0.50012392\n",
       "     0.50020355  0.50011492  0.50006187  0.50004864]\n",
       "   [ 0.50007737  0.50001484  0.50025773  0.50002939  0.50027972  0.50012141\n",
       "     0.50013632  0.49985901  0.50002795  0.50004023  0.50003076  0.49981493\n",
       "     0.50007468  0.50019717  0.50008726  0.49985912  0.50010055  0.50010997\n",
       "     0.50004917  0.49994463  0.49986604  0.50011426  0.50012112  0.49999541\n",
       "     0.50007951  0.50010449  0.5000599   0.49997675]\n",
       "   [ 0.50001067  0.50013065  0.50006884  0.50005811  0.50010043  0.50003809\n",
       "     0.50012589  0.50006115  0.49993908  0.5001139   0.50005239  0.50004423\n",
       "     0.50010389  0.50015306  0.50014484  0.50003392  0.50013071  0.500175\n",
       "     0.50017041  0.50003874  0.49993378  0.50002271  0.49997938  0.49998343\n",
       "     0.49999565  0.50011665  0.49998403  0.50004673]]]]\n",
       "<NDArray 1x1x28x28 @gpu(0)>"
      ]
     },
     "execution_count": 28,
     "metadata": {},
     "output_type": "execute_result"
    }
   ],
   "source": [
    "test_gen"
   ]
  },
  {
   "cell_type": "code",
   "execution_count": null,
   "metadata": {
    "ExecuteTime": {
     "start_time": "2018-01-14T02:19:39.997Z"
    },
    "collapsed": true
   },
   "outputs": [],
   "source": [
    "import matplotlib.pyplot as plt\n",
    "%matplotlib inline\n",
    "\n",
    "def model_predict(net,data):\n",
    "    output = dec(data.as_in_context(model_ctx))\n",
    "    return nd.argmax(output, axis=1)\n",
    "\n",
    "NUM_EXAMPLES = 10\n",
    "# let's sample 10 random data points from the test set\n",
    "sample_data = mx.gluon.data.DataLoader(mx.gluon.data.vision.MNIST(train=False, transform=transform),\n",
    "                              NUM_EXAMPLES, shuffle=True)\n",
    "\n",
    "for i, (data, label) in enumerate(sample_data):\n",
    "    data = data.as_in_context(gpu_ctx)\n",
    "    data_t = nd.transpose(data, (0, 2, 3, 1))\n",
    "    im1 = nd.transpose(data,(1, 0, 2, 3))\n",
    "    im1 = nd.reshape(im1,(28, NUM_EXAMPLES * 28,1))\n",
    "    imtiles1 = nd.tile(im1, (1,1,3))\n",
    "    \n",
    "    gen, _, _ = vae(data)\n",
    "    gen_t = nd.transpose(gen, (0, 2, 3, 1))\n",
    "    im2 = nd.transpose(gen_t,(1, 0, 2, 3))\n",
    "    im2 = nd.reshape(im2,(28, NUM_EXAMPLES * 28, 1))\n",
    "    imtiles2 = nd.tile(im2, (1,1,3))\n",
    "    \n",
    "    f, (plt1, plt2) = plt.subplots(2, 1)\n",
    "    plt1.imshow(imtiles1.asnumpy())\n",
    "    plt2.imshow(imtiles2.asnumpy())\n",
    "    f.show()\n",
    "    #pred=model_predict(net,data.reshape((-1,784)))\n",
    "    #print('model predictions are:', pred)\n",
    "    break"
   ]
  },
  {
   "cell_type": "code",
   "execution_count": null,
   "metadata": {
    "collapsed": true
   },
   "outputs": [],
   "source": []
  }
 ],
 "metadata": {
  "anaconda-cloud": {},
  "kernelspec": {
   "display_name": "Python [conda env:kion_venv_mxnet]",
   "language": "python",
   "name": "conda-env-kion_venv_mxnet-py"
  },
  "language_info": {
   "codemirror_mode": {
    "name": "ipython",
    "version": 3
   },
   "file_extension": ".py",
   "mimetype": "text/x-python",
   "name": "python",
   "nbconvert_exporter": "python",
   "pygments_lexer": "ipython3",
   "version": "3.6.3"
  },
  "toc": {
   "nav_menu": {},
   "number_sections": true,
   "sideBar": true,
   "skip_h1_title": false,
   "toc_cell": false,
   "toc_position": {},
   "toc_section_display": "block",
   "toc_window_display": false
  }
 },
 "nbformat": 4,
 "nbformat_minor": 2
}
