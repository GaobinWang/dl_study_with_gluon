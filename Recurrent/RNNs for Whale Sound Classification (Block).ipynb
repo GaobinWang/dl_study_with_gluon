{
 "cells": [
  {
   "cell_type": "code",
   "execution_count": 1,
   "metadata": {
    "ExecuteTime": {
     "end_time": "2018-02-01T08:17:50.108274Z",
     "start_time": "2018-02-01T08:17:49.129491Z"
    }
   },
   "outputs": [
    {
     "name": "stdout",
     "output_type": "stream",
     "text": [
      "1.0.0\n"
     ]
    },
    {
     "name": "stderr",
     "output_type": "stream",
     "text": [
      "/anaconda3/lib/python3.6/site-packages/urllib3/contrib/pyopenssl.py:46: DeprecationWarning: OpenSSL.rand is deprecated - you should use os.urandom instead\n",
      "  import OpenSSL.SSL\n"
     ]
    }
   ],
   "source": [
    "import mxnet as mx\n",
    "print(mx.__version__)"
   ]
  },
  {
   "cell_type": "code",
   "execution_count": 2,
   "metadata": {
    "ExecuteTime": {
     "end_time": "2018-02-01T08:17:50.723369Z",
     "start_time": "2018-02-01T08:17:50.110567Z"
    },
    "collapsed": true
   },
   "outputs": [],
   "source": [
    "from __future__ import print_function\n",
    "import mxnet as mx\n",
    "from mxnet import nd, gluon, autograd\n",
    "from mxnet.gluon import nn, rnn\n",
    "\n",
    "mx.random.seed(1)\n",
    "ctx = mx.cpu(0)\n",
    "\n",
    "import aifc # ReadAIFF\n",
    "\n",
    "import math\n",
    "import os\n",
    "import time\n",
    "import numpy as np\n",
    "import pandas as pd\n",
    "\n",
    "import matplotlib.pyplot as plt\n",
    "# from matplotlib import mlab\n",
    "# import matplotlib\n",
    "\n",
    "%matplotlib inline\n",
    "\n",
    "\n"
   ]
  },
  {
   "cell_type": "markdown",
   "metadata": {},
   "source": [
    "## 1. DATASET"
   ]
  },
  {
   "cell_type": "markdown",
   "metadata": {},
   "source": [
    "#### Load Data"
   ]
  },
  {
   "cell_type": "code",
   "execution_count": 3,
   "metadata": {
    "ExecuteTime": {
     "end_time": "2018-02-01T08:17:50.728226Z",
     "start_time": "2018-02-01T08:17:50.725303Z"
    },
    "collapsed": true
   },
   "outputs": [],
   "source": [
    "# Set path to directory with folders train and test\n",
    "path_data = './data/'"
   ]
  },
  {
   "cell_type": "code",
   "execution_count": 4,
   "metadata": {
    "ExecuteTime": {
     "end_time": "2018-02-01T08:17:50.734855Z",
     "start_time": "2018-02-01T08:17:50.729742Z"
    },
    "collapsed": true
   },
   "outputs": [],
   "source": [
    "# ReadAIFF function\n",
    "def ReadAIFF(file):\n",
    "# Reads the frames from the audio clip and returns the uncompressed data\n",
    "    s = aifc.open(file,'r')\n",
    "    nFrames = s.getnframes()\n",
    "    strSig = s.readframes(nFrames)\n",
    "    return np.fromstring(strSig, np.short).byteswap()\n",
    "\n"
   ]
  },
  {
   "cell_type": "code",
   "execution_count": 5,
   "metadata": {
    "ExecuteTime": {
     "end_time": "2018-02-01T08:17:50.756176Z",
     "start_time": "2018-02-01T08:17:50.736707Z"
    }
   },
   "outputs": [
    {
     "data": {
      "text/html": [
       "<div>\n",
       "<style>\n",
       "    .dataframe thead tr:only-child th {\n",
       "        text-align: right;\n",
       "    }\n",
       "\n",
       "    .dataframe thead th {\n",
       "        text-align: left;\n",
       "    }\n",
       "\n",
       "    .dataframe tbody tr th {\n",
       "        vertical-align: top;\n",
       "    }\n",
       "</style>\n",
       "<table border=\"1\" class=\"dataframe\">\n",
       "  <thead>\n",
       "    <tr style=\"text-align: right;\">\n",
       "      <th></th>\n",
       "      <th>0</th>\n",
       "      <th>1</th>\n",
       "      <th>2</th>\n",
       "      <th>3</th>\n",
       "      <th>4</th>\n",
       "      <th>5</th>\n",
       "      <th>6</th>\n",
       "      <th>7</th>\n",
       "      <th>8</th>\n",
       "      <th>9</th>\n",
       "      <th>...</th>\n",
       "      <th>3990</th>\n",
       "      <th>3991</th>\n",
       "      <th>3992</th>\n",
       "      <th>3993</th>\n",
       "      <th>3994</th>\n",
       "      <th>3995</th>\n",
       "      <th>3996</th>\n",
       "      <th>3997</th>\n",
       "      <th>3998</th>\n",
       "      <th>3999</th>\n",
       "    </tr>\n",
       "  </thead>\n",
       "  <tbody>\n",
       "    <tr>\n",
       "      <th>0</th>\n",
       "      <td>42</td>\n",
       "      <td>-486</td>\n",
       "      <td>-22</td>\n",
       "      <td>190</td>\n",
       "      <td>-102</td>\n",
       "      <td>-36</td>\n",
       "      <td>0</td>\n",
       "      <td>-45</td>\n",
       "      <td>-194</td>\n",
       "      <td>194</td>\n",
       "      <td>...</td>\n",
       "      <td>-221</td>\n",
       "      <td>-99</td>\n",
       "      <td>523</td>\n",
       "      <td>185</td>\n",
       "      <td>-414</td>\n",
       "      <td>-324</td>\n",
       "      <td>203</td>\n",
       "      <td>219</td>\n",
       "      <td>-155</td>\n",
       "      <td>-32</td>\n",
       "    </tr>\n",
       "  </tbody>\n",
       "</table>\n",
       "<p>1 rows × 4000 columns</p>\n",
       "</div>"
      ],
      "text/plain": [
       "   0     1     2     3     4     5     6     7     8     9     ...   3990  \\\n",
       "0    42  -486   -22   190  -102   -36     0   -45  -194   194  ...   -221   \n",
       "\n",
       "   3991  3992  3993  3994  3995  3996  3997  3998  3999  \n",
       "0   -99   523   185  -414  -324   203   219  -155   -32  \n",
       "\n",
       "[1 rows x 4000 columns]"
      ]
     },
     "execution_count": 5,
     "metadata": {},
     "output_type": "execute_result"
    }
   ],
   "source": [
    "# AIFF Data\n",
    "s = ReadAIFF(path_data + 'train/train6.aiff')\n",
    "pd.DataFrame(s).T\n",
    "\n",
    "# 결과: 2000Hz의 2초 사운드 클립마다 프레임의 채널에서 압축되지 않은 샘플의 4000개 진폭값"
   ]
  },
  {
   "cell_type": "code",
   "execution_count": 6,
   "metadata": {
    "ExecuteTime": {
     "end_time": "2018-02-01T08:17:50.879572Z",
     "start_time": "2018-02-01T08:17:50.757853Z"
    }
   },
   "outputs": [
    {
     "name": "stdout",
     "output_type": "stream",
     "text": [
      "clip_name,label\r\n",
      "train1.aiff,0\r\n",
      "train2.aiff,0\r\n",
      "train3.aiff,0\r\n",
      "train4.aiff,0\r\n",
      "train5.aiff,0\r\n",
      "train6.aiff,1\r\n",
      "train7.aiff,1\r\n",
      "train8.aiff,0\r\n",
      "train9.aiff,1\r\n"
     ]
    }
   ],
   "source": [
    "# Label Data\n",
    "!head ./data/train.csv"
   ]
  },
  {
   "cell_type": "code",
   "execution_count": 7,
   "metadata": {
    "ExecuteTime": {
     "end_time": "2018-02-01T08:18:10.959733Z",
     "start_time": "2018-02-01T08:17:50.881944Z"
    },
    "collapsed": true
   },
   "outputs": [],
   "source": [
    "import csv\n",
    "import random\n",
    "\n",
    "train_label = []\n",
    "train_audio = []\n",
    "\n",
    "valid_label = []\n",
    "valid_audio = []\n",
    "\n",
    "valid_frac = 0.3\n",
    "\n",
    "f = open(path_data + 'train.csv', 'r')\n",
    "rdr = csv.reader(f)\n",
    "skip_header = next(rdr)\n",
    "for line in rdr:\n",
    "    s = ReadAIFF(path_data + 'train/' + line[0])\n",
    "    if random.random() > valid_frac:\n",
    "        train_label.append(line[1])\n",
    "        train_audio.append(list(s))\n",
    "    else:\n",
    "        valid_label.append(line[1])\n",
    "        valid_audio.append(list(s))\n",
    "\n",
    "f.close()"
   ]
  },
  {
   "cell_type": "code",
   "execution_count": 8,
   "metadata": {
    "ExecuteTime": {
     "end_time": "2018-02-01T08:18:24.729989Z",
     "start_time": "2018-02-01T08:18:10.961487Z"
    },
    "collapsed": true
   },
   "outputs": [],
   "source": [
    "train_label = mx.nd.array(train_label)\n",
    "train_audio = mx.nd.array(train_audio)\n",
    "valid_label = mx.nd.array(valid_label)\n",
    "valid_audio = mx.nd.array(valid_audio)"
   ]
  },
  {
   "cell_type": "code",
   "execution_count": 9,
   "metadata": {
    "ExecuteTime": {
     "end_time": "2018-02-01T08:18:24.738268Z",
     "start_time": "2018-02-01T08:18:24.731833Z"
    }
   },
   "outputs": [
    {
     "name": "stdout",
     "output_type": "stream",
     "text": [
      "train_label.shape (20972,)\n",
      "train_audio.shape (20972, 4000)\n",
      "valid_label.shape (9028,)\n",
      "valid_audio.shape (9028, 4000)\n"
     ]
    }
   ],
   "source": [
    "print(\"train_label.shape\", train_label.shape)\n",
    "print(\"train_audio.shape\", train_audio.shape)\n",
    "print(\"valid_label.shape\", valid_label.shape)\n",
    "print(\"valid_audio.shape\", valid_audio.shape)"
   ]
  },
  {
   "cell_type": "markdown",
   "metadata": {},
   "source": [
    "#### Normalize Function"
   ]
  },
  {
   "cell_type": "code",
   "execution_count": 10,
   "metadata": {
    "ExecuteTime": {
     "end_time": "2018-02-01T08:18:24.788596Z",
     "start_time": "2018-02-01T08:18:24.740158Z"
    },
    "collapsed": true
   },
   "outputs": [],
   "source": [
    "def norm_zscore(data, norm_axis=None):\n",
    "    if norm_axis==None:\n",
    "        mean = nd.mean(data)\n",
    "        sd = nd.sqrt(nd.mean(nd.power(data,2)) - nd.power(nd.mean(data),2))\n",
    "        return (data - mean) / sd\n",
    "    elif norm_axis==0:\n",
    "        mean = nd.mean(data, axis=norm_axis)\n",
    "        sd = nd.sqrt(nd.mean(nd.power(data,2), axis=norm_axis) - nd.power(nd.mean(data, axis=norm_axis),2))\n",
    "        return (data - mean) / sd\n",
    "    elif norm_axis==1:\n",
    "        mean = nd.mean(data, axis=norm_axis)\n",
    "        sd = nd.sqrt(nd.mean(nd.power(data,2), axis=norm_axis) - nd.power(nd.mean(data, axis=norm_axis),2))\n",
    "        return (data - mean.reshape((-1,1))) / sd.reshape((-1,1))\n",
    "    else:\n",
    "        raise ValueError(\"Invalid norm_axis %s. norm_axis are (None, 0, 1)\" % norm_axis)\n",
    "\n",
    "\n",
    "def norm_minmax(data, norm_axis=None):\n",
    "    if norm_axis==None:\n",
    "        return (data - nd.min(data)) / (nd.max(data) - nd.min(data))\n",
    "    elif norm_axis==0:\n",
    "        return (data - nd.min(data, axis=norm_axis)) / (nd.max(data, axis=norm_axis) - nd.min(data, axis=norm_axis))\n",
    "    elif norm_axis==1:\n",
    "        return (data - nd.min(data, axis=norm_axis).reshape((-1,1))) / (nd.max(data, axis=norm_axis) - nd.min(data, axis=norm_axis)).reshape((-1,1))\n",
    "    else:\n",
    "        raise ValueError(\"Invalid norm_axis %s. norm_axis are (None, 0, 1)\" % norm_axis)\n",
    "\n"
   ]
  },
  {
   "cell_type": "code",
   "execution_count": 11,
   "metadata": {
    "ExecuteTime": {
     "end_time": "2018-02-01T08:18:24.823335Z",
     "start_time": "2018-02-01T08:18:24.790431Z"
    },
    "collapsed": true
   },
   "outputs": [],
   "source": [
    "def plot_audiodata(data, index):\n",
    "    print('RAW')\n",
    "    plt.plot(data[index].asnumpy());\n",
    "    plt.show()\n",
    "\n",
    "    print('norm_zscore - 전체 / axis=0(시간대별) / axis=1(레코드별)')\n",
    "    fig = plt.figure()\n",
    "    ax1 = fig.add_subplot(131)\n",
    "    ax1 = plt.plot(norm_zscore(data)[index].asnumpy());\n",
    "    ax2 = fig.add_subplot(132)\n",
    "    ax2 = plt.plot(norm_zscore(data, norm_axis=0)[index].asnumpy());\n",
    "    ax3 = fig.add_subplot(133)\n",
    "    ax3 = plt.plot(norm_zscore(data, norm_axis=1)[index].asnumpy());\n",
    "    plt.tight_layout()\n",
    "    plt.show()\n",
    "\n",
    "    print('norm_minmax - 전체 / axis=0(시간대별) / axis=1(레코드별)')\n",
    "    fig = plt.figure()\n",
    "    ax1 = fig.add_subplot(131)\n",
    "    ax1 = plt.plot(norm_minmax(data)[index].asnumpy());\n",
    "    ax2 = fig.add_subplot(132)\n",
    "    ax2 = plt.plot(norm_minmax(data, norm_axis=0)[index].asnumpy());\n",
    "    ax3 = fig.add_subplot(133)\n",
    "    ax3 = plt.plot(norm_minmax(data, norm_axis=1)[index].asnumpy());\n",
    "    plt.tight_layout()\n",
    "    plt.show()"
   ]
  },
  {
   "cell_type": "code",
   "execution_count": 12,
   "metadata": {
    "ExecuteTime": {
     "end_time": "2018-02-01T08:18:51.382194Z",
     "start_time": "2018-02-01T08:18:24.825033Z"
    }
   },
   "outputs": [
    {
     "name": "stdout",
     "output_type": "stream",
     "text": [
      "RAW\n"
     ]
    },
    {
     "data": {
      "image/png": "[encoded data removed]",
      "text/plain": [
       "<matplotlib.figure.Figure at 0x1a1167cda0>"
      ]
     },
     "metadata": {},
     "output_type": "display_data"
    },
    {
     "name": "stdout",
     "output_type": "stream",
     "text": [
      "norm_zscore - 전체 / axis=0(시간대별) / axis=1(레코드별)\n"
     ]
    },
    {
     "data": {
      "image/png": "[encoded data removed]",
      "text/plain": [
       "<matplotlib.figure.Figure at 0x1a12cdfba8>"
      ]
     },
     "metadata": {},
     "output_type": "display_data"
    },
    {
     "name": "stdout",
     "output_type": "stream",
     "text": [
      "norm_minmax - 전체 / axis=0(시간대별) / axis=1(레코드별)\n"
     ]
    },
    {
     "data": {
      "image/png": "[encoded data removed]",
      "text/plain": [
       "<matplotlib.figure.Figure at 0x1a19fc02b0>"
      ]
     },
     "metadata": {},
     "output_type": "display_data"
    }
   ],
   "source": [
    "plot_audiodata(train_audio, 3)"
   ]
  },
  {
   "cell_type": "code",
   "execution_count": 13,
   "metadata": {
    "ExecuteTime": {
     "end_time": "2018-02-01T08:18:51.390262Z",
     "start_time": "2018-02-01T08:18:51.384444Z"
    },
    "collapsed": true
   },
   "outputs": [],
   "source": [
    "def one_hot_encode(label):\n",
    "    n_label = len(label)\n",
    "    n_unique_label = len(np.unique(label.asnumpy()))\n",
    "    res = nd.zeros((n_label, n_unique_label), ctx=ctx)\n",
    "    res[nd.arange(n_label), label] = 1.0\n",
    "    return res"
   ]
  },
  {
   "cell_type": "code",
   "execution_count": 14,
   "metadata": {
    "ExecuteTime": {
     "end_time": "2018-02-01T08:18:51.401088Z",
     "start_time": "2018-02-01T08:18:51.392090Z"
    }
   },
   "outputs": [
    {
     "name": "stdout",
     "output_type": "stream",
     "text": [
      "Shape of train_label_onehot:  (20972, 2)\n",
      "Shape of valid_label_onehot:  (9028, 2)\n"
     ]
    }
   ],
   "source": [
    "train_label_onehot = one_hot_encode(train_label)\n",
    "print('Shape of train_label_onehot: ', train_label_onehot.shape) #(num_samples, output_dims)\n",
    "\n",
    "valid_label_onehot = one_hot_encode(valid_label)\n",
    "print('Shape of valid_label_onehot: ', valid_label_onehot.shape) #(num_samples, output_dims)\n",
    "\n"
   ]
  },
  {
   "cell_type": "markdown",
   "metadata": {},
   "source": [
    "## 2. PreProcessing"
   ]
  },
  {
   "cell_type": "markdown",
   "metadata": {},
   "source": [
    "##### Comprehension of GRU Block"
   ]
  },
  {
   "cell_type": "code",
   "execution_count": 15,
   "metadata": {
    "ExecuteTime": {
     "end_time": "2018-02-01T08:18:51.418527Z",
     "start_time": "2018-02-01T08:18:51.403021Z"
    }
   },
   "outputs": [
    {
     "name": "stdout",
     "output_type": "stream",
     "text": [
      "layer GRU(None -> 6, TNC, num_layers=3)\n",
      "input.shape (5, 1, 10)\n"
     ]
    }
   ],
   "source": [
    "layer = mx.gluon.rnn.GRU(2, 3) # (num_hidden, num_layers)\n",
    "layer.initialize()\n",
    "print('layer', layer)\n",
    "\n",
    "# GRU INPUT 1 : DATA\n",
    "input = mx.nd.random.uniform(shape=(5, 1, 10)) # (sequence_length, batch_size, feature_dims)\n",
    "print(\"input.shape\", input.shape)\n",
    "\n",
    "# layout (str, default 'TNC') – The format of input and output tensors.\n",
    "# T, N and C stand for sequence length, batch size, and feature dimensions respectively.\n",
    "\n",
    "# Expected OUTPUT Shape: (5, 1, 2) # (sequence_length, batch_size, num_hidden)\n",
    "# Expected RECURRENT STATE Shape: (1, 2, 3) # (num_layers, batch_size, num_hidden)"
   ]
  },
  {
   "cell_type": "code",
   "execution_count": 16,
   "metadata": {
    "ExecuteTime": {
     "end_time": "2018-02-01T08:18:51.441666Z",
     "start_time": "2018-02-01T08:18:51.420288Z"
    }
   },
   "outputs": [
    {
     "name": "stdout",
     "output_type": "stream",
     "text": [
      "output.shape (5, 1, 2)\n",
      "hn[0].shape (3, 1, 2)\n"
     ]
    }
   ],
   "source": [
    "# Manually specify begin state.\n",
    "\n",
    "# GRU INPUT 2 (Optional) : STATES\n",
    "h0 = mx.nd.random.uniform(shape=(3, 1, 2)) # (num_layers, batch_size, num_hidden)\n",
    "output, hn = layer(input, h0)\n",
    "print(\"output.shape\", output.shape)\n",
    "print(\"hn[0].shape\", hn[0].shape)"
   ]
  },
  {
   "cell_type": "code",
   "execution_count": 17,
   "metadata": {
    "ExecuteTime": {
     "end_time": "2018-02-01T08:18:51.461057Z",
     "start_time": "2018-02-01T08:18:51.443680Z"
    }
   },
   "outputs": [
    {
     "name": "stdout",
     "output_type": "stream",
     "text": [
      "output.shape (5, 1, 2)\n"
     ]
    }
   ],
   "source": [
    "# By default, zeros are used as begin state\n",
    "# Same As h0 = nd.zeros(shape=(3, 1, 2)) \n",
    "output = layer(input)\n",
    "print(\"output.shape\", output.shape)"
   ]
  },
  {
   "cell_type": "markdown",
   "metadata": {},
   "source": [
    "##### Comprehension of LSTM Block"
   ]
  },
  {
   "cell_type": "code",
   "execution_count": 18,
   "metadata": {
    "ExecuteTime": {
     "end_time": "2018-02-01T08:18:51.478431Z",
     "start_time": "2018-02-01T08:18:51.462778Z"
    }
   },
   "outputs": [
    {
     "name": "stdout",
     "output_type": "stream",
     "text": [
      "layer LSTM(None -> 8, TNC, num_layers=3)\n",
      "input.shape (5, 1, 10)\n"
     ]
    }
   ],
   "source": [
    "layer = mx.gluon.rnn.LSTM(2, 3) # (num_hidden, num_layers)\n",
    "layer.initialize()\n",
    "print('layer', layer)\n",
    "\n",
    "# LSTM INPUT 1 : DATA\n",
    "input = mx.nd.random.uniform(shape=(5, 1, 10)) # (sequence_length, batch_size, feature_dims)\n",
    "print(\"input.shape\", input.shape)\n",
    "\n",
    "# layout (str, default 'TNC') – The format of input and output tensors.\n",
    "# T, N and C stand for sequence length, batch size, and feature dimensions respectively.\n",
    "\n",
    "# Expected OUTPUT Shape: (5, 1, 2) # (sequence_length, batch_size, num_hidden)\n",
    "# Expected RECURRENT STATE Shape: (1, 2, 3) # (num_layers, batch_size, num_hidden)"
   ]
  },
  {
   "cell_type": "code",
   "execution_count": 19,
   "metadata": {
    "ExecuteTime": {
     "end_time": "2018-02-01T08:18:51.502195Z",
     "start_time": "2018-02-01T08:18:51.481327Z"
    }
   },
   "outputs": [
    {
     "name": "stdout",
     "output_type": "stream",
     "text": [
      "output.shape (5, 1, 2)\n",
      "hn[0].shape (3, 1, 2)\n"
     ]
    }
   ],
   "source": [
    "# Manually specify begin state.\n",
    "\n",
    "# LSTM INPUT 2 (Optional) : STATES\n",
    "h0 = mx.nd.random.uniform(shape=(3, 1, 2)) # (num_layers, batch_size, num_hidden)\n",
    "c0 = mx.nd.random.uniform(shape=(3, 1, 2)) # (num_layers, batch_size, num_hidden)\n",
    "output, hn = layer(input, [h0, c0])\n",
    "print(\"output.shape\", output.shape)\n",
    "print(\"hn[0].shape\", hn[0].shape)"
   ]
  },
  {
   "cell_type": "code",
   "execution_count": 20,
   "metadata": {
    "ExecuteTime": {
     "end_time": "2018-02-01T08:18:51.520043Z",
     "start_time": "2018-02-01T08:18:51.503936Z"
    }
   },
   "outputs": [
    {
     "name": "stdout",
     "output_type": "stream",
     "text": [
      "output.shape (5, 1, 2)\n"
     ]
    }
   ],
   "source": [
    "# By default, zeros are used as begin state\n",
    "# Same As h0 = nd.zeros(shape=(3, 1, 2)) \n",
    "\n",
    "output = layer(input)\n",
    "print(\"output.shape\", output.shape)"
   ]
  },
  {
   "cell_type": "code",
   "execution_count": null,
   "metadata": {
    "collapsed": true
   },
   "outputs": [],
   "source": []
  },
  {
   "cell_type": "code",
   "execution_count": 21,
   "metadata": {
    "ExecuteTime": {
     "end_time": "2018-02-01T08:18:51.525485Z",
     "start_time": "2018-02-01T08:18:51.521754Z"
    },
    "collapsed": true
   },
   "outputs": [],
   "source": [
    "batch_size = 32"
   ]
  },
  {
   "cell_type": "code",
   "execution_count": 22,
   "metadata": {
    "ExecuteTime": {
     "end_time": "2018-02-01T08:18:51.543418Z",
     "start_time": "2018-02-01T08:18:51.527330Z"
    },
    "collapsed": true
   },
   "outputs": [],
   "source": [
    "def generate_batch_data(data, seq_length, dims, batch_size, normalize=None, **kwargs):\n",
    "    \n",
    "    data = mx.nd.array(data)\n",
    "    \n",
    "    if normalize!=None:\n",
    "        data = normalize(data, **kwargs)\n",
    "        \n",
    "    data = data.reshape((-1, seq_length, dims))\n",
    "    \n",
    "    num_batches = len(data) // batch_size    \n",
    "    \n",
    "    data_batch = data.reshape((batch_size, num_batches, seq_length, dims))\n",
    "    data_batch = nd.swapaxes(data_batch, 0, 1) #(num_batches, batch_size, seq_length, feature_dims)\n",
    "    data_batch = nd.swapaxes(data_batch, 1, 2) #(num_batches, seq_length, batch_size, feature_dims)\n",
    "    return data_batch\n",
    "\n",
    "\n",
    "\n"
   ]
  },
  {
   "cell_type": "code",
   "execution_count": 23,
   "metadata": {
    "ExecuteTime": {
     "end_time": "2018-02-01T08:18:51.568176Z",
     "start_time": "2018-02-01T08:18:51.545297Z"
    },
    "collapsed": true
   },
   "outputs": [],
   "source": [
    "train_x = generate_batch_data(data = train_audio,\n",
    "                              seq_length = train_audio.shape[1],\n",
    "                              dims = 1, # 1 Channel (Monophonic)\n",
    "                              batch_size = batch_size,\n",
    "                              normalize = norm_zscore,\n",
    "                              norm_axis = 1\n",
    "                             )\n",
    "\n",
    "valid_x = generate_batch_data(data = valid_audio,\n",
    "                              seq_length = valid_audio.shape[1],\n",
    "                              dims = 1, # 1 Channel (Monophonic)\n",
    "                              batch_size = batch_size,\n",
    "                              normalize = norm_zscore,\n",
    "                              norm_axis = 1\n",
    "                             )\n",
    "\n",
    "\n",
    "train_y = generate_batch_data(data = train_label_onehot,\n",
    "                              seq_length = 1, # last output\n",
    "                              dims = train_label_onehot.shape[1],\n",
    "                              batch_size = batch_size\n",
    "                             )\n",
    "\n",
    "valid_y = generate_batch_data(data = valid_label_onehot,\n",
    "                              seq_length = 1, # last output\n",
    "                              dims = valid_label_onehot.shape[1],\n",
    "                              batch_size = batch_size\n",
    "                             )"
   ]
  },
  {
   "cell_type": "code",
   "execution_count": 24,
   "metadata": {
    "ExecuteTime": {
     "end_time": "2018-02-01T08:18:51.578643Z",
     "start_time": "2018-02-01T08:18:51.569834Z"
    }
   },
   "outputs": [
    {
     "name": "stdout",
     "output_type": "stream",
     "text": [
      "train_x:  (655, 4000, 32, 1)\n",
      "valid_x:  (282, 4000, 32, 1)\n",
      "train_y:  (655, 1, 32, 2)\n",
      "valid_y:  (282, 1, 32, 2)\n"
     ]
    }
   ],
   "source": [
    "print('train_x: ', train_x.shape)\n",
    "print('valid_x: ', valid_x.shape)\n",
    "print('train_y: ', train_y.shape)\n",
    "print('valid_y: ', valid_y.shape)"
   ]
  },
  {
   "cell_type": "markdown",
   "metadata": {},
   "source": [
    "## 3. Define Model, Activation, Loss, Optimizer"
   ]
  },
  {
   "cell_type": "code",
   "execution_count": 25,
   "metadata": {
    "ExecuteTime": {
     "end_time": "2018-02-01T08:18:51.628389Z",
     "start_time": "2018-02-01T08:18:51.580432Z"
    },
    "collapsed": true
   },
   "outputs": [],
   "source": [
    "class RNNModel(gluon.Block):\n",
    "    \"\"\"A model with an encoder, recurrent layer, and a decoder.\"\"\"\n",
    "\n",
    "    def __init__(self, mode, dims, num_hidden, num_layers, dropout=0.5, **kwargs):\n",
    "        super(RNNModel, self).__init__(**kwargs)\n",
    "        with self.name_scope():\n",
    "            self.drop = nn.Dropout(dropout)\n",
    "\n",
    "            if mode == 'simple_rnn':\n",
    "                self.rnn = rnn.RNN(num_hidden, num_layers, dropout=dropout, input_size=dims)\n",
    "            elif mode == 'lstm':\n",
    "                self.rnn = rnn.LSTM(num_hidden, num_layers, dropout=dropout, input_size=dims)\n",
    "            elif mode == 'gru':\n",
    "                self.rnn = rnn.GRU(num_hidden, num_layers, dropout=dropout, input_size=dims)\n",
    "            else:\n",
    "                raise ValueError(\"Invalid mode %s. Options are simple_rnn, lstm, and gru\"%mode)\n",
    "                \n",
    "            self.flat = nn.Flatten()\n",
    "            self.dense = nn.Dense(2)\n",
    "            \n",
    "    def forward(self, inputs, hidden):\n",
    "        inputs = self.drop(inputs)\n",
    "        output, hidden = self.rnn(inputs, hidden)\n",
    "        output = self.drop(output)\n",
    "        output = output[len(output)-1]\n",
    "        output= self.flat(output)\n",
    "        output= self.dense(output)\n",
    "        return (output, hidden)\n",
    "\n",
    "    def begin_state(self, *args, **kwargs):\n",
    "        return self.rnn.begin_state(*args, **kwargs)"
   ]
  },
  {
   "cell_type": "code",
   "execution_count": 26,
   "metadata": {
    "ExecuteTime": {
     "end_time": "2018-02-01T08:18:51.635142Z",
     "start_time": "2018-02-01T08:18:51.630108Z"
    },
    "collapsed": true
   },
   "outputs": [],
   "source": [
    "# Starting each batch, we detach the hidden state from how it was previously produced.\n",
    "# If we didn't, the model would try backpropagating all the way to start of the dataset.\n",
    "# (참고) Why we need to detach variable which contains hidden representation\n",
    "# https://discuss.pytorch.org/t/solved-why-we-need-to-detach-variable-which-contains-hidden-representation/1426\n",
    "\n",
    "# NDArray.detach: Returns a new NDArray, detached from the current graph.\n",
    "def detach(hidden):\n",
    "    if isinstance(hidden, (tuple, list)):\n",
    "        hidden = [i.detach() for i in hidden]\n",
    "    else:\n",
    "        hidden = hidden.detach()\n",
    "    return hidden"
   ]
  },
  {
   "cell_type": "code",
   "execution_count": 27,
   "metadata": {
    "ExecuteTime": {
     "end_time": "2018-02-01T08:18:51.650294Z",
     "start_time": "2018-02-01T08:18:51.637108Z"
    },
    "collapsed": true
   },
   "outputs": [],
   "source": [
    "def eval_loss(net, x, y, ibatch, ctx):\n",
    "    total_L = 0.0\n",
    "    ntotal = 0\n",
    "    hidden = model.begin_state(func = mx.nd.zeros, batch_size = batch_size, ctx=ctx)\n",
    "    data = x[ibatch]\n",
    "    target = y[ibatch]\n",
    "    \n",
    "    with autograd.predict_mode():\n",
    "        output, _ = net(data, hidden)\n",
    "        \n",
    "    L = loss(output, target[-1])\n",
    "    total_L += mx.nd.sum(L).asscalar()\n",
    "    ntotal += L.size\n",
    "    return (total_L, ntotal)\n"
   ]
  },
  {
   "cell_type": "code",
   "execution_count": 28,
   "metadata": {
    "ExecuteTime": {
     "end_time": "2018-02-01T08:18:51.676486Z",
     "start_time": "2018-02-01T08:18:51.652923Z"
    },
    "collapsed": true
   },
   "outputs": [],
   "source": [
    "def eval_accuracy(net, x, y, ctx):\n",
    "    acc = mx.metric.Accuracy()\n",
    "    \n",
    "    seq_length = x.shape[1]\n",
    "    data = nd.swapaxes(x, 0, 1).reshape((seq_length,-1,1)).as_in_context(ctx)    \n",
    "    label = nd.swapaxes(y, 0, 1).reshape((-1,2)).as_in_context(ctx)\n",
    "    hidden = model.begin_state(func = mx.nd.zeros, batch_size = label.shape[0], ctx=ctx)\n",
    "\n",
    "    with autograd.predict_mode():\n",
    "        output, _ = net(data, hidden)\n",
    "    \n",
    "    predictions = mx.nd.argmax(output, axis=1)\n",
    "    real = mx.nd.argmax(label, axis=1)\n",
    "    acc.update(preds=predictions, labels=real)\n",
    "\n",
    "    return acc.get()[1]"
   ]
  },
  {
   "cell_type": "markdown",
   "metadata": {},
   "source": [
    "## 4. RUN"
   ]
  },
  {
   "cell_type": "code",
   "execution_count": 35,
   "metadata": {
    "ExecuteTime": {
     "end_time": "2018-02-01T08:37:19.857669Z",
     "start_time": "2018-02-01T08:37:19.784570Z"
    },
    "collapsed": true
   },
   "outputs": [],
   "source": [
    "num_epochs = 1\n",
    "log_interval = 1\n",
    "args_clip = 0.2\n",
    "\n",
    "\n",
    "def train():\n",
    "    for epoch in range(num_epochs):\n",
    "        total_L = 0.0\n",
    "        val_total_L = 0.0\n",
    "        val_ntotal = 0\n",
    "        start_time = time.time()\n",
    "        hidden = model.begin_state(func = mx.nd.zeros, batch_size = batch_size, ctx = ctx)\n",
    "        for ibatch in range(train_x.shape[0]):\n",
    "            data = train_x[ibatch]\n",
    "            target = train_y[ibatch]\n",
    "            hidden = detach(hidden)\n",
    "            with autograd.record():\n",
    "                output, hidden = model(data, hidden)\n",
    "                L = loss(output, target[-1])\n",
    "                L.backward()\n",
    "\n",
    "            grads = [i.grad(ctx) for i in model.collect_params().values()]\n",
    "            # Here gradient is for the whole batch.\n",
    "            # So we multiply max_norm by batch_size and bptt size to balance it.\n",
    "            gluon.utils.clip_global_norm(grads, args_clip * batch_size)\n",
    "\n",
    "            trainer.step(batch_size)\n",
    "            total_L += mx.nd.sum(L).asscalar()\n",
    "            \n",
    "            val_ibatch = random.sample(range(len(valid_x)), 1)[0]\n",
    "            batch_val_total_L, batch_val_ntotal = eval_loss(model, valid_x, valid_y, val_ibatch, ctx)\n",
    "            val_total_L += batch_val_total_L\n",
    "            val_ntotal += batch_val_ntotal\n",
    "            val_L = val_total_L / val_ntotal\n",
    "            \n",
    "            val_acc = eval_accuracy(model, valid_x, valid_y, ctx)\n",
    "            \n",
    "            if ibatch % log_interval == 0 and ibatch > 0:\n",
    "                cur_L = total_L / batch_size / log_interval\n",
    "                print('[Epoch %d Batch %d] loss %.2f, validation loss %.2f, validation accuracy %.2f' % (\n",
    "                    epoch + 1, ibatch, cur_L, val_L, val_acc))\n",
    "                total_L = 0.0\n",
    "                \n",
    "        val_acc = eval_accuracy(model, valid_x, valid_y, ctx)\n",
    "\n",
    "        print('[Epoch %d] time cost %.2fs, validation loss %.2f, validation accuracy %.2f' % (\n",
    "            epoch + 1, time.time() - start_time, val_L, val_acc))\n"
   ]
  },
  {
   "cell_type": "code",
   "execution_count": 36,
   "metadata": {
    "ExecuteTime": {
     "end_time": "2018-02-01T08:54:30.191376Z",
     "start_time": "2018-02-01T08:37:22.277178Z"
    }
   },
   "outputs": [
    {
     "name": "stdout",
     "output_type": "stream",
     "text": [
      "[Epoch 1 Batch 1] loss 1.65, validation loss 0.71, validation accuracy 0.50\n",
      "[Epoch 1 Batch 2] loss 0.66, validation loss 0.70, validation accuracy 0.50\n",
      "[Epoch 1 Batch 3] loss 0.93, validation loss 0.71, validation accuracy 0.51\n",
      "[Epoch 1 Batch 4] loss 0.64, validation loss 0.71, validation accuracy 0.51\n",
      "[Epoch 1 Batch 5] loss 0.73, validation loss 0.70, validation accuracy 0.52\n",
      "[Epoch 1 Batch 6] loss 0.80, validation loss 0.70, validation accuracy 0.53\n",
      "[Epoch 1 Batch 7] loss 0.75, validation loss 0.71, validation accuracy 0.53\n",
      "[Epoch 1 Batch 8] loss 0.78, validation loss 0.71, validation accuracy 0.54\n",
      "[Epoch 1 Batch 9] loss 0.62, validation loss 0.71, validation accuracy 0.55\n",
      "[Epoch 1 Batch 10] loss 0.86, validation loss 0.71, validation accuracy 0.55\n",
      "[Epoch 1 Batch 11] loss 0.65, validation loss 0.71, validation accuracy 0.57\n",
      "[Epoch 1 Batch 12] loss 0.67, validation loss 0.70, validation accuracy 0.57\n",
      "[Epoch 1 Batch 13] loss 0.65, validation loss 0.70, validation accuracy 0.58\n",
      "[Epoch 1 Batch 14] loss 0.68, validation loss 0.70, validation accuracy 0.59\n",
      "[Epoch 1 Batch 15] loss 0.64, validation loss 0.70, validation accuracy 0.60\n",
      "[Epoch 1 Batch 16] loss 0.69, validation loss 0.70, validation accuracy 0.61\n",
      "[Epoch 1 Batch 17] loss 0.84, validation loss 0.70, validation accuracy 0.62\n",
      "[Epoch 1 Batch 18] loss 0.67, validation loss 0.70, validation accuracy 0.62\n",
      "[Epoch 1 Batch 19] loss 0.73, validation loss 0.70, validation accuracy 0.63\n",
      "[Epoch 1 Batch 20] loss 0.63, validation loss 0.69, validation accuracy 0.64\n",
      "[Epoch 1 Batch 21] loss 0.65, validation loss 0.69, validation accuracy 0.65\n",
      "[Epoch 1 Batch 22] loss 0.70, validation loss 0.69, validation accuracy 0.65\n",
      "[Epoch 1 Batch 23] loss 0.68, validation loss 0.69, validation accuracy 0.66\n",
      "[Epoch 1 Batch 24] loss 0.67, validation loss 0.69, validation accuracy 0.66\n",
      "[Epoch 1 Batch 25] loss 0.66, validation loss 0.69, validation accuracy 0.66\n",
      "[Epoch 1 Batch 26] loss 0.73, validation loss 0.69, validation accuracy 0.67\n",
      "[Epoch 1 Batch 27] loss 0.64, validation loss 0.69, validation accuracy 0.68\n",
      "[Epoch 1 Batch 28] loss 0.67, validation loss 0.69, validation accuracy 0.68\n",
      "[Epoch 1 Batch 29] loss 0.68, validation loss 0.69, validation accuracy 0.69\n",
      "[Epoch 1 Batch 30] loss 0.68, validation loss 0.69, validation accuracy 0.70\n",
      "[Epoch 1 Batch 31] loss 0.62, validation loss 0.68, validation accuracy 0.70\n",
      "[Epoch 1 Batch 32] loss 0.60, validation loss 0.68, validation accuracy 0.71\n",
      "[Epoch 1 Batch 33] loss 0.74, validation loss 0.68, validation accuracy 0.71\n",
      "[Epoch 1 Batch 34] loss 0.61, validation loss 0.68, validation accuracy 0.71\n",
      "[Epoch 1 Batch 35] loss 0.63, validation loss 0.68, validation accuracy 0.72\n",
      "[Epoch 1 Batch 36] loss 0.65, validation loss 0.68, validation accuracy 0.72\n",
      "[Epoch 1 Batch 37] loss 0.58, validation loss 0.68, validation accuracy 0.72\n",
      "[Epoch 1 Batch 38] loss 0.59, validation loss 0.68, validation accuracy 0.72\n",
      "[Epoch 1 Batch 39] loss 0.64, validation loss 0.68, validation accuracy 0.73\n",
      "[Epoch 1 Batch 40] loss 0.66, validation loss 0.68, validation accuracy 0.73\n",
      "[Epoch 1 Batch 41] loss 0.64, validation loss 0.68, validation accuracy 0.73\n",
      "[Epoch 1 Batch 42] loss 0.60, validation loss 0.67, validation accuracy 0.73\n",
      "[Epoch 1 Batch 43] loss 0.60, validation loss 0.67, validation accuracy 0.74\n",
      "[Epoch 1 Batch 44] loss 0.75, validation loss 0.67, validation accuracy 0.74\n",
      "[Epoch 1 Batch 45] loss 0.95, validation loss 0.67, validation accuracy 0.74\n",
      "[Epoch 1 Batch 46] loss 0.68, validation loss 0.67, validation accuracy 0.74\n",
      "[Epoch 1 Batch 47] loss 0.61, validation loss 0.67, validation accuracy 0.74\n",
      "[Epoch 1 Batch 48] loss 0.70, validation loss 0.67, validation accuracy 0.74\n",
      "[Epoch 1 Batch 49] loss 0.63, validation loss 0.67, validation accuracy 0.74\n",
      "[Epoch 1 Batch 50] loss 0.73, validation loss 0.67, validation accuracy 0.74\n",
      "[Epoch 1 Batch 51] loss 0.65, validation loss 0.67, validation accuracy 0.74\n",
      "[Epoch 1 Batch 52] loss 0.63, validation loss 0.67, validation accuracy 0.74\n",
      "[Epoch 1 Batch 53] loss 0.63, validation loss 0.67, validation accuracy 0.74\n",
      "[Epoch 1 Batch 54] loss 0.57, validation loss 0.67, validation accuracy 0.74\n",
      "[Epoch 1 Batch 55] loss 0.65, validation loss 0.67, validation accuracy 0.74\n",
      "[Epoch 1 Batch 56] loss 0.57, validation loss 0.67, validation accuracy 0.75\n",
      "[Epoch 1 Batch 57] loss 0.66, validation loss 0.67, validation accuracy 0.75\n",
      "[Epoch 1 Batch 58] loss 0.64, validation loss 0.67, validation accuracy 0.75\n",
      "[Epoch 1 Batch 59] loss 0.79, validation loss 0.67, validation accuracy 0.75\n",
      "[Epoch 1 Batch 60] loss 0.63, validation loss 0.67, validation accuracy 0.75\n",
      "[Epoch 1 Batch 61] loss 0.68, validation loss 0.67, validation accuracy 0.75\n",
      "[Epoch 1 Batch 62] loss 0.71, validation loss 0.67, validation accuracy 0.75\n",
      "[Epoch 1 Batch 63] loss 0.65, validation loss 0.67, validation accuracy 0.75\n",
      "[Epoch 1 Batch 64] loss 0.72, validation loss 0.67, validation accuracy 0.75\n",
      "[Epoch 1 Batch 65] loss 0.81, validation loss 0.66, validation accuracy 0.75\n",
      "[Epoch 1 Batch 66] loss 0.56, validation loss 0.66, validation accuracy 0.75\n",
      "[Epoch 1 Batch 67] loss 0.66, validation loss 0.66, validation accuracy 0.75\n",
      "[Epoch 1 Batch 68] loss 0.77, validation loss 0.66, validation accuracy 0.75\n",
      "[Epoch 1 Batch 69] loss 0.63, validation loss 0.66, validation accuracy 0.75\n",
      "[Epoch 1 Batch 70] loss 0.69, validation loss 0.66, validation accuracy 0.75\n",
      "[Epoch 1 Batch 71] loss 0.62, validation loss 0.66, validation accuracy 0.75\n",
      "[Epoch 1 Batch 72] loss 0.67, validation loss 0.66, validation accuracy 0.75\n",
      "[Epoch 1 Batch 73] loss 0.60, validation loss 0.66, validation accuracy 0.75\n",
      "[Epoch 1 Batch 74] loss 0.64, validation loss 0.66, validation accuracy 0.75\n"
     ]
    },
    {
     "ename": "KeyboardInterrupt",
     "evalue": "",
     "output_type": "error",
     "traceback": [
      "\u001b[0;31m---------------------------------------------------------------------------\u001b[0m",
      "\u001b[0;31mKeyboardInterrupt\u001b[0m                         Traceback (most recent call last)",
      "\u001b[0;32m<ipython-input-36-ef4b2c77777e>\u001b[0m in \u001b[0;36m<module>\u001b[0;34m()\u001b[0m\n\u001b[1;32m      4\u001b[0m \u001b[0mloss\u001b[0m \u001b[0;34m=\u001b[0m \u001b[0mgluon\u001b[0m\u001b[0;34m.\u001b[0m\u001b[0mloss\u001b[0m\u001b[0;34m.\u001b[0m\u001b[0mSigmoidBinaryCrossEntropyLoss\u001b[0m\u001b[0;34m(\u001b[0m\u001b[0;34m)\u001b[0m\u001b[0;34m\u001b[0m\u001b[0m\n\u001b[1;32m      5\u001b[0m \u001b[0;34m\u001b[0m\u001b[0m\n\u001b[0;32m----> 6\u001b[0;31m \u001b[0mtrain\u001b[0m\u001b[0;34m(\u001b[0m\u001b[0;34m)\u001b[0m\u001b[0;34m\u001b[0m\u001b[0m\n\u001b[0m",
      "\u001b[0;32m<ipython-input-35-7282319e479c>\u001b[0m in \u001b[0;36mtrain\u001b[0;34m()\u001b[0m\n\u001b[1;32m     18\u001b[0m                 \u001b[0moutput\u001b[0m\u001b[0;34m,\u001b[0m \u001b[0mhidden\u001b[0m \u001b[0;34m=\u001b[0m \u001b[0mmodel\u001b[0m\u001b[0;34m(\u001b[0m\u001b[0mdata\u001b[0m\u001b[0;34m,\u001b[0m \u001b[0mhidden\u001b[0m\u001b[0;34m)\u001b[0m\u001b[0;34m\u001b[0m\u001b[0m\n\u001b[1;32m     19\u001b[0m                 \u001b[0mL\u001b[0m \u001b[0;34m=\u001b[0m \u001b[0mloss\u001b[0m\u001b[0;34m(\u001b[0m\u001b[0moutput\u001b[0m\u001b[0;34m,\u001b[0m \u001b[0mtarget\u001b[0m\u001b[0;34m[\u001b[0m\u001b[0;34m-\u001b[0m\u001b[0;36m1\u001b[0m\u001b[0;34m]\u001b[0m\u001b[0;34m)\u001b[0m\u001b[0;34m\u001b[0m\u001b[0m\n\u001b[0;32m---> 20\u001b[0;31m                 \u001b[0mL\u001b[0m\u001b[0;34m.\u001b[0m\u001b[0mbackward\u001b[0m\u001b[0;34m(\u001b[0m\u001b[0;34m)\u001b[0m\u001b[0;34m\u001b[0m\u001b[0m\n\u001b[0m\u001b[1;32m     21\u001b[0m \u001b[0;34m\u001b[0m\u001b[0m\n\u001b[1;32m     22\u001b[0m             \u001b[0mgrads\u001b[0m \u001b[0;34m=\u001b[0m \u001b[0;34m[\u001b[0m\u001b[0mi\u001b[0m\u001b[0;34m.\u001b[0m\u001b[0mgrad\u001b[0m\u001b[0;34m(\u001b[0m\u001b[0mctx\u001b[0m\u001b[0;34m)\u001b[0m \u001b[0;32mfor\u001b[0m \u001b[0mi\u001b[0m \u001b[0;32min\u001b[0m \u001b[0mmodel\u001b[0m\u001b[0;34m.\u001b[0m\u001b[0mcollect_params\u001b[0m\u001b[0;34m(\u001b[0m\u001b[0;34m)\u001b[0m\u001b[0;34m.\u001b[0m\u001b[0mvalues\u001b[0m\u001b[0;34m(\u001b[0m\u001b[0;34m)\u001b[0m\u001b[0;34m]\u001b[0m\u001b[0;34m\u001b[0m\u001b[0m\n",
      "\u001b[0;32m/anaconda3/lib/python3.6/site-packages/mxnet/ndarray/ndarray.py\u001b[0m in \u001b[0;36mbackward\u001b[0;34m(self, out_grad, retain_graph, train_mode)\u001b[0m\n\u001b[1;32m   2000\u001b[0m             \u001b[0mctypes\u001b[0m\u001b[0;34m.\u001b[0m\u001b[0mc_int\u001b[0m\u001b[0;34m(\u001b[0m\u001b[0mtrain_mode\u001b[0m\u001b[0;34m)\u001b[0m\u001b[0;34m,\u001b[0m\u001b[0;34m\u001b[0m\u001b[0m\n\u001b[1;32m   2001\u001b[0m             \u001b[0mctypes\u001b[0m\u001b[0;34m.\u001b[0m\u001b[0mc_void_p\u001b[0m\u001b[0;34m(\u001b[0m\u001b[0;36m0\u001b[0m\u001b[0;34m)\u001b[0m\u001b[0;34m,\u001b[0m\u001b[0;34m\u001b[0m\u001b[0m\n\u001b[0;32m-> 2002\u001b[0;31m             ctypes.c_void_p(0)))\n\u001b[0m\u001b[1;32m   2003\u001b[0m \u001b[0;34m\u001b[0m\u001b[0m\n\u001b[1;32m   2004\u001b[0m     \u001b[0;32mdef\u001b[0m \u001b[0mtostype\u001b[0m\u001b[0;34m(\u001b[0m\u001b[0mself\u001b[0m\u001b[0;34m,\u001b[0m \u001b[0mstype\u001b[0m\u001b[0;34m)\u001b[0m\u001b[0;34m:\u001b[0m\u001b[0;34m\u001b[0m\u001b[0m\n",
      "\u001b[0;31mKeyboardInterrupt\u001b[0m: "
     ]
    }
   ],
   "source": [
    "model = RNNModel(mode='simple_rnn', dims=train_x.shape[3], num_hidden=5, num_layers=2, dropout=0.3)\n",
    "model.collect_params().initialize(mx.init.Xavier(), ctx=ctx)\n",
    "trainer = gluon.Trainer(model.collect_params(), 'sgd', {'learning_rate': 0.05, 'momentum': 0, 'wd': 0})\n",
    "loss = gluon.loss.SigmoidBinaryCrossEntropyLoss()\n",
    "\n",
    "train()"
   ]
  },
  {
   "cell_type": "code",
   "execution_count": null,
   "metadata": {
    "collapsed": true
   },
   "outputs": [],
   "source": [
    "model = RNNModel(mode='lstm', dims=train_x.shape[3], num_hidden=5, num_layers=2, dropout=0.3)\n",
    "model.collect_params().initialize(mx.init.Xavier(), ctx=ctx)\n",
    "trainer = gluon.Trainer(model.collect_params(), 'sgd', {'learning_rate': 0.05, 'momentum': 0, 'wd': 0})\n",
    "loss = gluon.loss.SigmoidBinaryCrossEntropyLoss()\n",
    "\n",
    "train()"
   ]
  },
  {
   "cell_type": "code",
   "execution_count": null,
   "metadata": {
    "ExecuteTime": {
     "end_time": "2018-02-01T05:50:43.168080Z",
     "start_time": "2018-02-01T05:48:22.576Z"
    },
    "collapsed": true
   },
   "outputs": [],
   "source": [
    "model = RNNModel(mode='gru', dims=train_x.shape[3], num_hidden=5, num_layers=2, dropout=0.3)\n",
    "model.collect_params().initialize(mx.init.Xavier(), ctx=ctx)\n",
    "trainer = gluon.Trainer(model.collect_params(), 'sgd', {'learning_rate': 0.05, 'momentum': 0, 'wd': 0})\n",
    "loss = gluon.loss.SigmoidBinaryCrossEntropyLoss()\n",
    "\n",
    "train()"
   ]
  },
  {
   "cell_type": "code",
   "execution_count": null,
   "metadata": {
    "collapsed": true
   },
   "outputs": [],
   "source": []
  }
 ],
 "metadata": {
  "kernelspec": {
   "display_name": "Python 3",
   "language": "python",
   "name": "python3"
  },
  "language_info": {
   "codemirror_mode": {
    "name": "ipython",
    "version": 3
   },
   "file_extension": ".py",
   "mimetype": "text/x-python",
   "name": "python",
   "nbconvert_exporter": "python",
   "pygments_lexer": "ipython3",
   "version": "3.6.2"
  }
 },
 "nbformat": 4,
 "nbformat_minor": 2
}
