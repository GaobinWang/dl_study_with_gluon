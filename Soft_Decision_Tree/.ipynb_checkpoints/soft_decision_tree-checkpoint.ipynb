{
 "cells": [
  {
   "cell_type": "markdown",
   "metadata": {},
   "source": [
    "# Soft decision tree"
   ]
  },
  {
   "cell_type": "markdown",
   "metadata": {
    "ExecuteTime": {
     "end_time": "2018-01-26T14:32:04.673148Z",
     "start_time": "2018-01-26T14:32:04.663245Z"
    }
   },
   "source": [
    "## Decision Tree\n",
    "* Decision Tree는 각각의 node에서 하나의 변수를 기준으로 순차적으로 2개 혹은 그 이상의 그룹으로 나누는 모형\n",
    "    * 최초 시작점을 Root, 가지의 말단을 leaf node, Root와 leaf node 사이의 node들을 inner node라고 부름\n",
    "    * 그렇게 굳이 나누어 부르는 이유는 Leaf node와 inner node의 역할이 조금 다를 수 있기 때문임\n",
    "    * 두개의 layer만 고려할 때에는 어떤 기준에 의해 갈라지기 전의 node를 parent node, 갈라진 후의 node들을 child node라고 얘기한다.\n",
    "    * 각 node에서는 Node에서는 측정된 impurity가 가장 작은 split point들을 grid search를 통해 순차적으로 찾아가는데, impurity는 다음과 같이 정의된다.\n",
    "         * Gini impurity는 CART에서 사용한 개념으로 다음과 같이 정의된다. (J개의 class를 가지고 있고, 각 $p_i, i = 1, \\ldots, J$는 주어진 leaf node들이 각 class에 속하는 비율로 계산한다.)\n",
    "    $$I_{G}(p)=\\sum _{i=1}^{J}p_{i}\\sum _{k\\neq i}p_{k}=\\sum _{i=1}^{J}p_{i}(1-p_{i})=\\sum _{i=1}^{J}(p_{i}-{p_{i}}^{2})=\\sum _{i=1}^{J}p_{i}-\\sum _{i=1}^{J}{p_{i}}^{2}=1-\\sum _{i=1}^{J}{p_{i}}^{2}$$\n",
    "         *  ID3, C4.5 and C5.0에서는 부모 node의 정보량(Information)에 비해 자식 node들의 정보량 (각 node의 Information의 해당 child node에 분배된 sample의 갯수를 기준으로한 가중 평균)이 얼마나 크게 늘었는지를 측정하는 Information gain을 사용한다.\n",
    "             * NOTE: Information은 정보이론에서 차용한 entropy라는 개념으로, 불확실성이 가장 큰 경우 가장 큰 값을 가지며, 다음과 같이 정의 된다. 여기서도 각 $p_i$는 주어진 node에 속한 data의 emprical probability를 의미한다.\n",
    "         $$H(T)=I_{E}(p_{1},p_{2},...,p_{J})=-\\sum _{i=1}^{J}p_{i}\\log _{2}^{}p_{i}$$\n",
    "             * 부모 node, 자식 node에서 각각 정보량을 구한 후에 Information gain은 다음과 같이 구한다\n",
    "         $$ \\overbrace {IG(T,a)} ^{\\text{Information Gain}}=\\overbrace {H(T)} ^{\\text{Entropy(parent)}}-\\overbrace {H(T|a)} ^{\\text{Weighted Sum of Entropy(Children)}}$$\n",
    "        \n",
    "        * CART에서는 Continuous variable을 분류할 수도 있는데, 이 경우에는 부모 node와 자식 node의 variance 변동을 최대화하는 split point를 선택한다.\n",
    "        $$I_{V}(N)={\\frac {1}{|S|^{2}}}\\sum _{i\\in S}\\sum _{j\\in S}{\\frac {1}{2}}(x_{i}-x_{j})^{2}-\\left({\\frac {1}{|S_{t}|^{2}}}\\sum _{i\\in S_{t}}\\sum _{j\\in S_{t}}{\\frac {1}{2}}(x_{i}-x_{j})^{2}+{\\frac {1}{|S_{f}|^{2}}}\\sum _{i\\in S_{f}}\\sum _{j\\in S_{f}}{\\frac {1}{2}}(x_{i}-x_{j})^{2}\\right)$$"
   ]
  },
  {
   "cell_type": "markdown",
   "metadata": {},
   "source": [
    "## Soft Decision Tree\n",
    "  * Soft Decision Tree의 핵심 개념은, 전통적인 tree 모형에서는 하나의 node에서는 하나의 변수에 의해 하나의 split point를 기준으로 관측치를 분류하였다면,\n",
    "    * soft decision tree는 split point를 정의함에 있어서 ** 여러변수를 동시에 사용**하면서 분류의 강도를 표현할 수 있도록, **sigmoid**함수를 사용한다는 점이다.\n"
   ]
  },
  {
   "cell_type": "markdown",
   "metadata": {},
   "source": [
    "## Apply DNN to decision tree"
   ]
  },
  {
   "cell_type": "markdown",
   "metadata": {},
   "source": [
    "# Load Libreary"
   ]
  },
  {
   "cell_type": "code",
   "execution_count": 1,
   "metadata": {
    "ExecuteTime": {
     "end_time": "2018-02-03T07:31:21.743212Z",
     "start_time": "2018-02-03T07:31:20.995384Z"
    }
   },
   "outputs": [
    {
     "name": "stderr",
     "output_type": "stream",
     "text": [
      "/home/kionkim/anaconda3/envs/kion_venv_mxnet/lib/python3.6/site-packages/urllib3/contrib/pyopenssl.py:46: DeprecationWarning: OpenSSL.rand is deprecated - you should use os.urandom instead\n",
      "  import OpenSSL.SSL\n"
     ]
    }
   ],
   "source": [
    "import os\n",
    "import time\n",
    "import pickle\n",
    "import numpy as np\n",
    "import mxnet as mx\n",
    "from mxnet import nd, autograd, gluon\n",
    "from tqdm import tqdm, tqdm_notebook\n",
    "\n",
    "gpu_ctx = mx.gpu(0)\n",
    "cpu_ctx = mx.cpu(0)"
   ]
  },
  {
   "cell_type": "markdown",
   "metadata": {},
   "source": [
    "# Load Data"
   ]
  },
  {
   "cell_type": "code",
   "execution_count": 2,
   "metadata": {
    "ExecuteTime": {
     "end_time": "2018-02-03T07:31:23.825287Z",
     "start_time": "2018-02-03T07:31:23.202294Z"
    }
   },
   "outputs": [],
   "source": [
    "mnist = mx.test_utils.get_mnist()\n",
    "#print(mnist['train_data'][0].shape)\n",
    "\n",
    "train_data = np.reshape(mnist['train_data'],(-1,28*28))\n",
    "test_data = np.reshape(mnist['test_data'],(-1,28*28))\n",
    "\n",
    "batch_size = 100\n",
    "OUT_DIM = 10\n",
    "n_batches = train_data.shape[0]/batch_size\n",
    "train_iter = mx.io.NDArrayIter(data={'data': train_data}, label={'label': mnist['train_label']}, batch_size = batch_size)\n",
    "test_iter = mx.io.NDArrayIter(data={'data': test_data}, label={'label': mnist['test_label']}, batch_size = batch_size)"
   ]
  },
  {
   "cell_type": "markdown",
   "metadata": {},
   "source": [
    "# Define Function"
   ]
  },
  {
   "cell_type": "code",
   "execution_count": 17,
   "metadata": {
    "ExecuteTime": {
     "end_time": "2018-02-03T07:36:14.869553Z",
     "start_time": "2018-02-03T07:36:14.360466Z"
    }
   },
   "outputs": [],
   "source": [
    "class InnerNode(gluon.Block):\n",
    "    def __init__(self, depth, super_node_name, node_name, **kwargs):\n",
    "        super(InnerNode, self).__init__()\n",
    "        self.kwargs = kwargs\n",
    "        with self.name_scope():\n",
    "            # Parameter\n",
    "            self.fc = gluon.nn.Dense(units = 1, activation = None)\n",
    "            self.beta = mx.nd.random.normal()\n",
    "            self.beta.attach_grad()\n",
    "        \n",
    "        # 각 node가 지니고 있어야 하는 모형관련 정보\n",
    "        self.data = None # Node에 속하는 data\n",
    "        self.leaf = False # Leaf node 여부 (Leaf node에서는 loss를 계산해야 함)\n",
    "        self.prob = None # FC를 통해 얻어진 확률\n",
    "        self.penalties = []\n",
    "        self.path_prob = None\n",
    "        self.lmbd = self.kwargs['lmbd'] * 2 ** (-depth)\n",
    "        \n",
    "        # Layer specific 정보\n",
    "        self.depth = depth\n",
    "        self.super_node_name = super_node_name\n",
    "        # 각 node의 이름 설정 (나중에 debugging에 용이함)\n",
    "        if depth == 1:\n",
    "            self.node_name = node_name\n",
    "        else:\n",
    "            self.node_name = super_node_name + ':' + node_name\n",
    "        \n",
    "        # constructor가 실행되는 순간 child node 생성\n",
    "        self.build_child(depth) \n",
    "        \n",
    "    def reset(self):\n",
    "        self.data = None # Node에 속하는 data\n",
    "        self.leaf = None # Leaf node 여부 (Leaf node에서는 loss를 계산해야 함)\n",
    "        self.prob = None # FC를 통해 얻어진 확률\n",
    "        self.penalties = []\n",
    "        self.left.reset()\n",
    "        self.right.reset()\n",
    "       \n",
    "    def build_child(self, depth):\n",
    "        # 만약 max_depth보다 depth가 작지 않으면 child node 대신 Leaf node 생성\n",
    "        # Binary 문제이므로, 2개의 child node가 생성됨\n",
    "        if depth < self.kwargs['max_depth']:\n",
    "            self.left = InnerNode(depth + 1, self.node_name, 'left', **self.kwargs)\n",
    "            self.right = InnerNode(depth + 1, self.node_name, 'right', **self.kwargs)\n",
    "        else:\n",
    "            self.left = LeafNode(self.node_name, 'l_leaf', **self.kwargs)\n",
    "            self.right = LeafNode(self.node_name, 'r_leaf', **self.kwargs)\n",
    "            \n",
    "    def forward(self, x, label, path_prob):\n",
    "        # Label을 같이 가져와서 loss를 구하기\n",
    "        # 현재 Node의 data를 저장\n",
    "        self.data = x\n",
    "        self.label = label\n",
    "        self.path_prob = path_prob\n",
    "        # Network를 학습\n",
    "        # Recursive하게 확률을 update 해나가는 것이므로, Leaf_node의 method와 이름이 같아야 함\n",
    "        # 최종 Leaf node에서 나오는 path_probability와 predicted distribution Q를 저장함\n",
    "        # 현재 node에서 확률값 계산\n",
    "        self.prob = nd.sigmoid(self.beta.as_in_context(self.kwargs['ctx'])*self.fc(self.data)) #self.beta.as_in_context(self.ctx)* #일단은 beta제외\n",
    "        #self.prob = nd.sigmoid(self.fc(self.data)) #self.beta.as_in_context(self.ctx)* #일단은 beta제외\n",
    "        \n",
    "        # 확률값에 따라 left, right node로 나누어서 저장\n",
    "        # nd array가 slicing이 잘 안돼서, numpy로 바꾸었다가 다시 ndarray로 바꾸는 과정을 거침\n",
    "        # member 변수로 해야만 child node에서 사용이 가능\n",
    "        self.l_idx = (self.prob.asnumpy().reshape((len(self.prob))) <= self.kwargs['cut_off'])\n",
    "        self.r_idx = (self.prob.asnumpy().reshape((len(self.prob))) > self.kwargs['cut_off'])\n",
    "        \n",
    "        # Split data into children\n",
    "        left_data = nd.array(self.data.asnumpy()[self.l_idx, :], ctx = self.kwargs['ctx'])\n",
    "        left_label = nd.array(self.label.asnumpy()[self.l_idx], ctx = self.kwargs['ctx'])\n",
    "        left_data_prob = nd.array(self.prob.asnumpy()[self.l_idx], ctx = self.kwargs['ctx'])\n",
    "        left_path_prob = nd.array(self.path_prob.asnumpy()[self.l_idx], ctx = self.kwargs['ctx'])\n",
    "        \n",
    "        right_data = nd.array(self.data.asnumpy()[self.r_idx, :], ctx = self.kwargs['ctx'])\n",
    "        right_label = nd.array(self.label.asnumpy()[self.r_idx], ctx = self.kwargs['ctx'])\n",
    "        right_data_prob = nd.array(self.prob.asnumpy()[self.r_idx], ctx = self.kwargs['ctx'])\n",
    "        right_path_prob = nd.array(self.path_prob.asnumpy()[self.r_idx], ctx = self.kwargs['ctx'])\n",
    "        \n",
    "        # Forward children\n",
    "        if left_data is not None and len(left_path_prob) > 0:\n",
    "            self.left(left_data, left_label, left_path_prob * (1 - left_data_prob))\n",
    "        if right_data is not None and len(right_path_prob) > 0:\n",
    "            self.right(right_data, right_label, right_path_prob * right_data_prob)\n",
    "                  \n",
    "    # Node별 penalty term 계산하기\n",
    "    # 좌나 우로 너무 쏠리지 않게 하는 역할\n",
    "    # Leaf node가 아닌 경우에만 계산\n",
    "    def get_penalty(self):\n",
    "        alpha = nd.sum(self.prob * self.path_prob) / nd.sum(self.path_prob)\n",
    "        penalty = - self.lmbd * 0.5 * (nd.log(alpha) + nd.log(1 - alpha))\n",
    "        if not self.leaf:      \n",
    "            left_penalty = self.left.get_penalty()\n",
    "            right_penalty = self.right.get_penalty()  \n",
    "            self.penalties.extend(penalty)\n",
    "            self.penalties.extend(left_penalty)\n",
    "            self.penalties.extend(right_penalty)\n",
    "        return(self.penalties)\n",
    "\n",
    "            \n",
    "    \n",
    "    # 실제 target과의 비교를 통해서 loss를 계산\n",
    "    # Leaf node에 대해서만 계산\n",
    "    def get_loss(self, loss = 0):\n",
    "        # 재귀호출을 위해서...\n",
    "        loss = self.left.get_loss(loss)\n",
    "        loss = self.right.get_loss(loss)\n",
    "        return loss\n",
    "    \n",
    "    def print_node_info(self):\n",
    "        print('node name = {}, data size = {}'.format(self.super_node_name + self.node_name, self.data.shape))"
   ]
  },
  {
   "cell_type": "code",
   "execution_count": 18,
   "metadata": {
    "ExecuteTime": {
     "end_time": "2018-02-03T07:36:15.392868Z",
     "start_time": "2018-02-03T07:36:15.275832Z"
    },
    "collapsed": true
   },
   "outputs": [],
   "source": [
    "class LeafNode(gluon.Block):\n",
    "    def __init__(self, super_node_name, node_name, **kwargs):\n",
    "        super(LeafNode, self).__init__()\n",
    "        self.kwargs = kwargs\n",
    "        with self.name_scope():\n",
    "            self.par = mx.nd.random_normal(shape = (self.kwargs['output_dim'])\n",
    "                                         , loc = 0, scale = 1., ctx = self.kwargs['ctx'])\n",
    "            self.par.attach_grad()\n",
    "        \n",
    "        self.path = super_node_name\n",
    "        self.node_name = node_name\n",
    "        self.leaf = True\n",
    "        self.path_prob = None\n",
    "        self.x = None\n",
    "        self.loss = 0\n",
    "        \n",
    "    def forward(self, x, label, path_prob):\n",
    "        # 최종 결과 node는 우리가 classify하고자 하는 class의 갯수\n",
    "        # 각 관측치가 가지고 있는, root로부터 leaf에 이르기까지 각 단계의 확률의  \n",
    "        # one-hot labeling\n",
    "        self.Q = nd.softmax(self.par)\n",
    "        self.path_prob = path_prob\n",
    "        target = np.zeros((label.shape[0], self.kwargs['output_dim']))\n",
    "        target[np.arange(label.shape[0]), [int(x) for x in label.asnumpy()]] = 1\n",
    "        self.target = nd.array(target).as_in_context(self.kwargs['ctx'])\n",
    "        \n",
    "        self.loss = - nd.sum(self.path_prob * nd.sum( self.target * nd.log(self.Q + 1e-10), axis = 1).expand_dims(1))\n",
    "\n",
    "    def get_penalty(self):\n",
    "        return [0]\n",
    "    \n",
    "    def print_node_info(self):\n",
    "        print('node name = {}, loss = {}'.format(self.super_node_name + node_name, self.loss))\n",
    "        \n",
    "    def get_loss(self, loss):\n",
    "        if self.loss is not None:\n",
    "            return loss + self.loss\n",
    "        else:\n",
    "            return loss\n",
    "    \n",
    "    def reset(self):\n",
    "        self.loss = 0\n",
    "        pass"
   ]
  },
  {
   "cell_type": "markdown",
   "metadata": {},
   "source": [
    "## Sample data"
   ]
  },
  {
   "cell_type": "code",
   "execution_count": 19,
   "metadata": {
    "ExecuteTime": {
     "end_time": "2018-02-03T07:36:16.634891Z",
     "start_time": "2018-02-03T07:36:16.619141Z"
    },
    "collapsed": true
   },
   "outputs": [],
   "source": [
    "train_iter.reset()\n",
    "test_iter.reset()\n",
    "    \n",
    "n_batch_train = 0\n",
    "for batch in train_iter:\n",
    "    n_batch_train +=1\n",
    "    data = batch.data[0]\n",
    "    label = batch.label[0]\n",
    "    if n_batch_train == 1:\n",
    "        break"
   ]
  },
  {
   "cell_type": "code",
   "execution_count": 20,
   "metadata": {
    "ExecuteTime": {
     "end_time": "2018-02-03T07:36:17.421164Z",
     "start_time": "2018-02-03T07:36:17.394865Z"
    }
   },
   "outputs": [],
   "source": [
    "args = {}\n",
    "args['lmbd'] = .5\n",
    "args['output_dim'] = 10\n",
    "args['ctx'] = gpu_ctx\n",
    "args['cut_off'] = .5\n",
    "args['max_depth'] = 2\n",
    "\n",
    "tree = InnerNode(0, '', 'root', **args)\n",
    "tree.collect_params().initialize(mx.init.Xavier(), ctx = args['ctx'])"
   ]
  },
  {
   "cell_type": "code",
   "execution_count": 21,
   "metadata": {
    "ExecuteTime": {
     "end_time": "2018-02-03T07:36:18.419954Z",
     "start_time": "2018-02-03T07:36:18.369328Z"
    }
   },
   "outputs": [],
   "source": [
    "# probability의 shape이 (batch_size, 1)이므로, 이에 맞도록 dimension을 하나 늘려줌\n",
    "prob = nd.ones(shape = (data.shape[0]), ctx = gpu_ctx).expand_dims(1)\n",
    "tree(data.as_in_context(gpu_ctx), label.as_in_context(gpu_ctx), prob)"
   ]
  },
  {
   "cell_type": "code",
   "execution_count": 22,
   "metadata": {
    "ExecuteTime": {
     "end_time": "2018-02-03T07:36:19.121375Z",
     "start_time": "2018-02-03T07:36:19.113614Z"
    }
   },
   "outputs": [
    {
     "data": {
      "text/plain": [
       "\n",
       "[[ 0.42400083]\n",
       " [ 0.53684336]\n",
       " [ 0.52593756]\n",
       " [ 0.40231487]\n",
       " [ 0.4623878 ]\n",
       " [ 0.41055611]\n",
       " [ 0.48722276]\n",
       " [ 0.44295362]\n",
       " [ 0.4563134 ]\n",
       " [ 0.48843241]]\n",
       "<NDArray 10x1 @gpu(0)>"
      ]
     },
     "execution_count": 22,
     "metadata": {},
     "output_type": "execute_result"
    }
   ],
   "source": [
    "tree.prob[:10]"
   ]
  },
  {
   "cell_type": "code",
   "execution_count": 23,
   "metadata": {
    "ExecuteTime": {
     "end_time": "2018-02-03T07:36:20.000141Z",
     "start_time": "2018-02-03T07:36:19.986844Z"
    }
   },
   "outputs": [],
   "source": [
    "pp = tree.get_penalty()"
   ]
  },
  {
   "cell_type": "code",
   "execution_count": 24,
   "metadata": {
    "ExecuteTime": {
     "end_time": "2018-02-03T07:36:20.933503Z",
     "start_time": "2018-02-03T07:36:20.922128Z"
    }
   },
   "outputs": [
    {
     "data": {
      "text/plain": [
       "[\n",
       " [ 0.34824646]\n",
       " <NDArray 1 @gpu(0)>, \n",
       " [ 0.17910001]\n",
       " <NDArray 1 @gpu(0)>, \n",
       " [ 0.08711782]\n",
       " <NDArray 1 @gpu(0)>, 0, 0, \n",
       " [ 0.08664767]\n",
       " <NDArray 1 @gpu(0)>, 0, 0, \n",
       " [ 0.17331734]\n",
       " <NDArray 1 @gpu(0)>, \n",
       " [ 0.08889298]\n",
       " <NDArray 1 @gpu(0)>, 0, 0, \n",
       " [ 0.08664359]\n",
       " <NDArray 1 @gpu(0)>, 0, 0]"
      ]
     },
     "execution_count": 24,
     "metadata": {},
     "output_type": "execute_result"
    }
   ],
   "source": [
    "pp"
   ]
  },
  {
   "cell_type": "code",
   "execution_count": 25,
   "metadata": {
    "ExecuteTime": {
     "end_time": "2018-02-03T07:36:21.876026Z",
     "start_time": "2018-02-03T07:36:21.866835Z"
    }
   },
   "outputs": [
    {
     "data": {
      "text/plain": [
       "\n",
       "[ 1.04996598]\n",
       "<NDArray 1 @gpu(0)>"
      ]
     },
     "execution_count": 25,
     "metadata": {},
     "output_type": "execute_result"
    }
   ],
   "source": [
    "pen = 0\n",
    "for p in pp:\n",
    "    pen += p\n",
    "pen"
   ]
  },
  {
   "cell_type": "code",
   "execution_count": 26,
   "metadata": {
    "ExecuteTime": {
     "end_time": "2018-02-03T07:36:22.867241Z",
     "start_time": "2018-02-03T07:36:22.860062Z"
    }
   },
   "outputs": [
    {
     "data": {
      "text/plain": [
       "1.0484880799999998"
      ]
     },
     "execution_count": 26,
     "metadata": {},
     "output_type": "execute_result"
    }
   ],
   "source": [
    "0.35175842+ 0.17332152 + 0.08713116 + 0.08668289 + 0.1749732 + 0.0867621 + 0.08785879"
   ]
  },
  {
   "cell_type": "code",
   "execution_count": 27,
   "metadata": {
    "ExecuteTime": {
     "end_time": "2018-02-03T07:36:24.109837Z",
     "start_time": "2018-02-03T07:36:24.104749Z"
    }
   },
   "outputs": [
    {
     "data": {
      "text/plain": [
       "\n",
       "[ 49.65241623]\n",
       "<NDArray 1 @gpu(0)>"
      ]
     },
     "execution_count": 27,
     "metadata": {},
     "output_type": "execute_result"
    }
   ],
   "source": [
    "tree.get_loss(0)"
   ]
  },
  {
   "cell_type": "code",
   "execution_count": 28,
   "metadata": {
    "ExecuteTime": {
     "end_time": "2018-02-03T07:36:24.941007Z",
     "start_time": "2018-02-03T07:36:24.931415Z"
    }
   },
   "outputs": [
    {
     "data": {
      "text/plain": [
       "\n",
       "[ 49.65241623]\n",
       "<NDArray 1 @gpu(0)>"
      ]
     },
     "execution_count": 28,
     "metadata": {},
     "output_type": "execute_result"
    }
   ],
   "source": [
    "(tree.left.left.left.loss)+\\\n",
    "(tree.left.left.right.loss)+\\\n",
    "(tree.left.right.left.loss)+\\\n",
    "(tree.left.right.right.loss)+\\\n",
    "(tree.right.left.left.loss)+\\\n",
    "(tree.right.left.right.loss)+\\\n",
    "(tree.right.right.left.loss)+\\\n",
    "(tree.right.right.right.loss)\n"
   ]
  },
  {
   "cell_type": "markdown",
   "metadata": {},
   "source": [
    "## Trainer"
   ]
  },
  {
   "cell_type": "code",
   "execution_count": 29,
   "metadata": {
    "ExecuteTime": {
     "end_time": "2018-02-03T07:36:26.431557Z",
     "start_time": "2018-02-03T07:36:26.427312Z"
    },
    "collapsed": true
   },
   "outputs": [],
   "source": [
    "trainer = gluon.Trainer(tree.collect_params(), 'adam', {'learning_rate': .001})"
   ]
  },
  {
   "cell_type": "markdown",
   "metadata": {},
   "source": [
    "# Training"
   ]
  },
  {
   "cell_type": "code",
   "execution_count": 31,
   "metadata": {
    "ExecuteTime": {
     "end_time": "2018-02-03T07:41:14.763998Z",
     "start_time": "2018-02-03T07:38:01.534121Z"
    },
    "scrolled": true
   },
   "outputs": [
    {
     "data": {
      "application/vnd.jupyter.widget-view+json": {
       "model_id": "cd62693f455140ae86ecd3616beb86e8",
       "version_major": 2,
       "version_minor": 0
      },
      "text/plain": [
       "A Jupyter Widget"
      ]
     },
     "metadata": {},
     "output_type": "display_data"
    },
    {
     "name": "stdout",
     "output_type": "stream",
     "text": [
      "Epoch 0, Training loss 39.0575924238, Validation loss 38.9634684372\n",
      "Epoch 5, Training loss 38.8517271487, Validation loss 42.1213698959\n"
     ]
    },
    {
     "ename": "KeyboardInterrupt",
     "evalue": "",
     "output_type": "error",
     "traceback": [
      "\u001b[0;31m---------------------------------------------------------------------------\u001b[0m",
      "\u001b[0;31mKeyboardInterrupt\u001b[0m                         Traceback (most recent call last)",
      "\u001b[0;32m<ipython-input-31-c3200e1ce1f9>\u001b[0m in \u001b[0;36m<module>\u001b[0;34m()\u001b[0m\n\u001b[1;32m     27\u001b[0m                 \u001b[0mpenalty\u001b[0m \u001b[0;34m=\u001b[0m \u001b[0mpenalty\u001b[0m \u001b[0;34m+\u001b[0m \u001b[0mt\u001b[0m\u001b[0;34m\u001b[0m\u001b[0m\n\u001b[1;32m     28\u001b[0m             \u001b[0mpen_loss\u001b[0m \u001b[0;34m=\u001b[0m \u001b[0mloss\u001b[0m \u001b[0;34m+\u001b[0m \u001b[0mpenalty\u001b[0m\u001b[0;34m\u001b[0m\u001b[0m\n\u001b[0;32m---> 29\u001b[0;31m         \u001b[0mpen_loss\u001b[0m\u001b[0;34m.\u001b[0m\u001b[0mbackward\u001b[0m\u001b[0;34m(\u001b[0m\u001b[0;34m)\u001b[0m\u001b[0;34m\u001b[0m\u001b[0m\n\u001b[0m\u001b[1;32m     30\u001b[0m         \u001b[0;31m#print('data size = {}'.format(data[:5, :5]))\u001b[0m\u001b[0;34m\u001b[0m\u001b[0;34m\u001b[0m\u001b[0m\n\u001b[1;32m     31\u001b[0m         \u001b[0;31m# Parameter 중에 update가 되지 않는 parameter를 무시하는 옵션\u001b[0m\u001b[0;34m\u001b[0m\u001b[0;34m\u001b[0m\u001b[0m\n",
      "\u001b[0;32m~/anaconda3/envs/kion_venv_mxnet/lib/python3.6/site-packages/mxnet/ndarray/ndarray.py\u001b[0m in \u001b[0;36mbackward\u001b[0;34m(self, out_grad, retain_graph, train_mode)\u001b[0m\n\u001b[1;32m   2000\u001b[0m             \u001b[0mctypes\u001b[0m\u001b[0;34m.\u001b[0m\u001b[0mc_int\u001b[0m\u001b[0;34m(\u001b[0m\u001b[0mtrain_mode\u001b[0m\u001b[0;34m)\u001b[0m\u001b[0;34m,\u001b[0m\u001b[0;34m\u001b[0m\u001b[0m\n\u001b[1;32m   2001\u001b[0m             \u001b[0mctypes\u001b[0m\u001b[0;34m.\u001b[0m\u001b[0mc_void_p\u001b[0m\u001b[0;34m(\u001b[0m\u001b[0;36m0\u001b[0m\u001b[0;34m)\u001b[0m\u001b[0;34m,\u001b[0m\u001b[0;34m\u001b[0m\u001b[0m\n\u001b[0;32m-> 2002\u001b[0;31m             ctypes.c_void_p(0)))\n\u001b[0m\u001b[1;32m   2003\u001b[0m \u001b[0;34m\u001b[0m\u001b[0m\n\u001b[1;32m   2004\u001b[0m     \u001b[0;32mdef\u001b[0m \u001b[0mtostype\u001b[0m\u001b[0;34m(\u001b[0m\u001b[0mself\u001b[0m\u001b[0;34m,\u001b[0m \u001b[0mstype\u001b[0m\u001b[0;34m)\u001b[0m\u001b[0;34m:\u001b[0m\u001b[0;34m\u001b[0m\u001b[0m\n",
      "\u001b[0;31mKeyboardInterrupt\u001b[0m: "
     ]
    }
   ],
   "source": [
    "n_epoch = 100\n",
    "print_period = n_epoch // 50\n",
    "start = time.time()\n",
    "\n",
    "training_loss = []\n",
    "validation_loss = []\n",
    "for epoch in tqdm_notebook(range(n_epoch), desc='epochs'):\n",
    "    epoch_loss = 0\n",
    "    epoch_val_loss = 0\n",
    "    \n",
    "    train_iter.reset()\n",
    "    test_iter.reset()\n",
    "    \n",
    "    n_batch_train = 0\n",
    "    for batch in train_iter:\n",
    "        n_batch_train +=1\n",
    "        data = batch.data[0].as_in_context(gpu_ctx)\n",
    "        label = batch.label[0].as_in_context(gpu_ctx)\n",
    "        with autograd.record():\n",
    "            tree.reset()\n",
    "            prob = nd.ones(shape = (data.shape[0]), ctx = gpu_ctx).expand_dims(1)\n",
    "            tree(data, label, prob)\n",
    "            loss = tree.get_loss(0)\n",
    "            tree.get_penalty()\n",
    "            penalty = 0\n",
    "            for t in tree.penalties:\n",
    "                penalty = penalty + t\n",
    "            pen_loss = loss + penalty\n",
    "        pen_loss.backward()\n",
    "        #print('data size = {}'.format(data[:5, :5]))\n",
    "        # Parameter 중에 update가 되지 않는 parameter를 무시하는 옵션\n",
    "        # 모든 leafnode에 data가 존재하지 않을 수 있으므로, True로 설정(?!)\n",
    "        trainer.step(data.shape[0])\n",
    "        epoch_loss += nd.mean(loss).asscalar()\n",
    "    \n",
    "    n_batch_val = 0\n",
    "    for batch in test_iter:\n",
    "        tree.reset()\n",
    "        n_batch_val +=1\n",
    "        data = batch.data[0].as_in_context(gpu_ctx)\n",
    "        label = batch.label[0].as_in_context(gpu_ctx)\n",
    "        prob = nd.ones(shape = (data.shape[0]), ctx = gpu_ctx).expand_dims(1)\n",
    "        tree(data, label, prob)\n",
    "        loss = tree.get_loss(0) \n",
    "        tree.get_penalty()\n",
    "        penalty = 0\n",
    "        for t in tree.penalties:\n",
    "            penalty = penalty + t\n",
    "        pen_loss = loss + penalty\n",
    "        epoch_val_loss += nd.mean(pen_loss).asscalar()\n",
    "        \n",
    "    \n",
    "    epoch_loss /= n_batch_train\n",
    "    epoch_val_loss /= n_batch_val\n",
    "    \n",
    "    training_loss.append(epoch_loss)\n",
    "    validation_loss.append(epoch_val_loss)\n",
    "    \n",
    "    if epoch % max(print_period,1) == 0:\n",
    "        tqdm.write('Epoch %d, Training loss %s, Validation loss %s' % (epoch, epoch_loss, epoch_val_loss))\n",
    "        \n",
    "end = time.time()\n",
    "tqdm.write('Time elapsed: {:.2f}s'.format(end - start))"
   ]
  },
  {
   "cell_type": "code",
   "execution_count": 40,
   "metadata": {
    "ExecuteTime": {
     "end_time": "2018-02-03T07:45:57.218027Z",
     "start_time": "2018-02-03T07:45:57.214529Z"
    }
   },
   "outputs": [],
   "source": [
    "max_Q = nd.max(tree.left.left.left.Q)"
   ]
  },
  {
   "cell_type": "code",
   "execution_count": 43,
   "metadata": {
    "ExecuteTime": {
     "end_time": "2018-02-03T07:46:47.262849Z",
     "start_time": "2018-02-03T07:46:47.252713Z"
    }
   },
   "outputs": [
    {
     "data": {
      "text/plain": [
       "[8]"
      ]
     },
     "execution_count": 43,
     "metadata": {},
     "output_type": "execute_result"
    }
   ],
   "source": [
    "max_Q\n",
    "Q= tree.left.left.left.Q\n",
    "pred = [x for x in range(len(Q)) if Q[x] == max_Q]"
   ]
  },
  {
   "cell_type": "code",
   "execution_count": 44,
   "metadata": {
    "ExecuteTime": {
     "end_time": "2018-02-03T07:47:36.898371Z",
     "start_time": "2018-02-03T07:47:36.892868Z"
    }
   },
   "outputs": [
    {
     "data": {
      "text/plain": [
       "InnerNode(\n",
       "  (fc): Dense(784 -> 1, linear)\n",
       "  (left): InnerNode(\n",
       "    (fc): Dense(784 -> 1, linear)\n",
       "    (left): InnerNode(\n",
       "      (fc): Dense(784 -> 1, linear)\n",
       "      (left): LeafNode(\n",
       "      \n",
       "      )\n",
       "      (right): LeafNode(\n",
       "      \n",
       "      )\n",
       "    )\n",
       "    (right): InnerNode(\n",
       "      (fc): Dense(784 -> 1, linear)\n",
       "      (left): LeafNode(\n",
       "      \n",
       "      )\n",
       "      (right): LeafNode(\n",
       "      \n",
       "      )\n",
       "    )\n",
       "  )\n",
       "  (right): InnerNode(\n",
       "    (fc): Dense(784 -> 1, linear)\n",
       "    (left): InnerNode(\n",
       "      (fc): Dense(784 -> 1, linear)\n",
       "      (left): LeafNode(\n",
       "      \n",
       "      )\n",
       "      (right): LeafNode(\n",
       "      \n",
       "      )\n",
       "    )\n",
       "    (right): InnerNode(\n",
       "      (fc): Dense(784 -> 1, linear)\n",
       "      (left): LeafNode(\n",
       "      \n",
       "      )\n",
       "      (right): LeafNode(\n",
       "      \n",
       "      )\n",
       "    )\n",
       "  )\n",
       ")"
      ]
     },
     "execution_count": 44,
     "metadata": {},
     "output_type": "execute_result"
    }
   ],
   "source": [
    "tree(x)"
   ]
  },
  {
   "cell_type": "code",
   "execution_count": 461,
   "metadata": {
    "ExecuteTime": {
     "end_time": "2018-02-03T07:28:27.060260Z",
     "start_time": "2018-02-03T07:28:26.297162Z"
    }
   },
   "outputs": [
    {
     "data": {
      "text/html": [
       "\n",
       "    <div class=\"bk-root\">\n",
       "        <a href=\"https://bokeh.pydata.org\" target=\"_blank\" class=\"bk-logo bk-logo-small bk-logo-notebook\"></a>\n",
       "        <span id=\"f978c539-0537-4c7a-a217-14c509bd3686\">Loading BokehJS ...</span>\n",
       "    </div>"
      ]
     },
     "metadata": {},
     "output_type": "display_data"
    },
    {
     "data": {
      "application/javascript": [
       "\n",
       "(function(root) {\n",
       "  function now() {\n",
       "    return new Date();\n",
       "  }\n",
       "\n",
       "  var force = true;\n",
       "\n",
       "  if (typeof (root._bokeh_onload_callbacks) === \"undefined\" || force === true) {\n",
       "    root._bokeh_onload_callbacks = [];\n",
       "    root._bokeh_is_loading = undefined;\n",
       "  }\n",
       "\n",
       "  var JS_MIME_TYPE = 'application/javascript';\n",
       "  var HTML_MIME_TYPE = 'text/html';\n",
       "  var EXEC_MIME_TYPE = 'application/vnd.bokehjs_exec.v0+json';\n",
       "  var CLASS_NAME = 'output_bokeh rendered_html';\n",
       "\n",
       "  /**\n",
       "   * Render data to the DOM node\n",
       "   */\n",
       "  function render(props, node) {\n",
       "    var script = document.createElement(\"script\");\n",
       "    node.appendChild(script);\n",
       "  }\n",
       "\n",
       "  /**\n",
       "   * Handle when an output is cleared or removed\n",
       "   */\n",
       "  function handleClearOutput(event, handle) {\n",
       "    var cell = handle.cell;\n",
       "\n",
       "    var id = cell.output_area._bokeh_element_id;\n",
       "    var server_id = cell.output_area._bokeh_server_id;\n",
       "    // Clean up Bokeh references\n",
       "    if (id !== undefined) {\n",
       "      Bokeh.index[id].model.document.clear();\n",
       "      delete Bokeh.index[id];\n",
       "    }\n",
       "\n",
       "    if (server_id !== undefined) {\n",
       "      // Clean up Bokeh references\n",
       "      var cmd = \"from bokeh.io.state import curstate; print(curstate().uuid_to_server['\" + server_id + \"'].get_sessions()[0].document.roots[0]._id)\";\n",
       "      cell.notebook.kernel.execute(cmd, {\n",
       "        iopub: {\n",
       "          output: function(msg) {\n",
       "            var element_id = msg.content.text.trim();\n",
       "            Bokeh.index[element_id].model.document.clear();\n",
       "            delete Bokeh.index[element_id];\n",
       "          }\n",
       "        }\n",
       "      });\n",
       "      // Destroy server and session\n",
       "      var cmd = \"import bokeh.io.notebook as ion; ion.destroy_server('\" + server_id + \"')\";\n",
       "      cell.notebook.kernel.execute(cmd);\n",
       "    }\n",
       "  }\n",
       "\n",
       "  /**\n",
       "   * Handle when a new output is added\n",
       "   */\n",
       "  function handleAddOutput(event, handle) {\n",
       "    var output_area = handle.output_area;\n",
       "    var output = handle.output;\n",
       "\n",
       "    // limit handleAddOutput to display_data with EXEC_MIME_TYPE content only\n",
       "    if ((output.output_type != \"display_data\") || (!output.data.hasOwnProperty(EXEC_MIME_TYPE))) {\n",
       "      return\n",
       "    }\n",
       "\n",
       "    var toinsert = output_area.element.find(`.${CLASS_NAME.split(' ')[0]}`);\n",
       "\n",
       "    if (output.metadata[EXEC_MIME_TYPE][\"id\"] !== undefined) {\n",
       "      toinsert[0].firstChild.textContent = output.data[JS_MIME_TYPE];\n",
       "      // store reference to embed id on output_area\n",
       "      output_area._bokeh_element_id = output.metadata[EXEC_MIME_TYPE][\"id\"];\n",
       "    }\n",
       "    if (output.metadata[EXEC_MIME_TYPE][\"server_id\"] !== undefined) {\n",
       "      var bk_div = document.createElement(\"div\");\n",
       "      bk_div.innerHTML = output.data[HTML_MIME_TYPE];\n",
       "      var script_attrs = bk_div.children[0].attributes;\n",
       "      for (var i = 0; i < script_attrs.length; i++) {\n",
       "        toinsert[0].firstChild.setAttribute(script_attrs[i].name, script_attrs[i].value);\n",
       "      }\n",
       "      // store reference to server id on output_area\n",
       "      output_area._bokeh_server_id = output.metadata[EXEC_MIME_TYPE][\"server_id\"];\n",
       "    }\n",
       "  }\n",
       "\n",
       "  function register_renderer(events, OutputArea) {\n",
       "\n",
       "    function append_mime(data, metadata, element) {\n",
       "      // create a DOM node to render to\n",
       "      var toinsert = this.create_output_subarea(\n",
       "        metadata,\n",
       "        CLASS_NAME,\n",
       "        EXEC_MIME_TYPE\n",
       "      );\n",
       "      this.keyboard_manager.register_events(toinsert);\n",
       "      // Render to node\n",
       "      var props = {data: data, metadata: metadata[EXEC_MIME_TYPE]};\n",
       "      render(props, toinsert[0]);\n",
       "      element.append(toinsert);\n",
       "      return toinsert\n",
       "    }\n",
       "\n",
       "    /* Handle when an output is cleared or removed */\n",
       "    events.on('clear_output.CodeCell', handleClearOutput);\n",
       "    events.on('delete.Cell', handleClearOutput);\n",
       "\n",
       "    /* Handle when a new output is added */\n",
       "    events.on('output_added.OutputArea', handleAddOutput);\n",
       "\n",
       "    /**\n",
       "     * Register the mime type and append_mime function with output_area\n",
       "     */\n",
       "    OutputArea.prototype.register_mime_type(EXEC_MIME_TYPE, append_mime, {\n",
       "      /* Is output safe? */\n",
       "      safe: true,\n",
       "      /* Index of renderer in `output_area.display_order` */\n",
       "      index: 0\n",
       "    });\n",
       "  }\n",
       "\n",
       "  // register the mime type if in Jupyter Notebook environment and previously unregistered\n",
       "  if (root.Jupyter !== undefined) {\n",
       "    var events = require('base/js/events');\n",
       "    var OutputArea = require('notebook/js/outputarea').OutputArea;\n",
       "\n",
       "    if (OutputArea.prototype.mime_types().indexOf(EXEC_MIME_TYPE) == -1) {\n",
       "      register_renderer(events, OutputArea);\n",
       "    }\n",
       "  }\n",
       "\n",
       "  \n",
       "  if (typeof (root._bokeh_timeout) === \"undefined\" || force === true) {\n",
       "    root._bokeh_timeout = Date.now() + 5000;\n",
       "    root._bokeh_failed_load = false;\n",
       "  }\n",
       "\n",
       "  var NB_LOAD_WARNING = {'data': {'text/html':\n",
       "     \"<div style='background-color: #fdd'>\\n\"+\n",
       "     \"<p>\\n\"+\n",
       "     \"BokehJS does not appear to have successfully loaded. If loading BokehJS from CDN, this \\n\"+\n",
       "     \"may be due to a slow or bad network connection. Possible fixes:\\n\"+\n",
       "     \"</p>\\n\"+\n",
       "     \"<ul>\\n\"+\n",
       "     \"<li>re-rerun `output_notebook()` to attempt to load from CDN again, or</li>\\n\"+\n",
       "     \"<li>use INLINE resources instead, as so:</li>\\n\"+\n",
       "     \"</ul>\\n\"+\n",
       "     \"<code>\\n\"+\n",
       "     \"from bokeh.resources import INLINE\\n\"+\n",
       "     \"output_notebook(resources=INLINE)\\n\"+\n",
       "     \"</code>\\n\"+\n",
       "     \"</div>\"}};\n",
       "\n",
       "  function display_loaded() {\n",
       "    var el = document.getElementById(\"f978c539-0537-4c7a-a217-14c509bd3686\");\n",
       "    if (el != null) {\n",
       "      el.textContent = \"BokehJS is loading...\";\n",
       "    }\n",
       "    if (root.Bokeh !== undefined) {\n",
       "      if (el != null) {\n",
       "        el.textContent = \"BokehJS \" + root.Bokeh.version + \" successfully loaded.\";\n",
       "      }\n",
       "    } else if (Date.now() < root._bokeh_timeout) {\n",
       "      setTimeout(display_loaded, 100)\n",
       "    }\n",
       "  }\n",
       "\n",
       "\n",
       "  function run_callbacks() {\n",
       "    try {\n",
       "      root._bokeh_onload_callbacks.forEach(function(callback) { callback() });\n",
       "    }\n",
       "    finally {\n",
       "      delete root._bokeh_onload_callbacks\n",
       "    }\n",
       "    console.info(\"Bokeh: all callbacks have finished\");\n",
       "  }\n",
       "\n",
       "  function load_libs(js_urls, callback) {\n",
       "    root._bokeh_onload_callbacks.push(callback);\n",
       "    if (root._bokeh_is_loading > 0) {\n",
       "      console.log(\"Bokeh: BokehJS is being loaded, scheduling callback at\", now());\n",
       "      return null;\n",
       "    }\n",
       "    if (js_urls == null || js_urls.length === 0) {\n",
       "      run_callbacks();\n",
       "      return null;\n",
       "    }\n",
       "    console.log(\"Bokeh: BokehJS not loaded, scheduling load and callback at\", now());\n",
       "    root._bokeh_is_loading = js_urls.length;\n",
       "    for (var i = 0; i < js_urls.length; i++) {\n",
       "      var url = js_urls[i];\n",
       "      var s = document.createElement('script');\n",
       "      s.src = url;\n",
       "      s.async = false;\n",
       "      s.onreadystatechange = s.onload = function() {\n",
       "        root._bokeh_is_loading--;\n",
       "        if (root._bokeh_is_loading === 0) {\n",
       "          console.log(\"Bokeh: all BokehJS libraries loaded\");\n",
       "          run_callbacks()\n",
       "        }\n",
       "      };\n",
       "      s.onerror = function() {\n",
       "        console.warn(\"failed to load library \" + url);\n",
       "      };\n",
       "      console.log(\"Bokeh: injecting script tag for BokehJS library: \", url);\n",
       "      document.getElementsByTagName(\"head\")[0].appendChild(s);\n",
       "    }\n",
       "  };var element = document.getElementById(\"f978c539-0537-4c7a-a217-14c509bd3686\");\n",
       "  if (element == null) {\n",
       "    console.log(\"Bokeh: ERROR: autoload.js configured with elementid 'f978c539-0537-4c7a-a217-14c509bd3686' but no matching script tag was found. \")\n",
       "    return false;\n",
       "  }\n",
       "\n",
       "  var js_urls = [\"https://cdn.pydata.org/bokeh/release/bokeh-0.12.10.min.js\", \"https://cdn.pydata.org/bokeh/release/bokeh-widgets-0.12.10.min.js\", \"https://cdn.pydata.org/bokeh/release/bokeh-tables-0.12.10.min.js\", \"https://cdn.pydata.org/bokeh/release/bokeh-gl-0.12.10.min.js\"];\n",
       "\n",
       "  var inline_js = [\n",
       "    function(Bokeh) {\n",
       "      Bokeh.set_log_level(\"info\");\n",
       "    },\n",
       "    \n",
       "    function(Bokeh) {\n",
       "      \n",
       "    },\n",
       "    function(Bokeh) {\n",
       "      console.log(\"Bokeh: injecting CSS: https://cdn.pydata.org/bokeh/release/bokeh-0.12.10.min.css\");\n",
       "      Bokeh.embed.inject_css(\"https://cdn.pydata.org/bokeh/release/bokeh-0.12.10.min.css\");\n",
       "      console.log(\"Bokeh: injecting CSS: https://cdn.pydata.org/bokeh/release/bokeh-widgets-0.12.10.min.css\");\n",
       "      Bokeh.embed.inject_css(\"https://cdn.pydata.org/bokeh/release/bokeh-widgets-0.12.10.min.css\");\n",
       "      console.log(\"Bokeh: injecting CSS: https://cdn.pydata.org/bokeh/release/bokeh-tables-0.12.10.min.css\");\n",
       "      Bokeh.embed.inject_css(\"https://cdn.pydata.org/bokeh/release/bokeh-tables-0.12.10.min.css\");\n",
       "    }\n",
       "  ];\n",
       "\n",
       "  function run_inline_js() {\n",
       "    \n",
       "    if ((root.Bokeh !== undefined) || (force === true)) {\n",
       "      for (var i = 0; i < inline_js.length; i++) {\n",
       "        inline_js[i].call(root, root.Bokeh);\n",
       "      }if (force === true) {\n",
       "        display_loaded();\n",
       "      }} else if (Date.now() < root._bokeh_timeout) {\n",
       "      setTimeout(run_inline_js, 100);\n",
       "    } else if (!root._bokeh_failed_load) {\n",
       "      console.log(\"Bokeh: BokehJS failed to load within specified timeout.\");\n",
       "      root._bokeh_failed_load = true;\n",
       "    } else if (force !== true) {\n",
       "      var cell = $(document.getElementById(\"f978c539-0537-4c7a-a217-14c509bd3686\")).parents('.cell').data().cell;\n",
       "      cell.output_area.append_execute_result(NB_LOAD_WARNING)\n",
       "    }\n",
       "\n",
       "  }\n",
       "\n",
       "  if (root._bokeh_is_loading === 0) {\n",
       "    console.log(\"Bokeh: BokehJS loaded, going straight to plotting\");\n",
       "    run_inline_js();\n",
       "  } else {\n",
       "    load_libs(js_urls, function() {\n",
       "      console.log(\"Bokeh: BokehJS plotting callback run at\", now());\n",
       "      run_inline_js();\n",
       "    });\n",
       "  }\n",
       "}(window));"
      ],
      "application/vnd.bokehjs_load.v0+json": "\n(function(root) {\n  function now() {\n    return new Date();\n  }\n\n  var force = true;\n\n  if (typeof (root._bokeh_onload_callbacks) === \"undefined\" || force === true) {\n    root._bokeh_onload_callbacks = [];\n    root._bokeh_is_loading = undefined;\n  }\n\n  \n\n  \n  if (typeof (root._bokeh_timeout) === \"undefined\" || force === true) {\n    root._bokeh_timeout = Date.now() + 5000;\n    root._bokeh_failed_load = false;\n  }\n\n  var NB_LOAD_WARNING = {'data': {'text/html':\n     \"<div style='background-color: #fdd'>\\n\"+\n     \"<p>\\n\"+\n     \"BokehJS does not appear to have successfully loaded. If loading BokehJS from CDN, this \\n\"+\n     \"may be due to a slow or bad network connection. Possible fixes:\\n\"+\n     \"</p>\\n\"+\n     \"<ul>\\n\"+\n     \"<li>re-rerun `output_notebook()` to attempt to load from CDN again, or</li>\\n\"+\n     \"<li>use INLINE resources instead, as so:</li>\\n\"+\n     \"</ul>\\n\"+\n     \"<code>\\n\"+\n     \"from bokeh.resources import INLINE\\n\"+\n     \"output_notebook(resources=INLINE)\\n\"+\n     \"</code>\\n\"+\n     \"</div>\"}};\n\n  function display_loaded() {\n    var el = document.getElementById(\"f978c539-0537-4c7a-a217-14c509bd3686\");\n    if (el != null) {\n      el.textContent = \"BokehJS is loading...\";\n    }\n    if (root.Bokeh !== undefined) {\n      if (el != null) {\n        el.textContent = \"BokehJS \" + root.Bokeh.version + \" successfully loaded.\";\n      }\n    } else if (Date.now() < root._bokeh_timeout) {\n      setTimeout(display_loaded, 100)\n    }\n  }\n\n\n  function run_callbacks() {\n    try {\n      root._bokeh_onload_callbacks.forEach(function(callback) { callback() });\n    }\n    finally {\n      delete root._bokeh_onload_callbacks\n    }\n    console.info(\"Bokeh: all callbacks have finished\");\n  }\n\n  function load_libs(js_urls, callback) {\n    root._bokeh_onload_callbacks.push(callback);\n    if (root._bokeh_is_loading > 0) {\n      console.log(\"Bokeh: BokehJS is being loaded, scheduling callback at\", now());\n      return null;\n    }\n    if (js_urls == null || js_urls.length === 0) {\n      run_callbacks();\n      return null;\n    }\n    console.log(\"Bokeh: BokehJS not loaded, scheduling load and callback at\", now());\n    root._bokeh_is_loading = js_urls.length;\n    for (var i = 0; i < js_urls.length; i++) {\n      var url = js_urls[i];\n      var s = document.createElement('script');\n      s.src = url;\n      s.async = false;\n      s.onreadystatechange = s.onload = function() {\n        root._bokeh_is_loading--;\n        if (root._bokeh_is_loading === 0) {\n          console.log(\"Bokeh: all BokehJS libraries loaded\");\n          run_callbacks()\n        }\n      };\n      s.onerror = function() {\n        console.warn(\"failed to load library \" + url);\n      };\n      console.log(\"Bokeh: injecting script tag for BokehJS library: \", url);\n      document.getElementsByTagName(\"head\")[0].appendChild(s);\n    }\n  };var element = document.getElementById(\"f978c539-0537-4c7a-a217-14c509bd3686\");\n  if (element == null) {\n    console.log(\"Bokeh: ERROR: autoload.js configured with elementid 'f978c539-0537-4c7a-a217-14c509bd3686' but no matching script tag was found. \")\n    return false;\n  }\n\n  var js_urls = [\"https://cdn.pydata.org/bokeh/release/bokeh-0.12.10.min.js\", \"https://cdn.pydata.org/bokeh/release/bokeh-widgets-0.12.10.min.js\", \"https://cdn.pydata.org/bokeh/release/bokeh-tables-0.12.10.min.js\", \"https://cdn.pydata.org/bokeh/release/bokeh-gl-0.12.10.min.js\"];\n\n  var inline_js = [\n    function(Bokeh) {\n      Bokeh.set_log_level(\"info\");\n    },\n    \n    function(Bokeh) {\n      \n    },\n    function(Bokeh) {\n      console.log(\"Bokeh: injecting CSS: https://cdn.pydata.org/bokeh/release/bokeh-0.12.10.min.css\");\n      Bokeh.embed.inject_css(\"https://cdn.pydata.org/bokeh/release/bokeh-0.12.10.min.css\");\n      console.log(\"Bokeh: injecting CSS: https://cdn.pydata.org/bokeh/release/bokeh-widgets-0.12.10.min.css\");\n      Bokeh.embed.inject_css(\"https://cdn.pydata.org/bokeh/release/bokeh-widgets-0.12.10.min.css\");\n      console.log(\"Bokeh: injecting CSS: https://cdn.pydata.org/bokeh/release/bokeh-tables-0.12.10.min.css\");\n      Bokeh.embed.inject_css(\"https://cdn.pydata.org/bokeh/release/bokeh-tables-0.12.10.min.css\");\n    }\n  ];\n\n  function run_inline_js() {\n    \n    if ((root.Bokeh !== undefined) || (force === true)) {\n      for (var i = 0; i < inline_js.length; i++) {\n        inline_js[i].call(root, root.Bokeh);\n      }if (force === true) {\n        display_loaded();\n      }} else if (Date.now() < root._bokeh_timeout) {\n      setTimeout(run_inline_js, 100);\n    } else if (!root._bokeh_failed_load) {\n      console.log(\"Bokeh: BokehJS failed to load within specified timeout.\");\n      root._bokeh_failed_load = true;\n    } else if (force !== true) {\n      var cell = $(document.getElementById(\"f978c539-0537-4c7a-a217-14c509bd3686\")).parents('.cell').data().cell;\n      cell.output_area.append_execute_result(NB_LOAD_WARNING)\n    }\n\n  }\n\n  if (root._bokeh_is_loading === 0) {\n    console.log(\"Bokeh: BokehJS loaded, going straight to plotting\");\n    run_inline_js();\n  } else {\n    load_libs(js_urls, function() {\n      console.log(\"Bokeh: BokehJS plotting callback run at\", now());\n      run_inline_js();\n    });\n  }\n}(window));"
     },
     "metadata": {},
     "output_type": "display_data"
    },
    {
     "data": {
      "text/html": [
       "\n",
       "<div class=\"bk-root\">\n",
       "    <div class=\"bk-plotdiv\" id=\"61f47f3e-f8ce-49e3-ac6e-a200a3abd079\"></div>\n",
       "</div>"
      ]
     },
     "metadata": {},
     "output_type": "display_data"
    },
    {
     "data": {
      "application/javascript": [
       "(function(root) {\n",
       "  function embed_document(root) {\n",
       "    var docs_json = {\"b881f4bf-e622-483e-9388-03202f60a53a\":{\"roots\":{\"references\":[{\"attributes\":{\"active_drag\":\"auto\",\"active_inspect\":\"auto\",\"active_scroll\":\"auto\",\"active_tap\":\"auto\",\"tools\":[{\"id\":\"04383b31-6a00-435f-8bcd-bf1c82a05df5\",\"type\":\"PanTool\"},{\"id\":\"ba41afcf-fd90-4e86-ba06-bc8973efee5f\",\"type\":\"WheelZoomTool\"},{\"id\":\"21891ef9-dbfb-4ea7-8a9a-bbf036e9adb1\",\"type\":\"BoxZoomTool\"},{\"id\":\"a5666262-1b62-4efe-9015-fe1df1d3ac1e\",\"type\":\"SaveTool\"},{\"id\":\"01a50cbd-83ff-40c5-9a96-ddeb0f96fe15\",\"type\":\"ResetTool\"},{\"id\":\"d74b3fca-4917-44c7-85cd-bccb02aaf013\",\"type\":\"HelpTool\"}]},\"id\":\"74082d76-4632-43f9-9ad7-52affb760e6b\",\"type\":\"Toolbar\"},{\"attributes\":{\"data_source\":{\"id\":\"870a5a47-87f5-4cd8-9ec0-a04998451f75\",\"type\":\"ColumnDataSource\"},\"glyph\":{\"id\":\"297833e5-2a76-4b0e-906f-7652c4caf0fb\",\"type\":\"Line\"},\"hover_glyph\":null,\"muted_glyph\":null,\"nonselection_glyph\":{\"id\":\"933c7709-af8e-4d8a-bf1a-2f9eb092c814\",\"type\":\"Line\"},\"selection_glyph\":null,\"view\":{\"id\":\"e5c3d884-d892-4d4d-bddd-0e9851ca0354\",\"type\":\"CDSView\"}},\"id\":\"edd20495-2112-4472-95c1-e18bcf0faa1a\",\"type\":\"GlyphRenderer\"},{\"attributes\":{\"line_color\":{\"value\":\"#3288bd\"},\"line_width\":{\"value\":2},\"x\":{\"field\":\"x\"},\"y\":{\"field\":\"y\"}},\"id\":\"a9c311d2-1b51-453f-8424-7b78ae55834f\",\"type\":\"Line\"},{\"attributes\":{\"callback\":null},\"id\":\"ab767bfe-b0c2-45ec-8415-8f353f6363c2\",\"type\":\"DataRange1d\"},{\"attributes\":{\"callback\":null,\"column_names\":[\"x\",\"y\"],\"data\":{\"x\":{\"__ndarray__\":\"\",\"dtype\":\"float64\",\"shape\":[0]},\"y\":[]}},\"id\":\"870a5a47-87f5-4cd8-9ec0-a04998451f75\",\"type\":\"ColumnDataSource\"},{\"attributes\":{\"below\":[{\"id\":\"34df5cbf-f841-4ac5-9265-294d99f11314\",\"type\":\"LinearAxis\"}],\"left\":[{\"id\":\"0edc944f-0f9b-426b-965a-3146372b1164\",\"type\":\"LinearAxis\"}],\"plot_height\":400,\"plot_width\":400,\"renderers\":[{\"id\":\"34df5cbf-f841-4ac5-9265-294d99f11314\",\"type\":\"LinearAxis\"},{\"id\":\"798a6776-5e4b-4510-b58a-23face0ef53f\",\"type\":\"Grid\"},{\"id\":\"0edc944f-0f9b-426b-965a-3146372b1164\",\"type\":\"LinearAxis\"},{\"id\":\"53c55aba-baa4-40b4-9f9e-e3ffa7b0b7eb\",\"type\":\"Grid\"},{\"id\":\"6a7b2e66-b703-431d-9c6d-9742859639a2\",\"type\":\"BoxAnnotation\"},{\"id\":\"edd20495-2112-4472-95c1-e18bcf0faa1a\",\"type\":\"GlyphRenderer\"},{\"id\":\"7a1f4ff3-e1f4-4e84-9987-9ec291abcf56\",\"type\":\"GlyphRenderer\"}],\"title\":{\"id\":\"c0d2faea-de22-48f2-b52c-ceb50f97d3e8\",\"type\":\"Title\"},\"toolbar\":{\"id\":\"74082d76-4632-43f9-9ad7-52affb760e6b\",\"type\":\"Toolbar\"},\"x_range\":{\"id\":\"ab767bfe-b0c2-45ec-8415-8f353f6363c2\",\"type\":\"DataRange1d\"},\"x_scale\":{\"id\":\"dd771e01-e63f-49b1-a5b4-a1259ae0ad23\",\"type\":\"LinearScale\"},\"y_range\":{\"id\":\"5c19b435-4c4d-448d-9c8f-d96576906c6f\",\"type\":\"DataRange1d\"},\"y_scale\":{\"id\":\"dca35ac3-e627-4566-bc3d-48c0c75068ed\",\"type\":\"LinearScale\"}},\"id\":\"eb1e9cb9-f9cc-4980-b7d2-63635f3a2561\",\"subtype\":\"Figure\",\"type\":\"Plot\"},{\"attributes\":{\"callback\":null},\"id\":\"5c19b435-4c4d-448d-9c8f-d96576906c6f\",\"type\":\"DataRange1d\"},{\"attributes\":{},\"id\":\"dd771e01-e63f-49b1-a5b4-a1259ae0ad23\",\"type\":\"LinearScale\"},{\"attributes\":{\"line_color\":{\"value\":\"#5e4fa2\"},\"line_width\":{\"value\":2},\"x\":{\"field\":\"x\"},\"y\":{\"field\":\"y\"}},\"id\":\"297833e5-2a76-4b0e-906f-7652c4caf0fb\",\"type\":\"Line\"},{\"attributes\":{},\"id\":\"dca35ac3-e627-4566-bc3d-48c0c75068ed\",\"type\":\"LinearScale\"},{\"attributes\":{\"plot\":{\"id\":\"eb1e9cb9-f9cc-4980-b7d2-63635f3a2561\",\"subtype\":\"Figure\",\"type\":\"Plot\"},\"ticker\":{\"id\":\"344518e0-a7f2-40e7-856a-1545fd64b94a\",\"type\":\"BasicTicker\"}},\"id\":\"798a6776-5e4b-4510-b58a-23face0ef53f\",\"type\":\"Grid\"},{\"attributes\":{\"formatter\":{\"id\":\"f680ab47-bdb3-40e0-a8ae-6257ad8ca737\",\"type\":\"BasicTickFormatter\"},\"plot\":{\"id\":\"eb1e9cb9-f9cc-4980-b7d2-63635f3a2561\",\"subtype\":\"Figure\",\"type\":\"Plot\"},\"ticker\":{\"id\":\"344518e0-a7f2-40e7-856a-1545fd64b94a\",\"type\":\"BasicTicker\"}},\"id\":\"34df5cbf-f841-4ac5-9265-294d99f11314\",\"type\":\"LinearAxis\"},{\"attributes\":{},\"id\":\"344518e0-a7f2-40e7-856a-1545fd64b94a\",\"type\":\"BasicTicker\"},{\"attributes\":{\"formatter\":{\"id\":\"f948a08f-192b-4144-be08-755b24279f19\",\"type\":\"BasicTickFormatter\"},\"plot\":{\"id\":\"eb1e9cb9-f9cc-4980-b7d2-63635f3a2561\",\"subtype\":\"Figure\",\"type\":\"Plot\"},\"ticker\":{\"id\":\"fc689834-9898-457c-af5d-acf544a831ee\",\"type\":\"BasicTicker\"}},\"id\":\"0edc944f-0f9b-426b-965a-3146372b1164\",\"type\":\"LinearAxis\"},{\"attributes\":{},\"id\":\"fc689834-9898-457c-af5d-acf544a831ee\",\"type\":\"BasicTicker\"},{\"attributes\":{\"dimension\":1,\"plot\":{\"id\":\"eb1e9cb9-f9cc-4980-b7d2-63635f3a2561\",\"subtype\":\"Figure\",\"type\":\"Plot\"},\"ticker\":{\"id\":\"fc689834-9898-457c-af5d-acf544a831ee\",\"type\":\"BasicTicker\"}},\"id\":\"53c55aba-baa4-40b4-9f9e-e3ffa7b0b7eb\",\"type\":\"Grid\"},{\"attributes\":{\"bottom_units\":\"screen\",\"fill_alpha\":{\"value\":0.5},\"fill_color\":{\"value\":\"lightgrey\"},\"left_units\":\"screen\",\"level\":\"overlay\",\"line_alpha\":{\"value\":1.0},\"line_color\":{\"value\":\"black\"},\"line_dash\":[4,4],\"line_width\":{\"value\":2},\"plot\":null,\"render_mode\":\"css\",\"right_units\":\"screen\",\"top_units\":\"screen\"},\"id\":\"6a7b2e66-b703-431d-9c6d-9742859639a2\",\"type\":\"BoxAnnotation\"},{\"attributes\":{\"source\":{\"id\":\"870a5a47-87f5-4cd8-9ec0-a04998451f75\",\"type\":\"ColumnDataSource\"}},\"id\":\"e5c3d884-d892-4d4d-bddd-0e9851ca0354\",\"type\":\"CDSView\"},{\"attributes\":{\"line_alpha\":{\"value\":0.1},\"line_color\":{\"value\":\"#1f77b4\"},\"line_width\":{\"value\":2},\"x\":{\"field\":\"x\"},\"y\":{\"field\":\"y\"}},\"id\":\"2310d8c7-90b9-470d-b646-d49a86f05eda\",\"type\":\"Line\"},{\"attributes\":{\"callback\":null,\"column_names\":[\"x\",\"y\"],\"data\":{\"x\":{\"__ndarray__\":\"\",\"dtype\":\"float64\",\"shape\":[0]},\"y\":[]}},\"id\":\"65b026e5-83a2-411c-b961-ff375ff01446\",\"type\":\"ColumnDataSource\"},{\"attributes\":{},\"id\":\"04383b31-6a00-435f-8bcd-bf1c82a05df5\",\"type\":\"PanTool\"},{\"attributes\":{},\"id\":\"ba41afcf-fd90-4e86-ba06-bc8973efee5f\",\"type\":\"WheelZoomTool\"},{\"attributes\":{\"overlay\":{\"id\":\"6a7b2e66-b703-431d-9c6d-9742859639a2\",\"type\":\"BoxAnnotation\"}},\"id\":\"21891ef9-dbfb-4ea7-8a9a-bbf036e9adb1\",\"type\":\"BoxZoomTool\"},{\"attributes\":{},\"id\":\"a5666262-1b62-4efe-9015-fe1df1d3ac1e\",\"type\":\"SaveTool\"},{\"attributes\":{},\"id\":\"01a50cbd-83ff-40c5-9a96-ddeb0f96fe15\",\"type\":\"ResetTool\"},{\"attributes\":{},\"id\":\"d74b3fca-4917-44c7-85cd-bccb02aaf013\",\"type\":\"HelpTool\"},{\"attributes\":{\"line_alpha\":{\"value\":0.1},\"line_color\":{\"value\":\"#1f77b4\"},\"line_width\":{\"value\":2},\"x\":{\"field\":\"x\"},\"y\":{\"field\":\"y\"}},\"id\":\"933c7709-af8e-4d8a-bf1a-2f9eb092c814\",\"type\":\"Line\"},{\"attributes\":{},\"id\":\"f680ab47-bdb3-40e0-a8ae-6257ad8ca737\",\"type\":\"BasicTickFormatter\"},{\"attributes\":{\"source\":{\"id\":\"65b026e5-83a2-411c-b961-ff375ff01446\",\"type\":\"ColumnDataSource\"}},\"id\":\"45ca53fc-39c3-4801-a0d7-75126adddb3e\",\"type\":\"CDSView\"},{\"attributes\":{},\"id\":\"f948a08f-192b-4144-be08-755b24279f19\",\"type\":\"BasicTickFormatter\"},{\"attributes\":{\"plot\":null,\"text\":\"\"},\"id\":\"c0d2faea-de22-48f2-b52c-ceb50f97d3e8\",\"type\":\"Title\"},{\"attributes\":{\"data_source\":{\"id\":\"65b026e5-83a2-411c-b961-ff375ff01446\",\"type\":\"ColumnDataSource\"},\"glyph\":{\"id\":\"a9c311d2-1b51-453f-8424-7b78ae55834f\",\"type\":\"Line\"},\"hover_glyph\":null,\"muted_glyph\":null,\"nonselection_glyph\":{\"id\":\"2310d8c7-90b9-470d-b646-d49a86f05eda\",\"type\":\"Line\"},\"selection_glyph\":null,\"view\":{\"id\":\"45ca53fc-39c3-4801-a0d7-75126adddb3e\",\"type\":\"CDSView\"}},\"id\":\"7a1f4ff3-e1f4-4e84-9987-9ec291abcf56\",\"type\":\"GlyphRenderer\"}],\"root_ids\":[\"eb1e9cb9-f9cc-4980-b7d2-63635f3a2561\"]},\"title\":\"Bokeh Application\",\"version\":\"0.12.10\"}};\n",
       "    var render_items = [{\"docid\":\"b881f4bf-e622-483e-9388-03202f60a53a\",\"elementid\":\"61f47f3e-f8ce-49e3-ac6e-a200a3abd079\",\"modelid\":\"eb1e9cb9-f9cc-4980-b7d2-63635f3a2561\"}];\n",
       "\n",
       "    root.Bokeh.embed.embed_items(docs_json, render_items);\n",
       "  }\n",
       "\n",
       "  if (root.Bokeh !== undefined) {\n",
       "    embed_document(root);\n",
       "  } else {\n",
       "    var attempts = 0;\n",
       "    var timer = setInterval(function(root) {\n",
       "      if (root.Bokeh !== undefined) {\n",
       "        embed_document(root);\n",
       "        clearInterval(timer);\n",
       "      }\n",
       "      attempts++;\n",
       "      if (attempts > 100) {\n",
       "        console.log(\"Bokeh: ERROR: Unable to embed document because BokehJS library is missing\")\n",
       "        clearInterval(timer);\n",
       "      }\n",
       "    }, 10, root)\n",
       "  }\n",
       "})(window);"
      ],
      "application/vnd.bokehjs_exec.v0+json": ""
     },
     "metadata": {
      "application/vnd.bokehjs_exec.v0+json": {
       "id": "eb1e9cb9-f9cc-4980-b7d2-63635f3a2561"
      }
     },
     "output_type": "display_data"
    }
   ],
   "source": [
    "# Plotting library\n",
    "from bokeh.plotting import figure, show, output_file\n",
    "from bokeh.io import output_notebook\n",
    "from bokeh.models import Range1d\n",
    "from bokeh.palettes import brewer\n",
    "\n",
    "output_notebook()\n",
    "\n",
    "color_map = brewer[\"Spectral\"][10]\n",
    "batch_x = np.linspace(1, n_epoch, len(training_loss))\n",
    "p = figure(plot_width=400, plot_height=400)\n",
    "p.line(batch_x, training_loss, color = color_map[0], line_width=2)\n",
    "p.line(batch_x, validation_loss, color = color_map[1], line_width=2)\n",
    "show(p)"
   ]
  },
  {
   "cell_type": "markdown",
   "metadata": {},
   "source": [
    "# Inspect results"
   ]
  },
  {
   "cell_type": "code",
   "execution_count": 15,
   "metadata": {
    "ExecuteTime": {
     "end_time": "2018-01-30T01:46:02.655134Z",
     "start_time": "2018-01-30T01:46:02.649312Z"
    },
    "collapsed": true
   },
   "outputs": [],
   "source": [
    "import matplotlib.pyplot as plt\n",
    "%matplotlib inline"
   ]
  },
  {
   "cell_type": "markdown",
   "metadata": {},
   "source": [
    "## 1st Layer"
   ]
  },
  {
   "cell_type": "code",
   "execution_count": 16,
   "metadata": {
    "ExecuteTime": {
     "end_time": "2018-01-30T01:46:04.309554Z",
     "start_time": "2018-01-30T01:46:04.082001Z"
    }
   },
   "outputs": [
    {
     "data": {
      "text/plain": [
       "<module 'matplotlib.pyplot' from '/home/kionkim/anaconda3/envs/kion_venv_mxnet/lib/python3.6/site-packages/matplotlib/pyplot.py'>"
      ]
     },
     "execution_count": 16,
     "metadata": {},
     "output_type": "execute_result"
    },
    {
     "data": {
      "image/png": "[encoded data removed]",
      "text/plain": [
       "<matplotlib.figure.Figure at 0x7fa9d00d0780>"
      ]
     },
     "metadata": {},
     "output_type": "display_data"
    }
   ],
   "source": [
    "_, axarr = plt.subplots(1, 2, figsize=(8,4))\n",
    "axarr[0].imshow(tree.left.fc.weight.data().reshape((28, 28)).asnumpy(), cmap='Greys')\n",
    "axarr[0].set_title('left')\n",
    "axarr[1].imshow(tree.right.fc.weight.data().reshape((28, 28)).asnumpy(), cmap='Greys')\n",
    "axarr[1].set_title('right')\n",
    "plt"
   ]
  },
  {
   "cell_type": "markdown",
   "metadata": {},
   "source": [
    "## 2nd Layer"
   ]
  },
  {
   "cell_type": "code",
   "execution_count": 17,
   "metadata": {
    "ExecuteTime": {
     "end_time": "2018-01-30T01:46:06.702414Z",
     "start_time": "2018-01-30T01:46:06.232347Z"
    }
   },
   "outputs": [
    {
     "data": {
      "text/plain": [
       "<module 'matplotlib.pyplot' from '/home/kionkim/anaconda3/envs/kion_venv_mxnet/lib/python3.6/site-packages/matplotlib/pyplot.py'>"
      ]
     },
     "execution_count": 17,
     "metadata": {},
     "output_type": "execute_result"
    },
    {
     "data": {
      "image/png": "[encoded data removed]",
      "text/plain": [
       "<matplotlib.figure.Figure at 0x7fa9982e6c18>"
      ]
     },
     "metadata": {},
     "output_type": "display_data"
    }
   ],
   "source": [
    "_, axarr = plt.subplots(1, 4, figsize=(16,4))\n",
    "axarr[0].imshow(tree.left.left.fc.weight.data().reshape((28, 28)).asnumpy(), cmap='Greys')\n",
    "axarr[0].set_title('left')\n",
    "axarr[1].imshow(tree.left.right.fc.weight.data().reshape((28, 28)).asnumpy(), cmap='Greys')\n",
    "axarr[1].set_title('right')\n",
    "axarr[2].imshow(tree.right.left.fc.weight.data().reshape((28, 28)).asnumpy(), cmap='Greys')\n",
    "axarr[2].set_title('left')\n",
    "axarr[3].imshow(tree.right.right.fc.weight.data().reshape((28, 28)).asnumpy(), cmap='Greys')\n",
    "axarr[3].set_title('right')\n",
    "plt"
   ]
  }
 ],
 "metadata": {
  "anaconda-cloud": {},
  "kernelspec": {
   "display_name": "Python [conda env:kion_venv_mxnet]",
   "language": "python",
   "name": "conda-env-kion_venv_mxnet-py"
  },
  "language_info": {
   "codemirror_mode": {
    "name": "ipython",
    "version": 3
   },
   "file_extension": ".py",
   "mimetype": "text/x-python",
   "name": "python",
   "nbconvert_exporter": "python",
   "pygments_lexer": "ipython3",
   "version": "3.6.3"
  },
  "toc": {
   "nav_menu": {},
   "number_sections": true,
   "sideBar": true,
   "skip_h1_title": false,
   "toc_cell": false,
   "toc_position": {},
   "toc_section_display": "block",
   "toc_window_display": false
  }
 },
 "nbformat": 4,
 "nbformat_minor": 2
}
