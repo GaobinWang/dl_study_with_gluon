{
 "cells": [
  {
   "cell_type": "markdown",
   "metadata": {},
   "source": [
    "# VAE 개요"
   ]
  },
  {
   "cell_type": "markdown",
   "metadata": {},
   "source": [
    "* Variational Autoencoder는 variational inference의 확장으로 생각할 수 있으며, Autoencoder와는 근본적으로 다른 모형이다.\n",
    "* 추정된 latent space에서의 거리는 관측치의 유사도를 나타낸다. 따라서 어떤 latent space에서, Example 주변에 있는 값으로부터 생성된 값은 비슷한 example을 만들어낸다.\n",
    "* 이런 성격으로 인해, VAE는 Generative Model이며, Unsupervised Model이며, dimension reduction 방법이며, embedding으로 이해될 수 있다.\n",
    "\n",
    "* **NOTE**:\n",
    "  * 참고: https://github.com/dingran/vae-mxnet/blob/master/code/vae-gluon.ipynb\n",
    "  * Encoder와 decoder는 어떤 network이라도 상관이 없으나, 가장 간단한 방법으로는 MLP를 활용해 보겠다.\n",
    "  * 아랫부분에서 CNN을 활용한 경우 성능을 살펴보도록 한다. (작업예정)\n",
    "  "
   ]
  },
  {
   "cell_type": "code",
   "execution_count": 1,
   "metadata": {
    "ExecuteTime": {
     "end_time": "2018-01-18T22:51:29.140143Z",
     "start_time": "2018-01-18T22:51:27.937601Z"
    }
   },
   "outputs": [
    {
     "name": "stderr",
     "output_type": "stream",
     "text": [
      "/home/kionkim/anaconda3/envs/kion_venv_mxnet/lib/python3.6/site-packages/urllib3/contrib/pyopenssl.py:46: DeprecationWarning: OpenSSL.rand is deprecated - you should use os.urandom instead\n",
      "  import OpenSSL.SSL\n"
     ]
    },
    {
     "data": {
      "text/html": [
       "\n",
       "    <div class=\"bk-root\">\n",
       "        <a href=\"https://bokeh.pydata.org\" target=\"_blank\" class=\"bk-logo bk-logo-small bk-logo-notebook\"></a>\n",
       "        <span id=\"fa116c13-e987-4bcc-9d76-344a547b14c5\">Loading BokehJS ...</span>\n",
       "    </div>"
      ]
     },
     "metadata": {},
     "output_type": "display_data"
    },
    {
     "data": {
      "application/javascript": [
       "\n",
       "(function(root) {\n",
       "  function now() {\n",
       "    return new Date();\n",
       "  }\n",
       "\n",
       "  var force = true;\n",
       "\n",
       "  if (typeof (root._bokeh_onload_callbacks) === \"undefined\" || force === true) {\n",
       "    root._bokeh_onload_callbacks = [];\n",
       "    root._bokeh_is_loading = undefined;\n",
       "  }\n",
       "\n",
       "  var JS_MIME_TYPE = 'application/javascript';\n",
       "  var HTML_MIME_TYPE = 'text/html';\n",
       "  var EXEC_MIME_TYPE = 'application/vnd.bokehjs_exec.v0+json';\n",
       "  var CLASS_NAME = 'output_bokeh rendered_html';\n",
       "\n",
       "  /**\n",
       "   * Render data to the DOM node\n",
       "   */\n",
       "  function render(props, node) {\n",
       "    var script = document.createElement(\"script\");\n",
       "    node.appendChild(script);\n",
       "  }\n",
       "\n",
       "  /**\n",
       "   * Handle when an output is cleared or removed\n",
       "   */\n",
       "  function handleClearOutput(event, handle) {\n",
       "    var cell = handle.cell;\n",
       "\n",
       "    var id = cell.output_area._bokeh_element_id;\n",
       "    var server_id = cell.output_area._bokeh_server_id;\n",
       "    // Clean up Bokeh references\n",
       "    if (id !== undefined) {\n",
       "      Bokeh.index[id].model.document.clear();\n",
       "      delete Bokeh.index[id];\n",
       "    }\n",
       "\n",
       "    if (server_id !== undefined) {\n",
       "      // Clean up Bokeh references\n",
       "      var cmd = \"from bokeh.io.state import curstate; print(curstate().uuid_to_server['\" + server_id + \"'].get_sessions()[0].document.roots[0]._id)\";\n",
       "      cell.notebook.kernel.execute(cmd, {\n",
       "        iopub: {\n",
       "          output: function(msg) {\n",
       "            var element_id = msg.content.text.trim();\n",
       "            Bokeh.index[element_id].model.document.clear();\n",
       "            delete Bokeh.index[element_id];\n",
       "          }\n",
       "        }\n",
       "      });\n",
       "      // Destroy server and session\n",
       "      var cmd = \"import bokeh.io.notebook as ion; ion.destroy_server('\" + server_id + \"')\";\n",
       "      cell.notebook.kernel.execute(cmd);\n",
       "    }\n",
       "  }\n",
       "\n",
       "  /**\n",
       "   * Handle when a new output is added\n",
       "   */\n",
       "  function handleAddOutput(event, handle) {\n",
       "    var output_area = handle.output_area;\n",
       "    var output = handle.output;\n",
       "\n",
       "    // limit handleAddOutput to display_data with EXEC_MIME_TYPE content only\n",
       "    if ((output.output_type != \"display_data\") || (!output.data.hasOwnProperty(EXEC_MIME_TYPE))) {\n",
       "      return\n",
       "    }\n",
       "\n",
       "    var toinsert = output_area.element.find(`.${CLASS_NAME.split(' ')[0]}`);\n",
       "\n",
       "    if (output.metadata[EXEC_MIME_TYPE][\"id\"] !== undefined) {\n",
       "      toinsert[0].firstChild.textContent = output.data[JS_MIME_TYPE];\n",
       "      // store reference to embed id on output_area\n",
       "      output_area._bokeh_element_id = output.metadata[EXEC_MIME_TYPE][\"id\"];\n",
       "    }\n",
       "    if (output.metadata[EXEC_MIME_TYPE][\"server_id\"] !== undefined) {\n",
       "      var bk_div = document.createElement(\"div\");\n",
       "      bk_div.innerHTML = output.data[HTML_MIME_TYPE];\n",
       "      var script_attrs = bk_div.children[0].attributes;\n",
       "      for (var i = 0; i < script_attrs.length; i++) {\n",
       "        toinsert[0].firstChild.setAttribute(script_attrs[i].name, script_attrs[i].value);\n",
       "      }\n",
       "      // store reference to server id on output_area\n",
       "      output_area._bokeh_server_id = output.metadata[EXEC_MIME_TYPE][\"server_id\"];\n",
       "    }\n",
       "  }\n",
       "\n",
       "  function register_renderer(events, OutputArea) {\n",
       "\n",
       "    function append_mime(data, metadata, element) {\n",
       "      // create a DOM node to render to\n",
       "      var toinsert = this.create_output_subarea(\n",
       "        metadata,\n",
       "        CLASS_NAME,\n",
       "        EXEC_MIME_TYPE\n",
       "      );\n",
       "      this.keyboard_manager.register_events(toinsert);\n",
       "      // Render to node\n",
       "      var props = {data: data, metadata: metadata[EXEC_MIME_TYPE]};\n",
       "      render(props, toinsert[0]);\n",
       "      element.append(toinsert);\n",
       "      return toinsert\n",
       "    }\n",
       "\n",
       "    /* Handle when an output is cleared or removed */\n",
       "    events.on('clear_output.CodeCell', handleClearOutput);\n",
       "    events.on('delete.Cell', handleClearOutput);\n",
       "\n",
       "    /* Handle when a new output is added */\n",
       "    events.on('output_added.OutputArea', handleAddOutput);\n",
       "\n",
       "    /**\n",
       "     * Register the mime type and append_mime function with output_area\n",
       "     */\n",
       "    OutputArea.prototype.register_mime_type(EXEC_MIME_TYPE, append_mime, {\n",
       "      /* Is output safe? */\n",
       "      safe: true,\n",
       "      /* Index of renderer in `output_area.display_order` */\n",
       "      index: 0\n",
       "    });\n",
       "  }\n",
       "\n",
       "  // register the mime type if in Jupyter Notebook environment and previously unregistered\n",
       "  if (root.Jupyter !== undefined) {\n",
       "    var events = require('base/js/events');\n",
       "    var OutputArea = require('notebook/js/outputarea').OutputArea;\n",
       "\n",
       "    if (OutputArea.prototype.mime_types().indexOf(EXEC_MIME_TYPE) == -1) {\n",
       "      register_renderer(events, OutputArea);\n",
       "    }\n",
       "  }\n",
       "\n",
       "  \n",
       "  if (typeof (root._bokeh_timeout) === \"undefined\" || force === true) {\n",
       "    root._bokeh_timeout = Date.now() + 5000;\n",
       "    root._bokeh_failed_load = false;\n",
       "  }\n",
       "\n",
       "  var NB_LOAD_WARNING = {'data': {'text/html':\n",
       "     \"<div style='background-color: #fdd'>\\n\"+\n",
       "     \"<p>\\n\"+\n",
       "     \"BokehJS does not appear to have successfully loaded. If loading BokehJS from CDN, this \\n\"+\n",
       "     \"may be due to a slow or bad network connection. Possible fixes:\\n\"+\n",
       "     \"</p>\\n\"+\n",
       "     \"<ul>\\n\"+\n",
       "     \"<li>re-rerun `output_notebook()` to attempt to load from CDN again, or</li>\\n\"+\n",
       "     \"<li>use INLINE resources instead, as so:</li>\\n\"+\n",
       "     \"</ul>\\n\"+\n",
       "     \"<code>\\n\"+\n",
       "     \"from bokeh.resources import INLINE\\n\"+\n",
       "     \"output_notebook(resources=INLINE)\\n\"+\n",
       "     \"</code>\\n\"+\n",
       "     \"</div>\"}};\n",
       "\n",
       "  function display_loaded() {\n",
       "    var el = document.getElementById(\"fa116c13-e987-4bcc-9d76-344a547b14c5\");\n",
       "    if (el != null) {\n",
       "      el.textContent = \"BokehJS is loading...\";\n",
       "    }\n",
       "    if (root.Bokeh !== undefined) {\n",
       "      if (el != null) {\n",
       "        el.textContent = \"BokehJS \" + root.Bokeh.version + \" successfully loaded.\";\n",
       "      }\n",
       "    } else if (Date.now() < root._bokeh_timeout) {\n",
       "      setTimeout(display_loaded, 100)\n",
       "    }\n",
       "  }\n",
       "\n",
       "\n",
       "  function run_callbacks() {\n",
       "    try {\n",
       "      root._bokeh_onload_callbacks.forEach(function(callback) { callback() });\n",
       "    }\n",
       "    finally {\n",
       "      delete root._bokeh_onload_callbacks\n",
       "    }\n",
       "    console.info(\"Bokeh: all callbacks have finished\");\n",
       "  }\n",
       "\n",
       "  function load_libs(js_urls, callback) {\n",
       "    root._bokeh_onload_callbacks.push(callback);\n",
       "    if (root._bokeh_is_loading > 0) {\n",
       "      console.log(\"Bokeh: BokehJS is being loaded, scheduling callback at\", now());\n",
       "      return null;\n",
       "    }\n",
       "    if (js_urls == null || js_urls.length === 0) {\n",
       "      run_callbacks();\n",
       "      return null;\n",
       "    }\n",
       "    console.log(\"Bokeh: BokehJS not loaded, scheduling load and callback at\", now());\n",
       "    root._bokeh_is_loading = js_urls.length;\n",
       "    for (var i = 0; i < js_urls.length; i++) {\n",
       "      var url = js_urls[i];\n",
       "      var s = document.createElement('script');\n",
       "      s.src = url;\n",
       "      s.async = false;\n",
       "      s.onreadystatechange = s.onload = function() {\n",
       "        root._bokeh_is_loading--;\n",
       "        if (root._bokeh_is_loading === 0) {\n",
       "          console.log(\"Bokeh: all BokehJS libraries loaded\");\n",
       "          run_callbacks()\n",
       "        }\n",
       "      };\n",
       "      s.onerror = function() {\n",
       "        console.warn(\"failed to load library \" + url);\n",
       "      };\n",
       "      console.log(\"Bokeh: injecting script tag for BokehJS library: \", url);\n",
       "      document.getElementsByTagName(\"head\")[0].appendChild(s);\n",
       "    }\n",
       "  };var element = document.getElementById(\"fa116c13-e987-4bcc-9d76-344a547b14c5\");\n",
       "  if (element == null) {\n",
       "    console.log(\"Bokeh: ERROR: autoload.js configured with elementid 'fa116c13-e987-4bcc-9d76-344a547b14c5' but no matching script tag was found. \")\n",
       "    return false;\n",
       "  }\n",
       "\n",
       "  var js_urls = [\"https://cdn.pydata.org/bokeh/release/bokeh-0.12.10.min.js\", \"https://cdn.pydata.org/bokeh/release/bokeh-widgets-0.12.10.min.js\", \"https://cdn.pydata.org/bokeh/release/bokeh-tables-0.12.10.min.js\", \"https://cdn.pydata.org/bokeh/release/bokeh-gl-0.12.10.min.js\"];\n",
       "\n",
       "  var inline_js = [\n",
       "    function(Bokeh) {\n",
       "      Bokeh.set_log_level(\"info\");\n",
       "    },\n",
       "    \n",
       "    function(Bokeh) {\n",
       "      \n",
       "    },\n",
       "    function(Bokeh) {\n",
       "      console.log(\"Bokeh: injecting CSS: https://cdn.pydata.org/bokeh/release/bokeh-0.12.10.min.css\");\n",
       "      Bokeh.embed.inject_css(\"https://cdn.pydata.org/bokeh/release/bokeh-0.12.10.min.css\");\n",
       "      console.log(\"Bokeh: injecting CSS: https://cdn.pydata.org/bokeh/release/bokeh-widgets-0.12.10.min.css\");\n",
       "      Bokeh.embed.inject_css(\"https://cdn.pydata.org/bokeh/release/bokeh-widgets-0.12.10.min.css\");\n",
       "      console.log(\"Bokeh: injecting CSS: https://cdn.pydata.org/bokeh/release/bokeh-tables-0.12.10.min.css\");\n",
       "      Bokeh.embed.inject_css(\"https://cdn.pydata.org/bokeh/release/bokeh-tables-0.12.10.min.css\");\n",
       "    }\n",
       "  ];\n",
       "\n",
       "  function run_inline_js() {\n",
       "    \n",
       "    if ((root.Bokeh !== undefined) || (force === true)) {\n",
       "      for (var i = 0; i < inline_js.length; i++) {\n",
       "        inline_js[i].call(root, root.Bokeh);\n",
       "      }if (force === true) {\n",
       "        display_loaded();\n",
       "      }} else if (Date.now() < root._bokeh_timeout) {\n",
       "      setTimeout(run_inline_js, 100);\n",
       "    } else if (!root._bokeh_failed_load) {\n",
       "      console.log(\"Bokeh: BokehJS failed to load within specified timeout.\");\n",
       "      root._bokeh_failed_load = true;\n",
       "    } else if (force !== true) {\n",
       "      var cell = $(document.getElementById(\"fa116c13-e987-4bcc-9d76-344a547b14c5\")).parents('.cell').data().cell;\n",
       "      cell.output_area.append_execute_result(NB_LOAD_WARNING)\n",
       "    }\n",
       "\n",
       "  }\n",
       "\n",
       "  if (root._bokeh_is_loading === 0) {\n",
       "    console.log(\"Bokeh: BokehJS loaded, going straight to plotting\");\n",
       "    run_inline_js();\n",
       "  } else {\n",
       "    load_libs(js_urls, function() {\n",
       "      console.log(\"Bokeh: BokehJS plotting callback run at\", now());\n",
       "      run_inline_js();\n",
       "    });\n",
       "  }\n",
       "}(window));"
      ],
      "application/vnd.bokehjs_load.v0+json": "\n(function(root) {\n  function now() {\n    return new Date();\n  }\n\n  var force = true;\n\n  if (typeof (root._bokeh_onload_callbacks) === \"undefined\" || force === true) {\n    root._bokeh_onload_callbacks = [];\n    root._bokeh_is_loading = undefined;\n  }\n\n  \n\n  \n  if (typeof (root._bokeh_timeout) === \"undefined\" || force === true) {\n    root._bokeh_timeout = Date.now() + 5000;\n    root._bokeh_failed_load = false;\n  }\n\n  var NB_LOAD_WARNING = {'data': {'text/html':\n     \"<div style='background-color: #fdd'>\\n\"+\n     \"<p>\\n\"+\n     \"BokehJS does not appear to have successfully loaded. If loading BokehJS from CDN, this \\n\"+\n     \"may be due to a slow or bad network connection. Possible fixes:\\n\"+\n     \"</p>\\n\"+\n     \"<ul>\\n\"+\n     \"<li>re-rerun `output_notebook()` to attempt to load from CDN again, or</li>\\n\"+\n     \"<li>use INLINE resources instead, as so:</li>\\n\"+\n     \"</ul>\\n\"+\n     \"<code>\\n\"+\n     \"from bokeh.resources import INLINE\\n\"+\n     \"output_notebook(resources=INLINE)\\n\"+\n     \"</code>\\n\"+\n     \"</div>\"}};\n\n  function display_loaded() {\n    var el = document.getElementById(\"fa116c13-e987-4bcc-9d76-344a547b14c5\");\n    if (el != null) {\n      el.textContent = \"BokehJS is loading...\";\n    }\n    if (root.Bokeh !== undefined) {\n      if (el != null) {\n        el.textContent = \"BokehJS \" + root.Bokeh.version + \" successfully loaded.\";\n      }\n    } else if (Date.now() < root._bokeh_timeout) {\n      setTimeout(display_loaded, 100)\n    }\n  }\n\n\n  function run_callbacks() {\n    try {\n      root._bokeh_onload_callbacks.forEach(function(callback) { callback() });\n    }\n    finally {\n      delete root._bokeh_onload_callbacks\n    }\n    console.info(\"Bokeh: all callbacks have finished\");\n  }\n\n  function load_libs(js_urls, callback) {\n    root._bokeh_onload_callbacks.push(callback);\n    if (root._bokeh_is_loading > 0) {\n      console.log(\"Bokeh: BokehJS is being loaded, scheduling callback at\", now());\n      return null;\n    }\n    if (js_urls == null || js_urls.length === 0) {\n      run_callbacks();\n      return null;\n    }\n    console.log(\"Bokeh: BokehJS not loaded, scheduling load and callback at\", now());\n    root._bokeh_is_loading = js_urls.length;\n    for (var i = 0; i < js_urls.length; i++) {\n      var url = js_urls[i];\n      var s = document.createElement('script');\n      s.src = url;\n      s.async = false;\n      s.onreadystatechange = s.onload = function() {\n        root._bokeh_is_loading--;\n        if (root._bokeh_is_loading === 0) {\n          console.log(\"Bokeh: all BokehJS libraries loaded\");\n          run_callbacks()\n        }\n      };\n      s.onerror = function() {\n        console.warn(\"failed to load library \" + url);\n      };\n      console.log(\"Bokeh: injecting script tag for BokehJS library: \", url);\n      document.getElementsByTagName(\"head\")[0].appendChild(s);\n    }\n  };var element = document.getElementById(\"fa116c13-e987-4bcc-9d76-344a547b14c5\");\n  if (element == null) {\n    console.log(\"Bokeh: ERROR: autoload.js configured with elementid 'fa116c13-e987-4bcc-9d76-344a547b14c5' but no matching script tag was found. \")\n    return false;\n  }\n\n  var js_urls = [\"https://cdn.pydata.org/bokeh/release/bokeh-0.12.10.min.js\", \"https://cdn.pydata.org/bokeh/release/bokeh-widgets-0.12.10.min.js\", \"https://cdn.pydata.org/bokeh/release/bokeh-tables-0.12.10.min.js\", \"https://cdn.pydata.org/bokeh/release/bokeh-gl-0.12.10.min.js\"];\n\n  var inline_js = [\n    function(Bokeh) {\n      Bokeh.set_log_level(\"info\");\n    },\n    \n    function(Bokeh) {\n      \n    },\n    function(Bokeh) {\n      console.log(\"Bokeh: injecting CSS: https://cdn.pydata.org/bokeh/release/bokeh-0.12.10.min.css\");\n      Bokeh.embed.inject_css(\"https://cdn.pydata.org/bokeh/release/bokeh-0.12.10.min.css\");\n      console.log(\"Bokeh: injecting CSS: https://cdn.pydata.org/bokeh/release/bokeh-widgets-0.12.10.min.css\");\n      Bokeh.embed.inject_css(\"https://cdn.pydata.org/bokeh/release/bokeh-widgets-0.12.10.min.css\");\n      console.log(\"Bokeh: injecting CSS: https://cdn.pydata.org/bokeh/release/bokeh-tables-0.12.10.min.css\");\n      Bokeh.embed.inject_css(\"https://cdn.pydata.org/bokeh/release/bokeh-tables-0.12.10.min.css\");\n    }\n  ];\n\n  function run_inline_js() {\n    \n    if ((root.Bokeh !== undefined) || (force === true)) {\n      for (var i = 0; i < inline_js.length; i++) {\n        inline_js[i].call(root, root.Bokeh);\n      }if (force === true) {\n        display_loaded();\n      }} else if (Date.now() < root._bokeh_timeout) {\n      setTimeout(run_inline_js, 100);\n    } else if (!root._bokeh_failed_load) {\n      console.log(\"Bokeh: BokehJS failed to load within specified timeout.\");\n      root._bokeh_failed_load = true;\n    } else if (force !== true) {\n      var cell = $(document.getElementById(\"fa116c13-e987-4bcc-9d76-344a547b14c5\")).parents('.cell').data().cell;\n      cell.output_area.append_execute_result(NB_LOAD_WARNING)\n    }\n\n  }\n\n  if (root._bokeh_is_loading === 0) {\n    console.log(\"Bokeh: BokehJS loaded, going straight to plotting\");\n    run_inline_js();\n  } else {\n    load_libs(js_urls, function() {\n      console.log(\"Bokeh: BokehJS plotting callback run at\", now());\n      run_inline_js();\n    });\n  }\n}(window));"
     },
     "metadata": {},
     "output_type": "display_data"
    }
   ],
   "source": [
    "import mxnet as mx\n",
    "from mxnet import nd, autograd, gluon\n",
    "import numpy as np\n",
    "from tqdm import tqdm, tqdm_notebook\n",
    "import time\n",
    "gpu_ctx = mx.gpu(0)\n",
    "cpu_ctx = mx.cpu(0)\n",
    "\n",
    "# Plotting library\n",
    "from bokeh.plotting import figure, show, output_file\n",
    "from bokeh.io import output_notebook\n",
    "from bokeh.models import Range1d\n",
    "from bokeh.palettes import brewer\n",
    "\n",
    "output_notebook()"
   ]
  },
  {
   "cell_type": "markdown",
   "metadata": {},
   "source": [
    "# Parameters\n",
    "* Data가 MNIST image이므로, 784차원의 input과 output을 가지고 있으며,\n",
    "* Latent space의 dimension은 2차원으로 하고\n",
    "* Input에서 Latent space로 가는 과정에 거치는 1개의 hidden node는 400차원을 가정한다."
   ]
  },
  {
   "cell_type": "code",
   "execution_count": 2,
   "metadata": {
    "ExecuteTime": {
     "end_time": "2018-01-18T22:51:31.867285Z",
     "start_time": "2018-01-18T22:51:31.861494Z"
    },
    "collapsed": true
   },
   "outputs": [],
   "source": [
    "LATENT_DIM = 2\n",
    "HIDDEN_DIM = 400\n",
    "INTPUT_DIM = 28 * 28\n",
    "OUTPUT_DIM = 28 * 28\n",
    "BATCH_SIZE = 100"
   ]
  },
  {
   "cell_type": "markdown",
   "metadata": {},
   "source": [
    "# Load Dataset\n",
    "* transform 함수는 한개의 data에 대해 적용됨\n",
    "* BATCH SIZE는 무시하고 dimension 변환\n",
    "* mx.io.NDArrayIter는 batch size만큼 data를 배분해서 반환하는 dataloader 중의 하나이다."
   ]
  },
  {
   "cell_type": "code",
   "execution_count": 3,
   "metadata": {
    "ExecuteTime": {
     "end_time": "2018-01-18T22:51:34.819641Z",
     "start_time": "2018-01-18T22:51:34.189173Z"
    },
    "collapsed": true
   },
   "outputs": [],
   "source": [
    "mnist = mx.test_utils.get_mnist()\n",
    "#print(mnist['train_data'][0].shape)\n",
    "\n",
    "train_data = np.reshape(mnist['train_data'],(-1,28*28))\n",
    "test_data = np.reshape(mnist['test_data'],(-1,28*28))\n",
    "\n",
    "batch_size = 400\n",
    "n_batches = train_data.shape[0]/batch_size\n",
    "train_iter = mx.io.NDArrayIter(data={'data': train_data}, label={'label': mnist['train_label']}, batch_size = batch_size)\n",
    "test_iter = mx.io.NDArrayIter(data={'data': test_data}, label={'label': mnist['test_label']}, batch_size = batch_size)"
   ]
  },
  {
   "cell_type": "markdown",
   "metadata": {},
   "source": [
    "* 임의로 선택된 10개의 이미지는 다음과 같다."
   ]
  },
  {
   "cell_type": "code",
   "execution_count": 4,
   "metadata": {
    "ExecuteTime": {
     "end_time": "2018-01-18T22:51:37.395776Z",
     "start_time": "2018-01-18T22:51:36.684818Z"
    }
   },
   "outputs": [
    {
     "data": {
      "image/png": "[encoded data removed]",
      "text/plain": [
       "<matplotlib.figure.Figure at 0x7fb379c562e8>"
      ]
     },
     "metadata": {},
     "output_type": "display_data"
    }
   ],
   "source": [
    "import matplotlib.pyplot as plt\n",
    "%matplotlib inline\n",
    "n_samples = 10\n",
    "idx = np.random.choice(len(mnist['train_data']), n_samples)\n",
    "_, axarr = plt.subplots(1, n_samples, figsize=(16,4))\n",
    "for i,j in enumerate(idx):\n",
    "    axarr[i].imshow(mnist['train_data'][j][0], cmap='Greys')\n",
    "    #axarr[i].axis('off')\n",
    "    axarr[i].get_xaxis().set_ticks([])\n",
    "    axarr[i].get_yaxis().set_ticks([])\n",
    "plt.show()"
   ]
  },
  {
   "cell_type": "markdown",
   "metadata": {},
   "source": [
    "# Variational Autoencoder\n",
    "* Encoder와 Decoder로 이루어져 있다.\n",
    "* Encoder와 Decoder 사이에 생성된 이미지와 원본 이미지를 비교하기 위해서 random number를 생성하는 부분이 있다.\n",
    "* HybridBlock은 imperative하게 모형을 생성하고, Symbolic하게 train을 할 수 있는 module이다.\n",
    "* HybridSequential은 Keras와 같이 차례대로 network을 쌓아올려 network을 구성할 수 있도록 제공한다.\n",
    "* hybrid_forward에는 F라는 인수가 필수적으로 들어가고, 이는 symbolic과 imperative에 따라 선택적으로 module을 선택해주는 역할을 한다."
   ]
  },
  {
   "cell_type": "code",
   "execution_count": 5,
   "metadata": {
    "ExecuteTime": {
     "end_time": "2018-01-18T22:51:39.640379Z",
     "start_time": "2018-01-18T22:51:39.549178Z"
    },
    "collapsed": true
   },
   "outputs": [],
   "source": [
    "# Batch size가 필요함\n",
    "# name_scope를 사용해야 함\n",
    "class VAE(gluon.HybridBlock):\n",
    "    def __init__(self, hidden_dim, latent_dim, output_dim, **kwargs):\n",
    "        super(VAE, self).__init__(**kwargs)\n",
    "        with self.name_scope():\n",
    "            # Encoder\n",
    "            self.enc = gluon.nn.HybridSequential()\n",
    "            self.enc.add(gluon.nn.Dense(hidden_dim, activation = 'relu'))\n",
    "            self.enc.add(gluon.nn.Dense(hidden_dim, activation = 'relu'))\n",
    "            self.enc.add(gluon.nn.Dense(2*latent_dim, activation = None)) # (평균과 log 분산을 나타내므로 실수를 허용)\n",
    "            # Decoder\n",
    "            self.dec = gluon.nn.HybridSequential()\n",
    "            self.dec.add(gluon.nn.Dense(hidden_dim, activation = 'relu'))\n",
    "            self.dec.add(gluon.nn.Dense(hidden_dim, activation = 'relu'))\n",
    "            self.dec.add(gluon.nn.Dense(output_dim, activation = 'sigmoid'))\n",
    "        \n",
    "        self.latent_dim = latent_dim\n",
    "        self.x_gen = None\n",
    "        self.mu = None\n",
    "        log_v = None\n",
    "        self.x_gen = None\n",
    "            \n",
    "    def hybrid_forward(self, F, x):\n",
    "        h = self.enc(x)\n",
    "        #print('x\\'s shape after enc = {}'.format(x.shape))\n",
    "        [mu, log_v] = F.split(h, axis = 1, num_outputs = 2) \n",
    "        eps = F.random_normal(shape = mu.shape, loc = 0., scale = 1., ctx = gpu_ctx)\n",
    "        z = mu + F.exp(log_v / 2) * eps\n",
    "        self.x_gen = self.dec(z)\n",
    "        self.mu = mu\n",
    "        KL = 0.5*F.sum(1+log_v-mu*mu-F.exp(log_v),axis=1)\n",
    "        logloss = F.sum(x*F.log(self.x_gen + 1e-10)+ (1-x)*F.log(1 - self.x_gen + 1e-10), axis=1)\n",
    "        loss = -logloss-KL\n",
    "        return loss\n",
    "        #return nd.sum(kl_loss + logloss)\n"
   ]
  },
  {
   "cell_type": "code",
   "execution_count": 6,
   "metadata": {
    "ExecuteTime": {
     "end_time": "2018-01-18T22:51:43.132299Z",
     "start_time": "2018-01-18T22:51:41.772705Z"
    },
    "scrolled": false
   },
   "outputs": [
    {
     "name": "stdout",
     "output_type": "stream",
     "text": [
      "VAE(\n",
      "  (enc): HybridSequential(\n",
      "    (0): Dense(None -> 400, Activation(relu))\n",
      "    (1): Dense(None -> 400, Activation(relu))\n",
      "    (2): Dense(None -> 4, linear)\n",
      "  )\n",
      "  (dec): HybridSequential(\n",
      "    (0): Dense(None -> 400, Activation(relu))\n",
      "    (1): Dense(None -> 400, Activation(relu))\n",
      "    (2): Dense(None -> 784, Activation(sigmoid))\n",
      "  )\n",
      ")\n"
     ]
    },
    {
     "data": {
      "text/plain": [
       "<bound method HybridBlock.hybridize of VAE(\n",
       "  (enc): HybridSequential(\n",
       "    (0): Dense(None -> 400, Activation(relu))\n",
       "    (1): Dense(None -> 400, Activation(relu))\n",
       "    (2): Dense(None -> 4, linear)\n",
       "  )\n",
       "  (dec): HybridSequential(\n",
       "    (0): Dense(None -> 400, Activation(relu))\n",
       "    (1): Dense(None -> 400, Activation(relu))\n",
       "    (2): Dense(None -> 784, Activation(sigmoid))\n",
       "  )\n",
       ")>"
      ]
     },
     "execution_count": 6,
     "metadata": {},
     "output_type": "execute_result"
    }
   ],
   "source": [
    "vae = VAE(HIDDEN_DIM, LATENT_DIM, OUTPUT_DIM)\n",
    "print(vae)\n",
    "# parameter 초기화\n",
    "vae.collect_params().initialize(mx.init.Xavier(), ctx = gpu_ctx)\n",
    "# Symbolic mode\n",
    "vae.hybridize"
   ]
  },
  {
   "cell_type": "markdown",
   "metadata": {},
   "source": [
    "# Define Trainer"
   ]
  },
  {
   "cell_type": "code",
   "execution_count": 7,
   "metadata": {
    "ExecuteTime": {
     "end_time": "2018-01-18T22:51:45.216584Z",
     "start_time": "2018-01-18T22:51:45.212226Z"
    },
    "collapsed": true
   },
   "outputs": [],
   "source": [
    "trainer = gluon.Trainer(vae.collect_params(), 'adam', {'learning_rate': .001})"
   ]
  },
  {
   "cell_type": "markdown",
   "metadata": {},
   "source": [
    "# Training"
   ]
  },
  {
   "cell_type": "code",
   "execution_count": 8,
   "metadata": {
    "ExecuteTime": {
     "end_time": "2018-01-18T22:54:20.070795Z",
     "start_time": "2018-01-18T22:51:47.516142Z"
    }
   },
   "outputs": [
    {
     "data": {
      "application/vnd.jupyter.widget-view+json": {
       "model_id": "80c2795b9d4941758f891a889c124d0d",
       "version_major": 2,
       "version_minor": 0
      },
      "text/plain": [
       "A Jupyter Widget"
      ]
     },
     "metadata": {},
     "output_type": "display_data"
    },
    {
     "name": "stdout",
     "output_type": "stream",
     "text": [
      "Epoch 0, Training loss 218.467795817, Validation loss 185.127762451\n",
      "Epoch 20, Training loss 145.935261434, Validation loss 147.543873901\n",
      "Epoch 40, Training loss 141.189148966, Validation loss 144.028925781\n",
      "Epoch 60, Training loss 138.669448039, Validation loss 141.942433472\n",
      "Epoch 80, Training loss 137.422980754, Validation loss 140.884405823\n",
      "Epoch 100, Training loss 137.013946431, Validation loss 140.907330933\n",
      "Epoch 120, Training loss 135.602881368, Validation loss 140.408753357\n",
      "Epoch 140, Training loss 135.091366628, Validation loss 140.429942322\n",
      "Epoch 160, Training loss 134.515330048, Validation loss 140.286398621\n",
      "Epoch 180, Training loss 133.949793142, Validation loss 139.922808838\n",
      "\n",
      "Time elapsed: 152.47s\n"
     ]
    }
   ],
   "source": [
    "n_epoch = 200\n",
    "print_period = n_epoch // 10\n",
    "start = time.time()\n",
    "\n",
    "training_loss = []\n",
    "validation_loss = []\n",
    "for epoch in tqdm_notebook(range(n_epoch), desc='epochs'):\n",
    "    epoch_loss = 0\n",
    "    epoch_val_loss = 0\n",
    "    \n",
    "    train_iter.reset()\n",
    "    test_iter.reset()\n",
    "    \n",
    "    n_batch_train = 0\n",
    "    for batch in train_iter:\n",
    "        n_batch_train +=1\n",
    "        data = batch.data[0].as_in_context(gpu_ctx)\n",
    "        with autograd.record():\n",
    "            loss = vae(data)\n",
    "        loss.backward()\n",
    "        trainer.step(data.shape[0])\n",
    "        epoch_loss += nd.mean(loss).asscalar()\n",
    "    \n",
    "    n_batch_val = 0\n",
    "    for batch in test_iter:\n",
    "        n_batch_val +=1\n",
    "        data = batch.data[0].as_in_context(gpu_ctx)\n",
    "        loss = vae(data)\n",
    "        epoch_val_loss += nd.mean(loss).asscalar()\n",
    "    \n",
    "    epoch_loss /= n_batch_train\n",
    "    epoch_val_loss /= n_batch_val\n",
    "    \n",
    "    training_loss.append(epoch_loss)\n",
    "    validation_loss.append(epoch_val_loss)\n",
    "    \n",
    "    if epoch % max(print_period,1) == 0:\n",
    "        tqdm.write('Epoch %d, Training loss %s, Validation loss %s' % (epoch, epoch_loss, epoch_val_loss))\n",
    "        \n",
    "end = time.time()\n",
    "print('Time elapsed: {:.2f}s'.format(end - start))"
   ]
  },
  {
   "cell_type": "markdown",
   "metadata": {},
   "source": [
    "## Learning curve"
   ]
  },
  {
   "cell_type": "code",
   "execution_count": 9,
   "metadata": {
    "ExecuteTime": {
     "end_time": "2018-01-18T23:04:53.054311Z",
     "start_time": "2018-01-18T23:04:52.948475Z"
    }
   },
   "outputs": [
    {
     "data": {
      "text/html": [
       "\n",
       "<div class=\"bk-root\">\n",
       "    <div class=\"bk-plotdiv\" id=\"4a146dc5-615b-4a13-940d-2bf0cc38eb78\"></div>\n",
       "</div>"
      ]
     },
     "metadata": {},
     "output_type": "display_data"
    },
    {
     "data": {
      "application/javascript": [
       "(function(root) {\n",
       "  function embed_document(root) {\n",
       "    var docs_json = {\"a260404d-0c84-41ea-a7b1-9599a19b72c1\":{\"roots\":{\"references\":[{\"attributes\":{\"callback\":null},\"id\":\"2cc2e9df-5ce2-41bb-ac18-583aac0ee635\",\"type\":\"DataRange1d\"},{\"attributes\":{\"line_alpha\":{\"value\":0.1},\"line_color\":{\"value\":\"#1f77b4\"},\"line_width\":{\"value\":2},\"x\":{\"field\":\"x\"},\"y\":{\"field\":\"y\"}},\"id\":\"0b074b6f-d697-4819-9145-40d42d818fec\",\"type\":\"Line\"},{\"attributes\":{\"line_color\":{\"value\":\"#3288bd\"},\"line_width\":{\"value\":2},\"x\":{\"field\":\"x\"},\"y\":{\"field\":\"y\"}},\"id\":\"3df3cc95-e3b0-4c1c-aac3-9f9b1192038e\",\"type\":\"Line\"},{\"attributes\":{\"below\":[{\"id\":\"b22637b6-dbb3-472e-a838-2fa8707e47d5\",\"type\":\"LinearAxis\"}],\"left\":[{\"id\":\"31fb7b89-95d7-464e-ab22-338235a1bf5f\",\"type\":\"LinearAxis\"}],\"plot_height\":400,\"plot_width\":400,\"renderers\":[{\"id\":\"b22637b6-dbb3-472e-a838-2fa8707e47d5\",\"type\":\"LinearAxis\"},{\"id\":\"bf28a3b7-c8cc-48e6-a846-37bfdd898d8d\",\"type\":\"Grid\"},{\"id\":\"31fb7b89-95d7-464e-ab22-338235a1bf5f\",\"type\":\"LinearAxis\"},{\"id\":\"d8d65c4b-7b03-4f19-8eb0-b0480e786e06\",\"type\":\"Grid\"},{\"id\":\"54886a48-dfe4-451b-9e42-3ca531738ec7\",\"type\":\"BoxAnnotation\"},{\"id\":\"990d0348-58c6-470c-aed5-afc01d0764f2\",\"type\":\"GlyphRenderer\"},{\"id\":\"f393e1c8-3ed6-4ced-b82f-bc490b9ffd97\",\"type\":\"GlyphRenderer\"}],\"title\":{\"id\":\"4d7d8303-6ebd-43ec-8c07-93ca4795d07e\",\"type\":\"Title\"},\"toolbar\":{\"id\":\"d78b4995-437a-4fe1-85cb-e9e75d5dc744\",\"type\":\"Toolbar\"},\"x_range\":{\"id\":\"2cc2e9df-5ce2-41bb-ac18-583aac0ee635\",\"type\":\"DataRange1d\"},\"x_scale\":{\"id\":\"251e8a07-2e6f-413e-8b36-a89a5640388a\",\"type\":\"LinearScale\"},\"y_range\":{\"id\":\"c6563b9c-05af-479b-9489-5bd335c627ff\",\"type\":\"DataRange1d\"},\"y_scale\":{\"id\":\"44c7de4b-b114-4c71-94b6-27a17799331d\",\"type\":\"LinearScale\"}},\"id\":\"cf193bcb-a329-4f8c-8861-6301bbcce22c\",\"subtype\":\"Figure\",\"type\":\"Plot\"},{\"attributes\":{},\"id\":\"a4398063-ff2e-4238-aa79-aaf0ffe8c54b\",\"type\":\"PanTool\"},{\"attributes\":{},\"id\":\"3fc34bbf-b12b-469a-b4a1-17cbb71f6b52\",\"type\":\"HelpTool\"},{\"attributes\":{\"overlay\":{\"id\":\"54886a48-dfe4-451b-9e42-3ca531738ec7\",\"type\":\"BoxAnnotation\"}},\"id\":\"dfb50f83-d42d-4559-9ac0-d286aa902331\",\"type\":\"BoxZoomTool\"},{\"attributes\":{\"line_alpha\":{\"value\":0.1},\"line_color\":{\"value\":\"#1f77b4\"},\"line_width\":{\"value\":2},\"x\":{\"field\":\"x\"},\"y\":{\"field\":\"y\"}},\"id\":\"31c4b322-5033-42c9-824b-860d6e5e46fe\",\"type\":\"Line\"},{\"attributes\":{},\"id\":\"44c7de4b-b114-4c71-94b6-27a17799331d\",\"type\":\"LinearScale\"},{\"attributes\":{\"callback\":null,\"column_names\":[\"x\",\"y\"],\"data\":{\"x\":{\"__ndarray__\":\"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\",\"dtype\":\"float64\",\"shape\":[200]},\"y\":[218.4677958170573,178.16443328857423,170.14680572509766,163.9909632364909,160.70548472086588,158.61228658040363,157.07369140625,155.81907399495444,154.64636342366538,153.5590697224935,152.54245442708333,151.6730987548828,150.69383514404296,150.00553131103516,149.26577992757163,148.5757450358073,147.8911271158854,147.221726175944,146.79331370035808,146.32082763671875,145.93526143391927,145.46245056152344,144.99914276123047,144.69038818359374,144.31946431477866,143.8664759318034,143.67133768717449,143.41297475179036,143.18320444742838,142.92907216389975,143.1344251505534,142.60375803629557,142.25774332682292,142.15297332763672,142.11776692708332,141.86988362630208,141.64505981445313,141.49750783284506,141.61810546875,141.13270874023436,141.18914896647135,141.00863840738933,140.85064697265625,140.54254628499348,140.16316660563152,140.15826080322265,140.1378109741211,139.77246500651043,139.87251291910806,139.5863612874349,139.89355428059895,139.49340240478514,139.43319936116538,139.45867482503255,139.21466501871745,139.08993286132812,139.05386728922525,138.99150695800782,138.84950358072916,138.6889439900716,138.669448038737,138.6616668701172,138.58574462890624,138.62396016438802,138.29371785481771,138.3787466430664,138.47459869384767,137.9061764526367,138.0407329305013,137.94846506754558,138.06447082519531,138.07362660725911,137.70383575439453,137.56883453369142,137.6348915608724,137.3852106730143,137.42998697916667,137.61469146728516,137.49219818115233,137.91066528320312,137.42298075358073,137.26412556966145,137.44141133626303,137.31020222981772,137.14506622314454,136.98877700805664,137.27395833333333,137.19114135742188,137.15991989135742,136.83154815673828,136.98234100341796,136.79418889363606,136.64679107666015,136.8108470662435,136.92938791910808,136.71417271931966,136.45970860799153,136.82903717041015,136.84775009155274,136.89564046223958,137.01394643147788,136.8773871866862,137.18856862386068,137.01396087646484,136.75775380452475,136.55555053710938,136.35403544108073,136.43193400065104,136.77240809122722,136.2919048055013,136.03659744262694,136.02876164754232,135.89355575561524,135.99467178344727,135.99567443847656,135.7525169881185,135.73094411214194,135.84717651367188,135.69965037027995,135.57482055664062,135.6028813680013,135.50151041666666,135.81379374186199,135.93446436564128,135.63180689493814,135.39899637858073,135.34838033040364,135.4950382486979,135.42217488606772,135.3138700866699,135.59174463907877,135.40919260660806,135.3378960164388,135.36062327067057,135.23276112874348,135.3168161010742,135.2499602762858,135.1947775777181,135.06795720418293,135.05356231689453,135.09136662801106,135.34960662841797,135.73965606689453,135.75318710327147,135.31745452880858,135.0447989400228,134.8820925394694,135.23979756673177,135.3602229309082,135.09216354370116,135.04790771484375,135.12953013102214,134.88926020304362,134.88562647501627,134.8815825398763,135.0812348429362,135.2780135599772,135.06649932861328,134.80615178426106,134.67433181762695,134.51533004760742,134.72016189575194,134.9144198099772,134.86339630126952,134.68447621663412,134.7070750427246,134.67845947265624,134.6252019246419,134.811241607666,134.72063135782878,134.5937018839518,134.95934885660807,134.51694076538087,134.44291681925455,134.25065551757814,133.99684494018555,133.92031967163086,134.3772393798828,134.0677053833008,133.85390004475911,133.94979314168293,134.0113545227051,134.0717739868164,133.97652725219726,133.8791230773926,133.83348337809244,133.97749425252277,133.83345306396484,133.9794564819336,134.10932464599608,133.82896525065104,133.95485193888345,134.0910829671224,134.26554438273112,134.07118311564128,133.98952006022137,134.02533381144207,133.99778015136718,133.95617818196615,133.84356150309245]}},\"id\":\"f638b2fd-6148-47f0-a741-b9068f433c2b\",\"type\":\"ColumnDataSource\"},{\"attributes\":{},\"id\":\"49fc65c6-a7aa-4d92-a8e5-ae9417f3d26c\",\"type\":\"BasicTicker\"},{\"attributes\":{},\"id\":\"251e8a07-2e6f-413e-8b36-a89a5640388a\",\"type\":\"LinearScale\"},{\"attributes\":{\"active_drag\":\"auto\",\"active_inspect\":\"auto\",\"active_scroll\":\"auto\",\"active_tap\":\"auto\",\"tools\":[{\"id\":\"a4398063-ff2e-4238-aa79-aaf0ffe8c54b\",\"type\":\"PanTool\"},{\"id\":\"c0ea5411-8378-4d82-b181-48e6d3ffa21c\",\"type\":\"WheelZoomTool\"},{\"id\":\"dfb50f83-d42d-4559-9ac0-d286aa902331\",\"type\":\"BoxZoomTool\"},{\"id\":\"45536c02-1c01-468c-bc80-a083e9165f44\",\"type\":\"SaveTool\"},{\"id\":\"202fb79a-64b3-4d43-951e-db4e1cc5b701\",\"type\":\"ResetTool\"},{\"id\":\"3fc34bbf-b12b-469a-b4a1-17cbb71f6b52\",\"type\":\"HelpTool\"}]},\"id\":\"d78b4995-437a-4fe1-85cb-e9e75d5dc744\",\"type\":\"Toolbar\"},{\"attributes\":{},\"id\":\"c0ea5411-8378-4d82-b181-48e6d3ffa21c\",\"type\":\"WheelZoomTool\"},{\"attributes\":{},\"id\":\"37f5bff5-eea9-4fbc-bd0b-acff1fea7580\",\"type\":\"BasicTickFormatter\"},{\"attributes\":{\"data_source\":{\"id\":\"3351be8a-f07c-47a5-93ff-5659413f2c09\",\"type\":\"ColumnDataSource\"},\"glyph\":{\"id\":\"3df3cc95-e3b0-4c1c-aac3-9f9b1192038e\",\"type\":\"Line\"},\"hover_glyph\":null,\"muted_glyph\":null,\"nonselection_glyph\":{\"id\":\"31c4b322-5033-42c9-824b-860d6e5e46fe\",\"type\":\"Line\"},\"selection_glyph\":null,\"view\":{\"id\":\"9729be6d-174f-477e-bdbb-1e87224c0743\",\"type\":\"CDSView\"}},\"id\":\"f393e1c8-3ed6-4ced-b82f-bc490b9ffd97\",\"type\":\"GlyphRenderer\"},{\"attributes\":{},\"id\":\"0d3006ca-19d4-4f49-bc88-306b8f26e196\",\"type\":\"BasicTickFormatter\"},{\"attributes\":{\"source\":{\"id\":\"3351be8a-f07c-47a5-93ff-5659413f2c09\",\"type\":\"ColumnDataSource\"}},\"id\":\"9729be6d-174f-477e-bdbb-1e87224c0743\",\"type\":\"CDSView\"},{\"attributes\":{\"formatter\":{\"id\":\"37f5bff5-eea9-4fbc-bd0b-acff1fea7580\",\"type\":\"BasicTickFormatter\"},\"plot\":{\"id\":\"cf193bcb-a329-4f8c-8861-6301bbcce22c\",\"subtype\":\"Figure\",\"type\":\"Plot\"},\"ticker\":{\"id\":\"c0bb137b-be90-47ce-928c-192776c65fcc\",\"type\":\"BasicTicker\"}},\"id\":\"31fb7b89-95d7-464e-ab22-338235a1bf5f\",\"type\":\"LinearAxis\"},{\"attributes\":{\"dimension\":1,\"plot\":{\"id\":\"cf193bcb-a329-4f8c-8861-6301bbcce22c\",\"subtype\":\"Figure\",\"type\":\"Plot\"},\"ticker\":{\"id\":\"c0bb137b-be90-47ce-928c-192776c65fcc\",\"type\":\"BasicTicker\"}},\"id\":\"d8d65c4b-7b03-4f19-8eb0-b0480e786e06\",\"type\":\"Grid\"},{\"attributes\":{\"plot\":null,\"text\":\"\"},\"id\":\"4d7d8303-6ebd-43ec-8c07-93ca4795d07e\",\"type\":\"Title\"},{\"attributes\":{\"source\":{\"id\":\"f638b2fd-6148-47f0-a741-b9068f433c2b\",\"type\":\"ColumnDataSource\"}},\"id\":\"a24bd9bc-9d92-4790-a050-565067aede88\",\"type\":\"CDSView\"},{\"attributes\":{\"callback\":null},\"id\":\"c6563b9c-05af-479b-9489-5bd335c627ff\",\"type\":\"DataRange1d\"},{\"attributes\":{},\"id\":\"c0bb137b-be90-47ce-928c-192776c65fcc\",\"type\":\"BasicTicker\"},{\"attributes\":{\"callback\":null,\"column_names\":[\"x\",\"y\"],\"data\":{\"x\":{\"__ndarray__\":\"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\",\"dtype\":\"float64\",\"shape\":[200]},\"y\":[185.12776245117186,174.65503601074218,167.18929931640625,162.61288818359375,160.25886169433593,158.76145935058594,157.32057922363282,156.42995178222657,155.34960754394533,154.02311462402344,153.02440185546874,152.48843627929688,152.20599792480468,151.41080139160155,150.25396606445312,150.01619140625,149.1577117919922,148.58074157714844,147.91910400390626,147.91422302246093,147.5438739013672,146.7043585205078,146.52226928710937,146.4443408203125,146.43476196289063,146.0909423828125,146.11817016601563,145.63454467773437,145.3375750732422,145.00521301269532,145.4041827392578,144.70458618164062,144.35558410644532,144.3403057861328,144.49834411621094,143.90594116210937,143.7111065673828,143.77132629394532,143.50934753417968,143.49000427246094,144.02892578125,143.61614685058595,143.3986553955078,143.15074157714844,143.04740417480468,143.38122680664063,142.48248596191405,143.036376953125,142.45918395996094,142.57369873046875,142.37475646972655,142.44025024414063,142.04449157714845,142.18204528808593,142.26263916015625,141.84598876953126,142.2680529785156,142.71009338378906,141.92374084472655,141.54854309082032,141.9424334716797,141.8970574951172,142.09012939453126,141.55146484375,141.43650939941406,141.6817138671875,141.7432257080078,141.402041015625,141.58375213623046,141.75626678466796,141.4353353881836,141.7190948486328,141.524013671875,141.4147155761719,140.97714080810547,141.10674285888672,141.10364166259765,141.35270080566406,141.24194244384765,141.22678985595704,140.8844058227539,141.03479583740236,140.63189544677735,141.12139099121094,141.01757598876952,140.83969512939453,140.94463012695311,140.6490933227539,140.78521087646484,140.8419680786133,140.41311157226562,140.9134521484375,140.3682147216797,140.3721551513672,140.61078582763673,141.20398620605468,140.3827655029297,140.70868225097655,140.75673156738281,140.84686462402342,140.90733093261719,141.03839477539063,140.92244873046874,140.5167465209961,140.86364166259764,140.29723297119142,140.37871307373047,140.44113464355468,140.62871032714844,140.59401611328124,140.5107046508789,140.28802764892578,140.1942495727539,140.6192254638672,140.62972930908202,140.2878759765625,140.576435546875,140.9965347290039,140.4483319091797,140.40838104248047,140.4087533569336,140.56979766845703,140.80617614746095,140.9854229736328,140.591591796875,140.4494970703125,141.07010498046876,140.1661978149414,140.1573321533203,140.79350646972657,141.3695510864258,140.71386749267577,140.5433190917969,140.09168304443358,140.30944854736327,140.1294451904297,140.17741790771484,140.2339810180664,140.35993133544923,139.83343048095702,140.42994232177733,140.47398010253906,141.4232666015625,140.48544158935547,141.0850924682617,140.4807162475586,140.5040023803711,140.57929077148438,140.2436016845703,140.59022735595704,140.472978515625,140.88126892089844,140.2265625,141.2574621582031,140.63130798339844,140.2927001953125,140.775380859375,140.30460021972655,140.1833981323242,139.8966763305664,140.28639862060547,140.2666259765625,141.27258026123047,140.80433685302734,141.06298919677735,140.63794189453125,140.62269439697266,140.61698364257813,140.7394805908203,140.7000244140625,140.66841064453126,140.24163330078125,140.24331909179688,140.0762026977539,140.1958334350586,139.93493865966798,140.19104370117188,139.7350051879883,139.7348474121094,139.85623168945312,139.9228088378906,140.18253601074218,140.39032287597655,141.27228607177733,140.30457733154296,140.4339401245117,140.70046356201172,141.46990783691408,140.85584075927736,140.22728881835937,140.74276092529297,140.9709606933594,140.3905633544922,140.35155639648437,140.54840423583985,140.35669860839843,141.0785369873047,140.91213806152345,140.65065338134767,140.74524780273438]}},\"id\":\"3351be8a-f07c-47a5-93ff-5659413f2c09\",\"type\":\"ColumnDataSource\"},{\"attributes\":{\"data_source\":{\"id\":\"f638b2fd-6148-47f0-a741-b9068f433c2b\",\"type\":\"ColumnDataSource\"},\"glyph\":{\"id\":\"5121e566-bf9c-41e5-b4c0-d61e23db838e\",\"type\":\"Line\"},\"hover_glyph\":null,\"muted_glyph\":null,\"nonselection_glyph\":{\"id\":\"0b074b6f-d697-4819-9145-40d42d818fec\",\"type\":\"Line\"},\"selection_glyph\":null,\"view\":{\"id\":\"a24bd9bc-9d92-4790-a050-565067aede88\",\"type\":\"CDSView\"}},\"id\":\"990d0348-58c6-470c-aed5-afc01d0764f2\",\"type\":\"GlyphRenderer\"},{\"attributes\":{\"bottom_units\":\"screen\",\"fill_alpha\":{\"value\":0.5},\"fill_color\":{\"value\":\"lightgrey\"},\"left_units\":\"screen\",\"level\":\"overlay\",\"line_alpha\":{\"value\":1.0},\"line_color\":{\"value\":\"black\"},\"line_dash\":[4,4],\"line_width\":{\"value\":2},\"plot\":null,\"render_mode\":\"css\",\"right_units\":\"screen\",\"top_units\":\"screen\"},\"id\":\"54886a48-dfe4-451b-9e42-3ca531738ec7\",\"type\":\"BoxAnnotation\"},{\"attributes\":{},\"id\":\"202fb79a-64b3-4d43-951e-db4e1cc5b701\",\"type\":\"ResetTool\"},{\"attributes\":{},\"id\":\"45536c02-1c01-468c-bc80-a083e9165f44\",\"type\":\"SaveTool\"},{\"attributes\":{\"formatter\":{\"id\":\"0d3006ca-19d4-4f49-bc88-306b8f26e196\",\"type\":\"BasicTickFormatter\"},\"plot\":{\"id\":\"cf193bcb-a329-4f8c-8861-6301bbcce22c\",\"subtype\":\"Figure\",\"type\":\"Plot\"},\"ticker\":{\"id\":\"49fc65c6-a7aa-4d92-a8e5-ae9417f3d26c\",\"type\":\"BasicTicker\"}},\"id\":\"b22637b6-dbb3-472e-a838-2fa8707e47d5\",\"type\":\"LinearAxis\"},{\"attributes\":{\"line_color\":{\"value\":\"#5e4fa2\"},\"line_width\":{\"value\":2},\"x\":{\"field\":\"x\"},\"y\":{\"field\":\"y\"}},\"id\":\"5121e566-bf9c-41e5-b4c0-d61e23db838e\",\"type\":\"Line\"},{\"attributes\":{\"plot\":{\"id\":\"cf193bcb-a329-4f8c-8861-6301bbcce22c\",\"subtype\":\"Figure\",\"type\":\"Plot\"},\"ticker\":{\"id\":\"49fc65c6-a7aa-4d92-a8e5-ae9417f3d26c\",\"type\":\"BasicTicker\"}},\"id\":\"bf28a3b7-c8cc-48e6-a846-37bfdd898d8d\",\"type\":\"Grid\"}],\"root_ids\":[\"cf193bcb-a329-4f8c-8861-6301bbcce22c\"]},\"title\":\"Bokeh Application\",\"version\":\"0.12.10\"}};\n",
       "    var render_items = [{\"docid\":\"a260404d-0c84-41ea-a7b1-9599a19b72c1\",\"elementid\":\"4a146dc5-615b-4a13-940d-2bf0cc38eb78\",\"modelid\":\"cf193bcb-a329-4f8c-8861-6301bbcce22c\"}];\n",
       "\n",
       "    root.Bokeh.embed.embed_items(docs_json, render_items);\n",
       "  }\n",
       "\n",
       "  if (root.Bokeh !== undefined) {\n",
       "    embed_document(root);\n",
       "  } else {\n",
       "    var attempts = 0;\n",
       "    var timer = setInterval(function(root) {\n",
       "      if (root.Bokeh !== undefined) {\n",
       "        embed_document(root);\n",
       "        clearInterval(timer);\n",
       "      }\n",
       "      attempts++;\n",
       "      if (attempts > 100) {\n",
       "        console.log(\"Bokeh: ERROR: Unable to embed document because BokehJS library is missing\")\n",
       "        clearInterval(timer);\n",
       "      }\n",
       "    }, 10, root)\n",
       "  }\n",
       "})(window);"
      ],
      "application/vnd.bokehjs_exec.v0+json": ""
     },
     "metadata": {
      "application/vnd.bokehjs_exec.v0+json": {
       "id": "cf193bcb-a329-4f8c-8861-6301bbcce22c"
      }
     },
     "output_type": "display_data"
    }
   ],
   "source": [
    "color_map = brewer[\"Spectral\"][10]\n",
    "batch_x = np.linspace(1, n_epoch, len(training_loss))\n",
    "p = figure(plot_width=400, plot_height=400)\n",
    "p.line(batch_x, training_loss, color = color_map[0], line_width=2)\n",
    "p.line(batch_x, validation_loss, color = color_map[1], line_width=2)\n",
    "show(p)"
   ]
  },
  {
   "cell_type": "markdown",
   "metadata": {},
   "source": [
    "## Save model"
   ]
  },
  {
   "cell_type": "code",
   "execution_count": 10,
   "metadata": {
    "ExecuteTime": {
     "end_time": "2018-01-18T23:04:54.712928Z",
     "start_time": "2018-01-18T23:04:54.692733Z"
    },
    "collapsed": true
   },
   "outputs": [],
   "source": [
    "# Path to save parameters\n",
    "model_prefix = 'vae_gluon.params'\n",
    "vae.save_params(model_prefix)"
   ]
  },
  {
   "cell_type": "markdown",
   "metadata": {},
   "source": [
    "# Results"
   ]
  },
  {
   "cell_type": "markdown",
   "metadata": {},
   "source": [
    "## Load model"
   ]
  },
  {
   "cell_type": "code",
   "execution_count": 11,
   "metadata": {
    "ExecuteTime": {
     "end_time": "2018-01-18T23:04:57.038002Z",
     "start_time": "2018-01-18T23:04:57.020116Z"
    },
    "collapsed": true
   },
   "outputs": [],
   "source": [
    "vae2 = VAE(HIDDEN_DIM, LATENT_DIM, OUTPUT_DIM)\n",
    "vae2.load_params(model_prefix, ctx=gpu_ctx)"
   ]
  },
  {
   "cell_type": "markdown",
   "metadata": {},
   "source": [
    "## Reconstruct test image\n",
    "  * vae2의 결과물은 [x_gen, z_mean, z_log_var]의 list형태"
   ]
  },
  {
   "cell_type": "code",
   "execution_count": 12,
   "metadata": {
    "ExecuteTime": {
     "end_time": "2018-01-18T23:04:58.555128Z",
     "start_time": "2018-01-18T23:04:58.538546Z"
    },
    "collapsed": true
   },
   "outputs": [],
   "source": [
    "test_iter.reset()\n",
    "test_batch = test_iter.next()\n",
    "vae2(test_batch.data[0].as_in_context(gpu_ctx))\n",
    "result = vae2.x_gen.asnumpy()\n",
    "original = test_batch.data[0].asnumpy()"
   ]
  },
  {
   "cell_type": "code",
   "execution_count": 13,
   "metadata": {
    "ExecuteTime": {
     "end_time": "2018-01-18T23:05:01.047415Z",
     "start_time": "2018-01-18T23:05:00.042762Z"
    }
   },
   "outputs": [
    {
     "data": {
      "image/png": "[encoded data removed]",
      "text/plain": [
       "<matplotlib.figure.Figure at 0x7fb3640db128>"
      ]
     },
     "metadata": {},
     "output_type": "display_data"
    }
   ],
   "source": [
    "n_samples = 10\n",
    "idx = np.random.choice(batch_size, n_samples)\n",
    "_, axarr = plt.subplots(2, n_samples, figsize=(16,4))\n",
    "for i,j in enumerate(idx):\n",
    "    axarr[0,i].imshow(original[j].reshape((28,28)), cmap='Greys')\n",
    "    if i==0:\n",
    "        axarr[0,i].set_title('original')\n",
    "    #axarr[0,i].axis('off')\n",
    "    axarr[0,i].get_xaxis().set_ticks([])\n",
    "    axarr[0,i].get_yaxis().set_ticks([])\n",
    "\n",
    "    axarr[1,i].imshow(result[j].reshape((28,28)), cmap='Greys')\n",
    "    if i==0:\n",
    "        axarr[1,i].set_title('reconstruction')\n",
    "    #axarr[1,i].axis('off')\n",
    "    axarr[1,i].get_xaxis().set_ticks([])\n",
    "    axarr[1,i].get_yaxis().set_ticks([])\n",
    "plt.show()"
   ]
  },
  {
   "cell_type": "markdown",
   "metadata": {},
   "source": [
    "## Visualize hidden space"
   ]
  },
  {
   "cell_type": "code",
   "execution_count": 18,
   "metadata": {
    "ExecuteTime": {
     "end_time": "2018-01-18T23:05:19.178559Z",
     "start_time": "2018-01-18T23:05:19.167883Z"
    },
    "collapsed": true
   },
   "outputs": [],
   "source": [
    "n_sample = 500\n",
    "# Create random index\n",
    "rnd_idx = np.random.choice(mnist['train_data'].shape[0], n_sample)\n",
    "\n",
    "# Randomly choose image\n",
    "data = mnist['train_data'][rnd_idx]\n",
    "label = mnist['train_label'][rnd_idx]"
   ]
  },
  {
   "cell_type": "code",
   "execution_count": 19,
   "metadata": {
    "ExecuteTime": {
     "end_time": "2018-01-18T23:05:19.917111Z",
     "start_time": "2018-01-18T23:05:19.899708Z"
    },
    "collapsed": true
   },
   "outputs": [],
   "source": [
    "vae2(nd.array(data.reshape(-1, 28 * 28)).as_in_context(gpu_ctx))\n",
    "lat_val = vae2.mu"
   ]
  },
  {
   "cell_type": "code",
   "execution_count": 20,
   "metadata": {
    "ExecuteTime": {
     "end_time": "2018-01-18T23:05:20.645528Z",
     "start_time": "2018-01-18T23:05:20.559402Z"
    }
   },
   "outputs": [
    {
     "data": {
      "text/html": [
       "\n",
       "<div class=\"bk-root\">\n",
       "    <div class=\"bk-plotdiv\" id=\"4d0b8e8f-3dea-4f25-b09d-938a969c184b\"></div>\n",
       "</div>"
      ]
     },
     "metadata": {},
     "output_type": "display_data"
    },
    {
     "data": {
      "application/javascript": [
       "(function(root) {\n",
       "  function embed_document(root) {\n",
       "    var docs_json = {\"f1be8f2b-b81a-451b-96ec-ba13614e71a9\":{\"roots\":{\"references\":[{\"attributes\":{\"overlay\":{\"id\":\"4ca716b2-71df-4f6d-98bd-64603e64a94c\",\"type\":\"BoxAnnotation\"}},\"id\":\"ece4a3e0-a6dc-4430-b779-db4f0c7b9f8c\",\"type\":\"BoxZoomTool\"},{\"attributes\":{},\"id\":\"8738f97c-afac-494e-9486-87acd1af3616\",\"type\":\"LinearScale\"},{\"attributes\":{},\"id\":\"68bb0e62-e585-4d36-be8c-ccbd605e9820\",\"type\":\"SaveTool\"},{\"attributes\":{\"active_drag\":\"auto\",\"active_inspect\":\"auto\",\"active_scroll\":\"auto\",\"active_tap\":\"auto\",\"tools\":[{\"id\":\"7fb06eb4-220d-40de-93b2-5ce6da31e2d4\",\"type\":\"PanTool\"},{\"id\":\"3f35318b-f5a1-4d5c-b44c-caac152e8397\",\"type\":\"WheelZoomTool\"},{\"id\":\"ece4a3e0-a6dc-4430-b779-db4f0c7b9f8c\",\"type\":\"BoxZoomTool\"},{\"id\":\"68bb0e62-e585-4d36-be8c-ccbd605e9820\",\"type\":\"SaveTool\"},{\"id\":\"0a2a2a7f-2719-404d-8f03-654fadd6d5cc\",\"type\":\"ResetTool\"},{\"id\":\"ee1f5119-87b6-4193-9b2f-83bf48e3fe57\",\"type\":\"HelpTool\"}]},\"id\":\"5d15e9a0-6c9e-4b2b-8c25-23880e70f2b7\",\"type\":\"Toolbar\"},{\"attributes\":{\"callback\":null},\"id\":\"d21b55bb-7c3d-4b0e-bc52-5c516babcc55\",\"type\":\"DataRange1d\"},{\"attributes\":{\"axis_label\":\"x_2\",\"formatter\":{\"id\":\"bdfa9c6a-86f1-429c-92bc-c6c2b017ffd1\",\"type\":\"BasicTickFormatter\"},\"plot\":{\"id\":\"6e98ce6a-d421-4eb3-ac13-da2c682d58b2\",\"subtype\":\"Figure\",\"type\":\"Plot\"},\"ticker\":{\"id\":\"8fb5c677-7238-4deb-ad7a-60c5395b5231\",\"type\":\"BasicTicker\"}},\"id\":\"cf440fc1-15f9-477c-a0dd-04378778dbcf\",\"type\":\"LinearAxis\"},{\"attributes\":{},\"id\":\"0a68ad70-d70e-449f-b7a7-c25be342855d\",\"type\":\"BasicTickFormatter\"},{\"attributes\":{\"callback\":null},\"id\":\"763ab929-3261-4201-b6dc-02f15df196d5\",\"type\":\"DataRange1d\"},{\"attributes\":{\"data_source\":{\"id\":\"7168f276-a4cd-4c30-b692-5e9b40f546ce\",\"type\":\"ColumnDataSource\"},\"glyph\":{\"id\":\"c0cc651a-2f30-4457-80bc-1872775bf290\",\"type\":\"Circle\"},\"hover_glyph\":null,\"muted_glyph\":null,\"nonselection_glyph\":{\"id\":\"a3998d49-6b09-40dd-a83e-00efd1ce9292\",\"type\":\"Circle\"},\"selection_glyph\":null,\"view\":{\"id\":\"dcd0c6a0-1d46-4187-add3-07483b728d31\",\"type\":\"CDSView\"}},\"id\":\"62770675-fd6f-4bf7-9737-5d9c66afd27b\",\"type\":\"GlyphRenderer\"},{\"attributes\":{},\"id\":\"ee1f5119-87b6-4193-9b2f-83bf48e3fe57\",\"type\":\"HelpTool\"},{\"attributes\":{},\"id\":\"8fb5c677-7238-4deb-ad7a-60c5395b5231\",\"type\":\"BasicTicker\"},{\"attributes\":{\"plot\":null,\"text\":\"Latent Space\"},\"id\":\"db199683-1a3d-44b9-a173-42faf142f78e\",\"type\":\"Title\"},{\"attributes\":{\"bottom_units\":\"screen\",\"fill_alpha\":{\"value\":0.5},\"fill_color\":{\"value\":\"lightgrey\"},\"left_units\":\"screen\",\"level\":\"overlay\",\"line_alpha\":{\"value\":1.0},\"line_color\":{\"value\":\"black\"},\"line_dash\":[4,4],\"line_width\":{\"value\":2},\"plot\":null,\"render_mode\":\"css\",\"right_units\":\"screen\",\"top_units\":\"screen\"},\"id\":\"4ca716b2-71df-4f6d-98bd-64603e64a94c\",\"type\":\"BoxAnnotation\"},{\"attributes\":{\"below\":[{\"id\":\"e29e65c6-d640-4b50-9162-8f8023f77446\",\"type\":\"LinearAxis\"}],\"left\":[{\"id\":\"cf440fc1-15f9-477c-a0dd-04378778dbcf\",\"type\":\"LinearAxis\"}],\"renderers\":[{\"id\":\"e29e65c6-d640-4b50-9162-8f8023f77446\",\"type\":\"LinearAxis\"},{\"id\":\"03ad4381-bff3-40c5-a6ac-c60826eb4547\",\"type\":\"Grid\"},{\"id\":\"cf440fc1-15f9-477c-a0dd-04378778dbcf\",\"type\":\"LinearAxis\"},{\"id\":\"2ad7e993-04b3-4332-a36e-4681eb0eae0e\",\"type\":\"Grid\"},{\"id\":\"4ca716b2-71df-4f6d-98bd-64603e64a94c\",\"type\":\"BoxAnnotation\"},{\"id\":\"62770675-fd6f-4bf7-9737-5d9c66afd27b\",\"type\":\"GlyphRenderer\"}],\"title\":{\"id\":\"db199683-1a3d-44b9-a173-42faf142f78e\",\"type\":\"Title\"},\"toolbar\":{\"id\":\"5d15e9a0-6c9e-4b2b-8c25-23880e70f2b7\",\"type\":\"Toolbar\"},\"x_range\":{\"id\":\"763ab929-3261-4201-b6dc-02f15df196d5\",\"type\":\"DataRange1d\"},\"x_scale\":{\"id\":\"8738f97c-afac-494e-9486-87acd1af3616\",\"type\":\"LinearScale\"},\"y_range\":{\"id\":\"d21b55bb-7c3d-4b0e-bc52-5c516babcc55\",\"type\":\"DataRange1d\"},\"y_scale\":{\"id\":\"b17f5bc1-77d6-4226-8fec-a856eebd4147\",\"type\":\"LinearScale\"}},\"id\":\"6e98ce6a-d421-4eb3-ac13-da2c682d58b2\",\"subtype\":\"Figure\",\"type\":\"Plot\"},{\"attributes\":{\"plot\":{\"id\":\"6e98ce6a-d421-4eb3-ac13-da2c682d58b2\",\"subtype\":\"Figure\",\"type\":\"Plot\"},\"ticker\":{\"id\":\"bc8c1e25-9e70-457b-9311-a621d6f351b9\",\"type\":\"BasicTicker\"}},\"id\":\"03ad4381-bff3-40c5-a6ac-c60826eb4547\",\"type\":\"Grid\"},{\"attributes\":{\"fill_alpha\":{\"value\":0.1},\"fill_color\":{\"value\":\"#1f77b4\"},\"line_alpha\":{\"value\":0.1},\"line_color\":{\"value\":\"#1f77b4\"},\"size\":{\"units\":\"screen\",\"value\":5},\"x\":{\"field\":\"x\"},\"y\":{\"field\":\"y\"}},\"id\":\"a3998d49-6b09-40dd-a83e-00efd1ce9292\",\"type\":\"Circle\"},{\"attributes\":{\"source\":{\"id\":\"7168f276-a4cd-4c30-b692-5e9b40f546ce\",\"type\":\"ColumnDataSource\"}},\"id\":\"dcd0c6a0-1d46-4187-add3-07483b728d31\",\"type\":\"CDSView\"},{\"attributes\":{\"axis_label\":\"x_1\",\"formatter\":{\"id\":\"0a68ad70-d70e-449f-b7a7-c25be342855d\",\"type\":\"BasicTickFormatter\"},\"plot\":{\"id\":\"6e98ce6a-d421-4eb3-ac13-da2c682d58b2\",\"subtype\":\"Figure\",\"type\":\"Plot\"},\"ticker\":{\"id\":\"bc8c1e25-9e70-457b-9311-a621d6f351b9\",\"type\":\"BasicTicker\"}},\"id\":\"e29e65c6-d640-4b50-9162-8f8023f77446\",\"type\":\"LinearAxis\"},{\"attributes\":{\"fill_alpha\":{\"value\":0.7},\"fill_color\":{\"field\":\"fill_color\"},\"line_color\":{\"field\":\"line_color\"},\"size\":{\"units\":\"screen\",\"value\":5},\"x\":{\"field\":\"x\"},\"y\":{\"field\":\"y\"}},\"id\":\"c0cc651a-2f30-4457-80bc-1872775bf290\",\"type\":\"Circle\"},{\"attributes\":{},\"id\":\"b17f5bc1-77d6-4226-8fec-a856eebd4147\",\"type\":\"LinearScale\"},{\"attributes\":{},\"id\":\"bdfa9c6a-86f1-429c-92bc-c6c2b017ffd1\",\"type\":\"BasicTickFormatter\"},{\"attributes\":{},\"id\":\"bc8c1e25-9e70-457b-9311-a621d6f351b9\",\"type\":\"BasicTicker\"},{\"attributes\":{},\"id\":\"3f35318b-f5a1-4d5c-b44c-caac152e8397\",\"type\":\"WheelZoomTool\"},{\"attributes\":{},\"id\":\"0a2a2a7f-2719-404d-8f03-654fadd6d5cc\",\"type\":\"ResetTool\"},{\"attributes\":{},\"id\":\"7fb06eb4-220d-40de-93b2-5ce6da31e2d4\",\"type\":\"PanTool\"},{\"attributes\":{\"callback\":null,\"column_names\":[\"x\",\"y\",\"fill_color\",\"line_color\"],\"data\":{\"fill_color\":[\"#fee08b\",\"#abdda4\",\"#3288bd\",\"#abdda4\",\"#3288bd\",\"#f46d43\",\"#f46d43\",\"#abdda4\",\"#f46d43\",\"#66c2a5\",\"#abdda4\",\"#5e4fa2\",\"#abdda4\",\"#fee08b\",\"#5e4fa2\",\"#abdda4\",\"#f46d43\",\"#abdda4\",\"#3288bd\",\"#fee08b\",\"#3288bd\",\"#d53e4f\",\"#f46d43\",\"#e6f598\",\"#5e4fa2\",\"#fdae61\",\"#3288bd\",\"#5e4fa2\",\"#66c2a5\",\"#66c2a5\",\"#5e4fa2\",\"#d53e4f\",\"#fdae61\",\"#d53e4f\",\"#f46d43\",\"#d53e4f\",\"#fee08b\",\"#d53e4f\",\"#5e4fa2\",\"#abdda4\",\"#abdda4\",\"#3288bd\",\"#e6f598\",\"#e6f598\",\"#5e4fa2\",\"#66c2a5\",\"#e6f598\",\"#5e4fa2\",\"#abdda4\",\"#abdda4\",\"#3288bd\",\"#66c2a5\",\"#fdae61\",\"#f46d43\",\"#abdda4\",\"#66c2a5\",\"#fdae61\",\"#f46d43\",\"#f46d43\",\"#e6f598\",\"#e6f598\",\"#3288bd\",\"#f46d43\",\"#9e0142\",\"#3288bd\",\"#66c2a5\",\"#fee08b\",\"#66c2a5\",\"#5e4fa2\",\"#9e0142\",\"#f46d43\",\"#9e0142\",\"#abdda4\",\"#d53e4f\",\"#e6f598\",\"#3288bd\",\"#fee08b\",\"#9e0142\",\"#fdae61\",\"#f46d43\",\"#d53e4f\",\"#abdda4\",\"#fee08b\",\"#abdda4\",\"#5e4fa2\",\"#abdda4\",\"#abdda4\",\"#3288bd\",\"#3288bd\",\"#f46d43\",\"#9e0142\",\"#abdda4\",\"#e6f598\",\"#abdda4\",\"#d53e4f\",\"#e6f598\",\"#3288bd\",\"#e6f598\",\"#5e4fa2\",\"#d53e4f\",\"#9e0142\",\"#66c2a5\",\"#9e0142\",\"#3288bd\",\"#fee08b\",\"#fdae61\",\"#66c2a5\",\"#3288bd\",\"#fee08b\",\"#9e0142\",\"#9e0142\",\"#d53e4f\",\"#fee08b\",\"#3288bd\",\"#f46d43\",\"#d53e4f\",\"#66c2a5\",\"#5e4fa2\",\"#5e4fa2\",\"#9e0142\",\"#3288bd\",\"#fee08b\",\"#e6f598\",\"#abdda4\",\"#abdda4\",\"#f46d43\",\"#f46d43\",\"#f46d43\",\"#66c2a5\",\"#fdae61\",\"#3288bd\",\"#fdae61\",\"#5e4fa2\",\"#fdae61\",\"#9e0142\",\"#fee08b\",\"#d53e4f\",\"#3288bd\",\"#e6f598\",\"#5e4fa2\",\"#5e4fa2\",\"#abdda4\",\"#d53e4f\",\"#3288bd\",\"#fee08b\",\"#fee08b\",\"#fdae61\",\"#fee08b\",\"#f46d43\",\"#fee08b\",\"#5e4fa2\",\"#d53e4f\",\"#e6f598\",\"#fee08b\",\"#f46d43\",\"#9e0142\",\"#fdae61\",\"#f46d43\",\"#9e0142\",\"#f46d43\",\"#fee08b\",\"#3288bd\",\"#3288bd\",\"#fdae61\",\"#5e4fa2\",\"#fee08b\",\"#9e0142\",\"#fdae61\",\"#f46d43\",\"#9e0142\",\"#9e0142\",\"#fee08b\",\"#9e0142\",\"#5e4fa2\",\"#66c2a5\",\"#9e0142\",\"#f46d43\",\"#f46d43\",\"#abdda4\",\"#abdda4\",\"#fee08b\",\"#abdda4\",\"#9e0142\",\"#f46d43\",\"#9e0142\",\"#d53e4f\",\"#fdae61\",\"#e6f598\",\"#abdda4\",\"#d53e4f\",\"#3288bd\",\"#fee08b\",\"#fdae61\",\"#f46d43\",\"#3288bd\",\"#e6f598\",\"#9e0142\",\"#f46d43\",\"#3288bd\",\"#5e4fa2\",\"#abdda4\",\"#abdda4\",\"#fee08b\",\"#3288bd\",\"#fdae61\",\"#5e4fa2\",\"#5e4fa2\",\"#5e4fa2\",\"#fee08b\",\"#9e0142\",\"#e6f598\",\"#5e4fa2\",\"#abdda4\",\"#d53e4f\",\"#f46d43\",\"#d53e4f\",\"#5e4fa2\",\"#f46d43\",\"#66c2a5\",\"#e6f598\",\"#fee08b\",\"#9e0142\",\"#e6f598\",\"#5e4fa2\",\"#fee08b\",\"#5e4fa2\",\"#3288bd\",\"#9e0142\",\"#e6f598\",\"#fee08b\",\"#abdda4\",\"#e6f598\",\"#5e4fa2\",\"#e6f598\",\"#fdae61\",\"#d53e4f\",\"#3288bd\",\"#5e4fa2\",\"#66c2a5\",\"#fdae61\",\"#5e4fa2\",\"#66c2a5\",\"#fee08b\",\"#abdda4\",\"#f46d43\",\"#abdda4\",\"#fee08b\",\"#f46d43\",\"#9e0142\",\"#5e4fa2\",\"#f46d43\",\"#e6f598\",\"#d53e4f\",\"#66c2a5\",\"#5e4fa2\",\"#66c2a5\",\"#fee08b\",\"#5e4fa2\",\"#9e0142\",\"#e6f598\",\"#abdda4\",\"#abdda4\",\"#5e4fa2\",\"#e6f598\",\"#e6f598\",\"#3288bd\",\"#e6f598\",\"#abdda4\",\"#f46d43\",\"#fdae61\",\"#fee08b\",\"#fdae61\",\"#5e4fa2\",\"#abdda4\",\"#abdda4\",\"#3288bd\",\"#fdae61\",\"#3288bd\",\"#9e0142\",\"#abdda4\",\"#d53e4f\",\"#d53e4f\",\"#f46d43\",\"#fee08b\",\"#e6f598\",\"#fee08b\",\"#9e0142\",\"#fee08b\",\"#e6f598\",\"#3288bd\",\"#e6f598\",\"#9e0142\",\"#e6f598\",\"#e6f598\",\"#d53e4f\",\"#f46d43\",\"#9e0142\",\"#3288bd\",\"#3288bd\",\"#3288bd\",\"#d53e4f\",\"#d53e4f\",\"#fdae61\",\"#abdda4\",\"#abdda4\",\"#fee08b\",\"#abdda4\",\"#fee08b\",\"#66c2a5\",\"#fee08b\",\"#5e4fa2\",\"#d53e4f\",\"#f46d43\",\"#3288bd\",\"#d53e4f\",\"#5e4fa2\",\"#f46d43\",\"#abdda4\",\"#5e4fa2\",\"#5e4fa2\",\"#e6f598\",\"#d53e4f\",\"#f46d43\",\"#d53e4f\",\"#abdda4\",\"#fdae61\",\"#f46d43\",\"#fee08b\",\"#5e4fa2\",\"#9e0142\",\"#abdda4\",\"#d53e4f\",\"#abdda4\",\"#d53e4f\",\"#66c2a5\",\"#3288bd\",\"#5e4fa2\",\"#9e0142\",\"#d53e4f\",\"#5e4fa2\",\"#d53e4f\",\"#3288bd\",\"#abdda4\",\"#9e0142\",\"#fdae61\",\"#abdda4\",\"#f46d43\",\"#abdda4\",\"#f46d43\",\"#9e0142\",\"#fdae61\",\"#f46d43\",\"#abdda4\",\"#abdda4\",\"#d53e4f\",\"#f46d43\",\"#fee08b\",\"#9e0142\",\"#fee08b\",\"#fdae61\",\"#e6f598\",\"#3288bd\",\"#66c2a5\",\"#d53e4f\",\"#fee08b\",\"#3288bd\",\"#66c2a5\",\"#9e0142\",\"#66c2a5\",\"#f46d43\",\"#3288bd\",\"#3288bd\",\"#fee08b\",\"#f46d43\",\"#5e4fa2\",\"#fee08b\",\"#d53e4f\",\"#e6f598\",\"#9e0142\",\"#f46d43\",\"#fdae61\",\"#66c2a5\",\"#fee08b\",\"#f46d43\",\"#5e4fa2\",\"#fdae61\",\"#3288bd\",\"#9e0142\",\"#f46d43\",\"#abdda4\",\"#abdda4\",\"#5e4fa2\",\"#9e0142\",\"#5e4fa2\",\"#5e4fa2\",\"#9e0142\",\"#abdda4\",\"#5e4fa2\",\"#d53e4f\",\"#abdda4\",\"#fee08b\",\"#5e4fa2\",\"#f46d43\",\"#abdda4\",\"#f46d43\",\"#fee08b\",\"#66c2a5\",\"#e6f598\",\"#5e4fa2\",\"#d53e4f\",\"#3288bd\",\"#f46d43\",\"#5e4fa2\",\"#fee08b\",\"#abdda4\",\"#f46d43\",\"#f46d43\",\"#fdae61\",\"#abdda4\",\"#66c2a5\",\"#fdae61\",\"#d53e4f\",\"#fee08b\",\"#9e0142\",\"#3288bd\",\"#d53e4f\",\"#fee08b\",\"#66c2a5\",\"#3288bd\",\"#d53e4f\",\"#5e4fa2\",\"#3288bd\",\"#66c2a5\",\"#f46d43\",\"#fee08b\",\"#5e4fa2\",\"#f46d43\",\"#3288bd\",\"#e6f598\",\"#d53e4f\",\"#9e0142\",\"#e6f598\",\"#5e4fa2\",\"#66c2a5\",\"#fee08b\",\"#5e4fa2\",\"#fee08b\",\"#e6f598\",\"#3288bd\",\"#e6f598\",\"#e6f598\",\"#3288bd\",\"#3288bd\",\"#fdae61\",\"#3288bd\",\"#d53e4f\",\"#5e4fa2\",\"#d53e4f\",\"#abdda4\",\"#e6f598\",\"#abdda4\",\"#9e0142\",\"#5e4fa2\",\"#fdae61\",\"#fee08b\",\"#9e0142\",\"#66c2a5\",\"#fee08b\",\"#3288bd\",\"#66c2a5\",\"#e6f598\",\"#d53e4f\",\"#fdae61\",\"#fee08b\",\"#9e0142\",\"#d53e4f\",\"#fee08b\",\"#d53e4f\",\"#f46d43\",\"#fee08b\",\"#fdae61\",\"#9e0142\",\"#e6f598\",\"#d53e4f\",\"#9e0142\",\"#3288bd\",\"#fee08b\",\"#fee08b\",\"#3288bd\",\"#5e4fa2\",\"#e6f598\",\"#fee08b\",\"#fee08b\",\"#9e0142\",\"#d53e4f\",\"#abdda4\",\"#f46d43\",\"#f46d43\",\"#e6f598\",\"#9e0142\"],\"line_color\":[\"#fee08b\",\"#abdda4\",\"#3288bd\",\"#abdda4\",\"#3288bd\",\"#f46d43\",\"#f46d43\",\"#abdda4\",\"#f46d43\",\"#66c2a5\",\"#abdda4\",\"#5e4fa2\",\"#abdda4\",\"#fee08b\",\"#5e4fa2\",\"#abdda4\",\"#f46d43\",\"#abdda4\",\"#3288bd\",\"#fee08b\",\"#3288bd\",\"#d53e4f\",\"#f46d43\",\"#e6f598\",\"#5e4fa2\",\"#fdae61\",\"#3288bd\",\"#5e4fa2\",\"#66c2a5\",\"#66c2a5\",\"#5e4fa2\",\"#d53e4f\",\"#fdae61\",\"#d53e4f\",\"#f46d43\",\"#d53e4f\",\"#fee08b\",\"#d53e4f\",\"#5e4fa2\",\"#abdda4\",\"#abdda4\",\"#3288bd\",\"#e6f598\",\"#e6f598\",\"#5e4fa2\",\"#66c2a5\",\"#e6f598\",\"#5e4fa2\",\"#abdda4\",\"#abdda4\",\"#3288bd\",\"#66c2a5\",\"#fdae61\",\"#f46d43\",\"#abdda4\",\"#66c2a5\",\"#fdae61\",\"#f46d43\",\"#f46d43\",\"#e6f598\",\"#e6f598\",\"#3288bd\",\"#f46d43\",\"#9e0142\",\"#3288bd\",\"#66c2a5\",\"#fee08b\",\"#66c2a5\",\"#5e4fa2\",\"#9e0142\",\"#f46d43\",\"#9e0142\",\"#abdda4\",\"#d53e4f\",\"#e6f598\",\"#3288bd\",\"#fee08b\",\"#9e0142\",\"#fdae61\",\"#f46d43\",\"#d53e4f\",\"#abdda4\",\"#fee08b\",\"#abdda4\",\"#5e4fa2\",\"#abdda4\",\"#abdda4\",\"#3288bd\",\"#3288bd\",\"#f46d43\",\"#9e0142\",\"#abdda4\",\"#e6f598\",\"#abdda4\",\"#d53e4f\",\"#e6f598\",\"#3288bd\",\"#e6f598\",\"#5e4fa2\",\"#d53e4f\",\"#9e0142\",\"#66c2a5\",\"#9e0142\",\"#3288bd\",\"#fee08b\",\"#fdae61\",\"#66c2a5\",\"#3288bd\",\"#fee08b\",\"#9e0142\",\"#9e0142\",\"#d53e4f\",\"#fee08b\",\"#3288bd\",\"#f46d43\",\"#d53e4f\",\"#66c2a5\",\"#5e4fa2\",\"#5e4fa2\",\"#9e0142\",\"#3288bd\",\"#fee08b\",\"#e6f598\",\"#abdda4\",\"#abdda4\",\"#f46d43\",\"#f46d43\",\"#f46d43\",\"#66c2a5\",\"#fdae61\",\"#3288bd\",\"#fdae61\",\"#5e4fa2\",\"#fdae61\",\"#9e0142\",\"#fee08b\",\"#d53e4f\",\"#3288bd\",\"#e6f598\",\"#5e4fa2\",\"#5e4fa2\",\"#abdda4\",\"#d53e4f\",\"#3288bd\",\"#fee08b\",\"#fee08b\",\"#fdae61\",\"#fee08b\",\"#f46d43\",\"#fee08b\",\"#5e4fa2\",\"#d53e4f\",\"#e6f598\",\"#fee08b\",\"#f46d43\",\"#9e0142\",\"#fdae61\",\"#f46d43\",\"#9e0142\",\"#f46d43\",\"#fee08b\",\"#3288bd\",\"#3288bd\",\"#fdae61\",\"#5e4fa2\",\"#fee08b\",\"#9e0142\",\"#fdae61\",\"#f46d43\",\"#9e0142\",\"#9e0142\",\"#fee08b\",\"#9e0142\",\"#5e4fa2\",\"#66c2a5\",\"#9e0142\",\"#f46d43\",\"#f46d43\",\"#abdda4\",\"#abdda4\",\"#fee08b\",\"#abdda4\",\"#9e0142\",\"#f46d43\",\"#9e0142\",\"#d53e4f\",\"#fdae61\",\"#e6f598\",\"#abdda4\",\"#d53e4f\",\"#3288bd\",\"#fee08b\",\"#fdae61\",\"#f46d43\",\"#3288bd\",\"#e6f598\",\"#9e0142\",\"#f46d43\",\"#3288bd\",\"#5e4fa2\",\"#abdda4\",\"#abdda4\",\"#fee08b\",\"#3288bd\",\"#fdae61\",\"#5e4fa2\",\"#5e4fa2\",\"#5e4fa2\",\"#fee08b\",\"#9e0142\",\"#e6f598\",\"#5e4fa2\",\"#abdda4\",\"#d53e4f\",\"#f46d43\",\"#d53e4f\",\"#5e4fa2\",\"#f46d43\",\"#66c2a5\",\"#e6f598\",\"#fee08b\",\"#9e0142\",\"#e6f598\",\"#5e4fa2\",\"#fee08b\",\"#5e4fa2\",\"#3288bd\",\"#9e0142\",\"#e6f598\",\"#fee08b\",\"#abdda4\",\"#e6f598\",\"#5e4fa2\",\"#e6f598\",\"#fdae61\",\"#d53e4f\",\"#3288bd\",\"#5e4fa2\",\"#66c2a5\",\"#fdae61\",\"#5e4fa2\",\"#66c2a5\",\"#fee08b\",\"#abdda4\",\"#f46d43\",\"#abdda4\",\"#fee08b\",\"#f46d43\",\"#9e0142\",\"#5e4fa2\",\"#f46d43\",\"#e6f598\",\"#d53e4f\",\"#66c2a5\",\"#5e4fa2\",\"#66c2a5\",\"#fee08b\",\"#5e4fa2\",\"#9e0142\",\"#e6f598\",\"#abdda4\",\"#abdda4\",\"#5e4fa2\",\"#e6f598\",\"#e6f598\",\"#3288bd\",\"#e6f598\",\"#abdda4\",\"#f46d43\",\"#fdae61\",\"#fee08b\",\"#fdae61\",\"#5e4fa2\",\"#abdda4\",\"#abdda4\",\"#3288bd\",\"#fdae61\",\"#3288bd\",\"#9e0142\",\"#abdda4\",\"#d53e4f\",\"#d53e4f\",\"#f46d43\",\"#fee08b\",\"#e6f598\",\"#fee08b\",\"#9e0142\",\"#fee08b\",\"#e6f598\",\"#3288bd\",\"#e6f598\",\"#9e0142\",\"#e6f598\",\"#e6f598\",\"#d53e4f\",\"#f46d43\",\"#9e0142\",\"#3288bd\",\"#3288bd\",\"#3288bd\",\"#d53e4f\",\"#d53e4f\",\"#fdae61\",\"#abdda4\",\"#abdda4\",\"#fee08b\",\"#abdda4\",\"#fee08b\",\"#66c2a5\",\"#fee08b\",\"#5e4fa2\",\"#d53e4f\",\"#f46d43\",\"#3288bd\",\"#d53e4f\",\"#5e4fa2\",\"#f46d43\",\"#abdda4\",\"#5e4fa2\",\"#5e4fa2\",\"#e6f598\",\"#d53e4f\",\"#f46d43\",\"#d53e4f\",\"#abdda4\",\"#fdae61\",\"#f46d43\",\"#fee08b\",\"#5e4fa2\",\"#9e0142\",\"#abdda4\",\"#d53e4f\",\"#abdda4\",\"#d53e4f\",\"#66c2a5\",\"#3288bd\",\"#5e4fa2\",\"#9e0142\",\"#d53e4f\",\"#5e4fa2\",\"#d53e4f\",\"#3288bd\",\"#abdda4\",\"#9e0142\",\"#fdae61\",\"#abdda4\",\"#f46d43\",\"#abdda4\",\"#f46d43\",\"#9e0142\",\"#fdae61\",\"#f46d43\",\"#abdda4\",\"#abdda4\",\"#d53e4f\",\"#f46d43\",\"#fee08b\",\"#9e0142\",\"#fee08b\",\"#fdae61\",\"#e6f598\",\"#3288bd\",\"#66c2a5\",\"#d53e4f\",\"#fee08b\",\"#3288bd\",\"#66c2a5\",\"#9e0142\",\"#66c2a5\",\"#f46d43\",\"#3288bd\",\"#3288bd\",\"#fee08b\",\"#f46d43\",\"#5e4fa2\",\"#fee08b\",\"#d53e4f\",\"#e6f598\",\"#9e0142\",\"#f46d43\",\"#fdae61\",\"#66c2a5\",\"#fee08b\",\"#f46d43\",\"#5e4fa2\",\"#fdae61\",\"#3288bd\",\"#9e0142\",\"#f46d43\",\"#abdda4\",\"#abdda4\",\"#5e4fa2\",\"#9e0142\",\"#5e4fa2\",\"#5e4fa2\",\"#9e0142\",\"#abdda4\",\"#5e4fa2\",\"#d53e4f\",\"#abdda4\",\"#fee08b\",\"#5e4fa2\",\"#f46d43\",\"#abdda4\",\"#f46d43\",\"#fee08b\",\"#66c2a5\",\"#e6f598\",\"#5e4fa2\",\"#d53e4f\",\"#3288bd\",\"#f46d43\",\"#5e4fa2\",\"#fee08b\",\"#abdda4\",\"#f46d43\",\"#f46d43\",\"#fdae61\",\"#abdda4\",\"#66c2a5\",\"#fdae61\",\"#d53e4f\",\"#fee08b\",\"#9e0142\",\"#3288bd\",\"#d53e4f\",\"#fee08b\",\"#66c2a5\",\"#3288bd\",\"#d53e4f\",\"#5e4fa2\",\"#3288bd\",\"#66c2a5\",\"#f46d43\",\"#fee08b\",\"#5e4fa2\",\"#f46d43\",\"#3288bd\",\"#e6f598\",\"#d53e4f\",\"#9e0142\",\"#e6f598\",\"#5e4fa2\",\"#66c2a5\",\"#fee08b\",\"#5e4fa2\",\"#fee08b\",\"#e6f598\",\"#3288bd\",\"#e6f598\",\"#e6f598\",\"#3288bd\",\"#3288bd\",\"#fdae61\",\"#3288bd\",\"#d53e4f\",\"#5e4fa2\",\"#d53e4f\",\"#abdda4\",\"#e6f598\",\"#abdda4\",\"#9e0142\",\"#5e4fa2\",\"#fdae61\",\"#fee08b\",\"#9e0142\",\"#66c2a5\",\"#fee08b\",\"#3288bd\",\"#66c2a5\",\"#e6f598\",\"#d53e4f\",\"#fdae61\",\"#fee08b\",\"#9e0142\",\"#d53e4f\",\"#fee08b\",\"#d53e4f\",\"#f46d43\",\"#fee08b\",\"#fdae61\",\"#9e0142\",\"#e6f598\",\"#d53e4f\",\"#9e0142\",\"#3288bd\",\"#fee08b\",\"#fee08b\",\"#3288bd\",\"#5e4fa2\",\"#e6f598\",\"#fee08b\",\"#fee08b\",\"#9e0142\",\"#d53e4f\",\"#abdda4\",\"#f46d43\",\"#f46d43\",\"#e6f598\",\"#9e0142\"],\"x\":{\"__ndarray__\":\"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\",\"dtype\":\"float32\",\"shape\":[500]},\"y\":{\"__ndarray__\":\"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\",\"dtype\":\"float32\",\"shape\":[500]}}},\"id\":\"7168f276-a4cd-4c30-b692-5e9b40f546ce\",\"type\":\"ColumnDataSource\"},{\"attributes\":{\"dimension\":1,\"plot\":{\"id\":\"6e98ce6a-d421-4eb3-ac13-da2c682d58b2\",\"subtype\":\"Figure\",\"type\":\"Plot\"},\"ticker\":{\"id\":\"8fb5c677-7238-4deb-ad7a-60c5395b5231\",\"type\":\"BasicTicker\"}},\"id\":\"2ad7e993-04b3-4332-a36e-4681eb0eae0e\",\"type\":\"Grid\"}],\"root_ids\":[\"6e98ce6a-d421-4eb3-ac13-da2c682d58b2\"]},\"title\":\"Bokeh Application\",\"version\":\"0.12.10\"}};\n",
       "    var render_items = [{\"docid\":\"f1be8f2b-b81a-451b-96ec-ba13614e71a9\",\"elementid\":\"4d0b8e8f-3dea-4f25-b09d-938a969c184b\",\"modelid\":\"6e98ce6a-d421-4eb3-ac13-da2c682d58b2\"}];\n",
       "\n",
       "    root.Bokeh.embed.embed_items(docs_json, render_items);\n",
       "  }\n",
       "\n",
       "  if (root.Bokeh !== undefined) {\n",
       "    embed_document(root);\n",
       "  } else {\n",
       "    var attempts = 0;\n",
       "    var timer = setInterval(function(root) {\n",
       "      if (root.Bokeh !== undefined) {\n",
       "        embed_document(root);\n",
       "        clearInterval(timer);\n",
       "      }\n",
       "      attempts++;\n",
       "      if (attempts > 100) {\n",
       "        console.log(\"Bokeh: ERROR: Unable to embed document because BokehJS library is missing\")\n",
       "        clearInterval(timer);\n",
       "      }\n",
       "    }, 10, root)\n",
       "  }\n",
       "})(window);"
      ],
      "application/vnd.bokehjs_exec.v0+json": ""
     },
     "metadata": {
      "application/vnd.bokehjs_exec.v0+json": {
       "id": "6e98ce6a-d421-4eb3-ac13-da2c682d58b2"
      }
     },
     "output_type": "display_data"
    }
   ],
   "source": [
    "color_map = brewer[\"Spectral\"][len(np.unique(label))]\n",
    "colors = [color_map[x] for x in label]\n",
    "p = figure(title = \"Latent Space\")\n",
    "p.xaxis.axis_label = 'x_1'\n",
    "p.yaxis.axis_label = 'x_2'\n",
    "p.circle(lat_val[:, 0].asnumpy(), lat_val[:, 1].asnumpy(), color=colors, fill_alpha=.7, size=5)\n",
    "#output_file(\"latent_space.html\", title=\"mnist VAE example\")\n",
    "show(p)"
   ]
  },
  {
   "cell_type": "markdown",
   "metadata": {},
   "source": [
    "## Generate Images"
   ]
  },
  {
   "cell_type": "code",
   "execution_count": 21,
   "metadata": {
    "ExecuteTime": {
     "end_time": "2018-01-18T23:05:27.982899Z",
     "start_time": "2018-01-18T23:05:27.815433Z"
    }
   },
   "outputs": [
    {
     "data": {
      "image/png": "[encoded data removed]",
      "text/plain": [
       "<matplotlib.figure.Figure at 0x7fb3440db7b8>"
      ]
     },
     "metadata": {},
     "output_type": "display_data"
    }
   ],
   "source": [
    "zsamples = nd.array(np.random.randn(n_samples*n_samples, LATENT_DIM))\n",
    "images = vae2.dec(zsamples.as_in_context(gpu_ctx)).asnumpy()\n",
    "\n",
    "canvas = np.empty((28*n_samples, 28*n_samples))\n",
    "for i, img in enumerate(images):\n",
    "    x = i // n_samples\n",
    "    y = i % n_samples\n",
    "    canvas[(n_samples-y-1)*28:(n_samples-y)*28, x*28:(x+1)*28] = img.reshape(28, 28)\n",
    "plt.figure(figsize=(4, 4))        \n",
    "plt.imshow(canvas, origin=\"upper\", cmap=\"Greys\")\n",
    "plt.axis('off')\n",
    "plt.tight_layout()"
   ]
  }
 ],
 "metadata": {
  "anaconda-cloud": {},
  "kernelspec": {
   "display_name": "Python [conda env:kion_venv_mxnet]",
   "language": "python",
   "name": "conda-env-kion_venv_mxnet-py"
  },
  "language_info": {
   "codemirror_mode": {
    "name": "ipython",
    "version": 3
   },
   "file_extension": ".py",
   "mimetype": "text/x-python",
   "name": "python",
   "nbconvert_exporter": "python",
   "pygments_lexer": "ipython3",
   "version": "3.6.3"
  },
  "toc": {
   "nav_menu": {},
   "number_sections": true,
   "sideBar": true,
   "skip_h1_title": false,
   "toc_cell": false,
   "toc_position": {},
   "toc_section_display": "block",
   "toc_window_display": false
  }
 },
 "nbformat": 4,
 "nbformat_minor": 2
}
