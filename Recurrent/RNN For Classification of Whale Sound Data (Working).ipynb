{
 "cells": [
  {
   "cell_type": "code",
   "execution_count": 81,
   "metadata": {
    "ExecuteTime": {
     "end_time": "2018-01-25T08:47:03.437328Z",
     "start_time": "2018-01-25T08:47:03.423842Z"
    }
   },
   "outputs": [],
   "source": [
    "import aifc # ReadAIFF\n",
    "\n",
    "import math\n",
    "import os\n",
    "import time\n",
    "import numpy as np\n",
    "import pandas as pd\n",
    "\n",
    "import mxnet as mx\n",
    "from mxnet import nd, gluon, autograd\n",
    "from mxnet.gluon import nn, rnn\n",
    "ctx = mx.cpu(0)\n",
    "\n",
    "import matplotlib.pyplot as plt\n",
    "# from matplotlib import mlab\n",
    "# import matplotlib\n",
    "\n",
    "%matplotlib inline\n",
    "\n"
   ]
  },
  {
   "cell_type": "code",
   "execution_count": 2,
   "metadata": {
    "ExecuteTime": {
     "end_time": "2018-01-25T07:46:47.548090Z",
     "start_time": "2018-01-25T07:46:47.544416Z"
    },
    "collapsed": true
   },
   "outputs": [],
   "source": [
    "# Set path to directory with folders train and test\n",
    "path_data = '/Users/HONG_Mac/Desktop/whale_sound_analysis/'"
   ]
  },
  {
   "cell_type": "markdown",
   "metadata": {},
   "source": [
    "##### Whale Sound Data"
   ]
  },
  {
   "cell_type": "code",
   "execution_count": 3,
   "metadata": {
    "ExecuteTime": {
     "end_time": "2018-01-25T07:46:48.044638Z",
     "start_time": "2018-01-25T07:46:48.039203Z"
    },
    "collapsed": true
   },
   "outputs": [],
   "source": [
    "# ReadAIFF function\n",
    "def ReadAIFF(file):\n",
    "# Reads the frames from the audio clip and returns the uncompressed data\n",
    "    s = aifc.open(file,'r')\n",
    "    nFrames = s.getnframes()\n",
    "    strSig = s.readframes(nFrames)\n",
    "    return np.fromstring(strSig, np.short).byteswap()\n"
   ]
  },
  {
   "cell_type": "code",
   "execution_count": 4,
   "metadata": {
    "ExecuteTime": {
     "end_time": "2018-01-25T07:46:48.276308Z",
     "start_time": "2018-01-25T07:46:48.251249Z"
    }
   },
   "outputs": [
    {
     "data": {
      "text/html": [
       "<div>\n",
       "<style>\n",
       "    .dataframe thead tr:only-child th {\n",
       "        text-align: right;\n",
       "    }\n",
       "\n",
       "    .dataframe thead th {\n",
       "        text-align: left;\n",
       "    }\n",
       "\n",
       "    .dataframe tbody tr th {\n",
       "        vertical-align: top;\n",
       "    }\n",
       "</style>\n",
       "<table border=\"1\" class=\"dataframe\">\n",
       "  <thead>\n",
       "    <tr style=\"text-align: right;\">\n",
       "      <th></th>\n",
       "      <th>0</th>\n",
       "      <th>1</th>\n",
       "      <th>2</th>\n",
       "      <th>3</th>\n",
       "      <th>4</th>\n",
       "      <th>5</th>\n",
       "      <th>6</th>\n",
       "      <th>7</th>\n",
       "      <th>8</th>\n",
       "      <th>9</th>\n",
       "      <th>...</th>\n",
       "      <th>3990</th>\n",
       "      <th>3991</th>\n",
       "      <th>3992</th>\n",
       "      <th>3993</th>\n",
       "      <th>3994</th>\n",
       "      <th>3995</th>\n",
       "      <th>3996</th>\n",
       "      <th>3997</th>\n",
       "      <th>3998</th>\n",
       "      <th>3999</th>\n",
       "    </tr>\n",
       "  </thead>\n",
       "  <tbody>\n",
       "    <tr>\n",
       "      <th>0</th>\n",
       "      <td>42</td>\n",
       "      <td>-486</td>\n",
       "      <td>-22</td>\n",
       "      <td>190</td>\n",
       "      <td>-102</td>\n",
       "      <td>-36</td>\n",
       "      <td>0</td>\n",
       "      <td>-45</td>\n",
       "      <td>-194</td>\n",
       "      <td>194</td>\n",
       "      <td>...</td>\n",
       "      <td>-221</td>\n",
       "      <td>-99</td>\n",
       "      <td>523</td>\n",
       "      <td>185</td>\n",
       "      <td>-414</td>\n",
       "      <td>-324</td>\n",
       "      <td>203</td>\n",
       "      <td>219</td>\n",
       "      <td>-155</td>\n",
       "      <td>-32</td>\n",
       "    </tr>\n",
       "  </tbody>\n",
       "</table>\n",
       "<p>1 rows × 4000 columns</p>\n",
       "</div>"
      ],
      "text/plain": [
       "   0     1     2     3     4     5     6     7     8     9     ...   3990  \\\n",
       "0    42  -486   -22   190  -102   -36     0   -45  -194   194  ...   -221   \n",
       "\n",
       "   3991  3992  3993  3994  3995  3996  3997  3998  3999  \n",
       "0   -99   523   185  -414  -324   203   219  -155   -32  \n",
       "\n",
       "[1 rows x 4000 columns]"
      ]
     },
     "execution_count": 4,
     "metadata": {},
     "output_type": "execute_result"
    }
   ],
   "source": [
    "# AIFF Data\n",
    "s = ReadAIFF(path_data + 'train/train6.aiff')\n",
    "pd.DataFrame(s).T\n",
    "\n",
    "# 결과: 2000Hz의 2초 사운드 클립마다 프레임의 채널에서 압축되지 않은 샘플의 4000개 진폭값"
   ]
  },
  {
   "cell_type": "code",
   "execution_count": 5,
   "metadata": {
    "ExecuteTime": {
     "end_time": "2018-01-25T07:46:48.592779Z",
     "start_time": "2018-01-25T07:46:48.468812Z"
    }
   },
   "outputs": [
    {
     "name": "stdout",
     "output_type": "stream",
     "text": [
      "clip_name,label\r\n",
      "train1.aiff,0\r\n",
      "train2.aiff,0\r\n",
      "train3.aiff,0\r\n",
      "train4.aiff,0\r\n",
      "train5.aiff,0\r\n",
      "train6.aiff,1\r\n",
      "train7.aiff,1\r\n",
      "train8.aiff,0\r\n",
      "train9.aiff,1\r\n"
     ]
    }
   ],
   "source": [
    "# Label Data\n",
    "!head train.csv"
   ]
  },
  {
   "cell_type": "markdown",
   "metadata": {},
   "source": [
    "##### Load Data"
   ]
  },
  {
   "cell_type": "code",
   "execution_count": 100,
   "metadata": {
    "ExecuteTime": {
     "end_time": "2018-01-25T08:54:46.290014Z",
     "start_time": "2018-01-25T08:54:27.130545Z"
    },
    "collapsed": true
   },
   "outputs": [],
   "source": [
    "import csv\n",
    "import random\n",
    "\n",
    "train_label = []\n",
    "train_sound = []\n",
    "\n",
    "valid_label = []\n",
    "valid_sound = []\n",
    "\n",
    "valid_frac = 0.3\n",
    "\n",
    "f = open('train.csv', 'r')\n",
    "rdr = csv.reader(f)\n",
    "skip_header = next(rdr)\n",
    "for line in rdr:\n",
    "    s = ReadAIFF(path_data + 'train/' + line[0])\n",
    "    if random.random() > valid_frac:\n",
    "        train_label.append(line[1])\n",
    "        train_sound.append(list(s))\n",
    "    else:\n",
    "        valid_label.append(line[1])\n",
    "        valid_sound.append(list(s))\n",
    "\n",
    "f.close()"
   ]
  },
  {
   "cell_type": "code",
   "execution_count": 102,
   "metadata": {
    "ExecuteTime": {
     "end_time": "2018-01-25T08:55:16.557080Z",
     "start_time": "2018-01-25T08:54:58.970599Z"
    }
   },
   "outputs": [],
   "source": [
    "from sklearn import preprocessing\n",
    "scaler = preprocessing.MinMaxScaler()\n",
    "train_sound = scaler.fit_transform(pd.DataFrame(np.array(train_sound)))\n",
    "valid_sound = scaler.fit_transform(pd.DataFrame(np.array(valid_sound)))"
   ]
  },
  {
   "cell_type": "code",
   "execution_count": 103,
   "metadata": {
    "ExecuteTime": {
     "end_time": "2018-01-25T08:55:17.324431Z",
     "start_time": "2018-01-25T08:55:16.559224Z"
    },
    "collapsed": true
   },
   "outputs": [],
   "source": [
    "train_label = mx.nd.array(train_label)\n",
    "train_sound = mx.nd.array(train_sound)\n",
    "valid_label = mx.nd.array(valid_label)\n",
    "valid_sound = mx.nd.array(valid_sound)"
   ]
  },
  {
   "cell_type": "code",
   "execution_count": 104,
   "metadata": {
    "ExecuteTime": {
     "end_time": "2018-01-25T08:55:17.501815Z",
     "start_time": "2018-01-25T08:55:17.326350Z"
    }
   },
   "outputs": [
    {
     "data": {
      "text/plain": [
       "[<matplotlib.lines.Line2D at 0x1b250d73c8>]"
      ]
     },
     "execution_count": 104,
     "metadata": {},
     "output_type": "execute_result"
    },
    {
     "data": {
      "image/png": "[encoded data removed]",
      "text/plain": [
       "<matplotlib.figure.Figure at 0x1b24e41e10>"
      ]
     },
     "metadata": {},
     "output_type": "display_data"
    }
   ],
   "source": [
    "plt.plot(train_sound[0].asnumpy())"
   ]
  },
  {
   "cell_type": "code",
   "execution_count": 105,
   "metadata": {
    "ExecuteTime": {
     "end_time": "2018-01-25T08:55:17.668753Z",
     "start_time": "2018-01-25T08:55:17.504057Z"
    }
   },
   "outputs": [
    {
     "data": {
      "text/plain": [
       "[<matplotlib.lines.Line2D at 0x1a105e0b38>]"
      ]
     },
     "execution_count": 105,
     "metadata": {},
     "output_type": "execute_result"
    },
    {
     "data": {
      "image/png": "[encoded data removed]",
      "text/plain": [
       "<matplotlib.figure.Figure at 0x1b241ccc88>"
      ]
     },
     "metadata": {},
     "output_type": "display_data"
    }
   ],
   "source": [
    "plt.plot(train_sound[6].asnumpy())"
   ]
  },
  {
   "cell_type": "code",
   "execution_count": 8,
   "metadata": {
    "ExecuteTime": {
     "end_time": "2018-01-25T07:47:20.572770Z",
     "start_time": "2018-01-25T07:47:20.565517Z"
    }
   },
   "outputs": [
    {
     "name": "stdout",
     "output_type": "stream",
     "text": [
      "train_label.shape (21060,)\n",
      "train_sound.shape (21060, 4000)\n",
      "valid_label.shape (8940,)\n",
      "valid_sound.shape (8940, 4000)\n"
     ]
    }
   ],
   "source": [
    "print(\"train_label.shape\", train_label.shape)\n",
    "print(\"train_sound.shape\", train_sound.shape)\n",
    "print(\"valid_label.shape\", valid_label.shape)\n",
    "print(\"valid_sound.shape\", valid_sound.shape)"
   ]
  },
  {
   "cell_type": "code",
   "execution_count": null,
   "metadata": {
    "ExecuteTime": {
     "end_time": "2018-01-24T17:16:58.245241Z",
     "start_time": "2018-01-24T17:16:58.237972Z"
    },
    "collapsed": true
   },
   "outputs": [],
   "source": []
  },
  {
   "cell_type": "code",
   "execution_count": null,
   "metadata": {
    "collapsed": true
   },
   "outputs": [],
   "source": [
    "def one_hot_encode(label):\n",
    "    n_label = len(label)\n",
    "    n_unique_label = len(np.unique(label.asnumpy()))\n",
    "    res = nd.zeros((n_label, n_unique_label), ctx=ctx)\n",
    "    res[nd.arange(n_label), label] = 1.0\n",
    "    #for i, idx in enumerate(label):\n",
    "    #    res[i, idx] = 1.0\n",
    "    return res"
   ]
  },
  {
   "cell_type": "code",
   "execution_count": 51,
   "metadata": {
    "ExecuteTime": {
     "end_time": "2018-01-25T08:35:29.716152Z",
     "start_time": "2018-01-25T08:35:29.709008Z"
    },
    "collapsed": true
   },
   "outputs": [],
   "source": [
    "train_label = one_hot_encode(train_label)\n",
    "valid_label = one_hot_encode(valid_label)"
   ]
  },
  {
   "cell_type": "code",
   "execution_count": null,
   "metadata": {
    "collapsed": true
   },
   "outputs": [],
   "source": []
  },
  {
   "cell_type": "markdown",
   "metadata": {},
   "source": [
    "##### Comprehension of GRU Block"
   ]
  },
  {
   "cell_type": "code",
   "execution_count": 52,
   "metadata": {
    "ExecuteTime": {
     "end_time": "2018-01-25T08:35:31.156935Z",
     "start_time": "2018-01-25T08:35:31.140618Z"
    }
   },
   "outputs": [
    {
     "name": "stdout",
     "output_type": "stream",
     "text": [
      "layer GRU(None -> 6, TNC, num_layers=3)\n",
      "input.shape (5, 1, 10)\n"
     ]
    }
   ],
   "source": [
    "layer = mx.gluon.rnn.GRU(2, 3) # (num_hidden, num_layers)\n",
    "layer.initialize()\n",
    "print('layer', layer)\n",
    "\n",
    "# GRU INPUT 1 : DATA\n",
    "input = mx.nd.random.uniform(shape=(5, 1, 10)) # (sequence_length, batch_size, feature_dims)\n",
    "print(\"input.shape\", input.shape)\n",
    "\n",
    "# layout (str, default 'TNC') – The format of input and output tensors.\n",
    "# T, N and C stand for sequence length, batch size, and feature dimensions respectively.\n",
    "\n",
    "# Expected OUTPUT Shape: (5, 1, 2) # (sequence_length, batch_size, feature_dims)\n",
    "# Expected RECURRENT STATE Shape: (1, 2, 3) # (num_layers, batch_size, num_hidden)"
   ]
  },
  {
   "cell_type": "code",
   "execution_count": 53,
   "metadata": {
    "ExecuteTime": {
     "end_time": "2018-01-25T08:35:31.657014Z",
     "start_time": "2018-01-25T08:35:31.637359Z"
    }
   },
   "outputs": [
    {
     "name": "stdout",
     "output_type": "stream",
     "text": [
      "output.shape (5, 1, 2)\n",
      "hn[0].shape (3, 1, 2)\n"
     ]
    }
   ],
   "source": [
    "# Manually specify begin state.\n",
    "\n",
    "# GRU INPUT 2 (Optional) : STATES\n",
    "h0 = mx.nd.random.uniform(shape=(3, 1, 2)) # (num_layers, batch_size, num_hidden)\n",
    "output, hn = layer(input, h0)\n",
    "print(\"output.shape\", output.shape)\n",
    "print(\"hn[0].shape\", hn[0].shape)"
   ]
  },
  {
   "cell_type": "code",
   "execution_count": 54,
   "metadata": {
    "ExecuteTime": {
     "end_time": "2018-01-25T08:35:34.557520Z",
     "start_time": "2018-01-25T08:35:34.540567Z"
    }
   },
   "outputs": [
    {
     "name": "stdout",
     "output_type": "stream",
     "text": [
      "output.shape (5, 1, 2)\n"
     ]
    }
   ],
   "source": [
    "# By default, zeros are used as begin state\n",
    "# Same As h0 = nd.zeros(shape=(3, 1, 2)) \n",
    "output = layer(input)\n",
    "print(\"output.shape\", output.shape)"
   ]
  },
  {
   "cell_type": "code",
   "execution_count": null,
   "metadata": {
    "collapsed": true
   },
   "outputs": [],
   "source": []
  },
  {
   "cell_type": "markdown",
   "metadata": {},
   "source": [
    "##### Comprehension of LSTM Block"
   ]
  },
  {
   "cell_type": "code",
   "execution_count": 55,
   "metadata": {
    "ExecuteTime": {
     "end_time": "2018-01-25T08:35:35.307755Z",
     "start_time": "2018-01-25T08:35:35.292213Z"
    }
   },
   "outputs": [
    {
     "name": "stdout",
     "output_type": "stream",
     "text": [
      "layer LSTM(None -> 8, TNC, num_layers=3)\n",
      "input.shape (5, 1, 10)\n"
     ]
    }
   ],
   "source": [
    "layer = mx.gluon.rnn.LSTM(2, 3) # (num_hidden, num_layers)\n",
    "layer.initialize()\n",
    "print('layer', layer)\n",
    "\n",
    "# LSTM INPUT 1 : DATA\n",
    "input = mx.nd.random.uniform(shape=(5, 1, 10)) # (sequence_length, batch_size, feature_dims)\n",
    "print(\"input.shape\", input.shape)\n",
    "\n",
    "# layout (str, default 'TNC') – The format of input and output tensors.\n",
    "# T, N and C stand for sequence length, batch size, and feature dimensions respectively.\n",
    "\n",
    "# Expected OUTPUT Shape: (5, 1, 2) # (sequence_length, batch_size, feature_dims)\n",
    "# Expected RECURRENT STATE Shape: (1, 2, 3) # (num_layers, batch_size, num_hidden)"
   ]
  },
  {
   "cell_type": "code",
   "execution_count": 56,
   "metadata": {
    "ExecuteTime": {
     "end_time": "2018-01-25T08:35:35.503025Z",
     "start_time": "2018-01-25T08:35:35.483990Z"
    }
   },
   "outputs": [
    {
     "name": "stdout",
     "output_type": "stream",
     "text": [
      "output.shape (5, 1, 2)\n",
      "hn[0].shape (3, 1, 2)\n"
     ]
    }
   ],
   "source": [
    "# Manually specify begin state.\n",
    "\n",
    "# LSTM INPUT 2 (Optional) : STATES\n",
    "h0 = mx.nd.random.uniform(shape=(3, 1, 2)) # (num_layers, batch_size, num_hidden)\n",
    "c0 = mx.nd.random.uniform(shape=(3, 1, 2)) # (num_layers, batch_size, num_hidden)\n",
    "output, hn = layer(input, [h0, c0])\n",
    "print(\"output.shape\", output.shape)\n",
    "print(\"hn[0].shape\", hn[0].shape)"
   ]
  },
  {
   "cell_type": "code",
   "execution_count": 57,
   "metadata": {
    "ExecuteTime": {
     "end_time": "2018-01-25T08:35:35.893288Z",
     "start_time": "2018-01-25T08:35:35.877219Z"
    }
   },
   "outputs": [
    {
     "name": "stdout",
     "output_type": "stream",
     "text": [
      "output.shape (5, 1, 2)\n"
     ]
    }
   ],
   "source": [
    "# By default, zeros are used as begin state\n",
    "# Same As h0 = nd.zeros(shape=(3, 1, 2)) \n",
    "\n",
    "output = layer(input)\n",
    "print(\"output.shape\", output.shape)"
   ]
  },
  {
   "cell_type": "code",
   "execution_count": null,
   "metadata": {
    "collapsed": true
   },
   "outputs": [],
   "source": []
  },
  {
   "cell_type": "markdown",
   "metadata": {},
   "source": [
    "##### Model Block"
   ]
  },
  {
   "cell_type": "code",
   "execution_count": 58,
   "metadata": {
    "ExecuteTime": {
     "end_time": "2018-01-25T08:35:39.916121Z",
     "start_time": "2018-01-25T08:35:39.853682Z"
    },
    "collapsed": true
   },
   "outputs": [],
   "source": [
    "class RNNModel(gluon.Block):\n",
    "    \"\"\"A model with an encoder, recurrent layer, and a decoder.\"\"\"\n",
    "\n",
    "    def __init__(self, mode, num_hidden, num_layers, dropout=0.5, bidirectional=False, **kwargs):\n",
    "        super(RNNModel, self).__init__(**kwargs)\n",
    "        with self.name_scope():\n",
    "            self.drop = nn.Dropout(dropout)\n",
    "            \n",
    "            if mode == 'rnn_relu':\n",
    "                self.rnn = rnn.RNN(num_hidden, num_layers, activation='relu', dropout=dropout, bidirectional=bidirectional)\n",
    "                \n",
    "            elif mode == 'rnn_tanh':\n",
    "                self.rnn = rnn.RNN(num_hidden, num_layers, dropout=dropout, bidirectional=bidirectional)\n",
    "                \n",
    "            elif mode == 'lstm':\n",
    "                self.rnn = rnn.LSTM(num_hidden, num_layers, dropout=dropout, bidirectional=bidirectional)\n",
    "                \n",
    "            elif mode == 'gru':\n",
    "                self.rnn = rnn.GRU(num_hidden, num_layers, dropout=dropout, bidirectional=bidirectional)\n",
    "                \n",
    "            else:\n",
    "                raise ValueError(\"Invalid mode %s. Options are rnn_relu, rnn_tanh, lstm, and gru\"%mode)\n",
    "                \n",
    "            self.num_hidden = num_hidden\n",
    "            \n",
    "            self.flatten = nn.Flatten()\n",
    "            self.dense = nn.Dense(10, activation=\"relu\")\n",
    "            self.pred  = nn.Dense(2)\n",
    "\n",
    "    def forward(self, inputs, hidden):\n",
    "        output, hidden = self.rnn(inputs, hidden)\n",
    "        flatted = self.flatten(nd.transpose(output,(1,0,2)))\n",
    "        densed = self.dense(flatted)\n",
    "        preded = self.pred(densed)\n",
    "        return preded, hidden\n",
    "        #return output, hidden\n",
    "\n",
    "    def begin_state(self, *args, **kwargs):\n",
    "        return self.rnn.begin_state(*args, **kwargs)"
   ]
  },
  {
   "cell_type": "code",
   "execution_count": 59,
   "metadata": {
    "ExecuteTime": {
     "end_time": "2018-01-25T08:35:45.828140Z",
     "start_time": "2018-01-25T08:35:45.820315Z"
    },
    "collapsed": true
   },
   "outputs": [],
   "source": [
    "args_model = 'rnn_relu'\n",
    "args_batch_size = 1000\n",
    "args_nhid = 5\n",
    "args_nlayers = 2\n",
    "args_lr = 1.0\n",
    "args_clip = 0.2\n",
    "args_epochs = 1\n",
    "#args_bptt = 5\n",
    "args_dropout = 0.2\n",
    "args_log_interval = 3\n",
    "args_save = 'model.param'\n",
    "args_bidirect = False"
   ]
  },
  {
   "cell_type": "code",
   "execution_count": 66,
   "metadata": {
    "ExecuteTime": {
     "end_time": "2018-01-25T08:41:38.809714Z",
     "start_time": "2018-01-25T08:41:38.800455Z"
    }
   },
   "outputs": [
    {
     "name": "stdout",
     "output_type": "stream",
     "text": [
      "RNNModel(\n",
      "  (drop): Dropout(p = 0.2)\n",
      "  (rnn): RNN(None -> 5, TNC, num_layers=2, dropout=0.2)\n",
      "  (flatten): Flatten\n",
      "  (dense): Dense(None -> 10, Activation(relu))\n",
      "  (pred): Dense(None -> 2, linear)\n",
      ")\n"
     ]
    }
   ],
   "source": [
    "model = RNNModel(args_model, args_nhid, args_nlayers, dropout=args_dropout, bidirectional=args_bidirect)\n",
    "model.collect_params().initialize(mx.init.Xavier(), ctx=ctx)\n",
    "print(model)"
   ]
  },
  {
   "cell_type": "code",
   "execution_count": null,
   "metadata": {
    "collapsed": true
   },
   "outputs": [],
   "source": [
    "trainer = gluon.Trainer(model.collect_params(), 'sgd', {'learning_rate': args_lr, 'momentum': 0, 'wd': 0})\n",
    "loss = gluon.loss.SoftmaxCrossEntropyLoss()"
   ]
  },
  {
   "cell_type": "code",
   "execution_count": 67,
   "metadata": {
    "ExecuteTime": {
     "end_time": "2018-01-25T08:42:47.282339Z",
     "start_time": "2018-01-25T08:42:47.278206Z"
    }
   },
   "outputs": [
    {
     "data": {
      "text/plain": [
       "<mxnet.gluon.trainer.Trainer at 0x1a0e68e630>"
      ]
     },
     "execution_count": 67,
     "metadata": {},
     "output_type": "execute_result"
    }
   ],
   "source": [
    "trainer"
   ]
  },
  {
   "cell_type": "code",
   "execution_count": 62,
   "metadata": {
    "ExecuteTime": {
     "end_time": "2018-01-25T08:35:49.233715Z",
     "start_time": "2018-01-25T08:35:49.228016Z"
    },
    "collapsed": true
   },
   "outputs": [],
   "source": [
    "# Starting each batch, we detach the hidden state from how it was previously produced.\n",
    "# If we didn't, the model would try backpropagating all the way to start of the dataset.\n",
    "# (참고) Why we need to detach variable which contains hidden representation\n",
    "# https://discuss.pytorch.org/t/solved-why-we-need-to-detach-variable-which-contains-hidden-representation/1426\n",
    "\n",
    "# NDArray.detach: Returns a new NDArray, detached from the current graph.\n",
    "def detach(hidden):\n",
    "    if isinstance(hidden, (tuple, list)):\n",
    "        hidden = [i.detach() for i in hidden]\n",
    "    else:\n",
    "        hidden = hidden.detach()\n",
    "    return hidden"
   ]
  },
  {
   "cell_type": "code",
   "execution_count": null,
   "metadata": {
    "collapsed": true
   },
   "outputs": [],
   "source": []
  },
  {
   "cell_type": "code",
   "execution_count": 63,
   "metadata": {
    "ExecuteTime": {
     "end_time": "2018-01-25T08:35:49.870890Z",
     "start_time": "2018-01-25T08:35:49.859985Z"
    },
    "collapsed": true
   },
   "outputs": [],
   "source": [
    "def eval(data_source):\n",
    "    total_L = 0.0\n",
    "    ntotal = 0\n",
    "    hidden = model.begin_state(func = mx.nd.zeros, batch_size = args_batch_size, ctx=ctx)\n",
    "    for data, target in data_source:\n",
    "        data = mx.nd.reshape(data, (data.shape[1], data.shape[0], 1))\n",
    "        output, hidden = model(data, hidden)\n",
    "        L = loss(output, target)\n",
    "        total_L += mx.nd.sum(L).asscalar()\n",
    "        ntotal += L.size\n",
    "    return total_L / ntotal"
   ]
  },
  {
   "cell_type": "code",
   "execution_count": 64,
   "metadata": {
    "ExecuteTime": {
     "end_time": "2018-01-25T08:35:50.480866Z",
     "start_time": "2018-01-25T08:35:50.419347Z"
    },
    "collapsed": true
   },
   "outputs": [],
   "source": [
    "def train():\n",
    "\n",
    "    train_data = gluon.data.DataLoader(gluon.data.ArrayDataset(train_sound, train_label), batch_size=args_batch_size, shuffle=True)\n",
    "    valid_data = gluon.data.DataLoader(gluon.data.ArrayDataset(valid_sound, valid_label), batch_size=args_batch_size, shuffle=True)\n",
    "\n",
    "    for epoch in range(args_epochs):\n",
    "        total_L = 0.0\n",
    "        start_time = time.time()\n",
    "        hidden = model.begin_state(func = mx.nd.zeros, batch_size = args_batch_size, ctx = ctx)\n",
    "        for ibatch, data_and_target in enumerate(train_data):\n",
    "            data, target = data_and_target\n",
    "            \n",
    "            hidden = detach(hidden)\n",
    "            with autograd.record():\n",
    "                data = mx.nd.reshape(data, (data.shape[1], data.shape[0], 1))\n",
    "                output, hidden = model(data, hidden)\n",
    "                L = loss(output, target)\n",
    "                L.backward()\n",
    "\n",
    "            grads = [i.grad(ctx) for i in model.collect_params().values()]\n",
    "            # Here gradient is for the whole batch.\n",
    "            # So we multiply max_norm by batch_size and bptt size to balance it.\n",
    "            #gluon.utils.clip_global_norm(grads, args_clip * args_bptt * args_batch_size)\n",
    "            gluon.utils.clip_global_norm(grads, args_clip * args_batch_size)\n",
    "\n",
    "            trainer.step(args_batch_size)\n",
    "            total_L += mx.nd.sum(L).asscalar()\n",
    "\n",
    "            if ibatch % args_log_interval == 0 and ibatch > 0:\n",
    "                cur_L = total_L / args_batch_size / args_log_interval\n",
    "                print('[Epoch %d Batch %d] loss %.2f, perplexity %.2f' % (\n",
    "                    epoch + 1, ibatch, cur_L, math.exp(cur_L)))\n",
    "                total_L = 0.0\n",
    "\n",
    "        val_L = eval(val_data)\n",
    "\n",
    "        print('[Epoch %d] time cost %.2fs, validation loss %.2f, validation perplexity %.2f' % (\n",
    "            epoch + 1, time.time() - start_time, val_L, math.exp(val_L)))\n"
   ]
  },
  {
   "cell_type": "code",
   "execution_count": 65,
   "metadata": {
    "ExecuteTime": {
     "end_time": "2018-01-25T08:35:54.235125Z",
     "start_time": "2018-01-25T08:35:51.501945Z"
    }
   },
   "outputs": [
    {
     "ename": "MXNetError",
     "evalue": "Shape inconsistent, Provided=[1000,2], inferred shape=[1000,1]",
     "output_type": "error",
     "traceback": [
      "\u001b[0;31m---------------------------------------------------------------------------\u001b[0m",
      "\u001b[0;31mMXNetError\u001b[0m                                Traceback (most recent call last)",
      "\u001b[0;32m<ipython-input-65-93fd337a0d5c>\u001b[0m in \u001b[0;36m<module>\u001b[0;34m()\u001b[0m\n\u001b[0;32m----> 1\u001b[0;31m \u001b[0mtrain\u001b[0m\u001b[0;34m(\u001b[0m\u001b[0;34m)\u001b[0m\u001b[0;34m\u001b[0m\u001b[0m\n\u001b[0m",
      "\u001b[0;32m<ipython-input-64-cdde520c52ef>\u001b[0m in \u001b[0;36mtrain\u001b[0;34m()\u001b[0m\n\u001b[1;32m     15\u001b[0m                 \u001b[0mdata\u001b[0m \u001b[0;34m=\u001b[0m \u001b[0mmx\u001b[0m\u001b[0;34m.\u001b[0m\u001b[0mnd\u001b[0m\u001b[0;34m.\u001b[0m\u001b[0mreshape\u001b[0m\u001b[0;34m(\u001b[0m\u001b[0mdata\u001b[0m\u001b[0;34m,\u001b[0m \u001b[0;34m(\u001b[0m\u001b[0mdata\u001b[0m\u001b[0;34m.\u001b[0m\u001b[0mshape\u001b[0m\u001b[0;34m[\u001b[0m\u001b[0;36m1\u001b[0m\u001b[0;34m]\u001b[0m\u001b[0;34m,\u001b[0m \u001b[0mdata\u001b[0m\u001b[0;34m.\u001b[0m\u001b[0mshape\u001b[0m\u001b[0;34m[\u001b[0m\u001b[0;36m0\u001b[0m\u001b[0;34m]\u001b[0m\u001b[0;34m,\u001b[0m \u001b[0;36m1\u001b[0m\u001b[0;34m)\u001b[0m\u001b[0;34m)\u001b[0m\u001b[0;34m\u001b[0m\u001b[0m\n\u001b[1;32m     16\u001b[0m                 \u001b[0moutput\u001b[0m\u001b[0;34m,\u001b[0m \u001b[0mhidden\u001b[0m \u001b[0;34m=\u001b[0m \u001b[0mmodel\u001b[0m\u001b[0;34m(\u001b[0m\u001b[0mdata\u001b[0m\u001b[0;34m,\u001b[0m \u001b[0mhidden\u001b[0m\u001b[0;34m)\u001b[0m\u001b[0;34m\u001b[0m\u001b[0m\n\u001b[0;32m---> 17\u001b[0;31m                 \u001b[0mL\u001b[0m \u001b[0;34m=\u001b[0m \u001b[0mloss\u001b[0m\u001b[0;34m(\u001b[0m\u001b[0moutput\u001b[0m\u001b[0;34m,\u001b[0m \u001b[0mtarget\u001b[0m\u001b[0;34m)\u001b[0m\u001b[0;34m\u001b[0m\u001b[0m\n\u001b[0m\u001b[1;32m     18\u001b[0m                 \u001b[0mL\u001b[0m\u001b[0;34m.\u001b[0m\u001b[0mbackward\u001b[0m\u001b[0;34m(\u001b[0m\u001b[0;34m)\u001b[0m\u001b[0;34m\u001b[0m\u001b[0m\n\u001b[1;32m     19\u001b[0m \u001b[0;34m\u001b[0m\u001b[0m\n",
      "\u001b[0;32m/anaconda3/lib/python3.6/site-packages/mxnet/gluon/block.py\u001b[0m in \u001b[0;36m__call__\u001b[0;34m(self, *args)\u001b[0m\n\u001b[1;32m    302\u001b[0m     \u001b[0;32mdef\u001b[0m \u001b[0m__call__\u001b[0m\u001b[0;34m(\u001b[0m\u001b[0mself\u001b[0m\u001b[0;34m,\u001b[0m \u001b[0;34m*\u001b[0m\u001b[0margs\u001b[0m\u001b[0;34m)\u001b[0m\u001b[0;34m:\u001b[0m\u001b[0;34m\u001b[0m\u001b[0m\n\u001b[1;32m    303\u001b[0m         \u001b[0;34m\"\"\"Calls forward. Only accepts positional arguments.\"\"\"\u001b[0m\u001b[0;34m\u001b[0m\u001b[0m\n\u001b[0;32m--> 304\u001b[0;31m         \u001b[0;32mreturn\u001b[0m \u001b[0mself\u001b[0m\u001b[0;34m.\u001b[0m\u001b[0mforward\u001b[0m\u001b[0;34m(\u001b[0m\u001b[0;34m*\u001b[0m\u001b[0margs\u001b[0m\u001b[0;34m)\u001b[0m\u001b[0;34m\u001b[0m\u001b[0m\n\u001b[0m\u001b[1;32m    305\u001b[0m \u001b[0;34m\u001b[0m\u001b[0m\n\u001b[1;32m    306\u001b[0m     \u001b[0;32mdef\u001b[0m \u001b[0mforward\u001b[0m\u001b[0;34m(\u001b[0m\u001b[0mself\u001b[0m\u001b[0;34m,\u001b[0m \u001b[0;34m*\u001b[0m\u001b[0margs\u001b[0m\u001b[0;34m)\u001b[0m\u001b[0;34m:\u001b[0m\u001b[0;34m\u001b[0m\u001b[0m\n",
      "\u001b[0;32m/anaconda3/lib/python3.6/site-packages/mxnet/gluon/block.py\u001b[0m in \u001b[0;36mforward\u001b[0;34m(self, x, *args)\u001b[0m\n\u001b[1;32m    512\u001b[0m                     \u001b[0;32mreturn\u001b[0m \u001b[0mself\u001b[0m\u001b[0;34m.\u001b[0m\u001b[0m_call_cached_op\u001b[0m\u001b[0;34m(\u001b[0m\u001b[0mx\u001b[0m\u001b[0;34m,\u001b[0m \u001b[0;34m*\u001b[0m\u001b[0margs\u001b[0m\u001b[0;34m)\u001b[0m\u001b[0;34m\u001b[0m\u001b[0m\n\u001b[1;32m    513\u001b[0m                 \u001b[0mparams\u001b[0m \u001b[0;34m=\u001b[0m \u001b[0;34m{\u001b[0m\u001b[0mi\u001b[0m\u001b[0;34m:\u001b[0m \u001b[0mj\u001b[0m\u001b[0;34m.\u001b[0m\u001b[0mdata\u001b[0m\u001b[0;34m(\u001b[0m\u001b[0mctx\u001b[0m\u001b[0;34m)\u001b[0m \u001b[0;32mfor\u001b[0m \u001b[0mi\u001b[0m\u001b[0;34m,\u001b[0m \u001b[0mj\u001b[0m \u001b[0;32min\u001b[0m \u001b[0mself\u001b[0m\u001b[0;34m.\u001b[0m\u001b[0m_reg_params\u001b[0m\u001b[0;34m.\u001b[0m\u001b[0mitems\u001b[0m\u001b[0;34m(\u001b[0m\u001b[0;34m)\u001b[0m\u001b[0;34m}\u001b[0m\u001b[0;34m\u001b[0m\u001b[0m\n\u001b[0;32m--> 514\u001b[0;31m                 \u001b[0;32mreturn\u001b[0m \u001b[0mself\u001b[0m\u001b[0;34m.\u001b[0m\u001b[0mhybrid_forward\u001b[0m\u001b[0;34m(\u001b[0m\u001b[0mndarray\u001b[0m\u001b[0;34m,\u001b[0m \u001b[0mx\u001b[0m\u001b[0;34m,\u001b[0m \u001b[0;34m*\u001b[0m\u001b[0margs\u001b[0m\u001b[0;34m,\u001b[0m \u001b[0;34m**\u001b[0m\u001b[0mparams\u001b[0m\u001b[0;34m)\u001b[0m\u001b[0;34m\u001b[0m\u001b[0m\n\u001b[0m\u001b[1;32m    515\u001b[0m \u001b[0;34m\u001b[0m\u001b[0m\n\u001b[1;32m    516\u001b[0m         \u001b[0;32massert\u001b[0m \u001b[0misinstance\u001b[0m\u001b[0;34m(\u001b[0m\u001b[0mx\u001b[0m\u001b[0;34m,\u001b[0m \u001b[0mSymbol\u001b[0m\u001b[0;34m)\u001b[0m\u001b[0;34m,\u001b[0m\u001b[0;31m \u001b[0m\u001b[0;31m\\\u001b[0m\u001b[0;34m\u001b[0m\u001b[0m\n",
      "\u001b[0;32m/anaconda3/lib/python3.6/site-packages/mxnet/gluon/loss.py\u001b[0m in \u001b[0;36mhybrid_forward\u001b[0;34m(self, F, pred, label, sample_weight)\u001b[0m\n\u001b[1;32m    312\u001b[0m             \u001b[0mpred\u001b[0m \u001b[0;34m=\u001b[0m \u001b[0mF\u001b[0m\u001b[0;34m.\u001b[0m\u001b[0mlog_softmax\u001b[0m\u001b[0;34m(\u001b[0m\u001b[0mpred\u001b[0m\u001b[0;34m,\u001b[0m \u001b[0mself\u001b[0m\u001b[0;34m.\u001b[0m\u001b[0m_axis\u001b[0m\u001b[0;34m)\u001b[0m\u001b[0;34m\u001b[0m\u001b[0m\n\u001b[1;32m    313\u001b[0m         \u001b[0;32mif\u001b[0m \u001b[0mself\u001b[0m\u001b[0;34m.\u001b[0m\u001b[0m_sparse_label\u001b[0m\u001b[0;34m:\u001b[0m\u001b[0;34m\u001b[0m\u001b[0m\n\u001b[0;32m--> 314\u001b[0;31m             \u001b[0mloss\u001b[0m \u001b[0;34m=\u001b[0m \u001b[0;34m-\u001b[0m\u001b[0mF\u001b[0m\u001b[0;34m.\u001b[0m\u001b[0mpick\u001b[0m\u001b[0;34m(\u001b[0m\u001b[0mpred\u001b[0m\u001b[0;34m,\u001b[0m \u001b[0mlabel\u001b[0m\u001b[0;34m,\u001b[0m \u001b[0maxis\u001b[0m\u001b[0;34m=\u001b[0m\u001b[0mself\u001b[0m\u001b[0;34m.\u001b[0m\u001b[0m_axis\u001b[0m\u001b[0;34m,\u001b[0m \u001b[0mkeepdims\u001b[0m\u001b[0;34m=\u001b[0m\u001b[0;32mTrue\u001b[0m\u001b[0;34m)\u001b[0m\u001b[0;34m\u001b[0m\u001b[0m\n\u001b[0m\u001b[1;32m    315\u001b[0m         \u001b[0;32melse\u001b[0m\u001b[0;34m:\u001b[0m\u001b[0;34m\u001b[0m\u001b[0m\n\u001b[1;32m    316\u001b[0m             \u001b[0mlabel\u001b[0m \u001b[0;34m=\u001b[0m \u001b[0m_reshape_like\u001b[0m\u001b[0;34m(\u001b[0m\u001b[0mF\u001b[0m\u001b[0;34m,\u001b[0m \u001b[0mlabel\u001b[0m\u001b[0;34m,\u001b[0m \u001b[0mpred\u001b[0m\u001b[0;34m)\u001b[0m\u001b[0;34m\u001b[0m\u001b[0m\n",
      "\u001b[0;32m/anaconda3/lib/python3.6/site-packages/mxnet/ndarray/register.py\u001b[0m in \u001b[0;36mpick\u001b[0;34m(data, index, axis, keepdims, out, name, **kwargs)\u001b[0m\n",
      "\u001b[0;32m/anaconda3/lib/python3.6/site-packages/mxnet/_ctypes/ndarray.py\u001b[0m in \u001b[0;36m_imperative_invoke\u001b[0;34m(handle, ndargs, keys, vals, out)\u001b[0m\n\u001b[1;32m     90\u001b[0m         \u001b[0mc_str_array\u001b[0m\u001b[0;34m(\u001b[0m\u001b[0mkeys\u001b[0m\u001b[0;34m)\u001b[0m\u001b[0;34m,\u001b[0m\u001b[0;34m\u001b[0m\u001b[0m\n\u001b[1;32m     91\u001b[0m         \u001b[0mc_str_array\u001b[0m\u001b[0;34m(\u001b[0m\u001b[0;34m[\u001b[0m\u001b[0mstr\u001b[0m\u001b[0;34m(\u001b[0m\u001b[0ms\u001b[0m\u001b[0;34m)\u001b[0m \u001b[0;32mfor\u001b[0m \u001b[0ms\u001b[0m \u001b[0;32min\u001b[0m \u001b[0mvals\u001b[0m\u001b[0;34m]\u001b[0m\u001b[0;34m)\u001b[0m\u001b[0;34m,\u001b[0m\u001b[0;34m\u001b[0m\u001b[0m\n\u001b[0;32m---> 92\u001b[0;31m         ctypes.byref(out_stypes)))\n\u001b[0m\u001b[1;32m     93\u001b[0m \u001b[0;34m\u001b[0m\u001b[0m\n\u001b[1;32m     94\u001b[0m     \u001b[0;32mif\u001b[0m \u001b[0moriginal_output\u001b[0m \u001b[0;32mis\u001b[0m \u001b[0;32mnot\u001b[0m \u001b[0;32mNone\u001b[0m\u001b[0;34m:\u001b[0m\u001b[0;34m\u001b[0m\u001b[0m\n",
      "\u001b[0;32m/anaconda3/lib/python3.6/site-packages/mxnet/base.py\u001b[0m in \u001b[0;36mcheck_call\u001b[0;34m(ret)\u001b[0m\n\u001b[1;32m    144\u001b[0m     \"\"\"\n\u001b[1;32m    145\u001b[0m     \u001b[0;32mif\u001b[0m \u001b[0mret\u001b[0m \u001b[0;34m!=\u001b[0m \u001b[0;36m0\u001b[0m\u001b[0;34m:\u001b[0m\u001b[0;34m\u001b[0m\u001b[0m\n\u001b[0;32m--> 146\u001b[0;31m         \u001b[0;32mraise\u001b[0m \u001b[0mMXNetError\u001b[0m\u001b[0;34m(\u001b[0m\u001b[0mpy_str\u001b[0m\u001b[0;34m(\u001b[0m\u001b[0m_LIB\u001b[0m\u001b[0;34m.\u001b[0m\u001b[0mMXGetLastError\u001b[0m\u001b[0;34m(\u001b[0m\u001b[0;34m)\u001b[0m\u001b[0;34m)\u001b[0m\u001b[0;34m)\u001b[0m\u001b[0;34m\u001b[0m\u001b[0m\n\u001b[0m\u001b[1;32m    147\u001b[0m \u001b[0;34m\u001b[0m\u001b[0m\n\u001b[1;32m    148\u001b[0m \u001b[0;34m\u001b[0m\u001b[0m\n",
      "\u001b[0;31mMXNetError\u001b[0m: Shape inconsistent, Provided=[1000,2], inferred shape=[1000,1]"
     ]
    }
   ],
   "source": [
    "train()"
   ]
  },
  {
   "cell_type": "code",
   "execution_count": null,
   "metadata": {
    "collapsed": true
   },
   "outputs": [],
   "source": []
  }
 ],
 "metadata": {
  "kernelspec": {
   "display_name": "Python 3",
   "language": "python",
   "name": "python3"
  },
  "language_info": {
   "codemirror_mode": {
    "name": "ipython",
    "version": 3
   },
   "file_extension": ".py",
   "mimetype": "text/x-python",
   "name": "python",
   "nbconvert_exporter": "python",
   "pygments_lexer": "ipython3",
   "version": "3.6.2"
  }
 },
 "nbformat": 4,
 "nbformat_minor": 2
}
